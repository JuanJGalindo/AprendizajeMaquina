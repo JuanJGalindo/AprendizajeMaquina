{
  "nbformat": 4,
  "nbformat_minor": 0,
  "metadata": {
    "colab": {
      "private_outputs": true,
      "provenance": [],
      "authorship_tag": "ABX9TyOAMOmInGXS2wgn0jl6Ak+t",
      "include_colab_link": true
    },
    "kernelspec": {
      "name": "python3",
      "display_name": "Python 3"
    },
    "language_info": {
      "name": "python"
    }
  },
  "cells": [
    {
      "cell_type": "markdown",
      "metadata": {
        "id": "view-in-github",
        "colab_type": "text"
      },
      "source": [
        "<a href=\"https://colab.research.google.com/github/amalvarezme/AprendizajeMaquina/blob/main/Parciales/AyudaParcial1TAM_20241.ipynb\" target=\"_parent\"><img src=\"https://colab.research.google.com/assets/colab-badge.svg\" alt=\"Open In Colab\"/></a>"
      ]
    },
    {
      "cell_type": "code",
      "execution_count": null,
      "metadata": {
        "id": "xzefHzEBtQ7l"
      },
      "outputs": [],
      "source": [
        "import numpy as np\n",
        "import matplotlib.pyplot as plt\n",
        "\n",
        "N = 700\n",
        "x_n = np.linspace(0,24*np.pi,N)\n",
        "t_n = np.cos(x_n/3)+np.cos(x_n/4)\n",
        "#SNR\n",
        "var_r = 0.3\n",
        "t_nr = t_n + np.sqrt(var_r)*np.random.randn(N)\n",
        "plt.plot(x_n,t_n,label='$t_n^*$',c='r',linewidth=4)\n",
        "plt.scatter(x_n,t_nr,label='$t_n$')\n",
        "plt.legend()\n",
        "plt.show()"
      ]
    },
    {
      "cell_type": "code",
      "source": [
        "#mapeo no lineal\n",
        "from sklearn.preprocessing import PolynomialFeatures\n",
        "from sklearn.model_selection import train_test_split\n",
        "\n",
        "X_train, X_test, t_train, t_test = train_test_split(x_n.reshape(-1,1), t_nr.reshape(-1,1),\n",
        "                                                    test_size=200/N, random_state=42)\n",
        "\n",
        "print(X_train.shape,X_test.shape,t_train.shape,t_test.shape)"
      ],
      "metadata": {
        "id": "V1K35Imcthge"
      },
      "execution_count": null,
      "outputs": []
    },
    {
      "cell_type": "code",
      "source": [
        "#def my_mincua():\n",
        "#return w\n",
        "\n",
        "#def my_map():\n",
        "#return\n",
        "\n",
        "#..."
      ],
      "metadata": {
        "id": "-JSdXsoNw2c_"
      },
      "execution_count": null,
      "outputs": []
    },
    {
      "cell_type": "code",
      "source": [],
      "metadata": {
        "id": "8lEzTmUPw-9m"
      },
      "execution_count": null,
      "outputs": []
    }
  ]
}