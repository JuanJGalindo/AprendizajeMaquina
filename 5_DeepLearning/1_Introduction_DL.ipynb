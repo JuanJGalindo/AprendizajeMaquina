{
  "nbformat": 4,
  "nbformat_minor": 0,
  "metadata": {
    "kernelspec": {
      "display_name": "Python 3",
      "language": "python",
      "name": "python3"
    },
    "language_info": {
      "codemirror_mode": {
        "name": "ipython",
        "version": 3
      },
      "file_extension": ".py",
      "mimetype": "text/x-python",
      "name": "python",
      "nbconvert_exporter": "python",
      "pygments_lexer": "ipython3",
      "version": "3.7.6"
    },
    "colab": {
      "name": "Introduction to Artificial Neural Networks.ipynb",
      "provenance": [],
      "include_colab_link": true
    }
  },
  "cells": [
    {
      "cell_type": "markdown",
      "metadata": {
        "id": "view-in-github",
        "colab_type": "text"
      },
      "source": [
        "<a href=\"https://colab.research.google.com/github/amalvarezme/AprendizajeMaquina/blob/main/5_DeepLearning/1_Introduction_DL.ipynb\" target=\"_parent\"><img src=\"https://colab.research.google.com/assets/colab-badge.svg\" alt=\"Open In Colab\"/></a>"
      ]
    },
    {
      "cell_type": "markdown",
      "metadata": {
        "id": "8SaSInnK0Z-5"
      },
      "source": [
        "# Introducción a las redes neuronales profundas\n",
        "\n",
        "- Se presentan los principios básicos de funcionamiento de las redes neuronales a partir del perceptrón simple hasta perceptrones multicapa.\n",
        "\n",
        "- Se implementan arquitecturas secuenciales utilizando la librería [TensorFlow](https://www.tensorflow.org/overview?hl=es-419) y la [API Keras](https://keras.io/)."
      ]
    },
    {
      "cell_type": "markdown",
      "metadata": {
        "id": "hNX1RPc_1B0s"
      },
      "source": [
        "## Perceptrón\n",
        "\n",
        "- El perceptrón presenta un modelo lineal de la forma:\n",
        "\n",
        "$$\\hat{y} = {\\rm{sign}}(\\mathbf{w}^\\top \\mathbf{x}) $$\n",
        "\n",
        "- Para optimizarlo, se plantea un algoritmo de gradiente descendiente estocástico:\n",
        "\n",
        "$$\\mathbf{w}^* = \\arg\\max_{\\mathbf{w}} - \\sum_{\\mathbf{x}_n\\in \\mathbf{X}}\\langle \\mathbf{w}^\\top \\mathbf{x}_n ,y_n\\rangle$$\n",
        "\n",
        "$$\\mathbf{w}_i =\\mathbf{w}_{i-1}-\\eta_i \\mathbf{x}_ny_n$$\n",
        "\n",
        "donde $\\mathbf{x}_n,\\mathbf{w}\\in\\mathbb{R}^P$ corresponde a la $n$-ésima muestra y al vector de pesos; $y_n\\in\\{-1,+1\\}$ son las etiquetas objetivo, y $\\eta_i\\in \\mathbb{R}^+$ es el hiperparámetro tasa de aprendizaje (learning rate)."
      ]
    },
    {
      "cell_type": "markdown",
      "metadata": {
        "id": "XByP4Wyx1B0s"
      },
      "source": [
        "**Scikit-Learn** proporciona una clase *Perceptron* que implementa una única red."
      ]
    },
    {
      "cell_type": "code",
      "metadata": {
        "id": "6SySVUDl1B0s"
      },
      "source": [
        "import numpy as np\n",
        "from sklearn.datasets import load_iris\n",
        "from sklearn.linear_model import Perceptron\n",
        "\n",
        "iris = load_iris()\n",
        "X    = iris.data[:, (2, 3)]  # petal length, petal width\n",
        "y    = (iris.target == 0)/1.0\n",
        "\n",
        "per_clf = Perceptron(max_iter=1000, tol=1e-3, random_state=42)\n",
        "per_clf.fit(X, y)\n",
        "\n",
        "y_pred = per_clf.predict([[2, 0.5]])\n",
        "print(X.shape)\n",
        "print(y.shape)"
      ],
      "execution_count": null,
      "outputs": []
    },
    {
      "cell_type": "code",
      "metadata": {
        "id": "rbzY3xip1B0s"
      },
      "source": [
        "y_pred"
      ],
      "execution_count": null,
      "outputs": []
    },
    {
      "cell_type": "markdown",
      "metadata": {
        "id": "yR8hVhE29G85"
      },
      "source": [
        "- Se presenta la frontera de decisión mediante la curva $f(\\mathbf{x})=0$."
      ]
    },
    {
      "cell_type": "code",
      "metadata": {
        "id": "PXlu1cTt1B0s"
      },
      "source": [
        "# Graficar fronteras de decisión\n",
        "#---------------------------\n",
        "import matplotlib.pyplot as plt\n",
        "\n",
        "a      = -per_clf.coef_[0][0] / per_clf.coef_[0][1]\n",
        "b      = -per_clf.intercept_ / per_clf.coef_[0][1]\n",
        "axes   = [0, 5, 0, 2]\n",
        "x0, x1 = np.meshgrid(\n",
        "        np.linspace(axes[0], axes[1], 500).reshape(-1, 1),\n",
        "        np.linspace(axes[2], axes[3], 200).reshape(-1, 1),\n",
        "    )\n",
        "X_new     = np.c_[x0.ravel(), x1.ravel()]\n",
        "y_predict = per_clf.predict(X_new)\n",
        "zz        = y_predict.reshape(x0.shape)\n",
        "\n",
        "plt.figure(figsize=(10, 4))\n",
        "plt.plot(X[y==0, 0], X[y==0, 1], \"bs\", label=\"Not Iris-Setosa\")\n",
        "plt.plot(X[y==1, 0], X[y==1, 1], \"yo\", label=\"Iris-Setosa\")\n",
        "\n",
        "plt.plot([axes[0], axes[1]], [a * axes[0] + b, a * axes[1] + b], \"k-\", linewidth=3)\n",
        "\n",
        "from matplotlib.colors import ListedColormap\n",
        "custom_cmap = ListedColormap(['#9898ff', '#fafab0'])\n",
        "\n",
        "plt.contourf(x0, x1, zz, cmap=custom_cmap)\n",
        "plt.xlabel(\"Petal length\", fontsize=14)\n",
        "plt.ylabel(\"Petal width\", fontsize=14)\n",
        "plt.legend(loc=\"lower right\", fontsize=14)\n",
        "plt.axis(axes)\n",
        "\n",
        "#save_fig(\"perceptron_iris_plot\")\n",
        "plt.show()"
      ],
      "execution_count": null,
      "outputs": []
    },
    {
      "cell_type": "markdown",
      "metadata": {
        "id": "HlRoX5i21B0s"
      },
      "source": [
        "El **algoritmo de aprendizaje** de Perceptron se parece mucho al **SGD**. De hecho, la clase de *Perceptron* de Scikit-Learn es equivalente a usar *SGDClassifier* con los siguientes hiperparámetros:\n",
        "- *loss*          = \"perceptron\",\n",
        "- *learning_rate* = \"constant\",\n",
        "- *eta0*          = 1 (la tasa de aprendizaje) y\n",
        "- *penalty*       = \"None\" (sin regularización)."
      ]
    },
    {
      "cell_type": "markdown",
      "metadata": {
        "id": "NaDKRRFj1B0t"
      },
      "source": [
        "- Tengamos en cuenta que, al **contrario de los clasificadores de regresión logística**, los perceptrones **no generan una probabilidad de clase; más bien, solo hacen predicciones basadas en un umbral de decisión - distancia a la frontera**.\n",
        "\n",
        "- Esta es una de las buenas razones para preferir la Regresión logística sobre los Perceptrones."
      ]
    },
    {
      "cell_type": "markdown",
      "metadata": {
        "id": "mIvP8USV1B0t"
      },
      "source": [
        "## Funciones de activación\n",
        "\n",
        "- En general, un modelo de redes neuronales profundas, se pueden ver como una función compuesta, mediante productos lineales en cascada con funciones de activación no lineal.\n",
        "\n",
        "- La función signo y la función escalón, presentan discontinuidades de primer orden, lo que inestabiliza sus gradientes.\n",
        "\n",
        "- Por ende, se prefiere trabajar con funciones sigmoide, relu, y tanh:\n",
        "\n",
        "  $${\\rm{sigmoid}}(x)=\\frac{1}{1+e^{-x}}$$\n",
        "\n",
        "  $${\\rm{relu}}(x)=\\max(0,x)$$\n",
        "\n",
        "  $${\\rm{tanh}}(x)=\\frac{e^x-e^{-x}}{e^x+e^{-x}}$$\n"
      ]
    },
    {
      "cell_type": "code",
      "metadata": {
        "id": "r_5NTAfO1B0t"
      },
      "source": [
        "def sigmoid(z):\n",
        "    return 1 / (1 + np.exp(-z))\n",
        "\n",
        "def relu(z):\n",
        "    return np.maximum(0, z)\n",
        "\n",
        "def derivative(f, z, eps=0.000001):#se presentan las derivadas numéricas\n",
        "    return (f(z + eps) - f(z - eps))/(2 * eps)"
      ],
      "execution_count": null,
      "outputs": []
    },
    {
      "cell_type": "code",
      "metadata": {
        "id": "p1cb1VqR1B0t"
      },
      "source": [
        "z = np.linspace(-5, 5, 200)\n",
        "\n",
        "plt.figure(figsize=(11,4))\n",
        "\n",
        "plt.subplot(121)\n",
        "plt.plot(z, np.sign(z), \"r-\", linewidth=1, label=\"Step\")\n",
        "plt.plot(z, sigmoid(z), \"g--\", linewidth=2, label=\"Sigmoid\")\n",
        "plt.plot(z, np.tanh(z), \"b-\", linewidth=2, label=\"Tanh\")\n",
        "plt.plot(z, relu(z), \"m-.\", linewidth=2, label=\"ReLU\")\n",
        "plt.grid(True)\n",
        "plt.legend(loc=\"center right\", fontsize=14)\n",
        "plt.title(\"Activation functions\", fontsize=14)\n",
        "plt.axis([-5, 5, -1.2, 1.2])\n",
        "\n",
        "plt.subplot(122)\n",
        "plt.plot(z, derivative(np.sign, z), \"r-\", linewidth=1, label=\"Step\")\n",
        "plt.plot(0, 0, \"ro\", markersize=5)\n",
        "plt.plot(0, 0, \"rx\", markersize=10)\n",
        "plt.plot(z, derivative(sigmoid, z), \"g--\", linewidth=2, label=\"Sigmoid\")\n",
        "plt.plot(z, derivative(np.tanh, z), \"b-\", linewidth=2, label=\"Tanh\")\n",
        "plt.plot(z, derivative(relu, z), \"m-.\", linewidth=2, label=\"ReLU\")\n",
        "plt.grid(True)\n",
        "#plt.legend(loc=\"center right\", fontsize=14)\n",
        "plt.title(\"Derivatives\", fontsize=14)\n",
        "plt.axis([-5, 5, -0.2, 1.2])\n",
        "\n",
        "#save_fig(\"activation_functions_plot\")\n",
        "plt.show()"
      ],
      "execution_count": null,
      "outputs": []
    },
    {
      "cell_type": "markdown",
      "source": [
        "# Del perceptrón simple al perceptrón multicapa y las redes profundas.\n",
        "\n",
        "- Utilizando el mismo  principio del perceptrón, se pueden apilar varias capas (perceptrón multicapa) para mejorar la representación de los datos:\n",
        "\n",
        "![mlp](https://github.com/amalvarezme/AnaliticaDatos/blob/master/5_Aprendizaje_Profundo/mlp.png?raw=1)\n",
        "\n",
        "- En este sentido, una buena combianción de capas y neuronas (depurar el espacio de representación) junto con activación apropiadas (codificar patrones no lineales), permite encontrar estructuras relevantes de datos bajo un esquema de optimización por gradiente descendiente (escalable y paralelizable).\n",
        "\n",
        "- Ver [plataforma playground TensorFlow](https://playground.tensorflow.org/) para manipular distintas configuración del perceptrón multicapa.\n",
        "\n",
        "- En general, la capacidad de representación de los modelos profundos (deep learning por sus siglas en inglés), al apilar distintas capas, neuronas, y activación, se soporta bajo cuatro aspectos principales:\n",
        "\n",
        "  -- Buena disponibilidad de datos de proceso.\n",
        "\n",
        "  -- Optimización mediante gradiente descendiente y el algoritmo backpropagation.\n",
        "\n",
        "  -- Paralelización de los procesos de optimización mediante, [CPU](https://en.wikipedia.org/wiki/Central_processing_unit), [GPU](https://en.wikipedia.org/wiki/Graphics_processing_unit) y [TPU](https://en.wikipedia.org/wiki/Tensor_Processing_Unit).\n",
        "\n",
        "  -- **NO** se requiere calcular derivadas simbólicas, en cambio, se estiman mediante [derivación automática](https://github.com/amalvarezme/AprendizajeMaquina/blob/main/5_DeepLearning/2_Autodiff.pdf)"
      ],
      "metadata": {
        "id": "srveVnS4PaBV"
      }
    },
    {
      "cell_type": "markdown",
      "metadata": {
        "id": "THy4H-Bp1B0t"
      },
      "source": [
        "## Construyendo un clasificador de imágenes"
      ]
    },
    {
      "cell_type": "markdown",
      "metadata": {
        "id": "ZHUWUpMF1B0t"
      },
      "source": [
        "- Ahora extenderemos el perceptrón simple, a arquitecturas más complejas que puedan ser paralelizadas mediante GPU utilizando TensorFlow y Keras, y que además permitan el cálculo automático de las derivadas."
      ]
    },
    {
      "cell_type": "code",
      "metadata": {
        "id": "qixVppb61B0t"
      },
      "source": [
        "import tensorflow as tf\n",
        "from tensorflow import keras"
      ],
      "execution_count": null,
      "outputs": []
    },
    {
      "cell_type": "code",
      "metadata": {
        "id": "9-y1bR8v1B0t"
      },
      "source": [
        "tf.__version__"
      ],
      "execution_count": null,
      "outputs": []
    },
    {
      "cell_type": "markdown",
      "metadata": {
        "id": "bgOl7yi91B0t"
      },
      "source": [
        "- Comencemos cargando el conjunto de datos **Fashion MNIST**.\n",
        "\n",
        "- Keras tiene una serie de funciones para cargar conjuntos de datos populares en *keras.datasets*.\n",
        "\n",
        "- El conjunto de datos ya está dividido entre un **conjunto de entrenamiento** y un **conjunto de prueba**, pero puede ser útil dividir aún más el conjunto de entrenamiento para tener un **conjunto de validación**:"
      ]
    },
    {
      "cell_type": "code",
      "metadata": {
        "id": "UKNCE16r1B0u"
      },
      "source": [
        "fashion_mnist = keras.datasets.fashion_mnist #cargar fashion mnist\n",
        "(X_train_full, y_train_full), (X_test, y_test) = fashion_mnist.load_data()"
      ],
      "execution_count": null,
      "outputs": []
    },
    {
      "cell_type": "markdown",
      "metadata": {
        "id": "8qDmXolS1B0u"
      },
      "source": [
        "El **conjunto de entrenamiento** contiene 60,000 imágenes en escala de grises, cada una de $28\\times 28$ píxeles:"
      ]
    },
    {
      "cell_type": "code",
      "metadata": {
        "id": "6YvrfWyu1B0u"
      },
      "source": [
        "X_train_full.shape"
      ],
      "execution_count": null,
      "outputs": []
    },
    {
      "cell_type": "markdown",
      "metadata": {
        "id": "w18nX6bs1B0u"
      },
      "source": [
        "Cada intensidad de píxel se representa como un byte (0 a 255):"
      ]
    },
    {
      "cell_type": "code",
      "metadata": {
        "id": "E19KJL7R1B0u"
      },
      "source": [
        "X_train_full.dtype"
      ],
      "execution_count": null,
      "outputs": []
    },
    {
      "cell_type": "markdown",
      "metadata": {
        "id": "S4CTSIJG1B0u"
      },
      "source": [
        "- Dividamos el **conjunto de entrenamiento** completo en un **conjunto de validación** y un conjunto de entrenamiento (*más pequeño*) mediante la estrategia de validación HoldOut.\n",
        "\n",
        "- También **escalamos las intensidades de píxeles hasta el rango 0-1** y las convertimos en flotantes, dividiéndolas por 255."
      ]
    },
    {
      "cell_type": "code",
      "metadata": {
        "id": "XC5i4UUm1B0u"
      },
      "source": [
        "X_valid, X_train = X_train_full[:5000] / 255., X_train_full[5000:] / 255.\n",
        "y_valid, y_train = y_train_full[:5000], y_train_full[5000:]\n",
        "X_test = X_test / 255."
      ],
      "execution_count": null,
      "outputs": []
    },
    {
      "cell_type": "markdown",
      "metadata": {
        "id": "Uyh8aycM1B0u"
      },
      "source": [
        "Se puede graficar una imagen usando la función *imshow()* de Matplotlib, con un mapa de color 'binario':"
      ]
    },
    {
      "cell_type": "code",
      "metadata": {
        "id": "TzA3vc261B0u"
      },
      "source": [
        "plt.imshow(X_train[0], cmap=\"binary\")\n",
        "plt.axis('off')\n",
        "plt.show()"
      ],
      "execution_count": null,
      "outputs": []
    },
    {
      "cell_type": "markdown",
      "metadata": {
        "id": "w5TRUkA91B0u"
      },
      "source": [
        "Las etiquetas son los ID de clase (representados como *uint8*), de 0 a 9:"
      ]
    },
    {
      "cell_type": "code",
      "metadata": {
        "id": "cqzew4nY1B0u"
      },
      "source": [
        "y_train"
      ],
      "execution_count": null,
      "outputs": []
    },
    {
      "cell_type": "markdown",
      "metadata": {
        "id": "ysOXLzwS1B0u"
      },
      "source": [
        "Aquí están los nombres de clase correspondientes:"
      ]
    },
    {
      "cell_type": "code",
      "metadata": {
        "id": "hMdv-pGd1B0u"
      },
      "source": [
        "class_names = [\"T-shirt/top\", \"Trouser\", \"Pullover\", \"Dress\", \"Coat\",\n",
        "               \"Sandal\", \"Shirt\", \"Sneaker\", \"Bag\", \"Ankle boot\"]"
      ],
      "execution_count": null,
      "outputs": []
    },
    {
      "cell_type": "markdown",
      "metadata": {
        "id": "3H350kEh1B0u"
      },
      "source": [
        "Entonces, la primera imagen en el conjunto de entrenamiento es un abrigo:"
      ]
    },
    {
      "cell_type": "code",
      "metadata": {
        "id": "v-mFz1Hz1B0u"
      },
      "source": [
        "class_names[y_train[0]]"
      ],
      "execution_count": null,
      "outputs": []
    },
    {
      "cell_type": "markdown",
      "metadata": {
        "id": "3HOEA15M1B0u"
      },
      "source": [
        "El **conjunto de validación** contiene 5,000 imágenes, y el **conjunto de prueba** contiene 10,000 imágenes:"
      ]
    },
    {
      "cell_type": "code",
      "metadata": {
        "id": "SeRb9Fef1B0u"
      },
      "source": [
        "X_valid.shape"
      ],
      "execution_count": null,
      "outputs": []
    },
    {
      "cell_type": "code",
      "metadata": {
        "id": "fFhuz0sd1B0u"
      },
      "source": [
        "X_test.shape"
      ],
      "execution_count": null,
      "outputs": []
    },
    {
      "cell_type": "markdown",
      "metadata": {
        "id": "4i4HVUNJ1B0u"
      },
      "source": [
        "Echemos un vistazo a una muestra de las imágenes en el conjunto de datos:"
      ]
    },
    {
      "cell_type": "code",
      "metadata": {
        "id": "BWPkwYcK1B0u"
      },
      "source": [
        "n_rows = 4\n",
        "n_cols = 10\n",
        "plt.figure(figsize=(n_cols * 1.2, n_rows * 1.2))\n",
        "for row in range(n_rows):\n",
        "    for col in range(n_cols):\n",
        "        index = n_cols * row + col\n",
        "        plt.subplot(n_rows, n_cols, index + 1)\n",
        "        plt.imshow(X_train[index], cmap=\"binary\", interpolation=\"nearest\")\n",
        "        plt.axis('off')\n",
        "        plt.title(class_names[y_train[index]], fontsize=12)\n",
        "plt.subplots_adjust(wspace=0.2, hspace=0.5)\n",
        "#save_fig('fashion_mnist_plot', tight_layout=False)\n",
        "plt.show()"
      ],
      "execution_count": null,
      "outputs": []
    },
    {
      "cell_type": "markdown",
      "metadata": {
        "id": "KQ6263_K1B0v"
      },
      "source": [
        "## Crear el modelo usando la API secuencial\n",
        "\n",
        "- ¡Ahora construyamos la red neuronal!.\n",
        "\n",
        "- Se implementará un perceptrón multicapa (MLP por sus siglas en inglés), con dos capas ocultas:"
      ]
    },
    {
      "cell_type": "code",
      "metadata": {
        "id": "4FyGh93f1B0v"
      },
      "source": [
        "model = keras.models.Sequential()\n",
        "model.add(keras.layers.Flatten(input_shape=[28, 28]))#capa de aplanado->convierte imagen en vector\n",
        "model.add(keras.layers.Dense(300, activation=\"relu\"))#capa densa con 300 neuronas y función de activación relu\n",
        "model.add(keras.layers.Dense(100, activation=\"relu\"))\n",
        "model.add(keras.layers.Dense(10, activation=\"softmax\"))#la capa de salida utiliza una softmax"
      ],
      "execution_count": null,
      "outputs": []
    },
    {
      "cell_type": "markdown",
      "metadata": {
        "id": "ansMCOTB1B0v"
      },
      "source": [
        "Veamos este código línea por línea:\n",
        "- La primera línea crea un modelo secuencial. Este es el tipo más simple de modelo Keras, para redes neuronales que están compuestas de una sola pila de capas, conectadas secuencialmente. Esto se llama la **API secuencial**.\n",
        "\n",
        "- Luego, construimos la primera capa y la agregamos al modelo. Es una capa Flatten cuyo papel es simplemente convertir cada imagen de entrada en una matriz 1D. Alternativamente, puede agregar un keras.layers.InputLayer como la primera capa, estableciendo $shape = [28,28]$.\n",
        "\n",
        "- A continuación, agregamos una capa oculta densa con 300 neuronas. Utilizará la función de activación ReLU. Cada capa densa gestiona su propia matriz de peso, que contiene todos los pesos de conexión entre las neuronas y sus entradas. También gestiona un vector de términos de sesgo (uno por neurona).\n",
        "\n",
        "- A continuación, agregamos una segunda capa oculta densa con 100 neuronas, que también utiliza la función de activación ReLU.\n",
        "\n",
        "- Finalmente, agregamos una capa de salida densa con 10 neuronas (una por clase), usando la función de activación softmax (porque las clases son exclusivas).\n",
        "\n",
        "**Nota**: La activación softmax se puede entender como una generalización de la sigmoid para problemas multiclase, para estimar la probabilidad de membresia $\\hat{p}(A_c|\\mathbf{x})$:\n",
        "\n",
        "$${\\rm{softmax}}(\\mathbf{z})= \\left\\{\\sigma({z}_c)=\\frac{e^{z_c}}{\\sum\\nolimits_{k=1}^C e^{z_k}}\\right\\}$$\n",
        "donde $\\sigma(z_c)\\in[0,1]$ y $\\sum_{c=1}^C \\sigma(z_c)=1$.\n",
        "\n"
      ]
    },
    {
      "cell_type": "code",
      "metadata": {
        "id": "LZANNVvH1B0v"
      },
      "source": [
        "keras.backend.clear_session() #se sugiere limpiar la sesión para liberar los grafos computacionales\n",
        "np.random.seed(42) #se fija semilla de numpy y tf\n",
        "tf.random.set_seed(42)"
      ],
      "execution_count": null,
      "outputs": []
    },
    {
      "cell_type": "markdown",
      "metadata": {
        "id": "z98DX3KC1B0v"
      },
      "source": [
        "En lugar de agregar las capas una por una como acabamos de hacer, se puede **pasar una lista de capas al crear el modelo secuencial**:"
      ]
    },
    {
      "cell_type": "code",
      "metadata": {
        "id": "VtvPn8dR1B0v"
      },
      "source": [
        "model = keras.models.Sequential([\n",
        "    keras.layers.Flatten(input_shape=[28, 28]),\n",
        "    keras.layers.Dense(300, activation=\"relu\"),\n",
        "    keras.layers.Dense(100, activation=\"relu\"),\n",
        "    keras.layers.Dense(10, activation=\"softmax\")\n",
        "])"
      ],
      "execution_count": null,
      "outputs": []
    },
    {
      "cell_type": "markdown",
      "metadata": {
        "id": "pTTJ_HieBOPL"
      },
      "source": [
        "- Las capas quedan guardadas en un grafo computacional para facilitar el cálculo de derivadas automáticas y la paralelización en GPU/TPU."
      ]
    },
    {
      "cell_type": "code",
      "metadata": {
        "id": "NYBjmHaY1B0v"
      },
      "source": [
        "model.layers"
      ],
      "execution_count": null,
      "outputs": []
    },
    {
      "cell_type": "markdown",
      "metadata": {
        "id": "7lT8tvGxBjtT"
      },
      "source": [
        "# Modelo y optimización en aprendizaje profundo\n",
        "\n",
        "- En general, un modelo de aprendizaje profundo se puede escribir como una función compuesta de la forma:\n",
        "\n",
        "$$\\hat{y}=(f_L\\circ f_{L-1}\\circ\\cdots\\circ f_1)(\\mathbf{x})$$\n",
        "\n",
        "donde $L$ representa el número de capas y:\n",
        "\n",
        "$$\\mathbf{z}_l=f_l(\\mathbf{z}_{l-1})=\\varphi(\\mathbf{z}_{l-1}\\mathbf{W}_{l}+\\mathbf{b}_l)$$\n",
        "donde $\\varphi(\\cdot)$ es una función de activación, $\\mathbf{W}_{l}\\in\\mathbb{R}^{Q_{l-1}\\times Q_{l}},$ $\\mathbf{b}_{l}\\in\\mathbb{R}^{Q_{l}},$ $\\mathbf{z}_l\\in\\mathbb{R}^{Q_l}$ y $Q_l$ representa la cantidad de neuronas en la $l$-ésima capa.\n",
        "\n",
        "- A partir del modelo planteado, se puede generar el siguiente problema de optimización:\n",
        "\n",
        "$$\\theta^* = \\arg\\min_{\\theta} \\mathbb{E}\\{\\mathscr{L}(y_n,\\hat{y}_n|\\theta): \\forall n \\in \\{1,2,\\dots,N\\}\\}$$\n",
        "donde $\\theta = \\{\\mathbf{W}_l,\\mathbf{b}_l\\}^L_{l=1}$ contiene el set de parámetros de la red y $\\mathscr{L}(\\cdot,\\cdot|\\theta)$ es una función de costo dada.\n",
        "\n"
      ]
    },
    {
      "cell_type": "markdown",
      "metadata": {
        "id": "YkyzLZZ2BbdC"
      },
      "source": [
        "- Se puede resumir la arquitectura y presentar mediante diagrama de bloques:"
      ]
    },
    {
      "cell_type": "code",
      "metadata": {
        "id": "zxNgppsk1B0v"
      },
      "source": [
        "model.summary() #resumen con numero de parámetros y entradas-salidas por capa"
      ],
      "execution_count": null,
      "outputs": []
    },
    {
      "cell_type": "code",
      "metadata": {
        "id": "VcCBKccr1B0v"
      },
      "source": [
        "keras.utils.plot_model(model, \"my_mnist_model.png\", show_shapes=True)"
      ],
      "execution_count": null,
      "outputs": []
    },
    {
      "cell_type": "code",
      "metadata": {
        "id": "4y05lLuu1B0v"
      },
      "source": [
        "hidden1 = model.layers[1] #acceder a la primera capa densa\n",
        "hidden1.name"
      ],
      "execution_count": null,
      "outputs": []
    },
    {
      "cell_type": "code",
      "metadata": {
        "id": "D1-IO-e41B0v"
      },
      "source": [
        "model.get_layer(hidden1.name) is hidden1 #también podemos acceder a la capa por su nombre"
      ],
      "execution_count": null,
      "outputs": []
    },
    {
      "cell_type": "markdown",
      "metadata": {
        "id": "hFMPVlHQ1B0v"
      },
      "source": [
        "## Accediendo a los pesos y bias entrenados\n",
        "\n",
        "- Con el fin de favorecer el entrenamiento, los pesos de cada capa se inicializan de forma aleatoria. Los bias se inicializan en ceros."
      ]
    },
    {
      "cell_type": "code",
      "metadata": {
        "id": "ydJJzFgW1B0v"
      },
      "source": [
        "weights, biases = hidden1.get_weights()"
      ],
      "execution_count": null,
      "outputs": []
    },
    {
      "cell_type": "code",
      "metadata": {
        "id": "BeET1ABg1B0v"
      },
      "source": [
        "weights"
      ],
      "execution_count": null,
      "outputs": []
    },
    {
      "cell_type": "code",
      "metadata": {
        "id": "xpgleO9R1B0v"
      },
      "source": [
        "weights.shape"
      ],
      "execution_count": null,
      "outputs": []
    },
    {
      "cell_type": "code",
      "metadata": {
        "id": "15i3_wnQ1B0v"
      },
      "source": [
        "biases"
      ],
      "execution_count": null,
      "outputs": []
    },
    {
      "cell_type": "code",
      "metadata": {
        "id": "zWDO9Aca1B0v"
      },
      "source": [
        "biases.shape"
      ],
      "execution_count": null,
      "outputs": []
    },
    {
      "cell_type": "markdown",
      "metadata": {
        "id": "DBB9x3QT1B0v"
      },
      "source": [
        "### Compilando el modelo\n",
        "\n",
        "- Después de crear un modelo, debe llamar a su método *compile()* para especificar la función de pérdida y el optimizador a utilizar.\n",
        "\n",
        "- Opcionalmente, también puede especificar una lista de métricas adicionales para calcular durante el entrenamiento y la evaluación.\n",
        "\n",
        "- En general, la función de costo se elige en términos de la tarea (rango de la función), y se buscan funciones de costo suaves, que no tengan problemas con sus derivadas, con el objetivo de aplicar gradiente descendiente por mini-lotes mediante el algoritmo de backpropagation.\n",
        "\n",
        "\n",
        "- **Esquema general de aprendizaje por mini-lotes:**\n",
        "\n",
        "![minibatch](https://github.com/amalvarezme/AnaliticaDatos/blob/master/5_Aprendizaje_Profundo/minibatch.png?raw=1)\n",
        "\n",
        "*Nota:* en general las muestras en un lote se escogen de forma aleatoria.\n",
        "\n",
        "- **Ilustración algoritmo backpropagation:**\n",
        "\n",
        "![gifbp](https://miro.medium.com/v2/resize:fit:1100/0*d9yJ5xIqdbDyjCYR.gif)"
      ]
    },
    {
      "cell_type": "code",
      "metadata": {
        "id": "GFUtDIrc1B0w"
      },
      "source": [
        "model.compile(loss=\"sparse_categorical_crossentropy\",\n",
        "              optimizer=\"sgd\",\n",
        "              metrics=[\"accuracy\"])"
      ],
      "execution_count": null,
      "outputs": []
    },
    {
      "cell_type": "markdown",
      "metadata": {
        "id": "z6b3JbT2uw8m"
      },
      "source": [
        "- Keras proporciona varios tipos de [funciones de costo](https://keras.io/api/losses/) ya implementadas.\n",
        "\n",
        "- Para tareas de regresión es común trabajar con el error cuadrático medio y el error absoluto medio:\n",
        "\n",
        "$$mse(\\mathbf{y}_n,\\hat{\\mathbf{y}}_n)= \\|\\mathbf{y}_n-\\hat{\\mathbf{y}}_n\\|_2$$\n",
        "\n",
        "$$mae(\\mathbf{y}_n,\\hat{\\mathbf{y}}_n)= \\|\\mathbf{y}_n-\\hat{\\mathbf{y}}_n\\|_1$$\n",
        "\n",
        "- Para tareas de clasificación, es común trabajar con medidas de información, evitando las medidas clasicas de acierto (conteos) basadas en la función delta (problemas en las derivadas).\n",
        "\n",
        "- En este sentido, la cross-entropia es ampliamente usada (tenga encuenta que Keras provee cross entropia binaria y categórica, esta última en sus versiones sparse - codificación 1 C, o no sparse - codificación ordinal de las salidas):\n",
        "\n",
        "$$H(\\mathbf{y}_n,\\hat{\\mathbf{y}}_n)= -\\frac{1}{N}\\sum^N_{n=1}\\sum^C_{c=1}y_{n,c}\\log(\\hat{y}_{n,c})$$\n",
        "\n",
        "donde $y_{n,c}\\in \\mathbf{y}$ es la etiqueta real de la muestra $n$ en la clase $c$ en codificación 1-C,  $\\hat{y}_{n,c}\\in \\hat{\\mathbf{y}}$ es la etiqueta estimada de la muestra $n$ en la clase $c$. Note que $\\hat{\\mathbf{y}},{\\mathbf{y}}\\in[0,1]^C$, y $\\sum_c\\hat{y}_{n,c} = \\sum_c y _{n,c} = 1.$"
      ]
    },
    {
      "cell_type": "markdown",
      "metadata": {
        "id": "ykjvjkmL1B0w"
      },
      "source": [
        "## Entrenando y evaluando el modelo\n",
        "Ahora el modelo está listo para ser entrenado. Para esto, simplemente necesitamos llamar a su método *fit()*.\n",
        "- Le pasamos las características de entrada (X_train) y las clases de destino (y_train), así como la cantidad de épocas para entrenar (o de lo contrario, sería predeterminado a solo 1, lo que definitivamente no sería suficiente para converger en una buena solución).\n",
        "- También pasamos un conjunto de validación (esto es opcional): Keras medirá la pérdida y las métricas adicionales en este conjunto al final de cada época, lo cual es muy útil para ver qué tan bien se desempeña realmente el modelo.\n",
        "- **NOTA:** si el rendimiento en el entrenamiento es mucho mejor que en el conjunto de validación, su modelo probablemente esté sobreajustando el conjunto de entrenamiento (o hay un error, como una falta de coincidencia de datos entre el conjunto de entrenamiento y el conjunto de validación).\n",
        "\n",
        "\n",
        "**Nota**: El paquete Tensorflow permite trabajar mediante grafos computacionales optimizados mediante [diferenciación automática](https://github.com/amalvarezme/AprendizajeMaquina/blob/main/5_DeepLearning/2_Autodiff.pdf), lo que favorece su escalamiento a grandes cantidades de datos (mediante gradiente descendiente por mini-lotes) y de parámetros."
      ]
    },
    {
      "cell_type": "code",
      "metadata": {
        "id": "wtlqE1OE1B0w",
        "colab": {
          "base_uri": "https://localhost:8080/"
        },
        "outputId": "056f4176-7b93-4a01-8e0c-bf881defc2c9"
      },
      "source": [
        "history = model.fit(X_train, y_train, epochs=30, batch_size = 10,\n",
        "                    validation_data=(X_valid, y_valid))"
      ],
      "execution_count": 89,
      "outputs": [
        {
          "output_type": "stream",
          "name": "stdout",
          "text": [
            "Epoch 1/30\n",
            "\u001b[1m5500/5500\u001b[0m \u001b[32m━━━━━━━━━━━━━━━━━━━━\u001b[0m\u001b[37m\u001b[0m \u001b[1m34s\u001b[0m 6ms/step - accuracy: 0.7422 - loss: 0.7809 - val_accuracy: 0.8482 - val_loss: 0.4398\n",
            "Epoch 2/30\n",
            "\u001b[1m5500/5500\u001b[0m \u001b[32m━━━━━━━━━━━━━━━━━━━━\u001b[0m\u001b[37m\u001b[0m \u001b[1m17s\u001b[0m 3ms/step - accuracy: 0.8478 - loss: 0.4292 - val_accuracy: 0.8644 - val_loss: 0.3871\n",
            "Epoch 3/30\n",
            "\u001b[1m5500/5500\u001b[0m \u001b[32m━━━━━━━━━━━━━━━━━━━━\u001b[0m\u001b[37m\u001b[0m \u001b[1m19s\u001b[0m 3ms/step - accuracy: 0.8629 - loss: 0.3788 - val_accuracy: 0.8728 - val_loss: 0.3576\n",
            "Epoch 4/30\n",
            "\u001b[1m5500/5500\u001b[0m \u001b[32m━━━━━━━━━━━━━━━━━━━━\u001b[0m\u001b[37m\u001b[0m \u001b[1m17s\u001b[0m 3ms/step - accuracy: 0.8737 - loss: 0.3493 - val_accuracy: 0.8788 - val_loss: 0.3423\n",
            "Epoch 5/30\n",
            "\u001b[1m5500/5500\u001b[0m \u001b[32m━━━━━━━━━━━━━━━━━━━━\u001b[0m\u001b[37m\u001b[0m \u001b[1m20s\u001b[0m 3ms/step - accuracy: 0.8802 - loss: 0.3277 - val_accuracy: 0.8808 - val_loss: 0.3327\n",
            "Epoch 6/30\n",
            "\u001b[1m5500/5500\u001b[0m \u001b[32m━━━━━━━━━━━━━━━━━━━━\u001b[0m\u001b[37m\u001b[0m \u001b[1m21s\u001b[0m 3ms/step - accuracy: 0.8858 - loss: 0.3105 - val_accuracy: 0.8796 - val_loss: 0.3213\n",
            "Epoch 7/30\n",
            "\u001b[1m5500/5500\u001b[0m \u001b[32m━━━━━━━━━━━━━━━━━━━━\u001b[0m\u001b[37m\u001b[0m \u001b[1m20s\u001b[0m 3ms/step - accuracy: 0.8910 - loss: 0.2961 - val_accuracy: 0.8818 - val_loss: 0.3169\n",
            "Epoch 8/30\n",
            "\u001b[1m5500/5500\u001b[0m \u001b[32m━━━━━━━━━━━━━━━━━━━━\u001b[0m\u001b[37m\u001b[0m \u001b[1m22s\u001b[0m 3ms/step - accuracy: 0.8960 - loss: 0.2838 - val_accuracy: 0.8830 - val_loss: 0.3103\n",
            "Epoch 9/30\n",
            "\u001b[1m5500/5500\u001b[0m \u001b[32m━━━━━━━━━━━━━━━━━━━━\u001b[0m\u001b[37m\u001b[0m \u001b[1m17s\u001b[0m 3ms/step - accuracy: 0.8993 - loss: 0.2729 - val_accuracy: 0.8852 - val_loss: 0.3089\n",
            "Epoch 10/30\n",
            "\u001b[1m5500/5500\u001b[0m \u001b[32m━━━━━━━━━━━━━━━━━━━━\u001b[0m\u001b[37m\u001b[0m \u001b[1m25s\u001b[0m 4ms/step - accuracy: 0.9019 - loss: 0.2633 - val_accuracy: 0.8860 - val_loss: 0.3051\n",
            "Epoch 11/30\n",
            "\u001b[1m5500/5500\u001b[0m \u001b[32m━━━━━━━━━━━━━━━━━━━━\u001b[0m\u001b[37m\u001b[0m \u001b[1m18s\u001b[0m 3ms/step - accuracy: 0.9060 - loss: 0.2537 - val_accuracy: 0.8888 - val_loss: 0.3045\n",
            "Epoch 12/30\n",
            "\u001b[1m5500/5500\u001b[0m \u001b[32m━━━━━━━━━━━━━━━━━━━━\u001b[0m\u001b[37m\u001b[0m \u001b[1m21s\u001b[0m 3ms/step - accuracy: 0.9095 - loss: 0.2453 - val_accuracy: 0.8874 - val_loss: 0.3039\n",
            "Epoch 13/30\n",
            "\u001b[1m5500/5500\u001b[0m \u001b[32m━━━━━━━━━━━━━━━━━━━━\u001b[0m\u001b[37m\u001b[0m \u001b[1m19s\u001b[0m 3ms/step - accuracy: 0.9130 - loss: 0.2374 - val_accuracy: 0.8890 - val_loss: 0.3030\n",
            "Epoch 14/30\n",
            "\u001b[1m5500/5500\u001b[0m \u001b[32m━━━━━━━━━━━━━━━━━━━━\u001b[0m\u001b[37m\u001b[0m \u001b[1m17s\u001b[0m 3ms/step - accuracy: 0.9165 - loss: 0.2291 - val_accuracy: 0.8912 - val_loss: 0.3038\n",
            "Epoch 15/30\n",
            "\u001b[1m5500/5500\u001b[0m \u001b[32m━━━━━━━━━━━━━━━━━━━━\u001b[0m\u001b[37m\u001b[0m \u001b[1m17s\u001b[0m 3ms/step - accuracy: 0.9179 - loss: 0.2221 - val_accuracy: 0.8902 - val_loss: 0.3048\n",
            "Epoch 16/30\n",
            "\u001b[1m5500/5500\u001b[0m \u001b[32m━━━━━━━━━━━━━━━━━━━━\u001b[0m\u001b[37m\u001b[0m \u001b[1m18s\u001b[0m 3ms/step - accuracy: 0.9216 - loss: 0.2145 - val_accuracy: 0.8884 - val_loss: 0.3083\n",
            "Epoch 17/30\n",
            "\u001b[1m5500/5500\u001b[0m \u001b[32m━━━━━━━━━━━━━━━━━━━━\u001b[0m\u001b[37m\u001b[0m \u001b[1m18s\u001b[0m 3ms/step - accuracy: 0.9251 - loss: 0.2075 - val_accuracy: 0.8896 - val_loss: 0.3088\n",
            "Epoch 18/30\n",
            "\u001b[1m5500/5500\u001b[0m \u001b[32m━━━━━━━━━━━━━━━━━━━━\u001b[0m\u001b[37m\u001b[0m \u001b[1m22s\u001b[0m 3ms/step - accuracy: 0.9278 - loss: 0.2007 - val_accuracy: 0.8902 - val_loss: 0.3104\n",
            "Epoch 19/30\n",
            "\u001b[1m5500/5500\u001b[0m \u001b[32m━━━━━━━━━━━━━━━━━━━━\u001b[0m\u001b[37m\u001b[0m \u001b[1m22s\u001b[0m 3ms/step - accuracy: 0.9301 - loss: 0.1943 - val_accuracy: 0.8890 - val_loss: 0.3137\n",
            "Epoch 20/30\n",
            "\u001b[1m5500/5500\u001b[0m \u001b[32m━━━━━━━━━━━━━━━━━━━━\u001b[0m\u001b[37m\u001b[0m \u001b[1m18s\u001b[0m 3ms/step - accuracy: 0.9328 - loss: 0.1877 - val_accuracy: 0.8914 - val_loss: 0.3116\n",
            "Epoch 21/30\n",
            "\u001b[1m5500/5500\u001b[0m \u001b[32m━━━━━━━━━━━━━━━━━━━━\u001b[0m\u001b[37m\u001b[0m \u001b[1m19s\u001b[0m 3ms/step - accuracy: 0.9351 - loss: 0.1821 - val_accuracy: 0.8914 - val_loss: 0.3155\n",
            "Epoch 22/30\n",
            "\u001b[1m5500/5500\u001b[0m \u001b[32m━━━━━━━━━━━━━━━━━━━━\u001b[0m\u001b[37m\u001b[0m \u001b[1m22s\u001b[0m 3ms/step - accuracy: 0.9369 - loss: 0.1766 - val_accuracy: 0.8922 - val_loss: 0.3144\n",
            "Epoch 23/30\n",
            "\u001b[1m5500/5500\u001b[0m \u001b[32m━━━━━━━━━━━━━━━━━━━━\u001b[0m\u001b[37m\u001b[0m \u001b[1m18s\u001b[0m 3ms/step - accuracy: 0.9392 - loss: 0.1707 - val_accuracy: 0.8912 - val_loss: 0.3152\n",
            "Epoch 24/30\n",
            "\u001b[1m5500/5500\u001b[0m \u001b[32m━━━━━━━━━━━━━━━━━━━━\u001b[0m\u001b[37m\u001b[0m \u001b[1m21s\u001b[0m 3ms/step - accuracy: 0.9422 - loss: 0.1659 - val_accuracy: 0.8940 - val_loss: 0.3182\n",
            "Epoch 25/30\n",
            "\u001b[1m5500/5500\u001b[0m \u001b[32m━━━━━━━━━━━━━━━━━━━━\u001b[0m\u001b[37m\u001b[0m \u001b[1m17s\u001b[0m 3ms/step - accuracy: 0.9447 - loss: 0.1598 - val_accuracy: 0.8920 - val_loss: 0.3236\n",
            "Epoch 26/30\n",
            "\u001b[1m5500/5500\u001b[0m \u001b[32m━━━━━━━━━━━━━━━━━━━━\u001b[0m\u001b[37m\u001b[0m \u001b[1m20s\u001b[0m 3ms/step - accuracy: 0.9472 - loss: 0.1544 - val_accuracy: 0.8908 - val_loss: 0.3262\n",
            "Epoch 27/30\n",
            "\u001b[1m5500/5500\u001b[0m \u001b[32m━━━━━━━━━━━━━━━━━━━━\u001b[0m\u001b[37m\u001b[0m \u001b[1m23s\u001b[0m 3ms/step - accuracy: 0.9487 - loss: 0.1498 - val_accuracy: 0.8898 - val_loss: 0.3352\n",
            "Epoch 28/30\n",
            "\u001b[1m5500/5500\u001b[0m \u001b[32m━━━━━━━━━━━━━━━━━━━━\u001b[0m\u001b[37m\u001b[0m \u001b[1m21s\u001b[0m 3ms/step - accuracy: 0.9490 - loss: 0.1458 - val_accuracy: 0.8896 - val_loss: 0.3312\n",
            "Epoch 29/30\n",
            "\u001b[1m5500/5500\u001b[0m \u001b[32m━━━━━━━━━━━━━━━━━━━━\u001b[0m\u001b[37m\u001b[0m \u001b[1m17s\u001b[0m 3ms/step - accuracy: 0.9528 - loss: 0.1400 - val_accuracy: 0.8900 - val_loss: 0.3385\n",
            "Epoch 30/30\n",
            "\u001b[1m5500/5500\u001b[0m \u001b[32m━━━━━━━━━━━━━━━━━━━━\u001b[0m\u001b[37m\u001b[0m \u001b[1m18s\u001b[0m 3ms/step - accuracy: 0.9534 - loss: 0.1358 - val_accuracy: 0.8882 - val_loss: 0.3406\n"
          ]
        }
      ]
    },
    {
      "cell_type": "markdown",
      "metadata": {
        "id": "0vMTvblw1B0w"
      },
      "source": [
        "Puede ver que la **pérdida de entrenamiento se redujo**, lo cual es una buena señal, y el rendimiento del conjunto en el conjunto de validación no está muy lejos del de entrenamiento, por lo que no parece haber demasiado sobreajuste."
      ]
    },
    {
      "cell_type": "markdown",
      "metadata": {
        "id": "nGqbcUXG1B0w"
      },
      "source": [
        "El método *fit()* devuelve un objeto **history** que contiene:\n",
        "1. Los parámetros de entrenamiento (*history.params*),\n",
        "2. La lista de épocas por las que pasó (*history.epoch*) y,\n",
        "3. Lo más importante, un diccionario (*history.history*) que contiene la pérdida y las métricas adicionales que midió al final de cada época en el conjunto de entrenamiento y en el conjunto de validación (si corresponde)."
      ]
    },
    {
      "cell_type": "code",
      "metadata": {
        "id": "iR6bfl871B0w",
        "colab": {
          "base_uri": "https://localhost:8080/"
        },
        "outputId": "e64cefd0-8a83-438d-e57a-4181a86b41b1"
      },
      "source": [
        "history.params"
      ],
      "execution_count": null,
      "outputs": [
        {
          "output_type": "execute_result",
          "data": {
            "text/plain": [
              "{'verbose': 'auto', 'epochs': 30, 'steps': 5500}"
            ]
          },
          "metadata": {},
          "execution_count": 90
        }
      ]
    },
    {
      "cell_type": "code",
      "metadata": {
        "id": "UG0Y-Pu61B0w",
        "colab": {
          "base_uri": "https://localhost:8080/"
        },
        "outputId": "7bede459-0f9b-41a7-9bef-3a38b8413596"
      },
      "source": [
        "print(history.epoch)"
      ],
      "execution_count": null,
      "outputs": [
        {
          "output_type": "stream",
          "name": "stdout",
          "text": [
            "[0, 1, 2, 3, 4, 5, 6, 7, 8, 9, 10, 11, 12, 13, 14, 15, 16, 17, 18, 19, 20, 21, 22, 23, 24, 25, 26, 27, 28, 29]\n"
          ]
        }
      ]
    },
    {
      "cell_type": "code",
      "metadata": {
        "id": "FvfXwBh61B0w",
        "colab": {
          "base_uri": "https://localhost:8080/"
        },
        "outputId": "5ea4cb38-4806-4da1-f6f4-f2c69fd3261c"
      },
      "source": [
        "history.history.keys()"
      ],
      "execution_count": null,
      "outputs": [
        {
          "output_type": "execute_result",
          "data": {
            "text/plain": [
              "dict_keys(['accuracy', 'loss', 'val_accuracy', 'val_loss'])"
            ]
          },
          "metadata": {},
          "execution_count": 92
        }
      ]
    },
    {
      "cell_type": "code",
      "metadata": {
        "id": "Jw4QkzqW1B0w",
        "colab": {
          "base_uri": "https://localhost:8080/",
          "height": 451
        },
        "outputId": "451bc64c-6056-4d76-ef4c-1f7c9b269b0c"
      },
      "source": [
        "import pandas as pd\n",
        "\n",
        "pd.DataFrame(history.history).plot(figsize=(8, 5))\n",
        "plt.grid(True)\n",
        "plt.gca().set_ylim(0, 1)\n",
        "#save_fig(\"keras_learning_curves_plot\")\n",
        "plt.show()"
      ],
      "execution_count": null,
      "outputs": [
        {
          "output_type": "display_data",
          "data": {
            "text/plain": [
              "<Figure size 800x500 with 1 Axes>"
            ],
            "image/png": "[encoded data removed]"
          },
          "metadata": {}
        }
      ]
    },
    {
      "cell_type": "markdown",
      "metadata": {
        "id": "qANIpn3Y1B0w"
      },
      "source": [
        "Una vez que esté **satisfecho con la precisión de validación de su modelo**, debe evaluarla en el *conjunto de prueba* (test) para estimar el error de generalización antes de implementar el modelo en producción:"
      ]
    },
    {
      "cell_type": "code",
      "metadata": {
        "id": "DYDx6mUm1B0w",
        "colab": {
          "base_uri": "https://localhost:8080/"
        },
        "outputId": "b7c050b7-b71e-4788-e10f-0047fbeae3df"
      },
      "source": [
        "model.evaluate(X_test, y_test)"
      ],
      "execution_count": 94,
      "outputs": [
        {
          "output_type": "stream",
          "name": "stdout",
          "text": [
            "\u001b[1m313/313\u001b[0m \u001b[32m━━━━━━━━━━━━━━━━━━━━\u001b[0m\u001b[37m\u001b[0m \u001b[1m1s\u001b[0m 2ms/step - accuracy: 0.8751 - loss: 0.3954\n"
          ]
        },
        {
          "output_type": "execute_result",
          "data": {
            "text/plain": [
              "[0.393714040517807, 0.8762000203132629]"
            ]
          },
          "metadata": {},
          "execution_count": 94
        }
      ]
    },
    {
      "cell_type": "markdown",
      "metadata": {
        "id": "1ZhgOs-G1B0w"
      },
      "source": [
        "- Como vimos anteriormente, es **común obtener un rendimiento ligeramente inferior en el conjunto de prueba** que en el conjunto de validación, porque los hiperparámetros están sintonizados en el conjunto de validación, no en el conjunto de prueba."
      ]
    },
    {
      "cell_type": "markdown",
      "metadata": {
        "id": "uWCWiq9t1B0w"
      },
      "source": [
        "## Usando el modelo para hacer predicciones\n",
        "A continuación, podemos usar el método *predict()* del modelo para hacer predicciones sobre nuevas instancias. Como no tenemos instancias nuevas reales, solo usaremos las primeras 3 instancias del **conjunto de prueba**:\n",
        "\n",
        "**Nota**: recuerde que configuaramos la red para que a la salida nos arroje la probabilidad de membresia por clase, por eso nos arroja un vector en 0 y 1."
      ]
    },
    {
      "cell_type": "code",
      "metadata": {
        "id": "p160i_gv1B0w",
        "colab": {
          "base_uri": "https://localhost:8080/"
        },
        "outputId": "2b740a97-5e7c-4064-980e-86540c9423a0"
      },
      "source": [
        "X_new = X_test[:10]\n",
        "y_proba = model.predict(X_new)\n",
        "y_proba.round(2)"
      ],
      "execution_count": 95,
      "outputs": [
        {
          "output_type": "stream",
          "name": "stdout",
          "text": [
            "\u001b[1m1/1\u001b[0m \u001b[32m━━━━━━━━━━━━━━━━━━━━\u001b[0m\u001b[37m\u001b[0m \u001b[1m0s\u001b[0m 68ms/step\n"
          ]
        },
        {
          "output_type": "execute_result",
          "data": {
            "text/plain": [
              "array([[0.  , 0.  , 0.  , 0.  , 0.  , 0.  , 0.  , 0.  , 0.  , 1.  ],\n",
              "       [0.  , 0.  , 1.  , 0.  , 0.  , 0.  , 0.  , 0.  , 0.  , 0.  ],\n",
              "       [0.  , 1.  , 0.  , 0.  , 0.  , 0.  , 0.  , 0.  , 0.  , 0.  ],\n",
              "       [0.  , 1.  , 0.  , 0.  , 0.  , 0.  , 0.  , 0.  , 0.  , 0.  ],\n",
              "       [0.01, 0.  , 0.  , 0.  , 0.  , 0.  , 0.98, 0.  , 0.  , 0.  ],\n",
              "       [0.  , 1.  , 0.  , 0.  , 0.  , 0.  , 0.  , 0.  , 0.  , 0.  ],\n",
              "       [0.  , 0.  , 0.  , 0.  , 1.  , 0.  , 0.  , 0.  , 0.  , 0.  ],\n",
              "       [0.  , 0.  , 0.  , 0.  , 0.  , 0.  , 1.  , 0.  , 0.  , 0.  ],\n",
              "       [0.  , 0.  , 0.  , 0.  , 0.  , 1.  , 0.  , 0.  , 0.  , 0.  ],\n",
              "       [0.  , 0.  , 0.  , 0.  , 0.  , 0.  , 0.  , 1.  , 0.  , 0.  ]],\n",
              "      dtype=float32)"
            ]
          },
          "metadata": {},
          "execution_count": 95
        }
      ]
    },
    {
      "cell_type": "code",
      "metadata": {
        "id": "3CNd3s5l1B0w",
        "colab": {
          "base_uri": "https://localhost:8080/"
        },
        "outputId": "092147a5-5379-4999-ce7b-3641d7cb1924"
      },
      "source": [
        "y_pred = model.predict(X_new).argmax(axis=1) #podemos utilizar argmax para estimar la salida ordinal\n",
        "y_pred"
      ],
      "execution_count": 96,
      "outputs": [
        {
          "output_type": "stream",
          "name": "stdout",
          "text": [
            "\u001b[1m1/1\u001b[0m \u001b[32m━━━━━━━━━━━━━━━━━━━━\u001b[0m\u001b[37m\u001b[0m \u001b[1m0s\u001b[0m 31ms/step\n"
          ]
        },
        {
          "output_type": "execute_result",
          "data": {
            "text/plain": [
              "array([9, 2, 1, 1, 6, 1, 4, 6, 5, 7])"
            ]
          },
          "metadata": {},
          "execution_count": 96
        }
      ]
    },
    {
      "cell_type": "code",
      "metadata": {
        "id": "MHHTK1Wa1B0w",
        "colab": {
          "base_uri": "https://localhost:8080/"
        },
        "outputId": "6b35651f-d6c1-4b4d-ad17-bff9ff40f467"
      },
      "source": [
        "np.array(class_names)[y_pred]"
      ],
      "execution_count": 97,
      "outputs": [
        {
          "output_type": "execute_result",
          "data": {
            "text/plain": [
              "array(['Ankle boot', 'Pullover', 'Trouser', 'Trouser', 'Shirt', 'Trouser',\n",
              "       'Coat', 'Shirt', 'Sandal', 'Sneaker'], dtype='<U11')"
            ]
          },
          "metadata": {},
          "execution_count": 97
        }
      ]
    },
    {
      "cell_type": "code",
      "metadata": {
        "id": "7RQxqMXl1B0x",
        "colab": {
          "base_uri": "https://localhost:8080/"
        },
        "outputId": "8342e2fa-81d1-4b88-8cd0-cdced21fee3c"
      },
      "source": [
        "y_new = y_test[:3]\n",
        "y_new"
      ],
      "execution_count": 98,
      "outputs": [
        {
          "output_type": "execute_result",
          "data": {
            "text/plain": [
              "array([9, 2, 1], dtype=uint8)"
            ]
          },
          "metadata": {},
          "execution_count": 98
        }
      ]
    },
    {
      "cell_type": "code",
      "metadata": {
        "id": "KQDyePBq1B0x",
        "colab": {
          "base_uri": "https://localhost:8080/",
          "height": 120
        },
        "outputId": "8811e89b-dbe2-46dd-f68e-a18a37afc243"
      },
      "source": [
        "plt.figure(figsize=(13, 2.4))\n",
        "for index, image in enumerate(X_new):\n",
        "    plt.subplot(1, 10, index + 1)\n",
        "    plt.imshow(image, cmap=\"binary\", interpolation=\"nearest\")\n",
        "    plt.axis('off')\n",
        "    plt.title(class_names[y_test[index]], fontsize=12)\n",
        "plt.subplots_adjust(wspace=0.2, hspace=0.5)\n",
        "#save_fig('fashion_mnist_images_plot', tight_layout=False)\n",
        "plt.show()"
      ],
      "execution_count": 99,
      "outputs": [
        {
          "output_type": "display_data",
          "data": {
            "text/plain": [
              "<Figure size 1300x240 with 10 Axes>"
            ],
            "image/png": "[encoded data removed]"
          },
          "metadata": {}
        }
      ]
    },
    {
      "cell_type": "markdown",
      "metadata": {
        "id": "kPgq1Zr41B0x"
      },
      "source": [
        "## Regresión MLP\n",
        "\n",
        "- Podemos utilizar un esquema de aprendizaje profundo, fijando la salida en activación lineal o ReLU para trabajar un problema de regresión.\n",
        "\n",
        "- Carguemos, dividamos y escalemos el conjunto de datos de [vivienda de California](https://www.kaggle.com/camnugent/california-housing-prices):"
      ]
    },
    {
      "cell_type": "code",
      "metadata": {
        "id": "LOarlmLq1B0x"
      },
      "source": [
        "from sklearn.datasets import fetch_california_housing\n",
        "from sklearn.model_selection import train_test_split\n",
        "from sklearn.preprocessing import StandardScaler\n",
        "\n",
        "housing = fetch_california_housing()\n",
        "\n",
        "X_train_full, X_test, y_train_full, y_test = train_test_split(housing.data, housing.target, random_state=42)\n",
        "X_train, X_valid, y_train, y_valid = train_test_split(X_train_full, y_train_full, random_state=42)\n",
        "\n",
        "scaler = StandardScaler()\n",
        "X_train = scaler.fit_transform(X_train)\n",
        "X_valid = scaler.transform(X_valid)\n",
        "X_test = scaler.transform(X_test)"
      ],
      "execution_count": 100,
      "outputs": []
    },
    {
      "cell_type": "code",
      "metadata": {
        "id": "-TMcTJY21B0x"
      },
      "source": [
        "np.random.seed(42)\n",
        "tf.random.set_seed(42)"
      ],
      "execution_count": 101,
      "outputs": []
    },
    {
      "cell_type": "markdown",
      "metadata": {
        "id": "rfUOCrrN3KUA"
      },
      "source": [
        "- Como tenemos una única salida tipo de regresión, la última capa tiene una única neurona con activación lineal (por defecto las capas dense vienen con activación lineal)."
      ]
    },
    {
      "cell_type": "code",
      "metadata": {
        "id": "UiHzk7Vd1B0x",
        "colab": {
          "base_uri": "https://localhost:8080/"
        },
        "outputId": "309d0427-89b1-4ba0-c0d9-9b23b90d7640"
      },
      "source": [
        "model = keras.models.Sequential([\n",
        "    keras.layers.Dense(30, activation=\"relu\", input_shape=X_train.shape[1:]),\n",
        "    keras.layers.Dense(1) #se fija una única con activacion lineal\n",
        "])\n",
        "model.compile(loss=\"mean_squared_error\", optimizer=keras.optimizers.SGD(learning_rate=1e-3))\n",
        "history  = model.fit(X_train, y_train, epochs=20, validation_data=(X_valid, y_valid))\n",
        "mse_test = model.evaluate(X_test, y_test)\n",
        "X_new    = X_test[:3]\n",
        "y_pred   = model.predict(X_new)"
      ],
      "execution_count": 104,
      "outputs": [
        {
          "output_type": "stream",
          "name": "stdout",
          "text": [
            "Epoch 1/20\n",
            "\u001b[1m363/363\u001b[0m \u001b[32m━━━━━━━━━━━━━━━━━━━━\u001b[0m\u001b[37m\u001b[0m \u001b[1m5s\u001b[0m 8ms/step - loss: 3.9440 - val_loss: 1.0919\n",
            "Epoch 2/20\n",
            "\u001b[1m363/363\u001b[0m \u001b[32m━━━━━━━━━━━━━━━━━━━━\u001b[0m\u001b[37m\u001b[0m \u001b[1m4s\u001b[0m 4ms/step - loss: 0.9403 - val_loss: 0.7122\n",
            "Epoch 3/20\n",
            "\u001b[1m363/363\u001b[0m \u001b[32m━━━━━━━━━━━━━━━━━━━━\u001b[0m\u001b[37m\u001b[0m \u001b[1m2s\u001b[0m 6ms/step - loss: 0.7660 - val_loss: 0.6382\n",
            "Epoch 4/20\n",
            "\u001b[1m363/363\u001b[0m \u001b[32m━━━━━━━━━━━━━━━━━━━━\u001b[0m\u001b[37m\u001b[0m \u001b[1m2s\u001b[0m 5ms/step - loss: 0.6994 - val_loss: 0.5951\n",
            "Epoch 5/20\n",
            "\u001b[1m363/363\u001b[0m \u001b[32m━━━━━━━━━━━━━━━━━━━━\u001b[0m\u001b[37m\u001b[0m \u001b[1m3s\u001b[0m 7ms/step - loss: 0.6525 - val_loss: 0.5621\n",
            "Epoch 6/20\n",
            "\u001b[1m363/363\u001b[0m \u001b[32m━━━━━━━━━━━━━━━━━━━━\u001b[0m\u001b[37m\u001b[0m \u001b[1m2s\u001b[0m 4ms/step - loss: 0.6141 - val_loss: 0.5347\n",
            "Epoch 7/20\n",
            "\u001b[1m363/363\u001b[0m \u001b[32m━━━━━━━━━━━━━━━━━━━━\u001b[0m\u001b[37m\u001b[0m \u001b[1m2s\u001b[0m 5ms/step - loss: 0.5816 - val_loss: 0.5121\n",
            "Epoch 8/20\n",
            "\u001b[1m363/363\u001b[0m \u001b[32m━━━━━━━━━━━━━━━━━━━━\u001b[0m\u001b[37m\u001b[0m \u001b[1m2s\u001b[0m 4ms/step - loss: 0.5541 - val_loss: 0.4940\n",
            "Epoch 9/20\n",
            "\u001b[1m363/363\u001b[0m \u001b[32m━━━━━━━━━━━━━━━━━━━━\u001b[0m\u001b[37m\u001b[0m \u001b[1m2s\u001b[0m 4ms/step - loss: 0.5312 - val_loss: 0.4807\n",
            "Epoch 10/20\n",
            "\u001b[1m363/363\u001b[0m \u001b[32m━━━━━━━━━━━━━━━━━━━━\u001b[0m\u001b[37m\u001b[0m \u001b[1m2s\u001b[0m 4ms/step - loss: 0.5122 - val_loss: 0.4715\n",
            "Epoch 11/20\n",
            "\u001b[1m363/363\u001b[0m \u001b[32m━━━━━━━━━━━━━━━━━━━━\u001b[0m\u001b[37m\u001b[0m \u001b[1m3s\u001b[0m 6ms/step - loss: 0.4967 - val_loss: 0.4656\n",
            "Epoch 12/20\n",
            "\u001b[1m363/363\u001b[0m \u001b[32m━━━━━━━━━━━━━━━━━━━━\u001b[0m\u001b[37m\u001b[0m \u001b[1m2s\u001b[0m 4ms/step - loss: 0.4845 - val_loss: 0.4620\n",
            "Epoch 13/20\n",
            "\u001b[1m363/363\u001b[0m \u001b[32m━━━━━━━━━━━━━━━━━━━━\u001b[0m\u001b[37m\u001b[0m \u001b[1m2s\u001b[0m 5ms/step - loss: 0.4749 - val_loss: 0.4584\n",
            "Epoch 14/20\n",
            "\u001b[1m363/363\u001b[0m \u001b[32m━━━━━━━━━━━━━━━━━━━━\u001b[0m\u001b[37m\u001b[0m \u001b[1m2s\u001b[0m 5ms/step - loss: 0.4673 - val_loss: 0.4560\n",
            "Epoch 15/20\n",
            "\u001b[1m363/363\u001b[0m \u001b[32m━━━━━━━━━━━━━━━━━━━━\u001b[0m\u001b[37m\u001b[0m \u001b[1m2s\u001b[0m 3ms/step - loss: 0.4610 - val_loss: 0.4541\n",
            "Epoch 16/20\n",
            "\u001b[1m363/363\u001b[0m \u001b[32m━━━━━━━━━━━━━━━━━━━━\u001b[0m\u001b[37m\u001b[0m \u001b[1m2s\u001b[0m 3ms/step - loss: 0.4560 - val_loss: 0.4529\n",
            "Epoch 17/20\n",
            "\u001b[1m363/363\u001b[0m \u001b[32m━━━━━━━━━━━━━━━━━━━━\u001b[0m\u001b[37m\u001b[0m \u001b[1m2s\u001b[0m 1ms/step - loss: 0.4517 - val_loss: 0.4521\n",
            "Epoch 18/20\n",
            "\u001b[1m363/363\u001b[0m \u001b[32m━━━━━━━━━━━━━━━━━━━━\u001b[0m\u001b[37m\u001b[0m \u001b[1m1s\u001b[0m 3ms/step - loss: 0.4481 - val_loss: 0.4515\n",
            "Epoch 19/20\n",
            "\u001b[1m363/363\u001b[0m \u001b[32m━━━━━━━━━━━━━━━━━━━━\u001b[0m\u001b[37m\u001b[0m \u001b[1m1s\u001b[0m 3ms/step - loss: 0.4450 - val_loss: 0.4509\n",
            "Epoch 20/20\n",
            "\u001b[1m363/363\u001b[0m \u001b[32m━━━━━━━━━━━━━━━━━━━━\u001b[0m\u001b[37m\u001b[0m \u001b[1m1s\u001b[0m 3ms/step - loss: 0.4423 - val_loss: 0.4502\n",
            "\u001b[1m162/162\u001b[0m \u001b[32m━━━━━━━━━━━━━━━━━━━━\u001b[0m\u001b[37m\u001b[0m \u001b[1m0s\u001b[0m 977us/step - loss: 0.4252\n",
            "\u001b[1m1/1\u001b[0m \u001b[32m━━━━━━━━━━━━━━━━━━━━\u001b[0m\u001b[37m\u001b[0m \u001b[1m0s\u001b[0m 46ms/step\n"
          ]
        }
      ]
    },
    {
      "cell_type": "code",
      "metadata": {
        "id": "hYprlIuU1B0x",
        "colab": {
          "base_uri": "https://localhost:8080/",
          "height": 435
        },
        "outputId": "59825dae-ce8e-4b8c-a8c3-4602e6e53a29"
      },
      "source": [
        "plt.plot(pd.DataFrame(history.history))\n",
        "plt.grid(True)\n",
        "plt.gca().set_ylim(0, 1)\n",
        "plt.show()"
      ],
      "execution_count": 105,
      "outputs": [
        {
          "output_type": "display_data",
          "data": {
            "text/plain": [
              "<Figure size 640x480 with 1 Axes>"
            ],
            "image/png": "[encoded data removed]"
          },
          "metadata": {}
        }
      ]
    },
    {
      "cell_type": "code",
      "metadata": {
        "id": "ydV71rT-1B0x",
        "colab": {
          "base_uri": "https://localhost:8080/"
        },
        "outputId": "dfce6ebd-7712-441e-96d3-45aad4537e57"
      },
      "source": [
        "y_pred"
      ],
      "execution_count": 106,
      "outputs": [
        {
          "output_type": "execute_result",
          "data": {
            "text/plain": [
              "array([[0.529677 ],\n",
              "       [1.7857642],\n",
              "       [3.5731616]], dtype=float32)"
            ]
          },
          "metadata": {},
          "execution_count": 106
        }
      ]
    },
    {
      "cell_type": "markdown",
      "metadata": {
        "id": "q2OJnS5g1B0x"
      },
      "source": [
        "Como puede ver, la API secuencial es **bastante fácil de usar**. Sin embargo, aunque los modelos secuenciales son extremadamente comunes, a veces es útil construir redes neuronales con topologías más complejas, o con múltiples entradas o salidas. Para este propósito, Keras ofrece la **API funcional**."
      ]
    },
    {
      "cell_type": "markdown",
      "metadata": {
        "id": "rltcPBYL3VZH"
      },
      "source": [
        "# Ejercicio:\n",
        "\n",
        "- Configure el entorno de Colab para trabajar con GPU (Ver pestaña entorno de ejecución). Repita el entrenamiento del modelo de clasificación Fashion mnist para batch size en 32, 64, 128, 256, y 512. Reporte una tabla con los rendimientos sobre el conjunto de test y el tiempo promedio de cómputo por época.\n",
        "\n",
        "- Repita el procedimiento del punto anterior configurando Colab para trabajar con TPU."
      ]
    },
    {
      "cell_type": "code",
      "metadata": {
        "id": "bmnOPEqdLifI"
      },
      "source": [],
      "execution_count": null,
      "outputs": []
    }
  ]
}