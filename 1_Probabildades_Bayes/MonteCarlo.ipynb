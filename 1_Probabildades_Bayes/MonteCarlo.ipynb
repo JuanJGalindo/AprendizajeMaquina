{
  "nbformat": 4,
  "nbformat_minor": 0,
  "metadata": {
    "colab": {
      "private_outputs": true,
      "provenance": [],
      "authorship_tag": "ABX9TyPNQJgqJE5ooLVFZOm2wWtU",
      "include_colab_link": true
    },
    "kernelspec": {
      "name": "python3",
      "display_name": "Python 3"
    },
    "language_info": {
      "name": "python"
    }
  },
  "cells": [
    {
      "cell_type": "markdown",
      "metadata": {
        "id": "view-in-github",
        "colab_type": "text"
      },
      "source": [
        "<a href=\"https://colab.research.google.com/github/amalvarezme/AprendizajeMaquina/blob/main/1_Probabildades_Bayes/MonteCarlo.ipynb\" target=\"_parent\"><img src=\"https://colab.research.google.com/assets/colab-badge.svg\" alt=\"Open In Colab\"/></a>"
      ]
    },
    {
      "cell_type": "code",
      "execution_count": null,
      "metadata": {
        "id": "iuka_g2iWbst"
      },
      "outputs": [],
      "source": [
        "import numpy as np\n",
        "import matplotlib.pyplot as plt\n",
        "M = 1000 #numero de simulaciones de monte carlo\n",
        "N = 100\n",
        "A = 5\n",
        "A1 = np.zeros((M,1))\n",
        "A2 = np.zeros((M,1))\n",
        "for m in range(M):#1 iteración de monte carlo\n",
        "  #print(f'Simulación {m+1}/{M} de Monte Carlo...')\n",
        "  w = np.random.randn(N) #me entregan un nuevo set de datos\n",
        "  x = A + w\n",
        "  A1[m] = np.mean(x) #estimador 1 ->promedio iid verosimilitud por Gaussiana\n",
        "  A2[m] = x[0] #estimador 2-> promedio = muestra 1\n",
        "plt.hist(A1,bins=20,label='Est_1',alpha=0.5)\n",
        "plt.hist(A2,bins=20,label='Est_2',alpha=0.5)\n",
        "plt.legend()\n",
        "plt.show()\n",
        "plt.plot(w,label='w')\n",
        "plt.plot(x,label='x')\n",
        "plt.legend()\n",
        "plt.show()"
      ]
    },
    {
      "cell_type": "code",
      "source": [
        "mw = np.mean(w)\n",
        "mx = np.mean(x)\n",
        "vw = np.var(w)\n",
        "vx = np.var(x)\n",
        "print(mw,mx)\n",
        "print(vw,vx)"
      ],
      "metadata": {
        "id": "_1wwN9w_XbMb"
      },
      "execution_count": null,
      "outputs": []
    },
    {
      "cell_type": "code",
      "source": [
        "plt.hist(w,bins=20,density=True)"
      ],
      "metadata": {
        "id": "dh1BKGnAYGcC"
      },
      "execution_count": null,
      "outputs": []
    },
    {
      "cell_type": "code",
      "source": [],
      "metadata": {
        "id": "3CdGcUy_YZFa"
      },
      "execution_count": null,
      "outputs": []
    }
  ]
}