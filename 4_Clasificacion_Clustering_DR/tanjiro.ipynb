{
  "nbformat": 4,
  "nbformat_minor": 0,
  "metadata": {
    "colab": {
      "private_outputs": true,
      "provenance": [],
      "authorship_tag": "ABX9TyNFbUwgtMD4nfAZ7j0l2CQM",
      "include_colab_link": true
    },
    "kernelspec": {
      "name": "python3",
      "display_name": "Python 3"
    },
    "language_info": {
      "name": "python"
    }
  },
  "cells": [
    {
      "cell_type": "markdown",
      "metadata": {
        "id": "view-in-github",
        "colab_type": "text"
      },
      "source": [
        "<a href=\"https://colab.research.google.com/github/amalvarezme/AprendizajeMaquina/blob/main/4_Clasificacion_Clustering_DR/tanjiro.ipynb\" target=\"_parent\"><img src=\"https://colab.research.google.com/assets/colab-badge.svg\" alt=\"Open In Colab\"/></a>"
      ]
    },
    {
      "cell_type": "code",
      "execution_count": null,
      "metadata": {
        "id": "5AoicVd24_eM"
      },
      "outputs": [],
      "source": [
        "#https://drive.google.com/file/d/1KENM6BW5UjRoSjnWmuBP_MS_NrC0cefP/view?usp=sharing\n",
        "\n",
        "FILEID = \"1KENM6BW5UjRoSjnWmuBP_MS_NrC0cefP\"\n",
        "!wget --load-cookies /tmp/cookies.txt \"https://docs.google.com/uc?export=download&confirm=$(wget --quiet --save-cookies /tmp/cookies.txt --keep-session-cookies --no-check-certificate 'https://docs.google.com/uc?export=download&id='$FILEID -O- | sed -rn 's/.*confirm=([0-9A-Za-z_]+).*/\\1\\n/p')&id=\"$FILEID -O tanjiro.jpeg && rm -rf /tmp/cookies.txt"
      ]
    },
    {
      "cell_type": "code",
      "source": [
        "import os\n",
        "import matplotlib.pyplot as plt\n",
        "from matplotlib.image import imread\n",
        "import numpy as np\n",
        "image = imread(os.path.join(\"tanjiro.jpeg\"))\n",
        "image = image[50:175,50:175,:]\n",
        "plt.imshow(image)\n",
        "image.shape"
      ],
      "metadata": {
        "id": "1dP37TE-5heD"
      },
      "execution_count": null,
      "outputs": []
    },
    {
      "cell_type": "code",
      "source": [
        "X = image.reshape(-1, 3)\n",
        "r,c,ch = image.shape\n",
        "print(r,c,ch)"
      ],
      "metadata": {
        "id": "Ff7XLGI77vha"
      },
      "execution_count": null,
      "outputs": []
    },
    {
      "cell_type": "code",
      "source": [
        "vr = np.linspace(0,r,r,endpoint=False)\n",
        "vc = np.linspace(0,c,c,endpoint=False)\n",
        "Xc = np.kron(np.ones((r,1)),vc.reshape(-1,1))\n",
        "Xr = np.kron(vr.reshape(-1,1),np.ones((1,c)))\n",
        "Xc = Xc.reshape(-1)\n",
        "Xr = Xr.reshape(-1)\n",
        "X = np.c_[X,Xc,Xr]\n",
        "X.shape"
      ],
      "metadata": {
        "id": "OsvQHlVKAJTm"
      },
      "execution_count": null,
      "outputs": []
    },
    {
      "cell_type": "code",
      "source": [
        "plt.pcolormesh(X)\n",
        "plt.colorbar()\n",
        "plt.show()"
      ],
      "metadata": {
        "id": "Hg8T3CFh6aZW"
      },
      "execution_count": null,
      "outputs": []
    },
    {
      "cell_type": "code",
      "source": [
        "from sklearn.preprocessing import MinMaxScaler\n",
        "from sklearn.decomposition import PCA\n",
        "scaler = MinMaxScaler()\n",
        "\n",
        "X_ = scaler.fit_transform(X)\n",
        "X_ = PCA(n_components=2).fit_transform(X_)\n",
        "plt.scatter(X_[:,0], X_[:,1], c=X[:,2])\n",
        "plt.show()"
      ],
      "metadata": {
        "id": "u-oJsOc975YB"
      },
      "execution_count": null,
      "outputs": []
    },
    {
      "cell_type": "code",
      "source": [
        "!pip install umap-learn"
      ],
      "metadata": {
        "id": "Vjj1zhpX_r-q"
      },
      "execution_count": null,
      "outputs": []
    },
    {
      "cell_type": "code",
      "source": [
        "from umap import UMAP\n",
        "X_ = scaler.fit_transform(X)\n",
        "X_ = UMAP(n_components=2,n_neighbors = 30,#round(np.sqrt(X_.shape[0])),\n",
        "          min_dist =0.9).fit_transform(X_)\n"
      ],
      "metadata": {
        "id": "0INi8FYYQgWP"
      },
      "execution_count": null,
      "outputs": []
    },
    {
      "cell_type": "code",
      "source": [
        "from sklearn.cluster import KMeans\n",
        "kmeans = KMeans(n_clusters=4,n_init='auto').fit(X_)\n",
        "kmeans.labels_"
      ],
      "metadata": {
        "id": "CGFSOlzwROWh"
      },
      "execution_count": null,
      "outputs": []
    },
    {
      "cell_type": "code",
      "source": [
        "plt.scatter(X_[:,0], X_[:,1], c=kmeans.labels_)\n",
        "\n",
        "plt.colorbar()\n",
        "plt.show()\n",
        "\n"
      ],
      "metadata": {
        "id": "UoUnXqcsR6-v"
      },
      "execution_count": null,
      "outputs": []
    },
    {
      "cell_type": "code",
      "source": [
        "labels_ = kmeans.labels_\n",
        "Ilabels = labels_.reshape(r,c)\n",
        "plt.imshow(Ilabels)\n",
        "plt.colorbar()\n",
        "plt.show()"
      ],
      "metadata": {
        "id": "TYJzdhucSi84"
      },
      "execution_count": null,
      "outputs": []
    },
    {
      "cell_type": "code",
      "source": [
        "D_ = kmeans.transform(X_)\n",
        "D_.shape\n",
        "ind_ = np.argmin(D_,axis=0)"
      ],
      "metadata": {
        "id": "rOq0iPrBUPNI"
      },
      "execution_count": null,
      "outputs": []
    },
    {
      "cell_type": "code",
      "source": [
        "D_.shape\n",
        "ind_"
      ],
      "metadata": {
        "id": "HDCuoFzrEwBV"
      },
      "execution_count": null,
      "outputs": []
    },
    {
      "cell_type": "code",
      "source": [
        "centroids_ = X[ind_,:3]\n",
        "centroids_"
      ],
      "metadata": {
        "id": "XHca96OKE3vg"
      },
      "execution_count": null,
      "outputs": []
    },
    {
      "cell_type": "code",
      "source": [
        "\n",
        "segmented_img = centroids_[kmeans.labels_]\n",
        "segmented_img = segmented_img.reshape(image.shape)\n",
        "plt.imshow(segmented_img/255.)\n",
        "\n",
        "plt.show()"
      ],
      "metadata": {
        "id": "o2ABixLtSzVr"
      },
      "execution_count": null,
      "outputs": []
    },
    {
      "cell_type": "code",
      "source": [
        "centroids_[kmeans.labels_]"
      ],
      "metadata": {
        "id": "fOf25JgqGc-d"
      },
      "execution_count": null,
      "outputs": []
    },
    {
      "cell_type": "code",
      "source": [
        "kmeans.labels_"
      ],
      "metadata": {
        "id": "vpMBqvM6UA0c"
      },
      "execution_count": null,
      "outputs": []
    },
    {
      "cell_type": "code",
      "source": [],
      "metadata": {
        "id": "6q3ymKpNGhEj"
      },
      "execution_count": null,
      "outputs": []
    }
  ]
}