{
  "cells": [
    {
      "cell_type": "markdown",
      "metadata": {
        "id": "view-in-github",
        "colab_type": "text"
      },
      "source": [
        "<a href=\"https://colab.research.google.com/github/amalvarezme/AprendizajeMaquina/blob/main/NLP_Basics/NLP2_Attention_ipnb.ipynb\" target=\"_parent\"><img src=\"https://colab.research.google.com/assets/colab-badge.svg\" alt=\"Open In Colab\"/></a>"
      ]
    },
    {
      "cell_type": "markdown",
      "metadata": {
        "id": "V-QfRlD_GZKJ"
      },
      "source": [
        "# 🤖 Attention is all you need!\n",
        "\n",
        "\n",
        "\n",
        "- We're going to open the black box of modern NLP.\n",
        "\n",
        "- RNNs and LSTMs sequential nature, while intuitive, becomes a bottleneck for training on the massive datasets required for true language understanding.\n",
        "\n",
        "- In 2017, the paper [**\"Attention Is All You Need\"**](https://proceedings.neurips.cc/paper_files/paper/2017/file/3f5ee243547dee91fbd053c1c4a845aa-Paper.pdf) changed everything. It introduced the **Transformer**, an architecture that processes all words in a sentence at once, using a powerful mechanism called **self-attention**.\n"
      ]
    },
    {
      "cell_type": "markdown",
      "metadata": {
        "id": "7OUNqn0aGZKK"
      },
      "source": [
        "---\n",
        "## The Core Idea - Self-Attention\n",
        "\n",
        "- Imagine the sentence: *\"The robot picked up the ball because **it** was heavy.\"*\n",
        "\n",
        "- What does **\"it\"** refer to? The robot or the ball? As humans, we know \"it\" refers to the ball. For a model to understand this, the representation for the word \"it\" needs to be informed by the representations of \"robot\" and \"ball\".\n",
        "\n",
        "- **Self-attention** is the mechanism that allows a model to weigh the importance of other words in the input sequence when processing a specific word. It learns to create context-aware embeddings by looking at the entire sentence at once.\n",
        "\n",
        "### The Q, K, V Analogy\n",
        "\n",
        "To achieve this, self-attention creates three vectors from each word's initial embedding:\n",
        "\n",
        "- **Query (Q):** What I'm looking for. This vector represents the current word asking a question, like \"Who am I related to?\"\n",
        "- **Key (K):** What I have. This vector represents a word's \"label\" or key, which other words can match against. It says, \"This is what I am.\"\n",
        "- **Value (V):** What I'm actually worth. This vector is the actual content of the word.\n",
        "\n",
        "The process works like this:\n",
        "\n",
        "1.  For the word we are currently processing (e.g., \"it\"), its **Query** vector is compared against every other word's **Key** vector in the sentence.\n",
        "\n",
        "2.  This comparison results in an **attention score** (a number), indicating how relevant each word is to \"it\". A high score means high relevance.\n",
        "\n",
        "3.  These scores are then used to create a weighted sum of all the **Value** vectors. Words with high scores contribute more to the final representation of \"it\".\n",
        "\n",
        "So, the model learns that the Query for \"it\" strongly matches the Key for \"ball\", and thus the Value of \"ball\" is heavily weighted into the new, context-aware representation of \"it\".\n",
        "\n",
        "\n",
        "![attention](https://miro.medium.com/v2/resize:fit:4800/format:webp/1*qN2Pj5J4VqAFf7dsA2dHpA.png?raw=1)"
      ]
    },
    {
      "cell_type": "markdown",
      "metadata": {
        "id": "xupD7NqRGZKK"
      },
      "source": [
        "### The Math: Scaled Dot-Product Attention\n",
        "\n",
        "This entire process is captured in a single, elegant equation:\n",
        "\n",
        "$$ \\Large \\text{Attention}(Q, K, V) = \\text{softmax}\\left(\\frac{QK^T}{\\sqrt{d_k}}\\right)V $$\n",
        "\n",
        "Let's break this down:\n",
        "1.  **$QK^T$**: We compute the dot product between the Query matrix and the transpose of the Key matrix. This calculates the attention scores for every word against every other word in one go.\n",
        "2.  **$/ \\sqrt{d_k}$**: We scale the scores by the square root of the dimension of the key vectors ($d_k$). This is crucial for numerical stability. Without it, the dot products can grow very large for large $d_k$, pushing the softmax function into regions with tiny gradients, making learning difficult.\n",
        "3.  **softmax()**: We apply a softmax function to the scaled scores. This turns the scores into a probability distribution (they sum to 1.0), representing the weights for each word's value.\n",
        "4.  **$V$**: We multiply this weight matrix by the Value matrix. This creates the final output—a new set of embeddings where each word's representation is a weighted sum of all other words' values."
      ]
    },
    {
      "cell_type": "markdown",
      "metadata": {
        "id": "4WF2bHKJGZKK"
      },
      "source": [
        "### Implementing Self-Attention in Keras\n",
        "\n",
        " We'll create a custom Keras layer for a single attention head."
      ]
    },
    {
      "cell_type": "code",
      "execution_count": null,
      "metadata": {
        "id": "D1TxXqwBGZKL",
        "colab": {
          "base_uri": "https://localhost:8080/"
        },
        "outputId": "4ab0938f-dfe1-4846-bec5-373922b6723e"
      },
      "outputs": [
        {
          "output_type": "stream",
          "name": "stdout",
          "text": [
            "Input shape: (4, 10, 128)\n",
            "Output shape: (4, 10, 64)\n"
          ]
        }
      ],
      "source": [
        "import tensorflow as tf\n",
        "from tensorflow.keras.layers import Layer, Dense\n",
        "import numpy as np\n",
        "\n",
        "class SelfAttention(Layer):\n",
        "    def __init__(self, embed_dim, head_dim):\n",
        "        super(SelfAttention, self).__init__()\n",
        "        self.embed_dim = embed_dim\n",
        "        self.head_dim = head_dim\n",
        "\n",
        "        # Check to ensure head_dim is a divisor of embed_dim\n",
        "        if embed_dim % head_dim != 0:\n",
        "            raise ValueError(\n",
        "                f\"embedding dimension = {embed_dim} should be divisible by head dimension = {head_dim}\"\n",
        "            )\n",
        "\n",
        "        # Dense layers to project input embeddings into Q, K, V\n",
        "        self.query_layer = Dense(head_dim, use_bias=False)\n",
        "        self.key_layer = Dense(head_dim, use_bias=False)\n",
        "        self.value_layer = Dense(head_dim, use_bias=False)\n",
        "\n",
        "    def call(self, inputs):\n",
        "        # inputs are expected to have shape (batch_size, seq_length, embed_dim)\n",
        "\n",
        "        # 1. Project inputs into Q, K, V\n",
        "        query = self.query_layer(inputs)  # Shape: (batch_size, seq_length, head_dim)\n",
        "        key = self.key_layer(inputs)    # Shape: (batch_size, seq_length, head_dim)\n",
        "        value = self.value_layer(inputs)  # Shape: (batch_size, seq_length, head_dim)\n",
        "\n",
        "        # 2. Calculate attention scores: QK^T\n",
        "        # We need to transpose the key matrix on its last two dimensions\n",
        "        # tf.matmul handles batch matrix multiplication automatically\n",
        "        scores = tf.matmul(query, key, transpose_b=True) # Shape: (batch_size, seq_length, seq_length)\n",
        "\n",
        "        # 3. Scale the scores\n",
        "        d_k = tf.cast(tf.shape(key)[-1], tf.float32) # Get head_dim as float\n",
        "        scaled_scores = scores / tf.math.sqrt(d_k)\n",
        "\n",
        "        # 4. Apply softmax to get attention weights\n",
        "        attention_weights = tf.nn.softmax(scaled_scores, axis=-1) # Shape: (batch_size, seq_length, seq_length)\n",
        "\n",
        "        # 5. Multiply weights by V to get the final output\n",
        "        output = tf.matmul(attention_weights, value) # Shape: (batch_size, seq_length, head_dim)\n",
        "\n",
        "        return output\n",
        "\n",
        "# Let's test it with some dummy data\n",
        "batch_size = 4\n",
        "seq_length = 10\n",
        "embed_dim = 128\n",
        "head_dim = 64 # Dimension of Q, K, V for a single head\n",
        "\n",
        "dummy_input = tf.random.normal((batch_size, seq_length, embed_dim))\n",
        "\n",
        "attention_layer = SelfAttention(embed_dim, head_dim)\n",
        "output_tensor = attention_layer(dummy_input)\n",
        "\n",
        "print(\"Input shape:\", dummy_input.shape)\n",
        "print(\"Output shape:\", output_tensor.shape)"
      ]
    },
    {
      "cell_type": "markdown",
      "metadata": {
        "id": "JaHdEmNvGZKL"
      },
      "source": [
        "---\n",
        "## Multi-Head Attention\n",
        "\n",
        "The authors found that it's more powerful to have multiple attention mechanisms, or **\"heads\"**, running in parallel. This is called **Multi-Head Attention**.\n",
        "\n",
        "![multihead](https://aiml.com/wp-content/uploads/2023/09/Self-Attention-vs-Multi-headed-Attention.png?raw=1)\n",
        "\n",
        "**Intuition:** One attention head might learn to track syntactic relationships (e.g., subject-verb agreement), while another might track semantic relationships (e.g., what \"it\" refers to). Each head looks at the input sentence through a different \"lens\".\n",
        "\n",
        "The process is simple:\n",
        "1.  Split the initial embedding dimension into `N` heads. For example, a 768-dim embedding could be split into 12 heads of 64-dim each.\n",
        "2.  Run the self-attention mechanism independently for each head in parallel.\n",
        "3.  Concatenate the outputs of all heads.\n",
        "4.  Pass the concatenated result through a final dense layer to produce the final output."
      ]
    },
    {
      "cell_type": "code",
      "execution_count": null,
      "metadata": {
        "id": "N0Iyh44fGZKL",
        "colab": {
          "base_uri": "https://localhost:8080/"
        },
        "outputId": "62e2d6b0-88aa-4f0c-8ab8-244fa907bc80"
      },
      "outputs": [
        {
          "output_type": "stream",
          "name": "stdout",
          "text": [
            "Input shape: (4, 10, 128)\n",
            "Multi-Head Attention output shape: (4, 10, 128)\n"
          ]
        }
      ],
      "source": [
        "class MultiHeadAttention(Layer):\n",
        "    def __init__(self, embed_dim, num_heads):\n",
        "        super(MultiHeadAttention, self).__init__()\n",
        "        self.embed_dim = embed_dim\n",
        "        self.num_heads = num_heads\n",
        "\n",
        "        if embed_dim % num_heads != 0:\n",
        "            raise ValueError(\n",
        "                f\"embedding dimension = {embed_dim} should be divisible by number of heads = {num_heads}\"\n",
        "            )\n",
        "\n",
        "        self.head_dim = embed_dim // num_heads\n",
        "\n",
        "        # Create a list of attention heads\n",
        "        self.attention_heads = [SelfAttention(embed_dim, self.head_dim) for _ in range(num_heads)]\n",
        "\n",
        "        # A final dense layer to combine the outputs of the heads\n",
        "        self.output_layer = Dense(embed_dim)\n",
        "\n",
        "    def call(self, inputs):\n",
        "        # 1. & 2. Run each attention head in parallel\n",
        "        head_outputs = [head(inputs) for head in self.attention_heads]\n",
        "\n",
        "        # 3. Concatenate the outputs\n",
        "        concatenated_heads = tf.concat(head_outputs, axis=-1) # Shape: (batch_size, seq_length, embed_dim)\n",
        "\n",
        "        # 4. Pass through the final dense layer\n",
        "        multi_head_output = self.output_layer(concatenated_heads)\n",
        "\n",
        "        return multi_head_output\n",
        "\n",
        "# Let's test it\n",
        "num_heads = 8\n",
        "\n",
        "mha_layer = MultiHeadAttention(embed_dim, num_heads)\n",
        "mha_output = mha_layer(dummy_input)\n",
        "\n",
        "print(\"Input shape:\", dummy_input.shape)\n",
        "print(\"Multi-Head Attention output shape:\", mha_output.shape)"
      ]
    },
    {
      "cell_type": "markdown",
      "metadata": {
        "id": "0AWsWCRkGZKL"
      },
      "source": [
        "---\n",
        "##  The Full Encoder Block\n",
        "\n",
        "\n",
        "The Multi-Head Attention layer is just one part of a full Transformer Encoder block. Two other crucial components are:\n",
        "\n",
        "1.  **Feed-Forward Network (FFN):** A simple two-layer fully connected network applied to each position's representation independently. This adds more learnable parameters and modeling capacity.\n",
        "2.  **Residual Connections & Layer Normalization:**\n",
        "   - **Residual Connection:** The input to a sub-layer (like MHA) is added to its output (`x + Sublayer(x)`). This is vital for training very deep networks, as it allows gradients to flow more easily.\n",
        "   - [**Layer Normalization:**](https://keras.io/api/layers/normalization_layers/layer_normalization/) This normalizes the features for each token across its embedding dimension. It helps stabilize the learning process.\n",
        "   \n",
        "The flow of a single Encoder Block is:\n",
        "`Input -> Multi-Head Attention -> Add & Norm -> Feed-Forward Network -> Add & Norm -> Output`\n",
        "\n",
        "![encoderAtt](https://miro.medium.com/v2/resize:fit:876/format:webp/1*7sjcgd_nyODdLbZSxyxz_g.png?raw=1)\n"
      ]
    },
    {
      "cell_type": "code",
      "execution_count": null,
      "metadata": {
        "id": "uopb0LWdGZKM",
        "colab": {
          "base_uri": "https://localhost:8080/"
        },
        "outputId": "990d34aa-d1d0-4252-b457-07ba1eeb97eb"
      },
      "outputs": [
        {
          "output_type": "stream",
          "name": "stdout",
          "text": [
            "Input shape: (4, 10, 128)\n",
            "Encoder Block output shape: (4, 10, 128)\n"
          ]
        }
      ],
      "source": [
        "from tensorflow.keras.layers import LayerNormalization, Add\n",
        "\n",
        "class EncoderBlock(Layer):\n",
        "    def __init__(self, embed_dim, num_heads, ffn_dim, dropout_rate=0.1):\n",
        "        super(EncoderBlock, self).__init__()\n",
        "\n",
        "        self.mha = MultiHeadAttention(embed_dim, num_heads)\n",
        "        self.ffn = tf.keras.Sequential([\n",
        "            Dense(ffn_dim, activation=\"relu\"),\n",
        "            Dense(embed_dim)\n",
        "        ])\n",
        "\n",
        "        self.layernorm1 = LayerNormalization(epsilon=1e-6)\n",
        "        self.layernorm2 = LayerNormalization(epsilon=1e-6)\n",
        "\n",
        "        self.dropout1 = tf.keras.layers.Dropout(dropout_rate)\n",
        "        self.dropout2 = tf.keras.layers.Dropout(dropout_rate)\n",
        "\n",
        "    def call(self, inputs, training=False):\n",
        "        # --- First sub-layer: Multi-Head Attention --- #\n",
        "        attn_output = self.mha(inputs)\n",
        "        attn_output = self.dropout1(attn_output, training=training)\n",
        "        # Residual connection and layer normalization\n",
        "        out1 = self.layernorm1(inputs + attn_output)\n",
        "\n",
        "        # --- Second sub-layer: Feed-Forward Network --- #\n",
        "        ffn_output = self.ffn(out1)\n",
        "        ffn_output = self.dropout2(ffn_output, training=training)\n",
        "        # Residual connection and layer normalization\n",
        "        out2 = self.layernorm2(out1 + ffn_output)\n",
        "\n",
        "        return out2\n",
        "\n",
        "# Test the full block\n",
        "ffn_dim = 256 # Intermediate dimension for the FFN\n",
        "encoder_block = EncoderBlock(embed_dim, num_heads, ffn_dim)\n",
        "encoder_output = encoder_block(dummy_input)\n",
        "\n",
        "print(\"Input shape:\", dummy_input.shape)\n",
        "print(\"Encoder Block output shape:\", encoder_output.shape)"
      ]
    },
    {
      "cell_type": "markdown",
      "metadata": {
        "id": "3KJ4jQDbGZKM"
      },
      "source": [
        "---\n",
        "## Positional Encodings - The Missing Piece\n",
        "\n",
        "There's one final problem. Our attention mechanism is **permutation invariant**. If you shuffle the words in a sentence, it will produce almost the same output because it doesn't have an inherent sense of order. But for language, word order is everything! *\"The dog bit the man\"* is very different from *\"The man bit the dog\"*.\n",
        "\n",
        "The solution is to add a vector to each input embedding that explicitly encodes its position in the sequence. This is the **Positional Encoding**. The authors used a clever trick with sine and cosine functions:\n",
        "\n",
        "$$ PE_{(pos, 2i)} = \\sin\\left(\\frac{pos}{10000^{2i/d_{\\text{model}}}}\\right) $$\n",
        "$$ PE_{(pos, 2i+1)} = \\cos\\left(\\frac{pos}{10000^{2i/d_{\\text{model}}}}\\right) $$\n",
        "\n",
        "Where:\n",
        "- `pos` is the position of the word in the sequence (0, 1, 2, ...).\n",
        "- `i` is the dimension within the embedding vector (0, 1, 2, ...).\n",
        "- `d_model` is the total embedding dimension.\n",
        "\n",
        "This creates a unique, non-repeating vector for each position that the model can learn to interpret.\n",
        "Let's visualize them!"
      ]
    },
    {
      "cell_type": "code",
      "execution_count": null,
      "metadata": {
        "id": "HP7tbd5NGZKM",
        "colab": {
          "base_uri": "https://localhost:8080/",
          "height": 564
        },
        "outputId": "13febbdf-928f-4412-e9fb-d105adf953a7"
      },
      "outputs": [
        {
          "output_type": "display_data",
          "data": {
            "text/plain": [
              "<Figure size 1000x600 with 2 Axes>"
            ],
            "image/png": "[encoded data removed]"
          },
          "metadata": {}
        }
      ],
      "source": [
        "import matplotlib.pyplot as plt\n",
        "\n",
        "def get_positional_encoding(max_seq_len, d_model):\n",
        "    # Create a matrix of positions and dimensions\n",
        "    position = np.arange(max_seq_len)[:, np.newaxis]\n",
        "    div_term = np.exp(np.arange(0, d_model, 2) * -(np.log(10000.0) / d_model))\n",
        "\n",
        "    # Initialize the positional encoding matrix\n",
        "    pe = np.zeros((max_seq_len, d_model))\n",
        "\n",
        "    # Apply sin to even indices\n",
        "    pe[:, 0::2] = np.sin(position * div_term)\n",
        "\n",
        "    # Apply cos to odd indices\n",
        "    pe[:, 1::2] = np.cos(position * div_term)\n",
        "\n",
        "    return tf.constant(pe, dtype=tf.float32)\n",
        "\n",
        "# Visualize the positional encodings\n",
        "max_seq_len_viz = 50\n",
        "d_model_viz = 128\n",
        "\n",
        "pos_encoding = get_positional_encoding(max_seq_len_viz, d_model_viz)\n",
        "\n",
        "plt.figure(figsize=(10, 6))\n",
        "plt.pcolormesh(pos_encoding, cmap='viridis')\n",
        "plt.xlabel('Embedding Dimension')\n",
        "plt.xlim((0, d_model_viz))\n",
        "plt.ylabel('Position in Sequence')\n",
        "plt.colorbar()\n",
        "plt.title('Visualization of Positional Encodings')\n",
        "plt.show()"
      ]
    },
    {
      "cell_type": "markdown",
      "metadata": {
        "id": "dHBVBCPbGZKM"
      },
      "source": [
        "You can see how each row (position) has a unique sinusoidal pattern. This is what the model uses to understand word order.\n",
        "\n",
        "---\n",
        "\n",
        "## Conclusion\n",
        "\n",
        "\n",
        "We have learned:\n",
        "1.  **Self-Attention** is a mechanism for creating context-aware embeddings by weighing the importance of all words in a sequence.\n",
        "2.  The **Q, K, V** formulation allows this weighing to be learned and executed efficiently with matrix multiplication.\n",
        "3.  **Multi-Head Attention** allows the model to focus on different types of relationships simultaneously.\n",
        "4.  **Positional Encodings** inject the crucial information about word order into the model.\n",
        "5.  An **Encoder Block** combines these elements with residual connections and layer normalization to create a powerful, stable, and trainable unit.\n",
        "\n",
        "Models like **BERT** are essentially just a stack of these Encoder Blocks. By understanding this single block, you understand the core of what makes modern NLP possible."
      ]
    }
  ],
  "metadata": {
    "kernelspec": {
      "display_name": "Python 3",
      "language": "python",
      "name": "python3"
    },
    "language_info": {
      "codemirror_mode": {
        "name": "ipython",
        "version": 3
      },
      "file_extension": ".py",
      "mimetype": "text/x-python",
      "name": "python",
      "nbconvert_exporter": "python",
      "pygments_lexer": "ipython3",
      "version": "3.10.12"
    },
    "colab": {
      "provenance": [],
      "include_colab_link": true
    }
  },
  "nbformat": 4,
  "nbformat_minor": 0
}