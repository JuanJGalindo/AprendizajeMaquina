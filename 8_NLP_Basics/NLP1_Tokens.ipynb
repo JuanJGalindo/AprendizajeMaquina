{
  "cells": [
    {
      "cell_type": "markdown",
      "metadata": {
        "id": "view-in-github",
        "colab_type": "text"
      },
      "source": [
        "<a href=\"https://colab.research.google.com/github/amalvarezme/AprendizajeMaquina/blob/main/NLP_Basics/NLP1_Tokens.ipynb\" target=\"_parent\"><img src=\"https://colab.research.google.com/assets/colab-badge.svg\" alt=\"Open In Colab\"/></a>"
      ]
    },
    {
      "cell_type": "markdown",
      "metadata": {
        "id": "7Q0JOujCkLDb"
      },
      "source": [
        "# 📓 Introduction to Natural Language Processing  \n",
        "\n",
        "![NLP](https://f5b623aa.delivery.rocketcdn.me/wp-content/uploads/2022/10/How-NLP-Works-760px.jpg.avif)\n",
        "\n",
        "# Tokenizers & Embeddings - From Raw Text to Meaningful Vectors\n",
        "\n",
        "- Today, we will revisit the foundational pipeline of Natural Language Processing (NLP),\n",
        "\n",
        "- As you'll see, the core principles are universal, even if the code looks a little different.\n",
        "\n",
        "- **Goal** : to understand how we take human language and turn it into the structured numbers that a machine learning model can process.\n",
        "\n",
        "## Main Concepts:\n",
        "\n",
        "1.  **Tokenization**: Breaking down sentences into Lego bricks (words or sub-words).\n",
        "\n",
        "![tokens](https://miro.medium.com/v2/resize:fit:4800/format:webp/1*PZYP2nL6Zc_jpkaHLRxLQQ.png?raw=1)\n",
        "\n",
        "2.  **Embedding**: Giving each Lego brick a specific set of coordinates in a \"meaning space.\"\n",
        "\n",
        "![embeddings](https://towardsdatascience.com/wp-content/uploads/2025/01/1tvdDIojXwTRpUW4jr4a72A.png?raw=1)\n",
        "\n",
        "You will understand:\n",
        "\n",
        "*   How to use [Hugging Face](https://huggingface.co/) tokenizers to prepare data specifically for TensorFlow models.\n",
        "\n",
        "*   How to load a pre-trained Transformer model using Keras.\n",
        "\n",
        "*   How to generate and inspect contextual embeddings from a model like BERT within the TensorFlow ecosystem.\n",
        "\n",
        "*   That the high-level concepts of NLP are framework-agnostic."
      ]
    },
    {
      "cell_type": "markdown",
      "metadata": {
        "id": "udckQaiGkLDd"
      },
      "source": [
        "---\n",
        "## Tokenization - The Building Blocks of Language\n",
        "\n",
        "### Why Do We Need It?\n",
        "\n",
        "Models don't see \"hello world\". They see numbers. Tokenization is the first step in converting text to numbers. We create a vocabulary (a list of all unique tokens) and then map each token to a unique integer ID.\n",
        "\n",
        "### Types of Tokenization\n",
        "\n",
        "There are three main strategies, each with its own pros and cons:\n",
        "\n",
        "- **Word-level**: The most intuitive approach. You split a sentence by spaces and punctuation.\n",
        "\n",
        "  **Pros**: Simple, creates human-readable tokens.\n",
        "\n",
        "  **Cons**: Struggles with \"out-of-vocabulary\" (OOV) words. What if the model was trained on \"dog\" but sees \"dogs\"? Or a typo like \"dogg\"? The vocabulary can also become enormous.\n",
        "\n",
        "- **Character-level**: Split the text into individual characters.\n",
        "\n",
        "  **Pros**: Very small vocabulary, no OOV problem.\n",
        "  **Cons**: Loses the semantic meaning of a word. The sequence becomes very long, making it computationally expensive for models.\n",
        "\n",
        "- **Subword-level (The Modern Standard)**: This is the brilliant compromise used by models like BERT, GPT, and T5. It breaks words into smaller, semantically meaningful parts.\n",
        "  \n",
        "  Frequently used words (\"the\", \"and\") remain as single tokens. Rarer words are broken down.\n",
        "  \n",
        "  For example, \"tokenization\" might become [\"token\", \"##ization\"]. The ## indicates that this subword is attached to the previous one.\n",
        "\n",
        "  **Pros**: Manages vocabulary size well, handles OOV words gracefully (it can represent any word as a combination of subwords), and retains semantic meaning.\n",
        "\n"
      ]
    },
    {
      "cell_type": "markdown",
      "metadata": {
        "id": "wQRAKIookLDd"
      },
      "source": [
        "### Code Demo: Tokenization for TensorFlow\n",
        "\n",
        "The `transformers` library from Hugging Face is framework-agnostic. We can use the *same tokenizer* but instruct it to output tensors in a format that TensorFlow understands.\n",
        "\n",
        "First, let's install the necessary libraries. Note that we are installing `tensorflow` instead of `torch`."
      ]
    },
    {
      "cell_type": "code",
      "execution_count": null,
      "metadata": {
        "id": "J1rS7a7iM59P",
        "title": "Install necessary libraries"
      },
      "outputs": [],
      "source": [
        "!pip install transformers tensorflow datasets -q"
      ]
    },
    {
      "cell_type": "markdown",
      "metadata": {
        "id": "9tG7L2rNM9V9"
      },
      "source": [
        "## BERT\n",
        "\n",
        "\n",
        "\n",
        "![BERT](https://wikidocs.net/images/page/159246/5_BERT_model_simplified.drawio.png?raw=1)\n",
        "\n",
        "\n",
        "Now, we load a pre-trained tokenizer: `bert-base-uncased`."
      ]
    },
    {
      "cell_type": "code",
      "execution_count": null,
      "metadata": {
        "colab": {
          "base_uri": "https://localhost:8080/"
        },
        "id": "q0sH2v3-NA6E",
        "outputId": "02d668e8-fb0f-4cd3-9bb2-d1bbc781df08",
        "title": "Load a pre-trained tokenizer"
      },
      "outputs": [
        {
          "output_type": "stream",
          "name": "stdout",
          "text": [
            "Loaded tokenizer for: bert-base-uncased\n",
            "Vocabulary size: 30522\n"
          ]
        }
      ],
      "source": [
        "from transformers import AutoTokenizer\n",
        "\n",
        "# Load the tokenizer for BERT\n",
        "# \"uncased\" means the tokenizer will convert all text to lowercase.\n",
        "model_name = \"bert-base-uncased\"\n",
        "tokenizer = AutoTokenizer.from_pretrained(model_name)\n",
        "\n",
        "print(f\"Loaded tokenizer for: {model_name}\")\n",
        "print(f\"Vocabulary size: {tokenizer.vocab_size}\")"
      ]
    },
    {
      "cell_type": "markdown",
      "metadata": {
        "id": "eQ5B4l2tNEdk"
      },
      "source": [
        "Here's the first key difference. When we call the tokenizer, we'll specify `return_tensors=\"tf\"` to get TensorFlow tensors instead of Python lists or PyTorch tensors."
      ]
    },
    {
      "cell_type": "code",
      "execution_count": null,
      "metadata": {
        "colab": {
          "base_uri": "https://localhost:8080/"
        },
        "id": "p67y6e3vNI7R",
        "outputId": "c8d9c7e8-85af-4138-8fa8-b36b1f3b1cbe",
        "title": "Tokenize and convert to TensorFlow Tensors"
      },
      "outputs": [
        {
          "output_type": "stream",
          "name": "stdout",
          "text": [
            "Encoded Input Dictionary:\n",
            "  input_ids:\n",
            "tf.Tensor(\n",
            "[[  101 17953  2361  2003 17160  1010  2021 19204  3989  2064  2022 24026\n",
            "   1012   102]], shape=(1, 14), dtype=int32)\n",
            "  Shape: (1, 14), Dtype: <dtype: 'int32'>\n",
            "  token_type_ids:\n",
            "tf.Tensor([[0 0 0 0 0 0 0 0 0 0 0 0 0 0]], shape=(1, 14), dtype=int32)\n",
            "  Shape: (1, 14), Dtype: <dtype: 'int32'>\n",
            "  attention_mask:\n",
            "tf.Tensor([[1 1 1 1 1 1 1 1 1 1 1 1 1 1]], shape=(1, 14), dtype=int32)\n",
            "  Shape: (1, 14), Dtype: <dtype: 'int32'>\n"
          ]
        }
      ],
      "source": [
        "import tensorflow as tf\n",
        "\n",
        "text = \"NLP is fascinating, but tokenization can be tricky.\"\n",
        "\n",
        "# The key difference is return_tensors=\"tf\"\n",
        "encoded_input = tokenizer(text, return_tensors=\"tf\")\n",
        "\n",
        "print(\"Encoded Input Dictionary:\")\n",
        "for key, value in encoded_input.items():\n",
        "    print(f\"  {key}:\")\n",
        "    # A tf.Tensor has a more detailed print output than a simple list\n",
        "    print(value)\n",
        "    print(f\"  Shape: {value.shape}, Dtype: {value.dtype}\")"
      ]
    },
    {
      "cell_type": "markdown",
      "metadata": {
        "id": "7LzX8_cGNK9E"
      },
      "source": [
        "Notice the output. We no longer have simple Python lists. We have `tf.Tensor` objects, which are the fundamental data structure used by TensorFlow. The `input_ids` and `attention_mask` are now ready to be fed directly into a Keras/TensorFlow model.\n",
        "\n",
        "Let's decode the IDs just to confirm they represent the same subword tokens we saw before."
      ]
    },
    {
      "cell_type": "code",
      "execution_count": null,
      "metadata": {
        "colab": {
          "base_uri": "https://localhost:8080/"
        },
        "id": "jVn796jHNMNc",
        "outputId": "9dd925ab-48d8-46ec-fa2b-00ed3c977d43",
        "title": "Decode IDs back to tokens"
      },
      "outputs": [
        {
          "output_type": "stream",
          "name": "stdout",
          "text": [
            "Original Text: NLP is fascinating, but tokenization can be tricky.\n",
            "\n",
            "IDs Decoded to Tokens:\n",
            "['[CLS]', 'nl', '##p', 'is', 'fascinating', ',', 'but', 'token', '##ization', 'can', 'be', 'tricky', '.', '[SEP]']\n"
          ]
        }
      ],
      "source": [
        "input_ids = encoded_input['input_ids'][0] # Get the actual list of IDs from the tensor\n",
        "decoded_tokens = tokenizer.convert_ids_to_tokens(input_ids)\n",
        "\n",
        "print(\"Original Text:\", text)\n",
        "print(\"\\nIDs Decoded to Tokens:\")\n",
        "print(decoded_tokens)"
      ]
    },
    {
      "cell_type": "markdown",
      "source": [
        "- Notice how fascinating was split into ['fascinat', '##ing'] and tokenization into ['token', '##ization'].\n",
        "\n",
        "- This is subword tokenization at work! The model can now understand these words even if it hasn't seen them in their exact form, as long as it has seen their component parts.\n",
        "\n",
        "- The ultimate goal is to get numerical IDs. The tokenizer object can do this directly. It also adds special tokens that the model needs:\n",
        "\n",
        "- [CLS] (Classification): A token added to the beginning of a sequence. Its embedding is often used for sentence-level classification tasks.\n",
        "\n",
        "- [SEP] (Separator): A token used to separate two different sentences.\n",
        "\n",
        "- The final numerical representation is a list of integers called input_ids. This is the direct input that will go into our model.\n",
        "\n",
        "- The attention_mask is also critical; it tells the model to pay attention to the real tokens and ignore any padding tokens we might add later when processing multiple sentences of different lengths in a batch."
      ],
      "metadata": {
        "id": "4-GNh52k_BUC"
      }
    },
    {
      "cell_type": "markdown",
      "metadata": {
        "id": "w8yv3gG5NPUj"
      },
      "source": [
        "---\n",
        "## Embeddings - Giving Words Meaning\n",
        "\n",
        "**Embeddings** are dense vectors (lists of numbers) that represent tokens in a high-dimensional \"meaning space.\" We are focusing on **Contextual Embeddings** from models like BERT, where the vector for a word changes based on its surrounding context.\n",
        "\n",
        "- We have our input_ids, but they are just arbitrary indices. The number 8699 for \"fascinat\" has no inherent relationship to the number 2003 for \"is\".\n",
        "\n",
        "- Embeddings solve this problem.\n",
        "\n",
        "- **Key Idea**: These vectors are not random. They are learned during the model's training process. The model adjusts the vectors such that tokens with similar meanings are placed closer together in a high-dimensional \"meaning space\".\n",
        "\n",
        "- This allows for incredible semantic arithmetic, like the classic example:\n",
        "\n",
        " vector('King') - vector('Man') + vector('Woman') ≈ vector('Queen').\n",
        "\n",
        "### Static vs. Contextual Embeddings\n",
        "\n",
        "- **Static Embeddings** (e.g., Word2Vec, GloVe): Older methods that assign a single, fixed vector to each word. The word \"bank\" would have the same vector in \"river bank\" and \"investment bank\". This is a major limitation.\n",
        "\n",
        "- **Contextual Embeddings** (e.g., BERT, GPT): Modern methods that generate embeddings based on the surrounding context of a word in a sentence. The vector for \"bank\" will be different in the two sentences above. This is what makes modern NLP so powerful."
      ]
    },
    {
      "cell_type": "markdown",
      "metadata": {
        "id": "iN0u-2fINQ0W"
      },
      "source": [
        "### Generating Embeddings with Keras/TF\n",
        "\n",
        "- Hugging Face provides `TFAutoModel` for loading models that have a TensorFlow/Keras backend.\n",
        "\n",
        "- Let's load the full BERT model and feed it our input_ids to get these rich, contextual embeddings."
      ]
    },
    {
      "cell_type": "code",
      "execution_count": null,
      "metadata": {
        "colab": {
          "base_uri": "https://localhost:8080/"
        },
        "id": "7gP-2_8aNRsL",
        "outputId": "a56b3202-7c1b-4e95-8ce7-03b3192a4b49",
        "title": "Load the pre-trained BERT model (TensorFlow version)"
      },
      "outputs": [
        {
          "output_type": "stream",
          "name": "stderr",
          "text": [
            "Some weights of the PyTorch model were not used when initializing the TF 2.0 model TFBertModel: ['cls.predictions.transform.dense.bias', 'cls.predictions.transform.LayerNorm.bias', 'cls.predictions.transform.LayerNorm.weight', 'cls.predictions.bias', 'cls.predictions.transform.dense.weight', 'cls.seq_relationship.bias', 'cls.seq_relationship.weight']\n",
            "- This IS expected if you are initializing TFBertModel from a PyTorch model trained on another task or with another architecture (e.g. initializing a TFBertForSequenceClassification model from a BertForPreTraining model).\n",
            "- This IS NOT expected if you are initializing TFBertModel from a PyTorch model that you expect to be exactly identical (e.g. initializing a TFBertForSequenceClassification model from a BertForSequenceClassification model).\n",
            "All the weights of TFBertModel were initialized from the PyTorch model.\n",
            "If your task is similar to the task the model of the checkpoint was trained on, you can already use TFBertModel for predictions without further training.\n"
          ]
        },
        {
          "output_type": "stream",
          "name": "stdout",
          "text": [
            "Loaded bert-base-uncased as a Keras model.\n",
            "Model: \"tf_bert_model_4\"\n",
            "_________________________________________________________________\n",
            " Layer (type)                Output Shape              Param #   \n",
            "=================================================================\n",
            " bert (TFBertMainLayer)      multiple                  109482240 \n",
            "                                                                 \n",
            "=================================================================\n",
            "Total params: 109482240 (417.64 MB)\n",
            "Trainable params: 109482240 (417.64 MB)\n",
            "Non-trainable params: 0 (0.00 Byte)\n",
            "_________________________________________________________________\n"
          ]
        }
      ],
      "source": [
        "from transformers import TFAutoModel\n",
        "from tensorflow.keras.utils import plot_model\n",
        "\n",
        "# Load the model with a TensorFlow backend\n",
        "# This is a Keras model!\n",
        "model = TFAutoModel.from_pretrained(model_name)\n",
        "\n",
        "print(f\"Loaded {model_name} as a Keras model.\")\n",
        "\n",
        "# We can even inspect it like any other Keras model\n",
        "model.summary()\n"
      ]
    },
    {
      "cell_type": "markdown",
      "metadata": {
        "id": "YgUV0-fwkLDf"
      },
      "source": [
        "Look at the model summary! This confirms we're working with a standard Keras model. Now, let's pass our tokenized TensorFlow tensors through it to get our embeddings."
      ]
    },
    {
      "cell_type": "code",
      "execution_count": null,
      "metadata": {
        "colab": {
          "base_uri": "https://localhost:8080/"
        },
        "id": "67vHlV6ENWJz",
        "outputId": "1a1b7738-bdb2-4393-90fd-9162fac3add1",
        "title": "Generate embeddings from the model"
      },
      "outputs": [
        {
          "output_type": "stream",
          "name": "stdout",
          "text": [
            "Input Tensors Shape (batch_size, sequence_length):\n",
            "(1, 11)\n",
            "\n",
            "Embeddings Tensor Shape (batch_size, sequence_length, embedding_dimension):\n",
            "(1, 11, 768)\n"
          ]
        }
      ],
      "source": [
        "text_to_embed = \"The main bank is on the river bank.\"\n",
        "inputs = tokenizer(text_to_embed, return_tensors=\"tf\")\n",
        "\n",
        "print(\"Input Tensors Shape (batch_size, sequence_length):\")\n",
        "print(inputs['input_ids'].shape)\n",
        "\n",
        "# In Keras, you call the model directly on the inputs\n",
        "outputs = model(inputs)\n",
        "\n",
        "# The model output we care about is the 'last_hidden_state'\n",
        "# This is also a tf.Tensor\n",
        "embeddings = outputs.last_hidden_state\n",
        "\n",
        "print(\"\\nEmbeddings Tensor Shape (batch_size, sequence_length, embedding_dimension):\")\n",
        "print(embeddings.shape)"
      ]
    },
    {
      "cell_type": "markdown",
      "metadata": {
        "id": "S1yR54DONY5f"
      },
      "source": [
        "The output shape (1, 10, 768) tells us:\n",
        "\n",
        "- 1: We processed 1 sentence (batch size).\n",
        "\n",
        "- 10: Our sentence was tokenized into 10 tokens.\n",
        "\n",
        "- 768: Each token is represented by a vector of 768 numbers. This is the \"hidden size\" or \"embedding dimension\" of the bert-base model.\n",
        "\n",
        "Now for the magic. Let's prove that the embeddings are contextual. We'll find the two \"bank\" tokens and compare their vectors.\n",
        "\n"
      ]
    },
    {
      "cell_type": "code",
      "execution_count": null,
      "metadata": {
        "colab": {
          "base_uri": "https://localhost:8080/"
        },
        "id": "N3d4T86yNbm1",
        "outputId": "f1edf720-446a-48b3-f61d-3962894735d2",
        "title": "Compare embeddings for the same word in different contexts"
      },
      "outputs": [
        {
          "output_type": "stream",
          "name": "stdout",
          "text": [
            "Tokens: ['[CLS]', 'the', 'main', 'bank', 'is', 'on', 'the', 'river', 'bank', '.', '[SEP]']\n",
            "\n",
            "Index of first 'bank': 3\n",
            "Index of second 'bank': 8\n",
            "\n",
            "Cosine Similarity between the two 'bank' embeddings: 0.7204\n",
            "Self-similarity of the first 'bank' embedding: 1.0000\n"
          ]
        }
      ],
      "source": [
        "from tensorflow.keras.losses import CosineSimilarity\n",
        "\n",
        "tokens = tokenizer.convert_ids_to_tokens(inputs['input_ids'][0])\n",
        "print(\"Tokens:\", tokens)\n",
        "\n",
        "# Find the indices of the two 'bank' tokens\n",
        "bank_indices = [i for i, token in enumerate(tokens) if token == \"bank\"]\n",
        "main_bank_idx = bank_indices[0]\n",
        "river_bank_idx = bank_indices[1]\n",
        "\n",
        "print(f\"\\nIndex of first 'bank': {main_bank_idx}\")\n",
        "print(f\"Index of second 'bank': {river_bank_idx}\")\n",
        "\n",
        "# Get the embedding vectors for each 'bank'\n",
        "main_bank_embedding = embeddings[0, main_bank_idx]\n",
        "river_bank_embedding = embeddings[0, river_bank_idx]\n",
        "\n",
        "# To calculate similarity with Keras, we need to provide a \"batch\" dimension.\n",
        "# We use tf.expand_dims to change the shape from (768,) to (1, 768).\n",
        "main_bank_embedding_b = tf.expand_dims(main_bank_embedding, axis=0)\n",
        "river_bank_embedding_b = tf.expand_dims(river_bank_embedding, axis=0)\n",
        "\n",
        "# Keras's CosineSimilarity is a loss function, so it calculates 1 - similarity.\n",
        "# The result is negative because a perfect match gives a similarity of 1, and loss = -1.\n",
        "# So we take the negative of the result to get the actual similarity score.\n",
        "cosine_loss = CosineSimilarity(axis=1)\n",
        "similarity = -cosine_loss(main_bank_embedding_b, river_bank_embedding_b)\n",
        "\n",
        "print(f\"\\nCosine Similarity between the two 'bank' embeddings: {similarity.numpy():.4f}\")\n",
        "\n",
        "# For comparison, let's check the similarity of a word with itself (should be 1.0)\n",
        "self_similarity = -cosine_loss(main_bank_embedding_b, main_bank_embedding_b)\n",
        "print(f\"Self-similarity of the first 'bank' embedding: {self_similarity.numpy():.4f}\")"
      ]
    },
    {
      "cell_type": "markdown",
      "metadata": {
        "id": "3l3L3l8SNlQd"
      },
      "source": [
        "Once again, the similarity is high, but not a perfect 1.0! This proves that the TensorFlow version of BERT also successfully generates **contextual embeddings**. Our finding is independent of the deep learning framework we use.\n",
        "\n",
        "### Visualizing the Embedding \"Meaning Space\"\n",
        "\n",
        "This part remains almost identical, as `scikit-learn` and `matplotlib` are independent libraries. The only change is that we convert our `tf.Tensor` to a NumPy array using the `.numpy()` method."
      ]
    },
    {
      "cell_type": "code",
      "execution_count": null,
      "metadata": {
        "colab": {
          "base_uri": "https://localhost:8080/",
          "height": 872
        },
        "id": "e_bT-Lh1NnzG",
        "outputId": "de3fc1b5-ce88-44b7-eb47-fcf81c7296eb",
        "title": "Visualize Embeddings with PCA"
      },
      "outputs": [
        {
          "output_type": "display_data",
          "data": {
            "text/plain": [
              "<Figure size 1200x1000 with 1 Axes>"
            ],
            "image/png": "[encoded data removed]"
          },
          "metadata": {}
        }
      ],
      "source": [
        "import matplotlib.pyplot as plt\n",
        "from sklearn.decomposition import PCA\n",
        "\n",
        "# A list of words to visualize\n",
        "words = [\"king\", \"queen\", \"prince\", \"princess\", \"man\", \"woman\", \"london\", \"paris\", \"tokyo\", \"water\", \"computer\"]\n",
        "text_for_viz = \" \".join(words)\n",
        "\n",
        "# Tokenize and get embeddings using our TF model\n",
        "inputs_viz = tokenizer(text_for_viz, return_tensors=\"tf\")\n",
        "outputs_viz = model(inputs_viz)\n",
        "embeddings_viz = outputs_viz.last_hidden_state\n",
        "\n",
        "# We need to align tokens with our original words, which can be tricky with subwords.\n",
        "# For this simple case, we can assume one-to-one mapping, skipping [CLS] and [SEP]\n",
        "token_embeddings = embeddings_viz[0, 1:-1] # Exclude [CLS] and [SEP]\n",
        "tokens_viz = tokenizer.convert_ids_to_tokens(inputs_viz['input_ids'][0])[1:-1]\n",
        "\n",
        "# Check if our tokens match our words\n",
        "if len(tokens_viz) != len(words):\n",
        "  print(\"Warning: Subword tokenization created a mismatch. Visualization may be inaccurate.\")\n",
        "  print(\"Words:\", words)\n",
        "  print(\"Tokens:\", tokens_viz)\n",
        "\n",
        "# Reduce 768 dimensions to 2 using PCA\n",
        "pca = PCA(n_components=2)\n",
        "# .numpy() converts the TensorFlow tensor to a NumPy array for scikit-learn\n",
        "embeddings_2d = pca.fit_transform(token_embeddings.numpy())\n",
        "\n",
        "# Create the plot\n",
        "plt.figure(figsize=(12, 10))\n",
        "plt.scatter(embeddings_2d[:, 0], embeddings_2d[:, 1])\n",
        "\n",
        "# Add labels to each point\n",
        "for i, word in enumerate(tokens_viz):\n",
        "    plt.annotate(word, (embeddings_2d[i, 0], embeddings_2d[i, 1]), fontsize=12)\n",
        "\n",
        "plt.title(\"2D PCA of BERT Word Embeddings (from TensorFlow/Keras)\")\n",
        "plt.xlabel(\"Principal Component 1\")\n",
        "plt.ylabel(\"Principal Component 2\")\n",
        "plt.grid(True)\n",
        "plt.show()"
      ]
    },
    {
      "cell_type": "markdown",
      "metadata": {
        "id": "g-C119pYNuS1"
      },
      "source": [
        "Look at the plot!\n",
        "\n",
        "- king, queen, prince, princess, man, and woman are all clustered together in a \"royalty/people\" group.\n",
        "\n",
        "- london, paris, and tokyo are clustered in a \"cities\" group.\n",
        "water and computer are off on their own, distinct from the other concepts.\n",
        "\n",
        "- This is a visual confirmation that the embeddings have successfully learned semantic relationships from the data they were trained on.\n",
        "\n",
        "\n"
      ]
    },
    {
      "cell_type": "markdown",
      "source": [
        "## Conclusion\n",
        "\n",
        "- Tokenize raw text into numerical input_ids using a sophisticated subword tokenizer.\n",
        "\n",
        "- Generate Embeddings by passing these IDs through a powerful Transformer model like BERT.\n",
        "\n",
        "- Appreciate that these embeddings are contextual and capture the semantic meaning of words in a way that allows for amazing downstream performance.\n",
        "\n",
        "- These embeddings are the foundation upon which everything else is built. Whether you're doing text classification, question answering, or text generation, the process will always start by turning your text into these meaningful vectors.\n",
        "\n",
        "Next Steps for Exploration:\n",
        "\n",
        "- Try different sentences and see how the tokenizer and embeddings change.\n",
        "Look up other models on the Hugging Face Hub (e.g., roberta-base, distilbert-base-uncased).\n",
        "\n",
        "- Think about how these embeddings could be used. For example, you could average all the token embeddings in a sentence to get a single vector representing the entire sentence's meaning.\n",
        "\n",
        "## TensorFlow Embedding Projector\n",
        "\n",
        "https://projector.tensorflow.org/"
      ],
      "metadata": {
        "id": "OEe2G9jKDkFW"
      }
    }
  ],
  "metadata": {
    "kernelspec": {
      "display_name": "Python 3",
      "language": "python",
      "name": "python3"
    },
    "language_info": {
      "codemirror_mode": {
        "name": "ipython",
        "version": 3
      },
      "file_extension": ".py",
      "mimetype": "text/x-python",
      "name": "python",
      "nbconvert_exporter": "python",
      "pygments_lexer": "ipython3",
      "version": "3.10.11"
    },
    "colab": {
      "provenance": [],
      "include_colab_link": true
    }
  },
  "nbformat": 4,
  "nbformat_minor": 0
}