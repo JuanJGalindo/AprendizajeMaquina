{
 "cells": [
  {
   "cell_type": "markdown",
   "id": "884509c4",
   "metadata": {
    "id": "klGNgWREsvQv",
    "papermill": {
     "duration": 0.010604,
     "end_time": "2025-02-19T19:56:11.661400",
     "exception": false,
     "start_time": "2025-02-19T19:56:11.650796",
     "status": "completed"
    },
    "tags": []
   },
   "source": [
    "##### Copyright 2023 The TF-Agents Authors."
   ]
  },
  {
   "cell_type": "code",
   "execution_count": 1,
   "id": "958b8ee6",
   "metadata": {
    "cellView": "form",
    "execution": {
     "iopub.execute_input": "2025-02-19T19:56:11.683509Z",
     "iopub.status.busy": "2025-02-19T19:56:11.683183Z",
     "iopub.status.idle": "2025-02-19T19:56:11.688172Z",
     "shell.execute_reply": "2025-02-19T19:56:11.687312Z"
    },
    "id": "nQnmcm0oI1Q-",
    "papermill": {
     "duration": 0.018333,
     "end_time": "2025-02-19T19:56:11.689993",
     "exception": false,
     "start_time": "2025-02-19T19:56:11.671660",
     "status": "completed"
    },
    "tags": []
   },
   "outputs": [],
   "source": [
    "#@title Licensed under the Apache License, Version 2.0 (the \"License\");\n",
    "# you may not use this file except in compliance with the License.\n",
    "# You may obtain a copy of the License at\n",
    "#\n",
    "# https://www.apache.org/licenses/LICENSE-2.0\n",
    "#\n",
    "# Unless required by applicable law or agreed to in writing, software\n",
    "# distributed under the License is distributed on an \"AS IS\" BASIS,\n",
    "# WITHOUT WARRANTIES OR CONDITIONS OF ANY KIND, either express or implied.\n",
    "# See the License for the specific language governing permissions and\n",
    "# limitations under the License."
   ]
  },
  {
   "cell_type": "markdown",
   "id": "cde2e7b9",
   "metadata": {
    "id": "pmDI-h7cI0tI",
    "papermill": {
     "duration": 0.009965,
     "end_time": "2025-02-19T19:56:11.710303",
     "exception": false,
     "start_time": "2025-02-19T19:56:11.700338",
     "status": "completed"
    },
    "tags": []
   },
   "source": [
    "# Train a Deep Q Network with TF-Agents\n",
    "\n",
    "<table class=\"tfo-notebook-buttons\" align=\"left\">\n",
    "  <td>\n",
    "    <a target=\"_blank\" href=\"https://www.tensorflow.org/agents/tutorials/1_dqn_tutorial\">\n",
    "    <img src=\"https://www.tensorflow.org/images/tf_logo_32px.png\" />\n",
    "    View on TensorFlow.org</a>\n",
    "  </td>\n",
    "  <td>\n",
    "    <a target=\"_blank\" href=\"https://colab.research.google.com/github/tensorflow/agents/blob/master/docs/tutorials/1_dqn_tutorial.ipynb\">\n",
    "    <img src=\"https://www.tensorflow.org/images/colab_logo_32px.png\" />\n",
    "    Run in Google Colab</a>\n",
    "  </td>\n",
    "  <td>\n",
    "    <a target=\"_blank\" href=\"https://github.com/tensorflow/agents/blob/master/docs/tutorials/1_dqn_tutorial.ipynb\">\n",
    "    <img src=\"https://www.tensorflow.org/images/GitHub-Mark-32px.png\" />\n",
    "    View source on GitHub</a>\n",
    "  </td>\n",
    "  <td>\n",
    "    <a href=\"https://storage.googleapis.com/tensorflow_docs/agents/docs/tutorials/1_dqn_tutorial.ipynb\"><img src=\"https://www.tensorflow.org/images/download_logo_32px.png\" />Download notebook</a>\n",
    "  </td>\n",
    "</table>"
   ]
  },
  {
   "cell_type": "markdown",
   "id": "440ac639",
   "metadata": {
    "id": "lsaQlK8fFQqH",
    "papermill": {
     "duration": 0.009475,
     "end_time": "2025-02-19T19:56:11.729753",
     "exception": false,
     "start_time": "2025-02-19T19:56:11.720278",
     "status": "completed"
    },
    "tags": []
   },
   "source": [
    "## Introduction\n"
   ]
  },
  {
   "cell_type": "markdown",
   "id": "0f40de7a",
   "metadata": {
    "id": "cKOCZlhUgXVK",
    "papermill": {
     "duration": 0.009786,
     "end_time": "2025-02-19T19:56:11.749402",
     "exception": false,
     "start_time": "2025-02-19T19:56:11.739616",
     "status": "completed"
    },
    "tags": []
   },
   "source": [
    "This example shows how to train a [DQN (Deep Q Networks)](https://storage.googleapis.com/deepmind-media/dqn/DQNNaturePaper.pdf)  agent on the Cartpole environment using the TF-Agents library.\n",
    "\n",
    "![Cartpole environment](https://raw.githubusercontent.com/tensorflow/agents/master/docs/tutorials/images/cartpole.png)\n",
    "\n",
    "It will walk you through all the components in a Reinforcement Learning (RL) pipeline for training, evaluation and data collection.\n",
    "\n",
    "\n",
    "To run this code live, click the 'Run in Google Colab' link above.\n"
   ]
  },
  {
   "cell_type": "markdown",
   "id": "c00109a8",
   "metadata": {
    "id": "1u9QVVsShC9X",
    "papermill": {
     "duration": 0.009445,
     "end_time": "2025-02-19T19:56:11.768891",
     "exception": false,
     "start_time": "2025-02-19T19:56:11.759446",
     "status": "completed"
    },
    "tags": []
   },
   "source": [
    "## Setup"
   ]
  },
  {
   "cell_type": "markdown",
   "id": "4330593b",
   "metadata": {
    "id": "kNrNXKI7bINP",
    "papermill": {
     "duration": 0.009562,
     "end_time": "2025-02-19T19:56:11.788320",
     "exception": false,
     "start_time": "2025-02-19T19:56:11.778758",
     "status": "completed"
    },
    "tags": []
   },
   "source": [
    "If you haven't installed the following dependencies, run:"
   ]
  },
  {
   "cell_type": "code",
   "execution_count": 2,
   "id": "34a08d23",
   "metadata": {
    "execution": {
     "iopub.execute_input": "2025-02-19T19:56:11.809267Z",
     "iopub.status.busy": "2025-02-19T19:56:11.808701Z",
     "iopub.status.idle": "2025-02-19T19:58:41.102252Z",
     "shell.execute_reply": "2025-02-19T19:58:41.101276Z"
    },
    "id": "KEHR2Ui-lo8O",
    "papermill": {
     "duration": 149.306596,
     "end_time": "2025-02-19T19:58:41.104676",
     "exception": false,
     "start_time": "2025-02-19T19:56:11.798080",
     "status": "completed"
    },
    "tags": []
   },
   "outputs": [
    {
     "name": "stdout",
     "output_type": "stream",
     "text": [
      "Hit:1 http://archive.ubuntu.com/ubuntu jammy InRelease\r\n",
      "Get:2 http://security.ubuntu.com/ubuntu jammy-security InRelease [129 kB]\r\n",
      "Get:3 http://archive.ubuntu.com/ubuntu jammy-updates InRelease [128 kB]\r\n",
      "Get:4 https://developer.download.nvidia.com/compute/cuda/repos/ubuntu2204/x86_64  InRelease [1581 B]\r\n",
      "Get:5 http://packages.cloud.google.com/apt gcsfuse-focal InRelease [1227 B]\r\n",
      "Get:6 https://packages.cloud.google.com/apt cloud-sdk InRelease [1618 B]\r\n",
      "Get:7 http://archive.ubuntu.com/ubuntu jammy-backports InRelease [127 kB]\r\n",
      "Get:8 https://packages.cloud.google.com/apt google-fast-socket InRelease [1071 B]\r\n",
      "Get:9 https://developer.download.nvidia.com/compute/cuda/repos/ubuntu2204/x86_64  Packages [1317 kB]\r\n",
      "Get:10 http://security.ubuntu.com/ubuntu jammy-security/main amd64 Packages [2610 kB]\r\n",
      "Get:11 http://security.ubuntu.com/ubuntu jammy-security/universe amd64 Packages [1230 kB]\r\n",
      "Get:12 http://security.ubuntu.com/ubuntu jammy-security/multiverse amd64 Packages [45.2 kB]\r\n",
      "Get:13 http://security.ubuntu.com/ubuntu jammy-security/restricted amd64 Packages [3612 kB]\r\n",
      "Get:14 http://archive.ubuntu.com/ubuntu jammy-updates/universe amd64 Packages [1526 kB]\r\n",
      "Get:15 http://archive.ubuntu.com/ubuntu jammy-updates/restricted amd64 Packages [3793 kB]\r\n",
      "Get:16 http://archive.ubuntu.com/ubuntu jammy-updates/main amd64 Packages [2939 kB]\r\n",
      "Get:17 http://archive.ubuntu.com/ubuntu jammy-updates/multiverse amd64 Packages [53.3 kB]\r\n",
      "Get:18 http://archive.ubuntu.com/ubuntu jammy-backports/universe amd64 Packages [35.2 kB]\r\n",
      "Get:19 https://packages.cloud.google.com/apt cloud-sdk/main all Packages [1641 kB]\r\n",
      "Get:20 http://archive.ubuntu.com/ubuntu jammy-backports/main amd64 Packages [81.4 kB]\r\n",
      "Get:21 https://packages.cloud.google.com/apt cloud-sdk/main amd64 Packages [3607 kB]\r\n",
      "Get:22 https://packages.cloud.google.com/apt google-fast-socket/main amd64 Packages [15.4 kB]\r\n",
      "\r\n",
      "W: http://packages.cloud.google.com/apt/dists/gcsfuse-focal/InRelease: Key is stored in legacy trusted.gpg keyring (/etc/apt/trusted.gpg), see the DEPRECATION section in apt-key(8) for details.\r\n",
      "E: Repository 'http://packages.cloud.google.com/apt gcsfuse-focal InRelease' changed its 'Origin' value from 'gcsfuse-jessie' to 'gcsfuse-focal'\r\n",
      "E: Repository 'http://packages.cloud.google.com/apt gcsfuse-focal InRelease' changed its 'Label' value from 'gcsfuse-jessie' to 'gcsfuse-focal'\r\n",
      "N: This must be accepted explicitly before updates for this repository can be applied. See apt-secure(8) manpage for details.\r\n",
      "W: https://packages.cloud.google.com/apt/dists/google-fast-socket/InRelease: Key is stored in legacy trusted.gpg keyring (/etc/apt/trusted.gpg), see the DEPRECATION section in apt-key(8) for details.\r\n",
      "\r\n",
      "\r\n",
      "\r\n",
      "ffmpeg is already the newest version (7:4.4.2-0ubuntu0.22.04.1).\r\n",
      "The following additional packages will be installed:\r\n",
      "  freeglut3 libegl-dev libegl-mesa0 libegl1 libgbm1 libgl-dev libgl1-mesa-dev\r\n",
      "  libgl1-mesa-dri libglapi-mesa libgles-dev libgles1 libgles2 libglu1-mesa\r\n",
      "  libglu1-mesa-dev libglvnd-core-dev libglvnd-dev libglx-dev libglx-mesa0\r\n",
      "  libice-dev libopengl-dev libopengl0 libpthread-stubs0-dev libsm-dev libx11-6\r\n",
      "  libx11-dev libx11-xcb1 libxau-dev libxcb1-dev libxdmcp-dev libxext-dev\r\n",
      "  libxt-dev x11proto-dev xorg-sgml-doctools xserver-common xtrans-dev\r\n",
      "Suggested packages:\r\n",
      "  libice-doc libsm-doc libx11-doc libxcb-doc libxext-doc libxt-doc\r\n",
      "The following NEW packages will be installed:\r\n",
      "  freeglut3 freeglut3-dev libegl-dev libegl-mesa0 libegl1 libgl-dev\r\n",
      "  libgl1-mesa-dev libgles-dev libgles1 libgles2 libglu1-mesa libglu1-mesa-dev\r\n",
      "  libglvnd-core-dev libglvnd-dev libglx-dev libice-dev libopengl-dev\r\n",
      "  libopengl0 libpthread-stubs0-dev libsm-dev libx11-dev libxau-dev libxcb1-dev\r\n",
      "  libxdmcp-dev libxext-dev libxt-dev x11proto-dev xorg-sgml-doctools\r\n",
      "  xtrans-dev\r\n",
      "The following packages will be upgraded:\r\n",
      "  libgbm1 libgl1-mesa-dri libglapi-mesa libglx-mesa0 libx11-6 libx11-xcb1\r\n",
      "  xserver-common xvfb\r\n",
      "8 upgraded, 29 newly installed, 0 to remove and 205 not upgraded.\r\n",
      "Need to get 13.8 MB of archives.\r\n",
      "After this operation, 15.9 MB of additional disk space will be used.\r\n",
      "Get:1 http://archive.ubuntu.com/ubuntu jammy-updates/main amd64 libx11-6 amd64 2:1.7.5-1ubuntu0.3 [667 kB]\r\n",
      "Get:2 http://archive.ubuntu.com/ubuntu jammy-updates/main amd64 libx11-xcb1 amd64 2:1.7.5-1ubuntu0.3 [7802 B]\r\n",
      "Get:3 http://archive.ubuntu.com/ubuntu jammy/universe amd64 freeglut3 amd64 2.8.1-6 [74.0 kB]\r\n",
      "Get:4 http://archive.ubuntu.com/ubuntu jammy/main amd64 xorg-sgml-doctools all 1:1.11-1.1 [10.9 kB]\r\n",
      "Get:5 http://archive.ubuntu.com/ubuntu jammy/main amd64 x11proto-dev all 2021.5-1 [604 kB]\r\n",
      "Get:6 http://archive.ubuntu.com/ubuntu jammy/main amd64 libxau-dev amd64 1:1.0.9-1build5 [9724 B]\r\n",
      "Get:7 http://archive.ubuntu.com/ubuntu jammy/main amd64 libxdmcp-dev amd64 1:1.1.3-0ubuntu5 [26.5 kB]\r\n",
      "Get:8 http://archive.ubuntu.com/ubuntu jammy/main amd64 xtrans-dev all 1.4.0-1 [68.9 kB]\r\n",
      "Get:9 http://archive.ubuntu.com/ubuntu jammy/main amd64 libpthread-stubs0-dev amd64 0.4-1build2 [5516 B]\r\n",
      "Get:10 http://archive.ubuntu.com/ubuntu jammy/main amd64 libxcb1-dev amd64 1.14-3ubuntu3 [86.5 kB]\r\n",
      "Get:11 http://archive.ubuntu.com/ubuntu jammy-updates/main amd64 libx11-dev amd64 2:1.7.5-1ubuntu0.3 [744 kB]\r\n",
      "Get:12 http://archive.ubuntu.com/ubuntu jammy/main amd64 libglx-dev amd64 1.4.0-1 [14.1 kB]\r\n",
      "Get:13 http://archive.ubuntu.com/ubuntu jammy/main amd64 libgl-dev amd64 1.4.0-1 [101 kB]\r\n",
      "Get:14 http://archive.ubuntu.com/ubuntu jammy/main amd64 libglvnd-core-dev amd64 1.4.0-1 [12.7 kB]\r\n",
      "Get:15 http://archive.ubuntu.com/ubuntu jammy-updates/main amd64 libgbm1 amd64 23.2.1-1ubuntu3.1~22.04.3 [33.5 kB]\r\n",
      "Get:16 http://archive.ubuntu.com/ubuntu jammy-updates/main amd64 libgl1-mesa-dri amd64 23.2.1-1ubuntu3.1~22.04.3 [8860 kB]\r\n",
      "Get:17 http://archive.ubuntu.com/ubuntu jammy-updates/main amd64 libglx-mesa0 amd64 23.2.1-1ubuntu3.1~22.04.3 [158 kB]\r\n",
      "Get:18 http://archive.ubuntu.com/ubuntu jammy-updates/main amd64 libglapi-mesa amd64 23.2.1-1ubuntu3.1~22.04.3 [35.4 kB]\r\n",
      "Get:19 http://archive.ubuntu.com/ubuntu jammy-updates/main amd64 libegl-mesa0 amd64 23.2.1-1ubuntu3.1~22.04.3 [118 kB]\r\n",
      "Get:20 http://archive.ubuntu.com/ubuntu jammy/main amd64 libegl1 amd64 1.4.0-1 [28.6 kB]\r\n",
      "Get:21 http://archive.ubuntu.com/ubuntu jammy/main amd64 libegl-dev amd64 1.4.0-1 [18.0 kB]\r\n",
      "Get:22 http://archive.ubuntu.com/ubuntu jammy/main amd64 libgles1 amd64 1.4.0-1 [11.5 kB]\r\n",
      "Get:23 http://archive.ubuntu.com/ubuntu jammy/main amd64 libgles2 amd64 1.4.0-1 [18.0 kB]\r\n",
      "Get:24 http://archive.ubuntu.com/ubuntu jammy/main amd64 libgles-dev amd64 1.4.0-1 [49.4 kB]\r\n",
      "Get:25 http://archive.ubuntu.com/ubuntu jammy/main amd64 libopengl0 amd64 1.4.0-1 [36.5 kB]\r\n",
      "Get:26 http://archive.ubuntu.com/ubuntu jammy/main amd64 libopengl-dev amd64 1.4.0-1 [3400 B]\r\n",
      "Get:27 http://archive.ubuntu.com/ubuntu jammy/main amd64 libglvnd-dev amd64 1.4.0-1 [3162 B]\r\n",
      "Get:28 http://archive.ubuntu.com/ubuntu jammy-updates/main amd64 libgl1-mesa-dev amd64 23.2.1-1ubuntu3.1~22.04.3 [6848 B]\r\n",
      "Get:29 http://archive.ubuntu.com/ubuntu jammy/main amd64 libglu1-mesa amd64 9.0.2-1 [145 kB]\r\n",
      "Get:30 http://archive.ubuntu.com/ubuntu jammy/main amd64 libglu1-mesa-dev amd64 9.0.2-1 [231 kB]\r\n",
      "Get:31 http://archive.ubuntu.com/ubuntu jammy/main amd64 libxext-dev amd64 2:1.3.4-1build1 [84.7 kB]\r\n",
      "Get:32 http://archive.ubuntu.com/ubuntu jammy/main amd64 libice-dev amd64 2:1.0.10-1build2 [51.4 kB]\r\n",
      "Get:33 http://archive.ubuntu.com/ubuntu jammy/main amd64 libsm-dev amd64 2:1.2.3-1build2 [18.1 kB]\r\n",
      "Get:34 http://archive.ubuntu.com/ubuntu jammy/main amd64 libxt-dev amd64 1:1.2.1-1 [396 kB]\r\n",
      "Get:35 http://archive.ubuntu.com/ubuntu jammy/universe amd64 freeglut3-dev amd64 2.8.1-6 [126 kB]\r\n",
      "Get:36 http://archive.ubuntu.com/ubuntu jammy-updates/main amd64 xserver-common all 2:21.1.4-2ubuntu1.7~22.04.12 [28.7 kB]\r\n",
      "Get:37 http://archive.ubuntu.com/ubuntu jammy-updates/universe amd64 xvfb amd64 2:21.1.4-2ubuntu1.7~22.04.12 [864 kB]\r\n",
      "Fetched 13.8 MB in 2s (7907 kB/s)\r\n",
      "Extracting templates from packages: 100%\r\n",
      "(Reading database ... 113818 files and directories currently installed.)\r\n",
      "Preparing to unpack .../00-libx11-6_2%3a1.7.5-1ubuntu0.3_amd64.deb ...\r\n",
      "Unpacking libx11-6:amd64 (2:1.7.5-1ubuntu0.3) over (2:1.7.5-1ubuntu0.2) ...\r\n",
      "Preparing to unpack .../01-libx11-xcb1_2%3a1.7.5-1ubuntu0.3_amd64.deb ...\r\n",
      "Unpacking libx11-xcb1:amd64 (2:1.7.5-1ubuntu0.3) over (2:1.7.5-1ubuntu0.2) ...\r\n",
      "Selecting previously unselected package freeglut3:amd64.\r\n",
      "Preparing to unpack .../02-freeglut3_2.8.1-6_amd64.deb ...\r\n",
      "Unpacking freeglut3:amd64 (2.8.1-6) ...\r\n",
      "Selecting previously unselected package xorg-sgml-doctools.\r\n",
      "Preparing to unpack .../03-xorg-sgml-doctools_1%3a1.11-1.1_all.deb ...\r\n",
      "Unpacking xorg-sgml-doctools (1:1.11-1.1) ...\r\n",
      "Selecting previously unselected package x11proto-dev.\r\n",
      "Preparing to unpack .../04-x11proto-dev_2021.5-1_all.deb ...\r\n",
      "Unpacking x11proto-dev (2021.5-1) ...\r\n",
      "Selecting previously unselected package libxau-dev:amd64.\r\n",
      "Preparing to unpack .../05-libxau-dev_1%3a1.0.9-1build5_amd64.deb ...\r\n",
      "Unpacking libxau-dev:amd64 (1:1.0.9-1build5) ...\r\n",
      "Selecting previously unselected package libxdmcp-dev:amd64.\r\n",
      "Preparing to unpack .../06-libxdmcp-dev_1%3a1.1.3-0ubuntu5_amd64.deb ...\r\n",
      "Unpacking libxdmcp-dev:amd64 (1:1.1.3-0ubuntu5) ...\r\n",
      "Selecting previously unselected package xtrans-dev.\r\n",
      "Preparing to unpack .../07-xtrans-dev_1.4.0-1_all.deb ...\r\n",
      "Unpacking xtrans-dev (1.4.0-1) ...\r\n",
      "Selecting previously unselected package libpthread-stubs0-dev:amd64.\r\n",
      "Preparing to unpack .../08-libpthread-stubs0-dev_0.4-1build2_amd64.deb ...\r\n",
      "Unpacking libpthread-stubs0-dev:amd64 (0.4-1build2) ...\r\n",
      "Selecting previously unselected package libxcb1-dev:amd64.\r\n",
      "Preparing to unpack .../09-libxcb1-dev_1.14-3ubuntu3_amd64.deb ...\r\n",
      "Unpacking libxcb1-dev:amd64 (1.14-3ubuntu3) ...\r\n",
      "Selecting previously unselected package libx11-dev:amd64.\r\n",
      "Preparing to unpack .../10-libx11-dev_2%3a1.7.5-1ubuntu0.3_amd64.deb ...\r\n",
      "Unpacking libx11-dev:amd64 (2:1.7.5-1ubuntu0.3) ...\r\n",
      "Selecting previously unselected package libglx-dev:amd64.\r\n",
      "Preparing to unpack .../11-libglx-dev_1.4.0-1_amd64.deb ...\r\n",
      "Unpacking libglx-dev:amd64 (1.4.0-1) ...\r\n",
      "Selecting previously unselected package libgl-dev:amd64.\r\n",
      "Preparing to unpack .../12-libgl-dev_1.4.0-1_amd64.deb ...\r\n",
      "Unpacking libgl-dev:amd64 (1.4.0-1) ...\r\n",
      "Selecting previously unselected package libglvnd-core-dev:amd64.\r\n",
      "Preparing to unpack .../13-libglvnd-core-dev_1.4.0-1_amd64.deb ...\r\n",
      "Unpacking libglvnd-core-dev:amd64 (1.4.0-1) ...\r\n",
      "Preparing to unpack .../14-libgbm1_23.2.1-1ubuntu3.1~22.04.3_amd64.deb ...\r\n",
      "Unpacking libgbm1:amd64 (23.2.1-1ubuntu3.1~22.04.3) over (23.0.4-0ubuntu1~22.04.1) ...\r\n",
      "Preparing to unpack .../15-libgl1-mesa-dri_23.2.1-1ubuntu3.1~22.04.3_amd64.deb ...\r\n",
      "Unpacking libgl1-mesa-dri:amd64 (23.2.1-1ubuntu3.1~22.04.3) over (23.0.4-0ubuntu1~22.04.1) ...\r\n",
      "Preparing to unpack .../16-libglx-mesa0_23.2.1-1ubuntu3.1~22.04.3_amd64.deb ...\r\n",
      "Unpacking libglx-mesa0:amd64 (23.2.1-1ubuntu3.1~22.04.3) over (23.0.4-0ubuntu1~22.04.1) ...\r\n",
      "Preparing to unpack .../17-libglapi-mesa_23.2.1-1ubuntu3.1~22.04.3_amd64.deb ...\r\n",
      "Unpacking libglapi-mesa:amd64 (23.2.1-1ubuntu3.1~22.04.3) over (23.0.4-0ubuntu1~22.04.1) ...\r\n",
      "Selecting previously unselected package libegl-mesa0:amd64.\r\n",
      "Preparing to unpack .../18-libegl-mesa0_23.2.1-1ubuntu3.1~22.04.3_amd64.deb ...\r\n",
      "Unpacking libegl-mesa0:amd64 (23.2.1-1ubuntu3.1~22.04.3) ...\r\n",
      "Selecting previously unselected package libegl1:amd64.\r\n",
      "Preparing to unpack .../19-libegl1_1.4.0-1_amd64.deb ...\r\n",
      "Unpacking libegl1:amd64 (1.4.0-1) ...\r\n",
      "Selecting previously unselected package libegl-dev:amd64.\r\n",
      "Preparing to unpack .../20-libegl-dev_1.4.0-1_amd64.deb ...\r\n",
      "Unpacking libegl-dev:amd64 (1.4.0-1) ...\r\n",
      "Selecting previously unselected package libgles1:amd64.\r\n",
      "Preparing to unpack .../21-libgles1_1.4.0-1_amd64.deb ...\r\n",
      "Unpacking libgles1:amd64 (1.4.0-1) ...\r\n",
      "Selecting previously unselected package libgles2:amd64.\r\n",
      "Preparing to unpack .../22-libgles2_1.4.0-1_amd64.deb ...\r\n",
      "Unpacking libgles2:amd64 (1.4.0-1) ...\r\n",
      "Selecting previously unselected package libgles-dev:amd64.\r\n",
      "Preparing to unpack .../23-libgles-dev_1.4.0-1_amd64.deb ...\r\n",
      "Unpacking libgles-dev:amd64 (1.4.0-1) ...\r\n",
      "Selecting previously unselected package libopengl0:amd64.\r\n",
      "Preparing to unpack .../24-libopengl0_1.4.0-1_amd64.deb ...\r\n",
      "Unpacking libopengl0:amd64 (1.4.0-1) ...\r\n",
      "Selecting previously unselected package libopengl-dev:amd64.\r\n",
      "Preparing to unpack .../25-libopengl-dev_1.4.0-1_amd64.deb ...\r\n",
      "Unpacking libopengl-dev:amd64 (1.4.0-1) ...\r\n",
      "Selecting previously unselected package libglvnd-dev:amd64.\r\n",
      "Preparing to unpack .../26-libglvnd-dev_1.4.0-1_amd64.deb ...\r\n",
      "Unpacking libglvnd-dev:amd64 (1.4.0-1) ...\r\n",
      "Selecting previously unselected package libgl1-mesa-dev:amd64.\r\n",
      "Preparing to unpack .../27-libgl1-mesa-dev_23.2.1-1ubuntu3.1~22.04.3_amd64.deb ...\r\n",
      "Unpacking libgl1-mesa-dev:amd64 (23.2.1-1ubuntu3.1~22.04.3) ...\r\n",
      "Selecting previously unselected package libglu1-mesa:amd64.\r\n",
      "Preparing to unpack .../28-libglu1-mesa_9.0.2-1_amd64.deb ...\r\n",
      "Unpacking libglu1-mesa:amd64 (9.0.2-1) ...\r\n",
      "Selecting previously unselected package libglu1-mesa-dev:amd64.\r\n",
      "Preparing to unpack .../29-libglu1-mesa-dev_9.0.2-1_amd64.deb ...\r\n",
      "Unpacking libglu1-mesa-dev:amd64 (9.0.2-1) ...\r\n",
      "Selecting previously unselected package libxext-dev:amd64.\r\n",
      "Preparing to unpack .../30-libxext-dev_2%3a1.3.4-1build1_amd64.deb ...\r\n",
      "Unpacking libxext-dev:amd64 (2:1.3.4-1build1) ...\r\n",
      "Selecting previously unselected package libice-dev:amd64.\r\n",
      "Preparing to unpack .../31-libice-dev_2%3a1.0.10-1build2_amd64.deb ...\r\n",
      "Unpacking libice-dev:amd64 (2:1.0.10-1build2) ...\r\n",
      "Selecting previously unselected package libsm-dev:amd64.\r\n",
      "Preparing to unpack .../32-libsm-dev_2%3a1.2.3-1build2_amd64.deb ...\r\n",
      "Unpacking libsm-dev:amd64 (2:1.2.3-1build2) ...\r\n",
      "Selecting previously unselected package libxt-dev:amd64.\r\n",
      "Preparing to unpack .../33-libxt-dev_1%3a1.2.1-1_amd64.deb ...\r\n",
      "Unpacking libxt-dev:amd64 (1:1.2.1-1) ...\r\n",
      "Selecting previously unselected package freeglut3-dev:amd64.\r\n",
      "Preparing to unpack .../34-freeglut3-dev_2.8.1-6_amd64.deb ...\r\n",
      "Unpacking freeglut3-dev:amd64 (2.8.1-6) ...\r\n",
      "Preparing to unpack .../35-xserver-common_2%3a21.1.4-2ubuntu1.7~22.04.12_all.deb ...\r\n",
      "Unpacking xserver-common (2:21.1.4-2ubuntu1.7~22.04.12) over (2:21.1.4-2ubuntu1.7~22.04.1) ...\r\n",
      "Preparing to unpack .../36-xvfb_2%3a21.1.4-2ubuntu1.7~22.04.12_amd64.deb ...\r\n",
      "Unpacking xvfb (2:21.1.4-2ubuntu1.7~22.04.12) over (2:21.1.4-2ubuntu1.7~22.04.1) ...\r\n",
      "Setting up libglvnd-core-dev:amd64 (1.4.0-1) ...\r\n",
      "Setting up libgbm1:amd64 (23.2.1-1ubuntu3.1~22.04.3) ...\r\n",
      "Setting up libpthread-stubs0-dev:amd64 (0.4-1build2) ...\r\n",
      "Setting up libopengl0:amd64 (1.4.0-1) ...\r\n",
      "Setting up xtrans-dev (1.4.0-1) ...\r\n",
      "Setting up libgles2:amd64 (1.4.0-1) ...\r\n",
      "Setting up libgles1:amd64 (1.4.0-1) ...\r\n",
      "Setting up libglapi-mesa:amd64 (23.2.1-1ubuntu3.1~22.04.3) ...\r\n",
      "Setting up libx11-6:amd64 (2:1.7.5-1ubuntu0.3) ...\r\n",
      "Setting up xorg-sgml-doctools (1:1.11-1.1) ...\r\n",
      "Setting up libglu1-mesa:amd64 (9.0.2-1) ...\r\n",
      "Setting up xserver-common (2:21.1.4-2ubuntu1.7~22.04.12) ...\r\n",
      "Setting up libopengl-dev:amd64 (1.4.0-1) ...\r\n",
      "Setting up x11proto-dev (2021.5-1) ...\r\n",
      "Setting up libx11-xcb1:amd64 (2:1.7.5-1ubuntu0.3) ...\r\n",
      "Setting up freeglut3:amd64 (2.8.1-6) ...\r\n",
      "Setting up libxau-dev:amd64 (1:1.0.9-1build5) ...\r\n",
      "Setting up libice-dev:amd64 (2:1.0.10-1build2) ...\r\n",
      "Setting up libsm-dev:amd64 (2:1.2.3-1build2) ...\r\n",
      "Setting up xvfb (2:21.1.4-2ubuntu1.7~22.04.12) ...\r\n",
      "Setting up libgl1-mesa-dri:amd64 (23.2.1-1ubuntu3.1~22.04.3) ...\r\n",
      "Setting up libxdmcp-dev:amd64 (1:1.1.3-0ubuntu5) ...\r\n",
      "Setting up libegl-mesa0:amd64 (23.2.1-1ubuntu3.1~22.04.3) ...\r\n",
      "Setting up libegl1:amd64 (1.4.0-1) ...\r\n",
      "Setting up libglx-mesa0:amd64 (23.2.1-1ubuntu3.1~22.04.3) ...\r\n",
      "Setting up libxcb1-dev:amd64 (1.14-3ubuntu3) ...\r\n",
      "Setting up libx11-dev:amd64 (2:1.7.5-1ubuntu0.3) ...\r\n",
      "Setting up libxt-dev:amd64 (1:1.2.1-1) ...\r\n",
      "Setting up libxext-dev:amd64 (2:1.3.4-1build1) ...\r\n",
      "Setting up libglx-dev:amd64 (1.4.0-1) ...\r\n",
      "Setting up libgl-dev:amd64 (1.4.0-1) ...\r\n",
      "Setting up libegl-dev:amd64 (1.4.0-1) ...\r\n",
      "Setting up libglu1-mesa-dev:amd64 (9.0.2-1) ...\r\n",
      "Setting up libgles-dev:amd64 (1.4.0-1) ...\r\n",
      "Setting up libglvnd-dev:amd64 (1.4.0-1) ...\r\n",
      "Setting up libgl1-mesa-dev:amd64 (23.2.1-1ubuntu3.1~22.04.3) ...\r\n",
      "Setting up freeglut3-dev:amd64 (2.8.1-6) ...\r\n",
      "Processing triggers for man-db (2.10.2-1) ...\r\n",
      "Processing triggers for libc-bin (2.35-0ubuntu3.1) ...\r\n",
      "Collecting imageio==2.4.0\r\n",
      "  Downloading imageio-2.4.0.tar.gz (3.3 MB)\r\n",
      "\u001b[2K     \u001b[90m━━━━━━━━━━━━━━━━━━━━━━━━━━━━━━━━━━━━━━━━\u001b[0m \u001b[32m3.3/3.3 MB\u001b[0m \u001b[31m32.1 MB/s\u001b[0m eta \u001b[36m0:00:00\u001b[0m\r\n",
      "\u001b[?25h  Preparing metadata (setup.py) ... \u001b[?25ldone\r\n",
      "\u001b[?25hRequirement already satisfied: numpy in /opt/conda/lib/python3.10/site-packages (from imageio==2.4.0) (1.23.5)\r\n",
      "Requirement already satisfied: pillow in /opt/conda/lib/python3.10/site-packages (from imageio==2.4.0) (9.5.0)\r\n",
      "Building wheels for collected packages: imageio\r\n",
      "  Building wheel for imageio (setup.py) ... \u001b[?25l-\b \bdone\r\n",
      "\u001b[?25h  Created wheel for imageio: filename=imageio-2.4.0-py3-none-any.whl size=3303893 sha256=3ef0fe41d757ed25f417213d73b80650d867a3f721a04450984789fb2888e21a\r\n",
      "  Stored in directory: /root/.cache/pip/wheels/8a/d8/1c/eb9350a4bd3ae8e8814a2f7f9cc832fedad8ea5a926181d60d\r\n",
      "Successfully built imageio\r\n",
      "Installing collected packages: imageio\r\n",
      "  Attempting uninstall: imageio\r\n",
      "    Found existing installation: imageio 2.31.1\r\n",
      "    Uninstalling imageio-2.31.1:\r\n",
      "      Successfully uninstalled imageio-2.31.1\r\n",
      "\u001b[31mERROR: pip's dependency resolver does not currently take into account all the packages that are installed. This behaviour is the source of the following dependency conflicts.\r\n",
      "scikit-image 0.21.0 requires imageio>=2.27, but you have imageio 2.4.0 which is incompatible.\u001b[0m\u001b[31m\r\n",
      "\u001b[0mSuccessfully installed imageio-2.4.0\r\n",
      "Collecting pyvirtualdisplay\r\n",
      "  Downloading PyVirtualDisplay-3.0-py3-none-any.whl (15 kB)\r\n",
      "Installing collected packages: pyvirtualdisplay\r\n",
      "Successfully installed pyvirtualdisplay-3.0\r\n",
      "Collecting tf-agents[reverb]\r\n",
      "  Downloading tf_agents-0.19.0-py3-none-any.whl (1.4 MB)\r\n",
      "\u001b[2K     \u001b[90m━━━━━━━━━━━━━━━━━━━━━━━━━━━━━━━━━━━━━━━━\u001b[0m \u001b[32m1.4/1.4 MB\u001b[0m \u001b[31m18.4 MB/s\u001b[0m eta \u001b[36m0:00:00\u001b[0m\r\n",
      "\u001b[?25hRequirement already satisfied: absl-py>=0.6.1 in /opt/conda/lib/python3.10/site-packages (from tf-agents[reverb]) (1.4.0)\r\n",
      "Requirement already satisfied: cloudpickle>=1.3 in /opt/conda/lib/python3.10/site-packages (from tf-agents[reverb]) (2.2.1)\r\n",
      "Collecting gin-config>=0.4.0 (from tf-agents[reverb])\r\n",
      "  Downloading gin_config-0.5.0-py3-none-any.whl (61 kB)\r\n",
      "\u001b[2K     \u001b[90m━━━━━━━━━━━━━━━━━━━━━━━━━━━━━━━━━━━━━━━━\u001b[0m \u001b[32m61.3/61.3 kB\u001b[0m \u001b[31m5.4 MB/s\u001b[0m eta \u001b[36m0:00:00\u001b[0m\r\n",
      "\u001b[?25hCollecting gym<=0.23.0,>=0.17.0 (from tf-agents[reverb])\r\n",
      "  Downloading gym-0.23.0.tar.gz (624 kB)\r\n",
      "\u001b[2K     \u001b[90m━━━━━━━━━━━━━━━━━━━━━━━━━━━━━━━━━━━━━━\u001b[0m \u001b[32m624.4/624.4 kB\u001b[0m \u001b[31m17.2 MB/s\u001b[0m eta \u001b[36m0:00:00\u001b[0m\r\n",
      "\u001b[?25h  Installing build dependencies ... \u001b[?25l-\b \b\\\b \b|\b \b/\b \bdone\r\n",
      "\u001b[?25h  Getting requirements to build wheel ... \u001b[?25l-\b \bdone\r\n",
      "\u001b[?25h  Preparing metadata (pyproject.toml) ... \u001b[?25l-\b \bdone\r\n",
      "\u001b[?25hRequirement already satisfied: numpy>=1.19.0 in /opt/conda/lib/python3.10/site-packages (from tf-agents[reverb]) (1.23.5)\r\n",
      "Requirement already satisfied: pillow in /opt/conda/lib/python3.10/site-packages (from tf-agents[reverb]) (9.5.0)\r\n",
      "Requirement already satisfied: six>=1.10.0 in /opt/conda/lib/python3.10/site-packages (from tf-agents[reverb]) (1.16.0)\r\n",
      "Requirement already satisfied: protobuf>=3.11.3 in /opt/conda/lib/python3.10/site-packages (from tf-agents[reverb]) (3.20.3)\r\n",
      "Requirement already satisfied: wrapt>=1.11.1 in /opt/conda/lib/python3.10/site-packages (from tf-agents[reverb]) (1.14.1)\r\n",
      "Collecting typing-extensions==4.5.0 (from tf-agents[reverb])\r\n",
      "  Downloading typing_extensions-4.5.0-py3-none-any.whl (27 kB)\r\n",
      "Collecting pygame==2.1.3 (from tf-agents[reverb])\r\n",
      "  Downloading pygame-2.1.3-cp310-cp310-manylinux_2_17_x86_64.manylinux2014_x86_64.whl (13.7 MB)\r\n",
      "\u001b[2K     \u001b[90m━━━━━━━━━━━━━━━━━━━━━━━━━━━━━━━━━━━━━━━━\u001b[0m \u001b[32m13.7/13.7 MB\u001b[0m \u001b[31m71.5 MB/s\u001b[0m eta \u001b[36m0:00:00\u001b[0m\r\n",
      "\u001b[?25hCollecting tensorflow-probability~=0.23.0 (from tf-agents[reverb])\r\n",
      "  Downloading tensorflow_probability-0.23.0-py2.py3-none-any.whl (6.9 MB)\r\n",
      "\u001b[2K     \u001b[90m━━━━━━━━━━━━━━━━━━━━━━━━━━━━━━━━━━━━━━━━\u001b[0m \u001b[32m6.9/6.9 MB\u001b[0m \u001b[31m80.8 MB/s\u001b[0m eta \u001b[36m0:00:00\u001b[0m\r\n",
      "\u001b[?25hCollecting rlds (from tf-agents[reverb])\r\n",
      "  Downloading rlds-0.1.8-py3-none-manylinux2010_x86_64.whl (48 kB)\r\n",
      "\u001b[2K     \u001b[90m━━━━━━━━━━━━━━━━━━━━━━━━━━━━━━━━━━━━━━━━\u001b[0m \u001b[32m48.4/48.4 kB\u001b[0m \u001b[31m5.0 MB/s\u001b[0m eta \u001b[36m0:00:00\u001b[0m\r\n",
      "\u001b[?25hCollecting dm-reverb~=0.14.0 (from tf-agents[reverb])\r\n",
      "  Downloading dm_reverb-0.14.0-cp310-cp310-manylinux2014_x86_64.whl (6.4 MB)\r\n",
      "\u001b[2K     \u001b[90m━━━━━━━━━━━━━━━━━━━━━━━━━━━━━━━━━━━━━━━━\u001b[0m \u001b[32m6.4/6.4 MB\u001b[0m \u001b[31m76.5 MB/s\u001b[0m eta \u001b[36m0:00:00\u001b[0m\r\n",
      "\u001b[?25hCollecting tensorflow~=2.15.0 (from tf-agents[reverb])\r\n",
      "  Downloading tensorflow-2.15.1-cp310-cp310-manylinux_2_17_x86_64.manylinux2014_x86_64.whl (475.2 MB)\r\n",
      "\u001b[2K     \u001b[90m━━━━━━━━━━━━━━━━━━━━━━━━━━━━━━━━━━━━━━━\u001b[0m \u001b[32m475.2/475.2 MB\u001b[0m \u001b[31m2.8 MB/s\u001b[0m eta \u001b[36m0:00:00\u001b[0m\r\n",
      "\u001b[?25hRequirement already satisfied: dm-tree in /opt/conda/lib/python3.10/site-packages (from dm-reverb~=0.14.0->tf-agents[reverb]) (0.1.8)\r\n",
      "Collecting portpicker (from dm-reverb~=0.14.0->tf-agents[reverb])\r\n",
      "  Downloading portpicker-1.6.0-py3-none-any.whl (16 kB)\r\n",
      "Requirement already satisfied: gym_notices>=0.0.4 in /opt/conda/lib/python3.10/site-packages (from gym<=0.23.0,>=0.17.0->tf-agents[reverb]) (0.0.8)\r\n",
      "Requirement already satisfied: astunparse>=1.6.0 in /opt/conda/lib/python3.10/site-packages (from tensorflow~=2.15.0->tf-agents[reverb]) (1.6.3)\r\n",
      "Requirement already satisfied: flatbuffers>=23.5.26 in /opt/conda/lib/python3.10/site-packages (from tensorflow~=2.15.0->tf-agents[reverb]) (23.5.26)\r\n",
      "Requirement already satisfied: gast!=0.5.0,!=0.5.1,!=0.5.2,>=0.2.1 in /opt/conda/lib/python3.10/site-packages (from tensorflow~=2.15.0->tf-agents[reverb]) (0.4.0)\r\n",
      "Requirement already satisfied: google-pasta>=0.1.1 in /opt/conda/lib/python3.10/site-packages (from tensorflow~=2.15.0->tf-agents[reverb]) (0.2.0)\r\n",
      "Requirement already satisfied: h5py>=2.9.0 in /opt/conda/lib/python3.10/site-packages (from tensorflow~=2.15.0->tf-agents[reverb]) (3.9.0)\r\n",
      "Requirement already satisfied: libclang>=13.0.0 in /opt/conda/lib/python3.10/site-packages (from tensorflow~=2.15.0->tf-agents[reverb]) (16.0.0)\r\n",
      "Collecting ml-dtypes~=0.3.1 (from tensorflow~=2.15.0->tf-agents[reverb])\r\n",
      "  Downloading ml_dtypes-0.3.2-cp310-cp310-manylinux_2_17_x86_64.manylinux2014_x86_64.whl (2.2 MB)\r\n",
      "\u001b[2K     \u001b[90m━━━━━━━━━━━━━━━━━━━━━━━━━━━━━━━━━━━━━━━━\u001b[0m \u001b[32m2.2/2.2 MB\u001b[0m \u001b[31m79.9 MB/s\u001b[0m eta \u001b[36m0:00:00\u001b[0m\r\n",
      "\u001b[?25hRequirement already satisfied: opt-einsum>=2.3.2 in /opt/conda/lib/python3.10/site-packages (from tensorflow~=2.15.0->tf-agents[reverb]) (3.3.0)\r\n",
      "Requirement already satisfied: packaging in /opt/conda/lib/python3.10/site-packages (from tensorflow~=2.15.0->tf-agents[reverb]) (21.3)\r\n",
      "Requirement already satisfied: setuptools in /opt/conda/lib/python3.10/site-packages (from tensorflow~=2.15.0->tf-agents[reverb]) (68.0.0)\r\n",
      "Requirement already satisfied: termcolor>=1.1.0 in /opt/conda/lib/python3.10/site-packages (from tensorflow~=2.15.0->tf-agents[reverb]) (2.3.0)\r\n",
      "Requirement already satisfied: tensorflow-io-gcs-filesystem>=0.23.1 in /opt/conda/lib/python3.10/site-packages (from tensorflow~=2.15.0->tf-agents[reverb]) (0.32.0)\r\n",
      "Requirement already satisfied: grpcio<2.0,>=1.24.3 in /opt/conda/lib/python3.10/site-packages (from tensorflow~=2.15.0->tf-agents[reverb]) (1.51.1)\r\n",
      "Collecting tensorboard<2.16,>=2.15 (from tensorflow~=2.15.0->tf-agents[reverb])\r\n",
      "  Downloading tensorboard-2.15.2-py3-none-any.whl (5.5 MB)\r\n",
      "\u001b[2K     \u001b[90m━━━━━━━━━━━━━━━━━━━━━━━━━━━━━━━━━━━━━━━━\u001b[0m \u001b[32m5.5/5.5 MB\u001b[0m \u001b[31m84.6 MB/s\u001b[0m eta \u001b[36m0:00:00\u001b[0m\r\n",
      "\u001b[?25hCollecting tensorflow-estimator<2.16,>=2.15.0 (from tensorflow~=2.15.0->tf-agents[reverb])\r\n",
      "  Downloading tensorflow_estimator-2.15.0-py2.py3-none-any.whl (441 kB)\r\n",
      "\u001b[2K     \u001b[90m━━━━━━━━━━━━━━━━━━━━━━━━━━━━━━━━━━━━━━\u001b[0m \u001b[32m442.0/442.0 kB\u001b[0m \u001b[31m36.3 MB/s\u001b[0m eta \u001b[36m0:00:00\u001b[0m\r\n",
      "\u001b[?25hCollecting keras<2.16,>=2.15.0 (from tensorflow~=2.15.0->tf-agents[reverb])\r\n",
      "  Downloading keras-2.15.0-py3-none-any.whl (1.7 MB)\r\n",
      "\u001b[2K     \u001b[90m━━━━━━━━━━━━━━━━━━━━━━━━━━━━━━━━━━━━━━━━\u001b[0m \u001b[32m1.7/1.7 MB\u001b[0m \u001b[31m73.1 MB/s\u001b[0m eta \u001b[36m0:00:00\u001b[0m\r\n",
      "\u001b[?25hRequirement already satisfied: decorator in /opt/conda/lib/python3.10/site-packages (from tensorflow-probability~=0.23.0->tf-agents[reverb]) (5.1.1)\r\n",
      "Requirement already satisfied: wheel<1.0,>=0.23.0 in /opt/conda/lib/python3.10/site-packages (from astunparse>=1.6.0->tensorflow~=2.15.0->tf-agents[reverb]) (0.40.0)\r\n",
      "Requirement already satisfied: google-auth<3,>=1.6.3 in /opt/conda/lib/python3.10/site-packages (from tensorboard<2.16,>=2.15->tensorflow~=2.15.0->tf-agents[reverb]) (2.20.0)\r\n",
      "Requirement already satisfied: google-auth-oauthlib<2,>=0.5 in /opt/conda/lib/python3.10/site-packages (from tensorboard<2.16,>=2.15->tensorflow~=2.15.0->tf-agents[reverb]) (1.0.0)\r\n",
      "Requirement already satisfied: markdown>=2.6.8 in /opt/conda/lib/python3.10/site-packages (from tensorboard<2.16,>=2.15->tensorflow~=2.15.0->tf-agents[reverb]) (3.4.3)\r\n",
      "Requirement already satisfied: requests<3,>=2.21.0 in /opt/conda/lib/python3.10/site-packages (from tensorboard<2.16,>=2.15->tensorflow~=2.15.0->tf-agents[reverb]) (2.31.0)\r\n",
      "Requirement already satisfied: tensorboard-data-server<0.8.0,>=0.7.0 in /opt/conda/lib/python3.10/site-packages (from tensorboard<2.16,>=2.15->tensorflow~=2.15.0->tf-agents[reverb]) (0.7.1)\r\n",
      "Requirement already satisfied: werkzeug>=1.0.1 in /opt/conda/lib/python3.10/site-packages (from tensorboard<2.16,>=2.15->tensorflow~=2.15.0->tf-agents[reverb]) (2.3.7)\r\n",
      "Requirement already satisfied: pyparsing!=3.0.5,>=2.0.2 in /opt/conda/lib/python3.10/site-packages (from packaging->tensorflow~=2.15.0->tf-agents[reverb]) (3.0.9)\r\n",
      "Requirement already satisfied: psutil in /opt/conda/lib/python3.10/site-packages (from portpicker->dm-reverb~=0.14.0->tf-agents[reverb]) (5.9.3)\r\n",
      "Requirement already satisfied: cachetools<6.0,>=2.0.0 in /opt/conda/lib/python3.10/site-packages (from google-auth<3,>=1.6.3->tensorboard<2.16,>=2.15->tensorflow~=2.15.0->tf-agents[reverb]) (4.2.4)\r\n",
      "Requirement already satisfied: pyasn1-modules>=0.2.1 in /opt/conda/lib/python3.10/site-packages (from google-auth<3,>=1.6.3->tensorboard<2.16,>=2.15->tensorflow~=2.15.0->tf-agents[reverb]) (0.2.7)\r\n",
      "Requirement already satisfied: rsa<5,>=3.1.4 in /opt/conda/lib/python3.10/site-packages (from google-auth<3,>=1.6.3->tensorboard<2.16,>=2.15->tensorflow~=2.15.0->tf-agents[reverb]) (4.9)\r\n",
      "Requirement already satisfied: urllib3<2.0 in /opt/conda/lib/python3.10/site-packages (from google-auth<3,>=1.6.3->tensorboard<2.16,>=2.15->tensorflow~=2.15.0->tf-agents[reverb]) (1.26.15)\r\n",
      "Requirement already satisfied: requests-oauthlib>=0.7.0 in /opt/conda/lib/python3.10/site-packages (from google-auth-oauthlib<2,>=0.5->tensorboard<2.16,>=2.15->tensorflow~=2.15.0->tf-agents[reverb]) (1.3.1)\r\n",
      "Requirement already satisfied: charset-normalizer<4,>=2 in /opt/conda/lib/python3.10/site-packages (from requests<3,>=2.21.0->tensorboard<2.16,>=2.15->tensorflow~=2.15.0->tf-agents[reverb]) (3.1.0)\r\n",
      "Requirement already satisfied: idna<4,>=2.5 in /opt/conda/lib/python3.10/site-packages (from requests<3,>=2.21.0->tensorboard<2.16,>=2.15->tensorflow~=2.15.0->tf-agents[reverb]) (3.4)\r\n",
      "Requirement already satisfied: certifi>=2017.4.17 in /opt/conda/lib/python3.10/site-packages (from requests<3,>=2.21.0->tensorboard<2.16,>=2.15->tensorflow~=2.15.0->tf-agents[reverb]) (2023.7.22)\r\n",
      "Requirement already satisfied: MarkupSafe>=2.1.1 in /opt/conda/lib/python3.10/site-packages (from werkzeug>=1.0.1->tensorboard<2.16,>=2.15->tensorflow~=2.15.0->tf-agents[reverb]) (2.1.3)\r\n",
      "Requirement already satisfied: pyasn1<0.5.0,>=0.4.6 in /opt/conda/lib/python3.10/site-packages (from pyasn1-modules>=0.2.1->google-auth<3,>=1.6.3->tensorboard<2.16,>=2.15->tensorflow~=2.15.0->tf-agents[reverb]) (0.4.8)\r\n",
      "Requirement already satisfied: oauthlib>=3.0.0 in /opt/conda/lib/python3.10/site-packages (from requests-oauthlib>=0.7.0->google-auth-oauthlib<2,>=0.5->tensorboard<2.16,>=2.15->tensorflow~=2.15.0->tf-agents[reverb]) (3.2.2)\r\n",
      "Building wheels for collected packages: gym\r\n",
      "  Building wheel for gym (pyproject.toml) ... \u001b[?25l-\b \b\\\b \b|\b \bdone\r\n",
      "\u001b[?25h  Created wheel for gym: filename=gym-0.23.0-py3-none-any.whl size=697707 sha256=12f3cc50c27518fca55403924674ba0bcd677ce2cf43762c9057e7281a9db98b\r\n",
      "  Stored in directory: /root/.cache/pip/wheels/3d/6f/b4/3991d4fae11d0ecb0754c11cc1b4e7745012850da4efaaf0b1\r\n",
      "Successfully built gym\r\n",
      "Installing collected packages: gin-config, typing-extensions, tensorflow-probability, tensorflow-estimator, rlds, pygame, portpicker, ml-dtypes, keras, gym, tf-agents, dm-reverb, tensorboard, tensorflow\r\n",
      "  Attempting uninstall: typing-extensions\r\n",
      "    Found existing installation: typing_extensions 4.6.3\r\n",
      "    Uninstalling typing_extensions-4.6.3:\r\n",
      "      Successfully uninstalled typing_extensions-4.6.3\r\n",
      "  Attempting uninstall: tensorflow-probability\r\n",
      "    Found existing installation: tensorflow-probability 0.20.1\r\n",
      "    Uninstalling tensorflow-probability-0.20.1:\r\n",
      "      Successfully uninstalled tensorflow-probability-0.20.1\r\n",
      "  Attempting uninstall: tensorflow-estimator\r\n",
      "    Found existing installation: tensorflow-estimator 2.12.0\r\n",
      "    Uninstalling tensorflow-estimator-2.12.0:\r\n",
      "      Successfully uninstalled tensorflow-estimator-2.12.0\r\n",
      "  Attempting uninstall: ml-dtypes\r\n",
      "    Found existing installation: ml-dtypes 0.2.0\r\n",
      "    Uninstalling ml-dtypes-0.2.0:\r\n",
      "      Successfully uninstalled ml-dtypes-0.2.0\r\n",
      "  Attempting uninstall: keras\r\n",
      "    Found existing installation: keras 2.12.0\r\n",
      "    Uninstalling keras-2.12.0:\r\n",
      "      Successfully uninstalled keras-2.12.0\r\n",
      "  Attempting uninstall: gym\r\n",
      "    Found existing installation: gym 0.26.2\r\n",
      "    Uninstalling gym-0.26.2:\r\n",
      "      Successfully uninstalled gym-0.26.2\r\n",
      "  Attempting uninstall: tensorboard\r\n",
      "    Found existing installation: tensorboard 2.12.3\r\n",
      "    Uninstalling tensorboard-2.12.3:\r\n",
      "      Successfully uninstalled tensorboard-2.12.3\r\n",
      "  Attempting uninstall: tensorflow\r\n",
      "    Found existing installation: tensorflow 2.12.0\r\n",
      "    Uninstalling tensorflow-2.12.0:\r\n",
      "      Successfully uninstalled tensorflow-2.12.0\r\n",
      "\u001b[31mERROR: pip's dependency resolver does not currently take into account all the packages that are installed. This behaviour is the source of the following dependency conflicts.\r\n",
      "cudf 23.8.0 requires cupy-cuda11x>=12.0.0, which is not installed.\r\n",
      "cuml 23.8.0 requires cupy-cuda11x>=12.0.0, which is not installed.\r\n",
      "dask-cudf 23.8.0 requires cupy-cuda11x>=12.0.0, which is not installed.\r\n",
      "apache-beam 2.46.0 requires dill<0.3.2,>=0.3.1.1, but you have dill 0.3.7 which is incompatible.\r\n",
      "apache-beam 2.46.0 requires pyarrow<10.0.0,>=3.0.0, but you have pyarrow 11.0.0 which is incompatible.\r\n",
      "chex 0.1.82 requires numpy>=1.25.0, but you have numpy 1.23.5 which is incompatible.\r\n",
      "cudf 23.8.0 requires pandas<1.6.0dev0,>=1.3, but you have pandas 2.0.2 which is incompatible.\r\n",
      "cudf 23.8.0 requires protobuf<5,>=4.21, but you have protobuf 3.20.3 which is incompatible.\r\n",
      "cuml 23.8.0 requires dask==2023.7.1, but you have dask 2023.9.0 which is incompatible.\r\n",
      "dask-cudf 23.8.0 requires dask==2023.7.1, but you have dask 2023.9.0 which is incompatible.\r\n",
      "dask-cudf 23.8.0 requires pandas<1.6.0dev0,>=1.3, but you have pandas 2.0.2 which is incompatible.\r\n",
      "pydantic-core 2.6.3 requires typing-extensions!=4.7.0,>=4.6.0, but you have typing-extensions 4.5.0 which is incompatible.\r\n",
      "pymc3 3.11.5 requires numpy<1.22.2,>=1.15.0, but you have numpy 1.23.5 which is incompatible.\r\n",
      "pymc3 3.11.5 requires scipy<1.8.0,>=1.7.3, but you have scipy 1.11.2 which is incompatible.\r\n",
      "tensorflow-decision-forests 1.4.0 requires tensorflow~=2.12.0, but you have tensorflow 2.15.1 which is incompatible.\r\n",
      "tensorflow-text 2.12.1 requires tensorflow<2.13,>=2.12.0; platform_machine != \"arm64\" or platform_system != \"Darwin\", but you have tensorflow 2.15.1 which is incompatible.\r\n",
      "ydata-profiling 4.3.1 requires scipy<1.11,>=1.4.1, but you have scipy 1.11.2 which is incompatible.\u001b[0m\u001b[31m\r\n",
      "\u001b[0mSuccessfully installed dm-reverb-0.14.0 gin-config-0.5.0 gym-0.23.0 keras-2.15.0 ml-dtypes-0.3.2 portpicker-1.6.0 pygame-2.1.3 rlds-0.1.8 tensorboard-2.15.2 tensorflow-2.15.1 tensorflow-estimator-2.15.0 tensorflow-probability-0.23.0 tf-agents-0.19.0 typing-extensions-4.5.0\r\n",
      "Collecting pyglet\r\n",
      "  Downloading pyglet-2.1.2-py3-none-any.whl (961 kB)\r\n",
      "\u001b[2K     \u001b[90m━━━━━━━━━━━━━━━━━━━━━━━━━━━━━━━━━━━━━━\u001b[0m \u001b[32m962.0/962.0 kB\u001b[0m \u001b[31m14.7 MB/s\u001b[0m eta \u001b[36m0:00:00\u001b[0m\r\n",
      "\u001b[?25hInstalling collected packages: pyglet\r\n",
      "Successfully installed pyglet-2.1.2\r\n"
     ]
    }
   ],
   "source": [
    "!sudo apt-get update\n",
    "!sudo apt-get install -y xvfb ffmpeg freeglut3-dev\n",
    "!pip install 'imageio==2.4.0'\n",
    "!pip install pyvirtualdisplay\n",
    "!pip install tf-agents[reverb]\n",
    "!pip install pyglet"
   ]
  },
  {
   "cell_type": "code",
   "execution_count": 3,
   "id": "ab00d500",
   "metadata": {
    "execution": {
     "iopub.execute_input": "2025-02-19T19:58:41.165091Z",
     "iopub.status.busy": "2025-02-19T19:58:41.164300Z",
     "iopub.status.idle": "2025-02-19T19:58:47.661763Z",
     "shell.execute_reply": "2025-02-19T19:58:47.660719Z"
    },
    "id": "sMitx5qSgJk1",
    "papermill": {
     "duration": 6.529916,
     "end_time": "2025-02-19T19:58:47.663986",
     "exception": false,
     "start_time": "2025-02-19T19:58:41.134070",
     "status": "completed"
    },
    "tags": []
   },
   "outputs": [
    {
     "name": "stderr",
     "output_type": "stream",
     "text": [
      "2025-02-19 19:58:41.559236: E external/local_xla/xla/stream_executor/cuda/cuda_dnn.cc:9261] Unable to register cuDNN factory: Attempting to register factory for plugin cuDNN when one has already been registered\n",
      "2025-02-19 19:58:41.559312: E external/local_xla/xla/stream_executor/cuda/cuda_fft.cc:607] Unable to register cuFFT factory: Attempting to register factory for plugin cuFFT when one has already been registered\n",
      "2025-02-19 19:58:41.561131: E external/local_xla/xla/stream_executor/cuda/cuda_blas.cc:1515] Unable to register cuBLAS factory: Attempting to register factory for plugin cuBLAS when one has already been registered\n",
      "/opt/conda/lib/python3.10/site-packages/scipy/__init__.py:146: UserWarning: A NumPy version >=1.16.5 and <1.23.0 is required for this version of SciPy (detected version 1.23.5\n",
      "  warnings.warn(f\"A NumPy version >={np_minversion} and <{np_maxversion}\"\n"
     ]
    }
   ],
   "source": [
    "from __future__ import absolute_import, division, print_function\n",
    "\n",
    "import base64\n",
    "import imageio\n",
    "import IPython\n",
    "import matplotlib\n",
    "import matplotlib.pyplot as plt\n",
    "import numpy as np\n",
    "import PIL.Image\n",
    "import pyvirtualdisplay\n",
    "import reverb\n",
    "\n",
    "import tensorflow as tf\n",
    "\n",
    "from tf_agents.agents.dqn import dqn_agent\n",
    "from tf_agents.drivers import py_driver\n",
    "from tf_agents.environments import suite_gym\n",
    "from tf_agents.environments import tf_py_environment\n",
    "from tf_agents.eval import metric_utils\n",
    "from tf_agents.metrics import tf_metrics\n",
    "from tf_agents.networks import sequential\n",
    "from tf_agents.policies import py_tf_eager_policy\n",
    "from tf_agents.policies import random_tf_policy\n",
    "from tf_agents.replay_buffers import reverb_replay_buffer\n",
    "from tf_agents.replay_buffers import reverb_utils\n",
    "from tf_agents.trajectories import trajectory\n",
    "from tf_agents.specs import tensor_spec\n",
    "from tf_agents.utils import common"
   ]
  },
  {
   "cell_type": "code",
   "execution_count": 4,
   "id": "9f23ee04",
   "metadata": {
    "execution": {
     "iopub.execute_input": "2025-02-19T19:58:47.725989Z",
     "iopub.status.busy": "2025-02-19T19:58:47.724984Z",
     "iopub.status.idle": "2025-02-19T19:58:48.252236Z",
     "shell.execute_reply": "2025-02-19T19:58:48.250823Z"
    },
    "id": "J6HsdS5GbSjd",
    "papermill": {
     "duration": 0.560891,
     "end_time": "2025-02-19T19:58:48.255159",
     "exception": false,
     "start_time": "2025-02-19T19:58:47.694268",
     "status": "completed"
    },
    "tags": []
   },
   "outputs": [],
   "source": [
    "# Set up a virtual display for rendering OpenAI gym environments.\n",
    "display = pyvirtualdisplay.Display(visible=0, size=(1400, 900)).start()"
   ]
  },
  {
   "cell_type": "code",
   "execution_count": 5,
   "id": "33b989c4",
   "metadata": {
    "execution": {
     "iopub.execute_input": "2025-02-19T19:58:48.340242Z",
     "iopub.status.busy": "2025-02-19T19:58:48.339620Z",
     "iopub.status.idle": "2025-02-19T19:58:48.346264Z",
     "shell.execute_reply": "2025-02-19T19:58:48.345371Z"
    },
    "id": "NspmzG4nP3b9",
    "papermill": {
     "duration": 0.043094,
     "end_time": "2025-02-19T19:58:48.348130",
     "exception": false,
     "start_time": "2025-02-19T19:58:48.305036",
     "status": "completed"
    },
    "tags": []
   },
   "outputs": [
    {
     "data": {
      "text/plain": [
       "'2.15.1'"
      ]
     },
     "execution_count": 5,
     "metadata": {},
     "output_type": "execute_result"
    }
   ],
   "source": [
    "tf.version.VERSION"
   ]
  },
  {
   "cell_type": "markdown",
   "id": "15f7b602",
   "metadata": {
    "id": "LmC0NDhdLIKY",
    "papermill": {
     "duration": 0.027764,
     "end_time": "2025-02-19T19:58:48.404825",
     "exception": false,
     "start_time": "2025-02-19T19:58:48.377061",
     "status": "completed"
    },
    "tags": []
   },
   "source": [
    "## Hyperparameters"
   ]
  },
  {
   "cell_type": "code",
   "execution_count": 6,
   "id": "e2f83974",
   "metadata": {
    "execution": {
     "iopub.execute_input": "2025-02-19T19:58:48.463632Z",
     "iopub.status.busy": "2025-02-19T19:58:48.462779Z",
     "iopub.status.idle": "2025-02-19T19:58:48.467827Z",
     "shell.execute_reply": "2025-02-19T19:58:48.466997Z"
    },
    "id": "HC1kNrOsLSIZ",
    "papermill": {
     "duration": 0.036089,
     "end_time": "2025-02-19T19:58:48.469462",
     "exception": false,
     "start_time": "2025-02-19T19:58:48.433373",
     "status": "completed"
    },
    "tags": []
   },
   "outputs": [],
   "source": [
    "num_iterations = 20000 # @param {type:\"integer\"}\n",
    "\n",
    "initial_collect_steps = 100  # @param {type:\"integer\"}\n",
    "collect_steps_per_iteration =   1# @param {type:\"integer\"}\n",
    "replay_buffer_max_length = 100000  # @param {type:\"integer\"}\n",
    "\n",
    "batch_size = 64  # @param {type:\"integer\"}\n",
    "learning_rate = 1e-3  # @param {type:\"number\"}\n",
    "log_interval = 200  # @param {type:\"integer\"}\n",
    "\n",
    "num_eval_episodes = 10  # @param {type:\"integer\"}\n",
    "eval_interval = 1000  # @param {type:\"integer\"}"
   ]
  },
  {
   "cell_type": "markdown",
   "id": "98769cd3",
   "metadata": {
    "id": "VMsJC3DEgI0x",
    "papermill": {
     "duration": 0.028954,
     "end_time": "2025-02-19T19:58:48.526886",
     "exception": false,
     "start_time": "2025-02-19T19:58:48.497932",
     "status": "completed"
    },
    "tags": []
   },
   "source": [
    "## Environment\n",
    "\n",
    "In Reinforcement Learning (RL), an environment represents the task or problem to be solved. Standard environments can be created in TF-Agents using `tf_agents.environments` suites. TF-Agents has suites for loading environments from sources such as the OpenAI Gym, Atari, and DM Control.\n",
    "\n",
    "Load the CartPole environment from the OpenAI Gym suite. "
   ]
  },
  {
   "cell_type": "code",
   "execution_count": 7,
   "id": "b52b18d2",
   "metadata": {
    "execution": {
     "iopub.execute_input": "2025-02-19T19:58:48.584813Z",
     "iopub.status.busy": "2025-02-19T19:58:48.584416Z",
     "iopub.status.idle": "2025-02-19T19:58:48.630017Z",
     "shell.execute_reply": "2025-02-19T19:58:48.629153Z"
    },
    "id": "pYEz-S9gEv2-",
    "papermill": {
     "duration": 0.076701,
     "end_time": "2025-02-19T19:58:48.631911",
     "exception": false,
     "start_time": "2025-02-19T19:58:48.555210",
     "status": "completed"
    },
    "tags": []
   },
   "outputs": [],
   "source": [
    "env_name = 'CartPole-v0'\n",
    "env = suite_gym.load(env_name)"
   ]
  },
  {
   "cell_type": "markdown",
   "id": "b3e09f1a",
   "metadata": {
    "id": "IIHYVBkuvPNw",
    "papermill": {
     "duration": 0.028905,
     "end_time": "2025-02-19T19:58:48.690563",
     "exception": false,
     "start_time": "2025-02-19T19:58:48.661658",
     "status": "completed"
    },
    "tags": []
   },
   "source": [
    "You can render this environment to see how it looks. A free-swinging pole is attached to a cart.  The goal is to move the cart right or left in order to keep the pole pointing up."
   ]
  },
  {
   "cell_type": "code",
   "execution_count": 8,
   "id": "25a927cc",
   "metadata": {
    "execution": {
     "iopub.execute_input": "2025-02-19T19:58:48.752713Z",
     "iopub.status.busy": "2025-02-19T19:58:48.752319Z",
     "iopub.status.idle": "2025-02-19T19:58:49.330754Z",
     "shell.execute_reply": "2025-02-19T19:58:49.329660Z"
    },
    "id": "RlO7WIQHu_7D",
    "papermill": {
     "duration": 0.612238,
     "end_time": "2025-02-19T19:58:49.332788",
     "exception": false,
     "start_time": "2025-02-19T19:58:48.720550",
     "status": "completed"
    },
    "tags": []
   },
   "outputs": [
    {
     "name": "stderr",
     "output_type": "stream",
     "text": [
      "ALSA lib confmisc.c:855:(parse_card) cannot find card '0'\n",
      "ALSA lib conf.c:5180:(_snd_config_evaluate) function snd_func_card_inum returned error: No such file or directory\n",
      "ALSA lib confmisc.c:422:(snd_func_concat) error evaluating strings\n",
      "ALSA lib conf.c:5180:(_snd_config_evaluate) function snd_func_concat returned error: No such file or directory\n",
      "ALSA lib confmisc.c:1334:(snd_func_refer) error evaluating name\n",
      "ALSA lib conf.c:5180:(_snd_config_evaluate) function snd_func_refer returned error: No such file or directory\n",
      "ALSA lib conf.c:5703:(snd_config_expand) Evaluate error: No such file or directory\n",
      "ALSA lib pcm.c:2666:(snd_pcm_open_noupdate) Unknown PCM default\n"
     ]
    },
    {
     "data": {
      "image/png": "[encoded data removed]",
      "text/plain": [
       "<PIL.Image.Image image mode=RGB size=600x400>"
      ]
     },
     "execution_count": 8,
     "metadata": {},
     "output_type": "execute_result"
    }
   ],
   "source": [
    "#@test {\"skip\": true}\n",
    "env.reset()\n",
    "PIL.Image.fromarray(env.render())"
   ]
  },
  {
   "cell_type": "markdown",
   "id": "98691e35",
   "metadata": {
    "id": "B9_lskPOey18",
    "papermill": {
     "duration": 0.029349,
     "end_time": "2025-02-19T19:58:49.391784",
     "exception": false,
     "start_time": "2025-02-19T19:58:49.362435",
     "status": "completed"
    },
    "tags": []
   },
   "source": [
    "The `environment.step` method takes an `action` in the environment and returns a `TimeStep` tuple containing the next observation of the environment and the reward for the action.\n",
    "\n",
    "The `time_step_spec()` method returns the specification for the `TimeStep` tuple. Its `observation` attribute shows the shape of observations, the data types, and the ranges of allowed values. The `reward` attribute shows the same details for the reward.\n"
   ]
  },
  {
   "cell_type": "code",
   "execution_count": 9,
   "id": "a2931250",
   "metadata": {
    "execution": {
     "iopub.execute_input": "2025-02-19T19:58:49.454557Z",
     "iopub.status.busy": "2025-02-19T19:58:49.453833Z",
     "iopub.status.idle": "2025-02-19T19:58:49.461794Z",
     "shell.execute_reply": "2025-02-19T19:58:49.460772Z"
    },
    "id": "exDv57iHfwQV",
    "papermill": {
     "duration": 0.041107,
     "end_time": "2025-02-19T19:58:49.463780",
     "exception": false,
     "start_time": "2025-02-19T19:58:49.422673",
     "status": "completed"
    },
    "tags": []
   },
   "outputs": [
    {
     "name": "stdout",
     "output_type": "stream",
     "text": [
      "Observation Spec:\n",
      "BoundedArraySpec(shape=(4,), dtype=dtype('float32'), name='observation', minimum=[-4.8000002e+00 -3.4028235e+38 -4.1887903e-01 -3.4028235e+38], maximum=[4.8000002e+00 3.4028235e+38 4.1887903e-01 3.4028235e+38])\n"
     ]
    }
   ],
   "source": [
    "print('Observation Spec:')\n",
    "print(env.time_step_spec().observation)"
   ]
  },
  {
   "cell_type": "code",
   "execution_count": 10,
   "id": "85e12a76",
   "metadata": {
    "execution": {
     "iopub.execute_input": "2025-02-19T19:58:49.529231Z",
     "iopub.status.busy": "2025-02-19T19:58:49.528456Z",
     "iopub.status.idle": "2025-02-19T19:58:49.533923Z",
     "shell.execute_reply": "2025-02-19T19:58:49.532941Z"
    },
    "id": "UxiSyCbBUQPi",
    "papermill": {
     "duration": 0.039482,
     "end_time": "2025-02-19T19:58:49.536300",
     "exception": false,
     "start_time": "2025-02-19T19:58:49.496818",
     "status": "completed"
    },
    "tags": []
   },
   "outputs": [
    {
     "name": "stdout",
     "output_type": "stream",
     "text": [
      "Reward Spec:\n",
      "ArraySpec(shape=(), dtype=dtype('float32'), name='reward')\n"
     ]
    }
   ],
   "source": [
    "print('Reward Spec:')\n",
    "print(env.time_step_spec().reward)"
   ]
  },
  {
   "cell_type": "markdown",
   "id": "b8db7e44",
   "metadata": {
    "id": "b_lHcIcqUaqB",
    "papermill": {
     "duration": 0.029431,
     "end_time": "2025-02-19T19:58:49.594703",
     "exception": false,
     "start_time": "2025-02-19T19:58:49.565272",
     "status": "completed"
    },
    "tags": []
   },
   "source": [
    "The `action_spec()` method returns the shape, data types, and allowed values of valid actions."
   ]
  },
  {
   "cell_type": "code",
   "execution_count": 11,
   "id": "35c2c4e4",
   "metadata": {
    "execution": {
     "iopub.execute_input": "2025-02-19T19:58:49.656105Z",
     "iopub.status.busy": "2025-02-19T19:58:49.655416Z",
     "iopub.status.idle": "2025-02-19T19:58:49.660825Z",
     "shell.execute_reply": "2025-02-19T19:58:49.659809Z"
    },
    "id": "bttJ4uxZUQBr",
    "papermill": {
     "duration": 0.03849,
     "end_time": "2025-02-19T19:58:49.662755",
     "exception": false,
     "start_time": "2025-02-19T19:58:49.624265",
     "status": "completed"
    },
    "tags": []
   },
   "outputs": [
    {
     "name": "stdout",
     "output_type": "stream",
     "text": [
      "Action Spec:\n",
      "BoundedArraySpec(shape=(), dtype=dtype('int64'), name='action', minimum=0, maximum=1)\n"
     ]
    }
   ],
   "source": [
    "print('Action Spec:')\n",
    "print(env.action_spec())"
   ]
  },
  {
   "cell_type": "markdown",
   "id": "0767de4d",
   "metadata": {
    "id": "eJCgJnx3g0yY",
    "papermill": {
     "duration": 0.029787,
     "end_time": "2025-02-19T19:58:49.722053",
     "exception": false,
     "start_time": "2025-02-19T19:58:49.692266",
     "status": "completed"
    },
    "tags": []
   },
   "source": [
    "In the Cartpole environment:\n",
    "\n",
    "-   `observation` is an array of 4 floats: \n",
    "    -   the position and velocity of the cart\n",
    "    -   the angular position and velocity of the pole \n",
    "-   `reward` is a scalar float value\n",
    "-   `action` is a scalar integer with only two possible values:\n",
    "    -   `0` — \"move left\"\n",
    "    -   `1` — \"move right\"\n"
   ]
  },
  {
   "cell_type": "code",
   "execution_count": 12,
   "id": "de7fe079",
   "metadata": {
    "execution": {
     "iopub.execute_input": "2025-02-19T19:58:49.785077Z",
     "iopub.status.busy": "2025-02-19T19:58:49.784189Z",
     "iopub.status.idle": "2025-02-19T19:58:49.796515Z",
     "shell.execute_reply": "2025-02-19T19:58:49.795619Z"
    },
    "id": "V2UGR5t_iZX-",
    "papermill": {
     "duration": 0.046211,
     "end_time": "2025-02-19T19:58:49.798549",
     "exception": false,
     "start_time": "2025-02-19T19:58:49.752338",
     "status": "completed"
    },
    "tags": []
   },
   "outputs": [
    {
     "name": "stdout",
     "output_type": "stream",
     "text": [
      "Time step:\n",
      "TimeStep(\n",
      "{'step_type': array(0, dtype=int32),\n",
      " 'reward': array(0., dtype=float32),\n",
      " 'discount': array(1., dtype=float32),\n",
      " 'observation': array([ 0.03275681, -0.00194424,  0.04547757,  0.01137535], dtype=float32)})\n",
      "Next time step:\n",
      "TimeStep(\n",
      "{'step_type': array(1, dtype=int32),\n",
      " 'reward': array(1., dtype=float32),\n",
      " 'discount': array(1., dtype=float32),\n",
      " 'observation': array([ 0.03271793,  0.19249699,  0.04570508, -0.26661915], dtype=float32)})\n"
     ]
    }
   ],
   "source": [
    "time_step = env.reset()\n",
    "print('Time step:')\n",
    "print(time_step)\n",
    "\n",
    "action = np.array(1, dtype=np.int32)\n",
    "\n",
    "next_time_step = env.step(action)\n",
    "print('Next time step:')\n",
    "print(next_time_step)"
   ]
  },
  {
   "cell_type": "markdown",
   "id": "ac786813",
   "metadata": {
    "id": "4JSc9GviWUBK",
    "papermill": {
     "duration": 0.029409,
     "end_time": "2025-02-19T19:58:49.859854",
     "exception": false,
     "start_time": "2025-02-19T19:58:49.830445",
     "status": "completed"
    },
    "tags": []
   },
   "source": [
    "Usually two environments are instantiated: one for training and one for evaluation. "
   ]
  },
  {
   "cell_type": "code",
   "execution_count": 13,
   "id": "2b4a3107",
   "metadata": {
    "execution": {
     "iopub.execute_input": "2025-02-19T19:58:49.920617Z",
     "iopub.status.busy": "2025-02-19T19:58:49.919795Z",
     "iopub.status.idle": "2025-02-19T19:58:49.926765Z",
     "shell.execute_reply": "2025-02-19T19:58:49.925973Z"
    },
    "id": "N7brXNIGWXjC",
    "papermill": {
     "duration": 0.038681,
     "end_time": "2025-02-19T19:58:49.928781",
     "exception": false,
     "start_time": "2025-02-19T19:58:49.890100",
     "status": "completed"
    },
    "tags": []
   },
   "outputs": [],
   "source": [
    "train_py_env = suite_gym.load(env_name)\n",
    "eval_py_env = suite_gym.load(env_name)"
   ]
  },
  {
   "cell_type": "markdown",
   "id": "96b6b6d6",
   "metadata": {
    "id": "zuUqXAVmecTU",
    "papermill": {
     "duration": 0.029246,
     "end_time": "2025-02-19T19:58:49.990331",
     "exception": false,
     "start_time": "2025-02-19T19:58:49.961085",
     "status": "completed"
    },
    "tags": []
   },
   "source": [
    "The Cartpole environment, like most environments, is written in pure Python. This is converted to TensorFlow using the `TFPyEnvironment` wrapper.\n",
    "\n",
    "The original environment's API uses Numpy arrays. The `TFPyEnvironment` converts these to `Tensors` to make it compatible with Tensorflow agents and policies.\n"
   ]
  },
  {
   "cell_type": "code",
   "execution_count": 14,
   "id": "eb5ca623",
   "metadata": {
    "execution": {
     "iopub.execute_input": "2025-02-19T19:58:50.051409Z",
     "iopub.status.busy": "2025-02-19T19:58:50.051080Z",
     "iopub.status.idle": "2025-02-19T19:58:50.072312Z",
     "shell.execute_reply": "2025-02-19T19:58:50.071553Z"
    },
    "id": "Xp-Y4mD6eDhF",
    "papermill": {
     "duration": 0.054483,
     "end_time": "2025-02-19T19:58:50.074315",
     "exception": false,
     "start_time": "2025-02-19T19:58:50.019832",
     "status": "completed"
    },
    "tags": []
   },
   "outputs": [],
   "source": [
    "train_env = tf_py_environment.TFPyEnvironment(train_py_env)\n",
    "eval_env = tf_py_environment.TFPyEnvironment(eval_py_env)"
   ]
  },
  {
   "cell_type": "markdown",
   "id": "0e76bdf2",
   "metadata": {
    "id": "E9lW_OZYFR8A",
    "papermill": {
     "duration": 0.03012,
     "end_time": "2025-02-19T19:58:50.134786",
     "exception": false,
     "start_time": "2025-02-19T19:58:50.104666",
     "status": "completed"
    },
    "tags": []
   },
   "source": [
    "## Agent\n",
    "\n",
    "The algorithm used to solve an RL problem is represented by an `Agent`. TF-Agents provides standard implementations of a variety of `Agents`, including:\n",
    "\n",
    "-   [DQN](https://storage.googleapis.com/deepmind-media/dqn/DQNNaturePaper.pdf) (used in this tutorial)\n",
    "-   [REINFORCE](https://www-anw.cs.umass.edu/~barto/courses/cs687/williams92simple.pdf)\n",
    "-   [DDPG](https://arxiv.org/pdf/1509.02971.pdf)\n",
    "-   [TD3](https://arxiv.org/pdf/1802.09477.pdf)\n",
    "-   [PPO](https://arxiv.org/abs/1707.06347)\n",
    "-   [SAC](https://arxiv.org/abs/1801.01290)\n",
    "\n",
    "The DQN agent can be used in any environment which has a discrete action space.\n",
    "\n",
    "At the heart of a DQN Agent is a `QNetwork`, a neural network model that can learn to predict `QValues` (expected returns) for all actions, given an observation from the environment.\n",
    "\n",
    "We will use `tf_agents.networks.` to create a `QNetwork`. The network will consist of a sequence of `tf.keras.layers.Dense` layers, where the final layer will have 1 output for each possible action."
   ]
  },
  {
   "cell_type": "code",
   "execution_count": 15,
   "id": "41c12d90",
   "metadata": {
    "execution": {
     "iopub.execute_input": "2025-02-19T19:58:50.195758Z",
     "iopub.status.busy": "2025-02-19T19:58:50.194975Z",
     "iopub.status.idle": "2025-02-19T19:58:50.218870Z",
     "shell.execute_reply": "2025-02-19T19:58:50.218186Z"
    },
    "id": "TgkdEPg_muzV",
    "papermill": {
     "duration": 0.056337,
     "end_time": "2025-02-19T19:58:50.220809",
     "exception": false,
     "start_time": "2025-02-19T19:58:50.164472",
     "status": "completed"
    },
    "tags": []
   },
   "outputs": [],
   "source": [
    "fc_layer_params = (100, 50)\n",
    "action_tensor_spec = tensor_spec.from_spec(env.action_spec())\n",
    "num_actions = action_tensor_spec.maximum - action_tensor_spec.minimum + 1\n",
    "\n",
    "# Define a helper function to create Dense layers configured with the right\n",
    "# activation and kernel initializer.\n",
    "def dense_layer(num_units):\n",
    "  return tf.keras.layers.Dense(\n",
    "      num_units,\n",
    "      activation=tf.keras.activations.relu,\n",
    "      kernel_initializer=tf.keras.initializers.VarianceScaling(\n",
    "          scale=2.0, mode='fan_in', distribution='truncated_normal'))\n",
    "\n",
    "# QNetwork consists of a sequence of Dense layers followed by a dense layer\n",
    "# with `num_actions` units to generate one q_value per available action as\n",
    "# its output.\n",
    "dense_layers = [dense_layer(num_units) for num_units in fc_layer_params]\n",
    "q_values_layer = tf.keras.layers.Dense(\n",
    "    num_actions,\n",
    "    activation=None,\n",
    "    kernel_initializer=tf.keras.initializers.RandomUniform(\n",
    "        minval=-0.03, maxval=0.03),\n",
    "    bias_initializer=tf.keras.initializers.Constant(-0.2))\n",
    "q_net = sequential.Sequential(dense_layers + [q_values_layer])"
   ]
  },
  {
   "cell_type": "markdown",
   "id": "d3f7c561",
   "metadata": {
    "id": "z62u55hSmviJ",
    "papermill": {
     "duration": 0.029992,
     "end_time": "2025-02-19T19:58:50.281023",
     "exception": false,
     "start_time": "2025-02-19T19:58:50.251031",
     "status": "completed"
    },
    "tags": []
   },
   "source": [
    "Now use `tf_agents.agents.dqn.dqn_agent` to instantiate a `DqnAgent`. In addition to the `time_step_spec`, `action_spec` and the QNetwork, the agent constructor also requires an optimizer (in this case, `AdamOptimizer`), a loss function, and an integer step counter."
   ]
  },
  {
   "cell_type": "code",
   "execution_count": 16,
   "id": "3c74c264",
   "metadata": {
    "execution": {
     "iopub.execute_input": "2025-02-19T19:58:50.343432Z",
     "iopub.status.busy": "2025-02-19T19:58:50.342737Z",
     "iopub.status.idle": "2025-02-19T19:58:50.919940Z",
     "shell.execute_reply": "2025-02-19T19:58:50.919091Z"
    },
    "id": "jbY4yrjTEyc9",
    "papermill": {
     "duration": 0.611505,
     "end_time": "2025-02-19T19:58:50.922724",
     "exception": false,
     "start_time": "2025-02-19T19:58:50.311219",
     "status": "completed"
    },
    "tags": []
   },
   "outputs": [],
   "source": [
    "optimizer = tf.keras.optimizers.Adam(learning_rate=learning_rate)\n",
    "\n",
    "train_step_counter = tf.Variable(0)\n",
    "\n",
    "agent = dqn_agent.DqnAgent(\n",
    "    train_env.time_step_spec(),\n",
    "    train_env.action_spec(),\n",
    "    q_network=q_net,\n",
    "    optimizer=optimizer,\n",
    "    td_errors_loss_fn=common.element_wise_squared_loss,\n",
    "    train_step_counter=train_step_counter)\n",
    "\n",
    "agent.initialize()"
   ]
  },
  {
   "cell_type": "markdown",
   "id": "a6cb4ace",
   "metadata": {
    "id": "I0KLrEPwkn5x",
    "papermill": {
     "duration": 0.032724,
     "end_time": "2025-02-19T19:58:50.997281",
     "exception": false,
     "start_time": "2025-02-19T19:58:50.964557",
     "status": "completed"
    },
    "tags": []
   },
   "source": [
    "## Policies\n",
    "\n",
    "A policy defines the way an agent acts in an environment. Typically, the goal of reinforcement learning is to train the underlying model until the policy produces the desired outcome.\n",
    "\n",
    "In this tutorial:\n",
    "\n",
    "-   The desired outcome is keeping the pole balanced upright over the cart.\n",
    "-   The policy returns an action (left or right) for each `time_step` observation.\n",
    "\n",
    "Agents contain two policies: \n",
    "\n",
    "-   `agent.policy` — The main policy that is used for evaluation and deployment.\n",
    "-   `agent.collect_policy` — A second policy that is used for data collection.\n"
   ]
  },
  {
   "cell_type": "code",
   "execution_count": 17,
   "id": "16a2cbb0",
   "metadata": {
    "execution": {
     "iopub.execute_input": "2025-02-19T19:58:51.059960Z",
     "iopub.status.busy": "2025-02-19T19:58:51.059559Z",
     "iopub.status.idle": "2025-02-19T19:58:51.064040Z",
     "shell.execute_reply": "2025-02-19T19:58:51.063139Z"
    },
    "id": "BwY7StuMkuV4",
    "papermill": {
     "duration": 0.038172,
     "end_time": "2025-02-19T19:58:51.066115",
     "exception": false,
     "start_time": "2025-02-19T19:58:51.027943",
     "status": "completed"
    },
    "tags": []
   },
   "outputs": [],
   "source": [
    "eval_policy = agent.policy\n",
    "collect_policy = agent.collect_policy"
   ]
  },
  {
   "cell_type": "markdown",
   "id": "9b2bf627",
   "metadata": {
    "id": "2Qs1Fl3dV0ae",
    "papermill": {
     "duration": 0.029021,
     "end_time": "2025-02-19T19:58:51.126078",
     "exception": false,
     "start_time": "2025-02-19T19:58:51.097057",
     "status": "completed"
    },
    "tags": []
   },
   "source": [
    "Policies can be created independently of agents. For example, use `tf_agents.policies.random_tf_policy` to create a policy which will randomly select an action for each `time_step`."
   ]
  },
  {
   "cell_type": "code",
   "execution_count": 18,
   "id": "c8012415",
   "metadata": {
    "execution": {
     "iopub.execute_input": "2025-02-19T19:58:51.187986Z",
     "iopub.status.busy": "2025-02-19T19:58:51.187159Z",
     "iopub.status.idle": "2025-02-19T19:58:51.192206Z",
     "shell.execute_reply": "2025-02-19T19:58:51.191259Z"
    },
    "id": "HE37-UCIrE69",
    "papermill": {
     "duration": 0.038385,
     "end_time": "2025-02-19T19:58:51.194062",
     "exception": false,
     "start_time": "2025-02-19T19:58:51.155677",
     "status": "completed"
    },
    "tags": []
   },
   "outputs": [],
   "source": [
    "random_policy = random_tf_policy.RandomTFPolicy(train_env.time_step_spec(),\n",
    "                                                train_env.action_spec())"
   ]
  },
  {
   "cell_type": "markdown",
   "id": "9c7dbc05",
   "metadata": {
    "id": "dOlnlRRsUbxP",
    "papermill": {
     "duration": 0.029554,
     "end_time": "2025-02-19T19:58:51.253480",
     "exception": false,
     "start_time": "2025-02-19T19:58:51.223926",
     "status": "completed"
    },
    "tags": []
   },
   "source": [
    "To get an action from a policy, call the `policy.action(time_step)` method. The `time_step` contains the observation from the environment. This method returns a `PolicyStep`, which is a named tuple with three components:\n",
    "\n",
    "-   `action` — the action to be taken (in this case, `0` or `1`)\n",
    "-   `state` — used for stateful (that is, RNN-based) policies\n",
    "-   `info` — auxiliary data, such as log probabilities of actions"
   ]
  },
  {
   "cell_type": "code",
   "execution_count": 19,
   "id": "8d0fa25b",
   "metadata": {
    "execution": {
     "iopub.execute_input": "2025-02-19T19:58:51.315920Z",
     "iopub.status.busy": "2025-02-19T19:58:51.314995Z",
     "iopub.status.idle": "2025-02-19T19:58:51.324339Z",
     "shell.execute_reply": "2025-02-19T19:58:51.323271Z"
    },
    "id": "5gCcpXswVAxk",
    "papermill": {
     "duration": 0.043073,
     "end_time": "2025-02-19T19:58:51.326317",
     "exception": false,
     "start_time": "2025-02-19T19:58:51.283244",
     "status": "completed"
    },
    "tags": []
   },
   "outputs": [],
   "source": [
    "example_environment = tf_py_environment.TFPyEnvironment(\n",
    "    suite_gym.load('CartPole-v0'))"
   ]
  },
  {
   "cell_type": "code",
   "execution_count": 20,
   "id": "a6ccc8cc",
   "metadata": {
    "execution": {
     "iopub.execute_input": "2025-02-19T19:58:51.387467Z",
     "iopub.status.busy": "2025-02-19T19:58:51.386530Z",
     "iopub.status.idle": "2025-02-19T19:58:51.393771Z",
     "shell.execute_reply": "2025-02-19T19:58:51.392723Z"
    },
    "id": "D4DHZtq3Ndis",
    "papermill": {
     "duration": 0.038787,
     "end_time": "2025-02-19T19:58:51.395692",
     "exception": false,
     "start_time": "2025-02-19T19:58:51.356905",
     "status": "completed"
    },
    "tags": []
   },
   "outputs": [],
   "source": [
    "time_step = example_environment.reset()"
   ]
  },
  {
   "cell_type": "code",
   "execution_count": 21,
   "id": "ef8d199f",
   "metadata": {
    "execution": {
     "iopub.execute_input": "2025-02-19T19:58:51.455482Z",
     "iopub.status.busy": "2025-02-19T19:58:51.454466Z",
     "iopub.status.idle": "2025-02-19T19:58:51.467953Z",
     "shell.execute_reply": "2025-02-19T19:58:51.467029Z"
    },
    "id": "PRFqAUzpNaAW",
    "papermill": {
     "duration": 0.045426,
     "end_time": "2025-02-19T19:58:51.469870",
     "exception": false,
     "start_time": "2025-02-19T19:58:51.424444",
     "status": "completed"
    },
    "tags": []
   },
   "outputs": [
    {
     "data": {
      "text/plain": [
       "PolicyStep(action=<tf.Tensor: shape=(1,), dtype=int64, numpy=array([0])>, state=(), info=())"
      ]
     },
     "execution_count": 21,
     "metadata": {},
     "output_type": "execute_result"
    }
   ],
   "source": [
    "random_policy.action(time_step)"
   ]
  },
  {
   "cell_type": "markdown",
   "id": "3e040cd7",
   "metadata": {
    "id": "94rCXQtbUbXv",
    "papermill": {
     "duration": 0.028964,
     "end_time": "2025-02-19T19:58:51.529352",
     "exception": false,
     "start_time": "2025-02-19T19:58:51.500388",
     "status": "completed"
    },
    "tags": []
   },
   "source": [
    "## Metrics and Evaluation\n",
    "\n",
    "The most common metric used to evaluate a policy is the average return. The return is the sum of rewards obtained while running a policy in an environment for an episode. Several episodes are run, creating an average return.\n",
    "\n",
    "The following function computes the average return of a policy, given the policy, environment, and a number of episodes.\n"
   ]
  },
  {
   "cell_type": "code",
   "execution_count": 22,
   "id": "d35e1d5b",
   "metadata": {
    "execution": {
     "iopub.execute_input": "2025-02-19T19:58:51.587382Z",
     "iopub.status.busy": "2025-02-19T19:58:51.586735Z",
     "iopub.status.idle": "2025-02-19T19:58:51.592326Z",
     "shell.execute_reply": "2025-02-19T19:58:51.591389Z"
    },
    "id": "bitzHo5_UbXy",
    "papermill": {
     "duration": 0.036517,
     "end_time": "2025-02-19T19:58:51.594178",
     "exception": false,
     "start_time": "2025-02-19T19:58:51.557661",
     "status": "completed"
    },
    "tags": []
   },
   "outputs": [],
   "source": [
    "#@test {\"skip\": true}\n",
    "def compute_avg_return(environment, policy, num_episodes=10):\n",
    "\n",
    "  total_return = 0.0\n",
    "  for _ in range(num_episodes):\n",
    "\n",
    "    time_step = environment.reset()\n",
    "    episode_return = 0.0\n",
    "\n",
    "    while not time_step.is_last():\n",
    "      action_step = policy.action(time_step)\n",
    "      time_step = environment.step(action_step.action)\n",
    "      episode_return += time_step.reward\n",
    "    total_return += episode_return\n",
    "\n",
    "  avg_return = total_return / num_episodes\n",
    "  return avg_return.numpy()[0]\n",
    "\n",
    "\n",
    "# See also the metrics module for standard implementations of different metrics.\n",
    "# https://github.com/tensorflow/agents/tree/master/tf_agents/metrics"
   ]
  },
  {
   "cell_type": "markdown",
   "id": "be379dae",
   "metadata": {
    "id": "_snCVvq5Z8lJ",
    "papermill": {
     "duration": 0.028858,
     "end_time": "2025-02-19T19:58:51.652178",
     "exception": false,
     "start_time": "2025-02-19T19:58:51.623320",
     "status": "completed"
    },
    "tags": []
   },
   "source": [
    "Running this computation on the `random_policy` shows a baseline performance in the environment."
   ]
  },
  {
   "cell_type": "code",
   "execution_count": 23,
   "id": "8971beb2",
   "metadata": {
    "execution": {
     "iopub.execute_input": "2025-02-19T19:58:51.712202Z",
     "iopub.status.busy": "2025-02-19T19:58:51.711351Z",
     "iopub.status.idle": "2025-02-19T19:58:52.232847Z",
     "shell.execute_reply": "2025-02-19T19:58:52.231826Z"
    },
    "id": "9bgU6Q6BZ8Bp",
    "papermill": {
     "duration": 0.553726,
     "end_time": "2025-02-19T19:58:52.234930",
     "exception": false,
     "start_time": "2025-02-19T19:58:51.681204",
     "status": "completed"
    },
    "tags": []
   },
   "outputs": [
    {
     "data": {
      "text/plain": [
       "18.7"
      ]
     },
     "execution_count": 23,
     "metadata": {},
     "output_type": "execute_result"
    }
   ],
   "source": [
    "compute_avg_return(eval_env, random_policy, num_eval_episodes)"
   ]
  },
  {
   "cell_type": "markdown",
   "id": "64324735",
   "metadata": {
    "id": "NLva6g2jdWgr",
    "papermill": {
     "duration": 0.029972,
     "end_time": "2025-02-19T19:58:52.295503",
     "exception": false,
     "start_time": "2025-02-19T19:58:52.265531",
     "status": "completed"
    },
    "tags": []
   },
   "source": [
    "## Replay Buffer\n",
    "\n",
    "In order to keep track of the data collected from the environment, we will use [Reverb](https://deepmind.com/research/open-source/Reverb), an efficient, extensible, and easy-to-use replay system by Deepmind. It stores experience data when we collect trajectories and is consumed during training.\n",
    "\n",
    "This replay buffer is constructed using specs describing the tensors that are to be stored, which can be obtained from the agent using agent.collect_data_spec.\n"
   ]
  },
  {
   "cell_type": "code",
   "execution_count": 24,
   "id": "bc86e607",
   "metadata": {
    "execution": {
     "iopub.execute_input": "2025-02-19T19:58:52.354325Z",
     "iopub.status.busy": "2025-02-19T19:58:52.354013Z",
     "iopub.status.idle": "2025-02-19T19:58:52.372877Z",
     "shell.execute_reply": "2025-02-19T19:58:52.371933Z"
    },
    "id": "vX2zGUWJGWAl",
    "papermill": {
     "duration": 0.050418,
     "end_time": "2025-02-19T19:58:52.374837",
     "exception": false,
     "start_time": "2025-02-19T19:58:52.324419",
     "status": "completed"
    },
    "tags": []
   },
   "outputs": [
    {
     "name": "stderr",
     "output_type": "stream",
     "text": [
      "[reverb/cc/platform/tfrecord_checkpointer.cc:162]  Initializing TFRecordCheckpointer in /tmp/tmppa_xyome.\n",
      "[reverb/cc/platform/tfrecord_checkpointer.cc:565] Loading latest checkpoint from /tmp/tmppa_xyome\n",
      "[reverb/cc/platform/default/server.cc:71] Started replay server on port 41223\n"
     ]
    }
   ],
   "source": [
    "table_name = 'uniform_table'\n",
    "replay_buffer_signature = tensor_spec.from_spec(\n",
    "      agent.collect_data_spec)\n",
    "replay_buffer_signature = tensor_spec.add_outer_dim(\n",
    "    replay_buffer_signature)\n",
    "\n",
    "table = reverb.Table(\n",
    "    table_name,\n",
    "    max_size=replay_buffer_max_length,\n",
    "    sampler=reverb.selectors.Uniform(),\n",
    "    remover=reverb.selectors.Fifo(),\n",
    "    rate_limiter=reverb.rate_limiters.MinSize(1),\n",
    "    signature=replay_buffer_signature)\n",
    "\n",
    "reverb_server = reverb.Server([table])\n",
    "\n",
    "replay_buffer = reverb_replay_buffer.ReverbReplayBuffer(\n",
    "    agent.collect_data_spec,\n",
    "    table_name=table_name,\n",
    "    sequence_length=2,\n",
    "    local_server=reverb_server)\n",
    "\n",
    "rb_observer = reverb_utils.ReverbAddTrajectoryObserver(\n",
    "  replay_buffer.py_client,\n",
    "  table_name,\n",
    "  sequence_length=2)"
   ]
  },
  {
   "cell_type": "markdown",
   "id": "a07f7c67",
   "metadata": {
    "id": "ZGNTDJpZs4NN",
    "papermill": {
     "duration": 0.028509,
     "end_time": "2025-02-19T19:58:52.432251",
     "exception": false,
     "start_time": "2025-02-19T19:58:52.403742",
     "status": "completed"
    },
    "tags": []
   },
   "source": [
    "For most agents, `collect_data_spec` is a named tuple called `Trajectory`, containing the specs for observations, actions, rewards, and other items."
   ]
  },
  {
   "cell_type": "code",
   "execution_count": 25,
   "id": "1e40bec6",
   "metadata": {
    "execution": {
     "iopub.execute_input": "2025-02-19T19:58:52.492209Z",
     "iopub.status.busy": "2025-02-19T19:58:52.491498Z",
     "iopub.status.idle": "2025-02-19T19:58:52.499998Z",
     "shell.execute_reply": "2025-02-19T19:58:52.498800Z"
    },
    "id": "_IZ-3HcqgE1z",
    "papermill": {
     "duration": 0.041181,
     "end_time": "2025-02-19T19:58:52.502006",
     "exception": false,
     "start_time": "2025-02-19T19:58:52.460825",
     "status": "completed"
    },
    "tags": []
   },
   "outputs": [
    {
     "data": {
      "text/plain": [
       "Trajectory(\n",
       "{'step_type': TensorSpec(shape=(), dtype=tf.int32, name='step_type'),\n",
       " 'observation': BoundedTensorSpec(shape=(4,), dtype=tf.float32, name='observation', minimum=array([-4.8000002e+00, -3.4028235e+38, -4.1887903e-01, -3.4028235e+38],\n",
       "      dtype=float32), maximum=array([4.8000002e+00, 3.4028235e+38, 4.1887903e-01, 3.4028235e+38],\n",
       "      dtype=float32)),\n",
       " 'action': BoundedTensorSpec(shape=(), dtype=tf.int64, name='action', minimum=array(0), maximum=array(1)),\n",
       " 'policy_info': (),\n",
       " 'next_step_type': TensorSpec(shape=(), dtype=tf.int32, name='step_type'),\n",
       " 'reward': TensorSpec(shape=(), dtype=tf.float32, name='reward'),\n",
       " 'discount': BoundedTensorSpec(shape=(), dtype=tf.float32, name='discount', minimum=array(0., dtype=float32), maximum=array(1., dtype=float32))})"
      ]
     },
     "execution_count": 25,
     "metadata": {},
     "output_type": "execute_result"
    }
   ],
   "source": [
    "agent.collect_data_spec"
   ]
  },
  {
   "cell_type": "code",
   "execution_count": 26,
   "id": "259aebe3",
   "metadata": {
    "execution": {
     "iopub.execute_input": "2025-02-19T19:58:52.566194Z",
     "iopub.status.busy": "2025-02-19T19:58:52.565832Z",
     "iopub.status.idle": "2025-02-19T19:58:52.571830Z",
     "shell.execute_reply": "2025-02-19T19:58:52.571081Z"
    },
    "id": "sy6g1tGcfRlw",
    "papermill": {
     "duration": 0.038483,
     "end_time": "2025-02-19T19:58:52.573671",
     "exception": false,
     "start_time": "2025-02-19T19:58:52.535188",
     "status": "completed"
    },
    "tags": []
   },
   "outputs": [
    {
     "data": {
      "text/plain": [
       "('step_type',\n",
       " 'observation',\n",
       " 'action',\n",
       " 'policy_info',\n",
       " 'next_step_type',\n",
       " 'reward',\n",
       " 'discount')"
      ]
     },
     "execution_count": 26,
     "metadata": {},
     "output_type": "execute_result"
    }
   ],
   "source": [
    "agent.collect_data_spec._fields"
   ]
  },
  {
   "cell_type": "markdown",
   "id": "dc5fa517",
   "metadata": {
    "id": "rVD5nQ9ZGo8_",
    "papermill": {
     "duration": 0.02906,
     "end_time": "2025-02-19T19:58:52.632298",
     "exception": false,
     "start_time": "2025-02-19T19:58:52.603238",
     "status": "completed"
    },
    "tags": []
   },
   "source": [
    "## Data Collection\n",
    "\n",
    "Now execute the random policy in the environment for a few steps, recording the data in the replay buffer.\n",
    "\n",
    "Here we are using 'PyDriver' to run the experience collecting loop. You can learn more about TF Agents driver in our [drivers tutorial](https://www.tensorflow.org/agents/tutorials/4_drivers_tutorial)."
   ]
  },
  {
   "cell_type": "code",
   "execution_count": 27,
   "id": "7d6958c2",
   "metadata": {
    "execution": {
     "iopub.execute_input": "2025-02-19T19:58:52.692569Z",
     "iopub.status.busy": "2025-02-19T19:58:52.691838Z",
     "iopub.status.idle": "2025-02-19T19:58:52.948794Z",
     "shell.execute_reply": "2025-02-19T19:58:52.947875Z"
    },
    "id": "wr1KSAEGG4h9",
    "papermill": {
     "duration": 0.289252,
     "end_time": "2025-02-19T19:58:52.950772",
     "exception": false,
     "start_time": "2025-02-19T19:58:52.661520",
     "status": "completed"
    },
    "tags": []
   },
   "outputs": [
    {
     "data": {
      "text/plain": [
       "(TimeStep(\n",
       " {'step_type': array(1, dtype=int32),\n",
       "  'reward': array(1., dtype=float32),\n",
       "  'discount': array(1., dtype=float32),\n",
       "  'observation': array([-0.10461091, -0.9534747 ,  0.16360469,  1.6094834 ], dtype=float32)}),\n",
       " ())"
      ]
     },
     "execution_count": 27,
     "metadata": {},
     "output_type": "execute_result"
    }
   ],
   "source": [
    "#@test {\"skip\": true}\n",
    "py_driver.PyDriver(\n",
    "    env,\n",
    "    py_tf_eager_policy.PyTFEagerPolicy(\n",
    "      random_policy, use_tf_function=True),\n",
    "    [rb_observer],\n",
    "    max_steps=initial_collect_steps).run(train_py_env.reset())"
   ]
  },
  {
   "cell_type": "markdown",
   "id": "94e35eed",
   "metadata": {
    "id": "84z5pQJdoKxo",
    "papermill": {
     "duration": 0.036813,
     "end_time": "2025-02-19T19:58:53.017327",
     "exception": false,
     "start_time": "2025-02-19T19:58:52.980514",
     "status": "completed"
    },
    "tags": []
   },
   "source": [
    "The replay buffer is now a collection of Trajectories."
   ]
  },
  {
   "cell_type": "code",
   "execution_count": 28,
   "id": "8aa783c2",
   "metadata": {
    "execution": {
     "iopub.execute_input": "2025-02-19T19:58:53.079651Z",
     "iopub.status.busy": "2025-02-19T19:58:53.079245Z",
     "iopub.status.idle": "2025-02-19T19:58:53.083380Z",
     "shell.execute_reply": "2025-02-19T19:58:53.082602Z"
    },
    "id": "4wZnLu2ViO4E",
    "papermill": {
     "duration": 0.038276,
     "end_time": "2025-02-19T19:58:53.085174",
     "exception": false,
     "start_time": "2025-02-19T19:58:53.046898",
     "status": "completed"
    },
    "tags": []
   },
   "outputs": [],
   "source": [
    "# For the curious:\n",
    "# Uncomment to peel one of these off and inspect it.\n",
    "# iter(replay_buffer.as_dataset()).next()"
   ]
  },
  {
   "cell_type": "markdown",
   "id": "707a8085",
   "metadata": {
    "id": "TujU-PMUsKjS",
    "papermill": {
     "duration": 0.028381,
     "end_time": "2025-02-19T19:58:53.142686",
     "exception": false,
     "start_time": "2025-02-19T19:58:53.114305",
     "status": "completed"
    },
    "tags": []
   },
   "source": [
    "The agent needs access to the replay buffer. This is provided by creating an iterable `tf.data.Dataset` pipeline which will feed data to the agent.\n",
    "\n",
    "Each row of the replay buffer only stores a single observation step. But since the DQN Agent needs both the current and next observation to compute the loss, the dataset pipeline will sample two adjacent rows for each item in the batch (`num_steps=2`).\n",
    "\n",
    "This dataset is also optimized by running parallel calls and prefetching data."
   ]
  },
  {
   "cell_type": "code",
   "execution_count": 29,
   "id": "acad76ac",
   "metadata": {
    "execution": {
     "iopub.execute_input": "2025-02-19T19:58:53.203412Z",
     "iopub.status.busy": "2025-02-19T19:58:53.202504Z",
     "iopub.status.idle": "2025-02-19T19:58:53.578927Z",
     "shell.execute_reply": "2025-02-19T19:58:53.578017Z"
    },
    "id": "ba7bilizt_qW",
    "papermill": {
     "duration": 0.408741,
     "end_time": "2025-02-19T19:58:53.580782",
     "exception": false,
     "start_time": "2025-02-19T19:58:53.172041",
     "status": "completed"
    },
    "tags": []
   },
   "outputs": [
    {
     "data": {
      "text/plain": [
       "<_PrefetchDataset element_spec=(Trajectory(\n",
       "{'step_type': TensorSpec(shape=(64, 2), dtype=tf.int32, name=None),\n",
       " 'observation': TensorSpec(shape=(64, 2, 4), dtype=tf.float32, name=None),\n",
       " 'action': TensorSpec(shape=(64, 2), dtype=tf.int64, name=None),\n",
       " 'policy_info': (),\n",
       " 'next_step_type': TensorSpec(shape=(64, 2), dtype=tf.int32, name=None),\n",
       " 'reward': TensorSpec(shape=(64, 2), dtype=tf.float32, name=None),\n",
       " 'discount': TensorSpec(shape=(64, 2), dtype=tf.float32, name=None)}), SampleInfo(key=TensorSpec(shape=(64, 2), dtype=tf.uint64, name=None), probability=TensorSpec(shape=(64, 2), dtype=tf.float64, name=None), table_size=TensorSpec(shape=(64, 2), dtype=tf.int64, name=None), priority=TensorSpec(shape=(64, 2), dtype=tf.float64, name=None), times_sampled=TensorSpec(shape=(64, 2), dtype=tf.int32, name=None)))>"
      ]
     },
     "execution_count": 29,
     "metadata": {},
     "output_type": "execute_result"
    }
   ],
   "source": [
    "# Dataset generates trajectories with shape [Bx2x...]\n",
    "dataset = replay_buffer.as_dataset(\n",
    "    num_parallel_calls=3,\n",
    "    sample_batch_size=batch_size,\n",
    "    num_steps=2).prefetch(3)\n",
    "\n",
    "dataset"
   ]
  },
  {
   "cell_type": "code",
   "execution_count": 30,
   "id": "f4fb68bc",
   "metadata": {
    "execution": {
     "iopub.execute_input": "2025-02-19T19:58:53.642757Z",
     "iopub.status.busy": "2025-02-19T19:58:53.642370Z",
     "iopub.status.idle": "2025-02-19T19:58:53.729711Z",
     "shell.execute_reply": "2025-02-19T19:58:53.728607Z"
    },
    "id": "K13AST-2ppOq",
    "papermill": {
     "duration": 0.120462,
     "end_time": "2025-02-19T19:58:53.731812",
     "exception": false,
     "start_time": "2025-02-19T19:58:53.611350",
     "status": "completed"
    },
    "tags": []
   },
   "outputs": [
    {
     "name": "stdout",
     "output_type": "stream",
     "text": [
      "<tensorflow.python.data.ops.iterator_ops.OwnedIterator object at 0x7c79e2bb9db0>\n"
     ]
    }
   ],
   "source": [
    "iterator = iter(dataset)\n",
    "print(iterator)"
   ]
  },
  {
   "cell_type": "code",
   "execution_count": 31,
   "id": "d1e22cdc",
   "metadata": {
    "execution": {
     "iopub.execute_input": "2025-02-19T19:58:53.802980Z",
     "iopub.status.busy": "2025-02-19T19:58:53.802162Z",
     "iopub.status.idle": "2025-02-19T19:58:53.807853Z",
     "shell.execute_reply": "2025-02-19T19:58:53.806756Z"
    },
    "id": "Th5w5Sff0b16",
    "papermill": {
     "duration": 0.047238,
     "end_time": "2025-02-19T19:58:53.809957",
     "exception": false,
     "start_time": "2025-02-19T19:58:53.762719",
     "status": "completed"
    },
    "tags": []
   },
   "outputs": [],
   "source": [
    "# For the curious:\n",
    "# Uncomment to see what the dataset iterator is feeding to the agent.\n",
    "# Compare this representation of replay data \n",
    "# to the collection of individual trajectories shown earlier.\n",
    "\n",
    "# iterator.next()"
   ]
  },
  {
   "cell_type": "markdown",
   "id": "e7c7d006",
   "metadata": {
    "id": "hBc9lj9VWWtZ",
    "papermill": {
     "duration": 0.048206,
     "end_time": "2025-02-19T19:58:53.908507",
     "exception": false,
     "start_time": "2025-02-19T19:58:53.860301",
     "status": "completed"
    },
    "tags": []
   },
   "source": [
    "## Training the agent\n",
    "\n",
    "Two things must happen during the training loop:\n",
    "\n",
    "-   collect data from the environment\n",
    "-   use that data to train the agent's neural network(s)\n",
    "\n",
    "This example also periodicially evaluates the policy and prints the current score.\n",
    "\n",
    "The following will take ~5 minutes to run."
   ]
  },
  {
   "cell_type": "code",
   "execution_count": 32,
   "id": "d60e7e3e",
   "metadata": {
    "execution": {
     "iopub.execute_input": "2025-02-19T19:58:54.054887Z",
     "iopub.status.busy": "2025-02-19T19:58:54.053892Z",
     "iopub.status.idle": "2025-02-19T20:05:47.782622Z",
     "shell.execute_reply": "2025-02-19T20:05:47.781440Z"
    },
    "id": "0pTbJ3PeyF-u",
    "papermill": {
     "duration": 413.836014,
     "end_time": "2025-02-19T20:05:47.820719",
     "exception": false,
     "start_time": "2025-02-19T19:58:53.984705",
     "status": "completed"
    },
    "tags": []
   },
   "outputs": [
    {
     "name": "stderr",
     "output_type": "stream",
     "text": [
      "[reverb/cc/client.cc:165] Sampler and server are owned by the same process (26) so Table uniform_table is accessed directly without gRPC.\n",
      "[reverb/cc/client.cc:165] Sampler and server are owned by the same process (26) so Table uniform_table is accessed directly without gRPC.\n",
      "[reverb/cc/client.cc:165] Sampler and server are owned by the same process (26) so Table uniform_table is accessed directly without gRPC.\n",
      "[reverb/cc/client.cc:165] Sampler and server are owned by the same process (26) so Table uniform_table is accessed directly without gRPC.\n",
      "[reverb/cc/client.cc:165] Sampler and server are owned by the same process (26) so Table uniform_table is accessed directly without gRPC.\n",
      "[reverb/cc/client.cc:165] Sampler and server are owned by the same process (26) so Table uniform_table is accessed directly without gRPC.\n"
     ]
    },
    {
     "name": "stdout",
     "output_type": "stream",
     "text": [
      "step = 200: loss = 28.070669174194336\n",
      "step = 400: loss = 1.4047813415527344\n",
      "step = 600: loss = 31.196271896362305\n",
      "step = 800: loss = 13.206541061401367\n",
      "step = 1000: loss = 13.811040878295898\n",
      "step = 1000: Average Return = 42.0\n",
      "step = 1200: loss = 182.12765502929688\n",
      "step = 1400: loss = 334.6224670410156\n",
      "step = 1600: loss = 80.9725341796875\n",
      "step = 1800: loss = 488.3653869628906\n",
      "step = 2000: loss = 2736.598388671875\n",
      "step = 2000: Average Return = 101.80000305175781\n",
      "step = 2200: loss = 176.39358520507812\n",
      "step = 2400: loss = 128.60162353515625\n",
      "step = 2600: loss = 177.00714111328125\n",
      "step = 2800: loss = 3833.485107421875\n",
      "step = 3000: loss = 1149.3203125\n",
      "step = 3000: Average Return = 117.4000015258789\n",
      "step = 3200: loss = 1653.53466796875\n",
      "step = 3400: loss = 412.1022644042969\n",
      "step = 3600: loss = 181.05599975585938\n",
      "step = 3800: loss = 257.094482421875\n",
      "step = 4000: loss = 127.31665802001953\n",
      "step = 4000: Average Return = 184.0\n",
      "step = 4200: loss = 244.76763916015625\n",
      "step = 4400: loss = 381.07537841796875\n",
      "step = 4600: loss = 135.4673309326172\n",
      "step = 4800: loss = 407.36181640625\n",
      "step = 5000: loss = 6007.8466796875\n",
      "step = 5000: Average Return = 116.0999984741211\n",
      "step = 5200: loss = 17982.0078125\n",
      "step = 5400: loss = 14820.87890625\n",
      "step = 5600: loss = 924563.0625\n",
      "step = 5800: loss = 11399.4072265625\n",
      "step = 6000: loss = 12968.3076171875\n",
      "step = 6000: Average Return = 200.0\n",
      "step = 6200: loss = 14624.291015625\n",
      "step = 6400: loss = 280111.375\n",
      "step = 6600: loss = 36174.7578125\n",
      "step = 6800: loss = 119032.390625\n",
      "step = 7000: loss = 91579.1953125\n",
      "step = 7000: Average Return = 200.0\n",
      "step = 7200: loss = 96301.71875\n",
      "step = 7400: loss = 12124260.0\n",
      "step = 7600: loss = 308404.3125\n",
      "step = 7800: loss = 289739.375\n",
      "step = 8000: loss = 517365.78125\n",
      "step = 8000: Average Return = 167.60000610351562\n",
      "step = 8200: loss = 791331.375\n",
      "step = 8400: loss = 863394.5\n",
      "step = 8600: loss = 762240.375\n",
      "step = 8800: loss = 92261968.0\n",
      "step = 9000: loss = 98012608.0\n",
      "step = 9000: Average Return = 200.0\n",
      "step = 9200: loss = 970320.75\n",
      "step = 9400: loss = 14057443.0\n",
      "step = 9600: loss = 15723408.0\n",
      "step = 9800: loss = 6518152.0\n",
      "step = 10000: loss = 2519522.25\n",
      "step = 10000: Average Return = 200.0\n",
      "step = 10200: loss = 1996151.125\n",
      "step = 10400: loss = 1630329.5\n",
      "step = 10600: loss = 1941437.125\n",
      "step = 10800: loss = 1882758.5\n",
      "step = 11000: loss = 2103065.25\n",
      "step = 11000: Average Return = 200.0\n",
      "step = 11200: loss = 87018936.0\n",
      "step = 11400: loss = 48895456.0\n",
      "step = 11600: loss = 62470260.0\n",
      "step = 11800: loss = 3280389.0\n",
      "step = 12000: loss = 2239925.0\n",
      "step = 12000: Average Return = 200.0\n",
      "step = 12200: loss = 3079859.25\n",
      "step = 12400: loss = 3418440.0\n",
      "step = 12600: loss = 1706092.125\n",
      "step = 12800: loss = 10113908.0\n",
      "step = 13000: loss = 3485392.75\n",
      "step = 13000: Average Return = 200.0\n",
      "step = 13200: loss = 3098274.0\n",
      "step = 13400: loss = 176167936.0\n",
      "step = 13600: loss = 3533485.75\n",
      "step = 13800: loss = 10662540.0\n",
      "step = 14000: loss = 6419875.0\n",
      "step = 14000: Average Return = 200.0\n",
      "step = 14200: loss = 4972040.0\n",
      "step = 14400: loss = 69042736.0\n",
      "step = 14600: loss = 8672748.0\n",
      "step = 14800: loss = 7994342.5\n",
      "step = 15000: loss = 23508108.0\n",
      "step = 15000: Average Return = 200.0\n",
      "step = 15200: loss = 9951592.0\n",
      "step = 15400: loss = 10647824.0\n",
      "step = 15600: loss = 17797386.0\n",
      "step = 15800: loss = 23124832.0\n",
      "step = 16000: loss = 36252160.0\n",
      "step = 16000: Average Return = 200.0\n",
      "step = 16200: loss = 52915692.0\n",
      "step = 16400: loss = 15147569.0\n",
      "step = 16600: loss = 79662184.0\n",
      "step = 16800: loss = 92415160.0\n",
      "step = 17000: loss = 408584480.0\n",
      "step = 17000: Average Return = 200.0\n",
      "step = 17200: loss = 19203816.0\n",
      "step = 17400: loss = 21583652.0\n",
      "step = 17600: loss = 8621735.0\n",
      "step = 17800: loss = 41922292.0\n",
      "step = 18000: loss = 15392366.0\n",
      "step = 18000: Average Return = 200.0\n",
      "step = 18200: loss = 15444615.0\n",
      "step = 18400: loss = 16224216.0\n",
      "step = 18600: loss = 285762624.0\n",
      "step = 18800: loss = 17691412.0\n",
      "step = 19000: loss = 139194672.0\n",
      "step = 19000: Average Return = 200.0\n",
      "step = 19200: loss = 235344256.0\n",
      "step = 19400: loss = 9355010.0\n",
      "step = 19600: loss = 61810788.0\n",
      "step = 19800: loss = 17211884.0\n",
      "step = 20000: loss = 24412084.0\n",
      "step = 20000: Average Return = 200.0\n"
     ]
    }
   ],
   "source": [
    "#@test {\"skip\": true}\n",
    "try:\n",
    "  %%time\n",
    "except:\n",
    "  pass\n",
    "\n",
    "# (Optional) Optimize by wrapping some of the code in a graph using TF function.\n",
    "agent.train = common.function(agent.train)\n",
    "\n",
    "# Reset the train step.\n",
    "agent.train_step_counter.assign(0)\n",
    "\n",
    "# Evaluate the agent's policy once before training.\n",
    "avg_return = compute_avg_return(eval_env, agent.policy, num_eval_episodes)\n",
    "returns = [avg_return]\n",
    "\n",
    "# Reset the environment.\n",
    "time_step = train_py_env.reset()\n",
    "\n",
    "# Create a driver to collect experience.\n",
    "collect_driver = py_driver.PyDriver(\n",
    "    env,\n",
    "    py_tf_eager_policy.PyTFEagerPolicy(\n",
    "      agent.collect_policy, use_tf_function=True),\n",
    "    [rb_observer],\n",
    "    max_steps=collect_steps_per_iteration)\n",
    "\n",
    "for _ in range(num_iterations):\n",
    "\n",
    "  # Collect a few steps and save to the replay buffer.\n",
    "  time_step, _ = collect_driver.run(time_step)\n",
    "\n",
    "  # Sample a batch of data from the buffer and update the agent's network.\n",
    "  experience, unused_info = next(iterator)\n",
    "  train_loss = agent.train(experience).loss\n",
    "\n",
    "  step = agent.train_step_counter.numpy()\n",
    "\n",
    "  if step % log_interval == 0:\n",
    "    print('step = {0}: loss = {1}'.format(step, train_loss))\n",
    "\n",
    "  if step % eval_interval == 0:\n",
    "    avg_return = compute_avg_return(eval_env, agent.policy, num_eval_episodes)\n",
    "    print('step = {0}: Average Return = {1}'.format(step, avg_return))\n",
    "    returns.append(avg_return)"
   ]
  },
  {
   "cell_type": "markdown",
   "id": "045e15f8",
   "metadata": {
    "id": "68jNcA_TiJDq",
    "papermill": {
     "duration": 0.03518,
     "end_time": "2025-02-19T20:05:47.891999",
     "exception": false,
     "start_time": "2025-02-19T20:05:47.856819",
     "status": "completed"
    },
    "tags": []
   },
   "source": [
    "## Visualization\n"
   ]
  },
  {
   "cell_type": "markdown",
   "id": "e376bacf",
   "metadata": {
    "id": "aO-LWCdbbOIC",
    "papermill": {
     "duration": 0.032806,
     "end_time": "2025-02-19T20:05:47.959362",
     "exception": false,
     "start_time": "2025-02-19T20:05:47.926556",
     "status": "completed"
    },
    "tags": []
   },
   "source": [
    "### Plots\n",
    "\n",
    "Use `matplotlib.pyplot` to chart how the policy improved during training.\n",
    "\n",
    "One iteration of `Cartpole-v0` consists of 200 time steps. The environment gives a reward of `+1` for each step the pole stays up, so the maximum return for one episode is 200. The charts shows the return increasing towards that maximum each time it is evaluated during training. (It may be a little unstable and not increase monotonically each time.)"
   ]
  },
  {
   "cell_type": "code",
   "execution_count": 33,
   "id": "c6215d85",
   "metadata": {
    "execution": {
     "iopub.execute_input": "2025-02-19T20:05:48.032304Z",
     "iopub.status.busy": "2025-02-19T20:05:48.031527Z",
     "iopub.status.idle": "2025-02-19T20:05:48.378151Z",
     "shell.execute_reply": "2025-02-19T20:05:48.377149Z"
    },
    "id": "NxtL1mbOYCVO",
    "papermill": {
     "duration": 0.386793,
     "end_time": "2025-02-19T20:05:48.380070",
     "exception": false,
     "start_time": "2025-02-19T20:05:47.993277",
     "status": "completed"
    },
    "tags": []
   },
   "outputs": [
    {
     "data": {
      "text/plain": [
       "(34.1, 250.0)"
      ]
     },
     "execution_count": 33,
     "metadata": {},
     "output_type": "execute_result"
    },
    {
     "data": {
      "image/png": "[encoded data removed]",
      "text/plain": [
       "<Figure size 640x480 with 1 Axes>"
      ]
     },
     "metadata": {},
     "output_type": "display_data"
    }
   ],
   "source": [
    "#@test {\"skip\": true}\n",
    "\n",
    "iterations = range(0, num_iterations + 1, eval_interval)\n",
    "plt.plot(iterations, returns)\n",
    "plt.ylabel('Average Return')\n",
    "plt.xlabel('Iterations')\n",
    "plt.ylim(top=250)"
   ]
  },
  {
   "cell_type": "markdown",
   "id": "22417829",
   "metadata": {
    "id": "M7-XpPP99Cy7",
    "papermill": {
     "duration": 0.035942,
     "end_time": "2025-02-19T20:05:48.452738",
     "exception": false,
     "start_time": "2025-02-19T20:05:48.416796",
     "status": "completed"
    },
    "tags": []
   },
   "source": [
    "### Videos"
   ]
  },
  {
   "cell_type": "markdown",
   "id": "1f41bd29",
   "metadata": {
    "id": "9pGfGxSH32gn",
    "papermill": {
     "duration": 0.035826,
     "end_time": "2025-02-19T20:05:48.524113",
     "exception": false,
     "start_time": "2025-02-19T20:05:48.488287",
     "status": "completed"
    },
    "tags": []
   },
   "source": [
    "Charts are nice. But more exciting is seeing an agent actually performing a task in an environment. \n",
    "\n",
    "First, create a function to embed videos in the notebook."
   ]
  },
  {
   "cell_type": "code",
   "execution_count": 34,
   "id": "4f871562",
   "metadata": {
    "execution": {
     "iopub.execute_input": "2025-02-19T20:05:48.598507Z",
     "iopub.status.busy": "2025-02-19T20:05:48.597790Z",
     "iopub.status.idle": "2025-02-19T20:05:48.603211Z",
     "shell.execute_reply": "2025-02-19T20:05:48.602384Z"
    },
    "id": "ULaGr8pvOKbl",
    "papermill": {
     "duration": 0.04524,
     "end_time": "2025-02-19T20:05:48.605011",
     "exception": false,
     "start_time": "2025-02-19T20:05:48.559771",
     "status": "completed"
    },
    "tags": []
   },
   "outputs": [],
   "source": [
    "def embed_mp4(filename):\n",
    "  \"\"\"Embeds an mp4 file in the notebook.\"\"\"\n",
    "  video = open(filename,'rb').read()\n",
    "  b64 = base64.b64encode(video)\n",
    "  tag = '''\n",
    "  <video width=\"640\" height=\"480\" controls>\n",
    "    <source src=\"data:video/mp4;base64,{0}\" type=\"video/mp4\">\n",
    "  Your browser does not support the video tag.\n",
    "  </video>'''.format(b64.decode())\n",
    "\n",
    "  return IPython.display.HTML(tag)"
   ]
  },
  {
   "cell_type": "markdown",
   "id": "d6a3948e",
   "metadata": {
    "id": "9c_PH-pX4Pr5",
    "papermill": {
     "duration": 0.0354,
     "end_time": "2025-02-19T20:05:48.676793",
     "exception": false,
     "start_time": "2025-02-19T20:05:48.641393",
     "status": "completed"
    },
    "tags": []
   },
   "source": [
    "Now iterate through a few episodes of the Cartpole game with the agent. The underlying Python environment (the one \"inside\" the TensorFlow environment wrapper) provides a `render()` method, which outputs an image of the environment state. These can be collected into a video."
   ]
  },
  {
   "cell_type": "code",
   "execution_count": 35,
   "id": "1a037a96",
   "metadata": {
    "execution": {
     "iopub.execute_input": "2025-02-19T20:05:48.749475Z",
     "iopub.status.busy": "2025-02-19T20:05:48.748814Z",
     "iopub.status.idle": "2025-02-19T20:06:02.061520Z",
     "shell.execute_reply": "2025-02-19T20:06:02.060427Z"
    },
    "id": "owOVWB158NlF",
    "papermill": {
     "duration": 13.351831,
     "end_time": "2025-02-19T20:06:02.064012",
     "exception": false,
     "start_time": "2025-02-19T20:05:48.712181",
     "status": "completed"
    },
    "tags": []
   },
   "outputs": [
    {
     "name": "stderr",
     "output_type": "stream",
     "text": [
      "ALSA lib confmisc.c:855:(parse_card) cannot find card '0'\n",
      "ALSA lib conf.c:5180:(_snd_config_evaluate) function snd_func_card_inum returned error: No such file or directory\n",
      "ALSA lib confmisc.c:422:(snd_func_concat) error evaluating strings\n",
      "ALSA lib conf.c:5180:(_snd_config_evaluate) function snd_func_concat returned error: No such file or directory\n",
      "ALSA lib confmisc.c:1334:(snd_func_refer) error evaluating name\n",
      "ALSA lib conf.c:5180:(_snd_config_evaluate) function snd_func_refer returned error: No such file or directory\n",
      "ALSA lib conf.c:5703:(snd_config_expand) Evaluate error: No such file or directory\n",
      "ALSA lib pcm.c:2666:(snd_pcm_open_noupdate) Unknown PCM default\n",
      "[swscaler @ 0x5608c90da800] Warning: data is not aligned! This can lead to a speed loss\n"
     ]
    },
    {
     "data": {
      "text/html": [
       "\n",
       "  <video width=\"640\" height=\"480\" controls>\n",
       "    <source src=\"data:video/mp4;base64,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\" type=\"video/mp4\">\n",
       "  Your browser does not support the video tag.\n",
       "  </video>"
      ],
      "text/plain": [
       "<IPython.core.display.HTML object>"
      ]
     },
     "execution_count": 35,
     "metadata": {},
     "output_type": "execute_result"
    }
   ],
   "source": [
    "def create_policy_eval_video(policy, filename, num_episodes=5, fps=30):\n",
    "  filename = filename + \".mp4\"\n",
    "  with imageio.get_writer(filename, fps=fps) as video:\n",
    "    for _ in range(num_episodes):\n",
    "      time_step = eval_env.reset()\n",
    "      video.append_data(eval_py_env.render())\n",
    "      while not time_step.is_last():\n",
    "        action_step = policy.action(time_step)\n",
    "        time_step = eval_env.step(action_step.action)\n",
    "        video.append_data(eval_py_env.render())\n",
    "  return embed_mp4(filename)\n",
    "\n",
    "create_policy_eval_video(agent.policy, \"trained-agent\")"
   ]
  },
  {
   "cell_type": "markdown",
   "id": "47e8093f",
   "metadata": {
    "id": "povaAOcZygLw",
    "papermill": {
     "duration": 0.037404,
     "end_time": "2025-02-19T20:06:02.140157",
     "exception": false,
     "start_time": "2025-02-19T20:06:02.102753",
     "status": "completed"
    },
    "tags": []
   },
   "source": [
    "For fun, compare the trained agent (above) to an agent moving randomly. (It does not do as well.)"
   ]
  },
  {
   "cell_type": "code",
   "execution_count": 36,
   "id": "e26744c4",
   "metadata": {
    "execution": {
     "iopub.execute_input": "2025-02-19T20:06:02.221074Z",
     "iopub.status.busy": "2025-02-19T20:06:02.220721Z",
     "iopub.status.idle": "2025-02-19T20:06:03.348069Z",
     "shell.execute_reply": "2025-02-19T20:06:03.347041Z"
    },
    "id": "pJZIdC37yNH4",
    "papermill": {
     "duration": 1.169385,
     "end_time": "2025-02-19T20:06:03.350285",
     "exception": false,
     "start_time": "2025-02-19T20:06:02.180900",
     "status": "completed"
    },
    "tags": []
   },
   "outputs": [
    {
     "name": "stderr",
     "output_type": "stream",
     "text": [
      "[swscaler @ 0x5c8147e08800] Warning: data is not aligned! This can lead to a speed loss\n"
     ]
    },
    {
     "data": {
      "text/html": [
       "\n",
       "  <video width=\"640\" height=\"480\" controls>\n",
       "    <source src=\"data:video/mp4;base64,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\" type=\"video/mp4\">\n",
       "  Your browser does not support the video tag.\n",
       "  </video>"
      ],
      "text/plain": [
       "<IPython.core.display.HTML object>"
      ]
     },
     "execution_count": 36,
     "metadata": {},
     "output_type": "execute_result"
    }
   ],
   "source": [
    "create_policy_eval_video(random_policy, \"random-agent\")"
   ]
  },
  {
   "cell_type": "code",
   "execution_count": null,
   "id": "9b503b72",
   "metadata": {
    "papermill": {
     "duration": 0.036673,
     "end_time": "2025-02-19T20:06:03.425910",
     "exception": false,
     "start_time": "2025-02-19T20:06:03.389237",
     "status": "completed"
    },
    "tags": []
   },
   "outputs": [],
   "source": []
  }
 ],
 "metadata": {
  "kaggle": {
   "accelerator": "gpu",
   "dataSources": [],
   "dockerImageVersionId": 30558,
   "isGpuEnabled": true,
   "isInternetEnabled": true,
   "language": "python",
   "sourceType": "notebook"
  },
  "kernelspec": {
   "display_name": "Python 3",
   "language": "python",
   "name": "python3"
  },
  "language_info": {
   "codemirror_mode": {
    "name": "ipython",
    "version": 3
   },
   "file_extension": ".py",
   "mimetype": "text/x-python",
   "name": "python",
   "nbconvert_exporter": "python",
   "pygments_lexer": "ipython3",
   "version": "3.10.12"
  },
  "papermill": {
   "default_parameters": {},
   "duration": 600.36611,
   "end_time": "2025-02-19T20:06:08.686591",
   "environment_variables": {},
   "exception": null,
   "input_path": "__notebook__.ipynb",
   "output_path": "__notebook__.ipynb",
   "parameters": {},
   "start_time": "2025-02-19T19:56:08.320481",
   "version": "2.4.0"
  }
 },
 "nbformat": 4,
 "nbformat_minor": 5
}
