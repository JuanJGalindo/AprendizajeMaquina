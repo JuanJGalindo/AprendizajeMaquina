{
 "cells": [
  {
   "cell_type": "markdown",
   "id": "6f05a47c",
   "metadata": {
    "id": "klGNgWREsvQv",
    "papermill": {
     "duration": 0.009448,
     "end_time": "2025-06-19T00:32:49.528298",
     "exception": false,
     "start_time": "2025-06-19T00:32:49.518850",
     "status": "completed"
    },
    "tags": []
   },
   "source": [
    "##### Copyright 2023 The TF-Agents Authors."
   ]
  },
  {
   "cell_type": "code",
   "execution_count": 1,
   "id": "c1b3a2ac",
   "metadata": {
    "cellView": "form",
    "execution": {
     "iopub.execute_input": "2025-06-19T00:32:49.547784Z",
     "iopub.status.busy": "2025-06-19T00:32:49.547501Z",
     "iopub.status.idle": "2025-06-19T00:32:49.551989Z",
     "shell.execute_reply": "2025-06-19T00:32:49.551153Z"
    },
    "id": "nQnmcm0oI1Q-",
    "papermill": {
     "duration": 0.016395,
     "end_time": "2025-06-19T00:32:49.553754",
     "exception": false,
     "start_time": "2025-06-19T00:32:49.537359",
     "status": "completed"
    },
    "tags": []
   },
   "outputs": [],
   "source": [
    "#@title Licensed under the Apache License, Version 2.0 (the \"License\");\n",
    "# you may not use this file except in compliance with the License.\n",
    "# You may obtain a copy of the License at\n",
    "#\n",
    "# https://www.apache.org/licenses/LICENSE-2.0\n",
    "#\n",
    "# Unless required by applicable law or agreed to in writing, software\n",
    "# distributed under the License is distributed on an \"AS IS\" BASIS,\n",
    "# WITHOUT WARRANTIES OR CONDITIONS OF ANY KIND, either express or implied.\n",
    "# See the License for the specific language governing permissions and\n",
    "# limitations under the License."
   ]
  },
  {
   "cell_type": "markdown",
   "id": "6c148f13",
   "metadata": {
    "id": "pmDI-h7cI0tI",
    "papermill": {
     "duration": 0.008654,
     "end_time": "2025-06-19T00:32:49.571444",
     "exception": false,
     "start_time": "2025-06-19T00:32:49.562790",
     "status": "completed"
    },
    "tags": []
   },
   "source": [
    "# Train a Deep Q Network with TF-Agents\n",
    "\n",
    "<table class=\"tfo-notebook-buttons\" align=\"left\">\n",
    "  <td>\n",
    "    <a target=\"_blank\" href=\"https://www.tensorflow.org/agents/tutorials/1_dqn_tutorial\">\n",
    "    <img src=\"https://www.tensorflow.org/images/tf_logo_32px.png\" />\n",
    "    View on TensorFlow.org</a>\n",
    "  </td>\n",
    "  <td>\n",
    "    <a target=\"_blank\" href=\"https://colab.research.google.com/github/tensorflow/agents/blob/master/docs/tutorials/1_dqn_tutorial.ipynb\">\n",
    "    <img src=\"https://www.tensorflow.org/images/colab_logo_32px.png\" />\n",
    "    Run in Google Colab</a>\n",
    "  </td>\n",
    "  <td>\n",
    "    <a target=\"_blank\" href=\"https://github.com/tensorflow/agents/blob/master/docs/tutorials/1_dqn_tutorial.ipynb\">\n",
    "    <img src=\"https://www.tensorflow.org/images/GitHub-Mark-32px.png\" />\n",
    "    View source on GitHub</a>\n",
    "  </td>\n",
    "  <td>\n",
    "    <a href=\"https://storage.googleapis.com/tensorflow_docs/agents/docs/tutorials/1_dqn_tutorial.ipynb\"><img src=\"https://www.tensorflow.org/images/download_logo_32px.png\" />Download notebook</a>\n",
    "  </td>\n",
    "</table>"
   ]
  },
  {
   "cell_type": "markdown",
   "id": "8729d466",
   "metadata": {
    "id": "lsaQlK8fFQqH",
    "papermill": {
     "duration": 0.008728,
     "end_time": "2025-06-19T00:32:49.588954",
     "exception": false,
     "start_time": "2025-06-19T00:32:49.580226",
     "status": "completed"
    },
    "tags": []
   },
   "source": [
    "## Introduction\n"
   ]
  },
  {
   "cell_type": "markdown",
   "id": "8a82b837",
   "metadata": {
    "id": "cKOCZlhUgXVK",
    "papermill": {
     "duration": 0.008914,
     "end_time": "2025-06-19T00:32:49.606620",
     "exception": false,
     "start_time": "2025-06-19T00:32:49.597706",
     "status": "completed"
    },
    "tags": []
   },
   "source": [
    "This example shows how to train a [DQN (Deep Q Networks)](https://storage.googleapis.com/deepmind-media/dqn/DQNNaturePaper.pdf)  agent on the Cartpole environment using the TF-Agents library.\n",
    "\n",
    "![Cartpole environment](https://raw.githubusercontent.com/tensorflow/agents/master/docs/tutorials/images/cartpole.png)\n",
    "\n",
    "It will walk you through all the components in a Reinforcement Learning (RL) pipeline for training, evaluation and data collection.\n",
    "\n",
    "\n",
    "To run this code live, click the 'Run in Google Colab' link above.\n"
   ]
  },
  {
   "cell_type": "markdown",
   "id": "5b2dfba2",
   "metadata": {
    "id": "1u9QVVsShC9X",
    "papermill": {
     "duration": 0.008561,
     "end_time": "2025-06-19T00:32:49.624158",
     "exception": false,
     "start_time": "2025-06-19T00:32:49.615597",
     "status": "completed"
    },
    "tags": []
   },
   "source": [
    "## Setup"
   ]
  },
  {
   "cell_type": "markdown",
   "id": "89bd9ebf",
   "metadata": {
    "id": "kNrNXKI7bINP",
    "papermill": {
     "duration": 0.008688,
     "end_time": "2025-06-19T00:32:49.641947",
     "exception": false,
     "start_time": "2025-06-19T00:32:49.633259",
     "status": "completed"
    },
    "tags": []
   },
   "source": [
    "If you haven't installed the following dependencies, run:"
   ]
  },
  {
   "cell_type": "code",
   "execution_count": 2,
   "id": "a08ffe84",
   "metadata": {
    "execution": {
     "iopub.execute_input": "2025-06-19T00:32:49.661550Z",
     "iopub.status.busy": "2025-06-19T00:32:49.660622Z",
     "iopub.status.idle": "2025-06-19T00:35:05.884563Z",
     "shell.execute_reply": "2025-06-19T00:35:05.883220Z"
    },
    "id": "KEHR2Ui-lo8O",
    "papermill": {
     "duration": 136.235805,
     "end_time": "2025-06-19T00:35:05.886743",
     "exception": false,
     "start_time": "2025-06-19T00:32:49.650938",
     "status": "completed"
    },
    "tags": []
   },
   "outputs": [
    {
     "name": "stdout",
     "output_type": "stream",
     "text": [
      "Get:1 https://developer.download.nvidia.com/compute/cuda/repos/ubuntu2204/x86_64  InRelease [1581 B]\r\n",
      "Get:2 http://security.ubuntu.com/ubuntu jammy-security InRelease [129 kB]\r\n",
      "Get:3 http://packages.cloud.google.com/apt gcsfuse-focal InRelease [1227 B]\r\n",
      "Get:4 https://developer.download.nvidia.com/compute/cuda/repos/ubuntu2204/x86_64  Packages [1798 kB]\r\n",
      "Hit:5 http://archive.ubuntu.com/ubuntu jammy InRelease\r\n",
      "Get:6 https://packages.cloud.google.com/apt cloud-sdk InRelease [1618 B]\r\n",
      "Get:7 http://archive.ubuntu.com/ubuntu jammy-updates InRelease [128 kB]\r\n",
      "Get:8 http://security.ubuntu.com/ubuntu jammy-security/multiverse amd64 Packages [47.7 kB]\r\n",
      "Get:9 https://packages.cloud.google.com/apt google-fast-socket InRelease [1071 B]\r\n",
      "Get:10 http://security.ubuntu.com/ubuntu jammy-security/main amd64 Packages [2994 kB]\r\n",
      "Get:11 http://archive.ubuntu.com/ubuntu jammy-backports InRelease [127 kB]\r\n",
      "Get:12 https://packages.cloud.google.com/apt cloud-sdk/main amd64 Packages [3917 kB]\r\n",
      "Get:13 http://security.ubuntu.com/ubuntu jammy-security/universe amd64 Packages [1253 kB]\r\n",
      "Get:14 http://security.ubuntu.com/ubuntu jammy-security/restricted amd64 Packages [4476 kB]\r\n",
      "Get:15 http://archive.ubuntu.com/ubuntu jammy-updates/multiverse amd64 Packages [55.7 kB]\r\n",
      "Get:16 http://archive.ubuntu.com/ubuntu jammy-updates/universe amd64 Packages [1561 kB]\r\n",
      "Get:17 https://packages.cloud.google.com/apt cloud-sdk/main all Packages [1749 kB]\r\n",
      "Get:18 https://packages.cloud.google.com/apt google-fast-socket/main amd64 Packages [15.4 kB]\r\n",
      "Get:19 http://archive.ubuntu.com/ubuntu jammy-updates/main amd64 Packages [3305 kB]\r\n",
      "Get:20 http://archive.ubuntu.com/ubuntu jammy-updates/restricted amd64 Packages [4630 kB]\r\n",
      "Get:21 http://archive.ubuntu.com/ubuntu jammy-backports/main amd64 Packages [83.2 kB]\r\n",
      "Get:22 http://archive.ubuntu.com/ubuntu jammy-backports/universe amd64 Packages [35.2 kB]\r\n",
      "\r\n",
      "W: http://packages.cloud.google.com/apt/dists/gcsfuse-focal/InRelease: Key is stored in legacy trusted.gpg keyring (/etc/apt/trusted.gpg), see the DEPRECATION section in apt-key(8) for details.\r\n",
      "E: Repository 'http://packages.cloud.google.com/apt gcsfuse-focal InRelease' changed its 'Origin' value from 'gcsfuse-jessie' to 'gcsfuse-focal'\r\n",
      "E: Repository 'http://packages.cloud.google.com/apt gcsfuse-focal InRelease' changed its 'Label' value from 'gcsfuse-jessie' to 'gcsfuse-focal'\r\n",
      "N: This must be accepted explicitly before updates for this repository can be applied. See apt-secure(8) manpage for details.\r\n",
      "W: https://packages.cloud.google.com/apt/dists/google-fast-socket/InRelease: Key is stored in legacy trusted.gpg keyring (/etc/apt/trusted.gpg), see the DEPRECATION section in apt-key(8) for details.\r\n",
      "\r\n",
      "\r\n",
      "\r\n",
      "ffmpeg is already the newest version (7:4.4.2-0ubuntu0.22.04.1).\r\n",
      "The following additional packages will be installed:\r\n",
      "  freeglut3 libegl-dev libegl-mesa0 libegl1 libgbm1 libgl-dev libgl1-mesa-dev\r\n",
      "  libgl1-mesa-dri libglapi-mesa libgles-dev libgles1 libgles2 libglu1-mesa\r\n",
      "  libglu1-mesa-dev libglvnd-core-dev libglvnd-dev libglx-dev libglx-mesa0\r\n",
      "  libice-dev libopengl-dev libopengl0 libpthread-stubs0-dev libsm-dev libx11-6\r\n",
      "  libx11-dev libx11-xcb1 libxau-dev libxcb1-dev libxdmcp-dev libxext-dev\r\n",
      "  libxt-dev x11proto-dev xorg-sgml-doctools xserver-common xtrans-dev\r\n",
      "Suggested packages:\r\n",
      "  libice-doc libsm-doc libx11-doc libxcb-doc libxext-doc libxt-doc\r\n",
      "The following NEW packages will be installed:\r\n",
      "  freeglut3 freeglut3-dev libegl-dev libegl-mesa0 libegl1 libgl-dev\r\n",
      "  libgl1-mesa-dev libgles-dev libgles1 libgles2 libglu1-mesa libglu1-mesa-dev\r\n",
      "  libglvnd-core-dev libglvnd-dev libglx-dev libice-dev libopengl-dev\r\n",
      "  libopengl0 libpthread-stubs0-dev libsm-dev libx11-dev libxau-dev libxcb1-dev\r\n",
      "  libxdmcp-dev libxext-dev libxt-dev x11proto-dev xorg-sgml-doctools\r\n",
      "  xtrans-dev\r\n",
      "The following packages will be upgraded:\r\n",
      "  libgbm1 libgl1-mesa-dri libglapi-mesa libglx-mesa0 libx11-6 libx11-xcb1\r\n",
      "  xserver-common xvfb\r\n",
      "8 upgraded, 29 newly installed, 0 to remove and 230 not upgraded.\r\n",
      "Need to get 13.8 MB of archives.\r\n",
      "After this operation, 15.9 MB of additional disk space will be used.\r\n",
      "Get:1 http://archive.ubuntu.com/ubuntu jammy-updates/main amd64 libx11-6 amd64 2:1.7.5-1ubuntu0.3 [667 kB]\r\n",
      "Get:2 http://archive.ubuntu.com/ubuntu jammy-updates/main amd64 libx11-xcb1 amd64 2:1.7.5-1ubuntu0.3 [7802 B]\r\n",
      "Get:3 http://archive.ubuntu.com/ubuntu jammy/universe amd64 freeglut3 amd64 2.8.1-6 [74.0 kB]\r\n",
      "Get:4 http://archive.ubuntu.com/ubuntu jammy/main amd64 xorg-sgml-doctools all 1:1.11-1.1 [10.9 kB]\r\n",
      "Get:5 http://archive.ubuntu.com/ubuntu jammy/main amd64 x11proto-dev all 2021.5-1 [604 kB]\r\n",
      "Get:6 http://archive.ubuntu.com/ubuntu jammy/main amd64 libxau-dev amd64 1:1.0.9-1build5 [9724 B]\r\n",
      "Get:7 http://archive.ubuntu.com/ubuntu jammy/main amd64 libxdmcp-dev amd64 1:1.1.3-0ubuntu5 [26.5 kB]\r\n",
      "Get:8 http://archive.ubuntu.com/ubuntu jammy/main amd64 xtrans-dev all 1.4.0-1 [68.9 kB]\r\n",
      "Get:9 http://archive.ubuntu.com/ubuntu jammy/main amd64 libpthread-stubs0-dev amd64 0.4-1build2 [5516 B]\r\n",
      "Get:10 http://archive.ubuntu.com/ubuntu jammy/main amd64 libxcb1-dev amd64 1.14-3ubuntu3 [86.5 kB]\r\n",
      "Get:11 http://archive.ubuntu.com/ubuntu jammy-updates/main amd64 libx11-dev amd64 2:1.7.5-1ubuntu0.3 [744 kB]\r\n",
      "Get:12 http://archive.ubuntu.com/ubuntu jammy/main amd64 libglx-dev amd64 1.4.0-1 [14.1 kB]\r\n",
      "Get:13 http://archive.ubuntu.com/ubuntu jammy/main amd64 libgl-dev amd64 1.4.0-1 [101 kB]\r\n",
      "Get:14 http://archive.ubuntu.com/ubuntu jammy/main amd64 libglvnd-core-dev amd64 1.4.0-1 [12.7 kB]\r\n",
      "Get:15 http://archive.ubuntu.com/ubuntu jammy-updates/main amd64 libgbm1 amd64 23.2.1-1ubuntu3.1~22.04.3 [33.5 kB]\r\n",
      "Get:16 http://archive.ubuntu.com/ubuntu jammy-updates/main amd64 libgl1-mesa-dri amd64 23.2.1-1ubuntu3.1~22.04.3 [8860 kB]\r\n",
      "Get:17 http://archive.ubuntu.com/ubuntu jammy-updates/main amd64 libglx-mesa0 amd64 23.2.1-1ubuntu3.1~22.04.3 [158 kB]\r\n",
      "Get:18 http://archive.ubuntu.com/ubuntu jammy-updates/main amd64 libglapi-mesa amd64 23.2.1-1ubuntu3.1~22.04.3 [35.4 kB]\r\n",
      "Get:19 http://archive.ubuntu.com/ubuntu jammy-updates/main amd64 libegl-mesa0 amd64 23.2.1-1ubuntu3.1~22.04.3 [118 kB]\r\n",
      "Get:20 http://archive.ubuntu.com/ubuntu jammy/main amd64 libegl1 amd64 1.4.0-1 [28.6 kB]\r\n",
      "Get:21 http://archive.ubuntu.com/ubuntu jammy/main amd64 libegl-dev amd64 1.4.0-1 [18.0 kB]\r\n",
      "Get:22 http://archive.ubuntu.com/ubuntu jammy/main amd64 libgles1 amd64 1.4.0-1 [11.5 kB]\r\n",
      "Get:23 http://archive.ubuntu.com/ubuntu jammy/main amd64 libgles2 amd64 1.4.0-1 [18.0 kB]\r\n",
      "Get:24 http://archive.ubuntu.com/ubuntu jammy/main amd64 libgles-dev amd64 1.4.0-1 [49.4 kB]\r\n",
      "Get:25 http://archive.ubuntu.com/ubuntu jammy/main amd64 libopengl0 amd64 1.4.0-1 [36.5 kB]\r\n",
      "Get:26 http://archive.ubuntu.com/ubuntu jammy/main amd64 libopengl-dev amd64 1.4.0-1 [3400 B]\r\n",
      "Get:27 http://archive.ubuntu.com/ubuntu jammy/main amd64 libglvnd-dev amd64 1.4.0-1 [3162 B]\r\n",
      "Get:28 http://archive.ubuntu.com/ubuntu jammy-updates/main amd64 libgl1-mesa-dev amd64 23.2.1-1ubuntu3.1~22.04.3 [6848 B]\r\n",
      "Get:29 http://archive.ubuntu.com/ubuntu jammy/main amd64 libglu1-mesa amd64 9.0.2-1 [145 kB]\r\n",
      "Get:30 http://archive.ubuntu.com/ubuntu jammy/main amd64 libglu1-mesa-dev amd64 9.0.2-1 [231 kB]\r\n",
      "Get:31 http://archive.ubuntu.com/ubuntu jammy/main amd64 libxext-dev amd64 2:1.3.4-1build1 [84.7 kB]\r\n",
      "Get:32 http://archive.ubuntu.com/ubuntu jammy/main amd64 libice-dev amd64 2:1.0.10-1build2 [51.4 kB]\r\n",
      "Get:33 http://archive.ubuntu.com/ubuntu jammy/main amd64 libsm-dev amd64 2:1.2.3-1build2 [18.1 kB]\r\n",
      "Get:34 http://archive.ubuntu.com/ubuntu jammy/main amd64 libxt-dev amd64 1:1.2.1-1 [396 kB]\r\n",
      "Get:35 http://archive.ubuntu.com/ubuntu jammy/universe amd64 freeglut3-dev amd64 2.8.1-6 [126 kB]\r\n",
      "Get:36 http://archive.ubuntu.com/ubuntu jammy-updates/main amd64 xserver-common all 2:21.1.4-2ubuntu1.7~22.04.15 [29.5 kB]\r\n",
      "Get:37 http://archive.ubuntu.com/ubuntu jammy-updates/universe amd64 xvfb amd64 2:21.1.4-2ubuntu1.7~22.04.15 [866 kB]\r\n",
      "Fetched 13.8 MB in 2s (8918 kB/s)\r\n",
      "Extracting templates from packages: 100%\r\n",
      "(Reading database ... 113818 files and directories currently installed.)\r\n",
      "Preparing to unpack .../00-libx11-6_2%3a1.7.5-1ubuntu0.3_amd64.deb ...\r\n",
      "Unpacking libx11-6:amd64 (2:1.7.5-1ubuntu0.3) over (2:1.7.5-1ubuntu0.2) ...\r\n",
      "Preparing to unpack .../01-libx11-xcb1_2%3a1.7.5-1ubuntu0.3_amd64.deb ...\r\n",
      "Unpacking libx11-xcb1:amd64 (2:1.7.5-1ubuntu0.3) over (2:1.7.5-1ubuntu0.2) ...\r\n",
      "Selecting previously unselected package freeglut3:amd64.\r\n",
      "Preparing to unpack .../02-freeglut3_2.8.1-6_amd64.deb ...\r\n",
      "Unpacking freeglut3:amd64 (2.8.1-6) ...\r\n",
      "Selecting previously unselected package xorg-sgml-doctools.\r\n",
      "Preparing to unpack .../03-xorg-sgml-doctools_1%3a1.11-1.1_all.deb ...\r\n",
      "Unpacking xorg-sgml-doctools (1:1.11-1.1) ...\r\n",
      "Selecting previously unselected package x11proto-dev.\r\n",
      "Preparing to unpack .../04-x11proto-dev_2021.5-1_all.deb ...\r\n",
      "Unpacking x11proto-dev (2021.5-1) ...\r\n",
      "Selecting previously unselected package libxau-dev:amd64.\r\n",
      "Preparing to unpack .../05-libxau-dev_1%3a1.0.9-1build5_amd64.deb ...\r\n",
      "Unpacking libxau-dev:amd64 (1:1.0.9-1build5) ...\r\n",
      "Selecting previously unselected package libxdmcp-dev:amd64.\r\n",
      "Preparing to unpack .../06-libxdmcp-dev_1%3a1.1.3-0ubuntu5_amd64.deb ...\r\n",
      "Unpacking libxdmcp-dev:amd64 (1:1.1.3-0ubuntu5) ...\r\n",
      "Selecting previously unselected package xtrans-dev.\r\n",
      "Preparing to unpack .../07-xtrans-dev_1.4.0-1_all.deb ...\r\n",
      "Unpacking xtrans-dev (1.4.0-1) ...\r\n",
      "Selecting previously unselected package libpthread-stubs0-dev:amd64.\r\n",
      "Preparing to unpack .../08-libpthread-stubs0-dev_0.4-1build2_amd64.deb ...\r\n",
      "Unpacking libpthread-stubs0-dev:amd64 (0.4-1build2) ...\r\n",
      "Selecting previously unselected package libxcb1-dev:amd64.\r\n",
      "Preparing to unpack .../09-libxcb1-dev_1.14-3ubuntu3_amd64.deb ...\r\n",
      "Unpacking libxcb1-dev:amd64 (1.14-3ubuntu3) ...\r\n",
      "Selecting previously unselected package libx11-dev:amd64.\r\n",
      "Preparing to unpack .../10-libx11-dev_2%3a1.7.5-1ubuntu0.3_amd64.deb ...\r\n",
      "Unpacking libx11-dev:amd64 (2:1.7.5-1ubuntu0.3) ...\r\n",
      "Selecting previously unselected package libglx-dev:amd64.\r\n",
      "Preparing to unpack .../11-libglx-dev_1.4.0-1_amd64.deb ...\r\n",
      "Unpacking libglx-dev:amd64 (1.4.0-1) ...\r\n",
      "Selecting previously unselected package libgl-dev:amd64.\r\n",
      "Preparing to unpack .../12-libgl-dev_1.4.0-1_amd64.deb ...\r\n",
      "Unpacking libgl-dev:amd64 (1.4.0-1) ...\r\n",
      "Selecting previously unselected package libglvnd-core-dev:amd64.\r\n",
      "Preparing to unpack .../13-libglvnd-core-dev_1.4.0-1_amd64.deb ...\r\n",
      "Unpacking libglvnd-core-dev:amd64 (1.4.0-1) ...\r\n",
      "Preparing to unpack .../14-libgbm1_23.2.1-1ubuntu3.1~22.04.3_amd64.deb ...\r\n",
      "Unpacking libgbm1:amd64 (23.2.1-1ubuntu3.1~22.04.3) over (23.0.4-0ubuntu1~22.04.1) ...\r\n",
      "Preparing to unpack .../15-libgl1-mesa-dri_23.2.1-1ubuntu3.1~22.04.3_amd64.deb ...\r\n",
      "Unpacking libgl1-mesa-dri:amd64 (23.2.1-1ubuntu3.1~22.04.3) over (23.0.4-0ubuntu1~22.04.1) ...\r\n",
      "Preparing to unpack .../16-libglx-mesa0_23.2.1-1ubuntu3.1~22.04.3_amd64.deb ...\r\n",
      "Unpacking libglx-mesa0:amd64 (23.2.1-1ubuntu3.1~22.04.3) over (23.0.4-0ubuntu1~22.04.1) ...\r\n",
      "Preparing to unpack .../17-libglapi-mesa_23.2.1-1ubuntu3.1~22.04.3_amd64.deb ...\r\n",
      "Unpacking libglapi-mesa:amd64 (23.2.1-1ubuntu3.1~22.04.3) over (23.0.4-0ubuntu1~22.04.1) ...\r\n",
      "Selecting previously unselected package libegl-mesa0:amd64.\r\n",
      "Preparing to unpack .../18-libegl-mesa0_23.2.1-1ubuntu3.1~22.04.3_amd64.deb ...\r\n",
      "Unpacking libegl-mesa0:amd64 (23.2.1-1ubuntu3.1~22.04.3) ...\r\n",
      "Selecting previously unselected package libegl1:amd64.\r\n",
      "Preparing to unpack .../19-libegl1_1.4.0-1_amd64.deb ...\r\n",
      "Unpacking libegl1:amd64 (1.4.0-1) ...\r\n",
      "Selecting previously unselected package libegl-dev:amd64.\r\n",
      "Preparing to unpack .../20-libegl-dev_1.4.0-1_amd64.deb ...\r\n",
      "Unpacking libegl-dev:amd64 (1.4.0-1) ...\r\n",
      "Selecting previously unselected package libgles1:amd64.\r\n",
      "Preparing to unpack .../21-libgles1_1.4.0-1_amd64.deb ...\r\n",
      "Unpacking libgles1:amd64 (1.4.0-1) ...\r\n",
      "Selecting previously unselected package libgles2:amd64.\r\n",
      "Preparing to unpack .../22-libgles2_1.4.0-1_amd64.deb ...\r\n",
      "Unpacking libgles2:amd64 (1.4.0-1) ...\r\n",
      "Selecting previously unselected package libgles-dev:amd64.\r\n",
      "Preparing to unpack .../23-libgles-dev_1.4.0-1_amd64.deb ...\r\n",
      "Unpacking libgles-dev:amd64 (1.4.0-1) ...\r\n",
      "Selecting previously unselected package libopengl0:amd64.\r\n",
      "Preparing to unpack .../24-libopengl0_1.4.0-1_amd64.deb ...\r\n",
      "Unpacking libopengl0:amd64 (1.4.0-1) ...\r\n",
      "Selecting previously unselected package libopengl-dev:amd64.\r\n",
      "Preparing to unpack .../25-libopengl-dev_1.4.0-1_amd64.deb ...\r\n",
      "Unpacking libopengl-dev:amd64 (1.4.0-1) ...\r\n",
      "Selecting previously unselected package libglvnd-dev:amd64.\r\n",
      "Preparing to unpack .../26-libglvnd-dev_1.4.0-1_amd64.deb ...\r\n",
      "Unpacking libglvnd-dev:amd64 (1.4.0-1) ...\r\n",
      "Selecting previously unselected package libgl1-mesa-dev:amd64.\r\n",
      "Preparing to unpack .../27-libgl1-mesa-dev_23.2.1-1ubuntu3.1~22.04.3_amd64.deb ...\r\n",
      "Unpacking libgl1-mesa-dev:amd64 (23.2.1-1ubuntu3.1~22.04.3) ...\r\n",
      "Selecting previously unselected package libglu1-mesa:amd64.\r\n",
      "Preparing to unpack .../28-libglu1-mesa_9.0.2-1_amd64.deb ...\r\n",
      "Unpacking libglu1-mesa:amd64 (9.0.2-1) ...\r\n",
      "Selecting previously unselected package libglu1-mesa-dev:amd64.\r\n",
      "Preparing to unpack .../29-libglu1-mesa-dev_9.0.2-1_amd64.deb ...\r\n",
      "Unpacking libglu1-mesa-dev:amd64 (9.0.2-1) ...\r\n",
      "Selecting previously unselected package libxext-dev:amd64.\r\n",
      "Preparing to unpack .../30-libxext-dev_2%3a1.3.4-1build1_amd64.deb ...\r\n",
      "Unpacking libxext-dev:amd64 (2:1.3.4-1build1) ...\r\n",
      "Selecting previously unselected package libice-dev:amd64.\r\n",
      "Preparing to unpack .../31-libice-dev_2%3a1.0.10-1build2_amd64.deb ...\r\n",
      "Unpacking libice-dev:amd64 (2:1.0.10-1build2) ...\r\n",
      "Selecting previously unselected package libsm-dev:amd64.\r\n",
      "Preparing to unpack .../32-libsm-dev_2%3a1.2.3-1build2_amd64.deb ...\r\n",
      "Unpacking libsm-dev:amd64 (2:1.2.3-1build2) ...\r\n",
      "Selecting previously unselected package libxt-dev:amd64.\r\n",
      "Preparing to unpack .../33-libxt-dev_1%3a1.2.1-1_amd64.deb ...\r\n",
      "Unpacking libxt-dev:amd64 (1:1.2.1-1) ...\r\n",
      "Selecting previously unselected package freeglut3-dev:amd64.\r\n",
      "Preparing to unpack .../34-freeglut3-dev_2.8.1-6_amd64.deb ...\r\n",
      "Unpacking freeglut3-dev:amd64 (2.8.1-6) ...\r\n",
      "Preparing to unpack .../35-xserver-common_2%3a21.1.4-2ubuntu1.7~22.04.15_all.deb ...\r\n",
      "Unpacking xserver-common (2:21.1.4-2ubuntu1.7~22.04.15) over (2:21.1.4-2ubuntu1.7~22.04.1) ...\r\n",
      "Preparing to unpack .../36-xvfb_2%3a21.1.4-2ubuntu1.7~22.04.15_amd64.deb ...\r\n",
      "Unpacking xvfb (2:21.1.4-2ubuntu1.7~22.04.15) over (2:21.1.4-2ubuntu1.7~22.04.1) ...\r\n",
      "Setting up libglvnd-core-dev:amd64 (1.4.0-1) ...\r\n",
      "Setting up libgbm1:amd64 (23.2.1-1ubuntu3.1~22.04.3) ...\r\n",
      "Setting up libpthread-stubs0-dev:amd64 (0.4-1build2) ...\r\n",
      "Setting up libopengl0:amd64 (1.4.0-1) ...\r\n",
      "Setting up xtrans-dev (1.4.0-1) ...\r\n",
      "Setting up libgles2:amd64 (1.4.0-1) ...\r\n",
      "Setting up libgles1:amd64 (1.4.0-1) ...\r\n",
      "Setting up libglapi-mesa:amd64 (23.2.1-1ubuntu3.1~22.04.3) ...\r\n",
      "Setting up libx11-6:amd64 (2:1.7.5-1ubuntu0.3) ...\r\n",
      "Setting up xorg-sgml-doctools (1:1.11-1.1) ...\r\n",
      "Setting up libglu1-mesa:amd64 (9.0.2-1) ...\r\n",
      "Setting up xserver-common (2:21.1.4-2ubuntu1.7~22.04.15) ...\r\n",
      "Setting up libopengl-dev:amd64 (1.4.0-1) ...\r\n",
      "Setting up x11proto-dev (2021.5-1) ...\r\n",
      "Setting up libx11-xcb1:amd64 (2:1.7.5-1ubuntu0.3) ...\r\n",
      "Setting up freeglut3:amd64 (2.8.1-6) ...\r\n",
      "Setting up libxau-dev:amd64 (1:1.0.9-1build5) ...\r\n",
      "Setting up libice-dev:amd64 (2:1.0.10-1build2) ...\r\n",
      "Setting up libsm-dev:amd64 (2:1.2.3-1build2) ...\r\n",
      "Setting up xvfb (2:21.1.4-2ubuntu1.7~22.04.15) ...\r\n",
      "Setting up libgl1-mesa-dri:amd64 (23.2.1-1ubuntu3.1~22.04.3) ...\r\n",
      "Setting up libxdmcp-dev:amd64 (1:1.1.3-0ubuntu5) ...\r\n",
      "Setting up libegl-mesa0:amd64 (23.2.1-1ubuntu3.1~22.04.3) ...\r\n",
      "Setting up libegl1:amd64 (1.4.0-1) ...\r\n",
      "Setting up libglx-mesa0:amd64 (23.2.1-1ubuntu3.1~22.04.3) ...\r\n",
      "Setting up libxcb1-dev:amd64 (1.14-3ubuntu3) ...\r\n",
      "Setting up libx11-dev:amd64 (2:1.7.5-1ubuntu0.3) ...\r\n",
      "Setting up libxt-dev:amd64 (1:1.2.1-1) ...\r\n",
      "Setting up libxext-dev:amd64 (2:1.3.4-1build1) ...\r\n",
      "Setting up libglx-dev:amd64 (1.4.0-1) ...\r\n",
      "Setting up libgl-dev:amd64 (1.4.0-1) ...\r\n",
      "Setting up libegl-dev:amd64 (1.4.0-1) ...\r\n",
      "Setting up libglu1-mesa-dev:amd64 (9.0.2-1) ...\r\n",
      "Setting up libgles-dev:amd64 (1.4.0-1) ...\r\n",
      "Setting up libglvnd-dev:amd64 (1.4.0-1) ...\r\n",
      "Setting up libgl1-mesa-dev:amd64 (23.2.1-1ubuntu3.1~22.04.3) ...\r\n",
      "Setting up freeglut3-dev:amd64 (2.8.1-6) ...\r\n",
      "Processing triggers for man-db (2.10.2-1) ...\r\n",
      "Processing triggers for libc-bin (2.35-0ubuntu3.1) ...\r\n",
      "Collecting imageio==2.4.0\r\n",
      "  Downloading imageio-2.4.0.tar.gz (3.3 MB)\r\n",
      "\u001b[2K     \u001b[90m━━━━━━━━━━━━━━━━━━━━━━━━━━━━━━━━━━━━━━━━\u001b[0m \u001b[32m3.3/3.3 MB\u001b[0m \u001b[31m44.0 MB/s\u001b[0m eta \u001b[36m0:00:00\u001b[0m\r\n",
      "\u001b[?25h  Preparing metadata (setup.py) ... \u001b[?25ldone\r\n",
      "\u001b[?25hRequirement already satisfied: numpy in /opt/conda/lib/python3.10/site-packages (from imageio==2.4.0) (1.23.5)\r\n",
      "Requirement already satisfied: pillow in /opt/conda/lib/python3.10/site-packages (from imageio==2.4.0) (9.5.0)\r\n",
      "Building wheels for collected packages: imageio\r\n",
      "  Building wheel for imageio (setup.py) ... \u001b[?25l-\b \bdone\r\n",
      "\u001b[?25h  Created wheel for imageio: filename=imageio-2.4.0-py3-none-any.whl size=3303893 sha256=74135fe84bfa05d50cfeb7b97294dc566f7a472287a4253ed92d96c7676d0410\r\n",
      "  Stored in directory: /root/.cache/pip/wheels/8a/d8/1c/eb9350a4bd3ae8e8814a2f7f9cc832fedad8ea5a926181d60d\r\n",
      "Successfully built imageio\r\n",
      "Installing collected packages: imageio\r\n",
      "  Attempting uninstall: imageio\r\n",
      "    Found existing installation: imageio 2.31.1\r\n",
      "    Uninstalling imageio-2.31.1:\r\n",
      "      Successfully uninstalled imageio-2.31.1\r\n",
      "\u001b[31mERROR: pip's dependency resolver does not currently take into account all the packages that are installed. This behaviour is the source of the following dependency conflicts.\r\n",
      "scikit-image 0.21.0 requires imageio>=2.27, but you have imageio 2.4.0 which is incompatible.\u001b[0m\u001b[31m\r\n",
      "\u001b[0mSuccessfully installed imageio-2.4.0\r\n",
      "Collecting pyvirtualdisplay\r\n",
      "  Downloading PyVirtualDisplay-3.0-py3-none-any.whl (15 kB)\r\n",
      "Installing collected packages: pyvirtualdisplay\r\n",
      "Successfully installed pyvirtualdisplay-3.0\r\n",
      "Collecting tf-agents[reverb]\r\n",
      "  Downloading tf_agents-0.19.0-py3-none-any.whl (1.4 MB)\r\n",
      "\u001b[2K     \u001b[90m━━━━━━━━━━━━━━━━━━━━━━━━━━━━━━━━━━━━━━━━\u001b[0m \u001b[32m1.4/1.4 MB\u001b[0m \u001b[31m18.6 MB/s\u001b[0m eta \u001b[36m0:00:00\u001b[0m\r\n",
      "\u001b[?25hRequirement already satisfied: absl-py>=0.6.1 in /opt/conda/lib/python3.10/site-packages (from tf-agents[reverb]) (1.4.0)\r\n",
      "Requirement already satisfied: cloudpickle>=1.3 in /opt/conda/lib/python3.10/site-packages (from tf-agents[reverb]) (2.2.1)\r\n",
      "Collecting gin-config>=0.4.0 (from tf-agents[reverb])\r\n",
      "  Downloading gin_config-0.5.0-py3-none-any.whl (61 kB)\r\n",
      "\u001b[2K     \u001b[90m━━━━━━━━━━━━━━━━━━━━━━━━━━━━━━━━━━━━━━━━\u001b[0m \u001b[32m61.3/61.3 kB\u001b[0m \u001b[31m6.6 MB/s\u001b[0m eta \u001b[36m0:00:00\u001b[0m\r\n",
      "\u001b[?25hCollecting gym<=0.23.0,>=0.17.0 (from tf-agents[reverb])\r\n",
      "  Downloading gym-0.23.0.tar.gz (624 kB)\r\n",
      "\u001b[2K     \u001b[90m━━━━━━━━━━━━━━━━━━━━━━━━━━━━━━━━━━━━━━\u001b[0m \u001b[32m624.4/624.4 kB\u001b[0m \u001b[31m23.2 MB/s\u001b[0m eta \u001b[36m0:00:00\u001b[0m\r\n",
      "\u001b[?25h  Installing build dependencies ... \u001b[?25l-\b \b\\\b \b|\b \b/\b \bdone\r\n",
      "\u001b[?25h  Getting requirements to build wheel ... \u001b[?25l-\b \bdone\r\n",
      "\u001b[?25h  Preparing metadata (pyproject.toml) ... \u001b[?25l-\b \bdone\r\n",
      "\u001b[?25hRequirement already satisfied: numpy>=1.19.0 in /opt/conda/lib/python3.10/site-packages (from tf-agents[reverb]) (1.23.5)\r\n",
      "Requirement already satisfied: pillow in /opt/conda/lib/python3.10/site-packages (from tf-agents[reverb]) (9.5.0)\r\n",
      "Requirement already satisfied: six>=1.10.0 in /opt/conda/lib/python3.10/site-packages (from tf-agents[reverb]) (1.16.0)\r\n",
      "Requirement already satisfied: protobuf>=3.11.3 in /opt/conda/lib/python3.10/site-packages (from tf-agents[reverb]) (3.20.3)\r\n",
      "Requirement already satisfied: wrapt>=1.11.1 in /opt/conda/lib/python3.10/site-packages (from tf-agents[reverb]) (1.14.1)\r\n",
      "Collecting typing-extensions==4.5.0 (from tf-agents[reverb])\r\n",
      "  Downloading typing_extensions-4.5.0-py3-none-any.whl (27 kB)\r\n",
      "Collecting pygame==2.1.3 (from tf-agents[reverb])\r\n",
      "  Downloading pygame-2.1.3-cp310-cp310-manylinux_2_17_x86_64.manylinux2014_x86_64.whl (13.7 MB)\r\n",
      "\u001b[2K     \u001b[90m━━━━━━━━━━━━━━━━━━━━━━━━━━━━━━━━━━━━━━━━\u001b[0m \u001b[32m13.7/13.7 MB\u001b[0m \u001b[31m56.8 MB/s\u001b[0m eta \u001b[36m0:00:00\u001b[0m\r\n",
      "\u001b[?25hCollecting tensorflow-probability~=0.23.0 (from tf-agents[reverb])\r\n",
      "  Downloading tensorflow_probability-0.23.0-py2.py3-none-any.whl (6.9 MB)\r\n",
      "\u001b[2K     \u001b[90m━━━━━━━━━━━━━━━━━━━━━━━━━━━━━━━━━━━━━━━━\u001b[0m \u001b[32m6.9/6.9 MB\u001b[0m \u001b[31m87.6 MB/s\u001b[0m eta \u001b[36m0:00:00\u001b[0m\r\n",
      "\u001b[?25hCollecting rlds (from tf-agents[reverb])\r\n",
      "  Downloading rlds-0.1.8-py3-none-manylinux2010_x86_64.whl (48 kB)\r\n",
      "\u001b[2K     \u001b[90m━━━━━━━━━━━━━━━━━━━━━━━━━━━━━━━━━━━━━━━━\u001b[0m \u001b[32m48.4/48.4 kB\u001b[0m \u001b[31m5.7 MB/s\u001b[0m eta \u001b[36m0:00:00\u001b[0m\r\n",
      "\u001b[?25hCollecting dm-reverb~=0.14.0 (from tf-agents[reverb])\r\n",
      "  Downloading dm_reverb-0.14.0-cp310-cp310-manylinux2014_x86_64.whl (6.4 MB)\r\n",
      "\u001b[2K     \u001b[90m━━━━━━━━━━━━━━━━━━━━━━━━━━━━━━━━━━━━━━━━\u001b[0m \u001b[32m6.4/6.4 MB\u001b[0m \u001b[31m23.8 MB/s\u001b[0m eta \u001b[36m0:00:00\u001b[0m\r\n",
      "\u001b[?25hCollecting tensorflow~=2.15.0 (from tf-agents[reverb])\r\n",
      "  Downloading tensorflow-2.15.1-cp310-cp310-manylinux_2_17_x86_64.manylinux2014_x86_64.whl (475.2 MB)\r\n",
      "\u001b[2K     \u001b[90m━━━━━━━━━━━━━━━━━━━━━━━━━━━━━━━━━━━━━━━\u001b[0m \u001b[32m475.2/475.2 MB\u001b[0m \u001b[31m2.7 MB/s\u001b[0m eta \u001b[36m0:00:00\u001b[0m\r\n",
      "\u001b[?25hRequirement already satisfied: dm-tree in /opt/conda/lib/python3.10/site-packages (from dm-reverb~=0.14.0->tf-agents[reverb]) (0.1.8)\r\n",
      "Collecting portpicker (from dm-reverb~=0.14.0->tf-agents[reverb])\r\n",
      "  Downloading portpicker-1.6.0-py3-none-any.whl (16 kB)\r\n",
      "Requirement already satisfied: gym_notices>=0.0.4 in /opt/conda/lib/python3.10/site-packages (from gym<=0.23.0,>=0.17.0->tf-agents[reverb]) (0.0.8)\r\n",
      "Requirement already satisfied: astunparse>=1.6.0 in /opt/conda/lib/python3.10/site-packages (from tensorflow~=2.15.0->tf-agents[reverb]) (1.6.3)\r\n",
      "Requirement already satisfied: flatbuffers>=23.5.26 in /opt/conda/lib/python3.10/site-packages (from tensorflow~=2.15.0->tf-agents[reverb]) (23.5.26)\r\n",
      "Requirement already satisfied: gast!=0.5.0,!=0.5.1,!=0.5.2,>=0.2.1 in /opt/conda/lib/python3.10/site-packages (from tensorflow~=2.15.0->tf-agents[reverb]) (0.4.0)\r\n",
      "Requirement already satisfied: google-pasta>=0.1.1 in /opt/conda/lib/python3.10/site-packages (from tensorflow~=2.15.0->tf-agents[reverb]) (0.2.0)\r\n",
      "Requirement already satisfied: h5py>=2.9.0 in /opt/conda/lib/python3.10/site-packages (from tensorflow~=2.15.0->tf-agents[reverb]) (3.9.0)\r\n",
      "Requirement already satisfied: libclang>=13.0.0 in /opt/conda/lib/python3.10/site-packages (from tensorflow~=2.15.0->tf-agents[reverb]) (16.0.0)\r\n",
      "Collecting ml-dtypes~=0.3.1 (from tensorflow~=2.15.0->tf-agents[reverb])\r\n",
      "  Downloading ml_dtypes-0.3.2-cp310-cp310-manylinux_2_17_x86_64.manylinux2014_x86_64.whl (2.2 MB)\r\n",
      "\u001b[2K     \u001b[90m━━━━━━━━━━━━━━━━━━━━━━━━━━━━━━━━━━━━━━━━\u001b[0m \u001b[32m2.2/2.2 MB\u001b[0m \u001b[31m52.7 MB/s\u001b[0m eta \u001b[36m0:00:00\u001b[0m\r\n",
      "\u001b[?25hRequirement already satisfied: opt-einsum>=2.3.2 in /opt/conda/lib/python3.10/site-packages (from tensorflow~=2.15.0->tf-agents[reverb]) (3.3.0)\r\n",
      "Requirement already satisfied: packaging in /opt/conda/lib/python3.10/site-packages (from tensorflow~=2.15.0->tf-agents[reverb]) (21.3)\r\n",
      "Requirement already satisfied: setuptools in /opt/conda/lib/python3.10/site-packages (from tensorflow~=2.15.0->tf-agents[reverb]) (68.0.0)\r\n",
      "Requirement already satisfied: termcolor>=1.1.0 in /opt/conda/lib/python3.10/site-packages (from tensorflow~=2.15.0->tf-agents[reverb]) (2.3.0)\r\n",
      "Requirement already satisfied: tensorflow-io-gcs-filesystem>=0.23.1 in /opt/conda/lib/python3.10/site-packages (from tensorflow~=2.15.0->tf-agents[reverb]) (0.32.0)\r\n",
      "Requirement already satisfied: grpcio<2.0,>=1.24.3 in /opt/conda/lib/python3.10/site-packages (from tensorflow~=2.15.0->tf-agents[reverb]) (1.51.1)\r\n",
      "Collecting tensorboard<2.16,>=2.15 (from tensorflow~=2.15.0->tf-agents[reverb])\r\n",
      "  Downloading tensorboard-2.15.2-py3-none-any.whl (5.5 MB)\r\n",
      "\u001b[2K     \u001b[90m━━━━━━━━━━━━━━━━━━━━━━━━━━━━━━━━━━━━━━━━\u001b[0m \u001b[32m5.5/5.5 MB\u001b[0m \u001b[31m65.4 MB/s\u001b[0m eta \u001b[36m0:00:00\u001b[0m\r\n",
      "\u001b[?25hCollecting tensorflow-estimator<2.16,>=2.15.0 (from tensorflow~=2.15.0->tf-agents[reverb])\r\n",
      "  Downloading tensorflow_estimator-2.15.0-py2.py3-none-any.whl (441 kB)\r\n",
      "\u001b[2K     \u001b[90m━━━━━━━━━━━━━━━━━━━━━━━━━━━━━━━━━━━━━━\u001b[0m \u001b[32m442.0/442.0 kB\u001b[0m \u001b[31m28.0 MB/s\u001b[0m eta \u001b[36m0:00:00\u001b[0m\r\n",
      "\u001b[?25hCollecting keras<2.16,>=2.15.0 (from tensorflow~=2.15.0->tf-agents[reverb])\r\n",
      "  Downloading keras-2.15.0-py3-none-any.whl (1.7 MB)\r\n",
      "\u001b[2K     \u001b[90m━━━━━━━━━━━━━━━━━━━━━━━━━━━━━━━━━━━━━━━━\u001b[0m \u001b[32m1.7/1.7 MB\u001b[0m \u001b[31m62.8 MB/s\u001b[0m eta \u001b[36m0:00:00\u001b[0m\r\n",
      "\u001b[?25hRequirement already satisfied: decorator in /opt/conda/lib/python3.10/site-packages (from tensorflow-probability~=0.23.0->tf-agents[reverb]) (5.1.1)\r\n",
      "Requirement already satisfied: wheel<1.0,>=0.23.0 in /opt/conda/lib/python3.10/site-packages (from astunparse>=1.6.0->tensorflow~=2.15.0->tf-agents[reverb]) (0.40.0)\r\n",
      "Requirement already satisfied: google-auth<3,>=1.6.3 in /opt/conda/lib/python3.10/site-packages (from tensorboard<2.16,>=2.15->tensorflow~=2.15.0->tf-agents[reverb]) (2.20.0)\r\n",
      "Requirement already satisfied: google-auth-oauthlib<2,>=0.5 in /opt/conda/lib/python3.10/site-packages (from tensorboard<2.16,>=2.15->tensorflow~=2.15.0->tf-agents[reverb]) (1.0.0)\r\n",
      "Requirement already satisfied: markdown>=2.6.8 in /opt/conda/lib/python3.10/site-packages (from tensorboard<2.16,>=2.15->tensorflow~=2.15.0->tf-agents[reverb]) (3.4.3)\r\n",
      "Requirement already satisfied: requests<3,>=2.21.0 in /opt/conda/lib/python3.10/site-packages (from tensorboard<2.16,>=2.15->tensorflow~=2.15.0->tf-agents[reverb]) (2.31.0)\r\n",
      "Requirement already satisfied: tensorboard-data-server<0.8.0,>=0.7.0 in /opt/conda/lib/python3.10/site-packages (from tensorboard<2.16,>=2.15->tensorflow~=2.15.0->tf-agents[reverb]) (0.7.1)\r\n",
      "Requirement already satisfied: werkzeug>=1.0.1 in /opt/conda/lib/python3.10/site-packages (from tensorboard<2.16,>=2.15->tensorflow~=2.15.0->tf-agents[reverb]) (2.3.7)\r\n",
      "Requirement already satisfied: pyparsing!=3.0.5,>=2.0.2 in /opt/conda/lib/python3.10/site-packages (from packaging->tensorflow~=2.15.0->tf-agents[reverb]) (3.0.9)\r\n",
      "Requirement already satisfied: psutil in /opt/conda/lib/python3.10/site-packages (from portpicker->dm-reverb~=0.14.0->tf-agents[reverb]) (5.9.3)\r\n",
      "Requirement already satisfied: cachetools<6.0,>=2.0.0 in /opt/conda/lib/python3.10/site-packages (from google-auth<3,>=1.6.3->tensorboard<2.16,>=2.15->tensorflow~=2.15.0->tf-agents[reverb]) (4.2.4)\r\n",
      "Requirement already satisfied: pyasn1-modules>=0.2.1 in /opt/conda/lib/python3.10/site-packages (from google-auth<3,>=1.6.3->tensorboard<2.16,>=2.15->tensorflow~=2.15.0->tf-agents[reverb]) (0.2.7)\r\n",
      "Requirement already satisfied: rsa<5,>=3.1.4 in /opt/conda/lib/python3.10/site-packages (from google-auth<3,>=1.6.3->tensorboard<2.16,>=2.15->tensorflow~=2.15.0->tf-agents[reverb]) (4.9)\r\n",
      "Requirement already satisfied: urllib3<2.0 in /opt/conda/lib/python3.10/site-packages (from google-auth<3,>=1.6.3->tensorboard<2.16,>=2.15->tensorflow~=2.15.0->tf-agents[reverb]) (1.26.15)\r\n",
      "Requirement already satisfied: requests-oauthlib>=0.7.0 in /opt/conda/lib/python3.10/site-packages (from google-auth-oauthlib<2,>=0.5->tensorboard<2.16,>=2.15->tensorflow~=2.15.0->tf-agents[reverb]) (1.3.1)\r\n",
      "Requirement already satisfied: charset-normalizer<4,>=2 in /opt/conda/lib/python3.10/site-packages (from requests<3,>=2.21.0->tensorboard<2.16,>=2.15->tensorflow~=2.15.0->tf-agents[reverb]) (3.1.0)\r\n",
      "Requirement already satisfied: idna<4,>=2.5 in /opt/conda/lib/python3.10/site-packages (from requests<3,>=2.21.0->tensorboard<2.16,>=2.15->tensorflow~=2.15.0->tf-agents[reverb]) (3.4)\r\n",
      "Requirement already satisfied: certifi>=2017.4.17 in /opt/conda/lib/python3.10/site-packages (from requests<3,>=2.21.0->tensorboard<2.16,>=2.15->tensorflow~=2.15.0->tf-agents[reverb]) (2023.7.22)\r\n",
      "Requirement already satisfied: MarkupSafe>=2.1.1 in /opt/conda/lib/python3.10/site-packages (from werkzeug>=1.0.1->tensorboard<2.16,>=2.15->tensorflow~=2.15.0->tf-agents[reverb]) (2.1.3)\r\n",
      "Requirement already satisfied: pyasn1<0.5.0,>=0.4.6 in /opt/conda/lib/python3.10/site-packages (from pyasn1-modules>=0.2.1->google-auth<3,>=1.6.3->tensorboard<2.16,>=2.15->tensorflow~=2.15.0->tf-agents[reverb]) (0.4.8)\r\n",
      "Requirement already satisfied: oauthlib>=3.0.0 in /opt/conda/lib/python3.10/site-packages (from requests-oauthlib>=0.7.0->google-auth-oauthlib<2,>=0.5->tensorboard<2.16,>=2.15->tensorflow~=2.15.0->tf-agents[reverb]) (3.2.2)\r\n",
      "Building wheels for collected packages: gym\r\n",
      "  Building wheel for gym (pyproject.toml) ... \u001b[?25l-\b \b\\\b \bdone\r\n",
      "\u001b[?25h  Created wheel for gym: filename=gym-0.23.0-py3-none-any.whl size=697745 sha256=b03a874e08e0219b96148435e97d775149a059abadd53ff78558c989bf30337b\r\n",
      "  Stored in directory: /root/.cache/pip/wheels/3d/6f/b4/3991d4fae11d0ecb0754c11cc1b4e7745012850da4efaaf0b1\r\n",
      "Successfully built gym\r\n",
      "Installing collected packages: gin-config, typing-extensions, tensorflow-probability, tensorflow-estimator, rlds, pygame, portpicker, ml-dtypes, keras, gym, tf-agents, dm-reverb, tensorboard, tensorflow\r\n",
      "  Attempting uninstall: typing-extensions\r\n",
      "    Found existing installation: typing_extensions 4.6.3\r\n",
      "    Uninstalling typing_extensions-4.6.3:\r\n",
      "      Successfully uninstalled typing_extensions-4.6.3\r\n",
      "  Attempting uninstall: tensorflow-probability\r\n",
      "    Found existing installation: tensorflow-probability 0.20.1\r\n",
      "    Uninstalling tensorflow-probability-0.20.1:\r\n",
      "      Successfully uninstalled tensorflow-probability-0.20.1\r\n",
      "  Attempting uninstall: tensorflow-estimator\r\n",
      "    Found existing installation: tensorflow-estimator 2.12.0\r\n",
      "    Uninstalling tensorflow-estimator-2.12.0:\r\n",
      "      Successfully uninstalled tensorflow-estimator-2.12.0\r\n",
      "  Attempting uninstall: ml-dtypes\r\n",
      "    Found existing installation: ml-dtypes 0.2.0\r\n",
      "    Uninstalling ml-dtypes-0.2.0:\r\n",
      "      Successfully uninstalled ml-dtypes-0.2.0\r\n",
      "  Attempting uninstall: keras\r\n",
      "    Found existing installation: keras 2.12.0\r\n",
      "    Uninstalling keras-2.12.0:\r\n",
      "      Successfully uninstalled keras-2.12.0\r\n",
      "  Attempting uninstall: gym\r\n",
      "    Found existing installation: gym 0.26.2\r\n",
      "    Uninstalling gym-0.26.2:\r\n",
      "      Successfully uninstalled gym-0.26.2\r\n",
      "  Attempting uninstall: tensorboard\r\n",
      "    Found existing installation: tensorboard 2.12.3\r\n",
      "    Uninstalling tensorboard-2.12.3:\r\n",
      "      Successfully uninstalled tensorboard-2.12.3\r\n",
      "  Attempting uninstall: tensorflow\r\n",
      "    Found existing installation: tensorflow 2.12.0\r\n",
      "    Uninstalling tensorflow-2.12.0:\r\n",
      "      Successfully uninstalled tensorflow-2.12.0\r\n",
      "\u001b[31mERROR: pip's dependency resolver does not currently take into account all the packages that are installed. This behaviour is the source of the following dependency conflicts.\r\n",
      "cudf 23.8.0 requires cupy-cuda11x>=12.0.0, which is not installed.\r\n",
      "cuml 23.8.0 requires cupy-cuda11x>=12.0.0, which is not installed.\r\n",
      "dask-cudf 23.8.0 requires cupy-cuda11x>=12.0.0, which is not installed.\r\n",
      "apache-beam 2.46.0 requires dill<0.3.2,>=0.3.1.1, but you have dill 0.3.7 which is incompatible.\r\n",
      "apache-beam 2.46.0 requires pyarrow<10.0.0,>=3.0.0, but you have pyarrow 11.0.0 which is incompatible.\r\n",
      "chex 0.1.82 requires numpy>=1.25.0, but you have numpy 1.23.5 which is incompatible.\r\n",
      "cudf 23.8.0 requires pandas<1.6.0dev0,>=1.3, but you have pandas 2.0.2 which is incompatible.\r\n",
      "cudf 23.8.0 requires protobuf<5,>=4.21, but you have protobuf 3.20.3 which is incompatible.\r\n",
      "cuml 23.8.0 requires dask==2023.7.1, but you have dask 2023.9.0 which is incompatible.\r\n",
      "dask-cudf 23.8.0 requires dask==2023.7.1, but you have dask 2023.9.0 which is incompatible.\r\n",
      "dask-cudf 23.8.0 requires pandas<1.6.0dev0,>=1.3, but you have pandas 2.0.2 which is incompatible.\r\n",
      "pydantic-core 2.6.3 requires typing-extensions!=4.7.0,>=4.6.0, but you have typing-extensions 4.5.0 which is incompatible.\r\n",
      "pymc3 3.11.5 requires numpy<1.22.2,>=1.15.0, but you have numpy 1.23.5 which is incompatible.\r\n",
      "pymc3 3.11.5 requires scipy<1.8.0,>=1.7.3, but you have scipy 1.11.2 which is incompatible.\r\n",
      "tensorflow-decision-forests 1.4.0 requires tensorflow~=2.12.0, but you have tensorflow 2.15.1 which is incompatible.\r\n",
      "tensorflow-text 2.12.1 requires tensorflow<2.13,>=2.12.0; platform_machine != \"arm64\" or platform_system != \"Darwin\", but you have tensorflow 2.15.1 which is incompatible.\r\n",
      "ydata-profiling 4.3.1 requires scipy<1.11,>=1.4.1, but you have scipy 1.11.2 which is incompatible.\u001b[0m\u001b[31m\r\n",
      "\u001b[0mSuccessfully installed dm-reverb-0.14.0 gin-config-0.5.0 gym-0.23.0 keras-2.15.0 ml-dtypes-0.3.2 portpicker-1.6.0 pygame-2.1.3 rlds-0.1.8 tensorboard-2.15.2 tensorflow-2.15.1 tensorflow-estimator-2.15.0 tensorflow-probability-0.23.0 tf-agents-0.19.0 typing-extensions-4.5.0\r\n",
      "Collecting pyglet\r\n",
      "  Downloading pyglet-2.1.6-py3-none-any.whl (983 kB)\r\n",
      "\u001b[2K     \u001b[90m━━━━━━━━━━━━━━━━━━━━━━━━━━━━━━━━━━━━━━\u001b[0m \u001b[32m984.0/984.0 kB\u001b[0m \u001b[31m16.2 MB/s\u001b[0m eta \u001b[36m0:00:00\u001b[0m\r\n",
      "\u001b[?25hInstalling collected packages: pyglet\r\n",
      "Successfully installed pyglet-2.1.6\r\n"
     ]
    }
   ],
   "source": [
    "!sudo apt-get update\n",
    "!sudo apt-get install -y xvfb ffmpeg freeglut3-dev\n",
    "!pip install 'imageio==2.4.0'\n",
    "!pip install pyvirtualdisplay\n",
    "!pip install tf-agents[reverb]\n",
    "!pip install pyglet"
   ]
  },
  {
   "cell_type": "code",
   "execution_count": 3,
   "id": "70793e88",
   "metadata": {
    "execution": {
     "iopub.execute_input": "2025-06-19T00:35:05.941365Z",
     "iopub.status.busy": "2025-06-19T00:35:05.940601Z",
     "iopub.status.idle": "2025-06-19T00:35:11.909364Z",
     "shell.execute_reply": "2025-06-19T00:35:11.908600Z"
    },
    "id": "sMitx5qSgJk1",
    "papermill": {
     "duration": 5.998194,
     "end_time": "2025-06-19T00:35:11.911387",
     "exception": false,
     "start_time": "2025-06-19T00:35:05.913193",
     "status": "completed"
    },
    "tags": []
   },
   "outputs": [
    {
     "name": "stderr",
     "output_type": "stream",
     "text": [
      "2025-06-19 00:35:06.302865: E external/local_xla/xla/stream_executor/cuda/cuda_dnn.cc:9261] Unable to register cuDNN factory: Attempting to register factory for plugin cuDNN when one has already been registered\n",
      "2025-06-19 00:35:06.302927: E external/local_xla/xla/stream_executor/cuda/cuda_fft.cc:607] Unable to register cuFFT factory: Attempting to register factory for plugin cuFFT when one has already been registered\n",
      "2025-06-19 00:35:06.304724: E external/local_xla/xla/stream_executor/cuda/cuda_blas.cc:1515] Unable to register cuBLAS factory: Attempting to register factory for plugin cuBLAS when one has already been registered\n",
      "/opt/conda/lib/python3.10/site-packages/scipy/__init__.py:146: UserWarning: A NumPy version >=1.16.5 and <1.23.0 is required for this version of SciPy (detected version 1.23.5\n",
      "  warnings.warn(f\"A NumPy version >={np_minversion} and <{np_maxversion}\"\n"
     ]
    }
   ],
   "source": [
    "from __future__ import absolute_import, division, print_function\n",
    "\n",
    "import base64\n",
    "import imageio\n",
    "import IPython\n",
    "import matplotlib\n",
    "import matplotlib.pyplot as plt\n",
    "import numpy as np\n",
    "import PIL.Image\n",
    "import pyvirtualdisplay\n",
    "import reverb\n",
    "\n",
    "import tensorflow as tf\n",
    "\n",
    "from tf_agents.agents.dqn import dqn_agent\n",
    "from tf_agents.drivers import py_driver\n",
    "from tf_agents.environments import suite_gym\n",
    "from tf_agents.environments import tf_py_environment\n",
    "from tf_agents.eval import metric_utils\n",
    "from tf_agents.metrics import tf_metrics\n",
    "from tf_agents.networks import sequential\n",
    "from tf_agents.policies import py_tf_eager_policy\n",
    "from tf_agents.policies import random_tf_policy\n",
    "from tf_agents.replay_buffers import reverb_replay_buffer\n",
    "from tf_agents.replay_buffers import reverb_utils\n",
    "from tf_agents.trajectories import trajectory\n",
    "from tf_agents.specs import tensor_spec\n",
    "from tf_agents.utils import common"
   ]
  },
  {
   "cell_type": "code",
   "execution_count": 4,
   "id": "ce77d75b",
   "metadata": {
    "execution": {
     "iopub.execute_input": "2025-06-19T00:35:11.964750Z",
     "iopub.status.busy": "2025-06-19T00:35:11.963781Z",
     "iopub.status.idle": "2025-06-19T00:35:12.401698Z",
     "shell.execute_reply": "2025-06-19T00:35:12.400980Z"
    },
    "id": "J6HsdS5GbSjd",
    "papermill": {
     "duration": 0.466138,
     "end_time": "2025-06-19T00:35:12.403688",
     "exception": false,
     "start_time": "2025-06-19T00:35:11.937550",
     "status": "completed"
    },
    "tags": []
   },
   "outputs": [],
   "source": [
    "# Set up a virtual display for rendering OpenAI gym environments.\n",
    "display = pyvirtualdisplay.Display(visible=0, size=(1400, 900)).start()"
   ]
  },
  {
   "cell_type": "code",
   "execution_count": 5,
   "id": "b2f6068a",
   "metadata": {
    "execution": {
     "iopub.execute_input": "2025-06-19T00:35:12.457662Z",
     "iopub.status.busy": "2025-06-19T00:35:12.457342Z",
     "iopub.status.idle": "2025-06-19T00:35:12.463589Z",
     "shell.execute_reply": "2025-06-19T00:35:12.462800Z"
    },
    "id": "NspmzG4nP3b9",
    "papermill": {
     "duration": 0.034545,
     "end_time": "2025-06-19T00:35:12.465054",
     "exception": false,
     "start_time": "2025-06-19T00:35:12.430509",
     "status": "completed"
    },
    "tags": []
   },
   "outputs": [
    {
     "data": {
      "text/plain": [
       "'2.15.1'"
      ]
     },
     "execution_count": 5,
     "metadata": {},
     "output_type": "execute_result"
    }
   ],
   "source": [
    "tf.version.VERSION"
   ]
  },
  {
   "cell_type": "markdown",
   "id": "0135dc4e",
   "metadata": {
    "id": "LmC0NDhdLIKY",
    "papermill": {
     "duration": 0.025214,
     "end_time": "2025-06-19T00:35:12.516243",
     "exception": false,
     "start_time": "2025-06-19T00:35:12.491029",
     "status": "completed"
    },
    "tags": []
   },
   "source": [
    "## Hyperparameters"
   ]
  },
  {
   "cell_type": "code",
   "execution_count": 6,
   "id": "7997fac5",
   "metadata": {
    "execution": {
     "iopub.execute_input": "2025-06-19T00:35:12.568781Z",
     "iopub.status.busy": "2025-06-19T00:35:12.567993Z",
     "iopub.status.idle": "2025-06-19T00:35:12.572423Z",
     "shell.execute_reply": "2025-06-19T00:35:12.571608Z"
    },
    "id": "HC1kNrOsLSIZ",
    "papermill": {
     "duration": 0.032389,
     "end_time": "2025-06-19T00:35:12.574021",
     "exception": false,
     "start_time": "2025-06-19T00:35:12.541632",
     "status": "completed"
    },
    "tags": []
   },
   "outputs": [],
   "source": [
    "num_iterations = 20000 # @param {type:\"integer\"}\n",
    "\n",
    "initial_collect_steps = 100  # @param {type:\"integer\"}\n",
    "collect_steps_per_iteration =   1# @param {type:\"integer\"}\n",
    "replay_buffer_max_length = 100000  # @param {type:\"integer\"}\n",
    "\n",
    "batch_size = 64  # @param {type:\"integer\"}\n",
    "learning_rate = 1e-3  # @param {type:\"number\"}\n",
    "log_interval = 200  # @param {type:\"integer\"}\n",
    "\n",
    "num_eval_episodes = 10  # @param {type:\"integer\"}\n",
    "eval_interval = 1000  # @param {type:\"integer\"}"
   ]
  },
  {
   "cell_type": "markdown",
   "id": "e1d9086f",
   "metadata": {
    "id": "VMsJC3DEgI0x",
    "papermill": {
     "duration": 0.024891,
     "end_time": "2025-06-19T00:35:12.624410",
     "exception": false,
     "start_time": "2025-06-19T00:35:12.599519",
     "status": "completed"
    },
    "tags": []
   },
   "source": [
    "## Environment\n",
    "\n",
    "In Reinforcement Learning (RL), an environment represents the task or problem to be solved. Standard environments can be created in TF-Agents using `tf_agents.environments` suites. TF-Agents has suites for loading environments from sources such as the OpenAI Gym, Atari, and DM Control.\n",
    "\n",
    "Load the CartPole environment from the OpenAI Gym suite. "
   ]
  },
  {
   "cell_type": "code",
   "execution_count": 7,
   "id": "cbfbade4",
   "metadata": {
    "execution": {
     "iopub.execute_input": "2025-06-19T00:35:12.676693Z",
     "iopub.status.busy": "2025-06-19T00:35:12.676373Z",
     "iopub.status.idle": "2025-06-19T00:35:12.718654Z",
     "shell.execute_reply": "2025-06-19T00:35:12.718003Z"
    },
    "id": "pYEz-S9gEv2-",
    "papermill": {
     "duration": 0.070379,
     "end_time": "2025-06-19T00:35:12.720366",
     "exception": false,
     "start_time": "2025-06-19T00:35:12.649987",
     "status": "completed"
    },
    "tags": []
   },
   "outputs": [],
   "source": [
    "env_name = 'CartPole-v0'\n",
    "env = suite_gym.load(env_name)"
   ]
  },
  {
   "cell_type": "markdown",
   "id": "3497ee74",
   "metadata": {
    "id": "IIHYVBkuvPNw",
    "papermill": {
     "duration": 0.025139,
     "end_time": "2025-06-19T00:35:12.771679",
     "exception": false,
     "start_time": "2025-06-19T00:35:12.746540",
     "status": "completed"
    },
    "tags": []
   },
   "source": [
    "You can render this environment to see how it looks. A free-swinging pole is attached to a cart.  The goal is to move the cart right or left in order to keep the pole pointing up."
   ]
  },
  {
   "cell_type": "code",
   "execution_count": 8,
   "id": "10e53a91",
   "metadata": {
    "execution": {
     "iopub.execute_input": "2025-06-19T00:35:12.824882Z",
     "iopub.status.busy": "2025-06-19T00:35:12.824080Z",
     "iopub.status.idle": "2025-06-19T00:35:13.321498Z",
     "shell.execute_reply": "2025-06-19T00:35:13.320492Z"
    },
    "id": "RlO7WIQHu_7D",
    "papermill": {
     "duration": 0.526192,
     "end_time": "2025-06-19T00:35:13.323175",
     "exception": false,
     "start_time": "2025-06-19T00:35:12.796983",
     "status": "completed"
    },
    "tags": []
   },
   "outputs": [
    {
     "name": "stderr",
     "output_type": "stream",
     "text": [
      "ALSA lib confmisc.c:855:(parse_card) cannot find card '0'\n",
      "ALSA lib conf.c:5180:(_snd_config_evaluate) function snd_func_card_inum returned error: No such file or directory\n",
      "ALSA lib confmisc.c:422:(snd_func_concat) error evaluating strings\n",
      "ALSA lib conf.c:5180:(_snd_config_evaluate) function snd_func_concat returned error: No such file or directory\n",
      "ALSA lib confmisc.c:1334:(snd_func_refer) error evaluating name\n",
      "ALSA lib conf.c:5180:(_snd_config_evaluate) function snd_func_refer returned error: No such file or directory\n",
      "ALSA lib conf.c:5703:(snd_config_expand) Evaluate error: No such file or directory\n",
      "ALSA lib pcm.c:2666:(snd_pcm_open_noupdate) Unknown PCM default\n"
     ]
    },
    {
     "data": {
      "image/png": "[encoded data removed]",
      "text/plain": [
       "<PIL.Image.Image image mode=RGB size=600x400>"
      ]
     },
     "execution_count": 8,
     "metadata": {},
     "output_type": "execute_result"
    }
   ],
   "source": [
    "#@test {\"skip\": true}\n",
    "env.reset()\n",
    "PIL.Image.fromarray(env.render())"
   ]
  },
  {
   "cell_type": "markdown",
   "id": "1ba903c5",
   "metadata": {
    "id": "B9_lskPOey18",
    "papermill": {
     "duration": 0.02602,
     "end_time": "2025-06-19T00:35:13.377939",
     "exception": false,
     "start_time": "2025-06-19T00:35:13.351919",
     "status": "completed"
    },
    "tags": []
   },
   "source": [
    "The `environment.step` method takes an `action` in the environment and returns a `TimeStep` tuple containing the next observation of the environment and the reward for the action.\n",
    "\n",
    "The `time_step_spec()` method returns the specification for the `TimeStep` tuple. Its `observation` attribute shows the shape of observations, the data types, and the ranges of allowed values. The `reward` attribute shows the same details for the reward.\n"
   ]
  },
  {
   "cell_type": "code",
   "execution_count": 9,
   "id": "fff21309",
   "metadata": {
    "execution": {
     "iopub.execute_input": "2025-06-19T00:35:13.431102Z",
     "iopub.status.busy": "2025-06-19T00:35:13.430729Z",
     "iopub.status.idle": "2025-06-19T00:35:13.438434Z",
     "shell.execute_reply": "2025-06-19T00:35:13.437494Z"
    },
    "id": "exDv57iHfwQV",
    "papermill": {
     "duration": 0.036436,
     "end_time": "2025-06-19T00:35:13.440269",
     "exception": false,
     "start_time": "2025-06-19T00:35:13.403833",
     "status": "completed"
    },
    "tags": []
   },
   "outputs": [
    {
     "name": "stdout",
     "output_type": "stream",
     "text": [
      "Observation Spec:\n",
      "BoundedArraySpec(shape=(4,), dtype=dtype('float32'), name='observation', minimum=[-4.8000002e+00 -3.4028235e+38 -4.1887903e-01 -3.4028235e+38], maximum=[4.8000002e+00 3.4028235e+38 4.1887903e-01 3.4028235e+38])\n"
     ]
    }
   ],
   "source": [
    "print('Observation Spec:')\n",
    "print(env.time_step_spec().observation)"
   ]
  },
  {
   "cell_type": "code",
   "execution_count": 10,
   "id": "d8c491a6",
   "metadata": {
    "execution": {
     "iopub.execute_input": "2025-06-19T00:35:13.494622Z",
     "iopub.status.busy": "2025-06-19T00:35:13.493971Z",
     "iopub.status.idle": "2025-06-19T00:35:13.498361Z",
     "shell.execute_reply": "2025-06-19T00:35:13.497590Z"
    },
    "id": "UxiSyCbBUQPi",
    "papermill": {
     "duration": 0.033918,
     "end_time": "2025-06-19T00:35:13.500371",
     "exception": false,
     "start_time": "2025-06-19T00:35:13.466453",
     "status": "completed"
    },
    "tags": []
   },
   "outputs": [
    {
     "name": "stdout",
     "output_type": "stream",
     "text": [
      "Reward Spec:\n",
      "ArraySpec(shape=(), dtype=dtype('float32'), name='reward')\n"
     ]
    }
   ],
   "source": [
    "print('Reward Spec:')\n",
    "print(env.time_step_spec().reward)"
   ]
  },
  {
   "cell_type": "markdown",
   "id": "95d77e48",
   "metadata": {
    "id": "b_lHcIcqUaqB",
    "papermill": {
     "duration": 0.025728,
     "end_time": "2025-06-19T00:35:13.551812",
     "exception": false,
     "start_time": "2025-06-19T00:35:13.526084",
     "status": "completed"
    },
    "tags": []
   },
   "source": [
    "The `action_spec()` method returns the shape, data types, and allowed values of valid actions."
   ]
  },
  {
   "cell_type": "code",
   "execution_count": 11,
   "id": "7b85f3cc",
   "metadata": {
    "execution": {
     "iopub.execute_input": "2025-06-19T00:35:13.605164Z",
     "iopub.status.busy": "2025-06-19T00:35:13.604544Z",
     "iopub.status.idle": "2025-06-19T00:35:13.609273Z",
     "shell.execute_reply": "2025-06-19T00:35:13.608415Z"
    },
    "id": "bttJ4uxZUQBr",
    "papermill": {
     "duration": 0.033518,
     "end_time": "2025-06-19T00:35:13.610985",
     "exception": false,
     "start_time": "2025-06-19T00:35:13.577467",
     "status": "completed"
    },
    "tags": []
   },
   "outputs": [
    {
     "name": "stdout",
     "output_type": "stream",
     "text": [
      "Action Spec:\n",
      "BoundedArraySpec(shape=(), dtype=dtype('int64'), name='action', minimum=0, maximum=1)\n"
     ]
    }
   ],
   "source": [
    "print('Action Spec:')\n",
    "print(env.action_spec())"
   ]
  },
  {
   "cell_type": "markdown",
   "id": "59e86dd5",
   "metadata": {
    "id": "eJCgJnx3g0yY",
    "papermill": {
     "duration": 0.025475,
     "end_time": "2025-06-19T00:35:13.662509",
     "exception": false,
     "start_time": "2025-06-19T00:35:13.637034",
     "status": "completed"
    },
    "tags": []
   },
   "source": [
    "In the Cartpole environment:\n",
    "\n",
    "-   `observation` is an array of 4 floats: \n",
    "    -   the position and velocity of the cart\n",
    "    -   the angular position and velocity of the pole \n",
    "-   `reward` is a scalar float value\n",
    "-   `action` is a scalar integer with only two possible values:\n",
    "    -   `0` — \"move left\"\n",
    "    -   `1` — \"move right\"\n"
   ]
  },
  {
   "cell_type": "code",
   "execution_count": 12,
   "id": "0909f8dd",
   "metadata": {
    "execution": {
     "iopub.execute_input": "2025-06-19T00:35:13.715302Z",
     "iopub.status.busy": "2025-06-19T00:35:13.714985Z",
     "iopub.status.idle": "2025-06-19T00:35:13.725890Z",
     "shell.execute_reply": "2025-06-19T00:35:13.725002Z"
    },
    "id": "V2UGR5t_iZX-",
    "papermill": {
     "duration": 0.039678,
     "end_time": "2025-06-19T00:35:13.727742",
     "exception": false,
     "start_time": "2025-06-19T00:35:13.688064",
     "status": "completed"
    },
    "tags": []
   },
   "outputs": [
    {
     "name": "stdout",
     "output_type": "stream",
     "text": [
      "Time step:\n",
      "TimeStep(\n",
      "{'step_type': array(0, dtype=int32),\n",
      " 'reward': array(0., dtype=float32),\n",
      " 'discount': array(1., dtype=float32),\n",
      " 'observation': array([-0.01786604,  0.03488692,  0.00296082, -0.04627619], dtype=float32)})\n",
      "Next time step:\n",
      "TimeStep(\n",
      "{'step_type': array(1, dtype=int32),\n",
      " 'reward': array(1., dtype=float32),\n",
      " 'discount': array(1., dtype=float32),\n",
      " 'observation': array([-0.0171683 ,  0.22996628,  0.0020353 , -0.33802348], dtype=float32)})\n"
     ]
    }
   ],
   "source": [
    "time_step = env.reset()\n",
    "print('Time step:')\n",
    "print(time_step)\n",
    "\n",
    "action = np.array(1, dtype=np.int32)\n",
    "\n",
    "next_time_step = env.step(action)\n",
    "print('Next time step:')\n",
    "print(next_time_step)"
   ]
  },
  {
   "cell_type": "markdown",
   "id": "05fe0571",
   "metadata": {
    "id": "4JSc9GviWUBK",
    "papermill": {
     "duration": 0.025772,
     "end_time": "2025-06-19T00:35:13.779707",
     "exception": false,
     "start_time": "2025-06-19T00:35:13.753935",
     "status": "completed"
    },
    "tags": []
   },
   "source": [
    "Usually two environments are instantiated: one for training and one for evaluation. "
   ]
  },
  {
   "cell_type": "code",
   "execution_count": 13,
   "id": "d0824baa",
   "metadata": {
    "execution": {
     "iopub.execute_input": "2025-06-19T00:35:13.832768Z",
     "iopub.status.busy": "2025-06-19T00:35:13.832461Z",
     "iopub.status.idle": "2025-06-19T00:35:13.839281Z",
     "shell.execute_reply": "2025-06-19T00:35:13.838372Z"
    },
    "id": "N7brXNIGWXjC",
    "papermill": {
     "duration": 0.035497,
     "end_time": "2025-06-19T00:35:13.841014",
     "exception": false,
     "start_time": "2025-06-19T00:35:13.805517",
     "status": "completed"
    },
    "tags": []
   },
   "outputs": [],
   "source": [
    "train_py_env = suite_gym.load(env_name)\n",
    "eval_py_env = suite_gym.load(env_name)"
   ]
  },
  {
   "cell_type": "markdown",
   "id": "bd02a458",
   "metadata": {
    "id": "zuUqXAVmecTU",
    "papermill": {
     "duration": 0.026238,
     "end_time": "2025-06-19T00:35:13.894222",
     "exception": false,
     "start_time": "2025-06-19T00:35:13.867984",
     "status": "completed"
    },
    "tags": []
   },
   "source": [
    "The Cartpole environment, like most environments, is written in pure Python. This is converted to TensorFlow using the `TFPyEnvironment` wrapper.\n",
    "\n",
    "The original environment's API uses Numpy arrays. The `TFPyEnvironment` converts these to `Tensors` to make it compatible with Tensorflow agents and policies.\n"
   ]
  },
  {
   "cell_type": "code",
   "execution_count": 14,
   "id": "184a77b3",
   "metadata": {
    "execution": {
     "iopub.execute_input": "2025-06-19T00:35:13.948044Z",
     "iopub.status.busy": "2025-06-19T00:35:13.947331Z",
     "iopub.status.idle": "2025-06-19T00:35:13.971443Z",
     "shell.execute_reply": "2025-06-19T00:35:13.970771Z"
    },
    "id": "Xp-Y4mD6eDhF",
    "papermill": {
     "duration": 0.052986,
     "end_time": "2025-06-19T00:35:13.973242",
     "exception": false,
     "start_time": "2025-06-19T00:35:13.920256",
     "status": "completed"
    },
    "tags": []
   },
   "outputs": [],
   "source": [
    "train_env = tf_py_environment.TFPyEnvironment(train_py_env)\n",
    "eval_env = tf_py_environment.TFPyEnvironment(eval_py_env)"
   ]
  },
  {
   "cell_type": "markdown",
   "id": "81d3ceda",
   "metadata": {
    "id": "E9lW_OZYFR8A",
    "papermill": {
     "duration": 0.026067,
     "end_time": "2025-06-19T00:35:14.026467",
     "exception": false,
     "start_time": "2025-06-19T00:35:14.000400",
     "status": "completed"
    },
    "tags": []
   },
   "source": [
    "## Agent\n",
    "\n",
    "The algorithm used to solve an RL problem is represented by an `Agent`. TF-Agents provides standard implementations of a variety of `Agents`, including:\n",
    "\n",
    "-   [DQN](https://storage.googleapis.com/deepmind-media/dqn/DQNNaturePaper.pdf) (used in this tutorial)\n",
    "-   [REINFORCE](https://www-anw.cs.umass.edu/~barto/courses/cs687/williams92simple.pdf)\n",
    "-   [DDPG](https://arxiv.org/pdf/1509.02971.pdf)\n",
    "-   [TD3](https://arxiv.org/pdf/1802.09477.pdf)\n",
    "-   [PPO](https://arxiv.org/abs/1707.06347)\n",
    "-   [SAC](https://arxiv.org/abs/1801.01290)\n",
    "\n",
    "The DQN agent can be used in any environment which has a discrete action space.\n",
    "\n",
    "At the heart of a DQN Agent is a `QNetwork`, a neural network model that can learn to predict `QValues` (expected returns) for all actions, given an observation from the environment.\n",
    "\n",
    "We will use `tf_agents.networks.` to create a `QNetwork`. The network will consist of a sequence of `tf.keras.layers.Dense` layers, where the final layer will have 1 output for each possible action."
   ]
  },
  {
   "cell_type": "code",
   "execution_count": 15,
   "id": "a3269636",
   "metadata": {
    "execution": {
     "iopub.execute_input": "2025-06-19T00:35:14.080514Z",
     "iopub.status.busy": "2025-06-19T00:35:14.079838Z",
     "iopub.status.idle": "2025-06-19T00:35:14.102124Z",
     "shell.execute_reply": "2025-06-19T00:35:14.101487Z"
    },
    "id": "TgkdEPg_muzV",
    "papermill": {
     "duration": 0.05122,
     "end_time": "2025-06-19T00:35:14.103875",
     "exception": false,
     "start_time": "2025-06-19T00:35:14.052655",
     "status": "completed"
    },
    "tags": []
   },
   "outputs": [],
   "source": [
    "fc_layer_params = (100, 50)\n",
    "action_tensor_spec = tensor_spec.from_spec(env.action_spec())\n",
    "num_actions = action_tensor_spec.maximum - action_tensor_spec.minimum + 1\n",
    "\n",
    "# Define a helper function to create Dense layers configured with the right\n",
    "# activation and kernel initializer.\n",
    "def dense_layer(num_units):\n",
    "  return tf.keras.layers.Dense(\n",
    "      num_units,\n",
    "      activation=tf.keras.activations.relu,\n",
    "      kernel_initializer=tf.keras.initializers.VarianceScaling(\n",
    "          scale=2.0, mode='fan_in', distribution='truncated_normal'))\n",
    "\n",
    "# QNetwork consists of a sequence of Dense layers followed by a dense layer\n",
    "# with `num_actions` units to generate one q_value per available action as\n",
    "# its output.\n",
    "dense_layers = [dense_layer(num_units) for num_units in fc_layer_params]\n",
    "q_values_layer = tf.keras.layers.Dense(\n",
    "    num_actions,\n",
    "    activation=None,\n",
    "    kernel_initializer=tf.keras.initializers.RandomUniform(\n",
    "        minval=-0.03, maxval=0.03),\n",
    "    bias_initializer=tf.keras.initializers.Constant(-0.2))\n",
    "q_net = sequential.Sequential(dense_layers + [q_values_layer])"
   ]
  },
  {
   "cell_type": "markdown",
   "id": "13daec54",
   "metadata": {
    "id": "z62u55hSmviJ",
    "papermill": {
     "duration": 0.026403,
     "end_time": "2025-06-19T00:35:14.157002",
     "exception": false,
     "start_time": "2025-06-19T00:35:14.130599",
     "status": "completed"
    },
    "tags": []
   },
   "source": [
    "Now use `tf_agents.agents.dqn.dqn_agent` to instantiate a `DqnAgent`. In addition to the `time_step_spec`, `action_spec` and the QNetwork, the agent constructor also requires an optimizer (in this case, `AdamOptimizer`), a loss function, and an integer step counter."
   ]
  },
  {
   "cell_type": "code",
   "execution_count": 16,
   "id": "0d353966",
   "metadata": {
    "execution": {
     "iopub.execute_input": "2025-06-19T00:35:14.210510Z",
     "iopub.status.busy": "2025-06-19T00:35:14.210203Z",
     "iopub.status.idle": "2025-06-19T00:35:14.621026Z",
     "shell.execute_reply": "2025-06-19T00:35:14.620061Z"
    },
    "id": "jbY4yrjTEyc9",
    "papermill": {
     "duration": 0.439747,
     "end_time": "2025-06-19T00:35:14.623146",
     "exception": false,
     "start_time": "2025-06-19T00:35:14.183399",
     "status": "completed"
    },
    "tags": []
   },
   "outputs": [],
   "source": [
    "optimizer = tf.keras.optimizers.Adam(learning_rate=learning_rate)\n",
    "\n",
    "train_step_counter = tf.Variable(0)\n",
    "\n",
    "agent = dqn_agent.DqnAgent(\n",
    "    train_env.time_step_spec(),\n",
    "    train_env.action_spec(),\n",
    "    q_network=q_net,\n",
    "    optimizer=optimizer,\n",
    "    td_errors_loss_fn=common.element_wise_squared_loss,\n",
    "    train_step_counter=train_step_counter)\n",
    "\n",
    "agent.initialize()"
   ]
  },
  {
   "cell_type": "markdown",
   "id": "c392bf3d",
   "metadata": {
    "id": "I0KLrEPwkn5x",
    "papermill": {
     "duration": 0.025698,
     "end_time": "2025-06-19T00:35:14.675569",
     "exception": false,
     "start_time": "2025-06-19T00:35:14.649871",
     "status": "completed"
    },
    "tags": []
   },
   "source": [
    "## Policies\n",
    "\n",
    "A policy defines the way an agent acts in an environment. Typically, the goal of reinforcement learning is to train the underlying model until the policy produces the desired outcome.\n",
    "\n",
    "In this tutorial:\n",
    "\n",
    "-   The desired outcome is keeping the pole balanced upright over the cart.\n",
    "-   The policy returns an action (left or right) for each `time_step` observation.\n",
    "\n",
    "Agents contain two policies: \n",
    "\n",
    "-   `agent.policy` — The main policy that is used for evaluation and deployment.\n",
    "-   `agent.collect_policy` — A second policy that is used for data collection.\n"
   ]
  },
  {
   "cell_type": "code",
   "execution_count": 17,
   "id": "dd04aaad",
   "metadata": {
    "execution": {
     "iopub.execute_input": "2025-06-19T00:35:14.729091Z",
     "iopub.status.busy": "2025-06-19T00:35:14.728387Z",
     "iopub.status.idle": "2025-06-19T00:35:14.732350Z",
     "shell.execute_reply": "2025-06-19T00:35:14.731530Z"
    },
    "id": "BwY7StuMkuV4",
    "papermill": {
     "duration": 0.032373,
     "end_time": "2025-06-19T00:35:14.733953",
     "exception": false,
     "start_time": "2025-06-19T00:35:14.701580",
     "status": "completed"
    },
    "tags": []
   },
   "outputs": [],
   "source": [
    "eval_policy = agent.policy\n",
    "collect_policy = agent.collect_policy"
   ]
  },
  {
   "cell_type": "markdown",
   "id": "3742d5be",
   "metadata": {
    "id": "2Qs1Fl3dV0ae",
    "papermill": {
     "duration": 0.025405,
     "end_time": "2025-06-19T00:35:14.785202",
     "exception": false,
     "start_time": "2025-06-19T00:35:14.759797",
     "status": "completed"
    },
    "tags": []
   },
   "source": [
    "Policies can be created independently of agents. For example, use `tf_agents.policies.random_tf_policy` to create a policy which will randomly select an action for each `time_step`."
   ]
  },
  {
   "cell_type": "code",
   "execution_count": 18,
   "id": "10e270a6",
   "metadata": {
    "execution": {
     "iopub.execute_input": "2025-06-19T00:35:14.837955Z",
     "iopub.status.busy": "2025-06-19T00:35:14.837331Z",
     "iopub.status.idle": "2025-06-19T00:35:14.841616Z",
     "shell.execute_reply": "2025-06-19T00:35:14.840839Z"
    },
    "id": "HE37-UCIrE69",
    "papermill": {
     "duration": 0.032452,
     "end_time": "2025-06-19T00:35:14.843267",
     "exception": false,
     "start_time": "2025-06-19T00:35:14.810815",
     "status": "completed"
    },
    "tags": []
   },
   "outputs": [],
   "source": [
    "random_policy = random_tf_policy.RandomTFPolicy(train_env.time_step_spec(),\n",
    "                                                train_env.action_spec())"
   ]
  },
  {
   "cell_type": "markdown",
   "id": "063487f9",
   "metadata": {
    "id": "dOlnlRRsUbxP",
    "papermill": {
     "duration": 0.025494,
     "end_time": "2025-06-19T00:35:14.895031",
     "exception": false,
     "start_time": "2025-06-19T00:35:14.869537",
     "status": "completed"
    },
    "tags": []
   },
   "source": [
    "To get an action from a policy, call the `policy.action(time_step)` method. The `time_step` contains the observation from the environment. This method returns a `PolicyStep`, which is a named tuple with three components:\n",
    "\n",
    "-   `action` — the action to be taken (in this case, `0` or `1`)\n",
    "-   `state` — used for stateful (that is, RNN-based) policies\n",
    "-   `info` — auxiliary data, such as log probabilities of actions"
   ]
  },
  {
   "cell_type": "code",
   "execution_count": 19,
   "id": "c1e5ae7f",
   "metadata": {
    "execution": {
     "iopub.execute_input": "2025-06-19T00:35:14.947372Z",
     "iopub.status.busy": "2025-06-19T00:35:14.947031Z",
     "iopub.status.idle": "2025-06-19T00:35:14.954953Z",
     "shell.execute_reply": "2025-06-19T00:35:14.954337Z"
    },
    "id": "5gCcpXswVAxk",
    "papermill": {
     "duration": 0.036043,
     "end_time": "2025-06-19T00:35:14.956569",
     "exception": false,
     "start_time": "2025-06-19T00:35:14.920526",
     "status": "completed"
    },
    "tags": []
   },
   "outputs": [],
   "source": [
    "example_environment = tf_py_environment.TFPyEnvironment(\n",
    "    suite_gym.load('CartPole-v0'))"
   ]
  },
  {
   "cell_type": "code",
   "execution_count": 20,
   "id": "5817dccf",
   "metadata": {
    "execution": {
     "iopub.execute_input": "2025-06-19T00:35:15.010313Z",
     "iopub.status.busy": "2025-06-19T00:35:15.010031Z",
     "iopub.status.idle": "2025-06-19T00:35:15.015746Z",
     "shell.execute_reply": "2025-06-19T00:35:15.015123Z"
    },
    "id": "D4DHZtq3Ndis",
    "papermill": {
     "duration": 0.034618,
     "end_time": "2025-06-19T00:35:15.017329",
     "exception": false,
     "start_time": "2025-06-19T00:35:14.982711",
     "status": "completed"
    },
    "tags": []
   },
   "outputs": [],
   "source": [
    "time_step = example_environment.reset()"
   ]
  },
  {
   "cell_type": "code",
   "execution_count": 21,
   "id": "6e0adc14",
   "metadata": {
    "execution": {
     "iopub.execute_input": "2025-06-19T00:35:15.070258Z",
     "iopub.status.busy": "2025-06-19T00:35:15.069962Z",
     "iopub.status.idle": "2025-06-19T00:35:15.081477Z",
     "shell.execute_reply": "2025-06-19T00:35:15.080820Z"
    },
    "id": "PRFqAUzpNaAW",
    "papermill": {
     "duration": 0.039932,
     "end_time": "2025-06-19T00:35:15.083052",
     "exception": false,
     "start_time": "2025-06-19T00:35:15.043120",
     "status": "completed"
    },
    "tags": []
   },
   "outputs": [
    {
     "data": {
      "text/plain": [
       "PolicyStep(action=<tf.Tensor: shape=(1,), dtype=int64, numpy=array([1])>, state=(), info=())"
      ]
     },
     "execution_count": 21,
     "metadata": {},
     "output_type": "execute_result"
    }
   ],
   "source": [
    "random_policy.action(time_step)"
   ]
  },
  {
   "cell_type": "markdown",
   "id": "8b54f203",
   "metadata": {
    "id": "94rCXQtbUbXv",
    "papermill": {
     "duration": 0.025997,
     "end_time": "2025-06-19T00:35:15.135033",
     "exception": false,
     "start_time": "2025-06-19T00:35:15.109036",
     "status": "completed"
    },
    "tags": []
   },
   "source": [
    "## Metrics and Evaluation\n",
    "\n",
    "The most common metric used to evaluate a policy is the average return. The return is the sum of rewards obtained while running a policy in an environment for an episode. Several episodes are run, creating an average return.\n",
    "\n",
    "The following function computes the average return of a policy, given the policy, environment, and a number of episodes.\n"
   ]
  },
  {
   "cell_type": "code",
   "execution_count": 22,
   "id": "b170ba26",
   "metadata": {
    "execution": {
     "iopub.execute_input": "2025-06-19T00:35:15.188050Z",
     "iopub.status.busy": "2025-06-19T00:35:15.187772Z",
     "iopub.status.idle": "2025-06-19T00:35:15.192750Z",
     "shell.execute_reply": "2025-06-19T00:35:15.192052Z"
    },
    "id": "bitzHo5_UbXy",
    "papermill": {
     "duration": 0.033311,
     "end_time": "2025-06-19T00:35:15.194222",
     "exception": false,
     "start_time": "2025-06-19T00:35:15.160911",
     "status": "completed"
    },
    "tags": []
   },
   "outputs": [],
   "source": [
    "#@test {\"skip\": true}\n",
    "def compute_avg_return(environment, policy, num_episodes=10):\n",
    "\n",
    "  total_return = 0.0\n",
    "  for _ in range(num_episodes):\n",
    "\n",
    "    time_step = environment.reset()\n",
    "    episode_return = 0.0\n",
    "\n",
    "    while not time_step.is_last():\n",
    "      action_step = policy.action(time_step)\n",
    "      time_step = environment.step(action_step.action)\n",
    "      episode_return += time_step.reward\n",
    "    total_return += episode_return\n",
    "\n",
    "  avg_return = total_return / num_episodes\n",
    "  return avg_return.numpy()[0]\n",
    "\n",
    "\n",
    "# See also the metrics module for standard implementations of different metrics.\n",
    "# https://github.com/tensorflow/agents/tree/master/tf_agents/metrics"
   ]
  },
  {
   "cell_type": "markdown",
   "id": "2b43ef6f",
   "metadata": {
    "id": "_snCVvq5Z8lJ",
    "papermill": {
     "duration": 0.025505,
     "end_time": "2025-06-19T00:35:15.245384",
     "exception": false,
     "start_time": "2025-06-19T00:35:15.219879",
     "status": "completed"
    },
    "tags": []
   },
   "source": [
    "Running this computation on the `random_policy` shows a baseline performance in the environment."
   ]
  },
  {
   "cell_type": "code",
   "execution_count": 23,
   "id": "6a80ef82",
   "metadata": {
    "execution": {
     "iopub.execute_input": "2025-06-19T00:35:15.298606Z",
     "iopub.status.busy": "2025-06-19T00:35:15.298291Z",
     "iopub.status.idle": "2025-06-19T00:35:15.730756Z",
     "shell.execute_reply": "2025-06-19T00:35:15.729887Z"
    },
    "id": "9bgU6Q6BZ8Bp",
    "papermill": {
     "duration": 0.461184,
     "end_time": "2025-06-19T00:35:15.732476",
     "exception": false,
     "start_time": "2025-06-19T00:35:15.271292",
     "status": "completed"
    },
    "tags": []
   },
   "outputs": [
    {
     "data": {
      "text/plain": [
       "18.3"
      ]
     },
     "execution_count": 23,
     "metadata": {},
     "output_type": "execute_result"
    }
   ],
   "source": [
    "compute_avg_return(eval_env, random_policy, num_eval_episodes)"
   ]
  },
  {
   "cell_type": "markdown",
   "id": "ed9635a5",
   "metadata": {
    "id": "NLva6g2jdWgr",
    "papermill": {
     "duration": 0.025881,
     "end_time": "2025-06-19T00:35:15.785194",
     "exception": false,
     "start_time": "2025-06-19T00:35:15.759313",
     "status": "completed"
    },
    "tags": []
   },
   "source": [
    "## Replay Buffer\n",
    "\n",
    "In order to keep track of the data collected from the environment, we will use [Reverb](https://deepmind.com/research/open-source/Reverb), an efficient, extensible, and easy-to-use replay system by Deepmind. It stores experience data when we collect trajectories and is consumed during training.\n",
    "\n",
    "This replay buffer is constructed using specs describing the tensors that are to be stored, which can be obtained from the agent using agent.collect_data_spec.\n"
   ]
  },
  {
   "cell_type": "code",
   "execution_count": 24,
   "id": "ba07bca6",
   "metadata": {
    "execution": {
     "iopub.execute_input": "2025-06-19T00:35:15.838732Z",
     "iopub.status.busy": "2025-06-19T00:35:15.838049Z",
     "iopub.status.idle": "2025-06-19T00:35:15.855399Z",
     "shell.execute_reply": "2025-06-19T00:35:15.854441Z"
    },
    "id": "vX2zGUWJGWAl",
    "papermill": {
     "duration": 0.046217,
     "end_time": "2025-06-19T00:35:15.857117",
     "exception": false,
     "start_time": "2025-06-19T00:35:15.810900",
     "status": "completed"
    },
    "tags": []
   },
   "outputs": [
    {
     "name": "stderr",
     "output_type": "stream",
     "text": [
      "[reverb/cc/platform/tfrecord_checkpointer.cc:162]  Initializing TFRecordCheckpointer in /tmp/tmpp2o_krbw.\n",
      "[reverb/cc/platform/tfrecord_checkpointer.cc:565] Loading latest checkpoint from /tmp/tmpp2o_krbw\n",
      "[reverb/cc/platform/default/server.cc:71] Started replay server on port 44809\n"
     ]
    }
   ],
   "source": [
    "table_name = 'uniform_table'\n",
    "replay_buffer_signature = tensor_spec.from_spec(\n",
    "      agent.collect_data_spec)\n",
    "replay_buffer_signature = tensor_spec.add_outer_dim(\n",
    "    replay_buffer_signature)\n",
    "\n",
    "table = reverb.Table(\n",
    "    table_name,\n",
    "    max_size=replay_buffer_max_length,\n",
    "    sampler=reverb.selectors.Uniform(),\n",
    "    remover=reverb.selectors.Fifo(),\n",
    "    rate_limiter=reverb.rate_limiters.MinSize(1),\n",
    "    signature=replay_buffer_signature)\n",
    "\n",
    "reverb_server = reverb.Server([table])\n",
    "\n",
    "replay_buffer = reverb_replay_buffer.ReverbReplayBuffer(\n",
    "    agent.collect_data_spec,\n",
    "    table_name=table_name,\n",
    "    sequence_length=2,\n",
    "    local_server=reverb_server)\n",
    "\n",
    "rb_observer = reverb_utils.ReverbAddTrajectoryObserver(\n",
    "  replay_buffer.py_client,\n",
    "  table_name,\n",
    "  sequence_length=2)"
   ]
  },
  {
   "cell_type": "markdown",
   "id": "59723b59",
   "metadata": {
    "id": "ZGNTDJpZs4NN",
    "papermill": {
     "duration": 0.026059,
     "end_time": "2025-06-19T00:35:15.909506",
     "exception": false,
     "start_time": "2025-06-19T00:35:15.883447",
     "status": "completed"
    },
    "tags": []
   },
   "source": [
    "For most agents, `collect_data_spec` is a named tuple called `Trajectory`, containing the specs for observations, actions, rewards, and other items."
   ]
  },
  {
   "cell_type": "code",
   "execution_count": 25,
   "id": "ed26f3d2",
   "metadata": {
    "execution": {
     "iopub.execute_input": "2025-06-19T00:35:15.963011Z",
     "iopub.status.busy": "2025-06-19T00:35:15.962700Z",
     "iopub.status.idle": "2025-06-19T00:35:15.969430Z",
     "shell.execute_reply": "2025-06-19T00:35:15.968613Z"
    },
    "id": "_IZ-3HcqgE1z",
    "papermill": {
     "duration": 0.035518,
     "end_time": "2025-06-19T00:35:15.971210",
     "exception": false,
     "start_time": "2025-06-19T00:35:15.935692",
     "status": "completed"
    },
    "tags": []
   },
   "outputs": [
    {
     "data": {
      "text/plain": [
       "Trajectory(\n",
       "{'step_type': TensorSpec(shape=(), dtype=tf.int32, name='step_type'),\n",
       " 'observation': BoundedTensorSpec(shape=(4,), dtype=tf.float32, name='observation', minimum=array([-4.8000002e+00, -3.4028235e+38, -4.1887903e-01, -3.4028235e+38],\n",
       "      dtype=float32), maximum=array([4.8000002e+00, 3.4028235e+38, 4.1887903e-01, 3.4028235e+38],\n",
       "      dtype=float32)),\n",
       " 'action': BoundedTensorSpec(shape=(), dtype=tf.int64, name='action', minimum=array(0), maximum=array(1)),\n",
       " 'policy_info': (),\n",
       " 'next_step_type': TensorSpec(shape=(), dtype=tf.int32, name='step_type'),\n",
       " 'reward': TensorSpec(shape=(), dtype=tf.float32, name='reward'),\n",
       " 'discount': BoundedTensorSpec(shape=(), dtype=tf.float32, name='discount', minimum=array(0., dtype=float32), maximum=array(1., dtype=float32))})"
      ]
     },
     "execution_count": 25,
     "metadata": {},
     "output_type": "execute_result"
    }
   ],
   "source": [
    "agent.collect_data_spec"
   ]
  },
  {
   "cell_type": "code",
   "execution_count": 26,
   "id": "3f0e8f03",
   "metadata": {
    "execution": {
     "iopub.execute_input": "2025-06-19T00:35:16.025948Z",
     "iopub.status.busy": "2025-06-19T00:35:16.025663Z",
     "iopub.status.idle": "2025-06-19T00:35:16.030832Z",
     "shell.execute_reply": "2025-06-19T00:35:16.030034Z"
    },
    "id": "sy6g1tGcfRlw",
    "papermill": {
     "duration": 0.034599,
     "end_time": "2025-06-19T00:35:16.032383",
     "exception": false,
     "start_time": "2025-06-19T00:35:15.997784",
     "status": "completed"
    },
    "tags": []
   },
   "outputs": [
    {
     "data": {
      "text/plain": [
       "('step_type',\n",
       " 'observation',\n",
       " 'action',\n",
       " 'policy_info',\n",
       " 'next_step_type',\n",
       " 'reward',\n",
       " 'discount')"
      ]
     },
     "execution_count": 26,
     "metadata": {},
     "output_type": "execute_result"
    }
   ],
   "source": [
    "agent.collect_data_spec._fields"
   ]
  },
  {
   "cell_type": "markdown",
   "id": "71aa0292",
   "metadata": {
    "id": "rVD5nQ9ZGo8_",
    "papermill": {
     "duration": 0.02583,
     "end_time": "2025-06-19T00:35:16.084584",
     "exception": false,
     "start_time": "2025-06-19T00:35:16.058754",
     "status": "completed"
    },
    "tags": []
   },
   "source": [
    "## Data Collection\n",
    "\n",
    "Now execute the random policy in the environment for a few steps, recording the data in the replay buffer.\n",
    "\n",
    "Here we are using 'PyDriver' to run the experience collecting loop. You can learn more about TF Agents driver in our [drivers tutorial](https://www.tensorflow.org/agents/tutorials/4_drivers_tutorial)."
   ]
  },
  {
   "cell_type": "code",
   "execution_count": 27,
   "id": "210d7e2a",
   "metadata": {
    "execution": {
     "iopub.execute_input": "2025-06-19T00:35:16.138422Z",
     "iopub.status.busy": "2025-06-19T00:35:16.138089Z",
     "iopub.status.idle": "2025-06-19T00:35:16.355138Z",
     "shell.execute_reply": "2025-06-19T00:35:16.354136Z"
    },
    "id": "wr1KSAEGG4h9",
    "papermill": {
     "duration": 0.246111,
     "end_time": "2025-06-19T00:35:16.356983",
     "exception": false,
     "start_time": "2025-06-19T00:35:16.110872",
     "status": "completed"
    },
    "tags": []
   },
   "outputs": [
    {
     "data": {
      "text/plain": [
       "(TimeStep(\n",
       " {'step_type': array(1, dtype=int32),\n",
       "  'reward': array(1., dtype=float32),\n",
       "  'discount': array(1., dtype=float32),\n",
       "  'observation': array([ 0.12821037,  0.22296095, -0.16243851, -0.53447497], dtype=float32)}),\n",
       " ())"
      ]
     },
     "execution_count": 27,
     "metadata": {},
     "output_type": "execute_result"
    }
   ],
   "source": [
    "#@test {\"skip\": true}\n",
    "py_driver.PyDriver(\n",
    "    env,\n",
    "    py_tf_eager_policy.PyTFEagerPolicy(\n",
    "      random_policy, use_tf_function=True),\n",
    "    [rb_observer],\n",
    "    max_steps=initial_collect_steps).run(train_py_env.reset())"
   ]
  },
  {
   "cell_type": "markdown",
   "id": "34b4758a",
   "metadata": {
    "id": "84z5pQJdoKxo",
    "papermill": {
     "duration": 0.026456,
     "end_time": "2025-06-19T00:35:16.410279",
     "exception": false,
     "start_time": "2025-06-19T00:35:16.383823",
     "status": "completed"
    },
    "tags": []
   },
   "source": [
    "The replay buffer is now a collection of Trajectories."
   ]
  },
  {
   "cell_type": "code",
   "execution_count": 28,
   "id": "d3962497",
   "metadata": {
    "execution": {
     "iopub.execute_input": "2025-06-19T00:35:16.464367Z",
     "iopub.status.busy": "2025-06-19T00:35:16.464007Z",
     "iopub.status.idle": "2025-06-19T00:35:16.467855Z",
     "shell.execute_reply": "2025-06-19T00:35:16.466990Z"
    },
    "id": "4wZnLu2ViO4E",
    "papermill": {
     "duration": 0.03314,
     "end_time": "2025-06-19T00:35:16.469584",
     "exception": false,
     "start_time": "2025-06-19T00:35:16.436444",
     "status": "completed"
    },
    "tags": []
   },
   "outputs": [],
   "source": [
    "# For the curious:\n",
    "# Uncomment to peel one of these off and inspect it.\n",
    "# iter(replay_buffer.as_dataset()).next()"
   ]
  },
  {
   "cell_type": "markdown",
   "id": "6190ebce",
   "metadata": {
    "id": "TujU-PMUsKjS",
    "papermill": {
     "duration": 0.026068,
     "end_time": "2025-06-19T00:35:16.522972",
     "exception": false,
     "start_time": "2025-06-19T00:35:16.496904",
     "status": "completed"
    },
    "tags": []
   },
   "source": [
    "The agent needs access to the replay buffer. This is provided by creating an iterable `tf.data.Dataset` pipeline which will feed data to the agent.\n",
    "\n",
    "Each row of the replay buffer only stores a single observation step. But since the DQN Agent needs both the current and next observation to compute the loss, the dataset pipeline will sample two adjacent rows for each item in the batch (`num_steps=2`).\n",
    "\n",
    "This dataset is also optimized by running parallel calls and prefetching data."
   ]
  },
  {
   "cell_type": "code",
   "execution_count": 29,
   "id": "885a8d01",
   "metadata": {
    "execution": {
     "iopub.execute_input": "2025-06-19T00:35:16.577506Z",
     "iopub.status.busy": "2025-06-19T00:35:16.576823Z",
     "iopub.status.idle": "2025-06-19T00:35:16.914899Z",
     "shell.execute_reply": "2025-06-19T00:35:16.913995Z"
    },
    "id": "ba7bilizt_qW",
    "papermill": {
     "duration": 0.367181,
     "end_time": "2025-06-19T00:35:16.916626",
     "exception": false,
     "start_time": "2025-06-19T00:35:16.549445",
     "status": "completed"
    },
    "tags": []
   },
   "outputs": [
    {
     "data": {
      "text/plain": [
       "<_PrefetchDataset element_spec=(Trajectory(\n",
       "{'step_type': TensorSpec(shape=(64, 2), dtype=tf.int32, name=None),\n",
       " 'observation': TensorSpec(shape=(64, 2, 4), dtype=tf.float32, name=None),\n",
       " 'action': TensorSpec(shape=(64, 2), dtype=tf.int64, name=None),\n",
       " 'policy_info': (),\n",
       " 'next_step_type': TensorSpec(shape=(64, 2), dtype=tf.int32, name=None),\n",
       " 'reward': TensorSpec(shape=(64, 2), dtype=tf.float32, name=None),\n",
       " 'discount': TensorSpec(shape=(64, 2), dtype=tf.float32, name=None)}), SampleInfo(key=TensorSpec(shape=(64, 2), dtype=tf.uint64, name=None), probability=TensorSpec(shape=(64, 2), dtype=tf.float64, name=None), table_size=TensorSpec(shape=(64, 2), dtype=tf.int64, name=None), priority=TensorSpec(shape=(64, 2), dtype=tf.float64, name=None), times_sampled=TensorSpec(shape=(64, 2), dtype=tf.int32, name=None)))>"
      ]
     },
     "execution_count": 29,
     "metadata": {},
     "output_type": "execute_result"
    }
   ],
   "source": [
    "# Dataset generates trajectories with shape [Bx2x...]\n",
    "dataset = replay_buffer.as_dataset(\n",
    "    num_parallel_calls=3,\n",
    "    sample_batch_size=batch_size,\n",
    "    num_steps=2).prefetch(3)\n",
    "\n",
    "dataset"
   ]
  },
  {
   "cell_type": "code",
   "execution_count": 30,
   "id": "9b315a8f",
   "metadata": {
    "execution": {
     "iopub.execute_input": "2025-06-19T00:35:16.975300Z",
     "iopub.status.busy": "2025-06-19T00:35:16.974923Z",
     "iopub.status.idle": "2025-06-19T00:35:17.052023Z",
     "shell.execute_reply": "2025-06-19T00:35:17.051008Z"
    },
    "id": "K13AST-2ppOq",
    "papermill": {
     "duration": 0.110286,
     "end_time": "2025-06-19T00:35:17.053967",
     "exception": false,
     "start_time": "2025-06-19T00:35:16.943681",
     "status": "completed"
    },
    "tags": []
   },
   "outputs": [
    {
     "name": "stdout",
     "output_type": "stream",
     "text": [
      "<tensorflow.python.data.ops.iterator_ops.OwnedIterator object at 0x78edafbb9ff0>\n"
     ]
    }
   ],
   "source": [
    "iterator = iter(dataset)\n",
    "print(iterator)"
   ]
  },
  {
   "cell_type": "code",
   "execution_count": 31,
   "id": "d3fbb0b0",
   "metadata": {
    "execution": {
     "iopub.execute_input": "2025-06-19T00:35:17.108970Z",
     "iopub.status.busy": "2025-06-19T00:35:17.108651Z",
     "iopub.status.idle": "2025-06-19T00:35:17.112520Z",
     "shell.execute_reply": "2025-06-19T00:35:17.111592Z"
    },
    "id": "Th5w5Sff0b16",
    "papermill": {
     "duration": 0.033403,
     "end_time": "2025-06-19T00:35:17.114396",
     "exception": false,
     "start_time": "2025-06-19T00:35:17.080993",
     "status": "completed"
    },
    "tags": []
   },
   "outputs": [],
   "source": [
    "# For the curious:\n",
    "# Uncomment to see what the dataset iterator is feeding to the agent.\n",
    "# Compare this representation of replay data \n",
    "# to the collection of individual trajectories shown earlier.\n",
    "\n",
    "# iterator.next()"
   ]
  },
  {
   "cell_type": "markdown",
   "id": "00d8c0eb",
   "metadata": {
    "id": "hBc9lj9VWWtZ",
    "papermill": {
     "duration": 0.026047,
     "end_time": "2025-06-19T00:35:17.166996",
     "exception": false,
     "start_time": "2025-06-19T00:35:17.140949",
     "status": "completed"
    },
    "tags": []
   },
   "source": [
    "## Training the agent\n",
    "\n",
    "Two things must happen during the training loop:\n",
    "\n",
    "-   collect data from the environment\n",
    "-   use that data to train the agent's neural network(s)\n",
    "\n",
    "This example also periodicially evaluates the policy and prints the current score.\n",
    "\n",
    "The following will take ~5 minutes to run."
   ]
  },
  {
   "cell_type": "code",
   "execution_count": 32,
   "id": "e1b272bf",
   "metadata": {
    "execution": {
     "iopub.execute_input": "2025-06-19T00:35:17.221353Z",
     "iopub.status.busy": "2025-06-19T00:35:17.220568Z",
     "iopub.status.idle": "2025-06-19T00:41:16.736820Z",
     "shell.execute_reply": "2025-06-19T00:41:16.735777Z"
    },
    "id": "0pTbJ3PeyF-u",
    "papermill": {
     "duration": 359.576988,
     "end_time": "2025-06-19T00:41:16.770173",
     "exception": false,
     "start_time": "2025-06-19T00:35:17.193185",
     "status": "completed"
    },
    "tags": []
   },
   "outputs": [
    {
     "name": "stderr",
     "output_type": "stream",
     "text": [
      "[reverb/cc/client.cc:165] Sampler and server are owned by the same process (26) so Table uniform_table is accessed directly without gRPC.\n",
      "[reverb/cc/client.cc:165] Sampler and server are owned by the same process (26) so Table uniform_table is accessed directly without gRPC.\n",
      "[reverb/cc/client.cc:165] Sampler and server are owned by the same process (26) so Table uniform_table is accessed directly without gRPC.\n",
      "[reverb/cc/client.cc:165] Sampler and server are owned by the same process (26) so Table uniform_table is accessed directly without gRPC.\n",
      "[reverb/cc/client.cc:165] Sampler and server are owned by the same process (26) so Table uniform_table is accessed directly without gRPC.\n",
      "[reverb/cc/client.cc:165] Sampler and server are owned by the same process (26) so Table uniform_table is accessed directly without gRPC.\n"
     ]
    },
    {
     "name": "stdout",
     "output_type": "stream",
     "text": [
      "step = 200: loss = 31.41071891784668\n",
      "step = 400: loss = 40.959197998046875\n",
      "step = 600: loss = 3.840341091156006\n",
      "step = 800: loss = 19.393911361694336\n",
      "step = 1000: loss = 87.75511169433594\n",
      "step = 1000: Average Return = 90.80000305175781\n",
      "step = 1200: loss = 136.99078369140625\n",
      "step = 1400: loss = 97.35517883300781\n",
      "step = 1600: loss = 35.536964416503906\n",
      "step = 1800: loss = 34.03069305419922\n",
      "step = 2000: loss = 95.57870483398438\n",
      "step = 2000: Average Return = 111.4000015258789\n",
      "step = 2200: loss = 707.9872436523438\n",
      "step = 2400: loss = 68.37744140625\n",
      "step = 2600: loss = 334.0718994140625\n",
      "step = 2800: loss = 119.36685180664062\n",
      "step = 3000: loss = 1115.8006591796875\n",
      "step = 3000: Average Return = 171.8000030517578\n",
      "step = 3200: loss = 192.64324951171875\n",
      "step = 3400: loss = 124.27303314208984\n",
      "step = 3600: loss = 373.5931091308594\n",
      "step = 3800: loss = 151.63787841796875\n",
      "step = 4000: loss = 164.96377563476562\n",
      "step = 4000: Average Return = 186.89999389648438\n",
      "step = 4200: loss = 128.43893432617188\n",
      "step = 4400: loss = 45.1898193359375\n",
      "step = 4600: loss = 60.30619812011719\n",
      "step = 4800: loss = 87.91923522949219\n",
      "step = 5000: loss = 41.36761474609375\n",
      "step = 5000: Average Return = 167.1999969482422\n",
      "step = 5200: loss = 41.855690002441406\n",
      "step = 5400: loss = 30.864320755004883\n",
      "step = 5600: loss = 29.395523071289062\n",
      "step = 5800: loss = 31.110326766967773\n",
      "step = 6000: loss = 33.54910659790039\n",
      "step = 6000: Average Return = 197.89999389648438\n",
      "step = 6200: loss = 56.391624450683594\n",
      "step = 6400: loss = 72.87860870361328\n",
      "step = 6600: loss = 82.50112915039062\n",
      "step = 6800: loss = 121.12442016601562\n",
      "step = 7000: loss = 326.3173828125\n",
      "step = 7000: Average Return = 200.0\n",
      "step = 7200: loss = 1078.7562255859375\n",
      "step = 7400: loss = 1793.648681640625\n",
      "step = 7600: loss = 2094.888671875\n",
      "step = 7800: loss = 3014.302734375\n",
      "step = 8000: loss = 1648.5390625\n",
      "step = 8000: Average Return = 200.0\n",
      "step = 8200: loss = 16457.8046875\n",
      "step = 8400: loss = 62954.90625\n",
      "step = 8600: loss = 2012.314697265625\n",
      "step = 8800: loss = 1291.952392578125\n",
      "step = 9000: loss = 1799.4354248046875\n",
      "step = 9000: Average Return = 189.10000610351562\n",
      "step = 9200: loss = 1288.4866943359375\n",
      "step = 9400: loss = 1363.5247802734375\n",
      "step = 9600: loss = 83420.359375\n",
      "step = 9800: loss = 1050.6214599609375\n",
      "step = 10000: loss = 1186.68701171875\n",
      "step = 10000: Average Return = 200.0\n",
      "step = 10200: loss = 894.6807250976562\n",
      "step = 10400: loss = 9146.650390625\n",
      "step = 10600: loss = 1407.2891845703125\n",
      "step = 10800: loss = 3196.8017578125\n",
      "step = 11000: loss = 3078.7177734375\n",
      "step = 11000: Average Return = 200.0\n",
      "step = 11200: loss = 1669.523681640625\n",
      "step = 11400: loss = 4504.6484375\n",
      "step = 11600: loss = 1707.0712890625\n",
      "step = 11800: loss = 1483.30517578125\n",
      "step = 12000: loss = 1866.9443359375\n",
      "step = 12000: Average Return = 200.0\n",
      "step = 12200: loss = 1748.0552978515625\n",
      "step = 12400: loss = 3137.665771484375\n",
      "step = 12600: loss = 4430.669921875\n",
      "step = 12800: loss = 2024.458740234375\n",
      "step = 13000: loss = 9204.498046875\n",
      "step = 13000: Average Return = 200.0\n",
      "step = 13200: loss = 2718.498291015625\n",
      "step = 13400: loss = 2876.275390625\n",
      "step = 13600: loss = 3913.851318359375\n",
      "step = 13800: loss = 2614.6875\n",
      "step = 14000: loss = 1726.8218994140625\n",
      "step = 14000: Average Return = 200.0\n",
      "step = 14200: loss = 3311.0703125\n",
      "step = 14400: loss = 8197.5302734375\n",
      "step = 14600: loss = 3443.158447265625\n",
      "step = 14800: loss = 9614.1728515625\n",
      "step = 15000: loss = 2276.780517578125\n",
      "step = 15000: Average Return = 200.0\n",
      "step = 15200: loss = 4393.13720703125\n",
      "step = 15400: loss = 4193.7841796875\n",
      "step = 15600: loss = 984.6192626953125\n",
      "step = 15800: loss = 2597.4189453125\n",
      "step = 16000: loss = 58824.20703125\n",
      "step = 16000: Average Return = 200.0\n",
      "step = 16200: loss = 3578.5234375\n",
      "step = 16400: loss = 2060.858154296875\n",
      "step = 16600: loss = 2988.982421875\n",
      "step = 16800: loss = 389518.0625\n",
      "step = 17000: loss = 4534.66552734375\n",
      "step = 17000: Average Return = 200.0\n",
      "step = 17200: loss = 3140.50146484375\n",
      "step = 17400: loss = 6328.82275390625\n",
      "step = 17600: loss = 2355.74072265625\n",
      "step = 17800: loss = 2385.48388671875\n",
      "step = 18000: loss = 377537.40625\n",
      "step = 18000: Average Return = 200.0\n",
      "step = 18200: loss = 402631.0625\n",
      "step = 18400: loss = 5003.7724609375\n",
      "step = 18600: loss = 3569.52099609375\n",
      "step = 18800: loss = 2687.28466796875\n",
      "step = 19000: loss = 2900.701416015625\n",
      "step = 19000: Average Return = 200.0\n",
      "step = 19200: loss = 3856.619873046875\n",
      "step = 19400: loss = 4654.33203125\n",
      "step = 19600: loss = 116576.0\n",
      "step = 19800: loss = 5913.9765625\n",
      "step = 20000: loss = 3390.23046875\n",
      "step = 20000: Average Return = 200.0\n"
     ]
    }
   ],
   "source": [
    "#@test {\"skip\": true}\n",
    "try:\n",
    "  %%time\n",
    "except:\n",
    "  pass\n",
    "\n",
    "# (Optional) Optimize by wrapping some of the code in a graph using TF function.\n",
    "agent.train = common.function(agent.train)\n",
    "\n",
    "# Reset the train step.\n",
    "agent.train_step_counter.assign(0)\n",
    "\n",
    "# Evaluate the agent's policy once before training.\n",
    "avg_return = compute_avg_return(eval_env, agent.policy, num_eval_episodes)\n",
    "returns = [avg_return]\n",
    "\n",
    "# Reset the environment.\n",
    "time_step = train_py_env.reset()\n",
    "\n",
    "# Create a driver to collect experience.\n",
    "collect_driver = py_driver.PyDriver(\n",
    "    env,\n",
    "    py_tf_eager_policy.PyTFEagerPolicy(\n",
    "      agent.collect_policy, use_tf_function=True),\n",
    "    [rb_observer],\n",
    "    max_steps=collect_steps_per_iteration)\n",
    "\n",
    "for _ in range(num_iterations):\n",
    "\n",
    "  # Collect a few steps and save to the replay buffer.\n",
    "  time_step, _ = collect_driver.run(time_step)\n",
    "\n",
    "  # Sample a batch of data from the buffer and update the agent's network.\n",
    "  experience, unused_info = next(iterator)\n",
    "  train_loss = agent.train(experience).loss\n",
    "\n",
    "  step = agent.train_step_counter.numpy()\n",
    "\n",
    "  if step % log_interval == 0:\n",
    "    print('step = {0}: loss = {1}'.format(step, train_loss))\n",
    "\n",
    "  if step % eval_interval == 0:\n",
    "    avg_return = compute_avg_return(eval_env, agent.policy, num_eval_episodes)\n",
    "    print('step = {0}: Average Return = {1}'.format(step, avg_return))\n",
    "    returns.append(avg_return)"
   ]
  },
  {
   "cell_type": "markdown",
   "id": "53ebbc3e",
   "metadata": {
    "id": "68jNcA_TiJDq",
    "papermill": {
     "duration": 0.030665,
     "end_time": "2025-06-19T00:41:16.832085",
     "exception": false,
     "start_time": "2025-06-19T00:41:16.801420",
     "status": "completed"
    },
    "tags": []
   },
   "source": [
    "## Visualization\n"
   ]
  },
  {
   "cell_type": "markdown",
   "id": "fe08c258",
   "metadata": {
    "id": "aO-LWCdbbOIC",
    "papermill": {
     "duration": 0.030805,
     "end_time": "2025-06-19T00:41:16.894226",
     "exception": false,
     "start_time": "2025-06-19T00:41:16.863421",
     "status": "completed"
    },
    "tags": []
   },
   "source": [
    "### Plots\n",
    "\n",
    "Use `matplotlib.pyplot` to chart how the policy improved during training.\n",
    "\n",
    "One iteration of `Cartpole-v0` consists of 200 time steps. The environment gives a reward of `+1` for each step the pole stays up, so the maximum return for one episode is 200. The charts shows the return increasing towards that maximum each time it is evaluated during training. (It may be a little unstable and not increase monotonically each time.)"
   ]
  },
  {
   "cell_type": "code",
   "execution_count": 33,
   "id": "7f5d4004",
   "metadata": {
    "execution": {
     "iopub.execute_input": "2025-06-19T00:41:16.957733Z",
     "iopub.status.busy": "2025-06-19T00:41:16.957404Z",
     "iopub.status.idle": "2025-06-19T00:41:17.207891Z",
     "shell.execute_reply": "2025-06-19T00:41:17.206973Z"
    },
    "id": "NxtL1mbOYCVO",
    "papermill": {
     "duration": 0.284232,
     "end_time": "2025-06-19T00:41:17.209625",
     "exception": false,
     "start_time": "2025-06-19T00:41:16.925393",
     "status": "completed"
    },
    "tags": []
   },
   "outputs": [
    {
     "data": {
      "text/plain": [
       "(1.6550004005432122, 250.0)"
      ]
     },
     "execution_count": 33,
     "metadata": {},
     "output_type": "execute_result"
    },
    {
     "data": {
      "image/png": "[encoded data removed]",
      "text/plain": [
       "<Figure size 640x480 with 1 Axes>"
      ]
     },
     "metadata": {},
     "output_type": "display_data"
    }
   ],
   "source": [
    "#@test {\"skip\": true}\n",
    "\n",
    "iterations = range(0, num_iterations + 1, eval_interval)\n",
    "plt.plot(iterations, returns)\n",
    "plt.ylabel('Average Return')\n",
    "plt.xlabel('Iterations')\n",
    "plt.ylim(top=250)"
   ]
  },
  {
   "cell_type": "markdown",
   "id": "63746440",
   "metadata": {
    "id": "M7-XpPP99Cy7",
    "papermill": {
     "duration": 0.031037,
     "end_time": "2025-06-19T00:41:17.272656",
     "exception": false,
     "start_time": "2025-06-19T00:41:17.241619",
     "status": "completed"
    },
    "tags": []
   },
   "source": [
    "### Videos"
   ]
  },
  {
   "cell_type": "markdown",
   "id": "ed0fc3c9",
   "metadata": {
    "id": "9pGfGxSH32gn",
    "papermill": {
     "duration": 0.031443,
     "end_time": "2025-06-19T00:41:17.336026",
     "exception": false,
     "start_time": "2025-06-19T00:41:17.304583",
     "status": "completed"
    },
    "tags": []
   },
   "source": [
    "Charts are nice. But more exciting is seeing an agent actually performing a task in an environment. \n",
    "\n",
    "First, create a function to embed videos in the notebook."
   ]
  },
  {
   "cell_type": "code",
   "execution_count": 34,
   "id": "7afcbd09",
   "metadata": {
    "execution": {
     "iopub.execute_input": "2025-06-19T00:41:17.405170Z",
     "iopub.status.busy": "2025-06-19T00:41:17.404274Z",
     "iopub.status.idle": "2025-06-19T00:41:17.409998Z",
     "shell.execute_reply": "2025-06-19T00:41:17.409148Z"
    },
    "id": "ULaGr8pvOKbl",
    "papermill": {
     "duration": 0.042434,
     "end_time": "2025-06-19T00:41:17.411829",
     "exception": false,
     "start_time": "2025-06-19T00:41:17.369395",
     "status": "completed"
    },
    "tags": []
   },
   "outputs": [],
   "source": [
    "def embed_mp4(filename):\n",
    "  \"\"\"Embeds an mp4 file in the notebook.\"\"\"\n",
    "  video = open(filename,'rb').read()\n",
    "  b64 = base64.b64encode(video)\n",
    "  tag = '''\n",
    "  <video width=\"640\" height=\"480\" controls>\n",
    "    <source src=\"data:video/mp4;base64,{0}\" type=\"video/mp4\">\n",
    "  Your browser does not support the video tag.\n",
    "  </video>'''.format(b64.decode())\n",
    "\n",
    "  return IPython.display.HTML(tag)"
   ]
  },
  {
   "cell_type": "markdown",
   "id": "10c24859",
   "metadata": {
    "id": "9c_PH-pX4Pr5",
    "papermill": {
     "duration": 0.034287,
     "end_time": "2025-06-19T00:41:17.479188",
     "exception": false,
     "start_time": "2025-06-19T00:41:17.444901",
     "status": "completed"
    },
    "tags": []
   },
   "source": [
    "Now iterate through a few episodes of the Cartpole game with the agent. The underlying Python environment (the one \"inside\" the TensorFlow environment wrapper) provides a `render()` method, which outputs an image of the environment state. These can be collected into a video."
   ]
  },
  {
   "cell_type": "code",
   "execution_count": 35,
   "id": "3eba0840",
   "metadata": {
    "execution": {
     "iopub.execute_input": "2025-06-19T00:41:17.547452Z",
     "iopub.status.busy": "2025-06-19T00:41:17.546776Z",
     "iopub.status.idle": "2025-06-19T00:41:28.948399Z",
     "shell.execute_reply": "2025-06-19T00:41:28.947447Z"
    },
    "id": "owOVWB158NlF",
    "papermill": {
     "duration": 11.436516,
     "end_time": "2025-06-19T00:41:28.950504",
     "exception": false,
     "start_time": "2025-06-19T00:41:17.513988",
     "status": "completed"
    },
    "tags": []
   },
   "outputs": [
    {
     "name": "stderr",
     "output_type": "stream",
     "text": [
      "ALSA lib confmisc.c:855:(parse_card) cannot find card '0'\n",
      "ALSA lib conf.c:5180:(_snd_config_evaluate) function snd_func_card_inum returned error: No such file or directory\n",
      "ALSA lib confmisc.c:422:(snd_func_concat) error evaluating strings\n",
      "ALSA lib conf.c:5180:(_snd_config_evaluate) function snd_func_concat returned error: No such file or directory\n",
      "ALSA lib confmisc.c:1334:(snd_func_refer) error evaluating name\n",
      "ALSA lib conf.c:5180:(_snd_config_evaluate) function snd_func_refer returned error: No such file or directory\n",
      "ALSA lib conf.c:5703:(snd_config_expand) Evaluate error: No such file or directory\n",
      "ALSA lib pcm.c:2666:(snd_pcm_open_noupdate) Unknown PCM default\n",
      "[swscaler @ 0x56e95957d800] Warning: data is not aligned! This can lead to a speed loss\n"
     ]
    },
    {
     "data": {
      "text/html": [
       "\n",
       "  <video width=\"640\" height=\"480\" controls>\n",
       "    <source src=\"data:video/mp4;base64,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\" type=\"video/mp4\">\n",
       "  Your browser does not support the video tag.\n",
       "  </video>"
      ],
      "text/plain": [
       "<IPython.core.display.HTML object>"
      ]
     },
     "execution_count": 35,
     "metadata": {},
     "output_type": "execute_result"
    }
   ],
   "source": [
    "def create_policy_eval_video(policy, filename, num_episodes=5, fps=30):\n",
    "  filename = filename + \".mp4\"\n",
    "  with imageio.get_writer(filename, fps=fps) as video:\n",
    "    for _ in range(num_episodes):\n",
    "      time_step = eval_env.reset()\n",
    "      video.append_data(eval_py_env.render())\n",
    "      while not time_step.is_last():\n",
    "        action_step = policy.action(time_step)\n",
    "        time_step = eval_env.step(action_step.action)\n",
    "        video.append_data(eval_py_env.render())\n",
    "  return embed_mp4(filename)\n",
    "\n",
    "create_policy_eval_video(agent.policy, \"trained-agent\")"
   ]
  },
  {
   "cell_type": "markdown",
   "id": "195c061e",
   "metadata": {
    "id": "povaAOcZygLw",
    "papermill": {
     "duration": 0.033213,
     "end_time": "2025-06-19T00:41:29.018117",
     "exception": false,
     "start_time": "2025-06-19T00:41:28.984904",
     "status": "completed"
    },
    "tags": []
   },
   "source": [
    "For fun, compare the trained agent (above) to an agent moving randomly. (It does not do as well.)"
   ]
  },
  {
   "cell_type": "code",
   "execution_count": 36,
   "id": "39c5534f",
   "metadata": {
    "execution": {
     "iopub.execute_input": "2025-06-19T00:41:29.084828Z",
     "iopub.status.busy": "2025-06-19T00:41:29.084505Z",
     "iopub.status.idle": "2025-06-19T00:41:30.096056Z",
     "shell.execute_reply": "2025-06-19T00:41:30.095043Z"
    },
    "id": "pJZIdC37yNH4",
    "papermill": {
     "duration": 1.04674,
     "end_time": "2025-06-19T00:41:30.097711",
     "exception": false,
     "start_time": "2025-06-19T00:41:29.050971",
     "status": "completed"
    },
    "tags": []
   },
   "outputs": [
    {
     "name": "stderr",
     "output_type": "stream",
     "text": [
      "[swscaler @ 0x5a0d895e5800] Warning: data is not aligned! This can lead to a speed loss\n"
     ]
    },
    {
     "data": {
      "text/html": [
       "\n",
       "  <video width=\"640\" height=\"480\" controls>\n",
       "    <source src=\"data:video/mp4;base64,AAAAIGZ0eXBpc29tAAACAGlzb21pc28yYXZjMW1wNDEAAAAIZnJlZQAALTRtZGF0AAACrgYF//+q3EXpvebZSLeWLNgg2SPu73gyNjQgLSBjb3JlIDE2MyByMzA2MCA1ZGI2YWE2IC0gSC4yNjQvTVBFRy00IEFWQyBjb2RlYyAtIENvcHlsZWZ0IDIwMDMtMjAyMSAtIGh0dHA6Ly93d3cudmlkZW9sYW4ub3JnL3gyNjQuaHRtbCAtIG9wdGlvbnM6IGNhYmFjPTEgcmVmPTMgZGVibG9jaz0xOjA6MCBhbmFseXNlPTB4MzoweDExMyBtZT1oZXggc3VibWU9NyBwc3k9MSBwc3lfcmQ9MS4wMDowLjAwIG1peGVkX3JlZj0xIG1lX3JhbmdlPTE2IGNocm9tYV9tZT0xIHRyZWxsaXM9MSA4eDhkY3Q9MSBjcW09MCBkZWFkem9uZT0yMSwxMSBmYXN0X3Bza2lwPTEgY2hyb21hX3FwX29mZnNldD0tMiB0aHJlYWRzPTYgbG9va2FoZWFkX3RocmVhZHM9MSBzbGljZWRfdGhyZWFkcz0wIG5yPTAgZGVjaW1hdGU9MSBpbnRlcmxhY2VkPTAgYmx1cmF5X2NvbXBhdD0wIGNvbnN0cmFpbmVkX2ludHJhPTAgYmZyYW1lcz0zIGJfcHlyYW1pZD0yIGJfYWRhcHQ9MSBiX2JpYXM9MCBkaXJlY3Q9MSB3ZWlnaHRiPTEgb3Blbl9nb3A9MCB3ZWlnaHRwPTIga2V5aW50PTI1MCBrZXlpbnRfbWluPTI1IHNjZW5lY3V0PTQwIGludHJhX3JlZnJlc2g9MCByY19sb29rYWhlYWQ9NDAgcmM9Y3JmIG1idHJlZT0xIGNyZj0yNS4wIHFjb21wPTAuNjAgcXBtaW49MCBxcG1heD02OSBxcHN0ZXA9NCBpcF9yYXRpbz0xLjQwIGFxPTE6MS4wMACAAAAB8mWIhAA3//72rvzLK0cLlS4dWXuzUfLoSXL9iDB9aAAAAwAAAwAAJuKiZ0WFMeJsgAAALmAIWElDyDzETFWKgSxBvXL4JxGgc8EgKFFDGaNWaM0A14HCsPk4HwI6H8FG91ui87rLNlasrCCMTNRIkV/3ihIpMX+fDBSvHPO8h9+iE9VXpTIVHPhtC6e2kU7eZ9iPmIgptpmNv/7vWeL7MHf89yZrffo+IhwGF3bYa5PQpzFt+nYZgCPgjE4JGGcrdgOwAWwuJnWs3kEgCwdoizng/ZUz9Jf4AuLnF+9ShvbrLVZZZLDac1jsOgoAVCOXg5IBp/CCqztlwafdgzn7g7th9XB2SrBPj3rcQDaQxs3wK/UdMJ+ZYZZ/Ac30vkYLvuHP0zYdOPKqCKuxZ/8QQZ+hU5EteI+Cza0CNGeDOa2CXR/LBz21oW+dhgCi4ZdTT0TA7ExMEtAhozlrDjn2SNYbP9VOep+Be2dpvza0bgJ+nWgPKjqP5L6TOtx5QBekXK0YDRvjmIf7dQ1vH3BqraOBpM6Pgfje36/NxOD+0YWvO77gI7LUBwl+GC/CICTU+0eCiABOLz+XZvTwt848StMzFLiL1RtZDIExp+Mjh2qR+N6rmkOeOWszOBuJMFKTmm8x4XLfvAAmYxAAAAMAAAMCAwAAAGtBmiRsQ3/+jLAAAEYKrn0gLljQH++BeTJWbVtMShGcdWbg7n1LPsW0sn6sopfwL+Xq007vcuBabdSAeGDEfqOoy68eGi9y4P2vvTkWzROtbAPWnz1W0zLr/yLWjNM+kEqJvv5EvJSZYf5aLQAAACVBnkJ4hX8AABa+S7A65sToz6aFOJpWYcX6hUgwjKNJ20Ht7NmBAAAAFAGeYXRCfwAABPkPxveEirnWzFBAAAAAJwGeY2pCfwAAI7HMCWPmxVkZ8C/EaOruHvHi8mA0PiGPObx8Kt4tKwAAAINBmmhJqEFomUwIb//+jLAAAEYC9vJ6W9ysANZLBv35mkvLXKJGi3uzGdv41MCWzEHuEuA+RfItkXfpnHxoGI1Iq6Lo+p13KVlm/AmoMSIkcF99web+WzeP3slQAg6uNkhYgmRM8DEOI+rXVU/k5MkaCa6wlOXUwr9LWaaQoZ8QmyN0QQAAADlBnoZFESwr/wAAFrUrL3yc94OJMPsACPkGoNoUznXQlx+z2ovcOy8u85y/OlCZjHFUaGG/yaB5Zn0AAAAmAZ6ldEJ/AAAjwxdoqajowvGQ9IM9Xgta1JaLh5hJMUKPEK1KpUEAAAApAZ6nakJ/AAANNJ+VooeJQ6J2ICadEhqgLtoPlrTeTT6ltXq8pmEiCf4AAADEQZqsSahBbJlMCG///oywAABGAgV8870oIA0TD/QRcbhsxVM3AK4m/ilZ6FEpf+QbaSFNlPbdSmffa4EN/M9asOaKdGqj6cFgVQueFeoNXBz3RgxFaBW/7B7atGY+64TGGeDs1vncCkMQTk6eNw1+Dk8eZZxY/nR/dr/pt4VPy6W1ntiArzoSFC92dlhA0LoTeL7V6ekwqDjUr88hlDtLxk8jR7fDVyuk1sUDBFO9X//1jYETMQ0n1kCeSq1biE7H+eoyWAAAACdBnspFFSwr/wAAFrxDzbcVzKxHbUfnRASJ0rwjMAo4+XyFLhx5CYEAAAASAZ7pdEJ/AAADAAqAuJX2/KmAAAAANwGe62pCfwAAI72WAongcTV3IL+rT++uGC2rAF60RAAOeukLQDkLgs6dHt9V62/+TIf7OH/m5IAAAAEHQZrwSahBbJlMCG///oywAABGem9BhpyqSh6wAK/AsGfXkipI+ZIxEaYkqNBRvvRx+A9uPYEvuydB4W//LjZKH5s9Q1z5y52c+yLnvgmIO/wK1PZqQzZOiBXWzqPw5u1Wi4ar1A2bkpioQ3TLtBl4B0ausW1NlWKtJc7wW4Z9VTbzBnaXrIkqr8dkougEdtWu9pFWvev+ra6BbOWYS63QdIJP6kNsI9wltOcZBoxA+CXkQJSrCRRTIDS3Zo74LbvoIkjO6luGfi+t/45G/p4GuCVIYE+BUMUxtT/sfbB1a5j1XejbBgUc6WeOx12zWJSnSjhIFEhiaPwcAGAhbdZLQUsbJJuuLdcAAABsQZ8ORRUsK/8AABa7aLKkLiuWoBC97qnP1nIXrF7xpSKjBsTE/siFQAkfgBqaSpBMHH7PpUn1zDk6c/b4w3uR8GW6mpgMwRIUICcgEoXhvR32kP5beSKTyzTxRhjRDoklhcSk1yTSTOXSIKmBAAAATAGfLXRCfwAAI6oICfBi8gAXDBmMSoCknH4bPD689421wlf8UnC7kz/iLklUfzLhJmhf6wXLaTVPYFWh/rm8Bak4HYstFCwvLbOIxUEAAABXAZ8vakJ/AAAjxtyCza0GehWUhprWKBAqHuEs8aMhJeF/mdsHv+Zej+49Fd7XjcufcOBzsmiBGTVBLHsNPPfhYnFMzaVyVsg4+rWwgShABfGEKZjEYxbAAAAAsEGbNEmoQWyZTAhv//6MsAAARhR0tkj/pwmAyAAX5RUQ7x54EqFe5vKyX1NLJ+6S9NnM+JRebQm6MkO4pjPHFYR5Wta9lmnlYRJWRTQCSn/s6ZUJHqfQ8u4MyItdG/kLuoh9rjx+qjWtFFYnV8bUSbzQm/zid5MLXJCn5H3zo3LuM6PAI0UY/KQTVwMBdPExK2Jsua5XNIVw83t+4Y2qsAWkRhZF9hgfd3Jh9qJqj15oAAAAQUGfUkUVLCv/AAAWtSs0PVQdK6gCJguhkN8EvKqa2IV+vJBnez/nuVtYqJ7CWGmxHoVZFqyVetDtqUT9rZYp1w03AAAASQGfcXRCfwAAI8MSU2VWBa5fAfcg7MbTYpIND0QF3rcyp3BUC9l1RiiBcZeBpo86a1TqhJ+k2yiLJ8IGdtAw/EP3NM9SRlLBPswAAAAsAZ9zakJ/AAAFHzCWe4kr8IhrSkZ+lA/aGW6gA+T8QBmIxnnk4cG9+EFRrhYAAABcQZt4SahBbJlMCG///oywAABGAvZZBUAPyQEM+4CwReAfu0KF0d4mF0MQnEAt3MjNdKaa6QL3aEcSm0SlgA+ly4rKpYTnnH7EfJJXjCNy6NxX9/utwkX60F24DekAAAAfQZ+WRRUsK/8AABa8Q823FcystPrTiNxzS7UXzMogFgAAABMBn7V0Qn8AAAMARVhyDOFKuY+BAAAAGQGft2pCfwAAI78EJxLJaZrn72JiQKzsSRkAAABTQZu8SahBbJlMCG///oywAAAaD+WNAG0nYVceJoYlXcmHp623H/aDzR7wko6pYd4JthOSxRVocaunaw3Hl7FXEoirGRlkgoAac9caF3I++4fkWygAAAAeQZ/aRRUsK/8AAAMDOE1oVu5KMy2V6t21I49BWS2ZAAAAHQGf+XRCfwAADS4VxzTLJLVlSPMM7rWThGNZWolQAAAAIwGf+2pCfwAAAwAKQQiR6CFA/3MACcXr1vfJxzvcYSvNA/knAAAAzkGb4EmoQWyZTAhv//6MsAAAGqHywnIRzkXiPdPTI7I6GX0EBrcKxjjWavdWjye6+26awSKVv2hyEntDXrsAlMWl1hmOkVSGP4nmwmDvt/QLTwrCdjnVeudGxz/ng3fIKOuDLQOqQLUW26qYZ74DIeNE0P5jf3cdvfZL+vIhBjZWdTGGKDx3K6nxlAXs7RZT3W5V4QW2xoD8iMbc1+RuSEn6b5davarVXnwwIFeenqMi3ZDZAJzaeENZ8kvpgcBNIIumnIzIfDikc5Ov0zKBAAAAJ0GeHkUVLCv/AAADAzl8c7/LqVhQiayAv6X/fN2Y0mp9dQMABqUDegAAADoBnj10Qn8AACOp+0WfTnMUAFb0uzz75letNMeQxB8dFXSsa9yRkmw8rk2g1Qxh5OfvzGO514NEX48GAAAAKAGeP2pCfwAAAwHlLCoxX42Jfs5Hr5ibU2Dgwd9yQf0Eo2w3Gd/vOfEAAADzQZokSahBbJlMCG///oywAABGAgJMG/wTAE/r0RkXyClTsR1oCm9h/8gshgQf8Viq34wu2v2bVH9nKMKYHVuRXOo1N70FEaheFmznr/9GCNkQfALOyVyny4m7atBw+HESs4uZGUVPntXDI2SlH1Kl1VqbWvLKvH1zQ3oGAeoOT5o/9MqFDZk4lYQtpacWlvbt+HtTXNqpssw42OLCcTzFhPxxNmc9x8ugl8/LnFaRIAK8VnYKd0MKIafw2kk5tkPLZTXkbGQPVlRX9EQ9rQmUP2VNxf/c1SuSshxYgO6Idp5J9aAEPAkzhrXAHxiCwM8EidiwAAAATEGeQkUVLCv/AAAWu4qUZFntOps+7OmVUh37Z0lbBDwULrsxqBhAMM+NsIsd36fKw8+d1mJlY+cJrT6jX4Mo4b2xHr5HkuxtRqfwTYEAAAAuAZ5hdEJ/AAAjq/he0uDbOp6T3TsuUcQEk7ZJepzsg7NqtoxLf5RkIqRo3F+YIAAAAEMBnmNqQn8AACO/BCdg4xsTcNJHtsxZprKFt5MPouZUou0276Qc0kjFE4YE/ezuGz+68AH0KUTDALrO1Ns6pCeyNlE/AAAAekGaZkmoQWyZTBRMN//+jLAAABqJVZK37gAi/b52oQRKUcpNArxANEXAZ+NktG/O2b3/nqMZpzVJRct0cjPBo9YO/7ip1v6O1gwyPcL0+euVDjnR9TmPQd3Wp9GfIUh6T1CCDinBge+oIUPxN1ZMOzRBp5og9JO3VHWRAAAAKgGehWpCfwAABRh7LadNNgzOtphiv9f/0MxQU0M3G2fABN0iadfC1f6bvQAAAHtBmolJ4QpSZTAhv/6MsAAARgLP8EIIDQMrW6TnR4qZ/ZIurmgroD/NqMys5NHKwICHtKlPIA5Kk3+euz7dsRLEdH7/6tRjztRQzDn+Qifo9UWezccVqpS+UrzA5guyNBGlrETE+8I7wvn/6vRUY1xCqLp9TFbeF7muaqEAAAAiQZ6nRTRMK/8AABa8Q823FcysmYYgrgZUcoIs06XD1BBF5AAAACcBnshqQn8AACO/BCWTz21wphHvfp/t0M1futSnyrNhpB9cbCYvWW0AAADNQZrNSahBaJlMCG///oywAABGAgJMGzzvEmN/VdrGvoGgA4Aa58dIJAeH8vVGNrFhxnlLxau+WBm6QLH8QsbcRbcxd3KuHfKxKqLSSel1pk4ObgkKonMH//4uk9czldAMQOtocFXuZrG2sN9ToZ63P65XomQ7+Yi0m8PxSv+AQVk31IjqwQW7rrZWWC5w8u6TM3rWamXSMo8vbj7hu89r8qIdbgZTx+020wasQx4gjoVd1Kphcxo7MajwGb/jP/+FQ4SuOqkES4olsEvqIQAAAEpBnutFESwr/wAAFruKlGRShuMXQQp06il7eONeK9WLR2+wuUmfnONyCyceMWe95fKAP01rZcrxZrlzjTzsPFbU3Paz28XY0SajaAAAAC8Bnwp0Qn8AACPDF2oYiepNPJgkYnn5En24Pxs90Ek0P335AwOrfHArgWgssNuwcAAAADsBnwxqQn8AACK536L90Vc2Zqm7dFNJeFELRax/LBKJOCQm+qzNpZ8RAAUk+IISEapcxCnE59jyltmYZwAAAIdBmxFJqEFsmUwIb//+jLAAAEYUTN3eBgB0gJGo4M7RuXLLtvHKauEko0j0ztRA4ytzLc5CAO0copR7vgAmQbQOAbG3MMbf+TtUT2PzQ6g0xIKhkqvfxYm4NzPGfGyt4kqJn4mDdWCCoZeSEIBIr3B0VleQ2yEwzlCrHM3VgJPuV0PxbvQScVEAAAA+QZ8vRRUsK/8AABazFMYM4N8qRFNoAWd8U0yYILIao2+qOI2F6hdLU7s2VcUmwifJPzVelTbxgb0amFgo44EAAAA8AZ9OdEJ/AAAjwJnd5+Kf4do0S89p1pvRDGG3bP4YAm/t5hBvY4l9ATWpW7yvzR8PgAm6YFqFzkUCUjxwAAAAKQGfUGpCfwAAI5KCLLJ7JWfDjIL4wzV1FKj3bwGy0ddk96TLjuDfagowAAAAYUGbU0moQWyZTBRMN//+jLAAAEYB8anACRGC+ZEEqVm/SbPUaI7yL08FeWNqHX7rM0VQPDQlHVuAMC5Vuozme5qhABZmrn65XVY4GPUEdYFSNXVAAvhzp+cP/s4TFcmeJoEAAAApAZ9yakJ/AAAjrgz0J3SKWGpy4ZkscWAUScZ4K6qagPqdWxmsCp/l1VIAAAEkQZt3SeEKUmUwIb/+jLAAAEYBn5j+IAQhyC4MPkx/ovu77rzJsW9XgsV740CVEjA2ywzk7ndDmeKUNh7QPn7+q9GEEfuJtAe62/dPw9H+DcKZ212LfZ2tCKMfnx9xZs+8TRF3B8IeNhpICEpCUPXZS/d5D5DLVV9FoGxdKx5dIU8t9+fpuNJWaa57WDnHr9JiqO6ZnqmoZBDHOuPJbYo5nSKSV3PATnwgKoRbmjQ75XkPPcyiZaORbriv94kvVdhgbl8Vjt7wD+qsmRMsOBQeQxUAW+dwIBYdcfebiL9yL4Ag6aHzAFYZM+ZF046GVG7QCkBk2EHEJiTd+x8H3nB8pZq1E0nL6AK+Do7fFB7XuDQOzThKpU54l4Kn8LIqxYr01DaVEAAAAEdBn5VFNEwr/wAAFrteqBNIQLH1HsQjSGMKfFmRomiFL6s2MmV/fw6hORFxGASJV/sY5z7OShW2+WvbSyecCwBR6dy0c6AhUQAAAC4Bn7R0Qn8AACOp/4Vef1tetuEt5IUYQJpn6/fHR84OOV03U0yHUisJiPVMhzIwAAAAHQGftmpCfwAAI7HMA+2qnnRKLvBlKhQPyCwW+c+pAAAAq0Gbu0moQWiZTAhv//6MsAAARgNvtwBy0eUPyX7YeWoQ34UeA1BmWB5WqE+wV9maa9V2/8KU3loensdFwgAyxk1uuInRaCtNRirF7PRazcXYMfkMZ7QOwnM0xvFgkhz80fnMETgplI2K3j17PygXVAHiqiSoIRNFzvA/BE9RjC/mdH25tD9SqgiatASr1UICt1CCr90VVWJt3g+VDp46sh6FIKHI02eDbPmMwQAAADxBn9lFESwr/wAAFrUrKk0+gDjQfCTUnyuHOvhkaLYnA2ajJCzRm7InUbQP5utlWKLMvRYQu8yXPsfzUFgAAAApAZ/4dEJ/AAAjqc9naqu7T7Qx5eD93KWBtsGlcYPVwRFUGy1eW740VDcAAAAkAZ/6akJ/AAAE+zTV3mdosgxdDvDHuhLzL69gP5nvReP+dfJlAAAAjUGb/0moQWyZTAhv//6MsAAARgL2C2DP6Ld+uOWKkgAtA3lyiFkoGlhy0xn0MNfKIIXxoTSwv/9/ipM6LKUYzSjQs0BHS572L0Szy25H2GOs87dmYgdsgmRbofbeQW3ZPq3K3Hw9KQH1jMsXnM9Vn4Q52mdplrrKjL16U0b//8553A9OXrFnpli4JuPIQQAAAElBnh1FFSwr/wAAFrUrOIqK9HLmzCOG0mVZ9kd1D8aEnMyM+6Wn/QB6SDi/+UUkCtPlC/VABrLSo1bHFN3FUtOMiEKtzplxoVGBAAAAJAGePHRCfwAAI8MXaKmlU9T2+GgUZuHEH2DiGOVehqrrsLa2gAAAACQBnj5qQn8AAA00n5fNQZxUnPZo4lGaffxBMsiTlySYmjcdRyQAAAEyQZoiSahBbJlMCG///oywAABGem9DRLpJubrAA5iX31ZXS86b3iaAre742CsqzKhO6zQRTBxOoTT6pD0peektJgyGrabetGz8P2UNfK0m/LzSxwQAvxyGGMzqPjWEZG44Z/m25803ZwAQx8e9AUBuMOTgCZk6OtkurX9g97KAm+F905qPlqnGV1au+X+QopbqOsbql653pkFzot2ln7Th05CpTfHjjJO0KIWtbHQJKa3X4Z7EDUwPS+fxmMymJlORoubHtglsmkPuvLPMG9+AYig4Hll+yTJ9P7++LcKuTtsyRjupvnL5P9PGgNopkZC3h4bjvpRrRv1p3mkrZMXvc4tQt197ELwWlMzrz3eMus0rfgRNN3+CQR4LWvUR65kOF4IUOmCjkLI1AffR38NwMLJpAAAAV0GeQEUVLCv/AAAWu5ymoBEVJMFkpKIKsM3KFewF33mnrI6hQ07m7zk4tPIsZRiU1mOxrjjZ2e0CmUYFZMYyRZ7hB/cT6fhYzYLLWY5DDOTCimHSgXhBYAAAADwBnmFqQn8AACOx6GCMn+IyR6QK/g34ZP5UmtSjZUvoiglsmv1W0kHNZYa91GxXts4dI0xUkc4rXXMwKZcAAACIQZpmSahBbJlMCG///oywAABGNDdIzANXG8ChJWmoO+HSHH+GnfyyShXGsmX4OJ056X/sD0kiYHwQ4IZ/KJv6t5xVrF9URwqd/JxLY7H1SknrOzg7scJ3nLCCa96jZQdMiJvf5OGUPfIFdJcXVcfKGDGo2hW6hMeGeDi9VNoWaEGIdJXIdc2KoAAAAJVBnoRFFSwr/wAAFrw3eJWcwsz5uao4zPr7SUdkhsAGx2miSwMn7qYnN2bUIAa1eZ7uaSP+6JY1idox85q9S2fyCsANs7e7nJhgoFxZrEpdw8tYmkVMFFzHseNJOgGXPU/MAmXXcovvU6afW2mVLk+FlD5lUUO9Mpj7C673OCJxzOL0QmGb6QX6nw07e6Zk9Z7xf2Q5WQAAAFgBnqN0Qn8AACKSL0BA7kbLwyyMirRGi2kieVpEWrNSox7xC2O7uso8SSnAwWU+ua8AAKCMw2CQ2EWF/p/oyAE0l2R86Pogf9eC93I2SvL1Oej7hmCkfLgFAAAAWQGepWpCfwAAI78K7RaWrlczpXk/sWfGAA3PWe9HlAELHrLGQ4tlKVVs7649JFchXBs7tJr0TyQhCfLtLcjoHwGm0OL9KuYO43AtujziMprnC27ohAcG6LlZAAAALUGaqkmoQWyZTAhv//6MsAAACgQu6bJWjkxuqi9HcUaSFMfG+G2flTh44f5UYQAAAB5BnshFFSwr/wAAAwM5Mc2YWwZOS+XhayJ+Q+ZHUb0AAAApAZ7ndEJ/AAAFHocCzmVEumTz9DDCsCUAH2Ed2Rxqyf2t5Ie1GFGaZ8AAAAAbAZ7pakJ/AAAFHzTVsayiaafMEI8KBPmjecFhAAAAY0Ga7kmoQWyZTAhv//6MsAAARgLPV3/R1tpcwAXPuANIdOH6lWjUimhjSe26MqVA5KthqzhwdWFcF/9vXGd3UWIqsqYHKiUceYL8ARaOvk1emy+PTVr3ZzMj61y1N1/KZzGWYwAAACNBnwxFFSwr/wAAFrxDzbcWF9kQi8R2E4fzKaHGGWprIjMb0AAAABsBnyt0Qn8AAAMB5iX1JCZjmLeto4FkWPZjo3sAAAA0AZ8takJ/AAAjvwQnEsls6NMomrMaD1L6cYdj1upuQQZ9de+ACZW/XhmUxyVPvPhy0YxDKQAAABxBmzJJqEFsmUwIb//+jLAAAAMAApfujQOGX2LhAAAAKkGfUEUVLCv/AAADAy/uOyTe5Uc8OpjXtoIu+tbAaKcXX8KMIZql94AmwAAAABsBn290Qn8AAAUfy+0VNKp7oDKAxaG8R9NwCbAAAAAbAZ9xakJ/AAAFHzCWe4ktM1cKz3oaHwCClTJNAAAAcUGbdkmoQWyZTAhv//6MsAAAGofiEBG8PDcpZd6/T5yq3kVUAKvOxeEvNQlPPcjrzh3TFNgAiKuGOL54F5UT3wWHKRYZ/tM+5x72/AbteOynR2A+DXUHr+QV9I0esqRbePd1cTSN1IsD8+SmnXUGeJPAAAAAJEGflEUVLCv/AAADAzhLq5seIKXkmDow1I9wrwW9r/lh1JogIAAAACoBn7N0Qn8AAAT70eOAaaqYAmoD6Y1232p8iABNcPW3Cgfsk4rqLhPm24EAAAAcAZ+1akJ/AAADAdt/1Xecx8ih12ygkKHoT8iZJgAAAI9Bm7pJqEFsmUwIb//+jLAAAEYCBWrQOtplToARkbUScjs5p4IO0gpIueLWNlRR3ChDjqLGknPinQR6IN6bxJDfhBhmL30IYt1aHY25Fh1AoZA75Gm+2jKXft3JG/24CYjk5U+uZBq9QqJwf4CSg2SXrp1V2EHker8Auwv/lPkh8Ih+/4AnxC4Bf2Po95aFwQAAADRBn9hFFSwr/wAAFrMr+/OIv7LygFsVEEO/CuIPwU8Vse+/ozIGegg+bulT+DO24l0MlydtAAAAKQGf93RCfwAAI6v4W3gRzz5ib6InzdyNIWq9f+nwZ8TFmAs1Mt9TKlRgAAAAMgGf+WpCfwAAI7HMCY1Zhh9/BVhthXByKyWWpgBQZZbK+AAsICtSpXkSMmkWQ5ddb5uBAAAAbEGb/kmoQWyZTAhv//6MsAAAGoknIMB6zFEYkKmpQ87DYNofoOwMgOAaaUAATrKpB3UXs/c/yVCO9n8719KrbsmXnD+IX43GmdGhF7+BxIRR7tgR9wc6ZuYTEGbZDzDhRFdJE7jFolY6nwQOXwAAACNBnhxFFSwr/wAACC2Mcjb+PanB37tVFzQewuqH3iGMkwI24QAAABcBnjt0Qn8AAA0uFCxPy/+L0aORB5kAYQAAABsBnj1qQn8AAAUfMJZ7iS0zVwrPnWTgNtOHLKAAAABwQZoiSahBbJlMCG///oywAABGAs9Xf+Uq7gw4XxuGMBgmAMXchvaKDU2qdmhs6qWK4/hHdrRckzdeR5NeMgwz+nOBrRK6awxmlSTPTvUMaGnLjKhNdCAzTNJ6uzV41vvhsbFhzzybs/VV7OCwVa+UJgAAACZBnkBFFSwr/wAAFrxDzf21URHioMH3vkekJECowBs9hp9WIQ07YQAAAB4Bnn90Qn8AAA01zo63Mxh88rc/XtitFMtjok9QZZQAAAAtAZ5hakJ/AAAjvwQnbik8Atbt7kyCCIBx+C7FyHu6T/h6QCCHBnpwK+O9zSSZAAAAukGaZkmoQWyZTAhv//6MsAAARhC8aAuIYYASAG1L2NiU47GN6oYz8/U7AQeSRU9nqL/aUYgM6tTK33xMbvTFYD1yfAuaWO2A1fPu9UECtJ07dZWNbDB9LJuxkIJSnBNsTtWjmv68wjKmvJ1WiaVO6Ar8iTwCkD9gsDXiPo8nVKDhFARz8dwN/OqSKYDo4IwbrnBe7CQbIOAvDcsSGS0PBWemIbPvd+eNj+VJyt33HkAEkcfojICdHavggAAAAFFBnoRFFSwr/wAAFrUrKeJO54eh9SAFdcwcmoixLNG7yS6VOWqnj0MdSMwi/UyC5T8+Inf7RaBnBcxU5PZnAXKQ9rfiYsJ4AXFqx3VBtg/TjBcAAAAuAZ6jdEJ/AAAjwxdaQztFUoJ4qxXIv424uWZGwix55Bbx26EhWKUJ4xJ1bHctswAAADMBnqVqQn8AAA2ElS6ItCrGFSjF2pI79QAkubYxVCOazPH2hUWIacOKKBjocbCQ0FiNwWEAAADpQZqqSahBbJlMCG///oywAABGAPViRwBxyt/eLFgVF+v1UCPrTX8Z+KqW3/nKc+vFzFp2biEmxVOkldWJ/Prd4gsbT2ByApQO1hFdPv9/aMbxthvgeNTyzLNU9ZheDn/xbbhBUy0OXbYwi6VEu/HGsxqHVS7amHZLdv/M5HT2myUh//Z6lZ802ROmXoF0cM/vNiUU3GluxuQDRrwzQp3AXhkTv/is9SDJABI+KJJ+d9LIeJqnFe9Zu6BWv4WQRwOiu4Q6Gx2SbL0qME8t70x30zhDjGmqbKMIxfk0O+PUqSWik2IcvqbABsEAAABjQZ7IRRUsK/8AABayq++UeRSZ5GmW+QwN/UByKBnnwKblWY6NTTmWb9/ZF3CN59xihaf1Oe+5K5685JJBJeP1IppRAV3rtbW15YTBO52Q2n29/NL3VDcjIfhjKJfGuCCj/hxmAAAANwGe53RCfwAAI8CY3Tn4yaIZMz7etT6LGIA5rlX+fNT1cD+w1A8ClhTkVhz7DNl+Rp2/rRHXrmYAAAA8AZ7pakJ/AAAjrl4zeolIPaZmcbI1P/xadI1s3HCqCJ0YIIZF60QZcGbAZbuQlKKaIUdR4spdQnT5Q2PhAAAAjEGa60moQWyZTAhv//6MsAAARgLwmS6m6YfYm1DJur2vDQCa9gG5tHZ8CPJgGIyhq4LrTpun13/+IwATN7rYvnTD/i3v8ZQFxqUXDZXmuVz3osD2H1ehI/SjwafUIfnC370r2XEToBd9m6Hjfo6fyl/k8BCYSXRnsmDHN+GqbTxb8Svc8UqbLxKWe80YAAAA00GbD0nhClJlMCG//oywAABF84G6HwDADkpC1Y7LxlHepVkbnqwXKxB/nvcSEjAFidcKeL3y+4k5N+HsFW7zChwmQeWDkJXlfShDP+CL8y/Z2oIwxkV8PzqcG4LL8Mkfm31NSyOoIjX05lHM4YeUClXYwUycrIslFHab4UehHjFUesSkqcNU6rGO5ttebW+IcDFIFGj0N2jeqRt1mgGsLFa3rvYWlxvUsokxrvGPcU2yd7nBoiFuJV7JRlCkOxRqlN2NRbGwvGdNjFRcgrP4GNV4nVMAAAB7QZ8tRTRMK/8AABbALLFdcACMU3bFUPWWLlUc1p4n3oFI5vmd//h4jA5f2dn8IQuRRIcorJuMq0XIWX4ZcmcoOVvzYcO+AIzJj1usr+milxTwazFQNR2Wz1Lxwd66zRGZakk7rKpq1dW4Jvz9uohNZ+b818dsPII7kh7hAAAAPAGfTHRCfwAAI6nqU7pfPO88WF0moUYsdPTOmtaqaqiwnZlJcM3eukkRjMk9dYWm0ujygS++DOjOpiOYgQAAAEIBn05qQn8AACNDsOLyLwXyv2RACzRv3odc3kNZNzq8BmFjXBYMAhuSHc3hXh0s6z+rj8zUShMLV5GKZNT9gpE1bUcAAACPQZtTSahBaJlMCG///oywAAAaofLVZOGqkBIuhpAFaTTAf0Y5FUvkd4tfADY75tP7z6Nw9d2+rOEHAhM6MJ7kPALYrIy0YnEFIVR+Jm5vuSgzUBoXUDVg9moMtWOAZWQdIUPbtBEAH6PVXfrSQZwahahBEdYhe4o63JM8KF2ANcsBY7g6dfaMW0hCGtVkxzAAAAAvQZ9xRREsK/8AAAMDOFMV8smtslNBZBtNxeVNJ0WGOChW7dEVMRE3QUMu5HqUfBgAAAAbAZ+QdEJ/AAANhe03HCNbDdeA5o2A3wxzFCAhAAAAGAGfkmpCfwAAAwHmfpbJ8paZq4VlMkgYMAAAAIdBm5dJqEFsmUwIZ//+OEAAAQz6wo1gBXkPO1GZgRp5xRvhBDHaNXAr6zlD1sR6vQXDoy6zP8Aw0h7YVE20+dg+69VaGfKXU7zkXNs/gaYY5Ryl4ZGMnrSM/2/W81JpKvIxT8UCrYxgx6LELNRF9y0DotVL7R9tNrIJzGSDHLZPPVJ5mX2V1CwAAAArQZ+1RRUsK/8AABa8Q823FgesPsI1cZJTtCrI+/8+TffKxObdlNcE39mCwQAAABYBn9R0Qn8AAAMACjjKBp8lRInRJqxQAAAAOQGf1mpCfwAAI78EJm7tiz+4lFkPyg7jPSvtB3CguYABq6xBWa1gTka7ULFERpPwOFx68eyXZp5cJwAAANRBm9pJqEFsmUwIX//98QAAAwKgo1T6B/fiDH0SEwAH4gB5v0p3dFqQcS13CtJ0lxPedikLcwF/97J5NY/nekjn6oN1BKO+oCnlRpMeWywnGMyF8bbcxUDQQY5QBd0Eyl8znuaLpuxJTnB/CT+dZe3yeDcBRnj09ZV8uHTkU0AnC3/QcQoMWlm+51TW2e/uMX4jvPXA/U8KEkYEHbelHhroWya7DlbM8VH9S5/KeqC3my/0uD6QNkuNIcsBnA7s+9phgDQkSwpmtP0Jc64C83lBDCiQwQAAAFFBn/hFFSwr/wAAFqUSKvadWc2ybpGpNCfClnVEkQLizncrNlnx8QJrCOt8ztVeLtGgyCIhS+vnbxoHecCDFvhDhHdlGmaNqDM0h04/z2K9DfgAAABFAZ4ZakJ/AAAjvYOBybr6dIKTBdXGajbmZm/WKQjMwdgJXC4YzATxpXcCCIujb+gBNXQZ75LnQndXeX52lrCl9Fn9OvKBAAAAbUGaHUmoQWyZTAhP//yEAAAPzkoJBqShQpHP8ADVPlP/sVL1L1pFGPAkSia946t1mzKzKKpf4f3eBsD2OYYmvbYJED6qTNW30ggjLGEUX2VZGzT4f2s6vfZtYK8Vyap8G4k7b5i4sj4e0vdGB0QAAABdQZ47RRUsK/8AABayCMPVBQtIBWIyQY4KSpgF7K8cr9VirnLnB0d7vgJjEG6mVId9cxuhMwUX2Z7M1AB7sbw4y/wcpD1W8KEdmJn1V6Z/nbk9LO1ThYv/Zlky5v29AAAATwGeXGpCfwAAI54VL3eiYfKBOWdPtszLt+1pUVW+VupqjRCsHK7ogoykJ+6QsCaZSaRXO9125POABCbkWo0b5+CXO3VT92DG3rbNkZncVWEAAAjxbW9vdgAAAGxtdmhkAAAAAAAAAAAAAAAAAAAD6AAAEGgAAQAAAQAAAAAAAAAAAAAAAAEAAAAAAAAAAAAAAAAAAAABAAAAAAAAAAAAAAAAAABAAAAAAAAAAAAAAAAAAAAAAAAAAAAAAAAAAAAAAAAAAgAACBt0cmFrAAAAXHRraGQAAAADAAAAAAAAAAAAAAABAAAAAAAAEGgAAAAAAAAAAAAAAAAAAAAAAAEAAAAAAAAAAAAAAAAAAAABAAAAAAAAAAAAAAAAAABAAAAAAmAAAAGQAAAAAAAkZWR0cwAAABxlbHN0AAAAAAAAAAEAABBoAAAEAAABAAAAAAeTbWRpYQAAACBtZGhkAAAAAAAAAAAAAAAAAAA8AAAA/ABVxAAAAAAALWhkbHIAAAAAAAAAAHZpZGUAAAAAAAAAAAAAAABWaWRlb0hhbmRsZXIAAAAHPm1pbmYAAAAUdm1oZAAAAAEAAAAAAAAAAAAAACRkaW5mAAAAHGRyZWYAAAAAAAAAAQAAAAx1cmwgAAAAAQAABv5zdGJsAAAArnN0c2QAAAAAAAAAAQAAAJ5hdmMxAAAAAAAAAAEAAAAAAAAAAAAAAAAAAAAAAmABkABIAAAASAAAAAAAAAABAAAAAAAAAAAAAAAAAAAAAAAAAAAAAAAAAAAAAAAAAAAAGP//AAAANGF2Y0MBZAAe/+EAGGdkAB6s2UCYM6EAAAMAAQAAAwA8DxYtlgEABWjr5yyL/fj4AAAAABRidHJ0AAAAAAAAVgoAAFYKAAAAGHN0dHMAAAAAAAAAAQAAAH4AAAIAAAAAFHN0c3MAAAAAAAAAAQAAAAEAAAPgY3R0cwAAAAAAAAB6AAAAAQAABAAAAAABAAAKAAAAAAEAAAQAAAAAAQAAAAAAAAABAAACAAAAAAEAAAoAAAAAAQAABAAAAAABAAAAAAAAAAEAAAIAAAAAAQAACgAAAAABAAAEAAAAAAEAAAAAAAAAAQAAAgAAAAABAAAKAAAAAAEAAAQAAAAAAQAAAAAAAAABAAACAAAAAAEAAAoAAAAAAQAABAAAAAABAAAAAAAAAAEAAAIAAAAAAQAACgAAAAABAAAEAAAAAAEAAAAAAAAAAQAAAgAAAAABAAAKAAAAAAEAAAQAAAAAAQAAAAAAAAABAAACAAAAAAEAAAoAAAAAAQAABAAAAAABAAAAAAAAAAEAAAIAAAAAAQAACgAAAAABAAAEAAAAAAEAAAAAAAAAAQAAAgAAAAABAAAGAAAAAAEAAAIAAAAAAQAACAAAAAACAAACAAAAAAEAAAoAAAAAAQAABAAAAAABAAAAAAAAAAEAAAIAAAAAAQAACgAAAAABAAAEAAAAAAEAAAAAAAAAAQAAAgAAAAABAAAGAAAAAAEAAAIAAAAAAQAACgAAAAABAAAEAAAAAAEAAAAAAAAAAQAAAgAAAAABAAAKAAAAAAEAAAQAAAAAAQAAAAAAAAABAAACAAAAAAEAAAoAAAAAAQAABAAAAAABAAAAAAAAAAEAAAIAAAAAAQAACAAAAAACAAACAAAAAAEAAAoAAAAAAQAABAAAAAABAAAAAAAAAAEAAAIAAAAAAQAACgAAAAABAAAEAAAAAAEAAAAAAAAAAQAAAgAAAAABAAAKAAAAAAEAAAQAAAAAAQAAAAAAAAABAAACAAAAAAEAAAoAAAAAAQAABAAAAAABAAAAAAAAAAEAAAIAAAAAAQAACgAAAAABAAAEAAAAAAEAAAAAAAAAAQAAAgAAAAABAAAKAAAAAAEAAAQAAAAAAQAAAAAAAAABAAACAAAAAAEAAAoAAAAAAQAABAAAAAABAAAAAAAAAAEAAAIAAAAAAQAACgAAAAABAAAEAAAAAAEAAAAAAAAAAQAAAgAAAAABAAAKAAAAAAEAAAQAAAAAAQAAAAAAAAABAAACAAAAAAEAAAoAAAAAAQAABAAAAAABAAAAAAAAAAEAAAIAAAAAAQAABAAAAAABAAAKAAAAAAEAAAQAAAAAAQAAAAAAAAABAAACAAAAAAEAAAoAAAAAAQAABAAAAAABAAAAAAAAAAEAAAIAAAAAAQAACgAAAAABAAAEAAAAAAEAAAAAAAAAAQAAAgAAAAABAAAIAAAAAAIAAAIAAAAAAQAACAAAAAACAAACAAAAABxzdHNjAAAAAAAAAAEAAAABAAAAfgAAAAEAAAIMc3RzegAAAAAAAAAAAAAAfgAABKgAAABvAAAAKQAAABgAAAArAAAAhwAAAD0AAAAqAAAALQAAAMgAAAArAAAAFgAAADsAAAELAAAAcAAAAFAAAABbAAAAtAAAAEUAAABNAAAAMAAAAGAAAAAjAAAAFwAAAB0AAABXAAAAIgAAACEAAAAnAAAA0gAAACsAAAA+AAAALAAAAPcAAABQAAAAMgAAAEcAAAB+AAAALgAAAH8AAAAmAAAAKwAAANEAAABOAAAAMwAAAD8AAACLAAAAQgAAAEAAAAAtAAAAZQAAAC0AAAEoAAAASwAAADIAAAAhAAAArwAAAEAAAAAtAAAAKAAAAJEAAABNAAAAKAAAACgAAAE2AAAAWwAAAEAAAACMAAAAmQAAAFwAAABdAAAAMQAAACIAAAAtAAAAHwAAAGcAAAAnAAAAHwAAADgAAAAgAAAALgAAAB8AAAAfAAAAdQAAACgAAAAuAAAAIAAAAJMAAAA4AAAALQAAADYAAABwAAAAJwAAABsAAAAfAAAAdAAAACoAAAAiAAAAMQAAAL4AAABVAAAAMgAAADcAAADtAAAAZwAAADsAAABAAAAAkAAAANcAAAB/AAAAQAAAAEYAAACTAAAAMwAAAB8AAAAcAAAAiwAAAC8AAAAaAAAAPQAAANgAAABVAAAASQAAAHEAAABhAAAAUwAAABRzdGNvAAAAAAAAAAEAAAAwAAAAYnVkdGEAAABabWV0YQAAAAAAAAAhaGRscgAAAAAAAAAAbWRpcmFwcGwAAAAAAAAAAAAAAAAtaWxzdAAAACWpdG9vAAAAHWRhdGEAAAABAAAAAExhdmY1OC43Ni4xMDA=\" type=\"video/mp4\">\n",
       "  Your browser does not support the video tag.\n",
       "  </video>"
      ],
      "text/plain": [
       "<IPython.core.display.HTML object>"
      ]
     },
     "execution_count": 36,
     "metadata": {},
     "output_type": "execute_result"
    }
   ],
   "source": [
    "create_policy_eval_video(random_policy, \"random-agent\")"
   ]
  },
  {
   "cell_type": "code",
   "execution_count": null,
   "id": "52739771",
   "metadata": {
    "papermill": {
     "duration": 0.032492,
     "end_time": "2025-06-19T00:41:30.164343",
     "exception": false,
     "start_time": "2025-06-19T00:41:30.131851",
     "status": "completed"
    },
    "tags": []
   },
   "outputs": [],
   "source": []
  }
 ],
 "metadata": {
  "kaggle": {
   "accelerator": "gpu",
   "dataSources": [],
   "dockerImageVersionId": 30558,
   "isGpuEnabled": true,
   "isInternetEnabled": true,
   "language": "python",
   "sourceType": "notebook"
  },
  "kernelspec": {
   "display_name": "Python 3",
   "language": "python",
   "name": "python3"
  },
  "language_info": {
   "codemirror_mode": {
    "name": "ipython",
    "version": 3
   },
   "file_extension": ".py",
   "mimetype": "text/x-python",
   "name": "python",
   "nbconvert_exporter": "python",
   "pygments_lexer": "ipython3",
   "version": "3.10.12"
  },
  "papermill": {
   "default_parameters": {},
   "duration": 528.897805,
   "end_time": "2025-06-19T00:41:35.418844",
   "environment_variables": {},
   "exception": null,
   "input_path": "__notebook__.ipynb",
   "output_path": "__notebook__.ipynb",
   "parameters": {},
   "start_time": "2025-06-19T00:32:46.521039",
   "version": "2.4.0"
  }
 },
 "nbformat": 4,
 "nbformat_minor": 5
}
