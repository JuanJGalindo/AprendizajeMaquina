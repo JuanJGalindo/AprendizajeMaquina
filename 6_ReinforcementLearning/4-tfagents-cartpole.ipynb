{
 "cells": [
  {
   "cell_type": "markdown",
   "id": "95d344a7",
   "metadata": {
    "id": "klGNgWREsvQv",
    "papermill": {
     "duration": 0.016955,
     "end_time": "2024-09-11T22:46:45.404066",
     "exception": false,
     "start_time": "2024-09-11T22:46:45.387111",
     "status": "completed"
    },
    "tags": []
   },
   "source": [
    "##### Copyright 2023 The TF-Agents Authors."
   ]
  },
  {
   "cell_type": "code",
   "execution_count": 1,
   "id": "e9ac422e",
   "metadata": {
    "cellView": "form",
    "execution": {
     "iopub.execute_input": "2024-09-11T22:46:45.437751Z",
     "iopub.status.busy": "2024-09-11T22:46:45.437385Z",
     "iopub.status.idle": "2024-09-11T22:46:45.442482Z",
     "shell.execute_reply": "2024-09-11T22:46:45.441630Z"
    },
    "id": "nQnmcm0oI1Q-",
    "papermill": {
     "duration": 0.024518,
     "end_time": "2024-09-11T22:46:45.444758",
     "exception": false,
     "start_time": "2024-09-11T22:46:45.420240",
     "status": "completed"
    },
    "tags": []
   },
   "outputs": [],
   "source": [
    "#@title Licensed under the Apache License, Version 2.0 (the \"License\");\n",
    "# you may not use this file except in compliance with the License.\n",
    "# You may obtain a copy of the License at\n",
    "#\n",
    "# https://www.apache.org/licenses/LICENSE-2.0\n",
    "#\n",
    "# Unless required by applicable law or agreed to in writing, software\n",
    "# distributed under the License is distributed on an \"AS IS\" BASIS,\n",
    "# WITHOUT WARRANTIES OR CONDITIONS OF ANY KIND, either express or implied.\n",
    "# See the License for the specific language governing permissions and\n",
    "# limitations under the License."
   ]
  },
  {
   "cell_type": "markdown",
   "id": "bfd33eef",
   "metadata": {
    "id": "pmDI-h7cI0tI",
    "papermill": {
     "duration": 0.015949,
     "end_time": "2024-09-11T22:46:45.476388",
     "exception": false,
     "start_time": "2024-09-11T22:46:45.460439",
     "status": "completed"
    },
    "tags": []
   },
   "source": [
    "# Train a Deep Q Network with TF-Agents\n",
    "\n",
    "<table class=\"tfo-notebook-buttons\" align=\"left\">\n",
    "  <td>\n",
    "    <a target=\"_blank\" href=\"https://www.tensorflow.org/agents/tutorials/1_dqn_tutorial\">\n",
    "    <img src=\"https://www.tensorflow.org/images/tf_logo_32px.png\" />\n",
    "    View on TensorFlow.org</a>\n",
    "  </td>\n",
    "  <td>\n",
    "    <a target=\"_blank\" href=\"https://colab.research.google.com/github/tensorflow/agents/blob/master/docs/tutorials/1_dqn_tutorial.ipynb\">\n",
    "    <img src=\"https://www.tensorflow.org/images/colab_logo_32px.png\" />\n",
    "    Run in Google Colab</a>\n",
    "  </td>\n",
    "  <td>\n",
    "    <a target=\"_blank\" href=\"https://github.com/tensorflow/agents/blob/master/docs/tutorials/1_dqn_tutorial.ipynb\">\n",
    "    <img src=\"https://www.tensorflow.org/images/GitHub-Mark-32px.png\" />\n",
    "    View source on GitHub</a>\n",
    "  </td>\n",
    "  <td>\n",
    "    <a href=\"https://storage.googleapis.com/tensorflow_docs/agents/docs/tutorials/1_dqn_tutorial.ipynb\"><img src=\"https://www.tensorflow.org/images/download_logo_32px.png\" />Download notebook</a>\n",
    "  </td>\n",
    "</table>"
   ]
  },
  {
   "cell_type": "markdown",
   "id": "ecbcc5dd",
   "metadata": {
    "id": "lsaQlK8fFQqH",
    "papermill": {
     "duration": 0.016013,
     "end_time": "2024-09-11T22:46:45.508052",
     "exception": false,
     "start_time": "2024-09-11T22:46:45.492039",
     "status": "completed"
    },
    "tags": []
   },
   "source": [
    "## Introduction\n"
   ]
  },
  {
   "cell_type": "markdown",
   "id": "84175625",
   "metadata": {
    "id": "cKOCZlhUgXVK",
    "papermill": {
     "duration": 0.015752,
     "end_time": "2024-09-11T22:46:45.539508",
     "exception": false,
     "start_time": "2024-09-11T22:46:45.523756",
     "status": "completed"
    },
    "tags": []
   },
   "source": [
    "This example shows how to train a [DQN (Deep Q Networks)](https://storage.googleapis.com/deepmind-media/dqn/DQNNaturePaper.pdf)  agent on the Cartpole environment using the TF-Agents library.\n",
    "\n",
    "![Cartpole environment](https://raw.githubusercontent.com/tensorflow/agents/master/docs/tutorials/images/cartpole.png)\n",
    "\n",
    "It will walk you through all the components in a Reinforcement Learning (RL) pipeline for training, evaluation and data collection.\n",
    "\n",
    "\n",
    "To run this code live, click the 'Run in Google Colab' link above.\n"
   ]
  },
  {
   "cell_type": "markdown",
   "id": "4e4e075f",
   "metadata": {
    "id": "1u9QVVsShC9X",
    "papermill": {
     "duration": 0.015355,
     "end_time": "2024-09-11T22:46:45.570646",
     "exception": false,
     "start_time": "2024-09-11T22:46:45.555291",
     "status": "completed"
    },
    "tags": []
   },
   "source": [
    "## Setup"
   ]
  },
  {
   "cell_type": "markdown",
   "id": "46a0e10f",
   "metadata": {
    "id": "kNrNXKI7bINP",
    "papermill": {
     "duration": 0.015289,
     "end_time": "2024-09-11T22:46:45.601620",
     "exception": false,
     "start_time": "2024-09-11T22:46:45.586331",
     "status": "completed"
    },
    "tags": []
   },
   "source": [
    "If you haven't installed the following dependencies, run:"
   ]
  },
  {
   "cell_type": "code",
   "execution_count": 2,
   "id": "05798617",
   "metadata": {
    "execution": {
     "iopub.execute_input": "2024-09-11T22:46:45.636197Z",
     "iopub.status.busy": "2024-09-11T22:46:45.635323Z",
     "iopub.status.idle": "2024-09-11T22:49:23.772442Z",
     "shell.execute_reply": "2024-09-11T22:49:23.771142Z"
    },
    "id": "KEHR2Ui-lo8O",
    "papermill": {
     "duration": 158.157637,
     "end_time": "2024-09-11T22:49:23.774963",
     "exception": false,
     "start_time": "2024-09-11T22:46:45.617326",
     "status": "completed"
    },
    "tags": []
   },
   "outputs": [
    {
     "name": "stdout",
     "output_type": "stream",
     "text": [
      "Get:1 http://security.ubuntu.com/ubuntu jammy-security InRelease [129 kB]\r\n",
      "Get:2 http://packages.cloud.google.com/apt gcsfuse-focal InRelease [1227 B]\r\n",
      "Get:3 https://packages.cloud.google.com/apt cloud-sdk InRelease [1618 B]\r\n",
      "Get:4 https://developer.download.nvidia.com/compute/cuda/repos/ubuntu2204/x86_64  InRelease [1581 B]\r\n",
      "Get:5 https://packages.cloud.google.com/apt google-fast-socket InRelease [1071 B]\r\n",
      "Hit:6 http://archive.ubuntu.com/ubuntu jammy InRelease\r\n",
      "Get:7 http://archive.ubuntu.com/ubuntu jammy-updates InRelease [128 kB]\r\n",
      "Get:8 http://security.ubuntu.com/ubuntu jammy-security/main amd64 Packages [2224 kB]\r\n",
      "Get:9 http://security.ubuntu.com/ubuntu jammy-security/multiverse amd64 Packages [44.7 kB]\r\n",
      "Get:10 http://security.ubuntu.com/ubuntu jammy-security/restricted amd64 Packages [2967 kB]\r\n",
      "Get:11 http://security.ubuntu.com/ubuntu jammy-security/universe amd64 Packages [1149 kB]\r\n",
      "Get:12 https://developer.download.nvidia.com/compute/cuda/repos/ubuntu2204/x86_64  Packages [998 kB]\r\n",
      "Get:13 https://packages.cloud.google.com/apt cloud-sdk/main amd64 Packages [3249 kB]\r\n",
      "Get:14 http://archive.ubuntu.com/ubuntu jammy-backports InRelease [127 kB]\r\n",
      "Get:15 https://packages.cloud.google.com/apt cloud-sdk/main all Packages [1522 kB]\r\n",
      "Get:16 https://packages.cloud.google.com/apt google-fast-socket/main amd64 Packages [15.4 kB]\r\n",
      "Get:17 http://archive.ubuntu.com/ubuntu jammy-updates/restricted amd64 Packages [3045 kB]\r\n",
      "Get:18 http://archive.ubuntu.com/ubuntu jammy-updates/main amd64 Packages [2499 kB]\r\n",
      "Get:19 http://archive.ubuntu.com/ubuntu jammy-updates/multiverse amd64 Packages [51.8 kB]\r\n",
      "Get:20 http://archive.ubuntu.com/ubuntu jammy-updates/universe amd64 Packages [1438 kB]\r\n",
      "Get:21 http://archive.ubuntu.com/ubuntu jammy-backports/main amd64 Packages [81.4 kB]\r\n",
      "Get:22 http://archive.ubuntu.com/ubuntu jammy-backports/universe amd64 Packages [33.7 kB]\r\n",
      "\r\n",
      "W: http://packages.cloud.google.com/apt/dists/gcsfuse-focal/InRelease: Key is stored in legacy trusted.gpg keyring (/etc/apt/trusted.gpg), see the DEPRECATION section in apt-key(8) for details.\r\n",
      "E: Repository 'http://packages.cloud.google.com/apt gcsfuse-focal InRelease' changed its 'Origin' value from 'gcsfuse-jessie' to 'gcsfuse-focal'\r\n",
      "E: Repository 'http://packages.cloud.google.com/apt gcsfuse-focal InRelease' changed its 'Label' value from 'gcsfuse-jessie' to 'gcsfuse-focal'\r\n",
      "N: This must be accepted explicitly before updates for this repository can be applied. See apt-secure(8) manpage for details.\r\n",
      "W: https://packages.cloud.google.com/apt/dists/google-fast-socket/InRelease: Key is stored in legacy trusted.gpg keyring (/etc/apt/trusted.gpg), see the DEPRECATION section in apt-key(8) for details.\r\n",
      "\r\n",
      "\r\n",
      "\r\n",
      "ffmpeg is already the newest version (7:4.4.2-0ubuntu0.22.04.1).\r\n",
      "The following additional packages will be installed:\r\n",
      "  freeglut3 libegl-dev libegl-mesa0 libegl1 libgbm1 libgl-dev libgl1-mesa-dev\r\n",
      "  libgl1-mesa-dri libglapi-mesa libgles-dev libgles1 libgles2 libglu1-mesa\r\n",
      "  libglu1-mesa-dev libglvnd-core-dev libglvnd-dev libglx-dev libglx-mesa0\r\n",
      "  libice-dev libopengl-dev libopengl0 libpthread-stubs0-dev libsm-dev libx11-6\r\n",
      "  libx11-dev libx11-xcb1 libxau-dev libxcb1-dev libxdmcp-dev libxext-dev\r\n",
      "  libxt-dev x11proto-dev xorg-sgml-doctools xserver-common xtrans-dev\r\n",
      "Suggested packages:\r\n",
      "  libice-doc libsm-doc libx11-doc libxcb-doc libxext-doc libxt-doc\r\n",
      "The following NEW packages will be installed:\r\n",
      "  freeglut3 freeglut3-dev libegl-dev libegl-mesa0 libegl1 libgl-dev\r\n",
      "  libgl1-mesa-dev libgles-dev libgles1 libgles2 libglu1-mesa libglu1-mesa-dev\r\n",
      "  libglvnd-core-dev libglvnd-dev libglx-dev libice-dev libopengl-dev\r\n",
      "  libopengl0 libpthread-stubs0-dev libsm-dev libx11-dev libxau-dev libxcb1-dev\r\n",
      "  libxdmcp-dev libxext-dev libxt-dev x11proto-dev xorg-sgml-doctools\r\n",
      "  xtrans-dev\r\n",
      "The following packages will be upgraded:\r\n",
      "  libgbm1 libgl1-mesa-dri libglapi-mesa libglx-mesa0 libx11-6 libx11-xcb1\r\n",
      "  xserver-common xvfb\r\n",
      "8 upgraded, 29 newly installed, 0 to remove and 190 not upgraded.\r\n",
      "Need to get 13.8 MB of archives.\r\n",
      "After this operation, 15.9 MB of additional disk space will be used.\r\n",
      "Get:1 http://archive.ubuntu.com/ubuntu jammy-updates/main amd64 libx11-6 amd64 2:1.7.5-1ubuntu0.3 [667 kB]\r\n",
      "Get:2 http://archive.ubuntu.com/ubuntu jammy-updates/main amd64 libx11-xcb1 amd64 2:1.7.5-1ubuntu0.3 [7802 B]\r\n",
      "Get:3 http://archive.ubuntu.com/ubuntu jammy/universe amd64 freeglut3 amd64 2.8.1-6 [74.0 kB]\r\n",
      "Get:4 http://archive.ubuntu.com/ubuntu jammy/main amd64 xorg-sgml-doctools all 1:1.11-1.1 [10.9 kB]\r\n",
      "Get:5 http://archive.ubuntu.com/ubuntu jammy/main amd64 x11proto-dev all 2021.5-1 [604 kB]\r\n",
      "Get:6 http://archive.ubuntu.com/ubuntu jammy/main amd64 libxau-dev amd64 1:1.0.9-1build5 [9724 B]\r\n",
      "Get:7 http://archive.ubuntu.com/ubuntu jammy/main amd64 libxdmcp-dev amd64 1:1.1.3-0ubuntu5 [26.5 kB]\r\n",
      "Get:8 http://archive.ubuntu.com/ubuntu jammy/main amd64 xtrans-dev all 1.4.0-1 [68.9 kB]\r\n",
      "Get:9 http://archive.ubuntu.com/ubuntu jammy/main amd64 libpthread-stubs0-dev amd64 0.4-1build2 [5516 B]\r\n",
      "Get:10 http://archive.ubuntu.com/ubuntu jammy/main amd64 libxcb1-dev amd64 1.14-3ubuntu3 [86.5 kB]\r\n",
      "Get:11 http://archive.ubuntu.com/ubuntu jammy-updates/main amd64 libx11-dev amd64 2:1.7.5-1ubuntu0.3 [744 kB]\r\n",
      "Get:12 http://archive.ubuntu.com/ubuntu jammy/main amd64 libglx-dev amd64 1.4.0-1 [14.1 kB]\r\n",
      "Get:13 http://archive.ubuntu.com/ubuntu jammy/main amd64 libgl-dev amd64 1.4.0-1 [101 kB]\r\n",
      "Get:14 http://archive.ubuntu.com/ubuntu jammy/main amd64 libglvnd-core-dev amd64 1.4.0-1 [12.7 kB]\r\n",
      "Get:15 http://archive.ubuntu.com/ubuntu jammy-updates/main amd64 libgbm1 amd64 23.2.1-1ubuntu3.1~22.04.2 [33.5 kB]\r\n",
      "Get:16 http://archive.ubuntu.com/ubuntu jammy-updates/main amd64 libgl1-mesa-dri amd64 23.2.1-1ubuntu3.1~22.04.2 [8860 kB]\r\n",
      "Get:17 http://archive.ubuntu.com/ubuntu jammy-updates/main amd64 libglx-mesa0 amd64 23.2.1-1ubuntu3.1~22.04.2 [158 kB]\r\n",
      "Get:18 http://archive.ubuntu.com/ubuntu jammy-updates/main amd64 libglapi-mesa amd64 23.2.1-1ubuntu3.1~22.04.2 [37.1 kB]\r\n",
      "Get:19 http://archive.ubuntu.com/ubuntu jammy-updates/main amd64 libegl-mesa0 amd64 23.2.1-1ubuntu3.1~22.04.2 [118 kB]\r\n",
      "Get:20 http://archive.ubuntu.com/ubuntu jammy/main amd64 libegl1 amd64 1.4.0-1 [28.6 kB]\r\n",
      "Get:21 http://archive.ubuntu.com/ubuntu jammy/main amd64 libegl-dev amd64 1.4.0-1 [18.0 kB]\r\n",
      "Get:22 http://archive.ubuntu.com/ubuntu jammy/main amd64 libgles1 amd64 1.4.0-1 [11.5 kB]\r\n",
      "Get:23 http://archive.ubuntu.com/ubuntu jammy/main amd64 libgles2 amd64 1.4.0-1 [18.0 kB]\r\n",
      "Get:24 http://archive.ubuntu.com/ubuntu jammy/main amd64 libgles-dev amd64 1.4.0-1 [49.4 kB]\r\n",
      "Get:25 http://archive.ubuntu.com/ubuntu jammy/main amd64 libopengl0 amd64 1.4.0-1 [36.5 kB]\r\n",
      "Get:26 http://archive.ubuntu.com/ubuntu jammy/main amd64 libopengl-dev amd64 1.4.0-1 [3400 B]\r\n",
      "Get:27 http://archive.ubuntu.com/ubuntu jammy/main amd64 libglvnd-dev amd64 1.4.0-1 [3162 B]\r\n",
      "Get:28 http://archive.ubuntu.com/ubuntu jammy-updates/main amd64 libgl1-mesa-dev amd64 23.2.1-1ubuntu3.1~22.04.2 [6842 B]\r\n",
      "Get:29 http://archive.ubuntu.com/ubuntu jammy/main amd64 libglu1-mesa amd64 9.0.2-1 [145 kB]\r\n",
      "Get:30 http://archive.ubuntu.com/ubuntu jammy/main amd64 libglu1-mesa-dev amd64 9.0.2-1 [231 kB]\r\n",
      "Get:31 http://archive.ubuntu.com/ubuntu jammy/main amd64 libxext-dev amd64 2:1.3.4-1build1 [84.7 kB]\r\n",
      "Get:32 http://archive.ubuntu.com/ubuntu jammy/main amd64 libice-dev amd64 2:1.0.10-1build2 [51.4 kB]\r\n",
      "Get:33 http://archive.ubuntu.com/ubuntu jammy/main amd64 libsm-dev amd64 2:1.2.3-1build2 [18.1 kB]\r\n",
      "Get:34 http://archive.ubuntu.com/ubuntu jammy/main amd64 libxt-dev amd64 1:1.2.1-1 [396 kB]\r\n",
      "Get:35 http://archive.ubuntu.com/ubuntu jammy/universe amd64 freeglut3-dev amd64 2.8.1-6 [126 kB]\r\n",
      "Get:36 http://archive.ubuntu.com/ubuntu jammy-updates/main amd64 xserver-common all 2:21.1.4-2ubuntu1.7~22.04.11 [28.6 kB]\r\n",
      "Get:37 http://archive.ubuntu.com/ubuntu jammy-updates/universe amd64 xvfb amd64 2:21.1.4-2ubuntu1.7~22.04.11 [863 kB]\r\n",
      "Fetched 13.8 MB in 2s (8955 kB/s)\r\n",
      "Extracting templates from packages: 100%\r\n",
      "(Reading database ... 113818 files and directories currently installed.)\r\n",
      "Preparing to unpack .../00-libx11-6_2%3a1.7.5-1ubuntu0.3_amd64.deb ...\r\n",
      "Unpacking libx11-6:amd64 (2:1.7.5-1ubuntu0.3) over (2:1.7.5-1ubuntu0.2) ...\r\n",
      "Preparing to unpack .../01-libx11-xcb1_2%3a1.7.5-1ubuntu0.3_amd64.deb ...\r\n",
      "Unpacking libx11-xcb1:amd64 (2:1.7.5-1ubuntu0.3) over (2:1.7.5-1ubuntu0.2) ...\r\n",
      "Selecting previously unselected package freeglut3:amd64.\r\n",
      "Preparing to unpack .../02-freeglut3_2.8.1-6_amd64.deb ...\r\n",
      "Unpacking freeglut3:amd64 (2.8.1-6) ...\r\n",
      "Selecting previously unselected package xorg-sgml-doctools.\r\n",
      "Preparing to unpack .../03-xorg-sgml-doctools_1%3a1.11-1.1_all.deb ...\r\n",
      "Unpacking xorg-sgml-doctools (1:1.11-1.1) ...\r\n",
      "Selecting previously unselected package x11proto-dev.\r\n",
      "Preparing to unpack .../04-x11proto-dev_2021.5-1_all.deb ...\r\n",
      "Unpacking x11proto-dev (2021.5-1) ...\r\n",
      "Selecting previously unselected package libxau-dev:amd64.\r\n",
      "Preparing to unpack .../05-libxau-dev_1%3a1.0.9-1build5_amd64.deb ...\r\n",
      "Unpacking libxau-dev:amd64 (1:1.0.9-1build5) ...\r\n",
      "Selecting previously unselected package libxdmcp-dev:amd64.\r\n",
      "Preparing to unpack .../06-libxdmcp-dev_1%3a1.1.3-0ubuntu5_amd64.deb ...\r\n",
      "Unpacking libxdmcp-dev:amd64 (1:1.1.3-0ubuntu5) ...\r\n",
      "Selecting previously unselected package xtrans-dev.\r\n",
      "Preparing to unpack .../07-xtrans-dev_1.4.0-1_all.deb ...\r\n",
      "Unpacking xtrans-dev (1.4.0-1) ...\r\n",
      "Selecting previously unselected package libpthread-stubs0-dev:amd64.\r\n",
      "Preparing to unpack .../08-libpthread-stubs0-dev_0.4-1build2_amd64.deb ...\r\n",
      "Unpacking libpthread-stubs0-dev:amd64 (0.4-1build2) ...\r\n",
      "Selecting previously unselected package libxcb1-dev:amd64.\r\n",
      "Preparing to unpack .../09-libxcb1-dev_1.14-3ubuntu3_amd64.deb ...\r\n",
      "Unpacking libxcb1-dev:amd64 (1.14-3ubuntu3) ...\r\n",
      "Selecting previously unselected package libx11-dev:amd64.\r\n",
      "Preparing to unpack .../10-libx11-dev_2%3a1.7.5-1ubuntu0.3_amd64.deb ...\r\n",
      "Unpacking libx11-dev:amd64 (2:1.7.5-1ubuntu0.3) ...\r\n",
      "Selecting previously unselected package libglx-dev:amd64.\r\n",
      "Preparing to unpack .../11-libglx-dev_1.4.0-1_amd64.deb ...\r\n",
      "Unpacking libglx-dev:amd64 (1.4.0-1) ...\r\n",
      "Selecting previously unselected package libgl-dev:amd64.\r\n",
      "Preparing to unpack .../12-libgl-dev_1.4.0-1_amd64.deb ...\r\n",
      "Unpacking libgl-dev:amd64 (1.4.0-1) ...\r\n",
      "Selecting previously unselected package libglvnd-core-dev:amd64.\r\n",
      "Preparing to unpack .../13-libglvnd-core-dev_1.4.0-1_amd64.deb ...\r\n",
      "Unpacking libglvnd-core-dev:amd64 (1.4.0-1) ...\r\n",
      "Preparing to unpack .../14-libgbm1_23.2.1-1ubuntu3.1~22.04.2_amd64.deb ...\r\n",
      "Unpacking libgbm1:amd64 (23.2.1-1ubuntu3.1~22.04.2) over (23.0.4-0ubuntu1~22.04.1) ...\r\n",
      "Preparing to unpack .../15-libgl1-mesa-dri_23.2.1-1ubuntu3.1~22.04.2_amd64.deb ...\r\n",
      "Unpacking libgl1-mesa-dri:amd64 (23.2.1-1ubuntu3.1~22.04.2) over (23.0.4-0ubuntu1~22.04.1) ...\r\n",
      "Preparing to unpack .../16-libglx-mesa0_23.2.1-1ubuntu3.1~22.04.2_amd64.deb ...\r\n",
      "Unpacking libglx-mesa0:amd64 (23.2.1-1ubuntu3.1~22.04.2) over (23.0.4-0ubuntu1~22.04.1) ...\r\n",
      "Preparing to unpack .../17-libglapi-mesa_23.2.1-1ubuntu3.1~22.04.2_amd64.deb ...\r\n",
      "Unpacking libglapi-mesa:amd64 (23.2.1-1ubuntu3.1~22.04.2) over (23.0.4-0ubuntu1~22.04.1) ...\r\n",
      "Selecting previously unselected package libegl-mesa0:amd64.\r\n",
      "Preparing to unpack .../18-libegl-mesa0_23.2.1-1ubuntu3.1~22.04.2_amd64.deb ...\r\n",
      "Unpacking libegl-mesa0:amd64 (23.2.1-1ubuntu3.1~22.04.2) ...\r\n",
      "Selecting previously unselected package libegl1:amd64.\r\n",
      "Preparing to unpack .../19-libegl1_1.4.0-1_amd64.deb ...\r\n",
      "Unpacking libegl1:amd64 (1.4.0-1) ...\r\n",
      "Selecting previously unselected package libegl-dev:amd64.\r\n",
      "Preparing to unpack .../20-libegl-dev_1.4.0-1_amd64.deb ...\r\n",
      "Unpacking libegl-dev:amd64 (1.4.0-1) ...\r\n",
      "Selecting previously unselected package libgles1:amd64.\r\n",
      "Preparing to unpack .../21-libgles1_1.4.0-1_amd64.deb ...\r\n",
      "Unpacking libgles1:amd64 (1.4.0-1) ...\r\n",
      "Selecting previously unselected package libgles2:amd64.\r\n",
      "Preparing to unpack .../22-libgles2_1.4.0-1_amd64.deb ...\r\n",
      "Unpacking libgles2:amd64 (1.4.0-1) ...\r\n",
      "Selecting previously unselected package libgles-dev:amd64.\r\n",
      "Preparing to unpack .../23-libgles-dev_1.4.0-1_amd64.deb ...\r\n",
      "Unpacking libgles-dev:amd64 (1.4.0-1) ...\r\n",
      "Selecting previously unselected package libopengl0:amd64.\r\n",
      "Preparing to unpack .../24-libopengl0_1.4.0-1_amd64.deb ...\r\n",
      "Unpacking libopengl0:amd64 (1.4.0-1) ...\r\n",
      "Selecting previously unselected package libopengl-dev:amd64.\r\n",
      "Preparing to unpack .../25-libopengl-dev_1.4.0-1_amd64.deb ...\r\n",
      "Unpacking libopengl-dev:amd64 (1.4.0-1) ...\r\n",
      "Selecting previously unselected package libglvnd-dev:amd64.\r\n",
      "Preparing to unpack .../26-libglvnd-dev_1.4.0-1_amd64.deb ...\r\n",
      "Unpacking libglvnd-dev:amd64 (1.4.0-1) ...\r\n",
      "Selecting previously unselected package libgl1-mesa-dev:amd64.\r\n",
      "Preparing to unpack .../27-libgl1-mesa-dev_23.2.1-1ubuntu3.1~22.04.2_amd64.deb ...\r\n",
      "Unpacking libgl1-mesa-dev:amd64 (23.2.1-1ubuntu3.1~22.04.2) ...\r\n",
      "Selecting previously unselected package libglu1-mesa:amd64.\r\n",
      "Preparing to unpack .../28-libglu1-mesa_9.0.2-1_amd64.deb ...\r\n",
      "Unpacking libglu1-mesa:amd64 (9.0.2-1) ...\r\n",
      "Selecting previously unselected package libglu1-mesa-dev:amd64.\r\n",
      "Preparing to unpack .../29-libglu1-mesa-dev_9.0.2-1_amd64.deb ...\r\n",
      "Unpacking libglu1-mesa-dev:amd64 (9.0.2-1) ...\r\n",
      "Selecting previously unselected package libxext-dev:amd64.\r\n",
      "Preparing to unpack .../30-libxext-dev_2%3a1.3.4-1build1_amd64.deb ...\r\n",
      "Unpacking libxext-dev:amd64 (2:1.3.4-1build1) ...\r\n",
      "Selecting previously unselected package libice-dev:amd64.\r\n",
      "Preparing to unpack .../31-libice-dev_2%3a1.0.10-1build2_amd64.deb ...\r\n",
      "Unpacking libice-dev:amd64 (2:1.0.10-1build2) ...\r\n",
      "Selecting previously unselected package libsm-dev:amd64.\r\n",
      "Preparing to unpack .../32-libsm-dev_2%3a1.2.3-1build2_amd64.deb ...\r\n",
      "Unpacking libsm-dev:amd64 (2:1.2.3-1build2) ...\r\n",
      "Selecting previously unselected package libxt-dev:amd64.\r\n",
      "Preparing to unpack .../33-libxt-dev_1%3a1.2.1-1_amd64.deb ...\r\n",
      "Unpacking libxt-dev:amd64 (1:1.2.1-1) ...\r\n",
      "Selecting previously unselected package freeglut3-dev:amd64.\r\n",
      "Preparing to unpack .../34-freeglut3-dev_2.8.1-6_amd64.deb ...\r\n",
      "Unpacking freeglut3-dev:amd64 (2.8.1-6) ...\r\n",
      "Preparing to unpack .../35-xserver-common_2%3a21.1.4-2ubuntu1.7~22.04.11_all.deb ...\r\n",
      "Unpacking xserver-common (2:21.1.4-2ubuntu1.7~22.04.11) over (2:21.1.4-2ubuntu1.7~22.04.1) ...\r\n",
      "Preparing to unpack .../36-xvfb_2%3a21.1.4-2ubuntu1.7~22.04.11_amd64.deb ...\r\n",
      "Unpacking xvfb (2:21.1.4-2ubuntu1.7~22.04.11) over (2:21.1.4-2ubuntu1.7~22.04.1) ...\r\n",
      "Setting up libglvnd-core-dev:amd64 (1.4.0-1) ...\r\n",
      "Setting up libgbm1:amd64 (23.2.1-1ubuntu3.1~22.04.2) ...\r\n",
      "Setting up libpthread-stubs0-dev:amd64 (0.4-1build2) ...\r\n",
      "Setting up libopengl0:amd64 (1.4.0-1) ...\r\n",
      "Setting up xtrans-dev (1.4.0-1) ...\r\n",
      "Setting up libgles2:amd64 (1.4.0-1) ...\r\n",
      "Setting up libgles1:amd64 (1.4.0-1) ...\r\n",
      "Setting up libglapi-mesa:amd64 (23.2.1-1ubuntu3.1~22.04.2) ...\r\n",
      "Setting up libx11-6:amd64 (2:1.7.5-1ubuntu0.3) ...\r\n",
      "Setting up xorg-sgml-doctools (1:1.11-1.1) ...\r\n",
      "Setting up libglu1-mesa:amd64 (9.0.2-1) ...\r\n",
      "Setting up xserver-common (2:21.1.4-2ubuntu1.7~22.04.11) ...\r\n",
      "Setting up libopengl-dev:amd64 (1.4.0-1) ...\r\n",
      "Setting up x11proto-dev (2021.5-1) ...\r\n",
      "Setting up libx11-xcb1:amd64 (2:1.7.5-1ubuntu0.3) ...\r\n",
      "Setting up freeglut3:amd64 (2.8.1-6) ...\r\n",
      "Setting up libxau-dev:amd64 (1:1.0.9-1build5) ...\r\n",
      "Setting up libice-dev:amd64 (2:1.0.10-1build2) ...\r\n",
      "Setting up libsm-dev:amd64 (2:1.2.3-1build2) ...\r\n",
      "Setting up xvfb (2:21.1.4-2ubuntu1.7~22.04.11) ...\r\n",
      "Setting up libgl1-mesa-dri:amd64 (23.2.1-1ubuntu3.1~22.04.2) ...\r\n",
      "Setting up libxdmcp-dev:amd64 (1:1.1.3-0ubuntu5) ...\r\n",
      "Setting up libegl-mesa0:amd64 (23.2.1-1ubuntu3.1~22.04.2) ...\r\n",
      "Setting up libegl1:amd64 (1.4.0-1) ...\r\n",
      "Setting up libglx-mesa0:amd64 (23.2.1-1ubuntu3.1~22.04.2) ...\r\n",
      "Setting up libxcb1-dev:amd64 (1.14-3ubuntu3) ...\r\n",
      "Setting up libx11-dev:amd64 (2:1.7.5-1ubuntu0.3) ...\r\n",
      "Setting up libxt-dev:amd64 (1:1.2.1-1) ...\r\n",
      "Setting up libxext-dev:amd64 (2:1.3.4-1build1) ...\r\n",
      "Setting up libglx-dev:amd64 (1.4.0-1) ...\r\n",
      "Setting up libgl-dev:amd64 (1.4.0-1) ...\r\n",
      "Setting up libegl-dev:amd64 (1.4.0-1) ...\r\n",
      "Setting up libglu1-mesa-dev:amd64 (9.0.2-1) ...\r\n",
      "Setting up libgles-dev:amd64 (1.4.0-1) ...\r\n",
      "Setting up libglvnd-dev:amd64 (1.4.0-1) ...\r\n",
      "Setting up libgl1-mesa-dev:amd64 (23.2.1-1ubuntu3.1~22.04.2) ...\r\n",
      "Setting up freeglut3-dev:amd64 (2.8.1-6) ...\r\n",
      "Processing triggers for man-db (2.10.2-1) ...\r\n",
      "Processing triggers for libc-bin (2.35-0ubuntu3.1) ...\r\n",
      "Collecting imageio==2.4.0\r\n",
      "  Downloading imageio-2.4.0.tar.gz (3.3 MB)\r\n",
      "\u001b[2K     \u001b[90m━━━━━━━━━━━━━━━━━━━━━━━━━━━━━━━━━━━━━━━━\u001b[0m \u001b[32m3.3/3.3 MB\u001b[0m \u001b[31m56.0 MB/s\u001b[0m eta \u001b[36m0:00:00\u001b[0m\r\n",
      "\u001b[?25h  Preparing metadata (setup.py) ... \u001b[?25ldone\r\n",
      "\u001b[?25hRequirement already satisfied: numpy in /opt/conda/lib/python3.10/site-packages (from imageio==2.4.0) (1.23.5)\r\n",
      "Requirement already satisfied: pillow in /opt/conda/lib/python3.10/site-packages (from imageio==2.4.0) (9.5.0)\r\n",
      "Building wheels for collected packages: imageio\r\n",
      "  Building wheel for imageio (setup.py) ... \u001b[?25l-\b \bdone\r\n",
      "\u001b[?25h  Created wheel for imageio: filename=imageio-2.4.0-py3-none-any.whl size=3303893 sha256=0bb3e0d8dad6badae9c59db442ce64cde5f98cf7f6891c1b50721683b3bb7c26\r\n",
      "  Stored in directory: /root/.cache/pip/wheels/8a/d8/1c/eb9350a4bd3ae8e8814a2f7f9cc832fedad8ea5a926181d60d\r\n",
      "Successfully built imageio\r\n",
      "Installing collected packages: imageio\r\n",
      "  Attempting uninstall: imageio\r\n",
      "    Found existing installation: imageio 2.31.1\r\n",
      "    Uninstalling imageio-2.31.1:\r\n",
      "      Successfully uninstalled imageio-2.31.1\r\n",
      "\u001b[31mERROR: pip's dependency resolver does not currently take into account all the packages that are installed. This behaviour is the source of the following dependency conflicts.\r\n",
      "scikit-image 0.21.0 requires imageio>=2.27, but you have imageio 2.4.0 which is incompatible.\u001b[0m\u001b[31m\r\n",
      "\u001b[0mSuccessfully installed imageio-2.4.0\r\n",
      "Collecting pyvirtualdisplay\r\n",
      "  Downloading PyVirtualDisplay-3.0-py3-none-any.whl (15 kB)\r\n",
      "Installing collected packages: pyvirtualdisplay\r\n",
      "Successfully installed pyvirtualdisplay-3.0\r\n",
      "Collecting tf-agents[reverb]\r\n",
      "  Downloading tf_agents-0.19.0-py3-none-any.whl (1.4 MB)\r\n",
      "\u001b[2K     \u001b[90m━━━━━━━━━━━━━━━━━━━━━━━━━━━━━━━━━━━━━━━━\u001b[0m \u001b[32m1.4/1.4 MB\u001b[0m \u001b[31m17.5 MB/s\u001b[0m eta \u001b[36m0:00:00\u001b[0m\r\n",
      "\u001b[?25hRequirement already satisfied: absl-py>=0.6.1 in /opt/conda/lib/python3.10/site-packages (from tf-agents[reverb]) (1.4.0)\r\n",
      "Requirement already satisfied: cloudpickle>=1.3 in /opt/conda/lib/python3.10/site-packages (from tf-agents[reverb]) (2.2.1)\r\n",
      "Collecting gin-config>=0.4.0 (from tf-agents[reverb])\r\n",
      "  Downloading gin_config-0.5.0-py3-none-any.whl (61 kB)\r\n",
      "\u001b[2K     \u001b[90m━━━━━━━━━━━━━━━━━━━━━━━━━━━━━━━━━━━━━━━━\u001b[0m \u001b[32m61.3/61.3 kB\u001b[0m \u001b[31m6.9 MB/s\u001b[0m eta \u001b[36m0:00:00\u001b[0m\r\n",
      "\u001b[?25hCollecting gym<=0.23.0,>=0.17.0 (from tf-agents[reverb])\r\n",
      "  Downloading gym-0.23.0.tar.gz (624 kB)\r\n",
      "\u001b[2K     \u001b[90m━━━━━━━━━━━━━━━━━━━━━━━━━━━━━━━━━━━━━━\u001b[0m \u001b[32m624.4/624.4 kB\u001b[0m \u001b[31m23.6 MB/s\u001b[0m eta \u001b[36m0:00:00\u001b[0m\r\n",
      "\u001b[?25h  Installing build dependencies ... \u001b[?25l-\b \b\\\b \b|\b \b/\b \bdone\r\n",
      "\u001b[?25h  Getting requirements to build wheel ... \u001b[?25l-\b \bdone\r\n",
      "\u001b[?25h  Preparing metadata (pyproject.toml) ... \u001b[?25l-\b \bdone\r\n",
      "\u001b[?25hRequirement already satisfied: numpy>=1.19.0 in /opt/conda/lib/python3.10/site-packages (from tf-agents[reverb]) (1.23.5)\r\n",
      "Requirement already satisfied: pillow in /opt/conda/lib/python3.10/site-packages (from tf-agents[reverb]) (9.5.0)\r\n",
      "Requirement already satisfied: six>=1.10.0 in /opt/conda/lib/python3.10/site-packages (from tf-agents[reverb]) (1.16.0)\r\n",
      "Requirement already satisfied: protobuf>=3.11.3 in /opt/conda/lib/python3.10/site-packages (from tf-agents[reverb]) (3.20.3)\r\n",
      "Requirement already satisfied: wrapt>=1.11.1 in /opt/conda/lib/python3.10/site-packages (from tf-agents[reverb]) (1.14.1)\r\n",
      "Collecting typing-extensions==4.5.0 (from tf-agents[reverb])\r\n",
      "  Downloading typing_extensions-4.5.0-py3-none-any.whl (27 kB)\r\n",
      "Collecting pygame==2.1.3 (from tf-agents[reverb])\r\n",
      "  Downloading pygame-2.1.3-cp310-cp310-manylinux_2_17_x86_64.manylinux2014_x86_64.whl (13.7 MB)\r\n",
      "\u001b[2K     \u001b[90m━━━━━━━━━━━━━━━━━━━━━━━━━━━━━━━━━━━━━━━━\u001b[0m \u001b[32m13.7/13.7 MB\u001b[0m \u001b[31m58.4 MB/s\u001b[0m eta \u001b[36m0:00:00\u001b[0m\r\n",
      "\u001b[?25hCollecting tensorflow-probability~=0.23.0 (from tf-agents[reverb])\r\n",
      "  Downloading tensorflow_probability-0.23.0-py2.py3-none-any.whl (6.9 MB)\r\n",
      "\u001b[2K     \u001b[90m━━━━━━━━━━━━━━━━━━━━━━━━━━━━━━━━━━━━━━━━\u001b[0m \u001b[32m6.9/6.9 MB\u001b[0m \u001b[31m72.1 MB/s\u001b[0m eta \u001b[36m0:00:00\u001b[0m\r\n",
      "\u001b[?25hCollecting rlds (from tf-agents[reverb])\r\n",
      "  Downloading rlds-0.1.8-py3-none-manylinux2010_x86_64.whl (48 kB)\r\n",
      "\u001b[2K     \u001b[90m━━━━━━━━━━━━━━━━━━━━━━━━━━━━━━━━━━━━━━━━\u001b[0m \u001b[32m48.4/48.4 kB\u001b[0m \u001b[31m4.8 MB/s\u001b[0m eta \u001b[36m0:00:00\u001b[0m\r\n",
      "\u001b[?25hCollecting dm-reverb~=0.14.0 (from tf-agents[reverb])\r\n",
      "  Downloading dm_reverb-0.14.0-cp310-cp310-manylinux2014_x86_64.whl (6.4 MB)\r\n",
      "\u001b[2K     \u001b[90m━━━━━━━━━━━━━━━━━━━━━━━━━━━━━━━━━━━━━━━━\u001b[0m \u001b[32m6.4/6.4 MB\u001b[0m \u001b[31m89.0 MB/s\u001b[0m eta \u001b[36m0:00:00\u001b[0m\r\n",
      "\u001b[?25hCollecting tensorflow~=2.15.0 (from tf-agents[reverb])\r\n",
      "  Downloading tensorflow-2.15.1-cp310-cp310-manylinux_2_17_x86_64.manylinux2014_x86_64.whl (475.2 MB)\r\n",
      "\u001b[2K     \u001b[90m━━━━━━━━━━━━━━━━━━━━━━━━━━━━━━━━━━━━━━━\u001b[0m \u001b[32m475.2/475.2 MB\u001b[0m \u001b[31m2.7 MB/s\u001b[0m eta \u001b[36m0:00:00\u001b[0m\r\n",
      "\u001b[?25hRequirement already satisfied: dm-tree in /opt/conda/lib/python3.10/site-packages (from dm-reverb~=0.14.0->tf-agents[reverb]) (0.1.8)\r\n",
      "Collecting portpicker (from dm-reverb~=0.14.0->tf-agents[reverb])\r\n",
      "  Downloading portpicker-1.6.0-py3-none-any.whl (16 kB)\r\n",
      "Requirement already satisfied: gym-notices>=0.0.4 in /opt/conda/lib/python3.10/site-packages (from gym<=0.23.0,>=0.17.0->tf-agents[reverb]) (0.0.8)\r\n",
      "Requirement already satisfied: astunparse>=1.6.0 in /opt/conda/lib/python3.10/site-packages (from tensorflow~=2.15.0->tf-agents[reverb]) (1.6.3)\r\n",
      "Requirement already satisfied: flatbuffers>=23.5.26 in /opt/conda/lib/python3.10/site-packages (from tensorflow~=2.15.0->tf-agents[reverb]) (23.5.26)\r\n",
      "Requirement already satisfied: gast!=0.5.0,!=0.5.1,!=0.5.2,>=0.2.1 in /opt/conda/lib/python3.10/site-packages (from tensorflow~=2.15.0->tf-agents[reverb]) (0.4.0)\r\n",
      "Requirement already satisfied: google-pasta>=0.1.1 in /opt/conda/lib/python3.10/site-packages (from tensorflow~=2.15.0->tf-agents[reverb]) (0.2.0)\r\n",
      "Requirement already satisfied: h5py>=2.9.0 in /opt/conda/lib/python3.10/site-packages (from tensorflow~=2.15.0->tf-agents[reverb]) (3.9.0)\r\n",
      "Requirement already satisfied: libclang>=13.0.0 in /opt/conda/lib/python3.10/site-packages (from tensorflow~=2.15.0->tf-agents[reverb]) (16.0.0)\r\n",
      "Collecting ml-dtypes~=0.3.1 (from tensorflow~=2.15.0->tf-agents[reverb])\r\n",
      "  Downloading ml_dtypes-0.3.2-cp310-cp310-manylinux_2_17_x86_64.manylinux2014_x86_64.whl (2.2 MB)\r\n",
      "\u001b[2K     \u001b[90m━━━━━━━━━━━━━━━━━━━━━━━━━━━━━━━━━━━━━━━━\u001b[0m \u001b[32m2.2/2.2 MB\u001b[0m \u001b[31m78.5 MB/s\u001b[0m eta \u001b[36m0:00:00\u001b[0m\r\n",
      "\u001b[?25hRequirement already satisfied: opt-einsum>=2.3.2 in /opt/conda/lib/python3.10/site-packages (from tensorflow~=2.15.0->tf-agents[reverb]) (3.3.0)\r\n",
      "Requirement already satisfied: packaging in /opt/conda/lib/python3.10/site-packages (from tensorflow~=2.15.0->tf-agents[reverb]) (21.3)\r\n",
      "Requirement already satisfied: setuptools in /opt/conda/lib/python3.10/site-packages (from tensorflow~=2.15.0->tf-agents[reverb]) (68.0.0)\r\n",
      "Requirement already satisfied: termcolor>=1.1.0 in /opt/conda/lib/python3.10/site-packages (from tensorflow~=2.15.0->tf-agents[reverb]) (2.3.0)\r\n",
      "Requirement already satisfied: tensorflow-io-gcs-filesystem>=0.23.1 in /opt/conda/lib/python3.10/site-packages (from tensorflow~=2.15.0->tf-agents[reverb]) (0.32.0)\r\n",
      "Requirement already satisfied: grpcio<2.0,>=1.24.3 in /opt/conda/lib/python3.10/site-packages (from tensorflow~=2.15.0->tf-agents[reverb]) (1.51.1)\r\n",
      "Collecting tensorboard<2.16,>=2.15 (from tensorflow~=2.15.0->tf-agents[reverb])\r\n",
      "  Downloading tensorboard-2.15.2-py3-none-any.whl (5.5 MB)\r\n",
      "\u001b[2K     \u001b[90m━━━━━━━━━━━━━━━━━━━━━━━━━━━━━━━━━━━━━━━━\u001b[0m \u001b[32m5.5/5.5 MB\u001b[0m \u001b[31m69.0 MB/s\u001b[0m eta \u001b[36m0:00:00\u001b[0m\r\n",
      "\u001b[?25hCollecting tensorflow-estimator<2.16,>=2.15.0 (from tensorflow~=2.15.0->tf-agents[reverb])\r\n",
      "  Downloading tensorflow_estimator-2.15.0-py2.py3-none-any.whl (441 kB)\r\n",
      "\u001b[2K     \u001b[90m━━━━━━━━━━━━━━━━━━━━━━━━━━━━━━━━━━━━━━\u001b[0m \u001b[32m442.0/442.0 kB\u001b[0m \u001b[31m33.4 MB/s\u001b[0m eta \u001b[36m0:00:00\u001b[0m\r\n",
      "\u001b[?25hCollecting keras<2.16,>=2.15.0 (from tensorflow~=2.15.0->tf-agents[reverb])\r\n",
      "  Downloading keras-2.15.0-py3-none-any.whl (1.7 MB)\r\n",
      "\u001b[2K     \u001b[90m━━━━━━━━━━━━━━━━━━━━━━━━━━━━━━━━━━━━━━━━\u001b[0m \u001b[32m1.7/1.7 MB\u001b[0m \u001b[31m73.9 MB/s\u001b[0m eta \u001b[36m0:00:00\u001b[0m\r\n",
      "\u001b[?25hRequirement already satisfied: decorator in /opt/conda/lib/python3.10/site-packages (from tensorflow-probability~=0.23.0->tf-agents[reverb]) (5.1.1)\r\n",
      "Requirement already satisfied: wheel<1.0,>=0.23.0 in /opt/conda/lib/python3.10/site-packages (from astunparse>=1.6.0->tensorflow~=2.15.0->tf-agents[reverb]) (0.40.0)\r\n",
      "Requirement already satisfied: google-auth<3,>=1.6.3 in /opt/conda/lib/python3.10/site-packages (from tensorboard<2.16,>=2.15->tensorflow~=2.15.0->tf-agents[reverb]) (2.20.0)\r\n",
      "Requirement already satisfied: google-auth-oauthlib<2,>=0.5 in /opt/conda/lib/python3.10/site-packages (from tensorboard<2.16,>=2.15->tensorflow~=2.15.0->tf-agents[reverb]) (1.0.0)\r\n",
      "Requirement already satisfied: markdown>=2.6.8 in /opt/conda/lib/python3.10/site-packages (from tensorboard<2.16,>=2.15->tensorflow~=2.15.0->tf-agents[reverb]) (3.4.3)\r\n",
      "Requirement already satisfied: requests<3,>=2.21.0 in /opt/conda/lib/python3.10/site-packages (from tensorboard<2.16,>=2.15->tensorflow~=2.15.0->tf-agents[reverb]) (2.31.0)\r\n",
      "Requirement already satisfied: tensorboard-data-server<0.8.0,>=0.7.0 in /opt/conda/lib/python3.10/site-packages (from tensorboard<2.16,>=2.15->tensorflow~=2.15.0->tf-agents[reverb]) (0.7.1)\r\n",
      "Requirement already satisfied: werkzeug>=1.0.1 in /opt/conda/lib/python3.10/site-packages (from tensorboard<2.16,>=2.15->tensorflow~=2.15.0->tf-agents[reverb]) (2.3.7)\r\n",
      "Requirement already satisfied: pyparsing!=3.0.5,>=2.0.2 in /opt/conda/lib/python3.10/site-packages (from packaging->tensorflow~=2.15.0->tf-agents[reverb]) (3.0.9)\r\n",
      "Requirement already satisfied: psutil in /opt/conda/lib/python3.10/site-packages (from portpicker->dm-reverb~=0.14.0->tf-agents[reverb]) (5.9.3)\r\n",
      "Requirement already satisfied: cachetools<6.0,>=2.0.0 in /opt/conda/lib/python3.10/site-packages (from google-auth<3,>=1.6.3->tensorboard<2.16,>=2.15->tensorflow~=2.15.0->tf-agents[reverb]) (4.2.4)\r\n",
      "Requirement already satisfied: pyasn1-modules>=0.2.1 in /opt/conda/lib/python3.10/site-packages (from google-auth<3,>=1.6.3->tensorboard<2.16,>=2.15->tensorflow~=2.15.0->tf-agents[reverb]) (0.2.7)\r\n",
      "Requirement already satisfied: rsa<5,>=3.1.4 in /opt/conda/lib/python3.10/site-packages (from google-auth<3,>=1.6.3->tensorboard<2.16,>=2.15->tensorflow~=2.15.0->tf-agents[reverb]) (4.9)\r\n",
      "Requirement already satisfied: urllib3<2.0 in /opt/conda/lib/python3.10/site-packages (from google-auth<3,>=1.6.3->tensorboard<2.16,>=2.15->tensorflow~=2.15.0->tf-agents[reverb]) (1.26.15)\r\n",
      "Requirement already satisfied: requests-oauthlib>=0.7.0 in /opt/conda/lib/python3.10/site-packages (from google-auth-oauthlib<2,>=0.5->tensorboard<2.16,>=2.15->tensorflow~=2.15.0->tf-agents[reverb]) (1.3.1)\r\n",
      "Requirement already satisfied: charset-normalizer<4,>=2 in /opt/conda/lib/python3.10/site-packages (from requests<3,>=2.21.0->tensorboard<2.16,>=2.15->tensorflow~=2.15.0->tf-agents[reverb]) (3.1.0)\r\n",
      "Requirement already satisfied: idna<4,>=2.5 in /opt/conda/lib/python3.10/site-packages (from requests<3,>=2.21.0->tensorboard<2.16,>=2.15->tensorflow~=2.15.0->tf-agents[reverb]) (3.4)\r\n",
      "Requirement already satisfied: certifi>=2017.4.17 in /opt/conda/lib/python3.10/site-packages (from requests<3,>=2.21.0->tensorboard<2.16,>=2.15->tensorflow~=2.15.0->tf-agents[reverb]) (2023.7.22)\r\n",
      "Requirement already satisfied: MarkupSafe>=2.1.1 in /opt/conda/lib/python3.10/site-packages (from werkzeug>=1.0.1->tensorboard<2.16,>=2.15->tensorflow~=2.15.0->tf-agents[reverb]) (2.1.3)\r\n",
      "Requirement already satisfied: pyasn1<0.5.0,>=0.4.6 in /opt/conda/lib/python3.10/site-packages (from pyasn1-modules>=0.2.1->google-auth<3,>=1.6.3->tensorboard<2.16,>=2.15->tensorflow~=2.15.0->tf-agents[reverb]) (0.4.8)\r\n",
      "Requirement already satisfied: oauthlib>=3.0.0 in /opt/conda/lib/python3.10/site-packages (from requests-oauthlib>=0.7.0->google-auth-oauthlib<2,>=0.5->tensorboard<2.16,>=2.15->tensorflow~=2.15.0->tf-agents[reverb]) (3.2.2)\r\n",
      "Building wheels for collected packages: gym\r\n",
      "  Building wheel for gym (pyproject.toml) ... \u001b[?25l-\b \b\\\b \b|\b \bdone\r\n",
      "\u001b[?25h  Created wheel for gym: filename=gym-0.23.0-py3-none-any.whl size=697632 sha256=cfeef30fbbf7d624e6447c8cbeae7cb30ed35cf9cedad16b59453ae84ce4c734\r\n",
      "  Stored in directory: /root/.cache/pip/wheels/3d/6f/b4/3991d4fae11d0ecb0754c11cc1b4e7745012850da4efaaf0b1\r\n",
      "Successfully built gym\r\n",
      "Installing collected packages: gin-config, typing-extensions, tensorflow-probability, tensorflow-estimator, rlds, pygame, portpicker, ml-dtypes, keras, gym, tf-agents, dm-reverb, tensorboard, tensorflow\r\n",
      "  Attempting uninstall: typing-extensions\r\n",
      "    Found existing installation: typing_extensions 4.6.3\r\n",
      "    Uninstalling typing_extensions-4.6.3:\r\n",
      "      Successfully uninstalled typing_extensions-4.6.3\r\n",
      "  Attempting uninstall: tensorflow-probability\r\n",
      "    Found existing installation: tensorflow-probability 0.20.1\r\n",
      "    Uninstalling tensorflow-probability-0.20.1:\r\n",
      "      Successfully uninstalled tensorflow-probability-0.20.1\r\n",
      "  Attempting uninstall: tensorflow-estimator\r\n",
      "    Found existing installation: tensorflow-estimator 2.12.0\r\n",
      "    Uninstalling tensorflow-estimator-2.12.0:\r\n",
      "      Successfully uninstalled tensorflow-estimator-2.12.0\r\n",
      "  Attempting uninstall: ml-dtypes\r\n",
      "    Found existing installation: ml-dtypes 0.2.0\r\n",
      "    Uninstalling ml-dtypes-0.2.0:\r\n",
      "      Successfully uninstalled ml-dtypes-0.2.0\r\n",
      "  Attempting uninstall: keras\r\n",
      "    Found existing installation: keras 2.12.0\r\n",
      "    Uninstalling keras-2.12.0:\r\n",
      "      Successfully uninstalled keras-2.12.0\r\n",
      "  Attempting uninstall: gym\r\n",
      "    Found existing installation: gym 0.26.2\r\n",
      "    Uninstalling gym-0.26.2:\r\n",
      "      Successfully uninstalled gym-0.26.2\r\n",
      "  Attempting uninstall: tensorboard\r\n",
      "    Found existing installation: tensorboard 2.12.3\r\n",
      "    Uninstalling tensorboard-2.12.3:\r\n",
      "      Successfully uninstalled tensorboard-2.12.3\r\n",
      "  Attempting uninstall: tensorflow\r\n",
      "    Found existing installation: tensorflow 2.12.0\r\n",
      "    Uninstalling tensorflow-2.12.0:\r\n",
      "      Successfully uninstalled tensorflow-2.12.0\r\n",
      "\u001b[31mERROR: pip's dependency resolver does not currently take into account all the packages that are installed. This behaviour is the source of the following dependency conflicts.\r\n",
      "cudf 23.8.0 requires cupy-cuda11x>=12.0.0, which is not installed.\r\n",
      "cuml 23.8.0 requires cupy-cuda11x>=12.0.0, which is not installed.\r\n",
      "dask-cudf 23.8.0 requires cupy-cuda11x>=12.0.0, which is not installed.\r\n",
      "apache-beam 2.46.0 requires dill<0.3.2,>=0.3.1.1, but you have dill 0.3.7 which is incompatible.\r\n",
      "apache-beam 2.46.0 requires pyarrow<10.0.0,>=3.0.0, but you have pyarrow 11.0.0 which is incompatible.\r\n",
      "chex 0.1.82 requires numpy>=1.25.0, but you have numpy 1.23.5 which is incompatible.\r\n",
      "cudf 23.8.0 requires pandas<1.6.0dev0,>=1.3, but you have pandas 2.0.2 which is incompatible.\r\n",
      "cudf 23.8.0 requires protobuf<5,>=4.21, but you have protobuf 3.20.3 which is incompatible.\r\n",
      "cuml 23.8.0 requires dask==2023.7.1, but you have dask 2023.9.0 which is incompatible.\r\n",
      "dask-cudf 23.8.0 requires dask==2023.7.1, but you have dask 2023.9.0 which is incompatible.\r\n",
      "dask-cudf 23.8.0 requires pandas<1.6.0dev0,>=1.3, but you have pandas 2.0.2 which is incompatible.\r\n",
      "pydantic-core 2.6.3 requires typing-extensions!=4.7.0,>=4.6.0, but you have typing-extensions 4.5.0 which is incompatible.\r\n",
      "pymc3 3.11.5 requires numpy<1.22.2,>=1.15.0, but you have numpy 1.23.5 which is incompatible.\r\n",
      "pymc3 3.11.5 requires scipy<1.8.0,>=1.7.3, but you have scipy 1.11.2 which is incompatible.\r\n",
      "tensorflow-decision-forests 1.4.0 requires tensorflow~=2.12.0, but you have tensorflow 2.15.1 which is incompatible.\r\n",
      "tensorflow-text 2.12.1 requires tensorflow<2.13,>=2.12.0; platform_machine != \"arm64\" or platform_system != \"Darwin\", but you have tensorflow 2.15.1 which is incompatible.\r\n",
      "ydata-profiling 4.3.1 requires scipy<1.11,>=1.4.1, but you have scipy 1.11.2 which is incompatible.\u001b[0m\u001b[31m\r\n",
      "\u001b[0mSuccessfully installed dm-reverb-0.14.0 gin-config-0.5.0 gym-0.23.0 keras-2.15.0 ml-dtypes-0.3.2 portpicker-1.6.0 pygame-2.1.3 rlds-0.1.8 tensorboard-2.15.2 tensorflow-2.15.1 tensorflow-estimator-2.15.0 tensorflow-probability-0.23.0 tf-agents-0.19.0 typing-extensions-4.5.0\r\n",
      "Collecting pyglet\r\n",
      "  Downloading pyglet-2.0.17-py3-none-any.whl (936 kB)\r\n",
      "\u001b[2K     \u001b[90m━━━━━━━━━━━━━━━━━━━━━━━━━━━━━━━━━━━━━━\u001b[0m \u001b[32m936.6/936.6 kB\u001b[0m \u001b[31m14.7 MB/s\u001b[0m eta \u001b[36m0:00:00\u001b[0m\r\n",
      "\u001b[?25hInstalling collected packages: pyglet\r\n",
      "Successfully installed pyglet-2.0.17\r\n"
     ]
    }
   ],
   "source": [
    "!sudo apt-get update\n",
    "!sudo apt-get install -y xvfb ffmpeg freeglut3-dev\n",
    "!pip install 'imageio==2.4.0'\n",
    "!pip install pyvirtualdisplay\n",
    "!pip install tf-agents[reverb]\n",
    "!pip install pyglet"
   ]
  },
  {
   "cell_type": "code",
   "execution_count": 3,
   "id": "cc9910e9",
   "metadata": {
    "execution": {
     "iopub.execute_input": "2024-09-11T22:49:23.867804Z",
     "iopub.status.busy": "2024-09-11T22:49:23.866907Z",
     "iopub.status.idle": "2024-09-11T22:49:30.388195Z",
     "shell.execute_reply": "2024-09-11T22:49:30.387350Z"
    },
    "id": "sMitx5qSgJk1",
    "papermill": {
     "duration": 6.570098,
     "end_time": "2024-09-11T22:49:30.390622",
     "exception": false,
     "start_time": "2024-09-11T22:49:23.820524",
     "status": "completed"
    },
    "tags": []
   },
   "outputs": [
    {
     "name": "stderr",
     "output_type": "stream",
     "text": [
      "2024-09-11 22:49:24.252186: E external/local_xla/xla/stream_executor/cuda/cuda_dnn.cc:9261] Unable to register cuDNN factory: Attempting to register factory for plugin cuDNN when one has already been registered\n",
      "2024-09-11 22:49:24.252251: E external/local_xla/xla/stream_executor/cuda/cuda_fft.cc:607] Unable to register cuFFT factory: Attempting to register factory for plugin cuFFT when one has already been registered\n",
      "2024-09-11 22:49:24.253776: E external/local_xla/xla/stream_executor/cuda/cuda_blas.cc:1515] Unable to register cuBLAS factory: Attempting to register factory for plugin cuBLAS when one has already been registered\n",
      "/opt/conda/lib/python3.10/site-packages/scipy/__init__.py:146: UserWarning: A NumPy version >=1.16.5 and <1.23.0 is required for this version of SciPy (detected version 1.23.5\n",
      "  warnings.warn(f\"A NumPy version >={np_minversion} and <{np_maxversion}\"\n"
     ]
    }
   ],
   "source": [
    "from __future__ import absolute_import, division, print_function\n",
    "\n",
    "import base64\n",
    "import imageio\n",
    "import IPython\n",
    "import matplotlib\n",
    "import matplotlib.pyplot as plt\n",
    "import numpy as np\n",
    "import PIL.Image\n",
    "import pyvirtualdisplay\n",
    "import reverb\n",
    "\n",
    "import tensorflow as tf\n",
    "\n",
    "from tf_agents.agents.dqn import dqn_agent\n",
    "from tf_agents.drivers import py_driver\n",
    "from tf_agents.environments import suite_gym\n",
    "from tf_agents.environments import tf_py_environment\n",
    "from tf_agents.eval import metric_utils\n",
    "from tf_agents.metrics import tf_metrics\n",
    "from tf_agents.networks import sequential\n",
    "from tf_agents.policies import py_tf_eager_policy\n",
    "from tf_agents.policies import random_tf_policy\n",
    "from tf_agents.replay_buffers import reverb_replay_buffer\n",
    "from tf_agents.replay_buffers import reverb_utils\n",
    "from tf_agents.trajectories import trajectory\n",
    "from tf_agents.specs import tensor_spec\n",
    "from tf_agents.utils import common"
   ]
  },
  {
   "cell_type": "code",
   "execution_count": 4,
   "id": "7dd0e103",
   "metadata": {
    "execution": {
     "iopub.execute_input": "2024-09-11T22:49:30.483843Z",
     "iopub.status.busy": "2024-09-11T22:49:30.482937Z",
     "iopub.status.idle": "2024-09-11T22:49:30.933976Z",
     "shell.execute_reply": "2024-09-11T22:49:30.933095Z"
    },
    "id": "J6HsdS5GbSjd",
    "papermill": {
     "duration": 0.499789,
     "end_time": "2024-09-11T22:49:30.936299",
     "exception": false,
     "start_time": "2024-09-11T22:49:30.436510",
     "status": "completed"
    },
    "tags": []
   },
   "outputs": [],
   "source": [
    "# Set up a virtual display for rendering OpenAI gym environments.\n",
    "display = pyvirtualdisplay.Display(visible=0, size=(1400, 900)).start()"
   ]
  },
  {
   "cell_type": "code",
   "execution_count": 5,
   "id": "6f0a344c",
   "metadata": {
    "execution": {
     "iopub.execute_input": "2024-09-11T22:49:31.029310Z",
     "iopub.status.busy": "2024-09-11T22:49:31.028928Z",
     "iopub.status.idle": "2024-09-11T22:49:31.036020Z",
     "shell.execute_reply": "2024-09-11T22:49:31.035111Z"
    },
    "id": "NspmzG4nP3b9",
    "papermill": {
     "duration": 0.055373,
     "end_time": "2024-09-11T22:49:31.037957",
     "exception": false,
     "start_time": "2024-09-11T22:49:30.982584",
     "status": "completed"
    },
    "tags": []
   },
   "outputs": [
    {
     "data": {
      "text/plain": [
       "'2.15.1'"
      ]
     },
     "execution_count": 5,
     "metadata": {},
     "output_type": "execute_result"
    }
   ],
   "source": [
    "tf.version.VERSION"
   ]
  },
  {
   "cell_type": "markdown",
   "id": "c6ff73bf",
   "metadata": {
    "id": "LmC0NDhdLIKY",
    "papermill": {
     "duration": 0.044894,
     "end_time": "2024-09-11T22:49:31.128327",
     "exception": false,
     "start_time": "2024-09-11T22:49:31.083433",
     "status": "completed"
    },
    "tags": []
   },
   "source": [
    "## Hyperparameters"
   ]
  },
  {
   "cell_type": "code",
   "execution_count": 6,
   "id": "09eab1a5",
   "metadata": {
    "execution": {
     "iopub.execute_input": "2024-09-11T22:49:31.221593Z",
     "iopub.status.busy": "2024-09-11T22:49:31.220630Z",
     "iopub.status.idle": "2024-09-11T22:49:31.226775Z",
     "shell.execute_reply": "2024-09-11T22:49:31.225786Z"
    },
    "id": "HC1kNrOsLSIZ",
    "papermill": {
     "duration": 0.055288,
     "end_time": "2024-09-11T22:49:31.229113",
     "exception": false,
     "start_time": "2024-09-11T22:49:31.173825",
     "status": "completed"
    },
    "tags": []
   },
   "outputs": [],
   "source": [
    "num_iterations = 20000 # @param {type:\"integer\"}\n",
    "\n",
    "initial_collect_steps = 100  # @param {type:\"integer\"}\n",
    "collect_steps_per_iteration =   1# @param {type:\"integer\"}\n",
    "replay_buffer_max_length = 100000  # @param {type:\"integer\"}\n",
    "\n",
    "batch_size = 64  # @param {type:\"integer\"}\n",
    "learning_rate = 1e-3  # @param {type:\"number\"}\n",
    "log_interval = 200  # @param {type:\"integer\"}\n",
    "\n",
    "num_eval_episodes = 10  # @param {type:\"integer\"}\n",
    "eval_interval = 1000  # @param {type:\"integer\"}"
   ]
  },
  {
   "cell_type": "markdown",
   "id": "3c2e34ca",
   "metadata": {
    "id": "VMsJC3DEgI0x",
    "papermill": {
     "duration": 0.044918,
     "end_time": "2024-09-11T22:49:31.320973",
     "exception": false,
     "start_time": "2024-09-11T22:49:31.276055",
     "status": "completed"
    },
    "tags": []
   },
   "source": [
    "## Environment\n",
    "\n",
    "In Reinforcement Learning (RL), an environment represents the task or problem to be solved. Standard environments can be created in TF-Agents using `tf_agents.environments` suites. TF-Agents has suites for loading environments from sources such as the OpenAI Gym, Atari, and DM Control.\n",
    "\n",
    "Load the CartPole environment from the OpenAI Gym suite. "
   ]
  },
  {
   "cell_type": "code",
   "execution_count": 7,
   "id": "d2d1b337",
   "metadata": {
    "execution": {
     "iopub.execute_input": "2024-09-11T22:49:31.413114Z",
     "iopub.status.busy": "2024-09-11T22:49:31.412782Z",
     "iopub.status.idle": "2024-09-11T22:49:31.455355Z",
     "shell.execute_reply": "2024-09-11T22:49:31.454389Z"
    },
    "id": "pYEz-S9gEv2-",
    "papermill": {
     "duration": 0.091259,
     "end_time": "2024-09-11T22:49:31.457740",
     "exception": false,
     "start_time": "2024-09-11T22:49:31.366481",
     "status": "completed"
    },
    "tags": []
   },
   "outputs": [],
   "source": [
    "env_name = 'CartPole-v0'\n",
    "env = suite_gym.load(env_name)"
   ]
  },
  {
   "cell_type": "markdown",
   "id": "e17ca1b6",
   "metadata": {
    "id": "IIHYVBkuvPNw",
    "papermill": {
     "duration": 0.052736,
     "end_time": "2024-09-11T22:49:31.560928",
     "exception": false,
     "start_time": "2024-09-11T22:49:31.508192",
     "status": "completed"
    },
    "tags": []
   },
   "source": [
    "You can render this environment to see how it looks. A free-swinging pole is attached to a cart.  The goal is to move the cart right or left in order to keep the pole pointing up."
   ]
  },
  {
   "cell_type": "code",
   "execution_count": 8,
   "id": "b3f0ed25",
   "metadata": {
    "execution": {
     "iopub.execute_input": "2024-09-11T22:49:31.668959Z",
     "iopub.status.busy": "2024-09-11T22:49:31.667983Z",
     "iopub.status.idle": "2024-09-11T22:49:32.172780Z",
     "shell.execute_reply": "2024-09-11T22:49:32.171676Z"
    },
    "id": "RlO7WIQHu_7D",
    "papermill": {
     "duration": 0.561415,
     "end_time": "2024-09-11T22:49:32.175203",
     "exception": false,
     "start_time": "2024-09-11T22:49:31.613788",
     "status": "completed"
    },
    "tags": []
   },
   "outputs": [
    {
     "name": "stderr",
     "output_type": "stream",
     "text": [
      "ALSA lib confmisc.c:855:(parse_card) cannot find card '0'\n",
      "ALSA lib conf.c:5180:(_snd_config_evaluate) function snd_func_card_inum returned error: No such file or directory\n",
      "ALSA lib confmisc.c:422:(snd_func_concat) error evaluating strings\n",
      "ALSA lib conf.c:5180:(_snd_config_evaluate) function snd_func_concat returned error: No such file or directory\n",
      "ALSA lib confmisc.c:1334:(snd_func_refer) error evaluating name\n",
      "ALSA lib conf.c:5180:(_snd_config_evaluate) function snd_func_refer returned error: No such file or directory\n",
      "ALSA lib conf.c:5703:(snd_config_expand) Evaluate error: No such file or directory\n",
      "ALSA lib pcm.c:2666:(snd_pcm_open_noupdate) Unknown PCM default\n"
     ]
    },
    {
     "data": {
      "image/png": "[encoded data removed]",
      "text/plain": [
       "<PIL.Image.Image image mode=RGB size=600x400>"
      ]
     },
     "execution_count": 8,
     "metadata": {},
     "output_type": "execute_result"
    }
   ],
   "source": [
    "#@test {\"skip\": true}\n",
    "env.reset()\n",
    "PIL.Image.fromarray(env.render())"
   ]
  },
  {
   "cell_type": "markdown",
   "id": "83f13d79",
   "metadata": {
    "id": "B9_lskPOey18",
    "papermill": {
     "duration": 0.048317,
     "end_time": "2024-09-11T22:49:32.269426",
     "exception": false,
     "start_time": "2024-09-11T22:49:32.221109",
     "status": "completed"
    },
    "tags": []
   },
   "source": [
    "The `environment.step` method takes an `action` in the environment and returns a `TimeStep` tuple containing the next observation of the environment and the reward for the action.\n",
    "\n",
    "The `time_step_spec()` method returns the specification for the `TimeStep` tuple. Its `observation` attribute shows the shape of observations, the data types, and the ranges of allowed values. The `reward` attribute shows the same details for the reward.\n"
   ]
  },
  {
   "cell_type": "code",
   "execution_count": 9,
   "id": "1ac236f7",
   "metadata": {
    "execution": {
     "iopub.execute_input": "2024-09-11T22:49:32.362696Z",
     "iopub.status.busy": "2024-09-11T22:49:32.362261Z",
     "iopub.status.idle": "2024-09-11T22:49:32.370262Z",
     "shell.execute_reply": "2024-09-11T22:49:32.369344Z"
    },
    "id": "exDv57iHfwQV",
    "papermill": {
     "duration": 0.057679,
     "end_time": "2024-09-11T22:49:32.373109",
     "exception": false,
     "start_time": "2024-09-11T22:49:32.315430",
     "status": "completed"
    },
    "tags": []
   },
   "outputs": [
    {
     "name": "stdout",
     "output_type": "stream",
     "text": [
      "Observation Spec:\n",
      "BoundedArraySpec(shape=(4,), dtype=dtype('float32'), name='observation', minimum=[-4.8000002e+00 -3.4028235e+38 -4.1887903e-01 -3.4028235e+38], maximum=[4.8000002e+00 3.4028235e+38 4.1887903e-01 3.4028235e+38])\n"
     ]
    }
   ],
   "source": [
    "print('Observation Spec:')\n",
    "print(env.time_step_spec().observation)"
   ]
  },
  {
   "cell_type": "code",
   "execution_count": 10,
   "id": "9e808545",
   "metadata": {
    "execution": {
     "iopub.execute_input": "2024-09-11T22:49:32.468147Z",
     "iopub.status.busy": "2024-09-11T22:49:32.467758Z",
     "iopub.status.idle": "2024-09-11T22:49:32.473255Z",
     "shell.execute_reply": "2024-09-11T22:49:32.472349Z"
    },
    "id": "UxiSyCbBUQPi",
    "papermill": {
     "duration": 0.054822,
     "end_time": "2024-09-11T22:49:32.475505",
     "exception": false,
     "start_time": "2024-09-11T22:49:32.420683",
     "status": "completed"
    },
    "tags": []
   },
   "outputs": [
    {
     "name": "stdout",
     "output_type": "stream",
     "text": [
      "Reward Spec:\n",
      "ArraySpec(shape=(), dtype=dtype('float32'), name='reward')\n"
     ]
    }
   ],
   "source": [
    "print('Reward Spec:')\n",
    "print(env.time_step_spec().reward)"
   ]
  },
  {
   "cell_type": "markdown",
   "id": "aed0fe2e",
   "metadata": {
    "id": "b_lHcIcqUaqB",
    "papermill": {
     "duration": 0.045833,
     "end_time": "2024-09-11T22:49:32.567236",
     "exception": false,
     "start_time": "2024-09-11T22:49:32.521403",
     "status": "completed"
    },
    "tags": []
   },
   "source": [
    "The `action_spec()` method returns the shape, data types, and allowed values of valid actions."
   ]
  },
  {
   "cell_type": "code",
   "execution_count": 11,
   "id": "07f3fb4d",
   "metadata": {
    "execution": {
     "iopub.execute_input": "2024-09-11T22:49:32.662038Z",
     "iopub.status.busy": "2024-09-11T22:49:32.661640Z",
     "iopub.status.idle": "2024-09-11T22:49:32.666698Z",
     "shell.execute_reply": "2024-09-11T22:49:32.665790Z"
    },
    "id": "bttJ4uxZUQBr",
    "papermill": {
     "duration": 0.054988,
     "end_time": "2024-09-11T22:49:32.668791",
     "exception": false,
     "start_time": "2024-09-11T22:49:32.613803",
     "status": "completed"
    },
    "tags": []
   },
   "outputs": [
    {
     "name": "stdout",
     "output_type": "stream",
     "text": [
      "Action Spec:\n",
      "BoundedArraySpec(shape=(), dtype=dtype('int64'), name='action', minimum=0, maximum=1)\n"
     ]
    }
   ],
   "source": [
    "print('Action Spec:')\n",
    "print(env.action_spec())"
   ]
  },
  {
   "cell_type": "markdown",
   "id": "3f8cc43a",
   "metadata": {
    "id": "eJCgJnx3g0yY",
    "papermill": {
     "duration": 0.045457,
     "end_time": "2024-09-11T22:49:32.759956",
     "exception": false,
     "start_time": "2024-09-11T22:49:32.714499",
     "status": "completed"
    },
    "tags": []
   },
   "source": [
    "In the Cartpole environment:\n",
    "\n",
    "-   `observation` is an array of 4 floats: \n",
    "    -   the position and velocity of the cart\n",
    "    -   the angular position and velocity of the pole \n",
    "-   `reward` is a scalar float value\n",
    "-   `action` is a scalar integer with only two possible values:\n",
    "    -   `0` — \"move left\"\n",
    "    -   `1` — \"move right\"\n"
   ]
  },
  {
   "cell_type": "code",
   "execution_count": 12,
   "id": "81913fe6",
   "metadata": {
    "execution": {
     "iopub.execute_input": "2024-09-11T22:49:32.853716Z",
     "iopub.status.busy": "2024-09-11T22:49:32.853342Z",
     "iopub.status.idle": "2024-09-11T22:49:32.866599Z",
     "shell.execute_reply": "2024-09-11T22:49:32.865667Z"
    },
    "id": "V2UGR5t_iZX-",
    "papermill": {
     "duration": 0.062679,
     "end_time": "2024-09-11T22:49:32.868782",
     "exception": false,
     "start_time": "2024-09-11T22:49:32.806103",
     "status": "completed"
    },
    "tags": []
   },
   "outputs": [
    {
     "name": "stdout",
     "output_type": "stream",
     "text": [
      "Time step:\n",
      "TimeStep(\n",
      "{'step_type': array(0, dtype=int32),\n",
      " 'reward': array(0., dtype=float32),\n",
      " 'discount': array(1., dtype=float32),\n",
      " 'observation': array([ 0.00469335, -0.03855878,  0.02151318,  0.03130858], dtype=float32)})\n",
      "Next time step:\n",
      "TimeStep(\n",
      "{'step_type': array(1, dtype=int32),\n",
      " 'reward': array(1., dtype=float32),\n",
      " 'discount': array(1., dtype=float32),\n",
      " 'observation': array([ 0.00392217,  0.15624817,  0.02213935, -0.2545098 ], dtype=float32)})\n"
     ]
    }
   ],
   "source": [
    "time_step = env.reset()\n",
    "print('Time step:')\n",
    "print(time_step)\n",
    "\n",
    "action = np.array(1, dtype=np.int32)\n",
    "\n",
    "next_time_step = env.step(action)\n",
    "print('Next time step:')\n",
    "print(next_time_step)"
   ]
  },
  {
   "cell_type": "markdown",
   "id": "6b627c5e",
   "metadata": {
    "id": "4JSc9GviWUBK",
    "papermill": {
     "duration": 0.046387,
     "end_time": "2024-09-11T22:49:32.963318",
     "exception": false,
     "start_time": "2024-09-11T22:49:32.916931",
     "status": "completed"
    },
    "tags": []
   },
   "source": [
    "Usually two environments are instantiated: one for training and one for evaluation. "
   ]
  },
  {
   "cell_type": "code",
   "execution_count": 13,
   "id": "efdb3a86",
   "metadata": {
    "execution": {
     "iopub.execute_input": "2024-09-11T22:49:33.057403Z",
     "iopub.status.busy": "2024-09-11T22:49:33.056456Z",
     "iopub.status.idle": "2024-09-11T22:49:33.064368Z",
     "shell.execute_reply": "2024-09-11T22:49:33.063371Z"
    },
    "id": "N7brXNIGWXjC",
    "papermill": {
     "duration": 0.057095,
     "end_time": "2024-09-11T22:49:33.066423",
     "exception": false,
     "start_time": "2024-09-11T22:49:33.009328",
     "status": "completed"
    },
    "tags": []
   },
   "outputs": [],
   "source": [
    "train_py_env = suite_gym.load(env_name)\n",
    "eval_py_env = suite_gym.load(env_name)"
   ]
  },
  {
   "cell_type": "markdown",
   "id": "45c3fa4e",
   "metadata": {
    "id": "zuUqXAVmecTU",
    "papermill": {
     "duration": 0.045816,
     "end_time": "2024-09-11T22:49:33.159875",
     "exception": false,
     "start_time": "2024-09-11T22:49:33.114059",
     "status": "completed"
    },
    "tags": []
   },
   "source": [
    "The Cartpole environment, like most environments, is written in pure Python. This is converted to TensorFlow using the `TFPyEnvironment` wrapper.\n",
    "\n",
    "The original environment's API uses Numpy arrays. The `TFPyEnvironment` converts these to `Tensors` to make it compatible with Tensorflow agents and policies.\n"
   ]
  },
  {
   "cell_type": "code",
   "execution_count": 14,
   "id": "f4fa49fe",
   "metadata": {
    "execution": {
     "iopub.execute_input": "2024-09-11T22:49:33.254374Z",
     "iopub.status.busy": "2024-09-11T22:49:33.254014Z",
     "iopub.status.idle": "2024-09-11T22:49:33.271080Z",
     "shell.execute_reply": "2024-09-11T22:49:33.269954Z"
    },
    "id": "Xp-Y4mD6eDhF",
    "papermill": {
     "duration": 0.066887,
     "end_time": "2024-09-11T22:49:33.273560",
     "exception": false,
     "start_time": "2024-09-11T22:49:33.206673",
     "status": "completed"
    },
    "tags": []
   },
   "outputs": [],
   "source": [
    "train_env = tf_py_environment.TFPyEnvironment(train_py_env)\n",
    "eval_env = tf_py_environment.TFPyEnvironment(eval_py_env)"
   ]
  },
  {
   "cell_type": "markdown",
   "id": "2b1621ef",
   "metadata": {
    "id": "E9lW_OZYFR8A",
    "papermill": {
     "duration": 0.074743,
     "end_time": "2024-09-11T22:49:33.396697",
     "exception": false,
     "start_time": "2024-09-11T22:49:33.321954",
     "status": "completed"
    },
    "tags": []
   },
   "source": [
    "## Agent\n",
    "\n",
    "The algorithm used to solve an RL problem is represented by an `Agent`. TF-Agents provides standard implementations of a variety of `Agents`, including:\n",
    "\n",
    "-   [DQN](https://storage.googleapis.com/deepmind-media/dqn/DQNNaturePaper.pdf) (used in this tutorial)\n",
    "-   [REINFORCE](https://www-anw.cs.umass.edu/~barto/courses/cs687/williams92simple.pdf)\n",
    "-   [DDPG](https://arxiv.org/pdf/1509.02971.pdf)\n",
    "-   [TD3](https://arxiv.org/pdf/1802.09477.pdf)\n",
    "-   [PPO](https://arxiv.org/abs/1707.06347)\n",
    "-   [SAC](https://arxiv.org/abs/1801.01290)\n",
    "\n",
    "The DQN agent can be used in any environment which has a discrete action space.\n",
    "\n",
    "At the heart of a DQN Agent is a `QNetwork`, a neural network model that can learn to predict `QValues` (expected returns) for all actions, given an observation from the environment.\n",
    "\n",
    "We will use `tf_agents.networks.` to create a `QNetwork`. The network will consist of a sequence of `tf.keras.layers.Dense` layers, where the final layer will have 1 output for each possible action."
   ]
  },
  {
   "cell_type": "code",
   "execution_count": 15,
   "id": "7acb4ee6",
   "metadata": {
    "execution": {
     "iopub.execute_input": "2024-09-11T22:49:33.534440Z",
     "iopub.status.busy": "2024-09-11T22:49:33.533849Z",
     "iopub.status.idle": "2024-09-11T22:49:33.564697Z",
     "shell.execute_reply": "2024-09-11T22:49:33.563917Z"
    },
    "id": "TgkdEPg_muzV",
    "papermill": {
     "duration": 0.101512,
     "end_time": "2024-09-11T22:49:33.567025",
     "exception": false,
     "start_time": "2024-09-11T22:49:33.465513",
     "status": "completed"
    },
    "tags": []
   },
   "outputs": [],
   "source": [
    "fc_layer_params = (100, 50)\n",
    "action_tensor_spec = tensor_spec.from_spec(env.action_spec())\n",
    "num_actions = action_tensor_spec.maximum - action_tensor_spec.minimum + 1\n",
    "\n",
    "# Define a helper function to create Dense layers configured with the right\n",
    "# activation and kernel initializer.\n",
    "def dense_layer(num_units):\n",
    "  return tf.keras.layers.Dense(\n",
    "      num_units,\n",
    "      activation=tf.keras.activations.relu,\n",
    "      kernel_initializer=tf.keras.initializers.VarianceScaling(\n",
    "          scale=2.0, mode='fan_in', distribution='truncated_normal'))\n",
    "\n",
    "# QNetwork consists of a sequence of Dense layers followed by a dense layer\n",
    "# with `num_actions` units to generate one q_value per available action as\n",
    "# its output.\n",
    "dense_layers = [dense_layer(num_units) for num_units in fc_layer_params]\n",
    "q_values_layer = tf.keras.layers.Dense(\n",
    "    num_actions,\n",
    "    activation=None,\n",
    "    kernel_initializer=tf.keras.initializers.RandomUniform(\n",
    "        minval=-0.03, maxval=0.03),\n",
    "    bias_initializer=tf.keras.initializers.Constant(-0.2))\n",
    "q_net = sequential.Sequential(dense_layers + [q_values_layer])"
   ]
  },
  {
   "cell_type": "markdown",
   "id": "f00a8d15",
   "metadata": {
    "id": "z62u55hSmviJ",
    "papermill": {
     "duration": 0.046088,
     "end_time": "2024-09-11T22:49:33.660600",
     "exception": false,
     "start_time": "2024-09-11T22:49:33.614512",
     "status": "completed"
    },
    "tags": []
   },
   "source": [
    "Now use `tf_agents.agents.dqn.dqn_agent` to instantiate a `DqnAgent`. In addition to the `time_step_spec`, `action_spec` and the QNetwork, the agent constructor also requires an optimizer (in this case, `AdamOptimizer`), a loss function, and an integer step counter."
   ]
  },
  {
   "cell_type": "code",
   "execution_count": 16,
   "id": "782d899b",
   "metadata": {
    "execution": {
     "iopub.execute_input": "2024-09-11T22:49:33.755325Z",
     "iopub.status.busy": "2024-09-11T22:49:33.754581Z",
     "iopub.status.idle": "2024-09-11T22:49:34.183626Z",
     "shell.execute_reply": "2024-09-11T22:49:34.182816Z"
    },
    "id": "jbY4yrjTEyc9",
    "papermill": {
     "duration": 0.478917,
     "end_time": "2024-09-11T22:49:34.185900",
     "exception": false,
     "start_time": "2024-09-11T22:49:33.706983",
     "status": "completed"
    },
    "tags": []
   },
   "outputs": [],
   "source": [
    "optimizer = tf.keras.optimizers.Adam(learning_rate=learning_rate)\n",
    "\n",
    "train_step_counter = tf.Variable(0)\n",
    "\n",
    "agent = dqn_agent.DqnAgent(\n",
    "    train_env.time_step_spec(),\n",
    "    train_env.action_spec(),\n",
    "    q_network=q_net,\n",
    "    optimizer=optimizer,\n",
    "    td_errors_loss_fn=common.element_wise_squared_loss,\n",
    "    train_step_counter=train_step_counter)\n",
    "\n",
    "agent.initialize()"
   ]
  },
  {
   "cell_type": "markdown",
   "id": "7a56c407",
   "metadata": {
    "id": "I0KLrEPwkn5x",
    "papermill": {
     "duration": 0.046954,
     "end_time": "2024-09-11T22:49:34.279351",
     "exception": false,
     "start_time": "2024-09-11T22:49:34.232397",
     "status": "completed"
    },
    "tags": []
   },
   "source": [
    "## Policies\n",
    "\n",
    "A policy defines the way an agent acts in an environment. Typically, the goal of reinforcement learning is to train the underlying model until the policy produces the desired outcome.\n",
    "\n",
    "In this tutorial:\n",
    "\n",
    "-   The desired outcome is keeping the pole balanced upright over the cart.\n",
    "-   The policy returns an action (left or right) for each `time_step` observation.\n",
    "\n",
    "Agents contain two policies: \n",
    "\n",
    "-   `agent.policy` — The main policy that is used for evaluation and deployment.\n",
    "-   `agent.collect_policy` — A second policy that is used for data collection.\n"
   ]
  },
  {
   "cell_type": "code",
   "execution_count": 17,
   "id": "9ddfa75b",
   "metadata": {
    "execution": {
     "iopub.execute_input": "2024-09-11T22:49:34.374674Z",
     "iopub.status.busy": "2024-09-11T22:49:34.373934Z",
     "iopub.status.idle": "2024-09-11T22:49:34.378330Z",
     "shell.execute_reply": "2024-09-11T22:49:34.377372Z"
    },
    "id": "BwY7StuMkuV4",
    "papermill": {
     "duration": 0.054059,
     "end_time": "2024-09-11T22:49:34.380212",
     "exception": false,
     "start_time": "2024-09-11T22:49:34.326153",
     "status": "completed"
    },
    "tags": []
   },
   "outputs": [],
   "source": [
    "eval_policy = agent.policy\n",
    "collect_policy = agent.collect_policy"
   ]
  },
  {
   "cell_type": "markdown",
   "id": "8e81c6c7",
   "metadata": {
    "id": "2Qs1Fl3dV0ae",
    "papermill": {
     "duration": 0.045967,
     "end_time": "2024-09-11T22:49:34.472680",
     "exception": false,
     "start_time": "2024-09-11T22:49:34.426713",
     "status": "completed"
    },
    "tags": []
   },
   "source": [
    "Policies can be created independently of agents. For example, use `tf_agents.policies.random_tf_policy` to create a policy which will randomly select an action for each `time_step`."
   ]
  },
  {
   "cell_type": "code",
   "execution_count": 18,
   "id": "235dbf0f",
   "metadata": {
    "execution": {
     "iopub.execute_input": "2024-09-11T22:49:34.566436Z",
     "iopub.status.busy": "2024-09-11T22:49:34.565682Z",
     "iopub.status.idle": "2024-09-11T22:49:34.570703Z",
     "shell.execute_reply": "2024-09-11T22:49:34.569810Z"
    },
    "id": "HE37-UCIrE69",
    "papermill": {
     "duration": 0.054212,
     "end_time": "2024-09-11T22:49:34.572679",
     "exception": false,
     "start_time": "2024-09-11T22:49:34.518467",
     "status": "completed"
    },
    "tags": []
   },
   "outputs": [],
   "source": [
    "random_policy = random_tf_policy.RandomTFPolicy(train_env.time_step_spec(),\n",
    "                                                train_env.action_spec())"
   ]
  },
  {
   "cell_type": "markdown",
   "id": "02697485",
   "metadata": {
    "id": "dOlnlRRsUbxP",
    "papermill": {
     "duration": 0.045733,
     "end_time": "2024-09-11T22:49:34.664330",
     "exception": false,
     "start_time": "2024-09-11T22:49:34.618597",
     "status": "completed"
    },
    "tags": []
   },
   "source": [
    "To get an action from a policy, call the `policy.action(time_step)` method. The `time_step` contains the observation from the environment. This method returns a `PolicyStep`, which is a named tuple with three components:\n",
    "\n",
    "-   `action` — the action to be taken (in this case, `0` or `1`)\n",
    "-   `state` — used for stateful (that is, RNN-based) policies\n",
    "-   `info` — auxiliary data, such as log probabilities of actions"
   ]
  },
  {
   "cell_type": "code",
   "execution_count": 19,
   "id": "1b340168",
   "metadata": {
    "execution": {
     "iopub.execute_input": "2024-09-11T22:49:34.758193Z",
     "iopub.status.busy": "2024-09-11T22:49:34.757494Z",
     "iopub.status.idle": "2024-09-11T22:49:34.766284Z",
     "shell.execute_reply": "2024-09-11T22:49:34.765545Z"
    },
    "id": "5gCcpXswVAxk",
    "papermill": {
     "duration": 0.05818,
     "end_time": "2024-09-11T22:49:34.768233",
     "exception": false,
     "start_time": "2024-09-11T22:49:34.710053",
     "status": "completed"
    },
    "tags": []
   },
   "outputs": [],
   "source": [
    "example_environment = tf_py_environment.TFPyEnvironment(\n",
    "    suite_gym.load('CartPole-v0'))"
   ]
  },
  {
   "cell_type": "code",
   "execution_count": 20,
   "id": "7c114c2d",
   "metadata": {
    "execution": {
     "iopub.execute_input": "2024-09-11T22:49:34.861795Z",
     "iopub.status.busy": "2024-09-11T22:49:34.861417Z",
     "iopub.status.idle": "2024-09-11T22:49:34.867914Z",
     "shell.execute_reply": "2024-09-11T22:49:34.867041Z"
    },
    "id": "D4DHZtq3Ndis",
    "papermill": {
     "duration": 0.055274,
     "end_time": "2024-09-11T22:49:34.869919",
     "exception": false,
     "start_time": "2024-09-11T22:49:34.814645",
     "status": "completed"
    },
    "tags": []
   },
   "outputs": [],
   "source": [
    "time_step = example_environment.reset()"
   ]
  },
  {
   "cell_type": "code",
   "execution_count": 21,
   "id": "6d10ef06",
   "metadata": {
    "execution": {
     "iopub.execute_input": "2024-09-11T22:49:34.970835Z",
     "iopub.status.busy": "2024-09-11T22:49:34.970417Z",
     "iopub.status.idle": "2024-09-11T22:49:34.984488Z",
     "shell.execute_reply": "2024-09-11T22:49:34.983503Z"
    },
    "id": "PRFqAUzpNaAW",
    "papermill": {
     "duration": 0.069135,
     "end_time": "2024-09-11T22:49:34.986640",
     "exception": false,
     "start_time": "2024-09-11T22:49:34.917505",
     "status": "completed"
    },
    "tags": []
   },
   "outputs": [
    {
     "data": {
      "text/plain": [
       "PolicyStep(action=<tf.Tensor: shape=(1,), dtype=int64, numpy=array([1])>, state=(), info=())"
      ]
     },
     "execution_count": 21,
     "metadata": {},
     "output_type": "execute_result"
    }
   ],
   "source": [
    "random_policy.action(time_step)"
   ]
  },
  {
   "cell_type": "markdown",
   "id": "8455fbc4",
   "metadata": {
    "id": "94rCXQtbUbXv",
    "papermill": {
     "duration": 0.045763,
     "end_time": "2024-09-11T22:49:35.079960",
     "exception": false,
     "start_time": "2024-09-11T22:49:35.034197",
     "status": "completed"
    },
    "tags": []
   },
   "source": [
    "## Metrics and Evaluation\n",
    "\n",
    "The most common metric used to evaluate a policy is the average return. The return is the sum of rewards obtained while running a policy in an environment for an episode. Several episodes are run, creating an average return.\n",
    "\n",
    "The following function computes the average return of a policy, given the policy, environment, and a number of episodes.\n"
   ]
  },
  {
   "cell_type": "code",
   "execution_count": 22,
   "id": "28992e22",
   "metadata": {
    "execution": {
     "iopub.execute_input": "2024-09-11T22:49:35.174287Z",
     "iopub.status.busy": "2024-09-11T22:49:35.173636Z",
     "iopub.status.idle": "2024-09-11T22:49:35.180181Z",
     "shell.execute_reply": "2024-09-11T22:49:35.179266Z"
    },
    "id": "bitzHo5_UbXy",
    "papermill": {
     "duration": 0.055896,
     "end_time": "2024-09-11T22:49:35.182370",
     "exception": false,
     "start_time": "2024-09-11T22:49:35.126474",
     "status": "completed"
    },
    "tags": []
   },
   "outputs": [],
   "source": [
    "#@test {\"skip\": true}\n",
    "def compute_avg_return(environment, policy, num_episodes=10):\n",
    "\n",
    "  total_return = 0.0\n",
    "  for _ in range(num_episodes):\n",
    "\n",
    "    time_step = environment.reset()\n",
    "    episode_return = 0.0\n",
    "\n",
    "    while not time_step.is_last():\n",
    "      action_step = policy.action(time_step)\n",
    "      time_step = environment.step(action_step.action)\n",
    "      episode_return += time_step.reward\n",
    "    total_return += episode_return\n",
    "\n",
    "  avg_return = total_return / num_episodes\n",
    "  return avg_return.numpy()[0]\n",
    "\n",
    "\n",
    "# See also the metrics module for standard implementations of different metrics.\n",
    "# https://github.com/tensorflow/agents/tree/master/tf_agents/metrics"
   ]
  },
  {
   "cell_type": "markdown",
   "id": "7e411f98",
   "metadata": {
    "id": "_snCVvq5Z8lJ",
    "papermill": {
     "duration": 0.047291,
     "end_time": "2024-09-11T22:49:35.275747",
     "exception": false,
     "start_time": "2024-09-11T22:49:35.228456",
     "status": "completed"
    },
    "tags": []
   },
   "source": [
    "Running this computation on the `random_policy` shows a baseline performance in the environment."
   ]
  },
  {
   "cell_type": "code",
   "execution_count": 23,
   "id": "505c44ae",
   "metadata": {
    "execution": {
     "iopub.execute_input": "2024-09-11T22:49:35.371154Z",
     "iopub.status.busy": "2024-09-11T22:49:35.370293Z",
     "iopub.status.idle": "2024-09-11T22:49:36.044277Z",
     "shell.execute_reply": "2024-09-11T22:49:36.043242Z"
    },
    "id": "9bgU6Q6BZ8Bp",
    "papermill": {
     "duration": 0.724101,
     "end_time": "2024-09-11T22:49:36.046364",
     "exception": false,
     "start_time": "2024-09-11T22:49:35.322263",
     "status": "completed"
    },
    "tags": []
   },
   "outputs": [
    {
     "data": {
      "text/plain": [
       "25.9"
      ]
     },
     "execution_count": 23,
     "metadata": {},
     "output_type": "execute_result"
    }
   ],
   "source": [
    "compute_avg_return(eval_env, random_policy, num_eval_episodes)"
   ]
  },
  {
   "cell_type": "markdown",
   "id": "509b1f5e",
   "metadata": {
    "id": "NLva6g2jdWgr",
    "papermill": {
     "duration": 0.046134,
     "end_time": "2024-09-11T22:49:36.140032",
     "exception": false,
     "start_time": "2024-09-11T22:49:36.093898",
     "status": "completed"
    },
    "tags": []
   },
   "source": [
    "## Replay Buffer\n",
    "\n",
    "In order to keep track of the data collected from the environment, we will use [Reverb](https://deepmind.com/research/open-source/Reverb), an efficient, extensible, and easy-to-use replay system by Deepmind. It stores experience data when we collect trajectories and is consumed during training.\n",
    "\n",
    "This replay buffer is constructed using specs describing the tensors that are to be stored, which can be obtained from the agent using agent.collect_data_spec.\n"
   ]
  },
  {
   "cell_type": "code",
   "execution_count": 24,
   "id": "8fecae57",
   "metadata": {
    "execution": {
     "iopub.execute_input": "2024-09-11T22:49:36.234941Z",
     "iopub.status.busy": "2024-09-11T22:49:36.234576Z",
     "iopub.status.idle": "2024-09-11T22:49:36.253612Z",
     "shell.execute_reply": "2024-09-11T22:49:36.252628Z"
    },
    "id": "vX2zGUWJGWAl",
    "papermill": {
     "duration": 0.068158,
     "end_time": "2024-09-11T22:49:36.255519",
     "exception": false,
     "start_time": "2024-09-11T22:49:36.187361",
     "status": "completed"
    },
    "tags": []
   },
   "outputs": [
    {
     "name": "stderr",
     "output_type": "stream",
     "text": [
      "[reverb/cc/platform/tfrecord_checkpointer.cc:162]  Initializing TFRecordCheckpointer in /tmp/tmpfmm8geh6.\n",
      "[reverb/cc/platform/tfrecord_checkpointer.cc:565] Loading latest checkpoint from /tmp/tmpfmm8geh6\n",
      "[reverb/cc/platform/default/server.cc:71] Started replay server on port 36019\n"
     ]
    }
   ],
   "source": [
    "table_name = 'uniform_table'\n",
    "replay_buffer_signature = tensor_spec.from_spec(\n",
    "      agent.collect_data_spec)\n",
    "replay_buffer_signature = tensor_spec.add_outer_dim(\n",
    "    replay_buffer_signature)\n",
    "\n",
    "table = reverb.Table(\n",
    "    table_name,\n",
    "    max_size=replay_buffer_max_length,\n",
    "    sampler=reverb.selectors.Uniform(),\n",
    "    remover=reverb.selectors.Fifo(),\n",
    "    rate_limiter=reverb.rate_limiters.MinSize(1),\n",
    "    signature=replay_buffer_signature)\n",
    "\n",
    "reverb_server = reverb.Server([table])\n",
    "\n",
    "replay_buffer = reverb_replay_buffer.ReverbReplayBuffer(\n",
    "    agent.collect_data_spec,\n",
    "    table_name=table_name,\n",
    "    sequence_length=2,\n",
    "    local_server=reverb_server)\n",
    "\n",
    "rb_observer = reverb_utils.ReverbAddTrajectoryObserver(\n",
    "  replay_buffer.py_client,\n",
    "  table_name,\n",
    "  sequence_length=2)"
   ]
  },
  {
   "cell_type": "markdown",
   "id": "595deffe",
   "metadata": {
    "id": "ZGNTDJpZs4NN",
    "papermill": {
     "duration": 0.046282,
     "end_time": "2024-09-11T22:49:36.349917",
     "exception": false,
     "start_time": "2024-09-11T22:49:36.303635",
     "status": "completed"
    },
    "tags": []
   },
   "source": [
    "For most agents, `collect_data_spec` is a named tuple called `Trajectory`, containing the specs for observations, actions, rewards, and other items."
   ]
  },
  {
   "cell_type": "code",
   "execution_count": 25,
   "id": "f5422b15",
   "metadata": {
    "execution": {
     "iopub.execute_input": "2024-09-11T22:49:36.445904Z",
     "iopub.status.busy": "2024-09-11T22:49:36.445017Z",
     "iopub.status.idle": "2024-09-11T22:49:36.453093Z",
     "shell.execute_reply": "2024-09-11T22:49:36.451953Z"
    },
    "id": "_IZ-3HcqgE1z",
    "papermill": {
     "duration": 0.058648,
     "end_time": "2024-09-11T22:49:36.455031",
     "exception": false,
     "start_time": "2024-09-11T22:49:36.396383",
     "status": "completed"
    },
    "tags": []
   },
   "outputs": [
    {
     "data": {
      "text/plain": [
       "Trajectory(\n",
       "{'step_type': TensorSpec(shape=(), dtype=tf.int32, name='step_type'),\n",
       " 'observation': BoundedTensorSpec(shape=(4,), dtype=tf.float32, name='observation', minimum=array([-4.8000002e+00, -3.4028235e+38, -4.1887903e-01, -3.4028235e+38],\n",
       "      dtype=float32), maximum=array([4.8000002e+00, 3.4028235e+38, 4.1887903e-01, 3.4028235e+38],\n",
       "      dtype=float32)),\n",
       " 'action': BoundedTensorSpec(shape=(), dtype=tf.int64, name='action', minimum=array(0), maximum=array(1)),\n",
       " 'policy_info': (),\n",
       " 'next_step_type': TensorSpec(shape=(), dtype=tf.int32, name='step_type'),\n",
       " 'reward': TensorSpec(shape=(), dtype=tf.float32, name='reward'),\n",
       " 'discount': BoundedTensorSpec(shape=(), dtype=tf.float32, name='discount', minimum=array(0., dtype=float32), maximum=array(1., dtype=float32))})"
      ]
     },
     "execution_count": 25,
     "metadata": {},
     "output_type": "execute_result"
    }
   ],
   "source": [
    "agent.collect_data_spec"
   ]
  },
  {
   "cell_type": "code",
   "execution_count": 26,
   "id": "3fc971c6",
   "metadata": {
    "execution": {
     "iopub.execute_input": "2024-09-11T22:49:36.549802Z",
     "iopub.status.busy": "2024-09-11T22:49:36.549395Z",
     "iopub.status.idle": "2024-09-11T22:49:36.556028Z",
     "shell.execute_reply": "2024-09-11T22:49:36.555163Z"
    },
    "id": "sy6g1tGcfRlw",
    "papermill": {
     "duration": 0.056611,
     "end_time": "2024-09-11T22:49:36.557924",
     "exception": false,
     "start_time": "2024-09-11T22:49:36.501313",
     "status": "completed"
    },
    "tags": []
   },
   "outputs": [
    {
     "data": {
      "text/plain": [
       "('step_type',\n",
       " 'observation',\n",
       " 'action',\n",
       " 'policy_info',\n",
       " 'next_step_type',\n",
       " 'reward',\n",
       " 'discount')"
      ]
     },
     "execution_count": 26,
     "metadata": {},
     "output_type": "execute_result"
    }
   ],
   "source": [
    "agent.collect_data_spec._fields"
   ]
  },
  {
   "cell_type": "markdown",
   "id": "94d558ef",
   "metadata": {
    "id": "rVD5nQ9ZGo8_",
    "papermill": {
     "duration": 0.046685,
     "end_time": "2024-09-11T22:49:36.651742",
     "exception": false,
     "start_time": "2024-09-11T22:49:36.605057",
     "status": "completed"
    },
    "tags": []
   },
   "source": [
    "## Data Collection\n",
    "\n",
    "Now execute the random policy in the environment for a few steps, recording the data in the replay buffer.\n",
    "\n",
    "Here we are using 'PyDriver' to run the experience collecting loop. You can learn more about TF Agents driver in our [drivers tutorial](https://www.tensorflow.org/agents/tutorials/4_drivers_tutorial)."
   ]
  },
  {
   "cell_type": "code",
   "execution_count": 27,
   "id": "5a98b6cb",
   "metadata": {
    "execution": {
     "iopub.execute_input": "2024-09-11T22:49:36.747040Z",
     "iopub.status.busy": "2024-09-11T22:49:36.746205Z",
     "iopub.status.idle": "2024-09-11T22:49:37.001261Z",
     "shell.execute_reply": "2024-09-11T22:49:37.000349Z"
    },
    "id": "wr1KSAEGG4h9",
    "papermill": {
     "duration": 0.305494,
     "end_time": "2024-09-11T22:49:37.003651",
     "exception": false,
     "start_time": "2024-09-11T22:49:36.698157",
     "status": "completed"
    },
    "tags": []
   },
   "outputs": [
    {
     "data": {
      "text/plain": [
       "(TimeStep(\n",
       " {'step_type': array(1, dtype=int32),\n",
       "  'reward': array(1., dtype=float32),\n",
       "  'discount': array(1., dtype=float32),\n",
       "  'observation': array([0.3009289 , 0.3387314 , 0.16063313, 0.8375562 ], dtype=float32)}),\n",
       " ())"
      ]
     },
     "execution_count": 27,
     "metadata": {},
     "output_type": "execute_result"
    }
   ],
   "source": [
    "#@test {\"skip\": true}\n",
    "py_driver.PyDriver(\n",
    "    env,\n",
    "    py_tf_eager_policy.PyTFEagerPolicy(\n",
    "      random_policy, use_tf_function=True),\n",
    "    [rb_observer],\n",
    "    max_steps=initial_collect_steps).run(train_py_env.reset())"
   ]
  },
  {
   "cell_type": "markdown",
   "id": "66104bd6",
   "metadata": {
    "id": "84z5pQJdoKxo",
    "papermill": {
     "duration": 0.047239,
     "end_time": "2024-09-11T22:49:37.100026",
     "exception": false,
     "start_time": "2024-09-11T22:49:37.052787",
     "status": "completed"
    },
    "tags": []
   },
   "source": [
    "The replay buffer is now a collection of Trajectories."
   ]
  },
  {
   "cell_type": "code",
   "execution_count": 28,
   "id": "a04b8bbb",
   "metadata": {
    "execution": {
     "iopub.execute_input": "2024-09-11T22:49:37.196946Z",
     "iopub.status.busy": "2024-09-11T22:49:37.196110Z",
     "iopub.status.idle": "2024-09-11T22:49:37.200369Z",
     "shell.execute_reply": "2024-09-11T22:49:37.199447Z"
    },
    "id": "4wZnLu2ViO4E",
    "papermill": {
     "duration": 0.054902,
     "end_time": "2024-09-11T22:49:37.202376",
     "exception": false,
     "start_time": "2024-09-11T22:49:37.147474",
     "status": "completed"
    },
    "tags": []
   },
   "outputs": [],
   "source": [
    "# For the curious:\n",
    "# Uncomment to peel one of these off and inspect it.\n",
    "# iter(replay_buffer.as_dataset()).next()"
   ]
  },
  {
   "cell_type": "markdown",
   "id": "c7b1feca",
   "metadata": {
    "id": "TujU-PMUsKjS",
    "papermill": {
     "duration": 0.048265,
     "end_time": "2024-09-11T22:49:37.297820",
     "exception": false,
     "start_time": "2024-09-11T22:49:37.249555",
     "status": "completed"
    },
    "tags": []
   },
   "source": [
    "The agent needs access to the replay buffer. This is provided by creating an iterable `tf.data.Dataset` pipeline which will feed data to the agent.\n",
    "\n",
    "Each row of the replay buffer only stores a single observation step. But since the DQN Agent needs both the current and next observation to compute the loss, the dataset pipeline will sample two adjacent rows for each item in the batch (`num_steps=2`).\n",
    "\n",
    "This dataset is also optimized by running parallel calls and prefetching data."
   ]
  },
  {
   "cell_type": "code",
   "execution_count": 29,
   "id": "7f8e06c3",
   "metadata": {
    "execution": {
     "iopub.execute_input": "2024-09-11T22:49:37.394102Z",
     "iopub.status.busy": "2024-09-11T22:49:37.393197Z",
     "iopub.status.idle": "2024-09-11T22:49:37.874469Z",
     "shell.execute_reply": "2024-09-11T22:49:37.873530Z"
    },
    "id": "ba7bilizt_qW",
    "papermill": {
     "duration": 0.532084,
     "end_time": "2024-09-11T22:49:37.876439",
     "exception": false,
     "start_time": "2024-09-11T22:49:37.344355",
     "status": "completed"
    },
    "tags": []
   },
   "outputs": [
    {
     "data": {
      "text/plain": [
       "<_PrefetchDataset element_spec=(Trajectory(\n",
       "{'step_type': TensorSpec(shape=(64, 2), dtype=tf.int32, name=None),\n",
       " 'observation': TensorSpec(shape=(64, 2, 4), dtype=tf.float32, name=None),\n",
       " 'action': TensorSpec(shape=(64, 2), dtype=tf.int64, name=None),\n",
       " 'policy_info': (),\n",
       " 'next_step_type': TensorSpec(shape=(64, 2), dtype=tf.int32, name=None),\n",
       " 'reward': TensorSpec(shape=(64, 2), dtype=tf.float32, name=None),\n",
       " 'discount': TensorSpec(shape=(64, 2), dtype=tf.float32, name=None)}), SampleInfo(key=TensorSpec(shape=(64, 2), dtype=tf.uint64, name=None), probability=TensorSpec(shape=(64, 2), dtype=tf.float64, name=None), table_size=TensorSpec(shape=(64, 2), dtype=tf.int64, name=None), priority=TensorSpec(shape=(64, 2), dtype=tf.float64, name=None), times_sampled=TensorSpec(shape=(64, 2), dtype=tf.int32, name=None)))>"
      ]
     },
     "execution_count": 29,
     "metadata": {},
     "output_type": "execute_result"
    }
   ],
   "source": [
    "# Dataset generates trajectories with shape [Bx2x...]\n",
    "dataset = replay_buffer.as_dataset(\n",
    "    num_parallel_calls=3,\n",
    "    sample_batch_size=batch_size,\n",
    "    num_steps=2).prefetch(3)\n",
    "\n",
    "dataset"
   ]
  },
  {
   "cell_type": "code",
   "execution_count": 30,
   "id": "66962ccf",
   "metadata": {
    "execution": {
     "iopub.execute_input": "2024-09-11T22:49:37.972927Z",
     "iopub.status.busy": "2024-09-11T22:49:37.972515Z",
     "iopub.status.idle": "2024-09-11T22:49:38.054848Z",
     "shell.execute_reply": "2024-09-11T22:49:38.053682Z"
    },
    "id": "K13AST-2ppOq",
    "papermill": {
     "duration": 0.133086,
     "end_time": "2024-09-11T22:49:38.057055",
     "exception": false,
     "start_time": "2024-09-11T22:49:37.923969",
     "status": "completed"
    },
    "tags": []
   },
   "outputs": [
    {
     "name": "stdout",
     "output_type": "stream",
     "text": [
      "<tensorflow.python.data.ops.iterator_ops.OwnedIterator object at 0x7fa93b72c8e0>\n"
     ]
    }
   ],
   "source": [
    "iterator = iter(dataset)\n",
    "print(iterator)"
   ]
  },
  {
   "cell_type": "code",
   "execution_count": 31,
   "id": "1af6d119",
   "metadata": {
    "execution": {
     "iopub.execute_input": "2024-09-11T22:49:38.153431Z",
     "iopub.status.busy": "2024-09-11T22:49:38.153010Z",
     "iopub.status.idle": "2024-09-11T22:49:38.157493Z",
     "shell.execute_reply": "2024-09-11T22:49:38.156592Z"
    },
    "id": "Th5w5Sff0b16",
    "papermill": {
     "duration": 0.05458,
     "end_time": "2024-09-11T22:49:38.159313",
     "exception": false,
     "start_time": "2024-09-11T22:49:38.104733",
     "status": "completed"
    },
    "tags": []
   },
   "outputs": [],
   "source": [
    "# For the curious:\n",
    "# Uncomment to see what the dataset iterator is feeding to the agent.\n",
    "# Compare this representation of replay data \n",
    "# to the collection of individual trajectories shown earlier.\n",
    "\n",
    "# iterator.next()"
   ]
  },
  {
   "cell_type": "markdown",
   "id": "e8de8c58",
   "metadata": {
    "id": "hBc9lj9VWWtZ",
    "papermill": {
     "duration": 0.047026,
     "end_time": "2024-09-11T22:49:38.253622",
     "exception": false,
     "start_time": "2024-09-11T22:49:38.206596",
     "status": "completed"
    },
    "tags": []
   },
   "source": [
    "## Training the agent\n",
    "\n",
    "Two things must happen during the training loop:\n",
    "\n",
    "-   collect data from the environment\n",
    "-   use that data to train the agent's neural network(s)\n",
    "\n",
    "This example also periodicially evaluates the policy and prints the current score.\n",
    "\n",
    "The following will take ~5 minutes to run."
   ]
  },
  {
   "cell_type": "code",
   "execution_count": 32,
   "id": "7548abe8",
   "metadata": {
    "execution": {
     "iopub.execute_input": "2024-09-11T22:49:38.351619Z",
     "iopub.status.busy": "2024-09-11T22:49:38.350714Z",
     "iopub.status.idle": "2024-09-11T22:55:30.477142Z",
     "shell.execute_reply": "2024-09-11T22:55:30.476179Z"
    },
    "id": "0pTbJ3PeyF-u",
    "papermill": {
     "duration": 352.233223,
     "end_time": "2024-09-11T22:55:30.535162",
     "exception": false,
     "start_time": "2024-09-11T22:49:38.301939",
     "status": "completed"
    },
    "tags": []
   },
   "outputs": [
    {
     "name": "stderr",
     "output_type": "stream",
     "text": [
      "[reverb/cc/client.cc:165] Sampler and server are owned by the same process (26) so Table uniform_table is accessed directly without gRPC.\n",
      "[reverb/cc/client.cc:165] Sampler and server are owned by the same process (26) so Table uniform_table is accessed directly without gRPC.\n",
      "[reverb/cc/client.cc:165] Sampler and server are owned by the same process (26) so Table uniform_table is accessed directly without gRPC.\n",
      "[reverb/cc/client.cc:165] Sampler and server are owned by the same process (26) so Table uniform_table is accessed directly without gRPC.\n",
      "[reverb/cc/client.cc:165] Sampler and server are owned by the same process (26) so Table uniform_table is accessed directly without gRPC.\n",
      "[reverb/cc/client.cc:165] Sampler and server are owned by the same process (26) so Table uniform_table is accessed directly without gRPC.\n"
     ]
    },
    {
     "name": "stdout",
     "output_type": "stream",
     "text": [
      "step = 200: loss = 48.76617431640625\n",
      "step = 400: loss = 13.57380199432373\n",
      "step = 600: loss = 195.4217529296875\n",
      "step = 800: loss = 217.54934692382812\n",
      "step = 1000: loss = 46.319427490234375\n",
      "step = 1000: Average Return = 111.0999984741211\n",
      "step = 1200: loss = 1001.693115234375\n",
      "step = 1400: loss = 54.438934326171875\n",
      "step = 1600: loss = 144.14064025878906\n",
      "step = 1800: loss = 5383.07958984375\n",
      "step = 2000: loss = 263.4601745605469\n",
      "step = 2000: Average Return = 116.5999984741211\n",
      "step = 2200: loss = 100.75193786621094\n",
      "step = 2400: loss = 109.58894348144531\n",
      "step = 2600: loss = 213.13990783691406\n",
      "step = 2800: loss = 195.38868713378906\n",
      "step = 3000: loss = 87.38798522949219\n",
      "step = 3000: Average Return = 68.19999694824219\n",
      "step = 3200: loss = 84.67507934570312\n",
      "step = 3400: loss = 65.12757873535156\n",
      "step = 3600: loss = 47.113014221191406\n",
      "step = 3800: loss = 113.1330795288086\n",
      "step = 4000: loss = 32.367767333984375\n",
      "step = 4000: Average Return = 149.1999969482422\n",
      "step = 4200: loss = 281.8277587890625\n",
      "step = 4400: loss = 33.03822326660156\n",
      "step = 4600: loss = 33.645729064941406\n",
      "step = 4800: loss = 23.261547088623047\n",
      "step = 5000: loss = 239.57122802734375\n",
      "step = 5000: Average Return = 200.0\n",
      "step = 5200: loss = 21.907442092895508\n",
      "step = 5400: loss = 58.798152923583984\n",
      "step = 5600: loss = 26.598562240600586\n",
      "step = 5800: loss = 115.79290771484375\n",
      "step = 6000: loss = 30.70701026916504\n",
      "step = 6000: Average Return = 200.0\n",
      "step = 6200: loss = 27.709518432617188\n",
      "step = 6400: loss = 57.19881057739258\n",
      "step = 6600: loss = 52.08424758911133\n",
      "step = 6800: loss = 175.616455078125\n",
      "step = 7000: loss = 724.6705322265625\n",
      "step = 7000: Average Return = 200.0\n",
      "step = 7200: loss = 15350.7197265625\n",
      "step = 7400: loss = 35180588.0\n",
      "step = 7600: loss = 2314019.5\n",
      "step = 7800: loss = 2755617.25\n",
      "step = 8000: loss = 353284.90625\n",
      "step = 8000: Average Return = 33.29999923706055\n",
      "step = 8200: loss = 1565774.25\n",
      "step = 8400: loss = 386015.0625\n",
      "step = 8600: loss = 329773.46875\n",
      "step = 8800: loss = 6042819.5\n",
      "step = 9000: loss = 2482760.5\n",
      "step = 9000: Average Return = 200.0\n",
      "step = 9200: loss = 188674.65625\n",
      "step = 9400: loss = 1736794.625\n",
      "step = 9600: loss = 2614952.25\n",
      "step = 9800: loss = 4394912.0\n",
      "step = 10000: loss = 15273392.0\n",
      "step = 10000: Average Return = 42.0\n",
      "step = 10200: loss = 16493547.0\n",
      "step = 10400: loss = 3644611.0\n",
      "step = 10600: loss = 874089.0\n",
      "step = 10800: loss = 974561.75\n",
      "step = 11000: loss = 62565780.0\n",
      "step = 11000: Average Return = 172.39999389648438\n",
      "step = 11200: loss = 25797420.0\n",
      "step = 11400: loss = 6869833.0\n",
      "step = 11600: loss = 11771662.0\n",
      "step = 11800: loss = 15776183.0\n",
      "step = 12000: loss = 185360032.0\n",
      "step = 12000: Average Return = 175.0\n",
      "step = 12200: loss = 9358484.0\n",
      "step = 12400: loss = 48067960.0\n",
      "step = 12600: loss = 95177640.0\n",
      "step = 12800: loss = 2824295.5\n",
      "step = 13000: loss = 12172952.0\n",
      "step = 13000: Average Return = 185.5\n",
      "step = 13200: loss = 4200094.0\n",
      "step = 13400: loss = 2701313.0\n",
      "step = 13600: loss = 4664562.0\n",
      "step = 13800: loss = 148419344.0\n",
      "step = 14000: loss = 36421584.0\n",
      "step = 14000: Average Return = 164.5\n",
      "step = 14200: loss = 8064660.0\n",
      "step = 14400: loss = 38306376.0\n",
      "step = 14600: loss = 40158404.0\n",
      "step = 14800: loss = 9248778.0\n",
      "step = 15000: loss = 7482228.0\n",
      "step = 15000: Average Return = 171.39999389648438\n",
      "step = 15200: loss = 15947282.0\n",
      "step = 15400: loss = 15955791.0\n",
      "step = 15600: loss = 26085072.0\n",
      "step = 15800: loss = 17351570.0\n",
      "step = 16000: loss = 18451006.0\n",
      "step = 16000: Average Return = 171.89999389648438\n",
      "step = 16200: loss = 23758208.0\n",
      "step = 16400: loss = 608223936.0\n",
      "step = 16600: loss = 21816218.0\n",
      "step = 16800: loss = 19797472.0\n",
      "step = 17000: loss = 35471948.0\n",
      "step = 17000: Average Return = 158.5\n",
      "step = 17200: loss = 1058566656.0\n",
      "step = 17400: loss = 60455568.0\n",
      "step = 17600: loss = 34890904.0\n",
      "step = 17800: loss = 119528192.0\n",
      "step = 18000: loss = 53896468.0\n",
      "step = 18000: Average Return = 155.5\n",
      "step = 18200: loss = 54827328.0\n",
      "step = 18400: loss = 495175520.0\n",
      "step = 18600: loss = 103972496.0\n",
      "step = 18800: loss = 146283504.0\n",
      "step = 19000: loss = 140225280.0\n",
      "step = 19000: Average Return = 164.10000610351562\n",
      "step = 19200: loss = 39558300.0\n",
      "step = 19400: loss = 62729928.0\n",
      "step = 19600: loss = 123648528.0\n",
      "step = 19800: loss = 166604000.0\n",
      "step = 20000: loss = 131723344.0\n",
      "step = 20000: Average Return = 159.3000030517578\n"
     ]
    }
   ],
   "source": [
    "#@test {\"skip\": true}\n",
    "try:\n",
    "  %%time\n",
    "except:\n",
    "  pass\n",
    "\n",
    "# (Optional) Optimize by wrapping some of the code in a graph using TF function.\n",
    "agent.train = common.function(agent.train)\n",
    "\n",
    "# Reset the train step.\n",
    "agent.train_step_counter.assign(0)\n",
    "\n",
    "# Evaluate the agent's policy once before training.\n",
    "avg_return = compute_avg_return(eval_env, agent.policy, num_eval_episodes)\n",
    "returns = [avg_return]\n",
    "\n",
    "# Reset the environment.\n",
    "time_step = train_py_env.reset()\n",
    "\n",
    "# Create a driver to collect experience.\n",
    "collect_driver = py_driver.PyDriver(\n",
    "    env,\n",
    "    py_tf_eager_policy.PyTFEagerPolicy(\n",
    "      agent.collect_policy, use_tf_function=True),\n",
    "    [rb_observer],\n",
    "    max_steps=collect_steps_per_iteration)\n",
    "\n",
    "for _ in range(num_iterations):\n",
    "\n",
    "  # Collect a few steps and save to the replay buffer.\n",
    "  time_step, _ = collect_driver.run(time_step)\n",
    "\n",
    "  # Sample a batch of data from the buffer and update the agent's network.\n",
    "  experience, unused_info = next(iterator)\n",
    "  train_loss = agent.train(experience).loss\n",
    "\n",
    "  step = agent.train_step_counter.numpy()\n",
    "\n",
    "  if step % log_interval == 0:\n",
    "    print('step = {0}: loss = {1}'.format(step, train_loss))\n",
    "\n",
    "  if step % eval_interval == 0:\n",
    "    avg_return = compute_avg_return(eval_env, agent.policy, num_eval_episodes)\n",
    "    print('step = {0}: Average Return = {1}'.format(step, avg_return))\n",
    "    returns.append(avg_return)"
   ]
  },
  {
   "cell_type": "markdown",
   "id": "cab08a7d",
   "metadata": {
    "id": "68jNcA_TiJDq",
    "papermill": {
     "duration": 0.057058,
     "end_time": "2024-09-11T22:55:30.647944",
     "exception": false,
     "start_time": "2024-09-11T22:55:30.590886",
     "status": "completed"
    },
    "tags": []
   },
   "source": [
    "## Visualization\n"
   ]
  },
  {
   "cell_type": "markdown",
   "id": "13059927",
   "metadata": {
    "id": "aO-LWCdbbOIC",
    "papermill": {
     "duration": 0.055659,
     "end_time": "2024-09-11T22:55:30.760007",
     "exception": false,
     "start_time": "2024-09-11T22:55:30.704348",
     "status": "completed"
    },
    "tags": []
   },
   "source": [
    "### Plots\n",
    "\n",
    "Use `matplotlib.pyplot` to chart how the policy improved during training.\n",
    "\n",
    "One iteration of `Cartpole-v0` consists of 200 time steps. The environment gives a reward of `+1` for each step the pole stays up, so the maximum return for one episode is 200. The charts shows the return increasing towards that maximum each time it is evaluated during training. (It may be a little unstable and not increase monotonically each time.)"
   ]
  },
  {
   "cell_type": "code",
   "execution_count": 33,
   "id": "01749201",
   "metadata": {
    "execution": {
     "iopub.execute_input": "2024-09-11T22:55:30.874244Z",
     "iopub.status.busy": "2024-09-11T22:55:30.873838Z",
     "iopub.status.idle": "2024-09-11T22:55:31.167297Z",
     "shell.execute_reply": "2024-09-11T22:55:31.166350Z"
    },
    "id": "NxtL1mbOYCVO",
    "papermill": {
     "duration": 0.352882,
     "end_time": "2024-09-11T22:55:31.169509",
     "exception": false,
     "start_time": "2024-09-11T22:55:30.816627",
     "status": "completed"
    },
    "tags": []
   },
   "outputs": [
    {
     "data": {
      "text/plain": [
       "(0.5, 250.0)"
      ]
     },
     "execution_count": 33,
     "metadata": {},
     "output_type": "execute_result"
    },
    {
     "data": {
      "image/png": "[encoded data removed]",
      "text/plain": [
       "<Figure size 640x480 with 1 Axes>"
      ]
     },
     "metadata": {},
     "output_type": "display_data"
    }
   ],
   "source": [
    "#@test {\"skip\": true}\n",
    "\n",
    "iterations = range(0, num_iterations + 1, eval_interval)\n",
    "plt.plot(iterations, returns)\n",
    "plt.ylabel('Average Return')\n",
    "plt.xlabel('Iterations')\n",
    "plt.ylim(top=250)"
   ]
  },
  {
   "cell_type": "markdown",
   "id": "79858f84",
   "metadata": {
    "id": "M7-XpPP99Cy7",
    "papermill": {
     "duration": 0.05768,
     "end_time": "2024-09-11T22:55:31.285030",
     "exception": false,
     "start_time": "2024-09-11T22:55:31.227350",
     "status": "completed"
    },
    "tags": []
   },
   "source": [
    "### Videos"
   ]
  },
  {
   "cell_type": "markdown",
   "id": "6f8e9b64",
   "metadata": {
    "id": "9pGfGxSH32gn",
    "papermill": {
     "duration": 0.059399,
     "end_time": "2024-09-11T22:55:31.402344",
     "exception": false,
     "start_time": "2024-09-11T22:55:31.342945",
     "status": "completed"
    },
    "tags": []
   },
   "source": [
    "Charts are nice. But more exciting is seeing an agent actually performing a task in an environment. \n",
    "\n",
    "First, create a function to embed videos in the notebook."
   ]
  },
  {
   "cell_type": "code",
   "execution_count": 34,
   "id": "a412936e",
   "metadata": {
    "execution": {
     "iopub.execute_input": "2024-09-11T22:55:31.520247Z",
     "iopub.status.busy": "2024-09-11T22:55:31.519818Z",
     "iopub.status.idle": "2024-09-11T22:55:31.526197Z",
     "shell.execute_reply": "2024-09-11T22:55:31.525276Z"
    },
    "id": "ULaGr8pvOKbl",
    "papermill": {
     "duration": 0.067449,
     "end_time": "2024-09-11T22:55:31.528303",
     "exception": false,
     "start_time": "2024-09-11T22:55:31.460854",
     "status": "completed"
    },
    "tags": []
   },
   "outputs": [],
   "source": [
    "def embed_mp4(filename):\n",
    "  \"\"\"Embeds an mp4 file in the notebook.\"\"\"\n",
    "  video = open(filename,'rb').read()\n",
    "  b64 = base64.b64encode(video)\n",
    "  tag = '''\n",
    "  <video width=\"640\" height=\"480\" controls>\n",
    "    <source src=\"data:video/mp4;base64,{0}\" type=\"video/mp4\">\n",
    "  Your browser does not support the video tag.\n",
    "  </video>'''.format(b64.decode())\n",
    "\n",
    "  return IPython.display.HTML(tag)"
   ]
  },
  {
   "cell_type": "markdown",
   "id": "1165c4d3",
   "metadata": {
    "id": "9c_PH-pX4Pr5",
    "papermill": {
     "duration": 0.057552,
     "end_time": "2024-09-11T22:55:31.642228",
     "exception": false,
     "start_time": "2024-09-11T22:55:31.584676",
     "status": "completed"
    },
    "tags": []
   },
   "source": [
    "Now iterate through a few episodes of the Cartpole game with the agent. The underlying Python environment (the one \"inside\" the TensorFlow environment wrapper) provides a `render()` method, which outputs an image of the environment state. These can be collected into a video."
   ]
  },
  {
   "cell_type": "code",
   "execution_count": 35,
   "id": "3a0e4877",
   "metadata": {
    "execution": {
     "iopub.execute_input": "2024-09-11T22:55:31.756653Z",
     "iopub.status.busy": "2024-09-11T22:55:31.756281Z",
     "iopub.status.idle": "2024-09-11T22:55:42.040987Z",
     "shell.execute_reply": "2024-09-11T22:55:42.039941Z"
    },
    "id": "owOVWB158NlF",
    "papermill": {
     "duration": 10.345349,
     "end_time": "2024-09-11T22:55:42.043906",
     "exception": false,
     "start_time": "2024-09-11T22:55:31.698557",
     "status": "completed"
    },
    "tags": []
   },
   "outputs": [
    {
     "name": "stderr",
     "output_type": "stream",
     "text": [
      "ALSA lib confmisc.c:855:(parse_card) cannot find card '0'\n",
      "ALSA lib conf.c:5180:(_snd_config_evaluate) function snd_func_card_inum returned error: No such file or directory\n",
      "ALSA lib confmisc.c:422:(snd_func_concat) error evaluating strings\n",
      "ALSA lib conf.c:5180:(_snd_config_evaluate) function snd_func_concat returned error: No such file or directory\n",
      "ALSA lib confmisc.c:1334:(snd_func_refer) error evaluating name\n",
      "ALSA lib conf.c:5180:(_snd_config_evaluate) function snd_func_refer returned error: No such file or directory\n",
      "ALSA lib conf.c:5703:(snd_config_expand) Evaluate error: No such file or directory\n",
      "ALSA lib pcm.c:2666:(snd_pcm_open_noupdate) Unknown PCM default\n",
      "[swscaler @ 0x55cf13a4cb00] Warning: data is not aligned! This can lead to a speed loss\n"
     ]
    },
    {
     "data": {
      "text/html": [
       "\n",
       "  <video width=\"640\" height=\"480\" controls>\n",
       "    <source src=\"data:video/mp4;base64,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\" type=\"video/mp4\">\n",
       "  Your browser does not support the video tag.\n",
       "  </video>"
      ],
      "text/plain": [
       "<IPython.core.display.HTML object>"
      ]
     },
     "execution_count": 35,
     "metadata": {},
     "output_type": "execute_result"
    }
   ],
   "source": [
    "def create_policy_eval_video(policy, filename, num_episodes=5, fps=30):\n",
    "  filename = filename + \".mp4\"\n",
    "  with imageio.get_writer(filename, fps=fps) as video:\n",
    "    for _ in range(num_episodes):\n",
    "      time_step = eval_env.reset()\n",
    "      video.append_data(eval_py_env.render())\n",
    "      while not time_step.is_last():\n",
    "        action_step = policy.action(time_step)\n",
    "        time_step = eval_env.step(action_step.action)\n",
    "        video.append_data(eval_py_env.render())\n",
    "  return embed_mp4(filename)\n",
    "\n",
    "create_policy_eval_video(agent.policy, \"trained-agent\")"
   ]
  },
  {
   "cell_type": "markdown",
   "id": "44386095",
   "metadata": {
    "id": "povaAOcZygLw",
    "papermill": {
     "duration": 0.057926,
     "end_time": "2024-09-11T22:55:42.161061",
     "exception": false,
     "start_time": "2024-09-11T22:55:42.103135",
     "status": "completed"
    },
    "tags": []
   },
   "source": [
    "For fun, compare the trained agent (above) to an agent moving randomly. (It does not do as well.)"
   ]
  },
  {
   "cell_type": "code",
   "execution_count": 36,
   "id": "849ca569",
   "metadata": {
    "execution": {
     "iopub.execute_input": "2024-09-11T22:55:42.279193Z",
     "iopub.status.busy": "2024-09-11T22:55:42.278522Z",
     "iopub.status.idle": "2024-09-11T22:55:43.757020Z",
     "shell.execute_reply": "2024-09-11T22:55:43.756030Z"
    },
    "id": "pJZIdC37yNH4",
    "papermill": {
     "duration": 1.540166,
     "end_time": "2024-09-11T22:55:43.759065",
     "exception": false,
     "start_time": "2024-09-11T22:55:42.218899",
     "status": "completed"
    },
    "tags": []
   },
   "outputs": [
    {
     "name": "stderr",
     "output_type": "stream",
     "text": [
      "[swscaler @ 0x55c3e25ddb00] Warning: data is not aligned! This can lead to a speed loss\n"
     ]
    },
    {
     "data": {
      "text/html": [
       "\n",
       "  <video width=\"640\" height=\"480\" controls>\n",
       "    <source src=\"data:video/mp4;base64,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\" type=\"video/mp4\">\n",
       "  Your browser does not support the video tag.\n",
       "  </video>"
      ],
      "text/plain": [
       "<IPython.core.display.HTML object>"
      ]
     },
     "execution_count": 36,
     "metadata": {},
     "output_type": "execute_result"
    }
   ],
   "source": [
    "create_policy_eval_video(random_policy, \"random-agent\")"
   ]
  },
  {
   "cell_type": "code",
   "execution_count": null,
   "id": "f8878c51",
   "metadata": {
    "papermill": {
     "duration": 0.058542,
     "end_time": "2024-09-11T22:55:43.877493",
     "exception": false,
     "start_time": "2024-09-11T22:55:43.818951",
     "status": "completed"
    },
    "tags": []
   },
   "outputs": [],
   "source": []
  }
 ],
 "metadata": {
  "kaggle": {
   "accelerator": "gpu",
   "dataSources": [],
   "dockerImageVersionId": 30558,
   "isGpuEnabled": true,
   "isInternetEnabled": true,
   "language": "python",
   "sourceType": "notebook"
  },
  "kernelspec": {
   "display_name": "Python 3",
   "language": "python",
   "name": "python3"
  },
  "language_info": {
   "codemirror_mode": {
    "name": "ipython",
    "version": 3
   },
   "file_extension": ".py",
   "mimetype": "text/x-python",
   "name": "python",
   "nbconvert_exporter": "python",
   "pygments_lexer": "ipython3",
   "version": "3.10.12"
  },
  "papermill": {
   "default_parameters": {},
   "duration": 547.12073,
   "end_time": "2024-09-11T22:55:49.060032",
   "environment_variables": {},
   "exception": null,
   "input_path": "__notebook__.ipynb",
   "output_path": "__notebook__.ipynb",
   "parameters": {},
   "start_time": "2024-09-11T22:46:41.939302",
   "version": "2.4.0"
  }
 },
 "nbformat": 4,
 "nbformat_minor": 5
}
