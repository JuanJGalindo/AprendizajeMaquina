{
 "cells": [
  {
   "cell_type": "markdown",
   "id": "959899e0",
   "metadata": {
    "id": "klGNgWREsvQv",
    "papermill": {
     "duration": 0.016234,
     "end_time": "2024-09-11T04:25:28.467545",
     "exception": false,
     "start_time": "2024-09-11T04:25:28.451311",
     "status": "completed"
    },
    "tags": []
   },
   "source": [
    "##### Copyright 2023 The TF-Agents Authors."
   ]
  },
  {
   "cell_type": "code",
   "execution_count": 1,
   "id": "8648bf60",
   "metadata": {
    "cellView": "form",
    "execution": {
     "iopub.execute_input": "2024-09-11T04:25:28.502017Z",
     "iopub.status.busy": "2024-09-11T04:25:28.501612Z",
     "iopub.status.idle": "2024-09-11T04:25:28.507013Z",
     "shell.execute_reply": "2024-09-11T04:25:28.506102Z"
    },
    "id": "nQnmcm0oI1Q-",
    "papermill": {
     "duration": 0.02519,
     "end_time": "2024-09-11T04:25:28.509002",
     "exception": false,
     "start_time": "2024-09-11T04:25:28.483812",
     "status": "completed"
    },
    "tags": []
   },
   "outputs": [],
   "source": [
    "#@title Licensed under the Apache License, Version 2.0 (the \"License\");\n",
    "# you may not use this file except in compliance with the License.\n",
    "# You may obtain a copy of the License at\n",
    "#\n",
    "# https://www.apache.org/licenses/LICENSE-2.0\n",
    "#\n",
    "# Unless required by applicable law or agreed to in writing, software\n",
    "# distributed under the License is distributed on an \"AS IS\" BASIS,\n",
    "# WITHOUT WARRANTIES OR CONDITIONS OF ANY KIND, either express or implied.\n",
    "# See the License for the specific language governing permissions and\n",
    "# limitations under the License."
   ]
  },
  {
   "cell_type": "markdown",
   "id": "2a8821c7",
   "metadata": {
    "id": "pmDI-h7cI0tI",
    "papermill": {
     "duration": 0.016352,
     "end_time": "2024-09-11T04:25:28.541512",
     "exception": false,
     "start_time": "2024-09-11T04:25:28.525160",
     "status": "completed"
    },
    "tags": []
   },
   "source": [
    "# Train a Deep Q Network with TF-Agents\n",
    "\n",
    "<table class=\"tfo-notebook-buttons\" align=\"left\">\n",
    "  <td>\n",
    "    <a target=\"_blank\" href=\"https://www.tensorflow.org/agents/tutorials/1_dqn_tutorial\">\n",
    "    <img src=\"https://www.tensorflow.org/images/tf_logo_32px.png\" />\n",
    "    View on TensorFlow.org</a>\n",
    "  </td>\n",
    "  <td>\n",
    "    <a target=\"_blank\" href=\"https://colab.research.google.com/github/tensorflow/agents/blob/master/docs/tutorials/1_dqn_tutorial.ipynb\">\n",
    "    <img src=\"https://www.tensorflow.org/images/colab_logo_32px.png\" />\n",
    "    Run in Google Colab</a>\n",
    "  </td>\n",
    "  <td>\n",
    "    <a target=\"_blank\" href=\"https://github.com/tensorflow/agents/blob/master/docs/tutorials/1_dqn_tutorial.ipynb\">\n",
    "    <img src=\"https://www.tensorflow.org/images/GitHub-Mark-32px.png\" />\n",
    "    View source on GitHub</a>\n",
    "  </td>\n",
    "  <td>\n",
    "    <a href=\"https://storage.googleapis.com/tensorflow_docs/agents/docs/tutorials/1_dqn_tutorial.ipynb\"><img src=\"https://www.tensorflow.org/images/download_logo_32px.png\" />Download notebook</a>\n",
    "  </td>\n",
    "</table>"
   ]
  },
  {
   "cell_type": "markdown",
   "id": "10d80ad4",
   "metadata": {
    "id": "lsaQlK8fFQqH",
    "papermill": {
     "duration": 0.015847,
     "end_time": "2024-09-11T04:25:28.573280",
     "exception": false,
     "start_time": "2024-09-11T04:25:28.557433",
     "status": "completed"
    },
    "tags": []
   },
   "source": [
    "## Introduction\n"
   ]
  },
  {
   "cell_type": "markdown",
   "id": "ab4c1c6a",
   "metadata": {
    "id": "cKOCZlhUgXVK",
    "papermill": {
     "duration": 0.017594,
     "end_time": "2024-09-11T04:25:28.607358",
     "exception": false,
     "start_time": "2024-09-11T04:25:28.589764",
     "status": "completed"
    },
    "tags": []
   },
   "source": [
    "This example shows how to train a [DQN (Deep Q Networks)](https://storage.googleapis.com/deepmind-media/dqn/DQNNaturePaper.pdf)  agent on the Cartpole environment using the TF-Agents library.\n",
    "\n",
    "![Cartpole environment](https://raw.githubusercontent.com/tensorflow/agents/master/docs/tutorials/images/cartpole.png)\n",
    "\n",
    "It will walk you through all the components in a Reinforcement Learning (RL) pipeline for training, evaluation and data collection.\n",
    "\n",
    "\n",
    "To run this code live, click the 'Run in Google Colab' link above.\n"
   ]
  },
  {
   "cell_type": "markdown",
   "id": "1de28531",
   "metadata": {
    "id": "1u9QVVsShC9X",
    "papermill": {
     "duration": 0.016498,
     "end_time": "2024-09-11T04:25:28.640610",
     "exception": false,
     "start_time": "2024-09-11T04:25:28.624112",
     "status": "completed"
    },
    "tags": []
   },
   "source": [
    "## Setup"
   ]
  },
  {
   "cell_type": "markdown",
   "id": "fcb235bf",
   "metadata": {
    "id": "kNrNXKI7bINP",
    "papermill": {
     "duration": 0.016061,
     "end_time": "2024-09-11T04:25:28.672998",
     "exception": false,
     "start_time": "2024-09-11T04:25:28.656937",
     "status": "completed"
    },
    "tags": []
   },
   "source": [
    "If you haven't installed the following dependencies, run:"
   ]
  },
  {
   "cell_type": "code",
   "execution_count": 2,
   "id": "69ecfcdc",
   "metadata": {
    "execution": {
     "iopub.execute_input": "2024-09-11T04:25:28.706273Z",
     "iopub.status.busy": "2024-09-11T04:25:28.705922Z",
     "iopub.status.idle": "2024-09-11T04:28:13.360641Z",
     "shell.execute_reply": "2024-09-11T04:28:13.359568Z"
    },
    "id": "KEHR2Ui-lo8O",
    "papermill": {
     "duration": 164.674165,
     "end_time": "2024-09-11T04:28:13.362974",
     "exception": false,
     "start_time": "2024-09-11T04:25:28.688809",
     "status": "completed"
    },
    "tags": []
   },
   "outputs": [
    {
     "name": "stdout",
     "output_type": "stream",
     "text": [
      "Get:1 https://developer.download.nvidia.com/compute/cuda/repos/ubuntu2204/x86_64  InRelease [1581 B]\r\n",
      "Get:2 https://developer.download.nvidia.com/compute/cuda/repos/ubuntu2204/x86_64  Packages [998 kB]\r\n",
      "Get:3 http://packages.cloud.google.com/apt gcsfuse-focal InRelease [1227 B]\r\n",
      "Get:4 https://packages.cloud.google.com/apt cloud-sdk InRelease [1618 B]\r\n",
      "Hit:5 http://archive.ubuntu.com/ubuntu jammy InRelease\r\n",
      "Get:6 http://security.ubuntu.com/ubuntu jammy-security InRelease [129 kB]\r\n",
      "Get:7 https://packages.cloud.google.com/apt google-fast-socket InRelease [1071 B]\r\n",
      "Get:8 http://archive.ubuntu.com/ubuntu jammy-updates InRelease [128 kB]\r\n",
      "Get:9 https://packages.cloud.google.com/apt cloud-sdk/main amd64 Packages [3249 kB]\r\n",
      "Get:10 https://packages.cloud.google.com/apt cloud-sdk/main all Packages [1522 kB]\r\n",
      "Get:11 https://packages.cloud.google.com/apt google-fast-socket/main amd64 Packages [15.4 kB]\r\n",
      "Get:12 http://security.ubuntu.com/ubuntu jammy-security/universe amd64 Packages [1149 kB]\r\n",
      "Get:13 http://archive.ubuntu.com/ubuntu jammy-backports InRelease [127 kB]\r\n",
      "Get:14 http://archive.ubuntu.com/ubuntu jammy-updates/multiverse amd64 Packages [51.8 kB]\r\n",
      "Get:15 http://archive.ubuntu.com/ubuntu jammy-updates/restricted amd64 Packages [3045 kB]\r\n",
      "Get:16 http://security.ubuntu.com/ubuntu jammy-security/main amd64 Packages [2224 kB]\r\n",
      "Get:17 http://security.ubuntu.com/ubuntu jammy-security/multiverse amd64 Packages [44.7 kB]\r\n",
      "Get:18 http://security.ubuntu.com/ubuntu jammy-security/restricted amd64 Packages [2967 kB]\r\n",
      "Get:19 http://archive.ubuntu.com/ubuntu jammy-updates/main amd64 Packages [2499 kB]\r\n",
      "Get:20 http://archive.ubuntu.com/ubuntu jammy-updates/universe amd64 Packages [1438 kB]\r\n",
      "Get:21 http://archive.ubuntu.com/ubuntu jammy-backports/universe amd64 Packages [33.7 kB]\r\n",
      "Get:22 http://archive.ubuntu.com/ubuntu jammy-backports/main amd64 Packages [81.4 kB]\r\n",
      "\r\n",
      "W: http://packages.cloud.google.com/apt/dists/gcsfuse-focal/InRelease: Key is stored in legacy trusted.gpg keyring (/etc/apt/trusted.gpg), see the DEPRECATION section in apt-key(8) for details.\r\n",
      "E: Repository 'http://packages.cloud.google.com/apt gcsfuse-focal InRelease' changed its 'Origin' value from 'gcsfuse-jessie' to 'gcsfuse-focal'\r\n",
      "E: Repository 'http://packages.cloud.google.com/apt gcsfuse-focal InRelease' changed its 'Label' value from 'gcsfuse-jessie' to 'gcsfuse-focal'\r\n",
      "N: This must be accepted explicitly before updates for this repository can be applied. See apt-secure(8) manpage for details.\r\n",
      "W: https://packages.cloud.google.com/apt/dists/google-fast-socket/InRelease: Key is stored in legacy trusted.gpg keyring (/etc/apt/trusted.gpg), see the DEPRECATION section in apt-key(8) for details.\r\n",
      "\r\n",
      "\r\n",
      "\r\n",
      "ffmpeg is already the newest version (7:4.4.2-0ubuntu0.22.04.1).\r\n",
      "The following additional packages will be installed:\r\n",
      "  freeglut3 libegl-dev libegl-mesa0 libegl1 libgbm1 libgl-dev libgl1-mesa-dev\r\n",
      "  libgl1-mesa-dri libglapi-mesa libgles-dev libgles1 libgles2 libglu1-mesa\r\n",
      "  libglu1-mesa-dev libglvnd-core-dev libglvnd-dev libglx-dev libglx-mesa0\r\n",
      "  libice-dev libopengl-dev libopengl0 libpthread-stubs0-dev libsm-dev libx11-6\r\n",
      "  libx11-dev libx11-xcb1 libxau-dev libxcb1-dev libxdmcp-dev libxext-dev\r\n",
      "  libxt-dev x11proto-dev xorg-sgml-doctools xserver-common xtrans-dev\r\n",
      "Suggested packages:\r\n",
      "  libice-doc libsm-doc libx11-doc libxcb-doc libxext-doc libxt-doc\r\n",
      "The following NEW packages will be installed:\r\n",
      "  freeglut3 freeglut3-dev libegl-dev libegl-mesa0 libegl1 libgl-dev\r\n",
      "  libgl1-mesa-dev libgles-dev libgles1 libgles2 libglu1-mesa libglu1-mesa-dev\r\n",
      "  libglvnd-core-dev libglvnd-dev libglx-dev libice-dev libopengl-dev\r\n",
      "  libopengl0 libpthread-stubs0-dev libsm-dev libx11-dev libxau-dev libxcb1-dev\r\n",
      "  libxdmcp-dev libxext-dev libxt-dev x11proto-dev xorg-sgml-doctools\r\n",
      "  xtrans-dev\r\n",
      "The following packages will be upgraded:\r\n",
      "  libgbm1 libgl1-mesa-dri libglapi-mesa libglx-mesa0 libx11-6 libx11-xcb1\r\n",
      "  xserver-common xvfb\r\n",
      "8 upgraded, 29 newly installed, 0 to remove and 190 not upgraded.\r\n",
      "Need to get 13.8 MB of archives.\r\n",
      "After this operation, 15.9 MB of additional disk space will be used.\r\n",
      "Get:1 http://archive.ubuntu.com/ubuntu jammy-updates/main amd64 libx11-6 amd64 2:1.7.5-1ubuntu0.3 [667 kB]\r\n",
      "Get:2 http://archive.ubuntu.com/ubuntu jammy-updates/main amd64 libx11-xcb1 amd64 2:1.7.5-1ubuntu0.3 [7802 B]\r\n",
      "Get:3 http://archive.ubuntu.com/ubuntu jammy/universe amd64 freeglut3 amd64 2.8.1-6 [74.0 kB]\r\n",
      "Get:4 http://archive.ubuntu.com/ubuntu jammy/main amd64 xorg-sgml-doctools all 1:1.11-1.1 [10.9 kB]\r\n",
      "Get:5 http://archive.ubuntu.com/ubuntu jammy/main amd64 x11proto-dev all 2021.5-1 [604 kB]\r\n",
      "Get:6 http://archive.ubuntu.com/ubuntu jammy/main amd64 libxau-dev amd64 1:1.0.9-1build5 [9724 B]\r\n",
      "Get:7 http://archive.ubuntu.com/ubuntu jammy/main amd64 libxdmcp-dev amd64 1:1.1.3-0ubuntu5 [26.5 kB]\r\n",
      "Get:8 http://archive.ubuntu.com/ubuntu jammy/main amd64 xtrans-dev all 1.4.0-1 [68.9 kB]\r\n",
      "Get:9 http://archive.ubuntu.com/ubuntu jammy/main amd64 libpthread-stubs0-dev amd64 0.4-1build2 [5516 B]\r\n",
      "Get:10 http://archive.ubuntu.com/ubuntu jammy/main amd64 libxcb1-dev amd64 1.14-3ubuntu3 [86.5 kB]\r\n",
      "Get:11 http://archive.ubuntu.com/ubuntu jammy-updates/main amd64 libx11-dev amd64 2:1.7.5-1ubuntu0.3 [744 kB]\r\n",
      "Get:12 http://archive.ubuntu.com/ubuntu jammy/main amd64 libglx-dev amd64 1.4.0-1 [14.1 kB]\r\n",
      "Get:13 http://archive.ubuntu.com/ubuntu jammy/main amd64 libgl-dev amd64 1.4.0-1 [101 kB]\r\n",
      "Get:14 http://archive.ubuntu.com/ubuntu jammy/main amd64 libglvnd-core-dev amd64 1.4.0-1 [12.7 kB]\r\n",
      "Get:15 http://archive.ubuntu.com/ubuntu jammy-updates/main amd64 libgbm1 amd64 23.2.1-1ubuntu3.1~22.04.2 [33.5 kB]\r\n",
      "Get:16 http://archive.ubuntu.com/ubuntu jammy-updates/main amd64 libgl1-mesa-dri amd64 23.2.1-1ubuntu3.1~22.04.2 [8860 kB]\r\n",
      "Get:17 http://archive.ubuntu.com/ubuntu jammy-updates/main amd64 libglx-mesa0 amd64 23.2.1-1ubuntu3.1~22.04.2 [158 kB]\r\n",
      "Get:18 http://archive.ubuntu.com/ubuntu jammy-updates/main amd64 libglapi-mesa amd64 23.2.1-1ubuntu3.1~22.04.2 [37.1 kB]\r\n",
      "Get:19 http://archive.ubuntu.com/ubuntu jammy-updates/main amd64 libegl-mesa0 amd64 23.2.1-1ubuntu3.1~22.04.2 [118 kB]\r\n",
      "Get:20 http://archive.ubuntu.com/ubuntu jammy/main amd64 libegl1 amd64 1.4.0-1 [28.6 kB]\r\n",
      "Get:21 http://archive.ubuntu.com/ubuntu jammy/main amd64 libegl-dev amd64 1.4.0-1 [18.0 kB]\r\n",
      "Get:22 http://archive.ubuntu.com/ubuntu jammy/main amd64 libgles1 amd64 1.4.0-1 [11.5 kB]\r\n",
      "Get:23 http://archive.ubuntu.com/ubuntu jammy/main amd64 libgles2 amd64 1.4.0-1 [18.0 kB]\r\n",
      "Get:24 http://archive.ubuntu.com/ubuntu jammy/main amd64 libgles-dev amd64 1.4.0-1 [49.4 kB]\r\n",
      "Get:25 http://archive.ubuntu.com/ubuntu jammy/main amd64 libopengl0 amd64 1.4.0-1 [36.5 kB]\r\n",
      "Get:26 http://archive.ubuntu.com/ubuntu jammy/main amd64 libopengl-dev amd64 1.4.0-1 [3400 B]\r\n",
      "Get:27 http://archive.ubuntu.com/ubuntu jammy/main amd64 libglvnd-dev amd64 1.4.0-1 [3162 B]\r\n",
      "Get:28 http://archive.ubuntu.com/ubuntu jammy-updates/main amd64 libgl1-mesa-dev amd64 23.2.1-1ubuntu3.1~22.04.2 [6842 B]\r\n",
      "Get:29 http://archive.ubuntu.com/ubuntu jammy/main amd64 libglu1-mesa amd64 9.0.2-1 [145 kB]\r\n",
      "Get:30 http://archive.ubuntu.com/ubuntu jammy/main amd64 libglu1-mesa-dev amd64 9.0.2-1 [231 kB]\r\n",
      "Get:31 http://archive.ubuntu.com/ubuntu jammy/main amd64 libxext-dev amd64 2:1.3.4-1build1 [84.7 kB]\r\n",
      "Get:32 http://archive.ubuntu.com/ubuntu jammy/main amd64 libice-dev amd64 2:1.0.10-1build2 [51.4 kB]\r\n",
      "Get:33 http://archive.ubuntu.com/ubuntu jammy/main amd64 libsm-dev amd64 2:1.2.3-1build2 [18.1 kB]\r\n",
      "Get:34 http://archive.ubuntu.com/ubuntu jammy/main amd64 libxt-dev amd64 1:1.2.1-1 [396 kB]\r\n",
      "Get:35 http://archive.ubuntu.com/ubuntu jammy/universe amd64 freeglut3-dev amd64 2.8.1-6 [126 kB]\r\n",
      "Get:36 http://archive.ubuntu.com/ubuntu jammy-updates/main amd64 xserver-common all 2:21.1.4-2ubuntu1.7~22.04.11 [28.6 kB]\r\n",
      "Get:37 http://archive.ubuntu.com/ubuntu jammy-updates/universe amd64 xvfb amd64 2:21.1.4-2ubuntu1.7~22.04.11 [863 kB]\r\n",
      "Fetched 13.8 MB in 1s (10.9 MB/s)\r\n",
      "Extracting templates from packages: 100%\r\n",
      "(Reading database ... 113818 files and directories currently installed.)\r\n",
      "Preparing to unpack .../00-libx11-6_2%3a1.7.5-1ubuntu0.3_amd64.deb ...\r\n",
      "Unpacking libx11-6:amd64 (2:1.7.5-1ubuntu0.3) over (2:1.7.5-1ubuntu0.2) ...\r\n",
      "Preparing to unpack .../01-libx11-xcb1_2%3a1.7.5-1ubuntu0.3_amd64.deb ...\r\n",
      "Unpacking libx11-xcb1:amd64 (2:1.7.5-1ubuntu0.3) over (2:1.7.5-1ubuntu0.2) ...\r\n",
      "Selecting previously unselected package freeglut3:amd64.\r\n",
      "Preparing to unpack .../02-freeglut3_2.8.1-6_amd64.deb ...\r\n",
      "Unpacking freeglut3:amd64 (2.8.1-6) ...\r\n",
      "Selecting previously unselected package xorg-sgml-doctools.\r\n",
      "Preparing to unpack .../03-xorg-sgml-doctools_1%3a1.11-1.1_all.deb ...\r\n",
      "Unpacking xorg-sgml-doctools (1:1.11-1.1) ...\r\n",
      "Selecting previously unselected package x11proto-dev.\r\n",
      "Preparing to unpack .../04-x11proto-dev_2021.5-1_all.deb ...\r\n",
      "Unpacking x11proto-dev (2021.5-1) ...\r\n",
      "Selecting previously unselected package libxau-dev:amd64.\r\n",
      "Preparing to unpack .../05-libxau-dev_1%3a1.0.9-1build5_amd64.deb ...\r\n",
      "Unpacking libxau-dev:amd64 (1:1.0.9-1build5) ...\r\n",
      "Selecting previously unselected package libxdmcp-dev:amd64.\r\n",
      "Preparing to unpack .../06-libxdmcp-dev_1%3a1.1.3-0ubuntu5_amd64.deb ...\r\n",
      "Unpacking libxdmcp-dev:amd64 (1:1.1.3-0ubuntu5) ...\r\n",
      "Selecting previously unselected package xtrans-dev.\r\n",
      "Preparing to unpack .../07-xtrans-dev_1.4.0-1_all.deb ...\r\n",
      "Unpacking xtrans-dev (1.4.0-1) ...\r\n",
      "Selecting previously unselected package libpthread-stubs0-dev:amd64.\r\n",
      "Preparing to unpack .../08-libpthread-stubs0-dev_0.4-1build2_amd64.deb ...\r\n",
      "Unpacking libpthread-stubs0-dev:amd64 (0.4-1build2) ...\r\n",
      "Selecting previously unselected package libxcb1-dev:amd64.\r\n",
      "Preparing to unpack .../09-libxcb1-dev_1.14-3ubuntu3_amd64.deb ...\r\n",
      "Unpacking libxcb1-dev:amd64 (1.14-3ubuntu3) ...\r\n",
      "Selecting previously unselected package libx11-dev:amd64.\r\n",
      "Preparing to unpack .../10-libx11-dev_2%3a1.7.5-1ubuntu0.3_amd64.deb ...\r\n",
      "Unpacking libx11-dev:amd64 (2:1.7.5-1ubuntu0.3) ...\r\n",
      "Selecting previously unselected package libglx-dev:amd64.\r\n",
      "Preparing to unpack .../11-libglx-dev_1.4.0-1_amd64.deb ...\r\n",
      "Unpacking libglx-dev:amd64 (1.4.0-1) ...\r\n",
      "Selecting previously unselected package libgl-dev:amd64.\r\n",
      "Preparing to unpack .../12-libgl-dev_1.4.0-1_amd64.deb ...\r\n",
      "Unpacking libgl-dev:amd64 (1.4.0-1) ...\r\n",
      "Selecting previously unselected package libglvnd-core-dev:amd64.\r\n",
      "Preparing to unpack .../13-libglvnd-core-dev_1.4.0-1_amd64.deb ...\r\n",
      "Unpacking libglvnd-core-dev:amd64 (1.4.0-1) ...\r\n",
      "Preparing to unpack .../14-libgbm1_23.2.1-1ubuntu3.1~22.04.2_amd64.deb ...\r\n",
      "Unpacking libgbm1:amd64 (23.2.1-1ubuntu3.1~22.04.2) over (23.0.4-0ubuntu1~22.04.1) ...\r\n",
      "Preparing to unpack .../15-libgl1-mesa-dri_23.2.1-1ubuntu3.1~22.04.2_amd64.deb ...\r\n",
      "Unpacking libgl1-mesa-dri:amd64 (23.2.1-1ubuntu3.1~22.04.2) over (23.0.4-0ubuntu1~22.04.1) ...\r\n",
      "Preparing to unpack .../16-libglx-mesa0_23.2.1-1ubuntu3.1~22.04.2_amd64.deb ...\r\n",
      "Unpacking libglx-mesa0:amd64 (23.2.1-1ubuntu3.1~22.04.2) over (23.0.4-0ubuntu1~22.04.1) ...\r\n",
      "Preparing to unpack .../17-libglapi-mesa_23.2.1-1ubuntu3.1~22.04.2_amd64.deb ...\r\n",
      "Unpacking libglapi-mesa:amd64 (23.2.1-1ubuntu3.1~22.04.2) over (23.0.4-0ubuntu1~22.04.1) ...\r\n",
      "Selecting previously unselected package libegl-mesa0:amd64.\r\n",
      "Preparing to unpack .../18-libegl-mesa0_23.2.1-1ubuntu3.1~22.04.2_amd64.deb ...\r\n",
      "Unpacking libegl-mesa0:amd64 (23.2.1-1ubuntu3.1~22.04.2) ...\r\n",
      "Selecting previously unselected package libegl1:amd64.\r\n",
      "Preparing to unpack .../19-libegl1_1.4.0-1_amd64.deb ...\r\n",
      "Unpacking libegl1:amd64 (1.4.0-1) ...\r\n",
      "Selecting previously unselected package libegl-dev:amd64.\r\n",
      "Preparing to unpack .../20-libegl-dev_1.4.0-1_amd64.deb ...\r\n",
      "Unpacking libegl-dev:amd64 (1.4.0-1) ...\r\n",
      "Selecting previously unselected package libgles1:amd64.\r\n",
      "Preparing to unpack .../21-libgles1_1.4.0-1_amd64.deb ...\r\n",
      "Unpacking libgles1:amd64 (1.4.0-1) ...\r\n",
      "Selecting previously unselected package libgles2:amd64.\r\n",
      "Preparing to unpack .../22-libgles2_1.4.0-1_amd64.deb ...\r\n",
      "Unpacking libgles2:amd64 (1.4.0-1) ...\r\n",
      "Selecting previously unselected package libgles-dev:amd64.\r\n",
      "Preparing to unpack .../23-libgles-dev_1.4.0-1_amd64.deb ...\r\n",
      "Unpacking libgles-dev:amd64 (1.4.0-1) ...\r\n",
      "Selecting previously unselected package libopengl0:amd64.\r\n",
      "Preparing to unpack .../24-libopengl0_1.4.0-1_amd64.deb ...\r\n",
      "Unpacking libopengl0:amd64 (1.4.0-1) ...\r\n",
      "Selecting previously unselected package libopengl-dev:amd64.\r\n",
      "Preparing to unpack .../25-libopengl-dev_1.4.0-1_amd64.deb ...\r\n",
      "Unpacking libopengl-dev:amd64 (1.4.0-1) ...\r\n",
      "Selecting previously unselected package libglvnd-dev:amd64.\r\n",
      "Preparing to unpack .../26-libglvnd-dev_1.4.0-1_amd64.deb ...\r\n",
      "Unpacking libglvnd-dev:amd64 (1.4.0-1) ...\r\n",
      "Selecting previously unselected package libgl1-mesa-dev:amd64.\r\n",
      "Preparing to unpack .../27-libgl1-mesa-dev_23.2.1-1ubuntu3.1~22.04.2_amd64.deb ...\r\n",
      "Unpacking libgl1-mesa-dev:amd64 (23.2.1-1ubuntu3.1~22.04.2) ...\r\n",
      "Selecting previously unselected package libglu1-mesa:amd64.\r\n",
      "Preparing to unpack .../28-libglu1-mesa_9.0.2-1_amd64.deb ...\r\n",
      "Unpacking libglu1-mesa:amd64 (9.0.2-1) ...\r\n",
      "Selecting previously unselected package libglu1-mesa-dev:amd64.\r\n",
      "Preparing to unpack .../29-libglu1-mesa-dev_9.0.2-1_amd64.deb ...\r\n",
      "Unpacking libglu1-mesa-dev:amd64 (9.0.2-1) ...\r\n",
      "Selecting previously unselected package libxext-dev:amd64.\r\n",
      "Preparing to unpack .../30-libxext-dev_2%3a1.3.4-1build1_amd64.deb ...\r\n",
      "Unpacking libxext-dev:amd64 (2:1.3.4-1build1) ...\r\n",
      "Selecting previously unselected package libice-dev:amd64.\r\n",
      "Preparing to unpack .../31-libice-dev_2%3a1.0.10-1build2_amd64.deb ...\r\n",
      "Unpacking libice-dev:amd64 (2:1.0.10-1build2) ...\r\n",
      "Selecting previously unselected package libsm-dev:amd64.\r\n",
      "Preparing to unpack .../32-libsm-dev_2%3a1.2.3-1build2_amd64.deb ...\r\n",
      "Unpacking libsm-dev:amd64 (2:1.2.3-1build2) ...\r\n",
      "Selecting previously unselected package libxt-dev:amd64.\r\n",
      "Preparing to unpack .../33-libxt-dev_1%3a1.2.1-1_amd64.deb ...\r\n",
      "Unpacking libxt-dev:amd64 (1:1.2.1-1) ...\r\n",
      "Selecting previously unselected package freeglut3-dev:amd64.\r\n",
      "Preparing to unpack .../34-freeglut3-dev_2.8.1-6_amd64.deb ...\r\n",
      "Unpacking freeglut3-dev:amd64 (2.8.1-6) ...\r\n",
      "Preparing to unpack .../35-xserver-common_2%3a21.1.4-2ubuntu1.7~22.04.11_all.deb ...\r\n",
      "Unpacking xserver-common (2:21.1.4-2ubuntu1.7~22.04.11) over (2:21.1.4-2ubuntu1.7~22.04.1) ...\r\n",
      "Preparing to unpack .../36-xvfb_2%3a21.1.4-2ubuntu1.7~22.04.11_amd64.deb ...\r\n",
      "Unpacking xvfb (2:21.1.4-2ubuntu1.7~22.04.11) over (2:21.1.4-2ubuntu1.7~22.04.1) ...\r\n",
      "Setting up libglvnd-core-dev:amd64 (1.4.0-1) ...\r\n",
      "Setting up libgbm1:amd64 (23.2.1-1ubuntu3.1~22.04.2) ...\r\n",
      "Setting up libpthread-stubs0-dev:amd64 (0.4-1build2) ...\r\n",
      "Setting up libopengl0:amd64 (1.4.0-1) ...\r\n",
      "Setting up xtrans-dev (1.4.0-1) ...\r\n",
      "Setting up libgles2:amd64 (1.4.0-1) ...\r\n",
      "Setting up libgles1:amd64 (1.4.0-1) ...\r\n",
      "Setting up libglapi-mesa:amd64 (23.2.1-1ubuntu3.1~22.04.2) ...\r\n",
      "Setting up libx11-6:amd64 (2:1.7.5-1ubuntu0.3) ...\r\n",
      "Setting up xorg-sgml-doctools (1:1.11-1.1) ...\r\n",
      "Setting up libglu1-mesa:amd64 (9.0.2-1) ...\r\n",
      "Setting up xserver-common (2:21.1.4-2ubuntu1.7~22.04.11) ...\r\n",
      "Setting up libopengl-dev:amd64 (1.4.0-1) ...\r\n",
      "Setting up x11proto-dev (2021.5-1) ...\r\n",
      "Setting up libx11-xcb1:amd64 (2:1.7.5-1ubuntu0.3) ...\r\n",
      "Setting up freeglut3:amd64 (2.8.1-6) ...\r\n",
      "Setting up libxau-dev:amd64 (1:1.0.9-1build5) ...\r\n",
      "Setting up libice-dev:amd64 (2:1.0.10-1build2) ...\r\n",
      "Setting up libsm-dev:amd64 (2:1.2.3-1build2) ...\r\n",
      "Setting up xvfb (2:21.1.4-2ubuntu1.7~22.04.11) ...\r\n",
      "Setting up libgl1-mesa-dri:amd64 (23.2.1-1ubuntu3.1~22.04.2) ...\r\n",
      "Setting up libxdmcp-dev:amd64 (1:1.1.3-0ubuntu5) ...\r\n",
      "Setting up libegl-mesa0:amd64 (23.2.1-1ubuntu3.1~22.04.2) ...\r\n",
      "Setting up libegl1:amd64 (1.4.0-1) ...\r\n",
      "Setting up libglx-mesa0:amd64 (23.2.1-1ubuntu3.1~22.04.2) ...\r\n",
      "Setting up libxcb1-dev:amd64 (1.14-3ubuntu3) ...\r\n",
      "Setting up libx11-dev:amd64 (2:1.7.5-1ubuntu0.3) ...\r\n",
      "Setting up libxt-dev:amd64 (1:1.2.1-1) ...\r\n",
      "Setting up libxext-dev:amd64 (2:1.3.4-1build1) ...\r\n",
      "Setting up libglx-dev:amd64 (1.4.0-1) ...\r\n",
      "Setting up libgl-dev:amd64 (1.4.0-1) ...\r\n",
      "Setting up libegl-dev:amd64 (1.4.0-1) ...\r\n",
      "Setting up libglu1-mesa-dev:amd64 (9.0.2-1) ...\r\n",
      "Setting up libgles-dev:amd64 (1.4.0-1) ...\r\n",
      "Setting up libglvnd-dev:amd64 (1.4.0-1) ...\r\n",
      "Setting up libgl1-mesa-dev:amd64 (23.2.1-1ubuntu3.1~22.04.2) ...\r\n",
      "Setting up freeglut3-dev:amd64 (2.8.1-6) ...\r\n",
      "Processing triggers for man-db (2.10.2-1) ...\r\n",
      "Processing triggers for libc-bin (2.35-0ubuntu3.1) ...\r\n",
      "Collecting imageio==2.4.0\r\n",
      "  Downloading imageio-2.4.0.tar.gz (3.3 MB)\r\n",
      "\u001b[2K     \u001b[90m━━━━━━━━━━━━━━━━━━━━━━━━━━━━━━━━━━━━━━━━\u001b[0m \u001b[32m3.3/3.3 MB\u001b[0m \u001b[31m42.9 MB/s\u001b[0m eta \u001b[36m0:00:00\u001b[0m\r\n",
      "\u001b[?25h  Preparing metadata (setup.py) ... \u001b[?25ldone\r\n",
      "\u001b[?25hRequirement already satisfied: numpy in /opt/conda/lib/python3.10/site-packages (from imageio==2.4.0) (1.23.5)\r\n",
      "Requirement already satisfied: pillow in /opt/conda/lib/python3.10/site-packages (from imageio==2.4.0) (9.5.0)\r\n",
      "Building wheels for collected packages: imageio\r\n",
      "  Building wheel for imageio (setup.py) ... \u001b[?25l-\b \bdone\r\n",
      "\u001b[?25h  Created wheel for imageio: filename=imageio-2.4.0-py3-none-any.whl size=3303893 sha256=08efb15487310bf5e84ae2c3dc42b9881cd1fd5f833b8eaf313668db287b1d45\r\n",
      "  Stored in directory: /root/.cache/pip/wheels/8a/d8/1c/eb9350a4bd3ae8e8814a2f7f9cc832fedad8ea5a926181d60d\r\n",
      "Successfully built imageio\r\n",
      "Installing collected packages: imageio\r\n",
      "  Attempting uninstall: imageio\r\n",
      "    Found existing installation: imageio 2.31.1\r\n",
      "    Uninstalling imageio-2.31.1:\r\n",
      "      Successfully uninstalled imageio-2.31.1\r\n",
      "\u001b[31mERROR: pip's dependency resolver does not currently take into account all the packages that are installed. This behaviour is the source of the following dependency conflicts.\r\n",
      "scikit-image 0.21.0 requires imageio>=2.27, but you have imageio 2.4.0 which is incompatible.\u001b[0m\u001b[31m\r\n",
      "\u001b[0mSuccessfully installed imageio-2.4.0\r\n",
      "Collecting pyvirtualdisplay\r\n",
      "  Downloading PyVirtualDisplay-3.0-py3-none-any.whl (15 kB)\r\n",
      "Installing collected packages: pyvirtualdisplay\r\n",
      "Successfully installed pyvirtualdisplay-3.0\r\n",
      "Collecting tf-agents[reverb]\r\n",
      "  Downloading tf_agents-0.19.0-py3-none-any.whl (1.4 MB)\r\n",
      "\u001b[2K     \u001b[90m━━━━━━━━━━━━━━━━━━━━━━━━━━━━━━━━━━━━━━━━\u001b[0m \u001b[32m1.4/1.4 MB\u001b[0m \u001b[31m23.0 MB/s\u001b[0m eta \u001b[36m0:00:00\u001b[0m\r\n",
      "\u001b[?25hRequirement already satisfied: absl-py>=0.6.1 in /opt/conda/lib/python3.10/site-packages (from tf-agents[reverb]) (1.4.0)\r\n",
      "Requirement already satisfied: cloudpickle>=1.3 in /opt/conda/lib/python3.10/site-packages (from tf-agents[reverb]) (2.2.1)\r\n",
      "Collecting gin-config>=0.4.0 (from tf-agents[reverb])\r\n",
      "  Downloading gin_config-0.5.0-py3-none-any.whl (61 kB)\r\n",
      "\u001b[2K     \u001b[90m━━━━━━━━━━━━━━━━━━━━━━━━━━━━━━━━━━━━━━━━\u001b[0m \u001b[32m61.3/61.3 kB\u001b[0m \u001b[31m4.7 MB/s\u001b[0m eta \u001b[36m0:00:00\u001b[0m\r\n",
      "\u001b[?25hCollecting gym<=0.23.0,>=0.17.0 (from tf-agents[reverb])\r\n",
      "  Downloading gym-0.23.0.tar.gz (624 kB)\r\n",
      "\u001b[2K     \u001b[90m━━━━━━━━━━━━━━━━━━━━━━━━━━━━━━━━━━━━━━\u001b[0m \u001b[32m624.4/624.4 kB\u001b[0m \u001b[31m38.7 MB/s\u001b[0m eta \u001b[36m0:00:00\u001b[0m\r\n",
      "\u001b[?25h  Installing build dependencies ... \u001b[?25l-\b \b\\\b \b|\b \b/\b \bdone\r\n",
      "\u001b[?25h  Getting requirements to build wheel ... \u001b[?25l-\b \bdone\r\n",
      "\u001b[?25h  Preparing metadata (pyproject.toml) ... \u001b[?25l-\b \bdone\r\n",
      "\u001b[?25hRequirement already satisfied: numpy>=1.19.0 in /opt/conda/lib/python3.10/site-packages (from tf-agents[reverb]) (1.23.5)\r\n",
      "Requirement already satisfied: pillow in /opt/conda/lib/python3.10/site-packages (from tf-agents[reverb]) (9.5.0)\r\n",
      "Requirement already satisfied: six>=1.10.0 in /opt/conda/lib/python3.10/site-packages (from tf-agents[reverb]) (1.16.0)\r\n",
      "Requirement already satisfied: protobuf>=3.11.3 in /opt/conda/lib/python3.10/site-packages (from tf-agents[reverb]) (3.20.3)\r\n",
      "Requirement already satisfied: wrapt>=1.11.1 in /opt/conda/lib/python3.10/site-packages (from tf-agents[reverb]) (1.14.1)\r\n",
      "Collecting typing-extensions==4.5.0 (from tf-agents[reverb])\r\n",
      "  Downloading typing_extensions-4.5.0-py3-none-any.whl (27 kB)\r\n",
      "Collecting pygame==2.1.3 (from tf-agents[reverb])\r\n",
      "  Downloading pygame-2.1.3-cp310-cp310-manylinux_2_17_x86_64.manylinux2014_x86_64.whl (13.7 MB)\r\n",
      "\u001b[2K     \u001b[90m━━━━━━━━━━━━━━━━━━━━━━━━━━━━━━━━━━━━━━━━\u001b[0m \u001b[32m13.7/13.7 MB\u001b[0m \u001b[31m69.9 MB/s\u001b[0m eta \u001b[36m0:00:00\u001b[0m\r\n",
      "\u001b[?25hCollecting tensorflow-probability~=0.23.0 (from tf-agents[reverb])\r\n",
      "  Downloading tensorflow_probability-0.23.0-py2.py3-none-any.whl (6.9 MB)\r\n",
      "\u001b[2K     \u001b[90m━━━━━━━━━━━━━━━━━━━━━━━━━━━━━━━━━━━━━━━━\u001b[0m \u001b[32m6.9/6.9 MB\u001b[0m \u001b[31m83.5 MB/s\u001b[0m eta \u001b[36m0:00:00\u001b[0m\r\n",
      "\u001b[?25hCollecting rlds (from tf-agents[reverb])\r\n",
      "  Downloading rlds-0.1.8-py3-none-manylinux2010_x86_64.whl (48 kB)\r\n",
      "\u001b[2K     \u001b[90m━━━━━━━━━━━━━━━━━━━━━━━━━━━━━━━━━━━━━━━━\u001b[0m \u001b[32m48.4/48.4 kB\u001b[0m \u001b[31m4.2 MB/s\u001b[0m eta \u001b[36m0:00:00\u001b[0m\r\n",
      "\u001b[?25hCollecting dm-reverb~=0.14.0 (from tf-agents[reverb])\r\n",
      "  Downloading dm_reverb-0.14.0-cp310-cp310-manylinux2014_x86_64.whl (6.4 MB)\r\n",
      "\u001b[2K     \u001b[90m━━━━━━━━━━━━━━━━━━━━━━━━━━━━━━━━━━━━━━━━\u001b[0m \u001b[32m6.4/6.4 MB\u001b[0m \u001b[31m78.2 MB/s\u001b[0m eta \u001b[36m0:00:00\u001b[0m\r\n",
      "\u001b[?25hCollecting tensorflow~=2.15.0 (from tf-agents[reverb])\r\n",
      "  Downloading tensorflow-2.15.1-cp310-cp310-manylinux_2_17_x86_64.manylinux2014_x86_64.whl (475.2 MB)\r\n",
      "\u001b[2K     \u001b[90m━━━━━━━━━━━━━━━━━━━━━━━━━━━━━━━━━━━━━━━\u001b[0m \u001b[32m475.2/475.2 MB\u001b[0m \u001b[31m2.7 MB/s\u001b[0m eta \u001b[36m0:00:00\u001b[0m\r\n",
      "\u001b[?25hRequirement already satisfied: dm-tree in /opt/conda/lib/python3.10/site-packages (from dm-reverb~=0.14.0->tf-agents[reverb]) (0.1.8)\r\n",
      "Collecting portpicker (from dm-reverb~=0.14.0->tf-agents[reverb])\r\n",
      "  Downloading portpicker-1.6.0-py3-none-any.whl (16 kB)\r\n",
      "Requirement already satisfied: gym-notices>=0.0.4 in /opt/conda/lib/python3.10/site-packages (from gym<=0.23.0,>=0.17.0->tf-agents[reverb]) (0.0.8)\r\n",
      "Requirement already satisfied: astunparse>=1.6.0 in /opt/conda/lib/python3.10/site-packages (from tensorflow~=2.15.0->tf-agents[reverb]) (1.6.3)\r\n",
      "Requirement already satisfied: flatbuffers>=23.5.26 in /opt/conda/lib/python3.10/site-packages (from tensorflow~=2.15.0->tf-agents[reverb]) (23.5.26)\r\n",
      "Requirement already satisfied: gast!=0.5.0,!=0.5.1,!=0.5.2,>=0.2.1 in /opt/conda/lib/python3.10/site-packages (from tensorflow~=2.15.0->tf-agents[reverb]) (0.4.0)\r\n",
      "Requirement already satisfied: google-pasta>=0.1.1 in /opt/conda/lib/python3.10/site-packages (from tensorflow~=2.15.0->tf-agents[reverb]) (0.2.0)\r\n",
      "Requirement already satisfied: h5py>=2.9.0 in /opt/conda/lib/python3.10/site-packages (from tensorflow~=2.15.0->tf-agents[reverb]) (3.9.0)\r\n",
      "Requirement already satisfied: libclang>=13.0.0 in /opt/conda/lib/python3.10/site-packages (from tensorflow~=2.15.0->tf-agents[reverb]) (16.0.0)\r\n",
      "Collecting ml-dtypes~=0.3.1 (from tensorflow~=2.15.0->tf-agents[reverb])\r\n",
      "  Downloading ml_dtypes-0.3.2-cp310-cp310-manylinux_2_17_x86_64.manylinux2014_x86_64.whl (2.2 MB)\r\n",
      "\u001b[2K     \u001b[90m━━━━━━━━━━━━━━━━━━━━━━━━━━━━━━━━━━━━━━━━\u001b[0m \u001b[32m2.2/2.2 MB\u001b[0m \u001b[31m77.0 MB/s\u001b[0m eta \u001b[36m0:00:00\u001b[0m\r\n",
      "\u001b[?25hRequirement already satisfied: opt-einsum>=2.3.2 in /opt/conda/lib/python3.10/site-packages (from tensorflow~=2.15.0->tf-agents[reverb]) (3.3.0)\r\n",
      "Requirement already satisfied: packaging in /opt/conda/lib/python3.10/site-packages (from tensorflow~=2.15.0->tf-agents[reverb]) (21.3)\r\n",
      "Requirement already satisfied: setuptools in /opt/conda/lib/python3.10/site-packages (from tensorflow~=2.15.0->tf-agents[reverb]) (68.0.0)\r\n",
      "Requirement already satisfied: termcolor>=1.1.0 in /opt/conda/lib/python3.10/site-packages (from tensorflow~=2.15.0->tf-agents[reverb]) (2.3.0)\r\n",
      "Requirement already satisfied: tensorflow-io-gcs-filesystem>=0.23.1 in /opt/conda/lib/python3.10/site-packages (from tensorflow~=2.15.0->tf-agents[reverb]) (0.32.0)\r\n",
      "Requirement already satisfied: grpcio<2.0,>=1.24.3 in /opt/conda/lib/python3.10/site-packages (from tensorflow~=2.15.0->tf-agents[reverb]) (1.51.1)\r\n",
      "Collecting tensorboard<2.16,>=2.15 (from tensorflow~=2.15.0->tf-agents[reverb])\r\n",
      "  Downloading tensorboard-2.15.2-py3-none-any.whl (5.5 MB)\r\n",
      "\u001b[2K     \u001b[90m━━━━━━━━━━━━━━━━━━━━━━━━━━━━━━━━━━━━━━━━\u001b[0m \u001b[32m5.5/5.5 MB\u001b[0m \u001b[31m73.6 MB/s\u001b[0m eta \u001b[36m0:00:00\u001b[0m\r\n",
      "\u001b[?25hCollecting tensorflow-estimator<2.16,>=2.15.0 (from tensorflow~=2.15.0->tf-agents[reverb])\r\n",
      "  Downloading tensorflow_estimator-2.15.0-py2.py3-none-any.whl (441 kB)\r\n",
      "\u001b[2K     \u001b[90m━━━━━━━━━━━━━━━━━━━━━━━━━━━━━━━━━━━━━━\u001b[0m \u001b[32m442.0/442.0 kB\u001b[0m \u001b[31m31.1 MB/s\u001b[0m eta \u001b[36m0:00:00\u001b[0m\r\n",
      "\u001b[?25hCollecting keras<2.16,>=2.15.0 (from tensorflow~=2.15.0->tf-agents[reverb])\r\n",
      "  Downloading keras-2.15.0-py3-none-any.whl (1.7 MB)\r\n",
      "\u001b[2K     \u001b[90m━━━━━━━━━━━━━━━━━━━━━━━━━━━━━━━━━━━━━━━━\u001b[0m \u001b[32m1.7/1.7 MB\u001b[0m \u001b[31m65.7 MB/s\u001b[0m eta \u001b[36m0:00:00\u001b[0m\r\n",
      "\u001b[?25hRequirement already satisfied: decorator in /opt/conda/lib/python3.10/site-packages (from tensorflow-probability~=0.23.0->tf-agents[reverb]) (5.1.1)\r\n",
      "Requirement already satisfied: wheel<1.0,>=0.23.0 in /opt/conda/lib/python3.10/site-packages (from astunparse>=1.6.0->tensorflow~=2.15.0->tf-agents[reverb]) (0.40.0)\r\n",
      "Requirement already satisfied: google-auth<3,>=1.6.3 in /opt/conda/lib/python3.10/site-packages (from tensorboard<2.16,>=2.15->tensorflow~=2.15.0->tf-agents[reverb]) (2.20.0)\r\n",
      "Requirement already satisfied: google-auth-oauthlib<2,>=0.5 in /opt/conda/lib/python3.10/site-packages (from tensorboard<2.16,>=2.15->tensorflow~=2.15.0->tf-agents[reverb]) (1.0.0)\r\n",
      "Requirement already satisfied: markdown>=2.6.8 in /opt/conda/lib/python3.10/site-packages (from tensorboard<2.16,>=2.15->tensorflow~=2.15.0->tf-agents[reverb]) (3.4.3)\r\n",
      "Requirement already satisfied: requests<3,>=2.21.0 in /opt/conda/lib/python3.10/site-packages (from tensorboard<2.16,>=2.15->tensorflow~=2.15.0->tf-agents[reverb]) (2.31.0)\r\n",
      "Requirement already satisfied: tensorboard-data-server<0.8.0,>=0.7.0 in /opt/conda/lib/python3.10/site-packages (from tensorboard<2.16,>=2.15->tensorflow~=2.15.0->tf-agents[reverb]) (0.7.1)\r\n",
      "Requirement already satisfied: werkzeug>=1.0.1 in /opt/conda/lib/python3.10/site-packages (from tensorboard<2.16,>=2.15->tensorflow~=2.15.0->tf-agents[reverb]) (2.3.7)\r\n",
      "Requirement already satisfied: pyparsing!=3.0.5,>=2.0.2 in /opt/conda/lib/python3.10/site-packages (from packaging->tensorflow~=2.15.0->tf-agents[reverb]) (3.0.9)\r\n",
      "Requirement already satisfied: psutil in /opt/conda/lib/python3.10/site-packages (from portpicker->dm-reverb~=0.14.0->tf-agents[reverb]) (5.9.3)\r\n",
      "Requirement already satisfied: cachetools<6.0,>=2.0.0 in /opt/conda/lib/python3.10/site-packages (from google-auth<3,>=1.6.3->tensorboard<2.16,>=2.15->tensorflow~=2.15.0->tf-agents[reverb]) (4.2.4)\r\n",
      "Requirement already satisfied: pyasn1-modules>=0.2.1 in /opt/conda/lib/python3.10/site-packages (from google-auth<3,>=1.6.3->tensorboard<2.16,>=2.15->tensorflow~=2.15.0->tf-agents[reverb]) (0.2.7)\r\n",
      "Requirement already satisfied: rsa<5,>=3.1.4 in /opt/conda/lib/python3.10/site-packages (from google-auth<3,>=1.6.3->tensorboard<2.16,>=2.15->tensorflow~=2.15.0->tf-agents[reverb]) (4.9)\r\n",
      "Requirement already satisfied: urllib3<2.0 in /opt/conda/lib/python3.10/site-packages (from google-auth<3,>=1.6.3->tensorboard<2.16,>=2.15->tensorflow~=2.15.0->tf-agents[reverb]) (1.26.15)\r\n",
      "Requirement already satisfied: requests-oauthlib>=0.7.0 in /opt/conda/lib/python3.10/site-packages (from google-auth-oauthlib<2,>=0.5->tensorboard<2.16,>=2.15->tensorflow~=2.15.0->tf-agents[reverb]) (1.3.1)\r\n",
      "Requirement already satisfied: charset-normalizer<4,>=2 in /opt/conda/lib/python3.10/site-packages (from requests<3,>=2.21.0->tensorboard<2.16,>=2.15->tensorflow~=2.15.0->tf-agents[reverb]) (3.1.0)\r\n",
      "Requirement already satisfied: idna<4,>=2.5 in /opt/conda/lib/python3.10/site-packages (from requests<3,>=2.21.0->tensorboard<2.16,>=2.15->tensorflow~=2.15.0->tf-agents[reverb]) (3.4)\r\n",
      "Requirement already satisfied: certifi>=2017.4.17 in /opt/conda/lib/python3.10/site-packages (from requests<3,>=2.21.0->tensorboard<2.16,>=2.15->tensorflow~=2.15.0->tf-agents[reverb]) (2023.7.22)\r\n",
      "Requirement already satisfied: MarkupSafe>=2.1.1 in /opt/conda/lib/python3.10/site-packages (from werkzeug>=1.0.1->tensorboard<2.16,>=2.15->tensorflow~=2.15.0->tf-agents[reverb]) (2.1.3)\r\n",
      "Requirement already satisfied: pyasn1<0.5.0,>=0.4.6 in /opt/conda/lib/python3.10/site-packages (from pyasn1-modules>=0.2.1->google-auth<3,>=1.6.3->tensorboard<2.16,>=2.15->tensorflow~=2.15.0->tf-agents[reverb]) (0.4.8)\r\n",
      "Requirement already satisfied: oauthlib>=3.0.0 in /opt/conda/lib/python3.10/site-packages (from requests-oauthlib>=0.7.0->google-auth-oauthlib<2,>=0.5->tensorboard<2.16,>=2.15->tensorflow~=2.15.0->tf-agents[reverb]) (3.2.2)\r\n",
      "Building wheels for collected packages: gym\r\n",
      "  Building wheel for gym (pyproject.toml) ... \u001b[?25l-\b \b\\\b \b|\b \bdone\r\n",
      "\u001b[?25h  Created wheel for gym: filename=gym-0.23.0-py3-none-any.whl size=697632 sha256=7a6cb6e3e0979b22cff11c7cc950ca13851adc53c12192e90a293e7c85be2f1a\r\n",
      "  Stored in directory: /root/.cache/pip/wheels/3d/6f/b4/3991d4fae11d0ecb0754c11cc1b4e7745012850da4efaaf0b1\r\n",
      "Successfully built gym\r\n",
      "Installing collected packages: gin-config, typing-extensions, tensorflow-probability, tensorflow-estimator, rlds, pygame, portpicker, ml-dtypes, keras, gym, tf-agents, dm-reverb, tensorboard, tensorflow\r\n",
      "  Attempting uninstall: typing-extensions\r\n",
      "    Found existing installation: typing_extensions 4.6.3\r\n",
      "    Uninstalling typing_extensions-4.6.3:\r\n",
      "      Successfully uninstalled typing_extensions-4.6.3\r\n",
      "  Attempting uninstall: tensorflow-probability\r\n",
      "    Found existing installation: tensorflow-probability 0.20.1\r\n",
      "    Uninstalling tensorflow-probability-0.20.1:\r\n",
      "      Successfully uninstalled tensorflow-probability-0.20.1\r\n",
      "  Attempting uninstall: tensorflow-estimator\r\n",
      "    Found existing installation: tensorflow-estimator 2.12.0\r\n",
      "    Uninstalling tensorflow-estimator-2.12.0:\r\n",
      "      Successfully uninstalled tensorflow-estimator-2.12.0\r\n",
      "  Attempting uninstall: ml-dtypes\r\n",
      "    Found existing installation: ml-dtypes 0.2.0\r\n",
      "    Uninstalling ml-dtypes-0.2.0:\r\n",
      "      Successfully uninstalled ml-dtypes-0.2.0\r\n",
      "  Attempting uninstall: keras\r\n",
      "    Found existing installation: keras 2.12.0\r\n",
      "    Uninstalling keras-2.12.0:\r\n",
      "      Successfully uninstalled keras-2.12.0\r\n",
      "  Attempting uninstall: gym\r\n",
      "    Found existing installation: gym 0.26.2\r\n",
      "    Uninstalling gym-0.26.2:\r\n",
      "      Successfully uninstalled gym-0.26.2\r\n",
      "  Attempting uninstall: tensorboard\r\n",
      "    Found existing installation: tensorboard 2.12.3\r\n",
      "    Uninstalling tensorboard-2.12.3:\r\n",
      "      Successfully uninstalled tensorboard-2.12.3\r\n",
      "  Attempting uninstall: tensorflow\r\n",
      "    Found existing installation: tensorflow 2.12.0\r\n",
      "    Uninstalling tensorflow-2.12.0:\r\n",
      "      Successfully uninstalled tensorflow-2.12.0\r\n",
      "\u001b[31mERROR: pip's dependency resolver does not currently take into account all the packages that are installed. This behaviour is the source of the following dependency conflicts.\r\n",
      "cudf 23.8.0 requires cupy-cuda11x>=12.0.0, which is not installed.\r\n",
      "cuml 23.8.0 requires cupy-cuda11x>=12.0.0, which is not installed.\r\n",
      "dask-cudf 23.8.0 requires cupy-cuda11x>=12.0.0, which is not installed.\r\n",
      "apache-beam 2.46.0 requires dill<0.3.2,>=0.3.1.1, but you have dill 0.3.7 which is incompatible.\r\n",
      "apache-beam 2.46.0 requires pyarrow<10.0.0,>=3.0.0, but you have pyarrow 11.0.0 which is incompatible.\r\n",
      "chex 0.1.82 requires numpy>=1.25.0, but you have numpy 1.23.5 which is incompatible.\r\n",
      "cudf 23.8.0 requires pandas<1.6.0dev0,>=1.3, but you have pandas 2.0.2 which is incompatible.\r\n",
      "cudf 23.8.0 requires protobuf<5,>=4.21, but you have protobuf 3.20.3 which is incompatible.\r\n",
      "cuml 23.8.0 requires dask==2023.7.1, but you have dask 2023.9.0 which is incompatible.\r\n",
      "dask-cudf 23.8.0 requires dask==2023.7.1, but you have dask 2023.9.0 which is incompatible.\r\n",
      "dask-cudf 23.8.0 requires pandas<1.6.0dev0,>=1.3, but you have pandas 2.0.2 which is incompatible.\r\n",
      "pydantic-core 2.6.3 requires typing-extensions!=4.7.0,>=4.6.0, but you have typing-extensions 4.5.0 which is incompatible.\r\n",
      "pymc3 3.11.5 requires numpy<1.22.2,>=1.15.0, but you have numpy 1.23.5 which is incompatible.\r\n",
      "pymc3 3.11.5 requires scipy<1.8.0,>=1.7.3, but you have scipy 1.11.2 which is incompatible.\r\n",
      "tensorflow-decision-forests 1.4.0 requires tensorflow~=2.12.0, but you have tensorflow 2.15.1 which is incompatible.\r\n",
      "tensorflow-text 2.12.1 requires tensorflow<2.13,>=2.12.0; platform_machine != \"arm64\" or platform_system != \"Darwin\", but you have tensorflow 2.15.1 which is incompatible.\r\n",
      "ydata-profiling 4.3.1 requires scipy<1.11,>=1.4.1, but you have scipy 1.11.2 which is incompatible.\u001b[0m\u001b[31m\r\n",
      "\u001b[0mSuccessfully installed dm-reverb-0.14.0 gin-config-0.5.0 gym-0.23.0 keras-2.15.0 ml-dtypes-0.3.2 portpicker-1.6.0 pygame-2.1.3 rlds-0.1.8 tensorboard-2.15.2 tensorflow-2.15.1 tensorflow-estimator-2.15.0 tensorflow-probability-0.23.0 tf-agents-0.19.0 typing-extensions-4.5.0\r\n",
      "Collecting pyglet\r\n",
      "  Downloading pyglet-2.0.17-py3-none-any.whl (936 kB)\r\n",
      "\u001b[2K     \u001b[90m━━━━━━━━━━━━━━━━━━━━━━━━━━━━━━━━━━━━━━\u001b[0m \u001b[32m936.6/936.6 kB\u001b[0m \u001b[31m18.2 MB/s\u001b[0m eta \u001b[36m0:00:00\u001b[0m\r\n",
      "\u001b[?25hInstalling collected packages: pyglet\r\n",
      "Successfully installed pyglet-2.0.17\r\n"
     ]
    }
   ],
   "source": [
    "!sudo apt-get update\n",
    "!sudo apt-get install -y xvfb ffmpeg freeglut3-dev\n",
    "!pip install 'imageio==2.4.0'\n",
    "!pip install pyvirtualdisplay\n",
    "!pip install tf-agents[reverb]\n",
    "!pip install pyglet"
   ]
  },
  {
   "cell_type": "code",
   "execution_count": 3,
   "id": "cf0499b6",
   "metadata": {
    "execution": {
     "iopub.execute_input": "2024-09-11T04:28:13.461595Z",
     "iopub.status.busy": "2024-09-11T04:28:13.461143Z",
     "iopub.status.idle": "2024-09-11T04:28:20.429067Z",
     "shell.execute_reply": "2024-09-11T04:28:20.428064Z"
    },
    "id": "sMitx5qSgJk1",
    "papermill": {
     "duration": 7.021593,
     "end_time": "2024-09-11T04:28:20.432174",
     "exception": false,
     "start_time": "2024-09-11T04:28:13.410581",
     "status": "completed"
    },
    "tags": []
   },
   "outputs": [
    {
     "name": "stderr",
     "output_type": "stream",
     "text": [
      "2024-09-11 04:28:13.875122: E external/local_xla/xla/stream_executor/cuda/cuda_dnn.cc:9261] Unable to register cuDNN factory: Attempting to register factory for plugin cuDNN when one has already been registered\n",
      "2024-09-11 04:28:13.875189: E external/local_xla/xla/stream_executor/cuda/cuda_fft.cc:607] Unable to register cuFFT factory: Attempting to register factory for plugin cuFFT when one has already been registered\n",
      "2024-09-11 04:28:13.876710: E external/local_xla/xla/stream_executor/cuda/cuda_blas.cc:1515] Unable to register cuBLAS factory: Attempting to register factory for plugin cuBLAS when one has already been registered\n",
      "/opt/conda/lib/python3.10/site-packages/scipy/__init__.py:146: UserWarning: A NumPy version >=1.16.5 and <1.23.0 is required for this version of SciPy (detected version 1.23.5\n",
      "  warnings.warn(f\"A NumPy version >={np_minversion} and <{np_maxversion}\"\n"
     ]
    }
   ],
   "source": [
    "from __future__ import absolute_import, division, print_function\n",
    "\n",
    "import base64\n",
    "import imageio\n",
    "import IPython\n",
    "import matplotlib\n",
    "import matplotlib.pyplot as plt\n",
    "import numpy as np\n",
    "import PIL.Image\n",
    "import pyvirtualdisplay\n",
    "import reverb\n",
    "\n",
    "import tensorflow as tf\n",
    "\n",
    "from tf_agents.agents.dqn import dqn_agent\n",
    "from tf_agents.drivers import py_driver\n",
    "from tf_agents.environments import suite_gym\n",
    "from tf_agents.environments import tf_py_environment\n",
    "from tf_agents.eval import metric_utils\n",
    "from tf_agents.metrics import tf_metrics\n",
    "from tf_agents.networks import sequential\n",
    "from tf_agents.policies import py_tf_eager_policy\n",
    "from tf_agents.policies import random_tf_policy\n",
    "from tf_agents.replay_buffers import reverb_replay_buffer\n",
    "from tf_agents.replay_buffers import reverb_utils\n",
    "from tf_agents.trajectories import trajectory\n",
    "from tf_agents.specs import tensor_spec\n",
    "from tf_agents.utils import common"
   ]
  },
  {
   "cell_type": "code",
   "execution_count": 4,
   "id": "b31d1b5c",
   "metadata": {
    "execution": {
     "iopub.execute_input": "2024-09-11T04:28:20.535191Z",
     "iopub.status.busy": "2024-09-11T04:28:20.534516Z",
     "iopub.status.idle": "2024-09-11T04:28:21.029433Z",
     "shell.execute_reply": "2024-09-11T04:28:21.028584Z"
    },
    "id": "J6HsdS5GbSjd",
    "papermill": {
     "duration": 0.546566,
     "end_time": "2024-09-11T04:28:21.031889",
     "exception": false,
     "start_time": "2024-09-11T04:28:20.485323",
     "status": "completed"
    },
    "tags": []
   },
   "outputs": [],
   "source": [
    "# Set up a virtual display for rendering OpenAI gym environments.\n",
    "display = pyvirtualdisplay.Display(visible=0, size=(1400, 900)).start()"
   ]
  },
  {
   "cell_type": "code",
   "execution_count": 5,
   "id": "68e10858",
   "metadata": {
    "execution": {
     "iopub.execute_input": "2024-09-11T04:28:21.130511Z",
     "iopub.status.busy": "2024-09-11T04:28:21.129572Z",
     "iopub.status.idle": "2024-09-11T04:28:21.136905Z",
     "shell.execute_reply": "2024-09-11T04:28:21.135985Z"
    },
    "id": "NspmzG4nP3b9",
    "papermill": {
     "duration": 0.058218,
     "end_time": "2024-09-11T04:28:21.138833",
     "exception": false,
     "start_time": "2024-09-11T04:28:21.080615",
     "status": "completed"
    },
    "tags": []
   },
   "outputs": [
    {
     "data": {
      "text/plain": [
       "'2.15.1'"
      ]
     },
     "execution_count": 5,
     "metadata": {},
     "output_type": "execute_result"
    }
   ],
   "source": [
    "tf.version.VERSION"
   ]
  },
  {
   "cell_type": "markdown",
   "id": "2cce75fb",
   "metadata": {
    "id": "LmC0NDhdLIKY",
    "papermill": {
     "duration": 0.049139,
     "end_time": "2024-09-11T04:28:21.237495",
     "exception": false,
     "start_time": "2024-09-11T04:28:21.188356",
     "status": "completed"
    },
    "tags": []
   },
   "source": [
    "## Hyperparameters"
   ]
  },
  {
   "cell_type": "code",
   "execution_count": 6,
   "id": "488aceb6",
   "metadata": {
    "execution": {
     "iopub.execute_input": "2024-09-11T04:28:21.339742Z",
     "iopub.status.busy": "2024-09-11T04:28:21.338787Z",
     "iopub.status.idle": "2024-09-11T04:28:21.344470Z",
     "shell.execute_reply": "2024-09-11T04:28:21.343548Z"
    },
    "id": "HC1kNrOsLSIZ",
    "papermill": {
     "duration": 0.058079,
     "end_time": "2024-09-11T04:28:21.346559",
     "exception": false,
     "start_time": "2024-09-11T04:28:21.288480",
     "status": "completed"
    },
    "tags": []
   },
   "outputs": [],
   "source": [
    "num_iterations = 20000 # @param {type:\"integer\"}\n",
    "\n",
    "initial_collect_steps = 100  # @param {type:\"integer\"}\n",
    "collect_steps_per_iteration =   1# @param {type:\"integer\"}\n",
    "replay_buffer_max_length = 100000  # @param {type:\"integer\"}\n",
    "\n",
    "batch_size = 64  # @param {type:\"integer\"}\n",
    "learning_rate = 1e-3  # @param {type:\"number\"}\n",
    "log_interval = 200  # @param {type:\"integer\"}\n",
    "\n",
    "num_eval_episodes = 10  # @param {type:\"integer\"}\n",
    "eval_interval = 1000  # @param {type:\"integer\"}"
   ]
  },
  {
   "cell_type": "markdown",
   "id": "878d336e",
   "metadata": {
    "id": "VMsJC3DEgI0x",
    "papermill": {
     "duration": 0.049491,
     "end_time": "2024-09-11T04:28:21.444816",
     "exception": false,
     "start_time": "2024-09-11T04:28:21.395325",
     "status": "completed"
    },
    "tags": []
   },
   "source": [
    "## Environment\n",
    "\n",
    "In Reinforcement Learning (RL), an environment represents the task or problem to be solved. Standard environments can be created in TF-Agents using `tf_agents.environments` suites. TF-Agents has suites for loading environments from sources such as the OpenAI Gym, Atari, and DM Control.\n",
    "\n",
    "Load the CartPole environment from the OpenAI Gym suite. "
   ]
  },
  {
   "cell_type": "code",
   "execution_count": 7,
   "id": "dba72db4",
   "metadata": {
    "execution": {
     "iopub.execute_input": "2024-09-11T04:28:21.554095Z",
     "iopub.status.busy": "2024-09-11T04:28:21.553363Z",
     "iopub.status.idle": "2024-09-11T04:28:21.626281Z",
     "shell.execute_reply": "2024-09-11T04:28:21.624637Z"
    },
    "id": "pYEz-S9gEv2-",
    "papermill": {
     "duration": 0.136137,
     "end_time": "2024-09-11T04:28:21.630567",
     "exception": false,
     "start_time": "2024-09-11T04:28:21.494430",
     "status": "completed"
    },
    "tags": []
   },
   "outputs": [],
   "source": [
    "env_name = 'CartPole-v0'\n",
    "env = suite_gym.load(env_name)"
   ]
  },
  {
   "cell_type": "markdown",
   "id": "a577fee7",
   "metadata": {
    "id": "IIHYVBkuvPNw",
    "papermill": {
     "duration": 0.105897,
     "end_time": "2024-09-11T04:28:21.826236",
     "exception": false,
     "start_time": "2024-09-11T04:28:21.720339",
     "status": "completed"
    },
    "tags": []
   },
   "source": [
    "You can render this environment to see how it looks. A free-swinging pole is attached to a cart.  The goal is to move the cart right or left in order to keep the pole pointing up."
   ]
  },
  {
   "cell_type": "code",
   "execution_count": 8,
   "id": "c1951c5d",
   "metadata": {
    "execution": {
     "iopub.execute_input": "2024-09-11T04:28:21.926579Z",
     "iopub.status.busy": "2024-09-11T04:28:21.925592Z",
     "iopub.status.idle": "2024-09-11T04:28:22.452773Z",
     "shell.execute_reply": "2024-09-11T04:28:22.451559Z"
    },
    "id": "RlO7WIQHu_7D",
    "papermill": {
     "duration": 0.579804,
     "end_time": "2024-09-11T04:28:22.454879",
     "exception": false,
     "start_time": "2024-09-11T04:28:21.875075",
     "status": "completed"
    },
    "tags": []
   },
   "outputs": [
    {
     "name": "stderr",
     "output_type": "stream",
     "text": [
      "ALSA lib confmisc.c:855:(parse_card) cannot find card '0'\n",
      "ALSA lib conf.c:5180:(_snd_config_evaluate) function snd_func_card_inum returned error: No such file or directory\n",
      "ALSA lib confmisc.c:422:(snd_func_concat) error evaluating strings\n",
      "ALSA lib conf.c:5180:(_snd_config_evaluate) function snd_func_concat returned error: No such file or directory\n",
      "ALSA lib confmisc.c:1334:(snd_func_refer) error evaluating name\n",
      "ALSA lib conf.c:5180:(_snd_config_evaluate) function snd_func_refer returned error: No such file or directory\n",
      "ALSA lib conf.c:5703:(snd_config_expand) Evaluate error: No such file or directory\n",
      "ALSA lib pcm.c:2666:(snd_pcm_open_noupdate) Unknown PCM default\n"
     ]
    },
    {
     "data": {
      "image/png": "[encoded data removed]",
      "text/plain": [
       "<PIL.Image.Image image mode=RGB size=600x400>"
      ]
     },
     "execution_count": 8,
     "metadata": {},
     "output_type": "execute_result"
    }
   ],
   "source": [
    "#@test {\"skip\": true}\n",
    "env.reset()\n",
    "PIL.Image.fromarray(env.render())"
   ]
  },
  {
   "cell_type": "markdown",
   "id": "b5a63b4d",
   "metadata": {
    "id": "B9_lskPOey18",
    "papermill": {
     "duration": 0.04981,
     "end_time": "2024-09-11T04:28:22.553804",
     "exception": false,
     "start_time": "2024-09-11T04:28:22.503994",
     "status": "completed"
    },
    "tags": []
   },
   "source": [
    "The `environment.step` method takes an `action` in the environment and returns a `TimeStep` tuple containing the next observation of the environment and the reward for the action.\n",
    "\n",
    "The `time_step_spec()` method returns the specification for the `TimeStep` tuple. Its `observation` attribute shows the shape of observations, the data types, and the ranges of allowed values. The `reward` attribute shows the same details for the reward.\n"
   ]
  },
  {
   "cell_type": "code",
   "execution_count": 9,
   "id": "7ef7204f",
   "metadata": {
    "execution": {
     "iopub.execute_input": "2024-09-11T04:28:22.656542Z",
     "iopub.status.busy": "2024-09-11T04:28:22.655529Z",
     "iopub.status.idle": "2024-09-11T04:28:22.665166Z",
     "shell.execute_reply": "2024-09-11T04:28:22.663895Z"
    },
    "id": "exDv57iHfwQV",
    "papermill": {
     "duration": 0.06367,
     "end_time": "2024-09-11T04:28:22.667347",
     "exception": false,
     "start_time": "2024-09-11T04:28:22.603677",
     "status": "completed"
    },
    "tags": []
   },
   "outputs": [
    {
     "name": "stdout",
     "output_type": "stream",
     "text": [
      "Observation Spec:\n",
      "BoundedArraySpec(shape=(4,), dtype=dtype('float32'), name='observation', minimum=[-4.8000002e+00 -3.4028235e+38 -4.1887903e-01 -3.4028235e+38], maximum=[4.8000002e+00 3.4028235e+38 4.1887903e-01 3.4028235e+38])\n"
     ]
    }
   ],
   "source": [
    "print('Observation Spec:')\n",
    "print(env.time_step_spec().observation)"
   ]
  },
  {
   "cell_type": "code",
   "execution_count": 10,
   "id": "1f106228",
   "metadata": {
    "execution": {
     "iopub.execute_input": "2024-09-11T04:28:22.770682Z",
     "iopub.status.busy": "2024-09-11T04:28:22.769870Z",
     "iopub.status.idle": "2024-09-11T04:28:22.775932Z",
     "shell.execute_reply": "2024-09-11T04:28:22.774948Z"
    },
    "id": "UxiSyCbBUQPi",
    "papermill": {
     "duration": 0.059397,
     "end_time": "2024-09-11T04:28:22.777979",
     "exception": false,
     "start_time": "2024-09-11T04:28:22.718582",
     "status": "completed"
    },
    "tags": []
   },
   "outputs": [
    {
     "name": "stdout",
     "output_type": "stream",
     "text": [
      "Reward Spec:\n",
      "ArraySpec(shape=(), dtype=dtype('float32'), name='reward')\n"
     ]
    }
   ],
   "source": [
    "print('Reward Spec:')\n",
    "print(env.time_step_spec().reward)"
   ]
  },
  {
   "cell_type": "markdown",
   "id": "f735caa3",
   "metadata": {
    "id": "b_lHcIcqUaqB",
    "papermill": {
     "duration": 0.056214,
     "end_time": "2024-09-11T04:28:22.883820",
     "exception": false,
     "start_time": "2024-09-11T04:28:22.827606",
     "status": "completed"
    },
    "tags": []
   },
   "source": [
    "The `action_spec()` method returns the shape, data types, and allowed values of valid actions."
   ]
  },
  {
   "cell_type": "code",
   "execution_count": 11,
   "id": "dc0d5024",
   "metadata": {
    "execution": {
     "iopub.execute_input": "2024-09-11T04:28:22.988184Z",
     "iopub.status.busy": "2024-09-11T04:28:22.986667Z",
     "iopub.status.idle": "2024-09-11T04:28:22.992399Z",
     "shell.execute_reply": "2024-09-11T04:28:22.991514Z"
    },
    "id": "bttJ4uxZUQBr",
    "papermill": {
     "duration": 0.059332,
     "end_time": "2024-09-11T04:28:22.994529",
     "exception": false,
     "start_time": "2024-09-11T04:28:22.935197",
     "status": "completed"
    },
    "tags": []
   },
   "outputs": [
    {
     "name": "stdout",
     "output_type": "stream",
     "text": [
      "Action Spec:\n",
      "BoundedArraySpec(shape=(), dtype=dtype('int64'), name='action', minimum=0, maximum=1)\n"
     ]
    }
   ],
   "source": [
    "print('Action Spec:')\n",
    "print(env.action_spec())"
   ]
  },
  {
   "cell_type": "markdown",
   "id": "39507696",
   "metadata": {
    "id": "eJCgJnx3g0yY",
    "papermill": {
     "duration": 0.050376,
     "end_time": "2024-09-11T04:28:23.094408",
     "exception": false,
     "start_time": "2024-09-11T04:28:23.044032",
     "status": "completed"
    },
    "tags": []
   },
   "source": [
    "In the Cartpole environment:\n",
    "\n",
    "-   `observation` is an array of 4 floats: \n",
    "    -   the position and velocity of the cart\n",
    "    -   the angular position and velocity of the pole \n",
    "-   `reward` is a scalar float value\n",
    "-   `action` is a scalar integer with only two possible values:\n",
    "    -   `0` — \"move left\"\n",
    "    -   `1` — \"move right\"\n"
   ]
  },
  {
   "cell_type": "code",
   "execution_count": 12,
   "id": "e6acd7a2",
   "metadata": {
    "execution": {
     "iopub.execute_input": "2024-09-11T04:28:23.196734Z",
     "iopub.status.busy": "2024-09-11T04:28:23.196093Z",
     "iopub.status.idle": "2024-09-11T04:28:23.210309Z",
     "shell.execute_reply": "2024-09-11T04:28:23.209011Z"
    },
    "id": "V2UGR5t_iZX-",
    "papermill": {
     "duration": 0.067474,
     "end_time": "2024-09-11T04:28:23.212438",
     "exception": false,
     "start_time": "2024-09-11T04:28:23.144964",
     "status": "completed"
    },
    "tags": []
   },
   "outputs": [
    {
     "name": "stdout",
     "output_type": "stream",
     "text": [
      "Time step:\n",
      "TimeStep(\n",
      "{'step_type': array(0, dtype=int32),\n",
      " 'reward': array(0., dtype=float32),\n",
      " 'discount': array(1., dtype=float32),\n",
      " 'observation': array([0.00614057, 0.03366313, 0.04644099, 0.04645749], dtype=float32)})\n",
      "Next time step:\n",
      "TimeStep(\n",
      "{'step_type': array(1, dtype=int32),\n",
      " 'reward': array(1., dtype=float32),\n",
      " 'discount': array(1., dtype=float32),\n",
      " 'observation': array([ 0.00681383,  0.22808945,  0.04737014, -0.23121879], dtype=float32)})\n"
     ]
    }
   ],
   "source": [
    "time_step = env.reset()\n",
    "print('Time step:')\n",
    "print(time_step)\n",
    "\n",
    "action = np.array(1, dtype=np.int32)\n",
    "\n",
    "next_time_step = env.step(action)\n",
    "print('Next time step:')\n",
    "print(next_time_step)"
   ]
  },
  {
   "cell_type": "markdown",
   "id": "4e1721a1",
   "metadata": {
    "id": "4JSc9GviWUBK",
    "papermill": {
     "duration": 0.048599,
     "end_time": "2024-09-11T04:28:23.312100",
     "exception": false,
     "start_time": "2024-09-11T04:28:23.263501",
     "status": "completed"
    },
    "tags": []
   },
   "source": [
    "Usually two environments are instantiated: one for training and one for evaluation. "
   ]
  },
  {
   "cell_type": "code",
   "execution_count": 13,
   "id": "6a4758fc",
   "metadata": {
    "execution": {
     "iopub.execute_input": "2024-09-11T04:28:23.411627Z",
     "iopub.status.busy": "2024-09-11T04:28:23.410958Z",
     "iopub.status.idle": "2024-09-11T04:28:23.418687Z",
     "shell.execute_reply": "2024-09-11T04:28:23.417604Z"
    },
    "id": "N7brXNIGWXjC",
    "papermill": {
     "duration": 0.05985,
     "end_time": "2024-09-11T04:28:23.421059",
     "exception": false,
     "start_time": "2024-09-11T04:28:23.361209",
     "status": "completed"
    },
    "tags": []
   },
   "outputs": [],
   "source": [
    "train_py_env = suite_gym.load(env_name)\n",
    "eval_py_env = suite_gym.load(env_name)"
   ]
  },
  {
   "cell_type": "markdown",
   "id": "c8f767dd",
   "metadata": {
    "id": "zuUqXAVmecTU",
    "papermill": {
     "duration": 0.048822,
     "end_time": "2024-09-11T04:28:23.523032",
     "exception": false,
     "start_time": "2024-09-11T04:28:23.474210",
     "status": "completed"
    },
    "tags": []
   },
   "source": [
    "The Cartpole environment, like most environments, is written in pure Python. This is converted to TensorFlow using the `TFPyEnvironment` wrapper.\n",
    "\n",
    "The original environment's API uses Numpy arrays. The `TFPyEnvironment` converts these to `Tensors` to make it compatible with Tensorflow agents and policies.\n"
   ]
  },
  {
   "cell_type": "code",
   "execution_count": 14,
   "id": "cfac83e8",
   "metadata": {
    "execution": {
     "iopub.execute_input": "2024-09-11T04:28:23.623180Z",
     "iopub.status.busy": "2024-09-11T04:28:23.622411Z",
     "iopub.status.idle": "2024-09-11T04:28:23.644735Z",
     "shell.execute_reply": "2024-09-11T04:28:23.643744Z"
    },
    "id": "Xp-Y4mD6eDhF",
    "papermill": {
     "duration": 0.074603,
     "end_time": "2024-09-11T04:28:23.646966",
     "exception": false,
     "start_time": "2024-09-11T04:28:23.572363",
     "status": "completed"
    },
    "tags": []
   },
   "outputs": [],
   "source": [
    "train_env = tf_py_environment.TFPyEnvironment(train_py_env)\n",
    "eval_env = tf_py_environment.TFPyEnvironment(eval_py_env)"
   ]
  },
  {
   "cell_type": "markdown",
   "id": "42df0c13",
   "metadata": {
    "id": "E9lW_OZYFR8A",
    "papermill": {
     "duration": 0.050588,
     "end_time": "2024-09-11T04:28:23.748230",
     "exception": false,
     "start_time": "2024-09-11T04:28:23.697642",
     "status": "completed"
    },
    "tags": []
   },
   "source": [
    "## Agent\n",
    "\n",
    "The algorithm used to solve an RL problem is represented by an `Agent`. TF-Agents provides standard implementations of a variety of `Agents`, including:\n",
    "\n",
    "-   [DQN](https://storage.googleapis.com/deepmind-media/dqn/DQNNaturePaper.pdf) (used in this tutorial)\n",
    "-   [REINFORCE](https://www-anw.cs.umass.edu/~barto/courses/cs687/williams92simple.pdf)\n",
    "-   [DDPG](https://arxiv.org/pdf/1509.02971.pdf)\n",
    "-   [TD3](https://arxiv.org/pdf/1802.09477.pdf)\n",
    "-   [PPO](https://arxiv.org/abs/1707.06347)\n",
    "-   [SAC](https://arxiv.org/abs/1801.01290)\n",
    "\n",
    "The DQN agent can be used in any environment which has a discrete action space.\n",
    "\n",
    "At the heart of a DQN Agent is a `QNetwork`, a neural network model that can learn to predict `QValues` (expected returns) for all actions, given an observation from the environment.\n",
    "\n",
    "We will use `tf_agents.networks.` to create a `QNetwork`. The network will consist of a sequence of `tf.keras.layers.Dense` layers, where the final layer will have 1 output for each possible action."
   ]
  },
  {
   "cell_type": "code",
   "execution_count": 15,
   "id": "46fc10d2",
   "metadata": {
    "execution": {
     "iopub.execute_input": "2024-09-11T04:28:23.849608Z",
     "iopub.status.busy": "2024-09-11T04:28:23.848742Z",
     "iopub.status.idle": "2024-09-11T04:28:23.877018Z",
     "shell.execute_reply": "2024-09-11T04:28:23.875948Z"
    },
    "id": "TgkdEPg_muzV",
    "papermill": {
     "duration": 0.081956,
     "end_time": "2024-09-11T04:28:23.879571",
     "exception": false,
     "start_time": "2024-09-11T04:28:23.797615",
     "status": "completed"
    },
    "tags": []
   },
   "outputs": [],
   "source": [
    "fc_layer_params = (100, 50)\n",
    "action_tensor_spec = tensor_spec.from_spec(env.action_spec())\n",
    "num_actions = action_tensor_spec.maximum - action_tensor_spec.minimum + 1\n",
    "\n",
    "# Define a helper function to create Dense layers configured with the right\n",
    "# activation and kernel initializer.\n",
    "def dense_layer(num_units):\n",
    "  return tf.keras.layers.Dense(\n",
    "      num_units,\n",
    "      activation=tf.keras.activations.relu,\n",
    "      kernel_initializer=tf.keras.initializers.VarianceScaling(\n",
    "          scale=2.0, mode='fan_in', distribution='truncated_normal'))\n",
    "\n",
    "# QNetwork consists of a sequence of Dense layers followed by a dense layer\n",
    "# with `num_actions` units to generate one q_value per available action as\n",
    "# its output.\n",
    "dense_layers = [dense_layer(num_units) for num_units in fc_layer_params]\n",
    "q_values_layer = tf.keras.layers.Dense(\n",
    "    num_actions,\n",
    "    activation=None,\n",
    "    kernel_initializer=tf.keras.initializers.RandomUniform(\n",
    "        minval=-0.03, maxval=0.03),\n",
    "    bias_initializer=tf.keras.initializers.Constant(-0.2))\n",
    "q_net = sequential.Sequential(dense_layers + [q_values_layer])"
   ]
  },
  {
   "cell_type": "markdown",
   "id": "45de038f",
   "metadata": {
    "id": "z62u55hSmviJ",
    "papermill": {
     "duration": 0.048406,
     "end_time": "2024-09-11T04:28:23.977805",
     "exception": false,
     "start_time": "2024-09-11T04:28:23.929399",
     "status": "completed"
    },
    "tags": []
   },
   "source": [
    "Now use `tf_agents.agents.dqn.dqn_agent` to instantiate a `DqnAgent`. In addition to the `time_step_spec`, `action_spec` and the QNetwork, the agent constructor also requires an optimizer (in this case, `AdamOptimizer`), a loss function, and an integer step counter."
   ]
  },
  {
   "cell_type": "code",
   "execution_count": 16,
   "id": "4d472f28",
   "metadata": {
    "execution": {
     "iopub.execute_input": "2024-09-11T04:28:24.079161Z",
     "iopub.status.busy": "2024-09-11T04:28:24.078768Z",
     "iopub.status.idle": "2024-09-11T04:28:24.529627Z",
     "shell.execute_reply": "2024-09-11T04:28:24.528428Z"
    },
    "id": "jbY4yrjTEyc9",
    "papermill": {
     "duration": 0.505425,
     "end_time": "2024-09-11T04:28:24.532226",
     "exception": false,
     "start_time": "2024-09-11T04:28:24.026801",
     "status": "completed"
    },
    "tags": []
   },
   "outputs": [],
   "source": [
    "optimizer = tf.keras.optimizers.Adam(learning_rate=learning_rate)\n",
    "\n",
    "train_step_counter = tf.Variable(0)\n",
    "\n",
    "agent = dqn_agent.DqnAgent(\n",
    "    train_env.time_step_spec(),\n",
    "    train_env.action_spec(),\n",
    "    q_network=q_net,\n",
    "    optimizer=optimizer,\n",
    "    td_errors_loss_fn=common.element_wise_squared_loss,\n",
    "    train_step_counter=train_step_counter)\n",
    "\n",
    "agent.initialize()"
   ]
  },
  {
   "cell_type": "markdown",
   "id": "5a2b0024",
   "metadata": {
    "id": "I0KLrEPwkn5x",
    "papermill": {
     "duration": 0.049693,
     "end_time": "2024-09-11T04:28:24.632255",
     "exception": false,
     "start_time": "2024-09-11T04:28:24.582562",
     "status": "completed"
    },
    "tags": []
   },
   "source": [
    "## Policies\n",
    "\n",
    "A policy defines the way an agent acts in an environment. Typically, the goal of reinforcement learning is to train the underlying model until the policy produces the desired outcome.\n",
    "\n",
    "In this tutorial:\n",
    "\n",
    "-   The desired outcome is keeping the pole balanced upright over the cart.\n",
    "-   The policy returns an action (left or right) for each `time_step` observation.\n",
    "\n",
    "Agents contain two policies: \n",
    "\n",
    "-   `agent.policy` — The main policy that is used for evaluation and deployment.\n",
    "-   `agent.collect_policy` — A second policy that is used for data collection.\n"
   ]
  },
  {
   "cell_type": "code",
   "execution_count": 17,
   "id": "866b4845",
   "metadata": {
    "execution": {
     "iopub.execute_input": "2024-09-11T04:28:24.733607Z",
     "iopub.status.busy": "2024-09-11T04:28:24.733213Z",
     "iopub.status.idle": "2024-09-11T04:28:24.737916Z",
     "shell.execute_reply": "2024-09-11T04:28:24.736932Z"
    },
    "id": "BwY7StuMkuV4",
    "papermill": {
     "duration": 0.057546,
     "end_time": "2024-09-11T04:28:24.740050",
     "exception": false,
     "start_time": "2024-09-11T04:28:24.682504",
     "status": "completed"
    },
    "tags": []
   },
   "outputs": [],
   "source": [
    "eval_policy = agent.policy\n",
    "collect_policy = agent.collect_policy"
   ]
  },
  {
   "cell_type": "markdown",
   "id": "e1d9b8e7",
   "metadata": {
    "id": "2Qs1Fl3dV0ae",
    "papermill": {
     "duration": 0.048578,
     "end_time": "2024-09-11T04:28:24.839078",
     "exception": false,
     "start_time": "2024-09-11T04:28:24.790500",
     "status": "completed"
    },
    "tags": []
   },
   "source": [
    "Policies can be created independently of agents. For example, use `tf_agents.policies.random_tf_policy` to create a policy which will randomly select an action for each `time_step`."
   ]
  },
  {
   "cell_type": "code",
   "execution_count": 18,
   "id": "e0122a9a",
   "metadata": {
    "execution": {
     "iopub.execute_input": "2024-09-11T04:28:24.940127Z",
     "iopub.status.busy": "2024-09-11T04:28:24.939666Z",
     "iopub.status.idle": "2024-09-11T04:28:24.945190Z",
     "shell.execute_reply": "2024-09-11T04:28:24.944240Z"
    },
    "id": "HE37-UCIrE69",
    "papermill": {
     "duration": 0.058501,
     "end_time": "2024-09-11T04:28:24.947539",
     "exception": false,
     "start_time": "2024-09-11T04:28:24.889038",
     "status": "completed"
    },
    "tags": []
   },
   "outputs": [],
   "source": [
    "random_policy = random_tf_policy.RandomTFPolicy(train_env.time_step_spec(),\n",
    "                                                train_env.action_spec())"
   ]
  },
  {
   "cell_type": "markdown",
   "id": "830a0bc0",
   "metadata": {
    "id": "dOlnlRRsUbxP",
    "papermill": {
     "duration": 0.051091,
     "end_time": "2024-09-11T04:28:25.048361",
     "exception": false,
     "start_time": "2024-09-11T04:28:24.997270",
     "status": "completed"
    },
    "tags": []
   },
   "source": [
    "To get an action from a policy, call the `policy.action(time_step)` method. The `time_step` contains the observation from the environment. This method returns a `PolicyStep`, which is a named tuple with three components:\n",
    "\n",
    "-   `action` — the action to be taken (in this case, `0` or `1`)\n",
    "-   `state` — used for stateful (that is, RNN-based) policies\n",
    "-   `info` — auxiliary data, such as log probabilities of actions"
   ]
  },
  {
   "cell_type": "code",
   "execution_count": 19,
   "id": "5d6a2fea",
   "metadata": {
    "execution": {
     "iopub.execute_input": "2024-09-11T04:28:25.150629Z",
     "iopub.status.busy": "2024-09-11T04:28:25.150202Z",
     "iopub.status.idle": "2024-09-11T04:28:25.159792Z",
     "shell.execute_reply": "2024-09-11T04:28:25.158931Z"
    },
    "id": "5gCcpXswVAxk",
    "papermill": {
     "duration": 0.063518,
     "end_time": "2024-09-11T04:28:25.161946",
     "exception": false,
     "start_time": "2024-09-11T04:28:25.098428",
     "status": "completed"
    },
    "tags": []
   },
   "outputs": [],
   "source": [
    "example_environment = tf_py_environment.TFPyEnvironment(\n",
    "    suite_gym.load('CartPole-v0'))"
   ]
  },
  {
   "cell_type": "code",
   "execution_count": 20,
   "id": "754bd779",
   "metadata": {
    "execution": {
     "iopub.execute_input": "2024-09-11T04:28:25.264235Z",
     "iopub.status.busy": "2024-09-11T04:28:25.263824Z",
     "iopub.status.idle": "2024-09-11T04:28:25.270939Z",
     "shell.execute_reply": "2024-09-11T04:28:25.269957Z"
    },
    "id": "D4DHZtq3Ndis",
    "papermill": {
     "duration": 0.061987,
     "end_time": "2024-09-11T04:28:25.273025",
     "exception": false,
     "start_time": "2024-09-11T04:28:25.211038",
     "status": "completed"
    },
    "tags": []
   },
   "outputs": [],
   "source": [
    "time_step = example_environment.reset()"
   ]
  },
  {
   "cell_type": "code",
   "execution_count": 21,
   "id": "536067aa",
   "metadata": {
    "execution": {
     "iopub.execute_input": "2024-09-11T04:28:25.375077Z",
     "iopub.status.busy": "2024-09-11T04:28:25.374657Z",
     "iopub.status.idle": "2024-09-11T04:28:25.387702Z",
     "shell.execute_reply": "2024-09-11T04:28:25.386733Z"
    },
    "id": "PRFqAUzpNaAW",
    "papermill": {
     "duration": 0.066759,
     "end_time": "2024-09-11T04:28:25.389777",
     "exception": false,
     "start_time": "2024-09-11T04:28:25.323018",
     "status": "completed"
    },
    "tags": []
   },
   "outputs": [
    {
     "data": {
      "text/plain": [
       "PolicyStep(action=<tf.Tensor: shape=(1,), dtype=int64, numpy=array([1])>, state=(), info=())"
      ]
     },
     "execution_count": 21,
     "metadata": {},
     "output_type": "execute_result"
    }
   ],
   "source": [
    "random_policy.action(time_step)"
   ]
  },
  {
   "cell_type": "markdown",
   "id": "7e5bed19",
   "metadata": {
    "id": "94rCXQtbUbXv",
    "papermill": {
     "duration": 0.049822,
     "end_time": "2024-09-11T04:28:25.490199",
     "exception": false,
     "start_time": "2024-09-11T04:28:25.440377",
     "status": "completed"
    },
    "tags": []
   },
   "source": [
    "## Metrics and Evaluation\n",
    "\n",
    "The most common metric used to evaluate a policy is the average return. The return is the sum of rewards obtained while running a policy in an environment for an episode. Several episodes are run, creating an average return.\n",
    "\n",
    "The following function computes the average return of a policy, given the policy, environment, and a number of episodes.\n"
   ]
  },
  {
   "cell_type": "code",
   "execution_count": 22,
   "id": "bb2f6c4b",
   "metadata": {
    "execution": {
     "iopub.execute_input": "2024-09-11T04:28:25.592888Z",
     "iopub.status.busy": "2024-09-11T04:28:25.592421Z",
     "iopub.status.idle": "2024-09-11T04:28:25.599474Z",
     "shell.execute_reply": "2024-09-11T04:28:25.598523Z"
    },
    "id": "bitzHo5_UbXy",
    "papermill": {
     "duration": 0.059541,
     "end_time": "2024-09-11T04:28:25.601479",
     "exception": false,
     "start_time": "2024-09-11T04:28:25.541938",
     "status": "completed"
    },
    "tags": []
   },
   "outputs": [],
   "source": [
    "#@test {\"skip\": true}\n",
    "def compute_avg_return(environment, policy, num_episodes=10):\n",
    "\n",
    "  total_return = 0.0\n",
    "  for _ in range(num_episodes):\n",
    "\n",
    "    time_step = environment.reset()\n",
    "    episode_return = 0.0\n",
    "\n",
    "    while not time_step.is_last():\n",
    "      action_step = policy.action(time_step)\n",
    "      time_step = environment.step(action_step.action)\n",
    "      episode_return += time_step.reward\n",
    "    total_return += episode_return\n",
    "\n",
    "  avg_return = total_return / num_episodes\n",
    "  return avg_return.numpy()[0]\n",
    "\n",
    "\n",
    "# See also the metrics module for standard implementations of different metrics.\n",
    "# https://github.com/tensorflow/agents/tree/master/tf_agents/metrics"
   ]
  },
  {
   "cell_type": "markdown",
   "id": "017691d9",
   "metadata": {
    "id": "_snCVvq5Z8lJ",
    "papermill": {
     "duration": 0.049538,
     "end_time": "2024-09-11T04:28:25.699923",
     "exception": false,
     "start_time": "2024-09-11T04:28:25.650385",
     "status": "completed"
    },
    "tags": []
   },
   "source": [
    "Running this computation on the `random_policy` shows a baseline performance in the environment."
   ]
  },
  {
   "cell_type": "code",
   "execution_count": 23,
   "id": "8957f645",
   "metadata": {
    "execution": {
     "iopub.execute_input": "2024-09-11T04:28:25.800442Z",
     "iopub.status.busy": "2024-09-11T04:28:25.800058Z",
     "iopub.status.idle": "2024-09-11T04:28:26.254189Z",
     "shell.execute_reply": "2024-09-11T04:28:26.253150Z"
    },
    "id": "9bgU6Q6BZ8Bp",
    "papermill": {
     "duration": 0.507405,
     "end_time": "2024-09-11T04:28:26.256432",
     "exception": false,
     "start_time": "2024-09-11T04:28:25.749027",
     "status": "completed"
    },
    "tags": []
   },
   "outputs": [
    {
     "data": {
      "text/plain": [
       "15.9"
      ]
     },
     "execution_count": 23,
     "metadata": {},
     "output_type": "execute_result"
    }
   ],
   "source": [
    "compute_avg_return(eval_env, random_policy, num_eval_episodes)"
   ]
  },
  {
   "cell_type": "markdown",
   "id": "ce470462",
   "metadata": {
    "id": "NLva6g2jdWgr",
    "papermill": {
     "duration": 0.04948,
     "end_time": "2024-09-11T04:28:26.357763",
     "exception": false,
     "start_time": "2024-09-11T04:28:26.308283",
     "status": "completed"
    },
    "tags": []
   },
   "source": [
    "## Replay Buffer\n",
    "\n",
    "In order to keep track of the data collected from the environment, we will use [Reverb](https://deepmind.com/research/open-source/Reverb), an efficient, extensible, and easy-to-use replay system by Deepmind. It stores experience data when we collect trajectories and is consumed during training.\n",
    "\n",
    "This replay buffer is constructed using specs describing the tensors that are to be stored, which can be obtained from the agent using agent.collect_data_spec.\n"
   ]
  },
  {
   "cell_type": "code",
   "execution_count": 24,
   "id": "6d8f23d0",
   "metadata": {
    "execution": {
     "iopub.execute_input": "2024-09-11T04:28:26.459115Z",
     "iopub.status.busy": "2024-09-11T04:28:26.458195Z",
     "iopub.status.idle": "2024-09-11T04:28:26.478388Z",
     "shell.execute_reply": "2024-09-11T04:28:26.477255Z"
    },
    "id": "vX2zGUWJGWAl",
    "papermill": {
     "duration": 0.073301,
     "end_time": "2024-09-11T04:28:26.480592",
     "exception": false,
     "start_time": "2024-09-11T04:28:26.407291",
     "status": "completed"
    },
    "tags": []
   },
   "outputs": [
    {
     "name": "stderr",
     "output_type": "stream",
     "text": [
      "[reverb/cc/platform/tfrecord_checkpointer.cc:162]  Initializing TFRecordCheckpointer in /tmp/tmpyivc4xkl.\n",
      "[reverb/cc/platform/tfrecord_checkpointer.cc:565] Loading latest checkpoint from /tmp/tmpyivc4xkl\n",
      "[reverb/cc/platform/default/server.cc:71] Started replay server on port 44193\n"
     ]
    }
   ],
   "source": [
    "table_name = 'uniform_table'\n",
    "replay_buffer_signature = tensor_spec.from_spec(\n",
    "      agent.collect_data_spec)\n",
    "replay_buffer_signature = tensor_spec.add_outer_dim(\n",
    "    replay_buffer_signature)\n",
    "\n",
    "table = reverb.Table(\n",
    "    table_name,\n",
    "    max_size=replay_buffer_max_length,\n",
    "    sampler=reverb.selectors.Uniform(),\n",
    "    remover=reverb.selectors.Fifo(),\n",
    "    rate_limiter=reverb.rate_limiters.MinSize(1),\n",
    "    signature=replay_buffer_signature)\n",
    "\n",
    "reverb_server = reverb.Server([table])\n",
    "\n",
    "replay_buffer = reverb_replay_buffer.ReverbReplayBuffer(\n",
    "    agent.collect_data_spec,\n",
    "    table_name=table_name,\n",
    "    sequence_length=2,\n",
    "    local_server=reverb_server)\n",
    "\n",
    "rb_observer = reverb_utils.ReverbAddTrajectoryObserver(\n",
    "  replay_buffer.py_client,\n",
    "  table_name,\n",
    "  sequence_length=2)"
   ]
  },
  {
   "cell_type": "markdown",
   "id": "cd14cd7b",
   "metadata": {
    "id": "ZGNTDJpZs4NN",
    "papermill": {
     "duration": 0.050262,
     "end_time": "2024-09-11T04:28:26.580303",
     "exception": false,
     "start_time": "2024-09-11T04:28:26.530041",
     "status": "completed"
    },
    "tags": []
   },
   "source": [
    "For most agents, `collect_data_spec` is a named tuple called `Trajectory`, containing the specs for observations, actions, rewards, and other items."
   ]
  },
  {
   "cell_type": "code",
   "execution_count": 25,
   "id": "53da54d5",
   "metadata": {
    "execution": {
     "iopub.execute_input": "2024-09-11T04:28:26.683284Z",
     "iopub.status.busy": "2024-09-11T04:28:26.682385Z",
     "iopub.status.idle": "2024-09-11T04:28:26.691065Z",
     "shell.execute_reply": "2024-09-11T04:28:26.689984Z"
    },
    "id": "_IZ-3HcqgE1z",
    "papermill": {
     "duration": 0.062958,
     "end_time": "2024-09-11T04:28:26.693347",
     "exception": false,
     "start_time": "2024-09-11T04:28:26.630389",
     "status": "completed"
    },
    "tags": []
   },
   "outputs": [
    {
     "data": {
      "text/plain": [
       "Trajectory(\n",
       "{'step_type': TensorSpec(shape=(), dtype=tf.int32, name='step_type'),\n",
       " 'observation': BoundedTensorSpec(shape=(4,), dtype=tf.float32, name='observation', minimum=array([-4.8000002e+00, -3.4028235e+38, -4.1887903e-01, -3.4028235e+38],\n",
       "      dtype=float32), maximum=array([4.8000002e+00, 3.4028235e+38, 4.1887903e-01, 3.4028235e+38],\n",
       "      dtype=float32)),\n",
       " 'action': BoundedTensorSpec(shape=(), dtype=tf.int64, name='action', minimum=array(0), maximum=array(1)),\n",
       " 'policy_info': (),\n",
       " 'next_step_type': TensorSpec(shape=(), dtype=tf.int32, name='step_type'),\n",
       " 'reward': TensorSpec(shape=(), dtype=tf.float32, name='reward'),\n",
       " 'discount': BoundedTensorSpec(shape=(), dtype=tf.float32, name='discount', minimum=array(0., dtype=float32), maximum=array(1., dtype=float32))})"
      ]
     },
     "execution_count": 25,
     "metadata": {},
     "output_type": "execute_result"
    }
   ],
   "source": [
    "agent.collect_data_spec"
   ]
  },
  {
   "cell_type": "code",
   "execution_count": 26,
   "id": "74ef6db8",
   "metadata": {
    "execution": {
     "iopub.execute_input": "2024-09-11T04:28:26.798942Z",
     "iopub.status.busy": "2024-09-11T04:28:26.798250Z",
     "iopub.status.idle": "2024-09-11T04:28:26.804674Z",
     "shell.execute_reply": "2024-09-11T04:28:26.803763Z"
    },
    "id": "sy6g1tGcfRlw",
    "papermill": {
     "duration": 0.059986,
     "end_time": "2024-09-11T04:28:26.806652",
     "exception": false,
     "start_time": "2024-09-11T04:28:26.746666",
     "status": "completed"
    },
    "tags": []
   },
   "outputs": [
    {
     "data": {
      "text/plain": [
       "('step_type',\n",
       " 'observation',\n",
       " 'action',\n",
       " 'policy_info',\n",
       " 'next_step_type',\n",
       " 'reward',\n",
       " 'discount')"
      ]
     },
     "execution_count": 26,
     "metadata": {},
     "output_type": "execute_result"
    }
   ],
   "source": [
    "agent.collect_data_spec._fields"
   ]
  },
  {
   "cell_type": "markdown",
   "id": "79e4c2bc",
   "metadata": {
    "id": "rVD5nQ9ZGo8_",
    "papermill": {
     "duration": 0.049245,
     "end_time": "2024-09-11T04:28:26.905261",
     "exception": false,
     "start_time": "2024-09-11T04:28:26.856016",
     "status": "completed"
    },
    "tags": []
   },
   "source": [
    "## Data Collection\n",
    "\n",
    "Now execute the random policy in the environment for a few steps, recording the data in the replay buffer.\n",
    "\n",
    "Here we are using 'PyDriver' to run the experience collecting loop. You can learn more about TF Agents driver in our [drivers tutorial](https://www.tensorflow.org/agents/tutorials/4_drivers_tutorial)."
   ]
  },
  {
   "cell_type": "code",
   "execution_count": 27,
   "id": "970c219c",
   "metadata": {
    "execution": {
     "iopub.execute_input": "2024-09-11T04:28:27.010844Z",
     "iopub.status.busy": "2024-09-11T04:28:27.010398Z",
     "iopub.status.idle": "2024-09-11T04:28:27.325025Z",
     "shell.execute_reply": "2024-09-11T04:28:27.323885Z"
    },
    "id": "wr1KSAEGG4h9",
    "papermill": {
     "duration": 0.370517,
     "end_time": "2024-09-11T04:28:27.327411",
     "exception": false,
     "start_time": "2024-09-11T04:28:26.956894",
     "status": "completed"
    },
    "tags": []
   },
   "outputs": [
    {
     "data": {
      "text/plain": [
       "(TimeStep(\n",
       " {'step_type': array(1, dtype=int32),\n",
       "  'reward': array(1., dtype=float32),\n",
       "  'discount': array(1., dtype=float32),\n",
       "  'observation': array([-0.06232037, -0.6248428 ,  0.06625585,  0.94696754], dtype=float32)}),\n",
       " ())"
      ]
     },
     "execution_count": 27,
     "metadata": {},
     "output_type": "execute_result"
    }
   ],
   "source": [
    "#@test {\"skip\": true}\n",
    "py_driver.PyDriver(\n",
    "    env,\n",
    "    py_tf_eager_policy.PyTFEagerPolicy(\n",
    "      random_policy, use_tf_function=True),\n",
    "    [rb_observer],\n",
    "    max_steps=initial_collect_steps).run(train_py_env.reset())"
   ]
  },
  {
   "cell_type": "markdown",
   "id": "4a0cad0e",
   "metadata": {
    "id": "84z5pQJdoKxo",
    "papermill": {
     "duration": 0.050926,
     "end_time": "2024-09-11T04:28:27.431238",
     "exception": false,
     "start_time": "2024-09-11T04:28:27.380312",
     "status": "completed"
    },
    "tags": []
   },
   "source": [
    "The replay buffer is now a collection of Trajectories."
   ]
  },
  {
   "cell_type": "code",
   "execution_count": 28,
   "id": "819070f6",
   "metadata": {
    "execution": {
     "iopub.execute_input": "2024-09-11T04:28:27.536573Z",
     "iopub.status.busy": "2024-09-11T04:28:27.536186Z",
     "iopub.status.idle": "2024-09-11T04:28:27.540781Z",
     "shell.execute_reply": "2024-09-11T04:28:27.539735Z"
    },
    "id": "4wZnLu2ViO4E",
    "papermill": {
     "duration": 0.05875,
     "end_time": "2024-09-11T04:28:27.543039",
     "exception": false,
     "start_time": "2024-09-11T04:28:27.484289",
     "status": "completed"
    },
    "tags": []
   },
   "outputs": [],
   "source": [
    "# For the curious:\n",
    "# Uncomment to peel one of these off and inspect it.\n",
    "# iter(replay_buffer.as_dataset()).next()"
   ]
  },
  {
   "cell_type": "markdown",
   "id": "57bbb9e7",
   "metadata": {
    "id": "TujU-PMUsKjS",
    "papermill": {
     "duration": 0.050077,
     "end_time": "2024-09-11T04:28:27.643386",
     "exception": false,
     "start_time": "2024-09-11T04:28:27.593309",
     "status": "completed"
    },
    "tags": []
   },
   "source": [
    "The agent needs access to the replay buffer. This is provided by creating an iterable `tf.data.Dataset` pipeline which will feed data to the agent.\n",
    "\n",
    "Each row of the replay buffer only stores a single observation step. But since the DQN Agent needs both the current and next observation to compute the loss, the dataset pipeline will sample two adjacent rows for each item in the batch (`num_steps=2`).\n",
    "\n",
    "This dataset is also optimized by running parallel calls and prefetching data."
   ]
  },
  {
   "cell_type": "code",
   "execution_count": 29,
   "id": "d32df711",
   "metadata": {
    "execution": {
     "iopub.execute_input": "2024-09-11T04:28:27.749513Z",
     "iopub.status.busy": "2024-09-11T04:28:27.749150Z",
     "iopub.status.idle": "2024-09-11T04:28:28.245244Z",
     "shell.execute_reply": "2024-09-11T04:28:28.244344Z"
    },
    "id": "ba7bilizt_qW",
    "papermill": {
     "duration": 0.550755,
     "end_time": "2024-09-11T04:28:28.247321",
     "exception": false,
     "start_time": "2024-09-11T04:28:27.696566",
     "status": "completed"
    },
    "tags": []
   },
   "outputs": [
    {
     "data": {
      "text/plain": [
       "<_PrefetchDataset element_spec=(Trajectory(\n",
       "{'step_type': TensorSpec(shape=(64, 2), dtype=tf.int32, name=None),\n",
       " 'observation': TensorSpec(shape=(64, 2, 4), dtype=tf.float32, name=None),\n",
       " 'action': TensorSpec(shape=(64, 2), dtype=tf.int64, name=None),\n",
       " 'policy_info': (),\n",
       " 'next_step_type': TensorSpec(shape=(64, 2), dtype=tf.int32, name=None),\n",
       " 'reward': TensorSpec(shape=(64, 2), dtype=tf.float32, name=None),\n",
       " 'discount': TensorSpec(shape=(64, 2), dtype=tf.float32, name=None)}), SampleInfo(key=TensorSpec(shape=(64, 2), dtype=tf.uint64, name=None), probability=TensorSpec(shape=(64, 2), dtype=tf.float64, name=None), table_size=TensorSpec(shape=(64, 2), dtype=tf.int64, name=None), priority=TensorSpec(shape=(64, 2), dtype=tf.float64, name=None), times_sampled=TensorSpec(shape=(64, 2), dtype=tf.int32, name=None)))>"
      ]
     },
     "execution_count": 29,
     "metadata": {},
     "output_type": "execute_result"
    }
   ],
   "source": [
    "# Dataset generates trajectories with shape [Bx2x...]\n",
    "dataset = replay_buffer.as_dataset(\n",
    "    num_parallel_calls=3,\n",
    "    sample_batch_size=batch_size,\n",
    "    num_steps=2).prefetch(3)\n",
    "\n",
    "dataset"
   ]
  },
  {
   "cell_type": "code",
   "execution_count": 30,
   "id": "7fba6dbb",
   "metadata": {
    "execution": {
     "iopub.execute_input": "2024-09-11T04:28:28.352422Z",
     "iopub.status.busy": "2024-09-11T04:28:28.351482Z",
     "iopub.status.idle": "2024-09-11T04:28:28.435111Z",
     "shell.execute_reply": "2024-09-11T04:28:28.433982Z"
    },
    "id": "K13AST-2ppOq",
    "papermill": {
     "duration": 0.137681,
     "end_time": "2024-09-11T04:28:28.437366",
     "exception": false,
     "start_time": "2024-09-11T04:28:28.299685",
     "status": "completed"
    },
    "tags": []
   },
   "outputs": [
    {
     "name": "stdout",
     "output_type": "stream",
     "text": [
      "<tensorflow.python.data.ops.iterator_ops.OwnedIterator object at 0x7d9a9a1ae530>\n"
     ]
    }
   ],
   "source": [
    "iterator = iter(dataset)\n",
    "print(iterator)"
   ]
  },
  {
   "cell_type": "code",
   "execution_count": 31,
   "id": "36c5cd88",
   "metadata": {
    "execution": {
     "iopub.execute_input": "2024-09-11T04:28:28.541848Z",
     "iopub.status.busy": "2024-09-11T04:28:28.541096Z",
     "iopub.status.idle": "2024-09-11T04:28:28.545741Z",
     "shell.execute_reply": "2024-09-11T04:28:28.544734Z"
    },
    "id": "Th5w5Sff0b16",
    "papermill": {
     "duration": 0.059655,
     "end_time": "2024-09-11T04:28:28.548005",
     "exception": false,
     "start_time": "2024-09-11T04:28:28.488350",
     "status": "completed"
    },
    "tags": []
   },
   "outputs": [],
   "source": [
    "# For the curious:\n",
    "# Uncomment to see what the dataset iterator is feeding to the agent.\n",
    "# Compare this representation of replay data \n",
    "# to the collection of individual trajectories shown earlier.\n",
    "\n",
    "# iterator.next()"
   ]
  },
  {
   "cell_type": "markdown",
   "id": "774f82fb",
   "metadata": {
    "id": "hBc9lj9VWWtZ",
    "papermill": {
     "duration": 0.050761,
     "end_time": "2024-09-11T04:28:28.649435",
     "exception": false,
     "start_time": "2024-09-11T04:28:28.598674",
     "status": "completed"
    },
    "tags": []
   },
   "source": [
    "## Training the agent\n",
    "\n",
    "Two things must happen during the training loop:\n",
    "\n",
    "-   collect data from the environment\n",
    "-   use that data to train the agent's neural network(s)\n",
    "\n",
    "This example also periodicially evaluates the policy and prints the current score.\n",
    "\n",
    "The following will take ~5 minutes to run."
   ]
  },
  {
   "cell_type": "code",
   "execution_count": 32,
   "id": "1cb0723d",
   "metadata": {
    "execution": {
     "iopub.execute_input": "2024-09-11T04:28:28.751560Z",
     "iopub.status.busy": "2024-09-11T04:28:28.751193Z",
     "iopub.status.idle": "2024-09-11T04:36:28.409628Z",
     "shell.execute_reply": "2024-09-11T04:36:28.408509Z"
    },
    "id": "0pTbJ3PeyF-u",
    "papermill": {
     "duration": 479.711201,
     "end_time": "2024-09-11T04:36:28.411848",
     "exception": false,
     "start_time": "2024-09-11T04:28:28.700647",
     "status": "completed"
    },
    "tags": []
   },
   "outputs": [
    {
     "name": "stderr",
     "output_type": "stream",
     "text": [
      "[reverb/cc/client.cc:165] Sampler and server are owned by the same process (26) so Table uniform_table is accessed directly without gRPC.\n",
      "[reverb/cc/client.cc:165] Sampler and server are owned by the same process (26) so Table uniform_table is accessed directly without gRPC.\n",
      "[reverb/cc/client.cc:165] Sampler and server are owned by the same process (26) so Table uniform_table is accessed directly without gRPC.\n",
      "[reverb/cc/client.cc:165] Sampler and server are owned by the same process (26) so Table uniform_table is accessed directly without gRPC.\n",
      "[reverb/cc/client.cc:165] Sampler and server are owned by the same process (26) so Table uniform_table is accessed directly without gRPC.\n",
      "[reverb/cc/client.cc:165] Sampler and server are owned by the same process (26) so Table uniform_table is accessed directly without gRPC.\n"
     ]
    },
    {
     "name": "stdout",
     "output_type": "stream",
     "text": [
      "step = 200: loss = 38.29656982421875\n",
      "step = 400: loss = 6.986082553863525\n",
      "step = 600: loss = 50.721458435058594\n",
      "step = 800: loss = 80.70449829101562\n",
      "step = 1000: loss = 31.853914260864258\n",
      "step = 1000: Average Return = 33.29999923706055\n",
      "step = 1200: loss = 944.60205078125\n",
      "step = 1400: loss = 87.80509948730469\n",
      "step = 1600: loss = 216.82083129882812\n",
      "step = 1800: loss = 4031.220458984375\n",
      "step = 2000: loss = 8635.0869140625\n",
      "step = 2000: Average Return = 200.0\n",
      "step = 2200: loss = 542.06884765625\n",
      "step = 2400: loss = 1452.8267822265625\n",
      "step = 2600: loss = 2134.6904296875\n",
      "step = 2800: loss = 1797.52685546875\n",
      "step = 3000: loss = 1345.5906982421875\n",
      "step = 3000: Average Return = 199.8000030517578\n",
      "step = 3200: loss = 1254.987060546875\n",
      "step = 3400: loss = 1954.499755859375\n",
      "step = 3600: loss = 5188.7548828125\n",
      "step = 3800: loss = 2959.03955078125\n",
      "step = 4000: loss = 1770.7291259765625\n",
      "step = 4000: Average Return = 200.0\n",
      "step = 4200: loss = 3114.64306640625\n",
      "step = 4400: loss = 2686.886474609375\n",
      "step = 4600: loss = 3028.24560546875\n",
      "step = 4800: loss = 1318.0279541015625\n",
      "step = 5000: loss = 4002.99462890625\n",
      "step = 5000: Average Return = 200.0\n",
      "step = 5200: loss = 4388.111328125\n",
      "step = 5400: loss = 10821.12109375\n",
      "step = 5600: loss = 2630.65380859375\n",
      "step = 5800: loss = 4547.8447265625\n",
      "step = 6000: loss = 2086.5419921875\n",
      "step = 6000: Average Return = 200.0\n",
      "step = 6200: loss = 3449.14501953125\n",
      "step = 6400: loss = 4499.86865234375\n",
      "step = 6600: loss = 7489.61572265625\n",
      "step = 6800: loss = 13730.634765625\n",
      "step = 7000: loss = 6139.8076171875\n",
      "step = 7000: Average Return = 200.0\n",
      "step = 7200: loss = 5263.61669921875\n",
      "step = 7400: loss = 60828.73828125\n",
      "step = 7600: loss = 123929.0625\n",
      "step = 7800: loss = 132370.125\n",
      "step = 8000: loss = 7879.61328125\n",
      "step = 8000: Average Return = 200.0\n",
      "step = 8200: loss = 10305.2890625\n",
      "step = 8400: loss = 5679.248046875\n",
      "step = 8600: loss = 118523.25\n",
      "step = 8800: loss = 3546.109375\n",
      "step = 9000: loss = 10391.98828125\n",
      "step = 9000: Average Return = 200.0\n",
      "step = 9200: loss = 4682.69287109375\n",
      "step = 9400: loss = 16888.517578125\n",
      "step = 9600: loss = 323929.96875\n",
      "step = 9800: loss = 510202.6875\n",
      "step = 10000: loss = 185864.03125\n",
      "step = 10000: Average Return = 200.0\n",
      "step = 10200: loss = 8812.9453125\n",
      "step = 10400: loss = 7129.728515625\n",
      "step = 10600: loss = 15209.8359375\n",
      "step = 10800: loss = 118238.9765625\n",
      "step = 11000: loss = 20001.65625\n",
      "step = 11000: Average Return = 200.0\n",
      "step = 11200: loss = 2498.2001953125\n",
      "step = 11400: loss = 430841.28125\n",
      "step = 11600: loss = 32115.453125\n",
      "step = 11800: loss = 517873.1875\n",
      "step = 12000: loss = 4809.12255859375\n",
      "step = 12000: Average Return = 200.0\n",
      "step = 12200: loss = 30328.498046875\n",
      "step = 12400: loss = 17682.458984375\n",
      "step = 12600: loss = 3147.0859375\n",
      "step = 12800: loss = 13360.15234375\n",
      "step = 13000: loss = 8507.3544921875\n",
      "step = 13000: Average Return = 200.0\n",
      "step = 13200: loss = 10844.3447265625\n",
      "step = 13400: loss = 17472.689453125\n",
      "step = 13600: loss = 4022.16015625\n",
      "step = 13800: loss = 52406.2890625\n",
      "step = 14000: loss = 85321.453125\n",
      "step = 14000: Average Return = 200.0\n",
      "step = 14200: loss = 23178.47265625\n",
      "step = 14400: loss = 8873.5673828125\n",
      "step = 14600: loss = 67757.828125\n",
      "step = 14800: loss = 6967.71435546875\n",
      "step = 15000: loss = 573741.3125\n",
      "step = 15000: Average Return = 200.0\n",
      "step = 15200: loss = 91553.34375\n",
      "step = 15400: loss = 37469.390625\n",
      "step = 15600: loss = 40640.8828125\n",
      "step = 15800: loss = 86130.921875\n",
      "step = 16000: loss = 14741.478515625\n",
      "step = 16000: Average Return = 200.0\n",
      "step = 16200: loss = 99146.546875\n",
      "step = 16400: loss = 270493.84375\n",
      "step = 16600: loss = 84207.96875\n",
      "step = 16800: loss = 811560.0625\n",
      "step = 17000: loss = 660125.8125\n",
      "step = 17000: Average Return = 200.0\n",
      "step = 17200: loss = 39179.01171875\n",
      "step = 17400: loss = 25014.853515625\n",
      "step = 17600: loss = 23227.546875\n",
      "step = 17800: loss = 54667.51953125\n",
      "step = 18000: loss = 117409.578125\n",
      "step = 18000: Average Return = 200.0\n",
      "step = 18200: loss = 24100.9375\n",
      "step = 18400: loss = 15547.3203125\n",
      "step = 18600: loss = 29192.353515625\n",
      "step = 18800: loss = 68486.359375\n",
      "step = 19000: loss = 3425313.75\n",
      "step = 19000: Average Return = 200.0\n",
      "step = 19200: loss = 15389.7900390625\n",
      "step = 19400: loss = 35624.9375\n",
      "step = 19600: loss = 36370.4453125\n",
      "step = 19800: loss = 94805.59375\n",
      "step = 20000: loss = 1341429.25\n",
      "step = 20000: Average Return = 200.0\n"
     ]
    }
   ],
   "source": [
    "#@test {\"skip\": true}\n",
    "try:\n",
    "  %%time\n",
    "except:\n",
    "  pass\n",
    "\n",
    "# (Optional) Optimize by wrapping some of the code in a graph using TF function.\n",
    "agent.train = common.function(agent.train)\n",
    "\n",
    "# Reset the train step.\n",
    "agent.train_step_counter.assign(0)\n",
    "\n",
    "# Evaluate the agent's policy once before training.\n",
    "avg_return = compute_avg_return(eval_env, agent.policy, num_eval_episodes)\n",
    "returns = [avg_return]\n",
    "\n",
    "# Reset the environment.\n",
    "time_step = train_py_env.reset()\n",
    "\n",
    "# Create a driver to collect experience.\n",
    "collect_driver = py_driver.PyDriver(\n",
    "    env,\n",
    "    py_tf_eager_policy.PyTFEagerPolicy(\n",
    "      agent.collect_policy, use_tf_function=True),\n",
    "    [rb_observer],\n",
    "    max_steps=collect_steps_per_iteration)\n",
    "\n",
    "for _ in range(num_iterations):\n",
    "\n",
    "  # Collect a few steps and save to the replay buffer.\n",
    "  time_step, _ = collect_driver.run(time_step)\n",
    "\n",
    "  # Sample a batch of data from the buffer and update the agent's network.\n",
    "  experience, unused_info = next(iterator)\n",
    "  train_loss = agent.train(experience).loss\n",
    "\n",
    "  step = agent.train_step_counter.numpy()\n",
    "\n",
    "  if step % log_interval == 0:\n",
    "    print('step = {0}: loss = {1}'.format(step, train_loss))\n",
    "\n",
    "  if step % eval_interval == 0:\n",
    "    avg_return = compute_avg_return(eval_env, agent.policy, num_eval_episodes)\n",
    "    print('step = {0}: Average Return = {1}'.format(step, avg_return))\n",
    "    returns.append(avg_return)"
   ]
  },
  {
   "cell_type": "markdown",
   "id": "6d8f4887",
   "metadata": {
    "id": "68jNcA_TiJDq",
    "papermill": {
     "duration": 0.05855,
     "end_time": "2024-09-11T04:36:28.530930",
     "exception": false,
     "start_time": "2024-09-11T04:36:28.472380",
     "status": "completed"
    },
    "tags": []
   },
   "source": [
    "## Visualization\n"
   ]
  },
  {
   "cell_type": "markdown",
   "id": "25f54886",
   "metadata": {
    "id": "aO-LWCdbbOIC",
    "papermill": {
     "duration": 0.059781,
     "end_time": "2024-09-11T04:36:28.651074",
     "exception": false,
     "start_time": "2024-09-11T04:36:28.591293",
     "status": "completed"
    },
    "tags": []
   },
   "source": [
    "### Plots\n",
    "\n",
    "Use `matplotlib.pyplot` to chart how the policy improved during training.\n",
    "\n",
    "One iteration of `Cartpole-v0` consists of 200 time steps. The environment gives a reward of `+1` for each step the pole stays up, so the maximum return for one episode is 200. The charts shows the return increasing towards that maximum each time it is evaluated during training. (It may be a little unstable and not increase monotonically each time.)"
   ]
  },
  {
   "cell_type": "code",
   "execution_count": 33,
   "id": "847b351a",
   "metadata": {
    "execution": {
     "iopub.execute_input": "2024-09-11T04:36:28.773308Z",
     "iopub.status.busy": "2024-09-11T04:36:28.772383Z",
     "iopub.status.idle": "2024-09-11T04:36:29.076825Z",
     "shell.execute_reply": "2024-09-11T04:36:29.075846Z"
    },
    "id": "NxtL1mbOYCVO",
    "papermill": {
     "duration": 0.367376,
     "end_time": "2024-09-11T04:36:29.079314",
     "exception": false,
     "start_time": "2024-09-11T04:36:28.711938",
     "status": "completed"
    },
    "tags": []
   },
   "outputs": [
    {
     "data": {
      "text/plain": [
       "(24.964999198913574, 250.0)"
      ]
     },
     "execution_count": 33,
     "metadata": {},
     "output_type": "execute_result"
    },
    {
     "data": {
      "image/png": "[encoded data removed]",
      "text/plain": [
       "<Figure size 640x480 with 1 Axes>"
      ]
     },
     "metadata": {},
     "output_type": "display_data"
    }
   ],
   "source": [
    "#@test {\"skip\": true}\n",
    "\n",
    "iterations = range(0, num_iterations + 1, eval_interval)\n",
    "plt.plot(iterations, returns)\n",
    "plt.ylabel('Average Return')\n",
    "plt.xlabel('Iterations')\n",
    "plt.ylim(top=250)"
   ]
  },
  {
   "cell_type": "markdown",
   "id": "35804029",
   "metadata": {
    "id": "M7-XpPP99Cy7",
    "papermill": {
     "duration": 0.059905,
     "end_time": "2024-09-11T04:36:29.202401",
     "exception": false,
     "start_time": "2024-09-11T04:36:29.142496",
     "status": "completed"
    },
    "tags": []
   },
   "source": [
    "### Videos"
   ]
  },
  {
   "cell_type": "markdown",
   "id": "ff748485",
   "metadata": {
    "id": "9pGfGxSH32gn",
    "papermill": {
     "duration": 0.059439,
     "end_time": "2024-09-11T04:36:29.322955",
     "exception": false,
     "start_time": "2024-09-11T04:36:29.263516",
     "status": "completed"
    },
    "tags": []
   },
   "source": [
    "Charts are nice. But more exciting is seeing an agent actually performing a task in an environment. \n",
    "\n",
    "First, create a function to embed videos in the notebook."
   ]
  },
  {
   "cell_type": "code",
   "execution_count": 34,
   "id": "56c6d3ea",
   "metadata": {
    "execution": {
     "iopub.execute_input": "2024-09-11T04:36:29.446045Z",
     "iopub.status.busy": "2024-09-11T04:36:29.445154Z",
     "iopub.status.idle": "2024-09-11T04:36:29.451354Z",
     "shell.execute_reply": "2024-09-11T04:36:29.450452Z"
    },
    "id": "ULaGr8pvOKbl",
    "papermill": {
     "duration": 0.069974,
     "end_time": "2024-09-11T04:36:29.453309",
     "exception": false,
     "start_time": "2024-09-11T04:36:29.383335",
     "status": "completed"
    },
    "tags": []
   },
   "outputs": [],
   "source": [
    "def embed_mp4(filename):\n",
    "  \"\"\"Embeds an mp4 file in the notebook.\"\"\"\n",
    "  video = open(filename,'rb').read()\n",
    "  b64 = base64.b64encode(video)\n",
    "  tag = '''\n",
    "  <video width=\"640\" height=\"480\" controls>\n",
    "    <source src=\"data:video/mp4;base64,{0}\" type=\"video/mp4\">\n",
    "  Your browser does not support the video tag.\n",
    "  </video>'''.format(b64.decode())\n",
    "\n",
    "  return IPython.display.HTML(tag)"
   ]
  },
  {
   "cell_type": "markdown",
   "id": "5f1789f8",
   "metadata": {
    "id": "9c_PH-pX4Pr5",
    "papermill": {
     "duration": 0.060763,
     "end_time": "2024-09-11T04:36:29.575424",
     "exception": false,
     "start_time": "2024-09-11T04:36:29.514661",
     "status": "completed"
    },
    "tags": []
   },
   "source": [
    "Now iterate through a few episodes of the Cartpole game with the agent. The underlying Python environment (the one \"inside\" the TensorFlow environment wrapper) provides a `render()` method, which outputs an image of the environment state. These can be collected into a video."
   ]
  },
  {
   "cell_type": "code",
   "execution_count": 35,
   "id": "9b716ac4",
   "metadata": {
    "execution": {
     "iopub.execute_input": "2024-09-11T04:36:29.700776Z",
     "iopub.status.busy": "2024-09-11T04:36:29.699989Z",
     "iopub.status.idle": "2024-09-11T04:36:44.439610Z",
     "shell.execute_reply": "2024-09-11T04:36:44.438582Z"
    },
    "id": "owOVWB158NlF",
    "papermill": {
     "duration": 14.805869,
     "end_time": "2024-09-11T04:36:44.442459",
     "exception": false,
     "start_time": "2024-09-11T04:36:29.636590",
     "status": "completed"
    },
    "tags": []
   },
   "outputs": [
    {
     "name": "stderr",
     "output_type": "stream",
     "text": [
      "ALSA lib confmisc.c:855:(parse_card) cannot find card '0'\n",
      "ALSA lib conf.c:5180:(_snd_config_evaluate) function snd_func_card_inum returned error: No such file or directory\n",
      "ALSA lib confmisc.c:422:(snd_func_concat) error evaluating strings\n",
      "ALSA lib conf.c:5180:(_snd_config_evaluate) function snd_func_concat returned error: No such file or directory\n",
      "ALSA lib confmisc.c:1334:(snd_func_refer) error evaluating name\n",
      "ALSA lib conf.c:5180:(_snd_config_evaluate) function snd_func_refer returned error: No such file or directory\n",
      "ALSA lib conf.c:5703:(snd_config_expand) Evaluate error: No such file or directory\n",
      "ALSA lib pcm.c:2666:(snd_pcm_open_noupdate) Unknown PCM default\n",
      "[swscaler @ 0x595fa166eb00] Warning: data is not aligned! This can lead to a speed loss\n"
     ]
    },
    {
     "data": {
      "text/html": [
       "\n",
       "  <video width=\"640\" height=\"480\" controls>\n",
       "    <source src=\"data:video/mp4;base64,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\" type=\"video/mp4\">\n",
       "  Your browser does not support the video tag.\n",
       "  </video>"
      ],
      "text/plain": [
       "<IPython.core.display.HTML object>"
      ]
     },
     "execution_count": 35,
     "metadata": {},
     "output_type": "execute_result"
    }
   ],
   "source": [
    "def create_policy_eval_video(policy, filename, num_episodes=5, fps=30):\n",
    "  filename = filename + \".mp4\"\n",
    "  with imageio.get_writer(filename, fps=fps) as video:\n",
    "    for _ in range(num_episodes):\n",
    "      time_step = eval_env.reset()\n",
    "      video.append_data(eval_py_env.render())\n",
    "      while not time_step.is_last():\n",
    "        action_step = policy.action(time_step)\n",
    "        time_step = eval_env.step(action_step.action)\n",
    "        video.append_data(eval_py_env.render())\n",
    "  return embed_mp4(filename)\n",
    "\n",
    "create_policy_eval_video(agent.policy, \"trained-agent\")"
   ]
  },
  {
   "cell_type": "markdown",
   "id": "ffc68767",
   "metadata": {
    "id": "povaAOcZygLw",
    "papermill": {
     "duration": 0.073642,
     "end_time": "2024-09-11T04:36:44.588158",
     "exception": false,
     "start_time": "2024-09-11T04:36:44.514516",
     "status": "completed"
    },
    "tags": []
   },
   "source": [
    "For fun, compare the trained agent (above) to an agent moving randomly. (It does not do as well.)"
   ]
  },
  {
   "cell_type": "code",
   "execution_count": 36,
   "id": "c7796112",
   "metadata": {
    "execution": {
     "iopub.execute_input": "2024-09-11T04:36:44.722865Z",
     "iopub.status.busy": "2024-09-11T04:36:44.722447Z",
     "iopub.status.idle": "2024-09-11T04:36:46.444189Z",
     "shell.execute_reply": "2024-09-11T04:36:46.443145Z"
    },
    "id": "pJZIdC37yNH4",
    "papermill": {
     "duration": 1.792023,
     "end_time": "2024-09-11T04:36:46.446521",
     "exception": false,
     "start_time": "2024-09-11T04:36:44.654498",
     "status": "completed"
    },
    "tags": []
   },
   "outputs": [
    {
     "name": "stderr",
     "output_type": "stream",
     "text": [
      "[swscaler @ 0x569c17022b00] Warning: data is not aligned! This can lead to a speed loss\n"
     ]
    },
    {
     "data": {
      "text/html": [
       "\n",
       "  <video width=\"640\" height=\"480\" controls>\n",
       "    <source src=\"data:video/mp4;base64,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\" type=\"video/mp4\">\n",
       "  Your browser does not support the video tag.\n",
       "  </video>"
      ],
      "text/plain": [
       "<IPython.core.display.HTML object>"
      ]
     },
     "execution_count": 36,
     "metadata": {},
     "output_type": "execute_result"
    }
   ],
   "source": [
    "create_policy_eval_video(random_policy, \"random-agent\")"
   ]
  },
  {
   "cell_type": "code",
   "execution_count": null,
   "id": "9a8a10d5",
   "metadata": {
    "papermill": {
     "duration": 0.059844,
     "end_time": "2024-09-11T04:36:46.567796",
     "exception": false,
     "start_time": "2024-09-11T04:36:46.507952",
     "status": "completed"
    },
    "tags": []
   },
   "outputs": [],
   "source": []
  }
 ],
 "metadata": {
  "kaggle": {
   "accelerator": "gpu",
   "dataSources": [],
   "dockerImageVersionId": 30558,
   "isGpuEnabled": true,
   "isInternetEnabled": true,
   "language": "python",
   "sourceType": "notebook"
  },
  "kernelspec": {
   "display_name": "Python 3",
   "language": "python",
   "name": "python3"
  },
  "language_info": {
   "codemirror_mode": {
    "name": "ipython",
    "version": 3
   },
   "file_extension": ".py",
   "mimetype": "text/x-python",
   "name": "python",
   "nbconvert_exporter": "python",
   "pygments_lexer": "ipython3",
   "version": "3.10.12"
  },
  "papermill": {
   "default_parameters": {},
   "duration": 686.894206,
   "end_time": "2024-09-11T04:36:51.756227",
   "environment_variables": {},
   "exception": null,
   "input_path": "__notebook__.ipynb",
   "output_path": "__notebook__.ipynb",
   "parameters": {},
   "start_time": "2024-09-11T04:25:24.862021",
   "version": "2.4.0"
  }
 },
 "nbformat": 4,
 "nbformat_minor": 5
}
