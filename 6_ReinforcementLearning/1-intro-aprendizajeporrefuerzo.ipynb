{
  "cells": [
    {
      "cell_type": "markdown",
      "metadata": {
        "id": "view-in-github",
        "colab_type": "text"
      },
      "source": [
        "<a href=\"https://colab.research.google.com/github/amalvarezme/AprendizajeMaquina/blob/main/6_ReinforcementLearning/1-intro-aprendizajeporrefuerzo.ipynb\" target=\"_parent\"><img src=\"https://colab.research.google.com/assets/colab-badge.svg\" alt=\"Open In Colab\"/></a>"
      ]
    },
    {
      "cell_type": "code",
      "execution_count": 1,
      "id": "312d09a7",
      "metadata": {
        "_cell_guid": "b1076dfc-b9ad-4769-8c92-a6c4dae69d19",
        "_uuid": "8f2839f25d086af736a60e9eeb907d3b93b6e0e5",
        "execution": {
          "iopub.execute_input": "2024-09-10T13:30:49.215290Z",
          "iopub.status.busy": "2024-09-10T13:30:49.214895Z",
          "iopub.status.idle": "2024-09-10T13:31:17.016842Z",
          "shell.execute_reply": "2024-09-10T13:31:17.015576Z"
        },
        "papermill": {
          "duration": 27.815307,
          "end_time": "2024-09-10T13:31:17.019606",
          "exception": false,
          "start_time": "2024-09-10T13:30:49.204299",
          "status": "completed"
        },
        "tags": [],
        "id": "312d09a7",
        "outputId": "d435746f-fef7-4628-9b77-97a035b20545",
        "colab": {
          "base_uri": "https://localhost:8080/"
        }
      },
      "outputs": [
        {
          "output_type": "stream",
          "name": "stdout",
          "text": [
            "Collecting gymnasium[classic_control]\n",
            "  Downloading gymnasium-0.29.1-py3-none-any.whl.metadata (10 kB)\n",
            "Requirement already satisfied: numpy>=1.21.0 in /usr/local/lib/python3.10/dist-packages (from gymnasium[classic_control]) (1.26.4)\n",
            "Requirement already satisfied: cloudpickle>=1.2.0 in /usr/local/lib/python3.10/dist-packages (from gymnasium[classic_control]) (2.2.1)\n",
            "Requirement already satisfied: typing-extensions>=4.3.0 in /usr/local/lib/python3.10/dist-packages (from gymnasium[classic_control]) (4.12.2)\n",
            "Collecting farama-notifications>=0.0.1 (from gymnasium[classic_control])\n",
            "  Downloading Farama_Notifications-0.0.4-py3-none-any.whl.metadata (558 bytes)\n",
            "Requirement already satisfied: pygame>=2.1.3 in /usr/local/lib/python3.10/dist-packages (from gymnasium[classic_control]) (2.6.0)\n",
            "Downloading Farama_Notifications-0.0.4-py3-none-any.whl (2.5 kB)\n",
            "Downloading gymnasium-0.29.1-py3-none-any.whl (953 kB)\n",
            "\u001b[2K   \u001b[90m━━━━━━━━━━━━━━━━━━━━━━━━━━━━━━━━━━━━━━━━\u001b[0m \u001b[32m953.9/953.9 kB\u001b[0m \u001b[31m12.3 MB/s\u001b[0m eta \u001b[36m0:00:00\u001b[0m\n",
            "\u001b[?25hInstalling collected packages: farama-notifications, gymnasium\n",
            "Successfully installed farama-notifications-0.0.4 gymnasium-0.29.1\n"
          ]
        }
      ],
      "source": [
        "import numpy as np # linear algebra\n",
        "import pandas as pd # data processing, CSV file I/O (e.g. pd.read_csv)\n",
        "\n",
        "# Input data files are available in the read-only \"../input/\" directory\n",
        "# For example, running this (by clicking run or pressing Shift+Enter) will list all files under the input directory\n",
        "\n",
        "import os\n",
        "for dirname, _, filenames in os.walk('/kaggle/input'):\n",
        "    for filename in filenames:\n",
        "        print(os.path.join(dirname, filename))\n",
        "\n",
        "import sys\n",
        "import sklearn\n",
        "\n",
        "\n",
        "#!pip install gym[classic_control]\n",
        "#!pip install gym[classic_control]\n",
        "!pip install gymnasium[classic_control]\n",
        "import gym\n",
        "import tensorflow as tf\n",
        "from tensorflow import keras\n",
        "\n",
        "# to make this notebook's output stable across runs\n",
        "np.random.seed(42)\n",
        "tf.random.set_seed(42)\n",
        "\n",
        "# To plot pretty figures\n",
        "import matplotlib as mpl\n",
        "import matplotlib.pyplot as plt\n",
        "mpl.rc('axes', labelsize=14)\n",
        "mpl.rc('xtick', labelsize=12)\n",
        "mpl.rc('ytick', labelsize=12)\n",
        "\n",
        "# To get smooth animations\n",
        "import matplotlib.animation as animation\n",
        "mpl.rc('animation', html='jshtml')\n",
        "\n",
        "# Where to save the figures\n",
        "PROJECT_ROOT_DIR = \".\"\n",
        "CHAPTER_ID = \"rl\"\n",
        "IMAGES_PATH = os.path.join(PROJECT_ROOT_DIR, \"images\", CHAPTER_ID)\n",
        "os.makedirs(IMAGES_PATH, exist_ok=True)\n",
        "\n",
        "def save_fig(fig_id, tight_layout=True, fig_extension=\"png\", resolution=300):\n",
        "    path = os.path.join(IMAGES_PATH, fig_id + \".\" + fig_extension)\n",
        "    print(\"Saving figure\", fig_id)\n",
        "    if tight_layout:\n",
        "        plt.tight_layout()\n",
        "    plt.savefig(path, format=fig_extension, dpi=resolution)"
      ]
    },
    {
      "cell_type": "markdown",
      "id": "30c338c0",
      "metadata": {
        "papermill": {
          "duration": 0.009702,
          "end_time": "2024-09-10T13:31:17.039855",
          "exception": false,
          "start_time": "2024-09-10T13:31:17.030153",
          "status": "completed"
        },
        "tags": [],
        "id": "30c338c0"
      },
      "source": [
        "#  Introducción a OpenAI gym\n",
        "\n",
        "Se utilizará [OpenAI gymnasium](https://gymnasium.farama.org/), como paquete básico para la simulación de ambientes/entornes orientados al entrenameinto de algoritmos de Aprendizaje por Refuerzo."
      ]
    },
    {
      "cell_type": "code",
      "execution_count": 2,
      "id": "5cc4973b",
      "metadata": {
        "execution": {
          "iopub.execute_input": "2024-09-10T13:31:17.062069Z",
          "iopub.status.busy": "2024-09-10T13:31:17.061373Z",
          "iopub.status.idle": "2024-09-10T13:31:17.070026Z",
          "shell.execute_reply": "2024-09-10T13:31:17.068708Z"
        },
        "papermill": {
          "duration": 0.023005,
          "end_time": "2024-09-10T13:31:17.072968",
          "exception": false,
          "start_time": "2024-09-10T13:31:17.049963",
          "status": "completed"
        },
        "tags": [],
        "id": "5cc4973b",
        "outputId": "c2787957-7ecd-4b27-b3b7-120a5626aa9d",
        "colab": {
          "base_uri": "https://localhost:8080/"
        }
      },
      "outputs": [
        {
          "output_type": "stream",
          "name": "stderr",
          "text": [
            "/usr/local/lib/python3.10/dist-packages/ipykernel/ipkernel.py:283: DeprecationWarning: `should_run_async` will not call `transform_cell` automatically in the future. Please pass the result to `transformed_cell` argument and any exception that happen during thetransform in `preprocessing_exc_tuple` in IPython 7.17 and above.\n",
            "  and should_run_async(code)\n"
          ]
        },
        {
          "output_type": "execute_result",
          "data": {
            "text/plain": [
              "dict_keys(['CartPole-v0', 'CartPole-v1', 'MountainCar-v0', 'MountainCarContinuous-v0', 'Pendulum-v1', 'Acrobot-v1', 'LunarLander-v2', 'LunarLanderContinuous-v2', 'BipedalWalker-v3', 'BipedalWalkerHardcore-v3', 'CarRacing-v2', 'Blackjack-v1', 'FrozenLake-v1', 'FrozenLake8x8-v1', 'CliffWalking-v0', 'Taxi-v3', 'Reacher-v2', 'Reacher-v4', 'Pusher-v2', 'Pusher-v4', 'InvertedPendulum-v2', 'InvertedPendulum-v4', 'InvertedDoublePendulum-v2', 'InvertedDoublePendulum-v4', 'HalfCheetah-v2', 'HalfCheetah-v3', 'HalfCheetah-v4', 'Hopper-v2', 'Hopper-v3', 'Hopper-v4', 'Swimmer-v2', 'Swimmer-v3', 'Swimmer-v4', 'Walker2d-v2', 'Walker2d-v3', 'Walker2d-v4', 'Ant-v2', 'Ant-v3', 'Ant-v4', 'Humanoid-v2', 'Humanoid-v3', 'Humanoid-v4', 'HumanoidStandup-v2', 'HumanoidStandup-v4'])"
            ]
          },
          "metadata": {},
          "execution_count": 2
        }
      ],
      "source": [
        "gym.envs.registry.keys()"
      ]
    },
    {
      "cell_type": "markdown",
      "id": "261368d2",
      "metadata": {
        "papermill": {
          "duration": 0.010025,
          "end_time": "2024-09-10T13:31:17.093245",
          "exception": false,
          "start_time": "2024-09-10T13:31:17.083220",
          "status": "completed"
        },
        "tags": [],
        "id": "261368d2"
      },
      "source": [
        "- El [Cart-Pole V1](https://gymnasium.farama.org/environments/classic_control/cart_pole/) es un escenario de simulación simple que permite movilizar a izquierda a derecha un carro con mastil.\n",
        "\n",
        "- El agente debe mover el carro con el fin de mantener el mastil en vertical."
      ]
    },
    {
      "cell_type": "code",
      "execution_count": 3,
      "id": "fe594ea5",
      "metadata": {
        "execution": {
          "iopub.execute_input": "2024-09-10T13:31:17.116882Z",
          "iopub.status.busy": "2024-09-10T13:31:17.116449Z",
          "iopub.status.idle": "2024-09-10T13:31:17.136129Z",
          "shell.execute_reply": "2024-09-10T13:31:17.134983Z"
        },
        "papermill": {
          "duration": 0.034295,
          "end_time": "2024-09-10T13:31:17.138893",
          "exception": false,
          "start_time": "2024-09-10T13:31:17.104598",
          "status": "completed"
        },
        "tags": [],
        "id": "fe594ea5",
        "outputId": "a6934a4f-d665-43b9-b106-6397ca1125a5",
        "colab": {
          "base_uri": "https://localhost:8080/"
        }
      },
      "outputs": [
        {
          "output_type": "stream",
          "name": "stderr",
          "text": [
            "/usr/local/lib/python3.10/dist-packages/gym/core.py:317: DeprecationWarning: \u001b[33mWARN: Initializing wrapper in old step API which returns one bool instead of two. It is recommended to set `new_step_api=True` to use new step API. This will be the default behaviour in future.\u001b[0m\n",
            "  deprecation(\n",
            "/usr/local/lib/python3.10/dist-packages/gym/wrappers/step_api_compatibility.py:39: DeprecationWarning: \u001b[33mWARN: Initializing environment in old step API which returns one bool instead of two. It is recommended to set `new_step_api=True` to use new step API. This will be the default behaviour in future.\u001b[0m\n",
            "  deprecation(\n"
          ]
        }
      ],
      "source": [
        "env = gym.make('CartPole-v1',render_mode=\"rgb_array\") #creamos el ambiente cartpole"
      ]
    },
    {
      "cell_type": "markdown",
      "id": "d2198894",
      "metadata": {
        "papermill": {
          "duration": 0.009828,
          "end_time": "2024-09-10T13:31:17.159115",
          "exception": false,
          "start_time": "2024-09-10T13:31:17.149287",
          "status": "completed"
        },
        "tags": [],
        "id": "d2198894"
      },
      "source": [
        "Se inicializa el escenario:"
      ]
    },
    {
      "cell_type": "code",
      "execution_count": 4,
      "id": "cd94f03f",
      "metadata": {
        "execution": {
          "iopub.execute_input": "2024-09-10T13:31:17.181490Z",
          "iopub.status.busy": "2024-09-10T13:31:17.181116Z",
          "iopub.status.idle": "2024-09-10T13:31:17.188294Z",
          "shell.execute_reply": "2024-09-10T13:31:17.186910Z"
        },
        "papermill": {
          "duration": 0.021774,
          "end_time": "2024-09-10T13:31:17.191097",
          "exception": false,
          "start_time": "2024-09-10T13:31:17.169323",
          "status": "completed"
        },
        "tags": [],
        "id": "cd94f03f"
      },
      "outputs": [],
      "source": [
        "obs = env.reset(seed=42)#retorna una observación"
      ]
    },
    {
      "cell_type": "markdown",
      "id": "5f588871",
      "metadata": {
        "papermill": {
          "duration": 0.010058,
          "end_time": "2024-09-10T13:31:17.211806",
          "exception": false,
          "start_time": "2024-09-10T13:31:17.201748",
          "status": "completed"
        },
        "tags": [],
        "id": "5f588871"
      },
      "source": [
        "- La observación varia según el escenario.\n",
        "- En este caso es un numpy array con cuatro floats: posición horizontal, velocidad, ángulo del mastil (0 = vertical), y velocidad angular."
      ]
    },
    {
      "cell_type": "code",
      "execution_count": 5,
      "id": "b301ba97",
      "metadata": {
        "execution": {
          "iopub.execute_input": "2024-09-10T13:31:17.234078Z",
          "iopub.status.busy": "2024-09-10T13:31:17.233712Z",
          "iopub.status.idle": "2024-09-10T13:31:17.239448Z",
          "shell.execute_reply": "2024-09-10T13:31:17.238249Z"
        },
        "papermill": {
          "duration": 0.019869,
          "end_time": "2024-09-10T13:31:17.241818",
          "exception": false,
          "start_time": "2024-09-10T13:31:17.221949",
          "status": "completed"
        },
        "tags": [],
        "id": "b301ba97",
        "outputId": "dbb465b6-3dc8-43ab-9ce4-72ccb44876e4",
        "colab": {
          "base_uri": "https://localhost:8080/"
        }
      },
      "outputs": [
        {
          "output_type": "stream",
          "name": "stdout",
          "text": [
            "[ 0.0273956  -0.00611216  0.03585979  0.0197368 ]\n"
          ]
        }
      ],
      "source": [
        "print(obs)"
      ]
    },
    {
      "cell_type": "markdown",
      "id": "0888330e",
      "metadata": {
        "papermill": {
          "duration": 0.010352,
          "end_time": "2024-09-10T13:31:17.263191",
          "exception": false,
          "start_time": "2024-09-10T13:31:17.252839",
          "status": "completed"
        },
        "tags": [],
        "id": "0888330e"
      },
      "source": [
        "-Un escenario puede ser vizualizado mediante el método `render()`.\n",
        "\n",
        "**Warning**: algunos escanrios acceden a la pantalla para realizar el render, generando una nueva ventana. Para evitar problemas con el manejo de la pantalla en Jupyter o .ipynb se instala un servidor falso [Xvfb](http://en.wikipedia.org/wiki/Xvfb)."
      ]
    },
    {
      "cell_type": "code",
      "execution_count": 6,
      "id": "e9578779",
      "metadata": {
        "execution": {
          "iopub.execute_input": "2024-09-10T13:31:17.285942Z",
          "iopub.status.busy": "2024-09-10T13:31:17.285578Z",
          "iopub.status.idle": "2024-09-10T13:31:28.848982Z",
          "shell.execute_reply": "2024-09-10T13:31:28.847630Z"
        },
        "papermill": {
          "duration": 11.577797,
          "end_time": "2024-09-10T13:31:28.851799",
          "exception": false,
          "start_time": "2024-09-10T13:31:17.274002",
          "status": "completed"
        },
        "tags": [],
        "id": "e9578779",
        "outputId": "e69c3dcf-9cff-49b1-b9c8-cc908cf3e5bc",
        "colab": {
          "base_uri": "https://localhost:8080/"
        }
      },
      "outputs": [
        {
          "output_type": "stream",
          "name": "stdout",
          "text": [
            "Collecting pyvirtualdisplay\n",
            "  Downloading PyVirtualDisplay-3.0-py3-none-any.whl.metadata (943 bytes)\n",
            "Downloading PyVirtualDisplay-3.0-py3-none-any.whl (15 kB)\n",
            "Installing collected packages: pyvirtualdisplay\n",
            "Successfully installed pyvirtualdisplay-3.0\n"
          ]
        }
      ],
      "source": [
        "!pip install pyvirtualdisplay"
      ]
    },
    {
      "cell_type": "code",
      "source": [
        "!apt-get install -y xvfb"
      ],
      "metadata": {
        "id": "PU_JI2SdKrId",
        "outputId": "e442248e-1679-45c0-8618-fefa1ec05ae0",
        "colab": {
          "base_uri": "https://localhost:8080/"
        }
      },
      "id": "PU_JI2SdKrId",
      "execution_count": 9,
      "outputs": [
        {
          "output_type": "stream",
          "name": "stdout",
          "text": [
            "Reading package lists... Done\n",
            "Building dependency tree... Done\n",
            "Reading state information... Done\n",
            "The following additional packages will be installed:\n",
            "  libfontenc1 libxfont2 libxkbfile1 x11-xkb-utils xfonts-base xfonts-encodings xfonts-utils\n",
            "  xserver-common\n",
            "The following NEW packages will be installed:\n",
            "  libfontenc1 libxfont2 libxkbfile1 x11-xkb-utils xfonts-base xfonts-encodings xfonts-utils\n",
            "  xserver-common xvfb\n",
            "0 upgraded, 9 newly installed, 0 to remove and 49 not upgraded.\n",
            "Need to get 7,813 kB of archives.\n",
            "After this operation, 11.9 MB of additional disk space will be used.\n",
            "Get:1 http://archive.ubuntu.com/ubuntu jammy/main amd64 libfontenc1 amd64 1:1.1.4-1build3 [14.7 kB]\n",
            "Get:2 http://archive.ubuntu.com/ubuntu jammy/main amd64 libxfont2 amd64 1:2.0.5-1build1 [94.5 kB]\n",
            "Get:3 http://archive.ubuntu.com/ubuntu jammy/main amd64 libxkbfile1 amd64 1:1.1.0-1build3 [71.8 kB]\n",
            "Get:4 http://archive.ubuntu.com/ubuntu jammy/main amd64 x11-xkb-utils amd64 7.7+5build4 [172 kB]\n",
            "Get:5 http://archive.ubuntu.com/ubuntu jammy/main amd64 xfonts-encodings all 1:1.0.5-0ubuntu2 [578 kB]\n",
            "Get:6 http://archive.ubuntu.com/ubuntu jammy/main amd64 xfonts-utils amd64 1:7.7+6build2 [94.6 kB]\n",
            "Get:7 http://archive.ubuntu.com/ubuntu jammy/main amd64 xfonts-base all 1:1.0.5 [5,896 kB]\n",
            "Get:8 http://archive.ubuntu.com/ubuntu jammy-updates/main amd64 xserver-common all 2:21.1.4-2ubuntu1.7~22.04.11 [28.6 kB]\n",
            "Get:9 http://archive.ubuntu.com/ubuntu jammy-updates/universe amd64 xvfb amd64 2:21.1.4-2ubuntu1.7~22.04.11 [863 kB]\n",
            "Fetched 7,813 kB in 0s (18.0 MB/s)\n",
            "Selecting previously unselected package libfontenc1:amd64.\n",
            "(Reading database ... 123597 files and directories currently installed.)\n",
            "Preparing to unpack .../0-libfontenc1_1%3a1.1.4-1build3_amd64.deb ...\n",
            "Unpacking libfontenc1:amd64 (1:1.1.4-1build3) ...\n",
            "Selecting previously unselected package libxfont2:amd64.\n",
            "Preparing to unpack .../1-libxfont2_1%3a2.0.5-1build1_amd64.deb ...\n",
            "Unpacking libxfont2:amd64 (1:2.0.5-1build1) ...\n",
            "Selecting previously unselected package libxkbfile1:amd64.\n",
            "Preparing to unpack .../2-libxkbfile1_1%3a1.1.0-1build3_amd64.deb ...\n",
            "Unpacking libxkbfile1:amd64 (1:1.1.0-1build3) ...\n",
            "Selecting previously unselected package x11-xkb-utils.\n",
            "Preparing to unpack .../3-x11-xkb-utils_7.7+5build4_amd64.deb ...\n",
            "Unpacking x11-xkb-utils (7.7+5build4) ...\n",
            "Selecting previously unselected package xfonts-encodings.\n",
            "Preparing to unpack .../4-xfonts-encodings_1%3a1.0.5-0ubuntu2_all.deb ...\n",
            "Unpacking xfonts-encodings (1:1.0.5-0ubuntu2) ...\n",
            "Selecting previously unselected package xfonts-utils.\n",
            "Preparing to unpack .../5-xfonts-utils_1%3a7.7+6build2_amd64.deb ...\n",
            "Unpacking xfonts-utils (1:7.7+6build2) ...\n",
            "Selecting previously unselected package xfonts-base.\n",
            "Preparing to unpack .../6-xfonts-base_1%3a1.0.5_all.deb ...\n",
            "Unpacking xfonts-base (1:1.0.5) ...\n",
            "Selecting previously unselected package xserver-common.\n",
            "Preparing to unpack .../7-xserver-common_2%3a21.1.4-2ubuntu1.7~22.04.11_all.deb ...\n",
            "Unpacking xserver-common (2:21.1.4-2ubuntu1.7~22.04.11) ...\n",
            "Selecting previously unselected package xvfb.\n",
            "Preparing to unpack .../8-xvfb_2%3a21.1.4-2ubuntu1.7~22.04.11_amd64.deb ...\n",
            "Unpacking xvfb (2:21.1.4-2ubuntu1.7~22.04.11) ...\n",
            "Setting up libfontenc1:amd64 (1:1.1.4-1build3) ...\n",
            "Setting up xfonts-encodings (1:1.0.5-0ubuntu2) ...\n",
            "Setting up libxkbfile1:amd64 (1:1.1.0-1build3) ...\n",
            "Setting up libxfont2:amd64 (1:2.0.5-1build1) ...\n",
            "Setting up x11-xkb-utils (7.7+5build4) ...\n",
            "Setting up xfonts-utils (1:7.7+6build2) ...\n",
            "Setting up xfonts-base (1:1.0.5) ...\n",
            "Setting up xserver-common (2:21.1.4-2ubuntu1.7~22.04.11) ...\n",
            "Setting up xvfb (2:21.1.4-2ubuntu1.7~22.04.11) ...\n",
            "Processing triggers for man-db (2.10.2-1) ...\n",
            "Processing triggers for fontconfig (2.13.1-4.2ubuntu5) ...\n",
            "Processing triggers for libc-bin (2.35-0ubuntu3.4) ...\n",
            "/sbin/ldconfig.real: /usr/local/lib/libur_loader.so.0 is not a symbolic link\n",
            "\n",
            "/sbin/ldconfig.real: /usr/local/lib/libtbbbind_2_5.so.3 is not a symbolic link\n",
            "\n",
            "/sbin/ldconfig.real: /usr/local/lib/libur_adapter_level_zero.so.0 is not a symbolic link\n",
            "\n",
            "/sbin/ldconfig.real: /usr/local/lib/libtbbmalloc_proxy.so.2 is not a symbolic link\n",
            "\n",
            "/sbin/ldconfig.real: /usr/local/lib/libtbbmalloc.so.2 is not a symbolic link\n",
            "\n",
            "/sbin/ldconfig.real: /usr/local/lib/libur_adapter_opencl.so.0 is not a symbolic link\n",
            "\n",
            "/sbin/ldconfig.real: /usr/local/lib/libtbbbind_2_0.so.3 is not a symbolic link\n",
            "\n",
            "/sbin/ldconfig.real: /usr/local/lib/libtbb.so.12 is not a symbolic link\n",
            "\n",
            "/sbin/ldconfig.real: /usr/local/lib/libtbbbind.so.3 is not a symbolic link\n",
            "\n"
          ]
        }
      ]
    },
    {
      "cell_type": "code",
      "execution_count": 10,
      "id": "9b90d71f",
      "metadata": {
        "execution": {
          "iopub.execute_input": "2024-09-10T13:31:28.875026Z",
          "iopub.status.busy": "2024-09-10T13:31:28.874621Z",
          "iopub.status.idle": "2024-09-10T13:31:29.359705Z",
          "shell.execute_reply": "2024-09-10T13:31:29.358706Z"
        },
        "papermill": {
          "duration": 0.49966,
          "end_time": "2024-09-10T13:31:29.362137",
          "exception": false,
          "start_time": "2024-09-10T13:31:28.862477",
          "status": "completed"
        },
        "tags": [],
        "id": "9b90d71f",
        "outputId": "a515c2e6-9a48-4e52-da79-e61d6e2547ca",
        "colab": {
          "base_uri": "https://localhost:8080/"
        }
      },
      "outputs": [
        {
          "output_type": "execute_result",
          "data": {
            "text/plain": [
              "<pyvirtualdisplay.display.Display at 0x7c70c4d5d0c0>"
            ]
          },
          "metadata": {},
          "execution_count": 10
        }
      ],
      "source": [
        "import pyvirtualdisplay\n",
        "display = pyvirtualdisplay.Display(visible=0, size=(1400, 900)).start()\n",
        "display"
      ]
    },
    {
      "cell_type": "code",
      "execution_count": 11,
      "id": "fe20d6ff",
      "metadata": {
        "execution": {
          "iopub.execute_input": "2024-09-10T13:31:29.384956Z",
          "iopub.status.busy": "2024-09-10T13:31:29.384565Z",
          "iopub.status.idle": "2024-09-10T13:31:29.623856Z",
          "shell.execute_reply": "2024-09-10T13:31:29.622602Z"
        },
        "papermill": {
          "duration": 0.25364,
          "end_time": "2024-09-10T13:31:29.626477",
          "exception": false,
          "start_time": "2024-09-10T13:31:29.372837",
          "status": "completed"
        },
        "tags": [],
        "id": "fe20d6ff",
        "outputId": "7978f1f2-81cc-4bc7-a498-a30dd5457e58",
        "colab": {
          "base_uri": "https://localhost:8080/"
        }
      },
      "outputs": [
        {
          "output_type": "execute_result",
          "data": {
            "text/plain": [
              "[array([[[255, 255, 255],\n",
              "         [255, 255, 255],\n",
              "         [255, 255, 255],\n",
              "         ...,\n",
              "         [255, 255, 255],\n",
              "         [255, 255, 255],\n",
              "         [255, 255, 255]],\n",
              " \n",
              "        [[255, 255, 255],\n",
              "         [255, 255, 255],\n",
              "         [255, 255, 255],\n",
              "         ...,\n",
              "         [255, 255, 255],\n",
              "         [255, 255, 255],\n",
              "         [255, 255, 255]],\n",
              " \n",
              "        [[255, 255, 255],\n",
              "         [255, 255, 255],\n",
              "         [255, 255, 255],\n",
              "         ...,\n",
              "         [255, 255, 255],\n",
              "         [255, 255, 255],\n",
              "         [255, 255, 255]],\n",
              " \n",
              "        ...,\n",
              " \n",
              "        [[255, 255, 255],\n",
              "         [255, 255, 255],\n",
              "         [255, 255, 255],\n",
              "         ...,\n",
              "         [255, 255, 255],\n",
              "         [255, 255, 255],\n",
              "         [255, 255, 255]],\n",
              " \n",
              "        [[255, 255, 255],\n",
              "         [255, 255, 255],\n",
              "         [255, 255, 255],\n",
              "         ...,\n",
              "         [255, 255, 255],\n",
              "         [255, 255, 255],\n",
              "         [255, 255, 255]],\n",
              " \n",
              "        [[255, 255, 255],\n",
              "         [255, 255, 255],\n",
              "         [255, 255, 255],\n",
              "         ...,\n",
              "         [255, 255, 255],\n",
              "         [255, 255, 255],\n",
              "         [255, 255, 255]]], dtype=uint8)]"
            ]
          },
          "metadata": {},
          "execution_count": 11
        }
      ],
      "source": [
        "env.render() # metodo render"
      ]
    },
    {
      "cell_type": "markdown",
      "id": "420d1625",
      "metadata": {
        "papermill": {
          "duration": 0.010602,
          "end_time": "2024-09-10T13:31:29.648243",
          "exception": false,
          "start_time": "2024-09-10T13:31:29.637641",
          "status": "completed"
        },
        "tags": [],
        "id": "420d1625"
      },
      "source": [
        "Se activa el `mode=\"rgb_array\"` para obtener una imagen del escenario como array de numpy:"
      ]
    },
    {
      "cell_type": "code",
      "execution_count": null,
      "id": "5786e60b",
      "metadata": {
        "execution": {
          "iopub.execute_input": "2024-09-10T13:31:29.671704Z",
          "iopub.status.busy": "2024-09-10T13:31:29.671271Z",
          "iopub.status.idle": "2024-09-10T13:31:29.682192Z",
          "shell.execute_reply": "2024-09-10T13:31:29.681096Z"
        },
        "papermill": {
          "duration": 0.025381,
          "end_time": "2024-09-10T13:31:29.684526",
          "exception": false,
          "start_time": "2024-09-10T13:31:29.659145",
          "status": "completed"
        },
        "tags": [],
        "id": "5786e60b"
      },
      "outputs": [],
      "source": [
        "img = env.render()\n",
        "img.shape"
      ]
    },
    {
      "cell_type": "markdown",
      "id": "e21bcd94",
      "metadata": {
        "papermill": {
          "duration": 0.010489,
          "end_time": "2024-09-10T13:31:29.706059",
          "exception": false,
          "start_time": "2024-09-10T13:31:29.695570",
          "status": "completed"
        },
        "tags": [],
        "id": "e21bcd94"
      },
      "source": [
        "Se crea una función para graficar cada estado de la simulación"
      ]
    },
    {
      "cell_type": "code",
      "execution_count": null,
      "id": "93f96b0b",
      "metadata": {
        "execution": {
          "iopub.execute_input": "2024-09-10T13:31:29.730344Z",
          "iopub.status.busy": "2024-09-10T13:31:29.729903Z",
          "iopub.status.idle": "2024-09-10T13:31:29.736026Z",
          "shell.execute_reply": "2024-09-10T13:31:29.734919Z"
        },
        "papermill": {
          "duration": 0.021191,
          "end_time": "2024-09-10T13:31:29.738374",
          "exception": false,
          "start_time": "2024-09-10T13:31:29.717183",
          "status": "completed"
        },
        "tags": [],
        "id": "93f96b0b"
      },
      "outputs": [],
      "source": [
        "def plot_environment(env, figsize=(5,4)):#funcion para graficar escenario como imagen rgb\n",
        "    plt.figure(figsize=figsize)\n",
        "    img = env.render()\n",
        "    plt.imshow(img)\n",
        "    plt.axis(\"off\")\n",
        "    return img"
      ]
    },
    {
      "cell_type": "code",
      "execution_count": null,
      "id": "74539ffc",
      "metadata": {
        "execution": {
          "iopub.execute_input": "2024-09-10T13:31:29.763280Z",
          "iopub.status.busy": "2024-09-10T13:31:29.762907Z",
          "iopub.status.idle": "2024-09-10T13:31:29.913439Z",
          "shell.execute_reply": "2024-09-10T13:31:29.912282Z"
        },
        "papermill": {
          "duration": 0.165935,
          "end_time": "2024-09-10T13:31:29.916728",
          "exception": false,
          "start_time": "2024-09-10T13:31:29.750793",
          "status": "completed"
        },
        "tags": [],
        "id": "74539ffc"
      },
      "outputs": [],
      "source": [
        "plot_environment(env)\n",
        "plt.show()"
      ]
    },
    {
      "cell_type": "markdown",
      "id": "8a71bb14",
      "metadata": {
        "papermill": {
          "duration": 0.084365,
          "end_time": "2024-09-10T13:31:30.019702",
          "exception": false,
          "start_time": "2024-09-10T13:31:29.935337",
          "status": "completed"
        },
        "tags": [],
        "id": "8a71bb14"
      },
      "source": [
        "- Cómo interactuar con el escenario?\n",
        "-El agente debe escoger una acción del \"action space\""
      ]
    },
    {
      "cell_type": "code",
      "execution_count": null,
      "id": "2e7a8d16",
      "metadata": {
        "execution": {
          "iopub.execute_input": "2024-09-10T13:31:30.044340Z",
          "iopub.status.busy": "2024-09-10T13:31:30.043916Z",
          "iopub.status.idle": "2024-09-10T13:31:30.051418Z",
          "shell.execute_reply": "2024-09-10T13:31:30.050348Z"
        },
        "papermill": {
          "duration": 0.022879,
          "end_time": "2024-09-10T13:31:30.053820",
          "exception": false,
          "start_time": "2024-09-10T13:31:30.030941",
          "status": "completed"
        },
        "scrolled": true,
        "tags": [],
        "id": "2e7a8d16"
      },
      "outputs": [],
      "source": [
        "env.action_space"
      ]
    },
    {
      "cell_type": "markdown",
      "id": "d45773ae",
      "metadata": {
        "papermill": {
          "duration": 0.011065,
          "end_time": "2024-09-10T13:31:30.076545",
          "exception": false,
          "start_time": "2024-09-10T13:31:30.065480",
          "status": "completed"
        },
        "tags": [],
        "id": "d45773ae"
      },
      "source": [
        "Acciones disponibles: acelerar a izquierda o derecha"
      ]
    },
    {
      "cell_type": "code",
      "execution_count": null,
      "id": "d4637a4f",
      "metadata": {
        "execution": {
          "iopub.execute_input": "2024-09-10T13:31:30.101131Z",
          "iopub.status.busy": "2024-09-10T13:31:30.100728Z",
          "iopub.status.idle": "2024-09-10T13:31:30.162651Z",
          "shell.execute_reply": "2024-09-10T13:31:30.161495Z"
        },
        "papermill": {
          "duration": 0.077237,
          "end_time": "2024-09-10T13:31:30.165299",
          "exception": false,
          "start_time": "2024-09-10T13:31:30.088062",
          "status": "completed"
        },
        "tags": [],
        "id": "d4637a4f"
      },
      "outputs": [],
      "source": [
        "action = 1  # accelerate right\n",
        "obs, reward, done, trun, info = env.step(action)\n",
        "env.step?"
      ]
    },
    {
      "cell_type": "code",
      "execution_count": null,
      "id": "08a84cfb",
      "metadata": {
        "execution": {
          "iopub.execute_input": "2024-09-10T13:31:30.190018Z",
          "iopub.status.busy": "2024-09-10T13:31:30.189638Z",
          "iopub.status.idle": "2024-09-10T13:31:30.769465Z",
          "shell.execute_reply": "2024-09-10T13:31:30.768171Z"
        },
        "papermill": {
          "duration": 0.595652,
          "end_time": "2024-09-10T13:31:30.772617",
          "exception": false,
          "start_time": "2024-09-10T13:31:30.176965",
          "status": "completed"
        },
        "tags": [],
        "id": "08a84cfb"
      },
      "outputs": [],
      "source": [
        "plot_environment(env)\n",
        "save_fig(\"cart_pole_plot\")"
      ]
    },
    {
      "cell_type": "markdown",
      "id": "6a0328ba",
      "metadata": {
        "papermill": {
          "duration": 0.018594,
          "end_time": "2024-09-10T13:31:30.810351",
          "exception": false,
          "start_time": "2024-09-10T13:31:30.791757",
          "status": "completed"
        },
        "tags": [],
        "id": "6a0328ba"
      },
      "source": [
        "- La secuencia de pasos en el escenario desde el reset hasta done=True se conoce como \"episode\".\n",
        "- Al final de un (i.e., cuando `step()` retorna `done=True`), se debe resetear el escenario.- La secuencia de pasos en el escenario desde el reset hasta done=True se conoce como \"episode\".\n",
        "- Al final de un (i.e., cuando `step()` retorna `done=True`), se debe resetear el escenario."
      ]
    },
    {
      "cell_type": "code",
      "execution_count": null,
      "id": "894365a2",
      "metadata": {
        "execution": {
          "iopub.execute_input": "2024-09-10T13:31:30.840414Z",
          "iopub.status.busy": "2024-09-10T13:31:30.840010Z",
          "iopub.status.idle": "2024-09-10T13:31:30.847762Z",
          "shell.execute_reply": "2024-09-10T13:31:30.846732Z"
        },
        "papermill": {
          "duration": 0.022632,
          "end_time": "2024-09-10T13:31:30.849950",
          "exception": false,
          "start_time": "2024-09-10T13:31:30.827318",
          "status": "completed"
        },
        "tags": [],
        "id": "894365a2"
      },
      "outputs": [],
      "source": [
        "obs,_ = env.reset(seed=42)\n",
        "obs"
      ]
    },
    {
      "cell_type": "markdown",
      "id": "1766b2e0",
      "metadata": {
        "papermill": {
          "duration": 0.011145,
          "end_time": "2024-09-10T13:31:30.872765",
          "exception": false,
          "start_time": "2024-09-10T13:31:30.861620",
          "status": "completed"
        },
        "tags": [],
        "id": "1766b2e0"
      },
      "source": [
        "- Se necesita de una _policy_ para que el agente realice bien su trabajo.\n",
        "\n",
        "- Policy se refiere a la estrategia que seguira el agente para seleccionar una acción en cada paso.\n",
        "\n",
        "- Puede tener en cuenta los pasos y acciones del pasado para decidir qué hacer!"
      ]
    },
    {
      "cell_type": "markdown",
      "id": "ff701fac",
      "metadata": {
        "papermill": {
          "duration": 0.01169,
          "end_time": "2024-09-10T13:31:30.895945",
          "exception": false,
          "start_time": "2024-09-10T13:31:30.884255",
          "status": "completed"
        },
        "tags": [],
        "id": "ff701fac"
      },
      "source": [
        "# Policy simple\n",
        "\n",
        "- Si el mastil se inclina a izquierda, empuja hacia la izquierda, y  _vice versa_."
      ]
    },
    {
      "cell_type": "code",
      "execution_count": null,
      "id": "7ab6cecf",
      "metadata": {
        "execution": {
          "iopub.execute_input": "2024-09-10T13:31:30.921757Z",
          "iopub.status.busy": "2024-09-10T13:31:30.921222Z",
          "iopub.status.idle": "2024-09-10T13:31:31.208262Z",
          "shell.execute_reply": "2024-09-10T13:31:31.207116Z"
        },
        "papermill": {
          "duration": 0.30291,
          "end_time": "2024-09-10T13:31:31.210563",
          "exception": false,
          "start_time": "2024-09-10T13:31:30.907653",
          "status": "completed"
        },
        "tags": [],
        "id": "7ab6cecf"
      },
      "outputs": [],
      "source": [
        "def basic_policy(obs):\n",
        "    angle = obs[2]\n",
        "    return 0 if angle < 0 else 1\n",
        "\n",
        "\n",
        "totals = []\n",
        "for episode in range(500):\n",
        "    episode_rewards = 0\n",
        "    obs,_ = env.reset()\n",
        "    for step in range(200):\n",
        "        action = basic_policy(obs)\n",
        "        obs, reward, done, trun, info = env.step(action)\n",
        "        episode_rewards += reward\n",
        "        if done:\n",
        "            break\n",
        "    totals.append(episode_rewards)\n",
        "\n",
        "#desempeños\n",
        "np.mean(totals), np.std(totals), np.min(totals), np.max(totals)"
      ]
    },
    {
      "cell_type": "markdown",
      "id": "87528b41",
      "metadata": {
        "papermill": {
          "duration": 0.011421,
          "end_time": "2024-09-10T13:31:31.233885",
          "exception": false,
          "start_time": "2024-09-10T13:31:31.222464",
          "status": "completed"
        },
        "tags": [],
        "id": "87528b41"
      },
      "source": [
        "- Logró mantenerse vertical por 42 pasos en promedio!\n",
        "- El escenario es considerado exitoso para esta tarea si logra mantenerse al menos para 200 pasos."
      ]
    },
    {
      "cell_type": "code",
      "execution_count": null,
      "id": "bd9e21cc",
      "metadata": {
        "execution": {
          "iopub.execute_input": "2024-09-10T13:31:31.259925Z",
          "iopub.status.busy": "2024-09-10T13:31:31.259526Z",
          "iopub.status.idle": "2024-09-10T13:31:31.448326Z",
          "shell.execute_reply": "2024-09-10T13:31:31.447061Z"
        },
        "papermill": {
          "duration": 0.205513,
          "end_time": "2024-09-10T13:31:31.451168",
          "exception": false,
          "start_time": "2024-09-10T13:31:31.245655",
          "status": "completed"
        },
        "tags": [],
        "id": "bd9e21cc"
      },
      "outputs": [],
      "source": [
        "#render de la simulación\n",
        "frames = []\n",
        "obs,_ = env.reset()\n",
        "for step in range(200):\n",
        "    img = env.render()\n",
        "    frames.append(img)\n",
        "    action = basic_policy(obs)\n",
        "\n",
        "    obs, reward, done, trun, info = env.step(action)\n",
        "    if done:\n",
        "        break"
      ]
    },
    {
      "cell_type": "code",
      "execution_count": null,
      "id": "0211482e",
      "metadata": {
        "execution": {
          "iopub.execute_input": "2024-09-10T13:31:31.479129Z",
          "iopub.status.busy": "2024-09-10T13:31:31.477856Z",
          "iopub.status.idle": "2024-09-10T13:31:31.486634Z",
          "shell.execute_reply": "2024-09-10T13:31:31.485466Z"
        },
        "papermill": {
          "duration": 0.026659,
          "end_time": "2024-09-10T13:31:31.489642",
          "exception": false,
          "start_time": "2024-09-10T13:31:31.462983",
          "status": "completed"
        },
        "tags": [],
        "id": "0211482e"
      },
      "outputs": [],
      "source": [
        "def update_scene(num, frames, patch):\n",
        "    patch.set_data(frames[num])\n",
        "    return patch\n",
        "\n",
        "def plot_animation(frames, repeat=False, interval=40):\n",
        "    fig = plt.figure()\n",
        "    patch = plt.imshow(frames[0])\n",
        "    plt.axis('off')\n",
        "    anim = animation.FuncAnimation(\n",
        "        fig, update_scene, fargs=(frames, patch),\n",
        "        frames=len(frames), repeat=repeat, interval=interval)\n",
        "    plt.close()\n",
        "    return anim"
      ]
    },
    {
      "cell_type": "code",
      "execution_count": null,
      "id": "5cca99d1",
      "metadata": {
        "execution": {
          "iopub.execute_input": "2024-09-10T13:31:31.519448Z",
          "iopub.status.busy": "2024-09-10T13:31:31.518938Z",
          "iopub.status.idle": "2024-09-10T13:31:34.687394Z",
          "shell.execute_reply": "2024-09-10T13:31:34.685896Z"
        },
        "papermill": {
          "duration": 3.187975,
          "end_time": "2024-09-10T13:31:34.692077",
          "exception": false,
          "start_time": "2024-09-10T13:31:31.504102",
          "status": "completed"
        },
        "tags": [],
        "id": "5cca99d1"
      },
      "outputs": [],
      "source": [
        "plot_animation(frames)"
      ]
    },
    {
      "cell_type": "markdown",
      "id": "dd41f178",
      "metadata": {
        "papermill": {
          "duration": 0.017797,
          "end_time": "2024-09-10T13:31:34.727631",
          "exception": false,
          "start_time": "2024-09-10T13:31:34.709834",
          "status": "completed"
        },
        "tags": [],
        "id": "dd41f178"
      },
      "source": [
        "# Neural Network Policies\n",
        "\n",
        "- Se creará una red neuronal que obtendrá las observaciones como entrada y\n",
        "estimará en la salida las probabilidades de las acciones a tomar por cada entrada (observación).\n",
        "\n",
        "- Para escoger una acción, la red estimará la probabilidad de cada acción, y seleccionará la acción de forma aleatoria con base a las probabilidades estimadas.\n",
        "\n",
        "- Para este caso del Cart-Pole, hay solo dos posibles acciones (izquierda y derecha), por ende solo se requiere una neurona de salida.\n",
        "\n",
        "- La neurona estimará la probabilidad `p` para la acción izquierda (0) y `1 - p` será derecha (1)"
      ]
    },
    {
      "cell_type": "code",
      "execution_count": null,
      "id": "045fda37",
      "metadata": {
        "execution": {
          "iopub.execute_input": "2024-09-10T13:31:34.764666Z",
          "iopub.status.busy": "2024-09-10T13:31:34.763485Z",
          "iopub.status.idle": "2024-09-10T13:31:34.961759Z",
          "shell.execute_reply": "2024-09-10T13:31:34.960589Z"
        },
        "papermill": {
          "duration": 0.219636,
          "end_time": "2024-09-10T13:31:34.964553",
          "exception": false,
          "start_time": "2024-09-10T13:31:34.744917",
          "status": "completed"
        },
        "tags": [],
        "id": "045fda37"
      },
      "outputs": [],
      "source": [
        "keras.backend.clear_session()\n",
        "tf.random.set_seed(42)\n",
        "np.random.seed(42)\n",
        "\n",
        "n_inputs = 4 # == env.observation_space.shape[0] #espacio de observaciones en cart-pole\n",
        "\n",
        "model = keras.models.Sequential([\n",
        "    keras.layers.Dense(5, activation=\"elu\", input_shape=[n_inputs]),\n",
        "    keras.layers.Dense(1, activation=\"sigmoid\"),\n",
        "])"
      ]
    },
    {
      "cell_type": "markdown",
      "id": "e904a1c3",
      "metadata": {
        "papermill": {
          "duration": 0.016923,
          "end_time": "2024-09-10T13:31:34.998913",
          "exception": false,
          "start_time": "2024-09-10T13:31:34.981990",
          "status": "completed"
        },
        "tags": [],
        "id": "e904a1c3"
      },
      "source": [
        "- En este caso, las acciones del pasado se pueden ignorar dado que el espacio de observaciones contiene la información completa del estado del ambiente (estado completo).\n",
        "\n",
        "- Si se necesitaran hidden states (estados ocultos) se requerirían acciones y observaciones del pasado para inferir dichos estados ocultos del escenario.\n",
        "\n",
        "- **Ejemplo**: si el ambiente solo revelara la posición de cart pero no su velocidad, debería considerarse observaciones previas para inferir dicha variable. (Si el ambiente fuera ruidoso seria conveniente tener información del pasado).\n",
        "\n",
        "**NOTA:** Se escoge una acción con base a las probabilidades estimadas para que el agente encuentre un balance entre _exploring_ nuevas acciones y _exploiting_ las acciones que se saben son buenas."
      ]
    },
    {
      "cell_type": "markdown",
      "id": "8c7bf910",
      "metadata": {
        "papermill": {
          "duration": 0.016739,
          "end_time": "2024-09-10T13:31:35.032837",
          "exception": false,
          "start_time": "2024-09-10T13:31:35.016098",
          "status": "completed"
        },
        "tags": [],
        "id": "8c7bf910"
      },
      "source": [
        "## Modelo no entrenado - aleatorio"
      ]
    },
    {
      "cell_type": "code",
      "execution_count": null,
      "id": "7f096f1d",
      "metadata": {
        "execution": {
          "iopub.execute_input": "2024-09-10T13:31:35.070244Z",
          "iopub.status.busy": "2024-09-10T13:31:35.069340Z",
          "iopub.status.idle": "2024-09-10T13:31:35.077062Z",
          "shell.execute_reply": "2024-09-10T13:31:35.075842Z"
        },
        "papermill": {
          "duration": 0.028642,
          "end_time": "2024-09-10T13:31:35.079592",
          "exception": false,
          "start_time": "2024-09-10T13:31:35.050950",
          "status": "completed"
        },
        "tags": [],
        "id": "7f096f1d"
      },
      "outputs": [],
      "source": [
        "def render_policy_net(model, n_max_steps=200, seed=42):\n",
        "    frames = []\n",
        "    env = gym.make('CartPole-v1',render_mode=\"rgb_array\")\n",
        "    np.random.seed(seed)\n",
        "    obs,_ = env.reset(seed=seed)\n",
        "    for step in range(n_max_steps):\n",
        "        frames.append(env.render())\n",
        "        left_proba = model.predict(obs.reshape(1, -1))\n",
        "        action = int(np.random.rand() > left_proba)\n",
        "        obs, reward, done, trun, info = env.step(action)\n",
        "        if done:\n",
        "            break\n",
        "    env.close()\n",
        "    return frames"
      ]
    },
    {
      "cell_type": "code",
      "execution_count": null,
      "id": "49103b1a",
      "metadata": {
        "execution": {
          "iopub.execute_input": "2024-09-10T13:31:35.116657Z",
          "iopub.status.busy": "2024-09-10T13:31:35.116240Z",
          "iopub.status.idle": "2024-09-10T13:31:39.163460Z",
          "shell.execute_reply": "2024-09-10T13:31:39.162102Z"
        },
        "papermill": {
          "duration": 4.069361,
          "end_time": "2024-09-10T13:31:39.166668",
          "exception": false,
          "start_time": "2024-09-10T13:31:35.097307",
          "status": "completed"
        },
        "tags": [],
        "id": "49103b1a"
      },
      "outputs": [],
      "source": [
        "frames = render_policy_net(model)\n",
        "plot_animation(frames)"
      ]
    },
    {
      "cell_type": "markdown",
      "id": "391e1078",
      "metadata": {
        "papermill": {
          "duration": 0.022897,
          "end_time": "2024-09-10T13:31:39.212990",
          "exception": false,
          "start_time": "2024-09-10T13:31:39.190093",
          "status": "completed"
        },
        "tags": [],
        "id": "391e1078"
      },
      "source": [
        "- La red jugará en 50 diferentes escenarios en paralelo (ofrece una variedad de lotes de entrenamiento en cada paso), y se entrena para 5000 iteraciones.\n",
        "\n",
        "- Se deben resetear los ambientes una vez se termine cada escenario (done True en el vector de observaciones).\n",
        "\n",
        "- Se entrena el modelo con un lazo custom."
      ]
    },
    {
      "cell_type": "code",
      "execution_count": null,
      "id": "528dc592",
      "metadata": {
        "execution": {
          "iopub.execute_input": "2024-09-10T13:31:39.260558Z",
          "iopub.status.busy": "2024-09-10T13:31:39.260123Z",
          "iopub.status.idle": "2024-09-10T13:32:44.874857Z",
          "shell.execute_reply": "2024-09-10T13:32:44.873552Z"
        },
        "papermill": {
          "duration": 65.642004,
          "end_time": "2024-09-10T13:32:44.877779",
          "exception": false,
          "start_time": "2024-09-10T13:31:39.235775",
          "status": "completed"
        },
        "tags": [],
        "id": "528dc592"
      },
      "outputs": [],
      "source": [
        "n_environments = 50\n",
        "n_iterations = 5000\n",
        "\n",
        "envs = [gym.make('CartPole-v1',render_mode=\"rgb_array\") for _ in range(n_environments)] # crear lista de escenarios\n",
        "for index, env in enumerate(envs):\n",
        "    env.reset(seed=index)\n",
        "np.random.seed(42)\n",
        "observations = [env.reset(seed=index)[0] for env in envs]\n",
        "optimizer = keras.optimizers.RMSprop()\n",
        "loss_fn = keras.losses.binary_crossentropy #funcion de costo tipo clasificacion\n",
        "\n",
        "for iteration in range(n_iterations):\n",
        "    # if angle < 0, we want proba(left) = 1., or else proba(left) = 0.\n",
        "    target_probas = np.array([([1.] if obs[2] < 0 else [0.])\n",
        "                              for obs in observations]) # acciones \"ideales\"\n",
        "    with tf.GradientTape() as tape: #gradiente automatico\n",
        "        left_probas = model(np.array(observations))\n",
        "        loss = tf.reduce_mean(loss_fn(target_probas, left_probas))\n",
        "    print(\"\\rIteration: {}, Loss: {:.3f}\".format(iteration, loss.numpy()), end=\"\")\n",
        "    grads = tape.gradient(loss, model.trainable_variables)\n",
        "    optimizer.apply_gradients(zip(grads, model.trainable_variables))\n",
        "    actions = (np.random.rand(n_environments, 1) > left_probas.numpy()).astype(np.int32)\n",
        "    for env_index, env in enumerate(envs):\n",
        "        obs, reward, done, trun, info = env.step(actions[env_index][0])\n",
        "        observations[env_index] = obs if not done else env.reset()[0]\n",
        "\n",
        "for env in envs:\n",
        "    env.close()"
      ]
    },
    {
      "cell_type": "code",
      "execution_count": null,
      "id": "89655c0c",
      "metadata": {
        "execution": {
          "iopub.execute_input": "2024-09-10T13:32:44.974929Z",
          "iopub.status.busy": "2024-09-10T13:32:44.973747Z",
          "iopub.status.idle": "2024-09-10T13:32:49.956122Z",
          "shell.execute_reply": "2024-09-10T13:32:49.954941Z"
        },
        "papermill": {
          "duration": 5.035436,
          "end_time": "2024-09-10T13:32:49.960638",
          "exception": false,
          "start_time": "2024-09-10T13:32:44.925202",
          "status": "completed"
        },
        "tags": [],
        "id": "89655c0c"
      },
      "outputs": [],
      "source": [
        "frames = render_policy_net(model)\n",
        "plot_animation(frames)"
      ]
    },
    {
      "cell_type": "markdown",
      "id": "4d34ae82",
      "metadata": {
        "papermill": {
          "duration": 0.053847,
          "end_time": "2024-09-10T13:32:50.069062",
          "exception": false,
          "start_time": "2024-09-10T13:32:50.015215",
          "status": "completed"
        },
        "tags": [],
        "id": "4d34ae82"
      },
      "source": [
        "## La estrategia fue aprendida por la red.\n",
        "## Podrán generarse mejores estrategias por la propia red?"
      ]
    },
    {
      "cell_type": "code",
      "execution_count": null,
      "id": "8572cff6",
      "metadata": {
        "papermill": {
          "duration": 0.053653,
          "end_time": "2024-09-10T13:32:50.178230",
          "exception": false,
          "start_time": "2024-09-10T13:32:50.124577",
          "status": "completed"
        },
        "tags": [],
        "id": "8572cff6"
      },
      "outputs": [],
      "source": []
    }
  ],
  "metadata": {
    "kaggle": {
      "accelerator": "none",
      "dataSources": [],
      "dockerImageVersionId": 30559,
      "isGpuEnabled": false,
      "isInternetEnabled": true,
      "language": "python",
      "sourceType": "notebook"
    },
    "kernelspec": {
      "display_name": "Python 3",
      "language": "python",
      "name": "python3"
    },
    "language_info": {
      "codemirror_mode": {
        "name": "ipython",
        "version": 3
      },
      "file_extension": ".py",
      "mimetype": "text/x-python",
      "name": "python",
      "nbconvert_exporter": "python",
      "pygments_lexer": "ipython3",
      "version": "3.10.12"
    },
    "papermill": {
      "default_parameters": {},
      "duration": 127.542734,
      "end_time": "2024-09-10T13:32:52.857752",
      "environment_variables": {},
      "exception": null,
      "input_path": "__notebook__.ipynb",
      "output_path": "__notebook__.ipynb",
      "parameters": {},
      "start_time": "2024-09-10T13:30:45.315018",
      "version": "2.4.0"
    },
    "colab": {
      "provenance": [],
      "include_colab_link": true
    }
  },
  "nbformat": 4,
  "nbformat_minor": 5
}