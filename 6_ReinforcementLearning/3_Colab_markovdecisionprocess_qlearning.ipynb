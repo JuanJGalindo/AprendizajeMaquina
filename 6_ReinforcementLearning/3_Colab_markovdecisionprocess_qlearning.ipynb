{
  "metadata": {
    "kernelspec": {
      "language": "python",
      "display_name": "Python 3",
      "name": "python3"
    },
    "language_info": {
      "name": "python",
      "version": "3.10.12",
      "mimetype": "text/x-python",
      "codemirror_mode": {
        "name": "ipython",
        "version": 3
      },
      "pygments_lexer": "ipython3",
      "nbconvert_exporter": "python",
      "file_extension": ".py"
    },
    "colab": {
      "provenance": [],
      "include_colab_link": true
    }
  },
  "nbformat_minor": 0,
  "nbformat": 4,
  "cells": [
    {
      "cell_type": "markdown",
      "metadata": {
        "id": "view-in-github",
        "colab_type": "text"
      },
      "source": [
        "<a href=\"https://colab.research.google.com/github/amalvarezme/AprendizajeMaquina/blob/main/6_ReinforcementLearning/3_Colab_markovdecisionprocess_qlearning.ipynb\" target=\"_parent\"><img src=\"https://colab.research.google.com/assets/colab-badge.svg\" alt=\"Open In Colab\"/></a>"
      ]
    },
    {
      "cell_type": "markdown",
      "source": [
        "# Procesos de Decisión de Markov\n",
        "\n",
        "-- **Markov chains**: proceso estocástico sin memoría, con número finito de estados que evoluciona de forma aleatoria de un estado a otro.\n",
        "\n",
        "![MarkovChains](https://i.stack.imgur.com/ScogN.gif)\n",
        "\n",
        "-- La probabilidad de pasar de un estado $s$ a $s'$ es fija, y depende solo del par ($s$,$s'$), no de estados pasados.\n",
        "\n",
        "-- **Markov Decision Processes (Procesos de decisión de Markov) - MDP**: En cada estado el agente puede escoger una de varias acciones y las probabilidades de transición dependen de la acción escogida.\n",
        "\n",
        "\n",
        "\n",
        "-- Los MDP también pueden incluir transición de estados que involucren rewards (positivos o negativos).\n",
        "\n",
        "-- Se busca que un agente en un MDP máximice el reward en el tiempo con base a una policy.\n",
        "\n",
        "\n",
        "![MDPRL](https://www.researchgate.net/profile/Elliot-Ludvig/publication/269517554/figure/fig3/AS:295080465321987@1447364073879/Reinforcement-Learning-and-Markov-Decision-Processes-A-The-world-according-to.png)\n"
      ],
      "metadata": {
        "id": "5bcB87bGEFt_"
      }
    },
    {
      "cell_type": "code",
      "source": [
        "import numpy as np # linear algebra\n",
        "import pandas as pd # data processing, CSV file I/O (e.g. pd.read_csv)\n",
        "\n",
        "# Input data files are available in the read-only \"../input/\" directory\n",
        "# For example, running this (by clicking run or pressing Shift+Enter) will list all files under the input directory\n",
        "\n",
        "import os\n",
        "#for dirname, _, filenames in os.walk('/kaggle/input'):\n",
        "#    for filename in filenames:\n",
        "#        print(os.path.join(dirname, filename))\n",
        "\n",
        "import sys\n",
        "import sklearn\n",
        "\n",
        "\n",
        "!pip install gymnasium[classic_control]  #install gymnasium and virtual display\n",
        "!pip install pyvirtualdisplay\n",
        "import gym\n",
        "import pyvirtualdisplay\n",
        "import tensorflow as tf\n",
        "from tensorflow import keras\n",
        "\n",
        "# to make this notebook's output stable across runs\n",
        "np.random.seed(42)\n",
        "tf.random.set_seed(42)\n",
        "\n",
        "# To plot pretty figures\n",
        "import matplotlib as mpl\n",
        "import matplotlib.pyplot as plt\n",
        "mpl.rc('axes', labelsize=14)\n",
        "mpl.rc('xtick', labelsize=12)\n",
        "mpl.rc('ytick', labelsize=12)\n",
        "\n",
        "# To get smooth animations\n",
        "import matplotlib.animation as animation\n",
        "mpl.rc('animation', html='jshtml')\n",
        "\n",
        "# Where to save the figures\n",
        "PROJECT_ROOT_DIR = \".\"\n",
        "CHAPTER_ID = \"rl\"\n",
        "IMAGES_PATH = os.path.join(PROJECT_ROOT_DIR, \"images\", CHAPTER_ID)\n",
        "os.makedirs(IMAGES_PATH, exist_ok=True)\n",
        "\n",
        "def save_fig(fig_id, tight_layout=True, fig_extension=\"png\", resolution=300):\n",
        "    path = os.path.join(IMAGES_PATH, fig_id + \".\" + fig_extension)\n",
        "    print(\"Saving figure\", fig_id)\n",
        "    if tight_layout:\n",
        "        plt.tight_layout()\n",
        "    plt.savefig(path, format=fig_extension, dpi=resolution)\n",
        "\n",
        "\n",
        "#display = pyvirtualdisplay.Display(visible=0, size=(1400, 900)).start()\n",
        "#display"
      ],
      "metadata": {
        "execution": {
          "iopub.status.busy": "2023-11-06T02:40:55.672802Z",
          "iopub.execute_input": "2023-11-06T02:40:55.673264Z",
          "iopub.status.idle": "2023-11-06T02:41:26.005097Z",
          "shell.execute_reply.started": "2023-11-06T02:40:55.673234Z",
          "shell.execute_reply": "2023-11-06T02:41:26.004136Z"
        },
        "trusted": true,
        "id": "TVcsoDhDEFuB",
        "outputId": "73094637-49cf-4560-d272-8fce1e6bdc32",
        "colab": {
          "base_uri": "https://localhost:8080/"
        }
      },
      "execution_count": null,
      "outputs": [
        {
          "output_type": "stream",
          "name": "stdout",
          "text": [
            "Requirement already satisfied: gymnasium[classic_control] in /usr/local/lib/python3.10/dist-packages (0.29.1)\n",
            "Requirement already satisfied: numpy>=1.21.0 in /usr/local/lib/python3.10/dist-packages (from gymnasium[classic_control]) (1.23.5)\n",
            "Requirement already satisfied: cloudpickle>=1.2.0 in /usr/local/lib/python3.10/dist-packages (from gymnasium[classic_control]) (2.2.1)\n",
            "Requirement already satisfied: typing-extensions>=4.3.0 in /usr/local/lib/python3.10/dist-packages (from gymnasium[classic_control]) (4.5.0)\n",
            "Requirement already satisfied: farama-notifications>=0.0.1 in /usr/local/lib/python3.10/dist-packages (from gymnasium[classic_control]) (0.0.4)\n",
            "Requirement already satisfied: pygame>=2.1.3 in /usr/local/lib/python3.10/dist-packages (from gymnasium[classic_control]) (2.5.2)\n",
            "Requirement already satisfied: pyvirtualdisplay in /usr/local/lib/python3.10/dist-packages (3.0)\n"
          ]
        }
      ]
    },
    {
      "cell_type": "markdown",
      "source": [
        "- Simulación de una secuencia de longitud fija dado una matriz de transición desde una [distribución multinomial](https://en.wikipedia.org/wiki/Multinomial_distribution)"
      ],
      "metadata": {
        "id": "d4Av8Gd1EFuC"
      }
    },
    {
      "cell_type": "code",
      "source": [
        "def MC_evolve(A,T=10):\n",
        "  #T number of step to evolve\n",
        "  M = A.shape[0] #Number of states\n",
        "  s = np.argmax(np.random.multinomial(1, np.ones(M)/M))\n",
        "  seq = [s]\n",
        "  for t in range(T-1):\n",
        "    s = np.argmax(np.random.multinomial(1, A[s,:]))\n",
        "    seq.append(s)\n",
        "\n",
        "  return seq"
      ],
      "metadata": {
        "execution": {
          "iopub.status.busy": "2023-11-06T02:41:26.006846Z",
          "iopub.execute_input": "2023-11-06T02:41:26.007887Z",
          "iopub.status.idle": "2023-11-06T02:41:26.013266Z",
          "shell.execute_reply.started": "2023-11-06T02:41:26.007854Z",
          "shell.execute_reply": "2023-11-06T02:41:26.012430Z"
        },
        "trusted": true,
        "id": "ijyMV6OjEFuC"
      },
      "execution_count": null,
      "outputs": []
    },
    {
      "cell_type": "markdown",
      "source": [
        "![MDP](https://github.com/amalvarezme/AprendizajeMaquina/blob/main/6_ReinforcementLearning/mdp.jpeg?raw=1)"
      ],
      "metadata": {
        "id": "BNXE96gBEFuC"
      }
    },
    {
      "cell_type": "code",
      "source": [
        "A = np.array([[0.7 ,0.2 ,0   ,0.1],\n",
        "              [0   ,0   ,0.9 ,0.1],\n",
        "              [0   ,1.0 ,0   ,0],\n",
        "              [0   ,0   ,0   ,1]])\n",
        "\n",
        "print('State transition matrix')\n",
        "print(A)\n",
        "\n",
        "print('MC sequence:')\n",
        "MC_evolve(A,5)"
      ],
      "metadata": {
        "execution": {
          "iopub.status.busy": "2023-11-06T02:41:26.014031Z",
          "iopub.execute_input": "2023-11-06T02:41:26.014416Z",
          "iopub.status.idle": "2023-11-06T02:41:26.033796Z",
          "shell.execute_reply.started": "2023-11-06T02:41:26.014395Z",
          "shell.execute_reply": "2023-11-06T02:41:26.032996Z"
        },
        "trusted": true,
        "id": "3oeXD3hyEFuC",
        "outputId": "b12d4076-5190-4f42-c1ad-59aba57b5b8c",
        "colab": {
          "base_uri": "https://localhost:8080/"
        }
      },
      "execution_count": null,
      "outputs": [
        {
          "output_type": "stream",
          "name": "stdout",
          "text": [
            "State transition matrix\n",
            "[[0.7 0.2 0.  0.1]\n",
            " [0.  0.  0.9 0.1]\n",
            " [0.  1.  0.  0. ]\n",
            " [0.  0.  0.  1. ]]\n",
            "MC sequence:\n"
          ]
        },
        {
          "output_type": "execute_result",
          "data": {
            "text/plain": [
              "[1, 2, 1, 2, 1]"
            ]
          },
          "metadata": {},
          "execution_count": 4
        }
      ]
    },
    {
      "cell_type": "markdown",
      "source": [
        "-- Simulación de una secuencia estado-acción de longitud finita dado un proceso de decisión de Markov, asumiendo que todas las acciones son igualmente probables (no hay sesgo de estrategia - policy)."
      ],
      "metadata": {
        "id": "MRO-1LqKEFuC"
      }
    },
    {
      "cell_type": "code",
      "source": [
        "def MDP_evolve(MDP,T=10):\n",
        "  #T number of step to evolve\n",
        "  N = len(MDP['A']) #Number of states\n",
        "\n",
        "  #Initial state:\n",
        "  s = np.argmax(np.random.multinomial(1, np.ones(N)/N))\n",
        "\n",
        "  seq = []\n",
        "\n",
        "  for t in range(T-1):\n",
        "    #Choose an action:\n",
        "    a_s = MDP['a'][s] #Possible actions\n",
        "    Na = len(a_s)     #Number of possible actions\n",
        "    index = np.argmax(np.random.multinomial(1, np.ones(Na)/Na)) #All actions are equally probable\n",
        "    a = MDP['a'][s][index] #Chosen action\n",
        "\n",
        "    #Sample the next state:\n",
        "    s_next = np.argmax(np.random.multinomial(1, MDP['A'][s][a]))\n",
        "\n",
        "    #Claim the reward:\n",
        "    reward = MDP['R'][s][a][s_next]\n",
        "\n",
        "    #Append to the list:\n",
        "    seq.append([s,a,reward])\n",
        "\n",
        "    s = s_next\n",
        "    #print(s_next)\n",
        "\n",
        "  return np.array(seq)"
      ],
      "metadata": {
        "execution": {
          "iopub.status.busy": "2023-11-06T02:41:26.036136Z",
          "iopub.execute_input": "2023-11-06T02:41:26.036592Z",
          "iopub.status.idle": "2023-11-06T02:41:26.044418Z",
          "shell.execute_reply.started": "2023-11-06T02:41:26.036569Z",
          "shell.execute_reply": "2023-11-06T02:41:26.043583Z"
        },
        "trusted": true,
        "id": "niRfh6LpEFuC"
      },
      "execution_count": null,
      "outputs": []
    },
    {
      "cell_type": "markdown",
      "source": [
        "## Ejemplo simulación MDP\n",
        "\n",
        "-- Se definen algunas probabilidades de transición, rewards y acciones.\n",
        "\n",
        "![mdprl](https://github.com/amalvarezme/AprendizajeMaquina/blob/main/6_ReinforcementLearning/mdprl.jpeg?raw=1)\n",
        "\n",
        "\n",
        "-- **Por ejemplo**:\n",
        "- En el estado s0, si la acción escogida es a0 con probabilidadis 0.7 se ira a estado s0 con reward +10.\n",
        "- Con probabilidad 0.3 se ira a estado s1 sin reward, y nunca se alcanzará el estado s2\n",
        "- Probabilidades de transición:  `[0.7, 0.3, 0.0]`.\n",
        "- Rewards `[+10, 0, 0]`"
      ],
      "metadata": {
        "id": "IIk69IHZEFuD"
      }
    },
    {
      "cell_type": "code",
      "source": [
        "np.random.seed(123)\n",
        "transition_probabilities = [ # shape=[s, a, s']\n",
        "[[0.7, 0.3, 0.0], [1.0, 0.0, 0.0], [0.8, 0.2, 0.0]],\n",
        "[[0.0, 1.0, 0.0], None, [0.0, 0.0, 1.0]],\n",
        "[None, [0.8, 0.1, 0.1], None]]\n",
        "\n",
        "rewards = [ # shape=[s, a, s']\n",
        "[[+10, 0, 0], [0, 0, 0], [0, 0, 0]],\n",
        "[[0, 0, 0], [0, 0, 0], [0, 0, -50]],\n",
        "[[0, 0, 0], [+40, 0, 0], [0, 0, 0]]]\n",
        "\n",
        "possible_actions = [[0, 1, 2], [0, 2], [1]]\n",
        "\n",
        "MDP = {'A':transition_probabilities,'R':rewards,'a':possible_actions}\n",
        "\n",
        "print('Transition probabilities:',MDP['A'][0][2][0])\n",
        "print('Rewards:',MDP['R'][0][0][0])\n",
        "print('Possible actions:')\n",
        "for state,actions in enumerate(MDP['a']):\n",
        "  print('State {}:'.format(state),actions)\n",
        "\n",
        "\n",
        "seq = MDP_evolve(MDP,T=50)\n",
        "\n",
        "plt.stem(np.cumsum(seq[:,2]))\n",
        "plt.xlabel('Step')\n",
        "plt.ylabel('Accumulated reward')\n",
        "plt.show()\n",
        "\n",
        "plt.stem(seq[:,0])\n",
        "plt.xlabel('Step')\n",
        "plt.ylabel('State')\n",
        "plt.show()\n",
        "\n",
        "print(seq[0])"
      ],
      "metadata": {
        "execution": {
          "iopub.status.busy": "2023-11-06T02:41:26.045338Z",
          "iopub.execute_input": "2023-11-06T02:41:26.045558Z",
          "iopub.status.idle": "2023-11-06T02:41:26.430191Z",
          "shell.execute_reply.started": "2023-11-06T02:41:26.045538Z",
          "shell.execute_reply": "2023-11-06T02:41:26.429044Z"
        },
        "trusted": true,
        "id": "PTQcAZGFEFuD",
        "outputId": "e90061c2-018e-4586-fe0e-a1764d605451",
        "colab": {
          "base_uri": "https://localhost:8080/",
          "height": 1000
        }
      },
      "execution_count": null,
      "outputs": [
        {
          "output_type": "stream",
          "name": "stdout",
          "text": [
            "Transition probabilities: 0.8\n",
            "Rewards: 10\n",
            "Possible actions:\n",
            "State 0: [0, 1, 2]\n",
            "State 1: [0, 2]\n",
            "State 2: [1]\n"
          ]
        },
        {
          "output_type": "display_data",
          "data": {
            "text/plain": [
              "<Figure size 640x480 with 1 Axes>"
            ],
            "image/png": "[encoded data removed]"
          },
          "metadata": {}
        },
        {
          "output_type": "display_data",
          "data": {
            "text/plain": [
              "<Figure size 640x480 with 1 Axes>"
            ],
            "image/png": "[encoded data removed]"
          },
          "metadata": {}
        },
        {
          "output_type": "stream",
          "name": "stdout",
          "text": [
            "[0 2 0]\n"
          ]
        }
      ]
    },
    {
      "cell_type": "markdown",
      "source": [
        "# Algoritmo Q-Value iterativo:\n",
        "\n",
        "-- **Ecuación de Bellman**: en un MDP algunos estados incluyen acciones para las que no es claro que acción generará mejores rewards a lo largo del tiempo.\n",
        "\n",
        "-- Bellman encontró una estimación del valor óptimo de estado para cualquier $s$, como la suma de todos los discounted rewards futuros que el agente espera en promedio después de alcanzar un estado $s'$, asumiendo que actua de forma óptima.\n",
        "\n",
        "-- Si el agente actua de forma óptima, la Bellman Optimality equation aplica según:\n",
        "\n",
        "$$V^*(s)= \\max_a \\sum_s T(s,a,s')\\left(R(s,a,s')+\\gamma V^*(s')\\right); \\quad \\forall s$$\n",
        "\n",
        "- $V^*(s):$ Valor óptimo estimado para el estado $s$.\n",
        "\n",
        "- $T(s,a,s')$: probabilidad de transición del estado $s$ al estado $s'$ mediante la acción $a$.\n",
        "\n",
        "- $R(s,a,s')$: reward del agente al pasar del estado $s$ al $s'$ mediante la acción $a$.\n",
        "\n",
        "- $\\gamma:$ factor de descuento.\n",
        "\n",
        "-- **Algoritmo Value iteration**:\n",
        "\n",
        "$$ V_{k+1}(s) \\leftarrow \\max_a  \\sum_{s'} T(s,a,s')\\left(R(s,a,s')+\\gamma V_k^*(s')\\right); \\quad \\forall s$$\n",
        "\n",
        " - $V_k(s):$ Valor óptimo estimado para el estado $s$ en la iteración $k$.\n",
        " - Conocer el valor óptimo del estado es útil para evaluar la policy, aunque NO provee la policy óptima del agente.\n",
        " -Bellman extendió el mismo concepto para estimar los valores óptimos de estado-acción (Q-Values).\n",
        "\n",
        "-- **Algoritmo Q-Value iteration**\n",
        "\n",
        " - $Q^*(s,a):$ par Q-Value de estado-acción como la suma de rewards futuros descontados que el agente puede esperar en promedio después que alcanza el estado $s$ y escoge la acción $a$ pero antes de ver la salida de dicha acción, asumiendo que se desenvuelve de manera óptima después de la misma.\n",
        "\n",
        "\n",
        "$$ Q_{k+1}(s,a) \\leftarrow \\sum_{s'} T(s,a,s')\\left(R(s,a,s')+\\gamma \\max_{a'}Q_k(s',a')\\right); \\quad \\forall (s',a)$$\n",
        "\n",
        "- Los valores Q-value se inicializan en cero.\n",
        "\n",
        "- Después de obtener los Q-Values óptimos, se definie la policy óptima como:\n",
        "\n",
        "$$\\pi^*(s)=\\arg\\max_a Q^*(s,a)$$\n",
        "\n"
      ],
      "metadata": {
        "id": "_kk7i9yTEFuD"
      }
    },
    {
      "cell_type": "code",
      "source": [
        "#Ejemplo de simulación\n",
        "\n",
        "Q_values = np.full((3, 3), -np.inf) # -np.inf para acciones no posibles\n",
        "for state, actions in enumerate(possible_actions): #inicializar en 0\n",
        "    Q_values[state, actions] = 0.0  #\n",
        "\n",
        "gamma = 0.90  # discount factor\n",
        "\n",
        "history1 = []\n",
        "for iteration in range(50):\n",
        "    Q_prev = Q_values.copy()\n",
        "    history1.append(Q_prev)\n",
        "    for s in range(3):\n",
        "        for a in possible_actions[s]:\n",
        "            Q_values[s, a] = np.sum([\n",
        "                    transition_probabilities[s][a][sp]\n",
        "                    * (rewards[s][a][sp] + gamma * np.max(Q_prev[sp]))\n",
        "                for sp in range(3)])\n",
        "\n",
        "history1 = np.array(history1)\n",
        "\n",
        "Q_values"
      ],
      "metadata": {
        "execution": {
          "iopub.status.busy": "2023-11-06T02:41:26.432747Z",
          "iopub.execute_input": "2023-11-06T02:41:26.433065Z",
          "iopub.status.idle": "2023-11-06T02:41:26.450415Z",
          "shell.execute_reply.started": "2023-11-06T02:41:26.433041Z",
          "shell.execute_reply": "2023-11-06T02:41:26.449527Z"
        },
        "trusted": true,
        "id": "8Zvot9kdEFuD",
        "outputId": "cfc951a1-3ddf-4e2d-9a68-d3f9944af7f3",
        "colab": {
          "base_uri": "https://localhost:8080/"
        }
      },
      "execution_count": null,
      "outputs": [
        {
          "output_type": "execute_result",
          "data": {
            "text/plain": [
              "array([[18.91891892, 17.02702702, 13.62162162],\n",
              "       [ 0.        ,        -inf, -4.87971488],\n",
              "       [       -inf, 50.13365013,        -inf]])"
            ]
          },
          "metadata": {},
          "execution_count": 7
        }
      ]
    },
    {
      "cell_type": "markdown",
      "source": [
        "**Nota**:  Se observa que si el agente se encuentra en $s_0$ y escoge la acción $a_1$, el esperado de descuentos futuros (discounted rewards) es de 17.02 aprox."
      ],
      "metadata": {
        "id": "C5Nh44YtEFuD"
      }
    },
    {
      "cell_type": "code",
      "source": [
        "np.argmax(Q_values, axis=1) # max por columnas para encontrar la mejor accion en cada state"
      ],
      "metadata": {
        "execution": {
          "iopub.status.busy": "2023-11-06T02:41:26.452773Z",
          "iopub.execute_input": "2023-11-06T02:41:26.453691Z",
          "iopub.status.idle": "2023-11-06T02:41:26.459693Z",
          "shell.execute_reply.started": "2023-11-06T02:41:26.453660Z",
          "shell.execute_reply": "2023-11-06T02:41:26.458634Z"
        },
        "trusted": true,
        "id": "1BAHBWDwEFuD",
        "outputId": "d251ba0f-b7d2-41f7-e4c6-e6482150b77a",
        "colab": {
          "base_uri": "https://localhost:8080/"
        }
      },
      "execution_count": null,
      "outputs": [
        {
          "output_type": "execute_result",
          "data": {
            "text/plain": [
              "array([0, 0, 1])"
            ]
          },
          "metadata": {},
          "execution_count": 8
        }
      ]
    },
    {
      "cell_type": "markdown",
      "source": [
        "La policy óptima para este proceso de Markov es (discount factor en 0.9):\n",
        "\n",
        "- $a_0$ en estado $s_0$\n",
        "- $a_0$ en estado $s_1$\n",
        "- $a_1$ en estado $s_2$ (única acción disponible)\n",
        "\n",
        "Cambiando el discount factor a 0.95:"
      ],
      "metadata": {
        "id": "AZym9l6UEFuD"
      }
    },
    {
      "cell_type": "code",
      "source": [
        "Q_values = np.full((3, 3), -np.inf) # -np.inf for impossible actions\n",
        "for state, actions in enumerate(possible_actions):\n",
        "    Q_values[state, actions] = 0.0  # for all possible actions"
      ],
      "metadata": {
        "execution": {
          "iopub.status.busy": "2023-11-06T02:41:26.461213Z",
          "iopub.execute_input": "2023-11-06T02:41:26.461551Z",
          "iopub.status.idle": "2023-11-06T02:41:26.468933Z",
          "shell.execute_reply.started": "2023-11-06T02:41:26.461523Z",
          "shell.execute_reply": "2023-11-06T02:41:26.468292Z"
        },
        "trusted": true,
        "id": "O-quwjdoEFuD"
      },
      "execution_count": null,
      "outputs": []
    },
    {
      "cell_type": "code",
      "source": [
        "gamma = 0.95  # the discount factor\n",
        "\n",
        "for iteration in range(50):\n",
        "    Q_prev = Q_values.copy()\n",
        "    for s in range(3):\n",
        "        for a in possible_actions[s]:\n",
        "            Q_values[s, a] = np.sum([\n",
        "                    transition_probabilities[s][a][sp]\n",
        "                    * (rewards[s][a][sp] + gamma * np.max(Q_prev[sp]))\n",
        "                for sp in range(3)])"
      ],
      "metadata": {
        "execution": {
          "iopub.status.busy": "2023-11-06T02:41:26.469960Z",
          "iopub.execute_input": "2023-11-06T02:41:26.470250Z",
          "iopub.status.idle": "2023-11-06T02:41:26.485874Z",
          "shell.execute_reply.started": "2023-11-06T02:41:26.470224Z",
          "shell.execute_reply": "2023-11-06T02:41:26.485196Z"
        },
        "trusted": true,
        "id": "iuf3rAc5EFuE"
      },
      "execution_count": null,
      "outputs": []
    },
    {
      "cell_type": "code",
      "source": [
        "Q_values"
      ],
      "metadata": {
        "execution": {
          "iopub.status.busy": "2023-11-06T02:41:26.489859Z",
          "iopub.execute_input": "2023-11-06T02:41:26.490308Z",
          "iopub.status.idle": "2023-11-06T02:41:26.497180Z",
          "shell.execute_reply.started": "2023-11-06T02:41:26.490280Z",
          "shell.execute_reply": "2023-11-06T02:41:26.496256Z"
        },
        "trusted": true,
        "id": "ene2V8JZEFuE",
        "outputId": "4e359702-ca28-4a64-95f8-b52a27e84e5b",
        "colab": {
          "base_uri": "https://localhost:8080/"
        }
      },
      "execution_count": null,
      "outputs": [
        {
          "output_type": "execute_result",
          "data": {
            "text/plain": [
              "array([[21.73304188, 20.63807938, 16.70138772],\n",
              "       [ 0.95462106,        -inf,  1.01361207],\n",
              "       [       -inf, 53.70728682,        -inf]])"
            ]
          },
          "metadata": {},
          "execution_count": 11
        }
      ]
    },
    {
      "cell_type": "code",
      "source": [
        "np.argmax(Q_values, axis=1)"
      ],
      "metadata": {
        "execution": {
          "iopub.status.busy": "2023-11-06T02:41:26.498255Z",
          "iopub.execute_input": "2023-11-06T02:41:26.499052Z",
          "iopub.status.idle": "2023-11-06T02:41:26.509435Z",
          "shell.execute_reply.started": "2023-11-06T02:41:26.499028Z",
          "shell.execute_reply": "2023-11-06T02:41:26.508197Z"
        },
        "trusted": true,
        "id": "p5U_ANwXEFuE",
        "outputId": "67cf4116-1ff5-4a2a-c532-6f094f061aff",
        "colab": {
          "base_uri": "https://localhost:8080/"
        }
      },
      "execution_count": null,
      "outputs": [
        {
          "output_type": "execute_result",
          "data": {
            "text/plain": [
              "array([0, 2, 1])"
            ]
          },
          "metadata": {},
          "execution_count": 12
        }
      ]
    },
    {
      "cell_type": "markdown",
      "source": [
        "- Ahora en $s_1$ se escoge acción $a_2$.\n",
        "- Si el discount factor es más alto, valorará opciones futuras, el agente está dispuesto a pagar más penalidades buscando rewards futuros (más arriesgado!)."
      ],
      "metadata": {
        "id": "Gt8DgFr3EFuE"
      }
    },
    {
      "cell_type": "markdown",
      "source": [
        "# Temporal Difference Learning (Aprendizaje por diferencia temporal)\n",
        "\n",
        "- En Reinforcement Learning los problemas con acciones discretas se modelan como procesos de decisión de Markov.\n",
        "\n",
        "- Sin embargo, en general el agente NO tiene idea sobre las probabilidades de transición ($T(s,a,s')$ no se conoce!).\n",
        "\n",
        "- Tampoco se conocen los rewards que se van obteniendo ($R(s,a,s')$ no se conoce!).\n",
        "\n",
        "- Se debe experimentar sobre cada estado y cada transición al menos una vez para conocer los rewards, y se debe experimentar múltiples veces dicho proceso para tener un buen estimado de las probabilidades de transición.\n",
        "\n",
        "- El algoritmo Temporal Difference Learning es similar al Value Iteration, pero se ajusta para cuando el agente solo tiene conocimiento parcial del proceso de decisión de Markov.\n",
        "\n",
        "- Se asume que el agente conoce solo los posibles estados y acciones.\n",
        "\n",
        "- El agente usa una `exploration policy`, i.e., policy aleatoria para explorar el proceso de decisión de Markov.\n",
        "\n",
        "- El TD actualiza el estimado de los valores de estado utilizando las transiciones y rewards que se observan:\n",
        "\n",
        "$$V_{k+1}(s)\\leftarrow (1-\\alpha)V_k(s)+\\alpha(r +\\gamma V_k(s'))$$\n",
        "\n",
        "$$V_{k+1}(s)\\leftarrow V_k(s)+\\alpha \\delta_k(s,r,s')$$\n",
        "\n",
        "$\\alpha$: learning rate\n",
        "$r$: reward promedio\n",
        "\n",
        "$\\gamma:$ discount factor\n",
        "\n",
        "$r+\\gamma V_k(s'):$ TD target\n",
        "\n",
        "$\\delta_k(s,r,s')=r+\\gamma V_k(s')-V_k(s):$ TD error\n"
      ],
      "metadata": {
        "id": "BytnmOYsEFuE"
      }
    },
    {
      "cell_type": "markdown",
      "source": [
        "# Q-Learning\n",
        "\n",
        "-- Es una adaptación del Q-Value Iteration para cuando las probabilidades de transición y los rewards no se conocen inicialmente.\n",
        "\n",
        "-- Se observa al agente jugar, e.g., aleatoriamente, y se mejoran las estimaciones de Q-Value de forma gradual.\n",
        "\n",
        "-- Una vez se conocen los Q-Value, la policy óptima se escoge desde la acción con Q-Value más alto, i.e., greedy policy.\n",
        "\n",
        "$$Q(s,a) \\leftarrow_\\alpha r+\\gamma \\max_{a'}Q(s',a')$$\n",
        "\n",
        "Nota: $a \\leftarrow_\\alpha b$ equivalente a $a_{k+1}\\leftarrow (1-\\alpha)a_k-\\alpha b_k$\n",
        "\n",
        "-- Para cada par estado-acción (s,a) el algoritmo monitorea el avance del promedio de rewards $r$ que el agente obtuvo hasta dejar el estado $s$ con la acción $a$.\n",
        "\n",
        "-- Se simulará un agente moviéndose en el escenario, definiendo una función que efectue alguna acción y obtener el nuevo estado y un reward:"
      ],
      "metadata": {
        "id": "yJC5xkNQEFuE"
      }
    },
    {
      "cell_type": "code",
      "source": [
        "def step(state, action):\n",
        "    probas = transition_probabilities[state][action]\n",
        "    next_state = np.random.choice([0, 1, 2], p=probas)\n",
        "    reward = rewards[state][action][next_state]\n",
        "    return next_state, reward"
      ],
      "metadata": {
        "execution": {
          "iopub.status.busy": "2023-11-06T02:41:26.510984Z",
          "iopub.execute_input": "2023-11-06T02:41:26.511409Z",
          "iopub.status.idle": "2023-11-06T02:41:26.517543Z",
          "shell.execute_reply.started": "2023-11-06T02:41:26.511347Z",
          "shell.execute_reply": "2023-11-06T02:41:26.516552Z"
        },
        "trusted": true,
        "id": "HjL803_IEFuE"
      },
      "execution_count": null,
      "outputs": []
    },
    {
      "cell_type": "markdown",
      "source": [
        "-- Se necesita una exploration policy, para visitar cada estado muchas veces.\n",
        "\n",
        "-- Se empleará una policy aleatoria, dado que el espacio de estados es pequeño."
      ],
      "metadata": {
        "id": "aHf52mf4EFuE"
      }
    },
    {
      "cell_type": "code",
      "source": [
        "def exploration_policy(state):\n",
        "    return np.random.choice(possible_actions[state])"
      ],
      "metadata": {
        "execution": {
          "iopub.status.busy": "2023-11-06T02:41:26.518659Z",
          "iopub.execute_input": "2023-11-06T02:41:26.519245Z",
          "iopub.status.idle": "2023-11-06T02:41:26.527134Z",
          "shell.execute_reply.started": "2023-11-06T02:41:26.519218Z",
          "shell.execute_reply": "2023-11-06T02:41:26.526317Z"
        },
        "trusted": true,
        "id": "b-iDKdSFEFuE"
      },
      "execution_count": null,
      "outputs": []
    },
    {
      "cell_type": "markdown",
      "source": [
        "-- Ahora, se inicializará los Q-Values y se aplicará el Q-Learning algorithm:"
      ],
      "metadata": {
        "id": "-4pegtMrEFuE"
      }
    },
    {
      "cell_type": "code",
      "source": [
        "np.random.seed(42)\n",
        "\n",
        "Q_values = np.full((3, 3), -np.inf)\n",
        "for state, actions in enumerate(possible_actions):\n",
        "    Q_values[state][actions] = 0\n",
        "\n",
        "alpha0 = 0.05 # initial learning rate\n",
        "decay = 0.005 # learning rate decay\n",
        "gamma = 0.90 # discount factor\n",
        "state = 0 # initial state\n",
        "history2 = []\n",
        "\n",
        "for iteration in range(10000):\n",
        "    history2.append(Q_values.copy())\n",
        "    action = exploration_policy(state)\n",
        "    next_state, reward = step(state, action)\n",
        "    next_value = np.max(Q_values[next_state]) # greedy policy at the next step\n",
        "    alpha = alpha0 / (1 + iteration * decay)\n",
        "    Q_values[state, action] *= 1 - alpha\n",
        "    Q_values[state, action] += alpha * (reward + gamma * next_value)\n",
        "    state = next_state\n",
        "\n",
        "history2 = np.array(history2)\n",
        "\n",
        "Q_values"
      ],
      "metadata": {
        "execution": {
          "iopub.status.busy": "2023-11-06T02:41:26.527976Z",
          "iopub.execute_input": "2023-11-06T02:41:26.528875Z",
          "iopub.status.idle": "2023-11-06T02:41:26.952554Z",
          "shell.execute_reply.started": "2023-11-06T02:41:26.528852Z",
          "shell.execute_reply": "2023-11-06T02:41:26.951934Z"
        },
        "trusted": true,
        "id": "P3DnNcYzEFuE",
        "outputId": "0f3ed0c3-e083-4fc0-8198-34712ad20407",
        "colab": {
          "base_uri": "https://localhost:8080/"
        }
      },
      "execution_count": null,
      "outputs": [
        {
          "output_type": "execute_result",
          "data": {
            "text/plain": [
              "array([[18.77621289, 17.2238872 , 13.74543343],\n",
              "       [ 0.        ,        -inf, -8.00485647],\n",
              "       [       -inf, 49.40208921,        -inf]])"
            ]
          },
          "metadata": {},
          "execution_count": 15
        }
      ]
    },
    {
      "cell_type": "code",
      "source": [
        "np.argmax(Q_values, axis=1) # optimal action for each state"
      ],
      "metadata": {
        "execution": {
          "iopub.status.busy": "2023-11-06T02:41:26.953480Z",
          "iopub.execute_input": "2023-11-06T02:41:26.954443Z",
          "iopub.status.idle": "2023-11-06T02:41:26.961643Z",
          "shell.execute_reply.started": "2023-11-06T02:41:26.954394Z",
          "shell.execute_reply": "2023-11-06T02:41:26.960634Z"
        },
        "trusted": true,
        "id": "lFz5UTqpEFuE",
        "outputId": "7b8732da-bbc3-4720-f3d1-0376a6e8ec19",
        "colab": {
          "base_uri": "https://localhost:8080/"
        }
      },
      "execution_count": null,
      "outputs": [
        {
          "output_type": "execute_result",
          "data": {
            "text/plain": [
              "array([0, 0, 1])"
            ]
          },
          "metadata": {},
          "execution_count": 16
        }
      ]
    },
    {
      "cell_type": "code",
      "source": [
        "true_Q_value = history1[-1, 0, 0]\n",
        "\n",
        "fig, axes = plt.subplots(1, 2, figsize=(10, 4), sharey=True)\n",
        "axes[0].set_ylabel(\"Q-Value$(s_0, a_0)$\", fontsize=14)\n",
        "axes[0].set_title(\"Q-Value Iteration\", fontsize=14)\n",
        "axes[1].set_title(\"Q-Learning\", fontsize=14)\n",
        "for ax, width, history in zip(axes, (50, 10000), (history1, history2)):\n",
        "    ax.plot([0, width], [true_Q_value, true_Q_value], \"k--\")\n",
        "    ax.plot(np.arange(width), history[:, 0, 0], \"b-\", linewidth=2)\n",
        "    ax.set_xlabel(\"Iterations\", fontsize=14)\n",
        "    ax.axis([0, width, 0, 24])\n",
        "\n",
        "save_fig(\"q_value_plot\")"
      ],
      "metadata": {
        "execution": {
          "iopub.status.busy": "2023-11-06T02:41:26.962830Z",
          "iopub.execute_input": "2023-11-06T02:41:26.963077Z",
          "iopub.status.idle": "2023-11-06T02:41:28.017345Z",
          "shell.execute_reply.started": "2023-11-06T02:41:26.963057Z",
          "shell.execute_reply": "2023-11-06T02:41:28.016153Z"
        },
        "trusted": true,
        "id": "izI8yAEVEFuF",
        "outputId": "34e81fe3-b255-4721-f953-552d398c8269",
        "colab": {
          "base_uri": "https://localhost:8080/",
          "height": 425
        }
      },
      "execution_count": null,
      "outputs": [
        {
          "output_type": "stream",
          "name": "stdout",
          "text": [
            "Saving figure q_value_plot\n"
          ]
        },
        {
          "output_type": "display_data",
          "data": {
            "text/plain": [
              "<Figure size 1000x400 with 2 Axes>"
            ],
            "image/png": "[encoded data removed]"
          },
          "metadata": {}
        }
      ]
    },
    {
      "cell_type": "markdown",
      "source": [
        "-- El algoritmo Q-Learning converge al Q-Value óptimo, pero requiere de muchas iteraciones.\n",
        "\n",
        "-- Se deben sintonizar varios hyperparámetros!\n",
        "\n",
        "-- Q-Value iteration converge más rápido.\n",
        "\n",
        "-- Sin embargo, Q-Learning no conoce las probabilidades de transición ni los rewards, lo que hace más díficil conocer la pocily óptima.\n",
        "\n",
        "-- Q-Learning se conoce como off-policy dado que la policy ejecutada es no necesariamente la ejecutada-> la policy ejecutada es exploratoria (random), mientras que la entrenada será siempre escogida desde las acciones con los Q-Values más altos.\n",
        "\n",
        "-- **Q-Learning aprende solo observando un agente actuando aleatoriamente**\n",
        "\n",
        "-- Imagine aprender a jugar golf con un profesor tipo miquito borracho XD!"
      ],
      "metadata": {
        "id": "VeDHQkAUEFuF"
      }
    },
    {
      "cell_type": "markdown",
      "source": [
        "# Exploration policies\n",
        "\n",
        "-- Q-Learning funciona si la exploration policy explora el MDP completamente.\n",
        "\n",
        "-- Una policy totalmente aleatoria converge eventualmente pero requiere muchas iteraciones.\n",
        "\n",
        "-- **$\\epsilon$-greedy policy**: en cada paso el agente explora de forma aleatoria con probabilidad $\\epsilon$, o greedy con probabilidad $1-\\epsilon$ (escoger la acción con el Q-value más alto).\n",
        "\n",
        "-- Se sugiere iniciar con un $\\epsilon$ en 1 y se va reduciendo hasta 0.05.\n",
        "\n",
        "-- **Q-Learning** usando función de exploración:\n",
        "\n",
        "\n",
        "$$Q(s,a)\\leftarrow_\\alpha r + \\gamma \\max_{a'} f\\left(Q(s',a'),N(s',a')\\right) $$\n",
        "\n",
        "- $N(s',a'):$ conteo del número de veces que la acción $a'$ fue escogida en estado $s'$\n",
        "- $f(Q,N):$ es una función de exploración, tal que: $f(Q,N)=Q + \\kappa/(1+N),$ siendo $\\kappa$ un hiperpárametro de curiosidad."
      ],
      "metadata": {
        "id": "zOFzTfa2EFuF"
      }
    },
    {
      "cell_type": "markdown",
      "source": [
        "# Q-Learning aproximado y Deep Q-Learning\n",
        "\n",
        "-- Q-Learning no es flexible para MDP grandes (NO ESCALABLE).\n",
        "\n",
        "-- Ejemplo Ms. Pac-Man :\n",
        " - 150  galletas (cada una puede estar disponible o no).\n",
        " - Posibles estados $2^{150} \\approx 10^{45}$\n",
        " - Incluya todas las posibles combinaciones de posiciones de Pac-Man, fantasmas, galletas, **los posibles estados son inmanejables!**\n",
        "\n",
        "-- **No es posible calcular todos los Q-Value**\n",
        "\n",
        "-- **Solución:** Encontrar una aproximación (Approximate Q-Learning) $Q_\\theta(s,a) \\approx Q-Value$, con un número manejable de parámetros $\\mathbf{\\theta}.$\n",
        "\n",
        "-- **Alternativa 1**: utilizar combinaciones lineales de características predefinidas, e.j., distancia entre Ms. Pac-Man y fantasmas, galletas, etc.\n",
        "\n",
        "-- **Aleternativa 2**: Utilizar deep learning sin necesidad de imponer características predefinidas ([Playing Atari with Deep Reinforcement Learning-Deep mind en 2013](https://arxiv.org/abs/1312.5602)). [DeepMind website](https://deepmind.google/)\n",
        "\n",
        "-- Deep learning para estimar Q-Value es llamado **Deep Q-Network--(DQN)**\n",
        "\n",
        "-- Deep learning para aproximar Q-Learning es llamado **Deep Q-Learning--(DQL)**\n",
        "\n",
        "-- Partiendo del principio de Bellman, se puede definir el Target Q-Value desde $Q_\\theta$ como:\n",
        "\n",
        "$$Q_{target}(s,a)= r + \\gamma \\max_{a'} Q_\\theta(s',a')$$\n",
        "\n",
        "$r$: reward\n",
        "\n",
        "$\\gamma$: factor de descuento\n",
        "\n",
        "-- Con el Q target se puede implementar una estrategia de entrenamiento basada en *gradiente descendiente*.\n",
        "\n",
        "-- En general se plantea el mse o Huber loss entre el Q-Value estimado y el Q-Value target.\n"
      ],
      "metadata": {
        "id": "ywqcp-15EFuF"
      }
    },
    {
      "cell_type": "markdown",
      "source": [
        "## Implementación DQN:\n",
        "\n",
        "Dado un estado, se estimará por cada acción, la suma de rewards futuros descontados después de jugar dicha acción (sin conocer su salida):"
      ],
      "metadata": {
        "id": "BfnV1WNeEFuF"
      }
    },
    {
      "cell_type": "code",
      "source": [
        "keras.backend.clear_session()\n",
        "tf.random.set_seed(42)\n",
        "np.random.seed(42)\n",
        "\n",
        "env = gym.make(\"CartPole-v1\",render_mode=\"rgb_array\")\n",
        "input_shape = [4] # == env.observation_space.shape\n",
        "n_outputs = 2 # == env.action_space.n\n",
        "\n",
        "model = keras.models.Sequential([\n",
        "    keras.layers.Dense(32, activation=\"elu\", input_shape=input_shape),\n",
        "    keras.layers.Dense(32, activation=\"elu\"),\n",
        "    keras.layers.Dense(n_outputs)\n",
        "])"
      ],
      "metadata": {
        "execution": {
          "iopub.status.busy": "2023-11-06T02:41:28.018865Z",
          "iopub.execute_input": "2023-11-06T02:41:28.019193Z",
          "iopub.status.idle": "2023-11-06T02:41:28.169208Z",
          "shell.execute_reply.started": "2023-11-06T02:41:28.019159Z",
          "shell.execute_reply": "2023-11-06T02:41:28.168180Z"
        },
        "trusted": true,
        "id": "BUD1dTtlEFuF",
        "outputId": "fa5a1219-1dea-414c-d6ee-ad957c3512fa",
        "colab": {
          "base_uri": "https://localhost:8080/"
        }
      },
      "execution_count": null,
      "outputs": [
        {
          "output_type": "stream",
          "name": "stderr",
          "text": [
            "/usr/local/lib/python3.10/dist-packages/gym/core.py:317: DeprecationWarning: \u001b[33mWARN: Initializing wrapper in old step API which returns one bool instead of two. It is recommended to set `new_step_api=True` to use new step API. This will be the default behaviour in future.\u001b[0m\n",
            "  deprecation(\n",
            "/usr/local/lib/python3.10/dist-packages/gym/wrappers/step_api_compatibility.py:39: DeprecationWarning: \u001b[33mWARN: Initializing environment in old step API which returns one bool instead of two. It is recommended to set `new_step_api=True` to use new step API. This will be the default behaviour in future.\u001b[0m\n",
            "  deprecation(\n"
          ]
        }
      ]
    },
    {
      "cell_type": "markdown",
      "source": [
        "-- Para escoger una acción  con DQN, se escoge la acción con el Q-value más grande.\n",
        "\n",
        "-- Sin embargo, para explorar, se selecciona una acción de forma aleatoria con probabilidad `epsilon`."
      ],
      "metadata": {
        "id": "7pO9qwrHEFuF"
      }
    },
    {
      "cell_type": "code",
      "source": [
        "def epsilon_greedy_policy(state, epsilon=0):\n",
        "    if np.random.rand() < epsilon:\n",
        "        return np.random.randint(n_outputs)\n",
        "    else:\n",
        "        Q_values = model.predict(state[np.newaxis])\n",
        "        return np.argmax(Q_values[0])"
      ],
      "metadata": {
        "execution": {
          "iopub.status.busy": "2023-11-06T02:41:28.170584Z",
          "iopub.execute_input": "2023-11-06T02:41:28.171006Z",
          "iopub.status.idle": "2023-11-06T02:41:28.177437Z",
          "shell.execute_reply.started": "2023-11-06T02:41:28.170975Z",
          "shell.execute_reply": "2023-11-06T02:41:28.176117Z"
        },
        "trusted": true,
        "id": "F8Az4AO4EFuF"
      },
      "execution_count": null,
      "outputs": []
    },
    {
      "cell_type": "markdown",
      "source": [
        "-- Se requiere un replay memory.\n",
        "\n",
        "-- El replay memory contiene las experiencias del agente en tuplas: `(obs, action, reward, next_obs, done)`.\n",
        "\n",
        "-- Se usará la `deque` class"
      ],
      "metadata": {
        "id": "LbsLy1paEFuF"
      }
    },
    {
      "cell_type": "code",
      "source": [
        "from collections import deque\n",
        "\n",
        "replay_memory = deque(maxlen=2000)"
      ],
      "metadata": {
        "execution": {
          "iopub.status.busy": "2023-11-06T02:41:28.178728Z",
          "iopub.execute_input": "2023-11-06T02:41:28.179111Z",
          "iopub.status.idle": "2023-11-06T02:41:28.186497Z",
          "shell.execute_reply.started": "2023-11-06T02:41:28.179079Z",
          "shell.execute_reply": "2023-11-06T02:41:28.185587Z"
        },
        "trusted": true,
        "id": "PVyPtbfWEFuF"
      },
      "execution_count": null,
      "outputs": []
    },
    {
      "cell_type": "markdown",
      "source": [
        "-- Se crea una función  para muestrear experiencias desde el replay memory.\n",
        "\n",
        "-- Retornará 5 NumPy arrays: `[obs, actions, rewards, next_obs, dones]`."
      ],
      "metadata": {
        "id": "anyKoMGuEFuF"
      }
    },
    {
      "cell_type": "code",
      "source": [
        "def sample_experiences(batch_size):\n",
        "    indices = np.random.randint(len(replay_memory), size=batch_size)\n",
        "    batch = [replay_memory[index] for index in indices]\n",
        "    states, actions, rewards, next_states, dones = [\n",
        "        np.array([experience[field_index] for experience in batch])\n",
        "        for field_index in range(5)]\n",
        "    return states, actions, rewards, next_states, dones"
      ],
      "metadata": {
        "execution": {
          "iopub.status.busy": "2023-11-06T02:41:28.187786Z",
          "iopub.execute_input": "2023-11-06T02:41:28.188168Z",
          "iopub.status.idle": "2023-11-06T02:41:28.200787Z",
          "shell.execute_reply.started": "2023-11-06T02:41:28.188129Z",
          "shell.execute_reply": "2023-11-06T02:41:28.199983Z"
        },
        "trusted": true,
        "id": "7QSGJZdhEFuM"
      },
      "execution_count": null,
      "outputs": []
    },
    {
      "cell_type": "markdown",
      "source": [
        "-- Se crea una función que usará DQN para jugar un paso y guardar la experiencia en el replay memory:"
      ],
      "metadata": {
        "id": "vg5S-ZucEFuM"
      }
    },
    {
      "cell_type": "code",
      "source": [
        "def play_one_step(env, state, epsilon):\n",
        "    action = epsilon_greedy_policy(state, epsilon)\n",
        "    next_state, reward, done, info = env.step(action)\n",
        "    replay_memory.append((state, action, reward, next_state, done))\n",
        "    return next_state, reward, done, info"
      ],
      "metadata": {
        "execution": {
          "iopub.status.busy": "2023-11-06T02:41:28.202342Z",
          "iopub.execute_input": "2023-11-06T02:41:28.202937Z",
          "iopub.status.idle": "2023-11-06T02:41:28.211142Z",
          "shell.execute_reply.started": "2023-11-06T02:41:28.202903Z",
          "shell.execute_reply": "2023-11-06T02:41:28.210465Z"
        },
        "trusted": true,
        "id": "dV16Ze17EFuM"
      },
      "execution_count": null,
      "outputs": []
    },
    {
      "cell_type": "markdown",
      "source": [
        "-- Se crea una función que muestra algunas experiencias del replay memory y se ejecuta un paso de entrenamiento:"
      ],
      "metadata": {
        "id": "ZWhy9vfsEFuN"
      }
    },
    {
      "cell_type": "code",
      "source": [
        "batch_size = 32\n",
        "discount_rate = 0.95\n",
        "optimizer = keras.optimizers.Adam(lr=1e-2)\n",
        "loss_fn = keras.losses.mean_squared_error\n",
        "\n",
        "def training_step(batch_size):\n",
        "    experiences = sample_experiences(batch_size)\n",
        "    states, actions, rewards, next_states, dones = experiences\n",
        "    next_Q_values = model.predict(next_states)\n",
        "    max_next_Q_values = np.max(next_Q_values, axis=1)\n",
        "    target_Q_values = (rewards +\n",
        "                       (1 - dones) * discount_rate * max_next_Q_values)\n",
        "    target_Q_values = target_Q_values.reshape(-1, 1)\n",
        "    mask = tf.one_hot(actions, n_outputs)\n",
        "   # print(f\"\\n{states.shape}\\n\")\n",
        "    with tf.GradientTape() as tape:\n",
        "        all_Q_values = model(tf.convert_to_tensor(states))\n",
        "        Q_values = tf.reduce_sum(all_Q_values * mask, axis=1, keepdims=True)\n",
        "        loss = tf.reduce_mean(loss_fn(target_Q_values, Q_values))\n",
        "    grads = tape.gradient(loss, model.trainable_variables)\n",
        "    optimizer.apply_gradients(zip(grads, model.trainable_variables))"
      ],
      "metadata": {
        "execution": {
          "iopub.status.busy": "2023-11-06T02:41:28.212056Z",
          "iopub.execute_input": "2023-11-06T02:41:28.212885Z",
          "iopub.status.idle": "2023-11-06T02:41:28.227667Z",
          "shell.execute_reply.started": "2023-11-06T02:41:28.212854Z",
          "shell.execute_reply": "2023-11-06T02:41:28.226874Z"
        },
        "trusted": true,
        "id": "P6a-qHnxEFuN",
        "outputId": "64430c6b-6995-427b-f8fa-836f1bffea19",
        "colab": {
          "base_uri": "https://localhost:8080/"
        }
      },
      "execution_count": null,
      "outputs": [
        {
          "output_type": "stream",
          "name": "stderr",
          "text": [
            "WARNING:absl:`lr` is deprecated in Keras optimizer, please use `learning_rate` or use the legacy optimizer, e.g.,tf.keras.optimizers.legacy.Adam.\n"
          ]
        }
      ]
    },
    {
      "cell_type": "code",
      "source": [
        "\n",
        "np.random.seed(42)\n",
        "tf.random.set_seed(42)\n",
        "\n",
        "rewards = []\n",
        "best_score = 0"
      ],
      "metadata": {
        "execution": {
          "iopub.status.busy": "2023-11-06T02:41:28.228788Z",
          "iopub.execute_input": "2023-11-06T02:41:28.229485Z",
          "iopub.status.idle": "2023-11-06T02:41:28.236551Z",
          "shell.execute_reply.started": "2023-11-06T02:41:28.229459Z",
          "shell.execute_reply": "2023-11-06T02:41:28.235624Z"
        },
        "trusted": true,
        "id": "WLFwXNmbEFuN"
      },
      "execution_count": null,
      "outputs": []
    },
    {
      "cell_type": "code",
      "source": [
        "num_episodes = 600\n",
        "for episode in range(num_episodes):\n",
        "#    print(f\"\\n{episode}/{num_episodes}\\n\")\n",
        "    obs = env.reset()\n",
        "    for step in range(200):\n",
        "        epsilon = max(1 - episode / 500, 0.01)\n",
        "        obs, reward, done, info = play_one_step(env, obs, epsilon)\n",
        "        if done:\n",
        "            break\n",
        "    rewards.append(step)\n",
        "    if step >= best_score:\n",
        "        best_weights = model.get_weights()\n",
        "        best_score = step\n",
        "    print(\"\\rEpisode: {}, Steps: {}, eps: {:.3f}\".format(episode, step + 1, epsilon)) # Not shown\n",
        "    if episode > 50:\n",
        "        training_step(batch_size)\n",
        "\n",
        "model.set_weights(best_weights)"
      ],
      "metadata": {
        "execution": {
          "iopub.status.busy": "2023-11-06T03:00:01.079380Z",
          "iopub.execute_input": "2023-11-06T03:00:01.079757Z",
          "iopub.status.idle": "2023-11-06T03:11:33.329651Z",
          "shell.execute_reply.started": "2023-11-06T03:00:01.079725Z",
          "shell.execute_reply": "2023-11-06T03:11:33.328582Z"
        },
        "trusted": true,
        "id": "CsgIWPcmEFuN",
        "outputId": "26109b8c-c907-4cbd-8ac6-3f4aa58962c1",
        "colab": {
          "base_uri": "https://localhost:8080/"
        }
      },
      "execution_count": null,
      "outputs": [
        {
          "output_type": "stream",
          "name": "stdout",
          "text": [
            "\rEpisode: 0, Steps: 18, eps: 1.000\n",
            "Episode: 1, Steps: 17, eps: 0.998\n",
            "Episode: 2, Steps: 16, eps: 0.996\n",
            "Episode: 3, Steps: 18, eps: 0.994\n",
            "Episode: 4, Steps: 24, eps: 0.992\n",
            "Episode: 5, Steps: 20, eps: 0.990\n",
            "Episode: 6, Steps: 26, eps: 0.988\n",
            "Episode: 7, Steps: 16, eps: 0.986\n",
            "Episode: 8, Steps: 13, eps: 0.984\n",
            "1/1 [==============================] - 0s 279ms/step\n",
            "Episode: 9, Steps: 48, eps: 0.982\n",
            "Episode: 10, Steps: 77, eps: 0.980\n",
            "Episode: 11, Steps: 15, eps: 0.978\n",
            "1/1 [==============================] - 0s 33ms/step\n",
            "Episode: 12, Steps: 30, eps: 0.976\n",
            "1/1 [==============================] - 0s 31ms/step\n",
            "Episode: 13, Steps: 13, eps: 0.974\n",
            "1/1 [==============================] - 0s 35ms/step\n",
            "1/1 [==============================] - 0s 34ms/step\n",
            "Episode: 14, Steps: 12, eps: 0.972\n",
            "Episode: 15, Steps: 14, eps: 0.970\n",
            "1/1 [==============================] - 0s 43ms/step\n",
            "Episode: 16, Steps: 31, eps: 0.968\n",
            "Episode: 17, Steps: 12, eps: 0.966\n",
            "Episode: 18, Steps: 16, eps: 0.964\n",
            "1/1 [==============================] - 0s 106ms/step\n",
            "1/1 [==============================] - 0s 53ms/step\n",
            "1/1 [==============================] - 0s 29ms/step\n",
            "Episode: 19, Steps: 79, eps: 0.962\n",
            "Episode: 20, Steps: 26, eps: 0.960\n",
            "1/1 [==============================] - 0s 32ms/step\n",
            "Episode: 21, Steps: 10, eps: 0.958\n",
            "1/1 [==============================] - 0s 20ms/step\n",
            "Episode: 22, Steps: 20, eps: 0.956\n",
            "Episode: 23, Steps: 20, eps: 0.954\n",
            "Episode: 24, Steps: 18, eps: 0.952\n",
            "1/1 [==============================] - 0s 28ms/step\n",
            "Episode: 25, Steps: 31, eps: 0.950\n",
            "1/1 [==============================] - 0s 68ms/step\n",
            "1/1 [==============================] - 0s 30ms/step\n",
            "Episode: 26, Steps: 14, eps: 0.948\n",
            "1/1 [==============================] - 0s 28ms/step\n",
            "Episode: 27, Steps: 11, eps: 0.946\n",
            "1/1 [==============================] - 0s 29ms/step\n",
            "1/1 [==============================] - 0s 31ms/step\n",
            "Episode: 28, Steps: 11, eps: 0.944\n",
            "Episode: 29, Steps: 29, eps: 0.942\n",
            "1/1 [==============================] - 0s 47ms/step\n",
            "1/1 [==============================] - 0s 32ms/step\n",
            "Episode: 30, Steps: 20, eps: 0.940\n",
            "1/1 [==============================] - 0s 72ms/step\n",
            "1/1 [==============================] - 0s 71ms/step\n",
            "Episode: 31, Steps: 14, eps: 0.938\n",
            "1/1 [==============================] - 0s 63ms/step\n",
            "Episode: 32, Steps: 17, eps: 0.936\n",
            "1/1 [==============================] - 0s 96ms/step\n",
            "1/1 [==============================] - 0s 77ms/step\n",
            "1/1 [==============================] - 0s 118ms/step\n",
            "Episode: 33, Steps: 57, eps: 0.934\n",
            "1/1 [==============================] - 0s 61ms/step\n",
            "1/1 [==============================] - 0s 67ms/step\n",
            "1/1 [==============================] - 0s 107ms/step\n",
            "1/1 [==============================] - 0s 50ms/step\n",
            "Episode: 34, Steps: 17, eps: 0.932\n",
            "1/1 [==============================] - 0s 31ms/step\n",
            "Episode: 35, Steps: 14, eps: 0.930\n",
            "1/1 [==============================] - 0s 45ms/step\n",
            "Episode: 36, Steps: 12, eps: 0.928\n",
            "1/1 [==============================] - 0s 34ms/step\n",
            "1/1 [==============================] - 0s 29ms/step\n",
            "1/1 [==============================] - 0s 17ms/step\n",
            "1/1 [==============================] - 0s 26ms/step\n",
            "1/1 [==============================] - 0s 19ms/step\n",
            "Episode: 37, Steps: 27, eps: 0.926\n",
            "1/1 [==============================] - 0s 18ms/step\n",
            "Episode: 38, Steps: 25, eps: 0.924\n",
            "1/1 [==============================] - 0s 20ms/step\n",
            "1/1 [==============================] - 0s 24ms/step\n",
            "Episode: 39, Steps: 51, eps: 0.922\n",
            "1/1 [==============================] - 0s 17ms/step\n",
            "Episode: 40, Steps: 16, eps: 0.920\n",
            "Episode: 41, Steps: 29, eps: 0.918\n",
            "1/1 [==============================] - 0s 17ms/step\n",
            "Episode: 42, Steps: 12, eps: 0.916\n",
            "Episode: 43, Steps: 16, eps: 0.914\n",
            "1/1 [==============================] - 0s 18ms/step\n",
            "Episode: 44, Steps: 11, eps: 0.912\n",
            "1/1 [==============================] - 0s 23ms/step\n",
            "1/1 [==============================] - 0s 20ms/step\n",
            "Episode: 45, Steps: 34, eps: 0.910\n",
            "1/1 [==============================] - 0s 18ms/step\n",
            "1/1 [==============================] - 0s 19ms/step\n",
            "Episode: 46, Steps: 18, eps: 0.908\n",
            "1/1 [==============================] - 0s 20ms/step\n",
            "Episode: 47, Steps: 23, eps: 0.906\n",
            "1/1 [==============================] - 0s 24ms/step\n",
            "1/1 [==============================] - 0s 17ms/step\n",
            "Episode: 48, Steps: 12, eps: 0.904\n",
            "1/1 [==============================] - 0s 21ms/step\n",
            "Episode: 49, Steps: 20, eps: 0.902\n",
            "1/1 [==============================] - 0s 20ms/step\n",
            "1/1 [==============================] - 0s 18ms/step\n",
            "Episode: 50, Steps: 20, eps: 0.900\n",
            "1/1 [==============================] - 0s 20ms/step\n",
            "1/1 [==============================] - 0s 19ms/step\n",
            "Episode: 51, Steps: 22, eps: 0.898\n",
            "1/1 [==============================] - 0s 85ms/step\n",
            "1/1 [==============================] - 0s 18ms/step\n",
            "1/1 [==============================] - 0s 17ms/step\n",
            "Episode: 52, Steps: 19, eps: 0.896\n",
            "1/1 [==============================] - 0s 17ms/step\n",
            "1/1 [==============================] - 0s 19ms/step\n",
            "1/1 [==============================] - 0s 17ms/step\n",
            "Episode: 53, Steps: 16, eps: 0.894\n",
            "1/1 [==============================] - 0s 17ms/step\n",
            "1/1 [==============================] - 0s 19ms/step\n",
            "Episode: 54, Steps: 12, eps: 0.892\n",
            "1/1 [==============================] - 0s 20ms/step\n",
            "Episode: 55, Steps: 11, eps: 0.890\n",
            "1/1 [==============================] - 0s 21ms/step\n",
            "1/1 [==============================] - 0s 17ms/step\n",
            "1/1 [==============================] - 0s 17ms/step\n",
            "1/1 [==============================] - 0s 19ms/step\n",
            "1/1 [==============================] - 0s 21ms/step\n",
            "Episode: 56, Steps: 17, eps: 0.888\n",
            "1/1 [==============================] - 0s 19ms/step\n",
            "Episode: 57, Steps: 11, eps: 0.886\n",
            "1/1 [==============================] - 0s 17ms/step\n",
            "Episode: 58, Steps: 9, eps: 0.884\n",
            "1/1 [==============================] - 0s 21ms/step\n",
            "1/1 [==============================] - 0s 19ms/step\n",
            "1/1 [==============================] - 0s 19ms/step\n",
            "1/1 [==============================] - 0s 18ms/step\n",
            "Episode: 59, Steps: 20, eps: 0.882\n",
            "1/1 [==============================] - 0s 17ms/step\n",
            "1/1 [==============================] - 0s 20ms/step\n",
            "1/1 [==============================] - 0s 22ms/step\n",
            "Episode: 60, Steps: 18, eps: 0.880\n",
            "1/1 [==============================] - 0s 16ms/step\n",
            "Episode: 61, Steps: 9, eps: 0.878\n",
            "1/1 [==============================] - 0s 18ms/step\n",
            "Episode: 62, Steps: 15, eps: 0.876\n",
            "1/1 [==============================] - 0s 17ms/step\n",
            "1/1 [==============================] - 0s 18ms/step\n",
            "1/1 [==============================] - 0s 20ms/step\n",
            "1/1 [==============================] - 0s 18ms/step\n",
            "Episode: 63, Steps: 29, eps: 0.874\n",
            "1/1 [==============================] - 0s 17ms/step\n",
            "Episode: 64, Steps: 10, eps: 0.872\n",
            "1/1 [==============================] - 0s 17ms/step\n",
            "1/1 [==============================] - 0s 18ms/step\n",
            "1/1 [==============================] - 0s 17ms/step\n",
            "1/1 [==============================] - 0s 19ms/step\n",
            "Episode: 65, Steps: 29, eps: 0.870\n",
            "1/1 [==============================] - 0s 17ms/step\n",
            "1/1 [==============================] - 0s 22ms/step\n",
            "1/1 [==============================] - 0s 18ms/step\n",
            "1/1 [==============================] - 0s 18ms/step\n",
            "1/1 [==============================] - 0s 21ms/step\n",
            "1/1 [==============================] - 0s 21ms/step\n",
            "1/1 [==============================] - 0s 18ms/step\n",
            "Episode: 66, Steps: 47, eps: 0.868\n",
            "1/1 [==============================] - 0s 16ms/step\n",
            "Episode: 67, Steps: 10, eps: 0.866\n",
            "1/1 [==============================] - 0s 25ms/step\n",
            "1/1 [==============================] - 0s 20ms/step\n",
            "1/1 [==============================] - 0s 22ms/step\n",
            "1/1 [==============================] - 0s 19ms/step\n",
            "1/1 [==============================] - 0s 18ms/step\n",
            "1/1 [==============================] - 0s 19ms/step\n",
            "Episode: 68, Steps: 34, eps: 0.864\n",
            "1/1 [==============================] - 0s 16ms/step\n",
            "1/1 [==============================] - 0s 18ms/step\n",
            "1/1 [==============================] - 0s 17ms/step\n",
            "1/1 [==============================] - 0s 18ms/step\n",
            "1/1 [==============================] - 0s 18ms/step\n",
            "1/1 [==============================] - 0s 18ms/step\n",
            "Episode: 69, Steps: 36, eps: 0.862\n",
            "1/1 [==============================] - 0s 18ms/step\n",
            "1/1 [==============================] - 0s 18ms/step\n"
          ]
        }
      ]
    },
    {
      "cell_type": "code",
      "source": [
        "plt.figure(figsize=(8, 4))\n",
        "plt.plot(rewards)\n",
        "plt.xlabel(\"Episode\", fontsize=14)\n",
        "plt.ylabel(\"Sum of rewards\", fontsize=14)\n",
        "save_fig(\"dqn_rewards_plot\")\n",
        "plt.show()"
      ],
      "metadata": {
        "execution": {
          "iopub.status.busy": "2023-11-06T03:20:02.893967Z",
          "iopub.execute_input": "2023-11-06T03:20:02.894798Z",
          "iopub.status.idle": "2023-11-06T03:20:03.411853Z",
          "shell.execute_reply.started": "2023-11-06T03:20:02.894746Z",
          "shell.execute_reply": "2023-11-06T03:20:03.410845Z"
        },
        "trusted": true,
        "id": "jEntZWauEFuN",
        "outputId": "78122680-def4-49e2-ee9e-f72626f28099",
        "colab": {
          "base_uri": "https://localhost:8080/",
          "height": 425
        }
      },
      "execution_count": null,
      "outputs": [
        {
          "output_type": "stream",
          "name": "stdout",
          "text": [
            "Saving figure dqn_rewards_plot\n"
          ]
        },
        {
          "output_type": "display_data",
          "data": {
            "text/plain": [
              "<Figure size 800x400 with 1 Axes>"
            ],
            "image/png": "[encoded data removed]"
          },
          "metadata": {}
        }
      ]
    },
    {
      "cell_type": "code",
      "source": [
        "def render_policy_net(model, n_max_steps=200, seed=42):\n",
        "    frames = []\n",
        "    env = gym.make('CartPole-v1',render_mode=\"rgb_array\")\n",
        "    np.random.seed(seed)\n",
        "    obs,_ = env.reset(seed=seed)\n",
        "    for step in range(n_max_steps):\n",
        "        frames.append(env.render())\n",
        "        left_proba = model.predict(obs.reshape(1, -1))\n",
        "        action = int(np.random.rand() > left_proba)\n",
        "        obs, reward, done, trun, info = env.step(action)\n",
        "        if done:\n",
        "            break\n",
        "    env.close()\n",
        "    return frames\n",
        "\n",
        "def update_scene(num, frames, patch):\n",
        "    patch.set_data(frames[num])\n",
        "    return patch\n",
        "\n",
        "def plot_animation(frames, repeat=False, interval=40):\n",
        "    fig = plt.figure()\n",
        "    patch = plt.imshow(frames[0])\n",
        "    plt.axis('off')\n",
        "    anim = animation.FuncAnimation(\n",
        "        fig, update_scene, fargs=(frames, patch),\n",
        "        frames=len(frames), repeat=repeat, interval=interval)\n",
        "    plt.close()\n",
        "    return anim\n",
        "\n",
        "state,_ = env.reset(seed=42)\n",
        "\n",
        "frames = []\n",
        "\n",
        "for step in range(200):\n",
        "    action = epsilon_greedy_policy(state)\n",
        "    state, reward, done, trun, info = env.step(action)\n",
        "    if done:\n",
        "        break\n",
        "    img = env.render()\n",
        "    frames.append(img)\n",
        "\n",
        "plot_animation(frames)"
      ],
      "metadata": {
        "execution": {
          "iopub.status.busy": "2023-11-06T03:20:08.540287Z",
          "iopub.execute_input": "2023-11-06T03:20:08.540657Z",
          "iopub.status.idle": "2023-11-06T03:20:13.219752Z",
          "shell.execute_reply.started": "2023-11-06T03:20:08.540629Z",
          "shell.execute_reply": "2023-11-06T03:20:13.218246Z"
        },
        "trusted": true,
        "id": "OhsIJLB7EFuN"
      },
      "execution_count": null,
      "outputs": []
    },
    {
      "cell_type": "code",
      "source": [],
      "metadata": {
        "id": "nnRmMLCIEFuN"
      },
      "execution_count": null,
      "outputs": []
    }
  ]
}